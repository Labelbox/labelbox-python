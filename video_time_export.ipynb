{
  "nbformat": 4,
  "nbformat_minor": 0,
  "metadata": {
    "colab": {
      "name": "video_time_export.ipynb",
      "provenance": [],
      "collapsed_sections": [],
      "authorship_tag": "ABX9TyN1d90zRKWLPFhENrDSIrsR",
      "include_colab_link": true
    },
    "kernelspec": {
      "name": "python3",
      "display_name": "Python 3"
    },
    "language_info": {
      "name": "python"
    }
  },
  "cells": [
    {
      "cell_type": "markdown",
      "metadata": {
        "id": "view-in-github",
        "colab_type": "text"
      },
      "source": [
        "<a href=\"https://colab.research.google.com/github/jtsodapop/labelbox-python/blob/master/video_time_export.ipynb\" target=\"_parent\"><img src=\"https://colab.research.google.com/assets/colab-badge.svg\" alt=\"Open In Colab\"/></a>"
      ]
    },
    {
      "cell_type": "markdown",
      "metadata": {
        "id": "ljF_aA63xHz5"
      },
      "source": [
        "# P&G Video Time Export\n",
        "This colab will parse a project's video labels and return the total amount of time in seconds each ontology tool object is part of that label.\n",
        "\n",
        "Running the code below will result in a locally saved CSV file.\n",
        "\n",
        "The required fields are the following:\n",
        "* LABELBOX_API_KEY\n",
        "* project_id"
      ]
    },
    {
      "cell_type": "code",
      "metadata": {
        "id": "sHTU2yFmZIrH"
      },
      "source": [
        "!pip install labelbox\n",
        "!pip install pandas\n",
        "!pip install numpy\n",
        "!pip install opencv-python\n",
        "!pip install requests\n",
        "!pip install ndjson"
      ],
      "execution_count": null,
      "outputs": []
    },
    {
      "cell_type": "code",
      "metadata": {
        "id": "vRVr7WMMbard"
      },
      "source": [
        "from labelbox import Project, Dataset, DataRow, Client\n",
        "import pandas as pd\n",
        "import numpy as np\n",
        "import cv2\n",
        "import os\n",
        "import requests\n",
        "import ndjson\n",
        "from google.colab import files"
      ],
      "execution_count": null,
      "outputs": []
    },
    {
      "cell_type": "code",
      "metadata": {
        "id": "qdYDGn79bQY3"
      },
      "source": [
        "# you will need to input the API key and project id here\n",
        "LABELBOX_API_KEY = \"API_KEY\"\n",
        "project_id = \"PROJECT_ID\""
      ],
      "execution_count": null,
      "outputs": []
    },
    {
      "cell_type": "code",
      "metadata": {
        "id": "jpCVPFuZcYGE"
      },
      "source": [
        "header = {\"Authorization\": f\"Bearer {LABELBOX_API_KEY}\"}\n",
        "\n",
        "ENDPOINT = \"https://api.labelbox.com/graphql\"\n",
        "client = Client(api_key=LABELBOX_API_KEY, endpoint=ENDPOINT)\n",
        "project = client.get_project(project_id=project_id)"
      ],
      "execution_count": null,
      "outputs": []
    },
    {
      "cell_type": "code",
      "metadata": {
        "id": "ymZOoqBQf2DI"
      },
      "source": [
        "# generation of the dataframe which will hold our values \n",
        "# based on our ontology and additional columns\n",
        "ontology = project.ontology().normalized\n",
        "ontology_tools = [tool['name'].lower() for tool in ontology['tools']]\n",
        "\n",
        "frame_data_df = pd.DataFrame(columns=['created_by','label_id','total_time(s)'])\n",
        "for tool in ontology_tools:\n",
        "  frame_data_df[tool] = np.nan"
      ],
      "execution_count": null,
      "outputs": []
    },
    {
      "cell_type": "code",
      "metadata": {
        "id": "h6tHRg56dES3"
      },
      "source": [
        "labels_url = project.export_labels()\n",
        "labels = requests.get(labels_url).json()\n",
        "\n",
        "#loop through each label and find the amount of time each annotation is present\n",
        "for label in labels:\n",
        "  vidcap = cv2.VideoCapture(label['Labeled Data'])\n",
        "  fps = vidcap.get(cv2.CAP_PROP_FPS)\n",
        "  frame_count = int(vidcap.get(cv2.CAP_PROP_FRAME_COUNT))\n",
        "  vidcap.release()\n",
        "\n",
        "  #in case there are un-saved or skipped labels\n",
        "  annotations_url = label['Label'].get('frames', None)\n",
        "  if annotations_url:\n",
        "    annotations = ndjson.loads(requests.get(annotations_url, headers=header).text)\n",
        "    annotations = {\n",
        "        annotation[\"frameNumber\"]: annotation\n",
        "        for annotation in annotations\n",
        "    }\n",
        "\n",
        "    in_frame = {}\n",
        "    for frame, annotation in annotations.items():\n",
        "        for obj in annotation['objects']:\n",
        "            if obj['value'].lower() in in_frame:\n",
        "                in_frame[obj['value'].lower()] += 1 / fps\n",
        "            else:\n",
        "                in_frame.update({obj['value'].lower(): 1 / fps})\n",
        "\n",
        "    in_frame['created_by'] = label['Created By']\n",
        "    in_frame['label_id'] = label['ID']\n",
        "    in_frame['total_time(s)'] = frame_count / fps\n",
        "\n",
        "    frame_data_df = frame_data_df.append(in_frame, ignore_index=True)"
      ],
      "execution_count": null,
      "outputs": []
    },
    {
      "cell_type": "code",
      "metadata": {
        "id": "se9KMrUhepMf"
      },
      "source": [
        "frame_data_df.fillna(0, inplace=True)\n",
        "\n",
        "#create downloadable csv file with project id\n",
        "frame_data_df.to_csv(f'project_{project_id}_labels.csv', index=False)\n",
        "files.download(f'project_{project_id}_labels.csv')"
      ],
      "execution_count": null,
      "outputs": []
    }
  ]
}