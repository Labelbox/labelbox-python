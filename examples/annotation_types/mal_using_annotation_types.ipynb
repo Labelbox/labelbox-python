{
 "cells": [
  {
   "cell_type": "markdown",
   "id": "stupid-court",
   "metadata": {},
   "source": [
    "# MAL Using Annotation Types\n",
    "* Image MAL with subclasses.\n",
    "* This is the same task as the image mal tutorial but we are going to use annnotation types"
   ]
  },
  {
   "cell_type": "code",
   "execution_count": null,
   "id": "danish-compatibility",
   "metadata": {},
   "outputs": [],
   "source": [
    "!pip install \"labelbox[data]\""
   ]
  },
  {
   "cell_type": "code",
   "execution_count": null,
   "id": "honey-elevation",
   "metadata": {},
   "outputs": [],
   "source": [
    "# Run these if running in a colab notebook\n",
    "COLAB = \"google.colab\" in str(get_ipython())\n",
    "if COLAB:\n",
    "    !git clone https://github.com/Labelbox/labelbox-python.git\n",
    "    !mv labelbox-python/examples/model_assisted_labeling/image_model.py .\n",
    "else:\n",
    "    import sys\n",
    "    sys.path.append('../model_assisted_labeling')"
   ]
  },
  {
   "cell_type": "code",
   "execution_count": null,
   "id": "committed-richards",
   "metadata": {},
   "outputs": [],
   "source": [
    "#Used this as a reference for the model\n",
    "#https://colab.research.google.com/github/tensorflow/tpu/blob/master/models/official/mask_rcnn/mask_rcnn_demo.ipynb#scrollTo=6lCL-ZcwaJbA\n",
    "import numpy as np\n",
    "from PIL import Image\n",
    "import requests\n",
    "import ndjson\n",
    "import uuid\n",
    "from io import BytesIO\n",
    "import os\n",
    "from getpass import getpass\n",
    "\n",
    "from labelbox import (\n",
    "    Client, \n",
    "    LabelingFrontend, \n",
    "    OntologyBuilder, \n",
    "    Tool, \n",
    "    Classification, \n",
    "    Option\n",
    ")\n",
    "\n",
    "from labelbox.data.annotation_types import (\n",
    "    LabelList,\n",
    "    ImageData,\n",
    "    MaskData,\n",
    "    Rectangle,\n",
    "    ObjectAnnotation,\n",
    "    ClassificationAnnotation,\n",
    "    Point,\n",
    "    ClassificationAnswer,\n",
    "    Radio,\n",
    "    Mask,\n",
    "    Label\n",
    ")\n",
    "from labelbox.data.serialization import NDJsonConverter\n",
    "from image_model import predict, class_mappings, load_model"
   ]
  },
  {
   "cell_type": "code",
   "execution_count": null,
   "id": "hydraulic-paradise",
   "metadata": {},
   "outputs": [],
   "source": [
    "# If you don't want to give google access to drive you can skip this cell\n",
    "# and manually set `API_KEY` below.\n",
    "if COLAB:\n",
    "    !pip install colab-env -qU\n",
    "    from colab_env import envvar_handler\n",
    "    envvar_handler.envload()\n",
    "\n",
    "API_KEY = os.environ.get(\"LABELBOX_API_KEY\")\n",
    "if not os.environ.get(\"LABELBOX_API_KEY\"):\n",
    "    API_KEY = getpass(\"Please enter your labelbox api key\")\n",
    "    if COLAB:\n",
    "        envvar_handler.add_env(\"LABELBOX_API_KEY\", API_KEY)"
   ]
  },
  {
   "cell_type": "code",
   "execution_count": null,
   "id": "exclusive-elephant",
   "metadata": {},
   "outputs": [],
   "source": [
    "# Set this if running in colab. Otherwise it should work if you have the LABELBOX_API_KEY set.\n",
    "API_KEY = os.environ[\"LABELBOX_API_KEY\"]\n",
    "# Only update this if you have an on-prem deployment\n",
    "ENDPOINT = \"https://api.labelbox.com/graphql\""
   ]
  },
  {
   "cell_type": "code",
   "execution_count": null,
   "id": "polyphonic-consensus",
   "metadata": {},
   "outputs": [],
   "source": [
    "client = Client(api_key=API_KEY, endpoint=ENDPOINT)"
   ]
  },
  {
   "cell_type": "code",
   "execution_count": null,
   "id": "emotional-origin",
   "metadata": {},
   "outputs": [],
   "source": [
    "#Downloads weights and loads the model.\n",
    "load_model()"
   ]
  },
  {
   "cell_type": "markdown",
   "id": "polish-soundtrack",
   "metadata": {},
   "source": [
    "## Create Predictions\n",
    "* Create helper functions for processing the model outputs\n",
    "* Make predictions\n",
    "* Add predictions to a LabelList object"
   ]
  },
  {
   "cell_type": "code",
   "execution_count": null,
   "id": "interested-joyce",
   "metadata": {},
   "outputs": [],
   "source": [
    "def has_bag(person, bags):\n",
    "    for bag in bags:\n",
    "        if person.value.shapely.contains(bag.value.shapely.centroid):\n",
    "            return True\n",
    "    return False    \n",
    "\n",
    "def get_annotations(boxes, classes, seg_masks):\n",
    "    annotations = []\n",
    "    for box, class_idx, seg in zip(boxes, classes, seg_masks):\n",
    "        name = class_mappings[class_idx]\n",
    "        value = None\n",
    "        classifications = []\n",
    "        if name in ['person', 'handbag']:\n",
    "            value = Rectangle(\n",
    "                start = Point(x = box[1], y = box[0]), end = Point(x = box[3], y = box[2])\n",
    "            )\n",
    "        elif name == 'car':\n",
    "            value = Mask(mask = MaskData.from_2D_arr(arr = seg), color = (1,1,1))\n",
    "        if value is not None:\n",
    "            annotations.append(\n",
    "                ObjectAnnotation(\n",
    "                    name = name,\n",
    "                    value = value\n",
    "                )\n",
    "            ) \n",
    "    return annotations\n",
    "\n",
    "def update_bag_classifications(annotations):\n",
    "    bags = [annot for annot in annotations if annot.name == 'handbag']\n",
    "    people = [annot for annot in annotations if annot.name == 'person']\n",
    "    for person in people:\n",
    "        person.classifications = [ClassificationAnnotation(\n",
    "            name = 'has_bag',\n",
    "            value = Radio(answer = ClassificationAnswer(name = str(has_bag(person, bags))))\n",
    "        )]\n"
   ]
  },
  {
   "cell_type": "code",
   "execution_count": null,
   "id": "interstate-louisiana",
   "metadata": {},
   "outputs": [],
   "source": [
    "# We can just start creating predictions whether or not we have a configured project in labelbox\n",
    "image_urls = ['https://raw.githubusercontent.com/Labelbox/labelbox-python/develop/examples/assets/2560px-Kitano_Street_Kobe01s5s4110.jpg']\n",
    "\n",
    "labellist = LabelList()\n",
    "for image_url in image_urls:\n",
    "    image_data = ImageData(url = image_url)\n",
    "    height, width = image_data.value.shape[:2]\n",
    "    prediction = predict(np.array([image_data.im_bytes]), min_score=0.5, height=height, width = width)\n",
    "    annotations = get_annotations(prediction['boxes'], prediction['class_indices'], prediction['seg_masks'])\n",
    "    update_bag_classifications(annotations)\n",
    "    labellist.append(Label(\n",
    "        data = image_data,\n",
    "        annotations = annotations\n",
    "    ))"
   ]
  },
  {
   "cell_type": "markdown",
   "id": "blessed-venture",
   "metadata": {},
   "source": [
    "## Project Setup\n",
    "* Create project\n",
    "* Use labellist.get_ontology() to automatically create the OntologyBuilder"
   ]
  },
  {
   "cell_type": "code",
   "execution_count": null,
   "id": "modern-program",
   "metadata": {},
   "outputs": [],
   "source": [
    "# Lets setup a project to label\n",
    "# Note see Ontology, Project, and Project_setup notebooks for more information on this section.\n",
    "project = client.create_project(name=\"mal_project\")\n",
    "dataset = client.create_dataset(name=\"mal_dataset\")\n",
    "editor = next(\n",
    "    client.get_labeling_frontends(where=LabelingFrontend.name == 'editor'))\n",
    "# Use the label collection to build the ontology\n",
    "project.setup(editor, labellist.get_ontology().asdict())\n",
    "project.datasets.connect(dataset)\n",
    "project.enable_model_assisted_labeling()"
   ]
  },
  {
   "cell_type": "markdown",
   "id": "mechanical-functionality",
   "metadata": {},
   "source": [
    "## Prepare for upload\n",
    "* Our local annotations need the following:\n",
    "    1. signed url for segmentation masks\n",
    "    2. data rows in labelbox\n",
    "    3. feature schema ids"
   ]
  },
  {
   "cell_type": "code",
   "execution_count": null,
   "id": "vietnamese-kingdom",
   "metadata": {},
   "outputs": [],
   "source": [
    "signer = lambda _bytes: client.upload_data(content=_bytes, sign=True)\n",
    "labellist.add_url_to_masks(signer) \\\n",
    "         .add_url_to_data(signer) \\\n",
    "         .assign_feature_schema_ids(OntologyBuilder.from_project(project)) \\\n",
    "         .add_to_dataset(dataset, signer)"
   ]
  },
  {
   "cell_type": "markdown",
   "id": "portable-grenada",
   "metadata": {},
   "source": [
    "## Convert to Prediction import format (NDJson)\n",
    "* We want to create a json payload that matches this: https://docs.labelbox.com/data-model/en/index-en#annotations\n",
    "* We can use the NDJsonConverter to turn our labellist containg predictions into ndjson"
   ]
  },
  {
   "cell_type": "code",
   "execution_count": null,
   "id": "multiple-values",
   "metadata": {},
   "outputs": [],
   "source": [
    "ndjsons = list(NDJsonConverter.serialize(labellist))\n",
    "print(ndjsons[0])"
   ]
  },
  {
   "cell_type": "markdown",
   "id": "dried-library",
   "metadata": {},
   "source": [
    "## Upload the annotations"
   ]
  },
  {
   "cell_type": "code",
   "execution_count": null,
   "id": "deluxe-behavior",
   "metadata": {},
   "outputs": [],
   "source": [
    "upload_task = project.upload_annotations(name=f\"upload-job-{uuid.uuid4()}\",\n",
    "                                         annotations=ndjsons,\n",
    "                                         validate=True)\n",
    "# Wait for upload to finish\n",
    "upload_task.wait_until_done()"
   ]
  },
  {
   "cell_type": "code",
   "execution_count": null,
   "id": "clean-friday",
   "metadata": {},
   "outputs": [],
   "source": [
    "# Review the upload status\n",
    "for status in upload_task.statuses[:5]:\n",
    "    print(status)"
   ]
  }
 ],
 "metadata": {
  "kernelspec": {
   "display_name": "Python 3 (ipykernel)",
   "language": "python",
   "name": "python3"
  },
  "language_info": {
   "codemirror_mode": {
    "name": "ipython",
    "version": 3
   },
   "file_extension": ".py",
   "mimetype": "text/x-python",
   "name": "python",
   "nbconvert_exporter": "python",
   "pygments_lexer": "ipython3",
   "version": "3.8.2"
  }
 },
 "nbformat": 4,
 "nbformat_minor": 5
}
