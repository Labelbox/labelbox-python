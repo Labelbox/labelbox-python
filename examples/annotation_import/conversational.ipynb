{
 "cells": [
  {
   "cell_type": "markdown",
   "id": "26b9c486",
   "metadata": {
    "id": "26b9c486"
   },
   "source": [
    "<td>\n",
    "   <a target=\"_blank\" href=\"https://labelbox.com\" ><img src=\"https://labelbox.com/blog/content/images/2021/02/logo-v4.svg\" width=256/></a>\n",
    "</td>"
   ]
  },
  {
   "cell_type": "markdown",
   "id": "51eb4b54",
   "metadata": {
    "id": "51eb4b54"
   },
   "source": [
    "<td>\n",
    "<a href=\"https://colab.research.google.com/github/Labelbox/labelbox-python/blob/develop/examples/annotation_import/conversational.ipynb\" target=\"_blank\"><img\n",
    "src=\"https://colab.research.google.com/assets/colab-badge.svg\" alt=\"Open In Colab\"></a>\n",
    "</td>\n",
    "\n",
    "<td>\n",
    "<a href=\"https://github.com/Labelbox/labelbox-python/tree/develop/examples/annotation_import/conversational.ipynb\" target=\"_blank\"><img\n",
    "src=\"https://img.shields.io/badge/GitHub-100000?logo=github&logoColor=white\" alt=\"GitHub\"></a>\n",
    "</td>"
   ]
  },
  {
   "cell_type": "markdown",
   "id": "27d147e7",
   "metadata": {
    "id": "27d147e7"
   },
   "source": [
    "# Conversational Text Annotation Import\n",
    "* This notebook will provide examples of each supported annotation type for conversational text assets, and also  cover MAL and Label Import methods:\n",
    "\n",
    "Suported annotations that can be uploaded through the SDK\n",
    "\n",
    "* Classification Radio \n",
    "* Classification Checklist \n",
    "* Classification Free Text \n",
    "* NER\n",
    "\n",
    "**Not** supported annotations\n",
    "\n",
    "* Bouding box \n",
    "* Polygon \n",
    "* Point\n",
    "* Polyline \n",
    "* Segmentation Mask \n",
    "\n",
    "MAL and Label Import:\n",
    "\n",
    "* Model-assisted labeling - used to provide pre-annotated data for your labelers. This will enable a reduction in the total amount of time to properly label your assets. Model-assisted labeling does not submit the labels automatically, and will need to be reviewed by a labeler for submission.\n",
    "* Label Import - used to provide ground truth labels. These can in turn be used and compared against prediction labels, or used as benchmarks to see how your labelers are doing.\n",
    "\n"
   ]
  },
  {
   "cell_type": "markdown",
   "id": "19b346e2",
   "metadata": {
    "id": "19b346e2"
   },
   "source": [
    "* For information on what types of annotations are supported per data type, refer to this documentation:\n",
    "    * https://docs.labelbox.com/docs/model-assisted-labeling#option-1-import-via-python-annotation-types-recommended"
   ]
  },
  {
   "cell_type": "markdown",
   "id": "f4375aef",
   "metadata": {
    "id": "f4375aef"
   },
   "source": [
    "* Notes:\n",
    "    * Wait until the import job is complete before opening the Editor to make sure all annotations are imported properly."
   ]
  },
  {
   "cell_type": "code",
   "execution_count": 1,
   "id": "00ad1e27",
   "metadata": {
    "id": "00ad1e27",
    "colab": {
     "base_uri": "https://localhost:8080/"
    },
    "outputId": "ed0fcae0-2048-49d2-d693-99ab8646206a"
   },
   "outputs": [],
   "source": [
    "!pip install -q 'labelbox[data]'"
   ]
  },
  {
   "cell_type": "markdown",
   "id": "ccc4c3c3",
   "metadata": {
    "id": "ccc4c3c3"
   },
   "source": [
    "# Setup"
   ]
  },
  {
   "cell_type": "code",
   "execution_count": 2,
   "id": "f0de1cde",
   "metadata": {
    "id": "f0de1cde"
   },
   "outputs": [],
   "source": [
    "import labelbox as lb\n",
    "import uuid"
   ]
  },
  {
   "cell_type": "markdown",
   "id": "54a028dd",
   "metadata": {
    "id": "54a028dd"
   },
   "source": [
    "# Replace with your API key\n",
    "Guides on [Create an API key](https://docs.labelbox.com/docs/create-an-api-key)"
   ]
  },
  {
   "cell_type": "code",
   "execution_count": 4,
   "id": "4aab38e2",
   "metadata": {
    "id": "4aab38e2"
   },
   "outputs": [],
   "source": [
    "# Add your api key\n",
    "API_KEY = None\n",
    "client = lb.Client(api_key=API_KEY)"
   ]
  },
  {
   "cell_type": "markdown",
   "id": "c1763e44",
   "metadata": {
    "id": "c1763e44"
   },
   "source": [
    "## Supported annotations for conversational text"
   ]
  },
  {
   "cell_type": "markdown",
   "source": [
    "### NDJSON Annotations "
   ],
   "metadata": {
    "id": "3umnTd-MfI0o"
   },
   "id": "3umnTd-MfI0o"
  },
  {
   "cell_type": "code",
   "source": [
    "# message based classifications\n",
    "\n",
    "ner_annotation = { \n",
    "        \"name\": \"ner\",\n",
    "        \"location\": { \n",
    "            \"start\": 0, \n",
    "            \"end\": 8 \n",
    "        },\n",
    "        \"messageId\": \"4\"\n",
    "    }\n",
    "\n",
    "text_annotation = {\n",
    "    'name': 'text_convo',\n",
    "    'answer': 'the answer to the text questions right here',\n",
    "    'messageId': \"0\"\n",
    "}\n",
    "\n",
    "\n",
    "checklist_annotation = {\n",
    "    'name': 'checklist_convo',\n",
    "    'answers': [\n",
    "        {'name': 'first_checklist_answer'},\n",
    "        {'name': 'second_checklist_answer'}\n",
    "    ],\n",
    "    'messageId': '2'\n",
    "}\n",
    "\n",
    "radio_annotation = {\n",
    "    'name': 'radio_convo',\n",
    "    'answer': {\n",
    "        'name': 'first_radio_answer'\n",
    "    },\n",
    "    \"messageId\": \"0\",\n",
    "}"
   ],
   "metadata": {
    "id": "6mywfDyLfZQd"
   },
   "id": "6mywfDyLfZQd",
   "execution_count": 5,
   "outputs": []
  },
  {
   "cell_type": "markdown",
   "source": [
    "## Upload Annotations - putting it all together "
   ],
   "metadata": {
    "id": "Dsnl1G4VhAvs"
   },
   "id": "Dsnl1G4VhAvs"
  },
  {
   "cell_type": "markdown",
   "source": [
    "## Step 1: Import data rows into Catalog"
   ],
   "metadata": {
    "id": "prbB8S6ChGCf"
   },
   "id": "prbB8S6ChGCf"
  },
  {
   "cell_type": "code",
   "source": [
    "# Create one Labelbox dataset\n",
    "dataset = client.create_dataset(name=\"conversational_annotation_import_demo_dataset\")\n",
    "\n",
    "asset = {\n",
    "    \"row_data\": \"https://storage.googleapis.com/labelbox-developer-testing-assets/conversational_text/1000-conversations/conversation-1.json\",\n",
    "    \"global_key\": str(uuid.uuid1())\n",
    "}\n",
    "\n",
    "\n",
    "data_row = dataset.create_data_row(asset)\n",
    "print(data_row)\n"
   ],
   "metadata": {
    "colab": {
     "base_uri": "https://localhost:8080/"
    },
    "id": "Msdf9fxvhARz",
    "outputId": "ef166193-d04c-46ce-d186-a33968e181ee"
   },
   "id": "Msdf9fxvhARz",
   "execution_count": 6,
   "outputs": [
    {
     "name": "stdout",
     "output_type": "stream",
     "text": [
      "<DataRow {\n",
      "    \"created_at\": \"2023-02-06 15:17:41+00:00\",\n",
      "    \"external_id\": null,\n",
      "    \"global_key\": \"6603a890-a631-11ed-beb7-acde48001122\",\n",
      "    \"media_attributes\": {},\n",
      "    \"metadata\": [],\n",
      "    \"metadata_fields\": [],\n",
      "    \"row_data\": \"https://storage.googleapis.com/labelbox-developer-testing-assets/conversational_text/1000-conversations/conversation-1.json\",\n",
      "    \"uid\": \"cldsyiz8b0nkq07z45dbj6sxq\",\n",
      "    \"updated_at\": \"2023-02-06 15:17:41+00:00\"\n",
      "}>\n"
     ]
    }
   ]
  },
  {
   "cell_type": "markdown",
   "source": [
    "## Step 2: Create/select an ontology\n",
    "\n",
    "Your project should have the correct ontology setup with all the tools and classifications supported for your annotations, and the tool names and classification instructions should match the `name`/`instructions` fields in your annotations to ensure the correct feature schemas are matched.\n",
    "\n",
    "For example, when we create the bounding box annotation [above](https://colab.research.google.com/drive/1rFv-VvHUBbzFYamz6nSMRJz1mEg6Ukqq#scrollTo=3umnTd-MfI0o&line=1&uniqifier=1), we provided the `name` as `text_convo`. Now, when we setup our ontology, we must ensure that the name of my bounding box tool is also `checklist_convo`. The same alignment must hold true for the other tools and classifications we create in our ontology."
   ],
   "metadata": {
    "id": "JJcrDZShiRtH"
   },
   "id": "JJcrDZShiRtH"
  },
  {
   "cell_type": "code",
   "execution_count": 7,
   "id": "ae6f0919",
   "metadata": {
    "id": "ae6f0919"
   },
   "outputs": [],
   "source": [
    "ontology_builder = lb.OntologyBuilder(\n",
    "  tools=[\n",
    "    lb.Tool( # NER tool given the name \"ner\"\n",
    "      tool=lb.Tool.Type.NER,\n",
    "      name=\"ner\")], \n",
    "  classifications=[ \n",
    "    lb.Classification( # Text classification given the name \"text\"\n",
    "      class_type=lb.Classification.Type.TEXT,\n",
    "      scope=lb.Classification.Scope.INDEX,\n",
    "      instructions=\"text_convo\"), \n",
    "    lb.Classification( # Checklist classification given the name \"text\" with two options: \"first_checklist_answer\" and \"second_checklist_answer\"\n",
    "      class_type=lb.Classification.Type.CHECKLIST,\n",
    "      scope=lb.Classification.Scope.INDEX,\n",
    "      instructions=\"checklist_convo\", \n",
    "      options=[\n",
    "        lb.Option(value=\"first_checklist_answer\"),\n",
    "        lb.Option(value=\"second_checklist_answer\")\n",
    "      ]\n",
    "    ), \n",
    "    lb.Classification( # Radio classification given the name \"text\" with two options: \"first_radio_answer\" and \"second_radio_answer\"\n",
    "      class_type=lb.Classification.Type.RADIO,\n",
    "      instructions=\"radio_convo\", \n",
    "      scope=lb.Classification.Scope.INDEX,\n",
    "      options=[\n",
    "        lb.Option(value=\"first_radio_answer\"),\n",
    "        lb.Option(value=\"second_radio_answer\")\n",
    "      ]\n",
    "    )\n",
    "  ]\n",
    ")"
   ]
  },
  {
   "cell_type": "markdown",
   "source": [
    "\n",
    "## Step 3: Create a labeling project\n",
    "Connect the ontology to the labeling project"
   ],
   "metadata": {
    "id": "bEdwjO2kjf_C"
   },
   "id": "bEdwjO2kjf_C"
  },
  {
   "cell_type": "code",
   "execution_count": 8,
   "id": "6b6403a1",
   "metadata": {
    "id": "6b6403a1",
    "colab": {
     "base_uri": "https://localhost:8080/"
    },
    "outputId": "4d6dd98a-380f-4670-f4a9-29a796811c88"
   },
   "outputs": [
    {
     "name": "stderr",
     "output_type": "stream",
     "text": [
      "Default createProject behavior will soon be adjusted to prefer batch projects. Pass in `queue_mode` parameter explicitly to opt-out for the time being.\n"
     ]
    }
   ],
   "source": [
    "# Create Labelbox project\n",
    "project = client.create_project(name=\"conversational_mal_project\", \n",
    "                                    media_type=lb.MediaType.Conversational)\n",
    "\n",
    "# Setup your ontology / labeling editor\n",
    "editor = next(client.get_labeling_frontends(where=lb.LabelingFrontend.name == \"Editor\")) # Unless using a custom editor, do not modify this\n",
    "\n",
    "project.setup(editor, ontology_builder.asdict()) # Connect your ontology and editor to your project\n"
   ]
  },
  {
   "cell_type": "markdown",
   "source": [
    "## Step 4: Send a batch of data rows to the project"
   ],
   "metadata": {
    "id": "A6WlXfoykNtn"
   },
   "id": "A6WlXfoykNtn"
  },
  {
   "cell_type": "code",
   "source": [
    "# Setup Batches and Ontology\n",
    "\n",
    "# Create a batch to send to your MAL project\n",
    "batch = project.create_batch(\n",
    "  \"first-batch-convo-demo\", # Each batch in a project must have a unique name\n",
    "  [data_row.uid], # Paginated collection of data row objects\n",
    "  5 # priority between 1(Highest) - 5(lowest)\n",
    ")\n",
    "\n",
    "print(\"Batch: \", batch)"
   ],
   "metadata": {
    "colab": {
     "base_uri": "https://localhost:8080/"
    },
    "id": "H5MFoAQ6kT7j",
    "outputId": "d2df5749-81e8-4e95-eb28-3bd4baa33b3a"
   },
   "id": "H5MFoAQ6kT7j",
   "execution_count": 9,
   "outputs": [
    {
     "name": "stdout",
     "output_type": "stream",
     "text": [
      "Batch:  <Batch {\n",
      "    \"consensus_settings_json\": \"{\\\"numberOfLabels\\\":1,\\\"coveragePercentage\\\":0}\",\n",
      "    \"created_at\": \"2023-02-06 15:19:18+00:00\",\n",
      "    \"name\": \"first-batch-convo-demo\",\n",
      "    \"size\": 1,\n",
      "    \"uid\": \"9fd52df0-a631-11ed-82f7-9b37d2bd472d\",\n",
      "    \"updated_at\": \"2023-02-06 15:19:18+00:00\"\n",
      "}>\n"
     ]
    }
   ]
  },
  {
   "cell_type": "markdown",
   "id": "f4d3694e",
   "metadata": {
    "id": "f4d3694e"
   },
   "source": [
    "## Step 5: Create the annotations payload\n",
    "Create the annotations payload using the snippets of code above\n",
    "\n",
    "Labelbox support two formats for the annotations payload: NDJSON and Python Annotation types. However,for conversational texts NDJSON is the only supported format. "
   ]
  },
  {
   "cell_type": "markdown",
   "id": "1deaf1f1",
   "metadata": {
    "id": "1deaf1f1"
   },
   "source": [
    "### NDJSON annotations \n",
    "Here we create the complete label NDJSON payload of annotations only using NDJSON format. There is one annotation for each reference to an annotation that we created [above](https://colab.research.google.com/drive/1rFv-VvHUBbzFYamz6nSMRJz1mEg6Ukqq#scrollTo=3umnTd-MfI0o&line=1&uniqifier=1)."
   ]
  },
  {
   "cell_type": "code",
   "execution_count": 10,
   "id": "9c5d93de",
   "metadata": {
    "id": "9c5d93de"
   },
   "outputs": [],
   "source": [
    "label_ndjson = []\n",
    "for annotations in [ner_annotation,\n",
    "                    text_annotation,\n",
    "                    checklist_annotation,\n",
    "                    radio_annotation]:\n",
    "  annotations.update({\n",
    "      'uuid': str(uuid.uuid4()),\n",
    "      'dataRow': {\n",
    "          'id': data_row.uid\n",
    "      }\n",
    "  })\n",
    "  label_ndjson.append(annotations)"
   ]
  },
  {
   "cell_type": "code",
   "source": [
    "label_ndjson"
   ],
   "metadata": {
    "colab": {
     "base_uri": "https://localhost:8080/"
    },
    "id": "yfpZdpBZr75W",
    "outputId": "15cb717e-20ad-401b-9dde-c98189bf6589"
   },
   "id": "yfpZdpBZr75W",
   "execution_count": 11,
   "outputs": [
    {
     "data": {
      "text/plain": "[{'name': 'ner',\n  'location': {'start': 0, 'end': 8},\n  'messageId': '4',\n  'uuid': '4d5ab992-6c10-49a0-b218-8070d4238d5a',\n  'dataRow': {'id': 'cldsyiz8b0nkq07z45dbj6sxq'}},\n {'name': 'text_convo',\n  'answer': 'the answer to the text questions right here',\n  'messageId': '0',\n  'uuid': 'd43123ad-848b-4049-b7f5-c3a92cef9994',\n  'dataRow': {'id': 'cldsyiz8b0nkq07z45dbj6sxq'}},\n {'name': 'checklist_convo',\n  'answers': [{'name': 'first_checklist_answer'},\n   {'name': 'second_checklist_answer'}],\n  'messageId': '2',\n  'uuid': '417f5272-86cb-43e5-ab67-a437b1a06d0e',\n  'dataRow': {'id': 'cldsyiz8b0nkq07z45dbj6sxq'}},\n {'name': 'radio_convo',\n  'answer': {'name': 'first_radio_answer'},\n  'messageId': '0',\n  'uuid': '2082bb03-a979-41a2-864a-83b71b3cb8f4',\n  'dataRow': {'id': 'cldsyiz8b0nkq07z45dbj6sxq'}}]"
     },
     "execution_count": 11,
     "metadata": {},
     "output_type": "execute_result"
    }
   ]
  },
  {
   "cell_type": "markdown",
   "source": [
    "### Step 6: Upload annotations to a project as pre-labels or complete labels"
   ],
   "metadata": {
    "id": "UiX5e8UEnQYO"
   },
   "id": "UiX5e8UEnQYO"
  },
  {
   "cell_type": "markdown",
   "id": "55be64cf",
   "metadata": {
    "id": "55be64cf"
   },
   "source": [
    "#### Model Assisted Labeling (MAL)\n",
    "For the purpose of this tutorial only run one of the label_ndjosn annotation type tools at the time (NDJSON or Annotation types). Delete the previous labels before uploading labels that use the 2nd method (ndjson)"
   ]
  },
  {
   "cell_type": "code",
   "execution_count": null,
   "id": "10a1f924",
   "metadata": {
    "id": "10a1f924",
    "colab": {
     "base_uri": "https://localhost:8080/"
    },
    "outputId": "1c580138-819a-44c6-fb12-70c65d08802b"
   },
   "outputs": [
    {
     "output_type": "stream",
     "name": "stdout",
     "text": [
      "Errors: []\n",
      " \n"
     ]
    }
   ],
   "source": [
    "# Upload our label using Model-Assisted Labeling\n",
    "upload_job = lb.MALPredictionImport.create_from_objects(\n",
    "    client = client, \n",
    "    project_id = project.uid, \n",
    "    name=f\"mal_job-{str(uuid.uuid4())}\", \n",
    "    predictions=label_ndjson)\n",
    "\n",
    "upload_job.wait_until_done()\n",
    "print(\"Errors:\", upload_job.errors)\n",
    "print(\" \")"
   ]
  },
  {
   "cell_type": "markdown",
   "source": [
    "#### Label Import"
   ],
   "metadata": {
    "id": "Qtay3qOcntke"
   },
   "id": "Qtay3qOcntke"
  },
  {
   "cell_type": "code",
   "execution_count": null,
   "id": "b17f6ba9",
   "metadata": {
    "id": "b17f6ba9",
    "outputId": "cd88f981-890a-4d53-d709-1ca829b1cf3b",
    "colab": {
     "base_uri": "https://localhost:8080/"
    }
   },
   "outputs": [
    {
     "output_type": "stream",
     "name": "stdout",
     "text": [
      "Errors: []\n"
     ]
    }
   ],
   "source": [
    "# Upload label for this data row in project \n",
    "upload_job = lb.LabelImport.create_from_objects(\n",
    "    client = client, \n",
    "    project_id = project.uid, \n",
    "    name=\"label_geo_import_job\"+str(uuid.uuid4()),  \n",
    "    # user label_ndjson if labels were created using python annotation tools\n",
    "    labels=label_ndjson)\n",
    "\n",
    "upload_job.wait_until_done()\n",
    "print(\"Errors:\", upload_job.errors)"
   ]
  },
  {
   "cell_type": "markdown",
   "source": [
    "### Optional deletions for cleanup "
   ],
   "metadata": {
    "id": "j2SjmgtnnzOj"
   },
   "id": "j2SjmgtnnzOj"
  },
  {
   "cell_type": "code",
   "execution_count": null,
   "id": "7ee6bc98",
   "metadata": {
    "id": "7ee6bc98"
   },
   "outputs": [],
   "source": [
    "# project.delete()\n",
    "# dataset.delete()"
   ]
  }
 ],
 "metadata": {
  "kernelspec": {
   "display_name": "Python 3",
   "language": "python",
   "name": "python3"
  },
  "language_info": {
   "codemirror_mode": {
    "name": "ipython",
    "version": 3
   },
   "file_extension": ".py",
   "mimetype": "text/x-python",
   "name": "python",
   "nbconvert_exporter": "python",
   "pygments_lexer": "ipython3",
   "version": "3.8.8"
  },
  "colab": {
   "provenance": []
  }
 },
 "nbformat": 4,
 "nbformat_minor": 5
}
