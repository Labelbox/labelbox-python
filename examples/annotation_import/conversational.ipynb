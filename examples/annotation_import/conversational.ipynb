{
  "cells": [
    {
      "cell_type": "markdown",
      "id": "26b9c486",
      "metadata": {
        "id": "26b9c486"
      },
      "source": [
        "<td>\n",
        "   <a target=\"_blank\" href=\"https://labelbox.com\" ><img src=\"https://labelbox.com/blog/content/images/2021/02/logo-v4.svg\" width=256/></a>\n",
        "</td>"
      ]
    },
    {
      "cell_type": "markdown",
      "id": "51eb4b54",
      "metadata": {
        "id": "51eb4b54"
      },
      "source": [
        "<td>\n",
        "<a href=\"https://colab.research.google.com/github/Labelbox/labelbox-python/blob/develop/examples/annotation_import/conversational.ipynb\" target=\"_blank\"><img\n",
        "src=\"https://colab.research.google.com/assets/colab-badge.svg\" alt=\"Open In Colab\"></a>\n",
        "</td>\n",
        "\n",
        "<td>\n",
        "<a href=\"https://github.com/Labelbox/labelbox-python/tree/develop/examples/annotation_import/conversational.ipynb\" target=\"_blank\"><img\n",
        "src=\"https://img.shields.io/badge/GitHub-100000?logo=github&logoColor=white\" alt=\"GitHub\"></a>\n",
        "</td>"
      ]
    },
    {
      "cell_type": "markdown",
      "id": "27d147e7",
      "metadata": {
        "id": "27d147e7"
      },
      "source": [
        "# Conversational Text Annotation Import\n",
        "* This notebook will provide examples of each supported annotation type for conversational text assets, and also  cover MAL and Label Import methods:\n",
        "\n",
        "Suported annotations that can be uploaded through the SDK\n",
        "\n",
        "* Classification Radio \n",
        "* Classification Checklist \n",
        "* Classification Free Text \n",
        "* NER\n",
        "\n",
        "**Not** supported annotations\n",
        "\n",
        "* Bouding box \n",
        "* Polygon \n",
        "* Point\n",
        "* Polyline \n",
        "* Segmentation Mask \n",
        "\n",
        "MAL and Label Import:\n",
        "\n",
        "* Model-assisted labeling - used to provide pre-annotated data for your labelers. This will enable a reduction in the total amount of time to properly label your assets. Model-assisted labeling does not submit the labels automatically, and will need to be reviewed by a labeler for submission.\n",
        "* Label Import - used to provide ground truth labels. These can in turn be used and compared against prediction labels, or used as benchmarks to see how your labelers are doing.\n",
        "\n"
      ]
    },
    {
      "cell_type": "markdown",
      "id": "19b346e2",
      "metadata": {
        "id": "19b346e2"
      },
      "source": [
        "* For information on what types of annotations are supported per data type, refer to this documentation:\n",
        "    * https://docs.labelbox.com/docs/model-assisted-labeling#option-1-import-via-python-annotation-types-recommended"
      ]
    },
    {
      "cell_type": "markdown",
      "id": "f4375aef",
      "metadata": {
        "id": "f4375aef"
      },
      "source": [
        "* Notes:\n",
        "    * Wait until the import job is complete before opening the Editor to make sure all annotations are imported properly."
      ]
    },
    {
      "cell_type": "code",
      "execution_count": null,
      "id": "00ad1e27",
      "metadata": {
        "colab": {
          "base_uri": "https://localhost:8080/"
        },
        "id": "00ad1e27",
        "outputId": "ed0fcae0-2048-49d2-d693-99ab8646206a"
      },
      "outputs": [
        {
          "name": "stdout",
          "output_type": "stream",
          "text": [
            "\u001b[K     |████████████████████████████████| 185 kB 29.6 MB/s \n",
            "\u001b[K     |████████████████████████████████| 7.8 MB 53.9 MB/s \n",
            "\u001b[?25h  Building wheel for pygeotile (setup.py) ... \u001b[?25l\u001b[?25hdone\n"
          ]
        }
      ],
      "source": [
        "!pip install -q 'labelbox[data]'"
      ]
    },
    {
      "cell_type": "markdown",
      "id": "ccc4c3c3",
      "metadata": {
        "id": "ccc4c3c3"
      },
      "source": [
        "# Setup"
      ]
    },
    {
      "cell_type": "code",
      "execution_count": null,
      "id": "f0de1cde",
      "metadata": {
        "id": "f0de1cde"
      },
      "outputs": [],
      "source": [
        "from labelbox.schema.ontology import OntologyBuilder, Tool, Classification, Option\n",
        "from labelbox import Client, LabelingFrontend, MALPredictionImport, LabelImport\n",
        "from labelbox.data.serialization import NDJsonConverter\n",
        "from labelbox.schema.media_type import MediaType\n",
        "import uuid\n",
        "import json"
      ]
    },
    {
      "cell_type": "markdown",
      "id": "54a028dd",
      "metadata": {
        "id": "54a028dd"
      },
      "source": [
        "# Replace with your API key\n",
        "Guides on [Create an API key](https://docs.labelbox.com/docs/create-an-api-key)"
      ]
    },
    {
      "cell_type": "code",
      "execution_count": null,
      "id": "4aab38e2",
      "metadata": {
        "id": "4aab38e2"
      },
      "outputs": [],
      "source": [
        "# Add your api key\n",
        "API_KEY = None\n",
        "client = Client(api_key=API_KEY)"
      ]
    },
    {
      "cell_type": "markdown",
      "id": "c1763e44",
      "metadata": {
        "id": "c1763e44"
      },
      "source": [
        "## Supported annotations for conversational text"
      ]
    },
    {
      "cell_type": "markdown",
      "id": "3umnTd-MfI0o",
      "metadata": {
        "id": "3umnTd-MfI0o"
      },
      "source": [
        "### NDJSON Annotations "
      ]
    },
    {
      "cell_type": "code",
      "execution_count": null,
      "id": "6mywfDyLfZQd",
      "metadata": {
        "id": "6mywfDyLfZQd"
      },
      "outputs": [],
      "source": [
        "# message based classifications\n",
        "\n",
        "ner_annotation = { \n",
        "        \"name\": \"ner\",\n",
        "        \"location\": { \n",
        "            \"start\": 0, \n",
        "            \"end\": 8 \n",
        "        },\n",
        "        \"messageId\": \"4\"\n",
        "    }\n",
        "\n",
        "text_annotation = {\n",
        "    'name': 'text_convo',\n",
        "    'answer': 'the answer to the text questions right here',\n",
        "    'messageId': \"0\"\n",
        "}\n",
        "\n",
        "\n",
        "checklist_annotation = {\n",
        "    'name': 'checklist_convo',\n",
        "    'answers': [\n",
        "        {'name': 'first_checklist_answer'},\n",
        "        {'name': 'second_checklist_answer'}\n",
        "    ],\n",
        "    'messageId': '2'\n",
        "}\n",
        "\n",
        "radio_annotation = {\n",
        "    'name': 'radio_convo',\n",
        "    'answer': {\n",
        "        'name': 'first_radio_answer'\n",
        "    },\n",
        "    \"messageId\": \"0\",\n",
        "}"
      ]
    },
    {
      "cell_type": "markdown",
      "id": "Dsnl1G4VhAvs",
      "metadata": {
        "id": "Dsnl1G4VhAvs"
      },
      "source": [
        "## Upload Annotations - putting it all together "
      ]
    },
    {
      "cell_type": "markdown",
      "id": "prbB8S6ChGCf",
      "metadata": {
        "id": "prbB8S6ChGCf"
      },
      "source": [
        "## Step 1: Import data rows into Catalog"
      ]
    },
    {
      "cell_type": "code",
      "execution_count": null,
      "id": "Msdf9fxvhARz",
      "metadata": {
        "colab": {
          "base_uri": "https://localhost:8080/"
        },
        "id": "Msdf9fxvhARz",
        "outputId": "ef166193-d04c-46ce-d186-a33968e181ee"
      },
      "outputs": [
        {
          "name": "stdout",
          "output_type": "stream",
          "text": [
            "<DataRow {\n",
            "    \"created_at\": \"2022-12-23 20:18:48+00:00\",\n",
            "    \"external_id\": null,\n",
            "    \"global_key\": \"0206acac-82ff-11ed-a415-0242ac1c000c\",\n",
            "    \"media_attributes\": {},\n",
            "    \"metadata\": [],\n",
            "    \"metadata_fields\": [],\n",
            "    \"row_data\": \"https://storage.googleapis.com/labelbox-developer-testing-assets/conversational_text/1000-conversations/conversation-1.json\",\n",
            "    \"uid\": \"clc0ygvde029307yn96gv2byu\",\n",
            "    \"updated_at\": \"2022-12-23 20:18:48+00:00\"\n",
            "}>\n"
          ]
        }
      ],
      "source": [
        "# Create one Labelbox dataset\n",
        "dataset = client.create_dataset(name=\"conversational_annotation_import_demo_dataset\")\n",
        "\n",
        "asset = {\n",
        "    \"row_data\": \"https://storage.googleapis.com/labelbox-developer-testing-assets/conversational_text/1000-conversations/conversation-1.json\",\n",
        "    \"global_key\": str(uuid.uuid1())\n",
        "}\n",
        "\n",
        "\n",
        "data_row = dataset.create_data_row(asset)\n",
        "print(data_row)\n"
      ]
    },
    {
      "attachments": {},
      "cell_type": "markdown",
      "id": "JJcrDZShiRtH",
      "metadata": {
        "id": "JJcrDZShiRtH"
      },
      "source": [
        "## Step 2: Create/select an ontology\n",
        "Your project should have the correct ontology setup with all the tools and classifications supported for your annotations, and the tool and classification names should match the `name` field in your annotations to ensure the correct feature schemas are matched.\n",
        "\n",
        "For example, when we create the bounding box annotation [above](https://colab.research.google.com/drive/1rFv-VvHUBbzFYamz6nSMRJz1mEg6Ukqq#scrollTo=3umnTd-MfI0o&line=1&uniqifier=1), we provided the `name` as `text_convo`. Now, when we setup our ontology, we must ensure that the name of my bounding box tool is also `checklist_convo`. The same alignment must hold true for the other tools and classifications we create in our ontology."
      ]
    },
    {
      "cell_type": "code",
      "execution_count": null,
      "id": "ae6f0919",
      "metadata": {
        "id": "ae6f0919"
      },
      "outputs": [],
      "source": [
        "ontology_builder = OntologyBuilder(\n",
        "  tools=[ \n",
        "    Tool( # NER tool given the name \"ner\"\n",
        "      tool=Tool.Type.NER, \n",
        "      name=\"ner\")], \n",
        "  classifications=[ \n",
        "    Classification( # Text classification given the name \"text\"\n",
        "      class_type=Classification.Type.TEXT,\n",
        "      scope=Classification.Scope.INDEX,          \n",
        "      name=\"text_convo\"), \n",
        "    Classification( # Checklist classification given the name \"text\" with two options: \"first_checklist_answer\" and \"second_checklist_answer\"\n",
        "      class_type=Classification.Type.CHECKLIST, \n",
        "      scope=Classification.Scope.INDEX,                     \n",
        "      name=\"checklist_convo\", \n",
        "      options=[\n",
        "        Option(value=\"first_checklist_answer\"),\n",
        "        Option(value=\"second_checklist_answer\")            \n",
        "      ]\n",
        "    ), \n",
        "    Classification( # Radio classification given the name \"text\" with two options: \"first_radio_answer\" and \"second_radio_answer\"\n",
        "      class_type=Classification.Type.RADIO, \n",
        "      name=\"radio_convo\", \n",
        "      scope=Classification.Scope.INDEX,          \n",
        "      options=[\n",
        "        Option(value=\"first_radio_answer\"),\n",
        "        Option(value=\"second_radio_answer\")\n",
        "      ]\n",
        "    )\n",
        "  ]\n",
        ")"
      ]
    },
    {
      "cell_type": "markdown",
      "id": "bEdwjO2kjf_C",
      "metadata": {
        "id": "bEdwjO2kjf_C"
      },
      "source": [
        "\n",
        "## Step 3: Create a labeling project\n",
        "Connect the ontology to the labeling project"
      ]
    },
    {
      "cell_type": "code",
      "execution_count": null,
      "id": "6b6403a1",
      "metadata": {
        "colab": {
          "base_uri": "https://localhost:8080/"
        },
        "id": "6b6403a1",
        "outputId": "4d6dd98a-380f-4670-f4a9-29a796811c88"
      },
      "outputs": [
        {
          "name": "stderr",
          "output_type": "stream",
          "text": [
            "WARNING:labelbox.client:Default createProject behavior will soon be adjusted to prefer batch projects. Pass in `queue_mode` parameter explicitly to opt-out for the time being.\n"
          ]
        }
      ],
      "source": [
        "# Create Labelbox project\n",
        "project = client.create_project(name=\"conversational_mal_project\", \n",
        "                                    media_type=MediaType.Conversational)\n",
        "\n",
        "# Setup your ontology / labeling editor\n",
        "editor = next(client.get_labeling_frontends(where=LabelingFrontend.name == \"Editor\")) # Unless using a custom editor, do not modify this\n",
        "\n",
        "project.setup(editor, ontology_builder.asdict()) # Connect your ontology and editor to your project\n"
      ]
    },
    {
      "cell_type": "markdown",
      "id": "A6WlXfoykNtn",
      "metadata": {
        "id": "A6WlXfoykNtn"
      },
      "source": [
        "## Step 4: Send a batch of data rows to the project"
      ]
    },
    {
      "cell_type": "code",
      "execution_count": null,
      "id": "H5MFoAQ6kT7j",
      "metadata": {
        "colab": {
          "base_uri": "https://localhost:8080/"
        },
        "id": "H5MFoAQ6kT7j",
        "outputId": "d2df5749-81e8-4e95-eb28-3bd4baa33b3a"
      },
      "outputs": [
        {
          "name": "stdout",
          "output_type": "stream",
          "text": [
            "Batch:  <Batch {\n",
            "    \"consensus_settings_json\": \"{\\\"numberOfLabels\\\":1,\\\"coveragePercentage\\\":0}\",\n",
            "    \"created_at\": \"2022-12-23 20:20:51+00:00\",\n",
            "    \"name\": \"first-batch-convo-demo\",\n",
            "    \"size\": 1,\n",
            "    \"uid\": \"4bceaa60-82ff-11ed-b68f-3b1759fe9ddf\",\n",
            "    \"updated_at\": \"2022-12-23 20:20:51+00:00\"\n",
            "}>\n"
          ]
        }
      ],
      "source": [
        "# Setup Batches and Ontology\n",
        "\n",
        "# Create a batch to send to your MAL project\n",
        "batch = project.create_batch(\n",
        "  \"first-batch-convo-demo\", # Each batch in a project must have a unique name\n",
        "  [data_row.uid], # Paginated collection of data row objects\n",
        "  5 # priority between 1(Highest) - 5(lowest)\n",
        ")\n",
        "\n",
        "print(\"Batch: \", batch)"
      ]
    },
    {
      "cell_type": "markdown",
      "id": "f4d3694e",
      "metadata": {
        "id": "f4d3694e"
      },
      "source": [
        "## Step 5: Create the annotations payload\n",
        "Create the annotations payload using the snippets of code above\n",
        "\n",
        "Labelbox support two formats for the annotations payload: NDJSON and Python Annotation types. However,for conversational texts NDJSON is the only supported format. "
      ]
    },
    {
      "cell_type": "markdown",
      "id": "1deaf1f1",
      "metadata": {
        "id": "1deaf1f1"
      },
      "source": [
        "### NDJSON annotations \n",
        "Here we create the complete label NDJSON payload of annotations only using NDJSON format. There is one annotation for each reference to an annotation that we created [above](https://colab.research.google.com/drive/1rFv-VvHUBbzFYamz6nSMRJz1mEg6Ukqq#scrollTo=3umnTd-MfI0o&line=1&uniqifier=1)."
      ]
    },
    {
      "cell_type": "code",
      "execution_count": null,
      "id": "9c5d93de",
      "metadata": {
        "id": "9c5d93de"
      },
      "outputs": [],
      "source": [
        "label_ndjson = []\n",
        "for annotations in [ner_annotation,\n",
        "                    text_annotation,\n",
        "                    checklist_annotation,\n",
        "                    radio_annotation]:\n",
        "  annotations.update({\n",
        "      'uuid': str(uuid.uuid4()),\n",
        "      'dataRow': {\n",
        "          'id': data_row.uid\n",
        "      }\n",
        "  })\n",
        "  label_ndjson.append(annotations)"
      ]
    },
    {
      "cell_type": "code",
      "execution_count": null,
      "id": "yfpZdpBZr75W",
      "metadata": {
        "colab": {
          "base_uri": "https://localhost:8080/"
        },
        "id": "yfpZdpBZr75W",
        "outputId": "15cb717e-20ad-401b-9dde-c98189bf6589"
      },
      "outputs": [
        {
          "data": {
            "text/plain": [
              "[{'name': 'ner',\n",
              "  'location': {'start': 0, 'end': 8},\n",
              "  'messageId': '4',\n",
              "  'uuid': 'ce5805b9-1353-432e-9f7a-38cdfa901d5d',\n",
              "  'dataRow': {'id': 'clc0ygvde029307yn96gv2byu'}},\n",
              " {'name': 'text_convo',\n",
              "  'answer': 'the answer to the text questions right here',\n",
              "  'messageId': '0',\n",
              "  'uuid': '2852bb2d-9355-42df-bb95-3db48247cbf7',\n",
              "  'dataRow': {'id': 'clc0ygvde029307yn96gv2byu'}},\n",
              " {'name': 'checklist_convo',\n",
              "  'answers': [{'name': 'first_checklist_answer'},\n",
              "   {'name': 'second_checklist_answer'}],\n",
              "  'messageId': '2',\n",
              "  'uuid': '623fa806-166e-436b-8d1b-dbdc30f23ee5',\n",
              "  'dataRow': {'id': 'clc0ygvde029307yn96gv2byu'}},\n",
              " {'name': 'radio_convo',\n",
              "  'answer': {'name': 'first_radio_answer'},\n",
              "  'messageId': '0',\n",
              "  'uuid': 'a256e84a-5012-4fd4-833f-637935a22fd4',\n",
              "  'dataRow': {'id': 'clc0ygvde029307yn96gv2byu'}}]"
            ]
          },
          "execution_count": 13,
          "metadata": {},
          "output_type": "execute_result"
        }
      ],
      "source": [
        "label_ndjson"
      ]
    },
    {
      "cell_type": "markdown",
      "id": "UiX5e8UEnQYO",
      "metadata": {
        "id": "UiX5e8UEnQYO"
      },
      "source": [
        "### Step 6: Upload annotations to a project as pre-labels or complete labels"
      ]
    },
    {
      "cell_type": "markdown",
      "id": "55be64cf",
      "metadata": {
        "id": "55be64cf"
      },
      "source": [
        "#### Model Assisted Labeling (MAL)\n",
        "For the purpose of this tutorial only run one of the label_ndjosn annotation type tools at the time (NDJSON or Annotation types). Delete the previous labels before uploading labels that use the 2nd method (ndjson)"
      ]
    },
    {
      "cell_type": "code",
      "execution_count": null,
      "id": "10a1f924",
      "metadata": {
        "colab": {
          "base_uri": "https://localhost:8080/"
        },
        "id": "10a1f924",
        "outputId": "1c580138-819a-44c6-fb12-70c65d08802b"
      },
      "outputs": [
        {
          "name": "stdout",
          "output_type": "stream",
          "text": [
            "Errors: []\n",
            " \n"
          ]
        }
      ],
      "source": [
        "# Upload our label using Model-Assisted Labeling\n",
        "upload_job = MALPredictionImport.create_from_objects(\n",
        "    client = client, \n",
        "    project_id = project.uid, \n",
        "    name=f\"mal_job-{str(uuid.uuid4())}\", \n",
        "    predictions=label_ndjson)\n",
        "\n",
        "upload_job.wait_until_done();\n",
        "print(\"Errors:\", upload_job.errors)\n",
        "print(\" \")"
      ]
    },
    {
      "cell_type": "code",
      "execution_count": null,
      "id": "3H0qzHGL2aEy",
      "metadata": {
        "colab": {
          "base_uri": "https://localhost:8080/"
        },
        "id": "3H0qzHGL2aEy",
        "outputId": "a86ac7d1-460c-4307-8d17-f03a9174d85c"
      },
      "outputs": [
        {
          "data": {
            "text/plain": [
              "[{'name': 'ner', 'location': {'start': 0, 'end': 8}, 'messageId': '4'},\n",
              " {'name': 'text_convo',\n",
              "  'answer': 'the answer to the text questions right here',\n",
              "  'uuid': '0ae2b42b-0e01-4bd6-8e4f-5ebfe6402a05',\n",
              "  'dataRow': {'id': 'clc0okhr74aq607yb6fv83crl'},\n",
              "  'messageId': '0'},\n",
              " {'name': 'checklist_convo',\n",
              "  'uuid': '8a382c09-da4c-455f-80ee-16fb05165e4a',\n",
              "  'answers': [{'name': 'first_checklist_answer'},\n",
              "   {'name': 'second_checklist_answer'}],\n",
              "  'dataRow': {'id': 'clc0okhr74aq607yb6fv83crl'},\n",
              "  'messageId': '2'},\n",
              " {'name': 'radio_convo',\n",
              "  'uuid': '515e4f05-6cf1-4e8c-b183-d633c49f5106',\n",
              "  'dataRow': {'id': 'clc0okhr74aq607yb6fv83crl'},\n",
              "  'answer': {'name': 'first_radio_answer'},\n",
              "  'messageId': '0'}]"
            ]
          },
          "execution_count": 45,
          "metadata": {},
          "output_type": "execute_result"
        }
      ],
      "source": [
        "annotations"
      ]
    },
    {
      "cell_type": "markdown",
      "id": "Qtay3qOcntke",
      "metadata": {
        "id": "Qtay3qOcntke"
      },
      "source": [
        "#### Label Import"
      ]
    },
    {
      "cell_type": "code",
      "execution_count": null,
      "id": "b17f6ba9",
      "metadata": {
        "colab": {
          "base_uri": "https://localhost:8080/"
        },
        "id": "b17f6ba9",
        "outputId": "cd88f981-890a-4d53-d709-1ca829b1cf3b"
      },
      "outputs": [
        {
          "name": "stdout",
          "output_type": "stream",
          "text": [
            "Errors: []\n"
          ]
        }
      ],
      "source": [
        "# Upload label for this data row in project \n",
        "upload_job = LabelImport.create_from_objects(\n",
        "    client = client, \n",
        "    project_id = project.uid, \n",
        "    name=\"label_geo_import_job\"+str(uuid.uuid4()),  \n",
        "    # user label_ndjson if labels were created using python annotation tools\n",
        "    labels=label_ndjson)\n",
        "\n",
        "upload_job.wait_until_done();\n",
        "print(\"Errors:\", upload_job.errors)"
      ]
    },
    {
      "cell_type": "markdown",
      "id": "j2SjmgtnnzOj",
      "metadata": {
        "id": "j2SjmgtnnzOj"
      },
      "source": [
        "### Optional deletions for cleanup "
      ]
    },
    {
      "cell_type": "code",
      "execution_count": null,
      "id": "7ee6bc98",
      "metadata": {
        "id": "7ee6bc98"
      },
      "outputs": [],
      "source": [
        "#upload_job\n",
        "# project.delete()\n",
        "# dataset.delete()"
      ]
    }
  ],
  "metadata": {
    "colab": {
      "provenance": []
    },
    "kernelspec": {
      "display_name": "Python 3",
      "language": "python",
      "name": "python3"
    },
    "language_info": {
      "codemirror_mode": {
        "name": "ipython",
        "version": 3
      },
      "file_extension": ".py",
      "mimetype": "text/x-python",
      "name": "python",
      "nbconvert_exporter": "python",
      "pygments_lexer": "ipython3",
      "version": "3.9.16 (main, Jan 23 2023, 23:42:27) \n[GCC 10.2.1 20210110]"
    },
    "vscode": {
      "interpreter": {
        "hash": "949777d72b0d2535278d3dc13498b2535136f6dfe0678499012e853ee9abcab1"
      }
    }
  },
  "nbformat": 4,
  "nbformat_minor": 5
}
