{
  "nbformat": 4,
  "nbformat_minor": 5,
  "metadata": {},
  "cells": [
    {
      "metadata": {},
      "source": [
        "<td>\n",
        "   <a target=\"_blank\" href=\"https://labelbox.com\" ><img src=\"https://labelbox.com/blog/content/images/2021/02/logo-v4.svg\" width=256/></a>\n",
        "</td>"
      ],
      "cell_type": "markdown"
    },
    {
      "metadata": {},
      "source": [
        "<td>\n",
        "<a href=\"https://colab.research.google.com/github/Labelbox/labelbox-python/blob/master/examples/annotation_import/conversational.ipynb\" target=\"_blank\"><img\n",
        "src=\"https://colab.research.google.com/assets/colab-badge.svg\" alt=\"Open In Colab\"></a>\n",
        "</td>\n",
        "\n",
        "<td>\n",
        "<a href=\"https://github.com/Labelbox/labelbox-python/tree/master/examples/annotation_import/conversational.ipynb\" target=\"_blank\"><img\n",
        "src=\"https://img.shields.io/badge/GitHub-100000?logo=github&logoColor=white\" alt=\"GitHub\"></a>\n",
        "</td>"
      ],
      "cell_type": "markdown"
    },
    {
      "metadata": {},
      "source": [
        "# Conversational Text Annotation Import\n",
        "* This notebook will provide examples of each supported annotation type for conversational text assets, and also  cover MAL and Label Import methods:\n",
        "\n",
        "Suported annotations that can be uploaded through the SDK\n",
        "\n",
        "* Classification Radio \n",
        "* Classification Checklist \n",
        "* Classification Free Text \n",
        "* NER\n",
        "\n",
        "**Not** supported annotations\n",
        "\n",
        "* Bouding box \n",
        "* Polygon \n",
        "* Point\n",
        "* Polyline \n",
        "* Segmentation Mask \n",
        "\n",
        "MAL and Label Import:\n",
        "\n",
        "* Model-assisted labeling - used to provide pre-annotated data for your labelers. This will enable a reduction in the total amount of time to properly label your assets. Model-assisted labeling does not submit the labels automatically, and will need to be reviewed by a labeler for submission.\n",
        "* Label Import - used to provide ground truth labels. These can in turn be used and compared against prediction labels, or used as benchmarks to see how your labelers are doing.\n",
        "\n"
      ],
      "cell_type": "markdown"
    },
    {
      "metadata": {},
      "source": [
        "* For information on what types of annotations are supported per data type, refer to this documentation:\n",
        "    * https://docs.labelbox.com/docs/model-assisted-labeling#option-1-import-via-python-annotation-types-recommended"
      ],
      "cell_type": "markdown"
    },
    {
      "metadata": {},
      "source": [
        "* Notes:\n",
        "    * Wait until the import job is complete before opening the Editor to make sure all annotations are imported properly."
      ],
      "cell_type": "markdown"
    },
    {
      "metadata": {},
      "source": [
        "!pip install -q 'labelbox[data]'"
      ],
      "cell_type": "code",
      "outputs": [
        {
          "name": "stdout",
          "output_type": "stream",
          "text": [
            "\u001b[K     |\u2588\u2588\u2588\u2588\u2588\u2588\u2588\u2588\u2588\u2588\u2588\u2588\u2588\u2588\u2588\u2588\u2588\u2588\u2588\u2588\u2588\u2588\u2588\u2588\u2588\u2588\u2588\u2588\u2588\u2588\u2588\u2588| 185 kB 29.6 MB/s \n",
            "\u001b[K     |\u2588\u2588\u2588\u2588\u2588\u2588\u2588\u2588\u2588\u2588\u2588\u2588\u2588\u2588\u2588\u2588\u2588\u2588\u2588\u2588\u2588\u2588\u2588\u2588\u2588\u2588\u2588\u2588\u2588\u2588\u2588\u2588| 7.8 MB 53.9 MB/s \n",
            "\u001b[?25h  Building wheel for pygeotile (setup.py) ... \u001b[?25l\u001b[?25hdone\n"
          ]
        }
      ],
      "execution_count": null
    },
    {
      "metadata": {},
      "source": [
        "# Setup"
      ],
      "cell_type": "markdown"
    },
    {
      "metadata": {},
      "source": [
        "import labelbox as lb\n",
        "import uuid"
      ],
      "cell_type": "code",
      "outputs": [],
      "execution_count": null
    },
    {
      "metadata": {},
      "source": [
        "# Replace with your API key\n",
        "Guides on [Create an API key](https://docs.labelbox.com/docs/create-an-api-key)"
      ],
      "cell_type": "markdown"
    },
    {
      "metadata": {},
      "source": [
        "# Add your api key\n",
        "API_KEY = None\n",
        "client = lb.Client(api_key=API_KEY)"
      ],
      "cell_type": "code",
      "outputs": [],
      "execution_count": null
    },
    {
      "metadata": {},
      "source": [
        "## Supported annotations for conversational text"
      ],
      "cell_type": "markdown"
    },
    {
      "metadata": {},
      "source": [
        "### NDJSON Annotations "
      ],
      "cell_type": "markdown"
    },
    {
      "metadata": {},
      "source": [
        "# message based classifications\n",
        "\n",
        "ner_annotation = { \n",
        "        \"name\": \"ner\",\n",
        "        \"location\": { \n",
        "            \"start\": 0, \n",
        "            \"end\": 8 \n",
        "        },\n",
        "        \"messageId\": \"4\"\n",
        "    }\n",
        "\n",
        "text_annotation = {\n",
        "    'name': 'text_convo',\n",
        "    'answer': 'the answer to the text questions right here',\n",
        "    'messageId': \"0\"\n",
        "}\n",
        "\n",
        "\n",
        "checklist_annotation = {\n",
        "    'name': 'checklist_convo',\n",
        "    'answers': [\n",
        "        {'name': 'first_checklist_answer'},\n",
        "        {'name': 'second_checklist_answer'}\n",
        "    ],\n",
        "    'messageId': '2'\n",
        "}\n",
        "\n",
        "radio_annotation = {\n",
        "    'name': 'radio_convo',\n",
        "    'answer': {\n",
        "        'name': 'first_radio_answer'\n",
        "    },\n",
        "    \"messageId\": \"0\",\n",
        "}"
      ],
      "cell_type": "code",
      "outputs": [],
      "execution_count": null
    },
    {
      "metadata": {},
      "source": [
        "## Upload Annotations - putting it all together "
      ],
      "cell_type": "markdown"
    },
    {
      "metadata": {},
      "source": [
        "## Step 1: Import data rows into Catalog"
      ],
      "cell_type": "markdown"
    },
    {
      "metadata": {},
      "source": [
        "# Create one Labelbox dataset\n",
        "dataset = client.create_dataset(name=\"conversational_annotation_import_demo_dataset\")\n",
        "\n",
        "asset = {\n",
        "    \"row_data\": \"https://storage.googleapis.com/labelbox-developer-testing-assets/conversational_text/1000-conversations/conversation-1.json\",\n",
        "    \"global_key\": str(uuid.uuid1())\n",
        "}\n",
        "\n",
        "\n",
        "data_row = dataset.create_data_row(asset)\n",
        "print(data_row)\n"
      ],
      "cell_type": "code",
      "outputs": [
        {
          "name": "stdout",
          "output_type": "stream",
          "text": [
            "<DataRow {\n",
            "    \"created_at\": \"2022-12-23 20:18:48+00:00\",\n",
            "    \"external_id\": null,\n",
            "    \"global_key\": \"0206acac-82ff-11ed-a415-0242ac1c000c\",\n",
            "    \"media_attributes\": {},\n",
            "    \"metadata\": [],\n",
            "    \"metadata_fields\": [],\n",
            "    \"row_data\": \"https://storage.googleapis.com/labelbox-developer-testing-assets/conversational_text/1000-conversations/conversation-1.json\",\n",
            "    \"uid\": \"clc0ygvde029307yn96gv2byu\",\n",
            "    \"updated_at\": \"2022-12-23 20:18:48+00:00\"\n",
            "}>\n"
          ]
        }
      ],
      "execution_count": null
    },
    {
      "metadata": {},
      "source": [
        "## Step 2: Create/select an ontology\n",
        "\n",
        "Your project should have the correct ontology setup with all the tools and classifications supported for your annotations, and the tool names and classification instructions should match the `name`/`instructions` fields in your annotations to ensure the correct feature schemas are matched.\n",
        "\n",
        "For example, when we create the bounding box annotation [above](https://colab.research.google.com/drive/1rFv-VvHUBbzFYamz6nSMRJz1mEg6Ukqq#scrollTo=3umnTd-MfI0o&line=1&uniqifier=1), we provided the `name` as `text_convo`. Now, when we setup our ontology, we must ensure that the name of my bounding box tool is also `checklist_convo`. The same alignment must hold true for the other tools and classifications we create in our ontology."
      ],
      "cell_type": "markdown"
    },
    {
      "metadata": {},
      "source": [
        "ontology_builder = lb.OntologyBuilder(\n",
        "  tools=[ \n",
        "    lb.Tool( # NER tool given the name \"ner\"\n",
        "      tool=lb.Tool.Type.NER, \n",
        "      name=\"ner\")], \n",
        "  classifications=[ \n",
        "    lb.Classification( # Text classification given the name \"text\"\n",
        "      class_type=lb.Classification.Type.TEXT,\n",
        "      scope=lb.Classification.Scope.INDEX,          \n",
        "      instructions=\"text_convo\"), \n",
        "    lb.Classification( # Checklist classification given the name \"text\" with two options: \"first_checklist_answer\" and \"second_checklist_answer\"\n",
        "      class_type=lb.Classification.Type.CHECKLIST, \n",
        "      scope=lb.Classification.Scope.INDEX,                     \n",
        "      instructions=\"checklist_convo\", \n",
        "      options=[\n",
        "        lb.Option(value=\"first_checklist_answer\"),\n",
        "        lb.Option(value=\"second_checklist_answer\")            \n",
        "      ]\n",
        "    ), \n",
        "    lb.Classification( # Radio classification given the name \"text\" with two options: \"first_radio_answer\" and \"second_radio_answer\"\n",
        "      class_type=lb.Classification.Type.RADIO, \n",
        "      instructions=\"radio_convo\", \n",
        "      scope=lb.Classification.Scope.INDEX,          \n",
        "      options=[\n",
        "        lb.Option(value=\"first_radio_answer\"),\n",
        "        lb.Option(value=\"second_radio_answer\")\n",
        "      ]\n",
        "    )\n",
        "  ]\n",
        ")"
      ],
      "cell_type": "code",
      "outputs": [],
      "execution_count": null
    },
    {
      "metadata": {},
      "source": [
        "\n",
        "## Step 3: Create a labeling project\n",
        "Connect the ontology to the labeling project"
      ],
      "cell_type": "markdown"
    },
    {
      "metadata": {},
      "source": [
        "# Create Labelbox project\n",
        "project = client.create_project(name=\"conversational_mal_project\", \n",
        "                                    media_type=lb.MediaType.Conversational)\n",
        "\n",
        "# Setup your ontology / labeling editor\n",
        "editor = next(client.get_labeling_frontends(where=lb.LabelingFrontend.name == \"Editor\")) # Unless using a custom editor, do not modify this\n",
        "\n",
        "project.setup(editor, ontology_builder.asdict()) # Connect your ontology and editor to your project\n"
      ],
      "cell_type": "code",
      "outputs": [
        {
          "name": "stderr",
          "output_type": "stream",
          "text": [
            "WARNING:labelbox.client:Default createProject behavior will soon be adjusted to prefer batch projects. Pass in `queue_mode` parameter explicitly to opt-out for the time being.\n"
          ]
        }
      ],
      "execution_count": null
    },
    {
      "metadata": {},
      "source": [
        "## Step 4: Send a batch of data rows to the project"
      ],
      "cell_type": "markdown"
    },
    {
      "metadata": {},
      "source": [
        "# Setup Batches and Ontology\n",
        "\n",
        "# Create a batch to send to your MAL project\n",
        "batch = project.create_batch(\n",
        "  \"first-batch-convo-demo\", # Each batch in a project must have a unique name\n",
        "  [data_row.uid], # Paginated collection of data row objects\n",
        "  5 # priority between 1(Highest) - 5(lowest)\n",
        ")\n",
        "\n",
        "print(\"Batch: \", batch)"
      ],
      "cell_type": "code",
      "outputs": [
        {
          "name": "stdout",
          "output_type": "stream",
          "text": [
            "Batch:  <Batch {\n",
            "    \"consensus_settings_json\": \"{\\\"numberOfLabels\\\":1,\\\"coveragePercentage\\\":0}\",\n",
            "    \"created_at\": \"2022-12-23 20:20:51+00:00\",\n",
            "    \"name\": \"first-batch-convo-demo\",\n",
            "    \"size\": 1,\n",
            "    \"uid\": \"4bceaa60-82ff-11ed-b68f-3b1759fe9ddf\",\n",
            "    \"updated_at\": \"2022-12-23 20:20:51+00:00\"\n",
            "}>\n"
          ]
        }
      ],
      "execution_count": null
    },
    {
      "metadata": {},
      "source": [
        "## Step 5: Create the annotations payload\n",
        "Create the annotations payload using the snippets of code above\n",
        "\n",
        "Labelbox support two formats for the annotations payload: NDJSON and Python Annotation types. However,for conversational texts NDJSON is the only supported format. "
      ],
      "cell_type": "markdown"
    },
    {
      "metadata": {},
      "source": [
        "### NDJSON annotations \n",
        "Here we create the complete label NDJSON payload of annotations only using NDJSON format. There is one annotation for each reference to an annotation that we created [above](https://colab.research.google.com/drive/1rFv-VvHUBbzFYamz6nSMRJz1mEg6Ukqq#scrollTo=3umnTd-MfI0o&line=1&uniqifier=1)."
      ],
      "cell_type": "markdown"
    },
    {
      "metadata": {},
      "source": [
        "label_ndjson = []\n",
        "for annotations in [ner_annotation,\n",
        "                    text_annotation,\n",
        "                    checklist_annotation,\n",
        "                    radio_annotation]:\n",
        "  annotations.update({\n",
        "      'uuid': str(uuid.uuid4()),\n",
        "      'dataRow': {\n",
        "          'id': data_row.uid\n",
        "      }\n",
        "  })\n",
        "  label_ndjson.append(annotations)"
      ],
      "cell_type": "code",
      "outputs": [],
      "execution_count": null
    },
    {
      "metadata": {},
      "source": [
        "label_ndjson"
      ],
      "cell_type": "code",
      "outputs": [
        {
          "data": {
            "text/plain": [
              "[{'name': 'ner',\n",
              "  'location': {'start': 0, 'end': 8},\n",
              "  'messageId': '4',\n",
              "  'uuid': 'ce5805b9-1353-432e-9f7a-38cdfa901d5d',\n",
              "  'dataRow': {'id': 'clc0ygvde029307yn96gv2byu'}},\n",
              " {'name': 'text_convo',\n",
              "  'answer': 'the answer to the text questions right here',\n",
              "  'messageId': '0',\n",
              "  'uuid': '2852bb2d-9355-42df-bb95-3db48247cbf7',\n",
              "  'dataRow': {'id': 'clc0ygvde029307yn96gv2byu'}},\n",
              " {'name': 'checklist_convo',\n",
              "  'answers': [{'name': 'first_checklist_answer'},\n",
              "   {'name': 'second_checklist_answer'}],\n",
              "  'messageId': '2',\n",
              "  'uuid': '623fa806-166e-436b-8d1b-dbdc30f23ee5',\n",
              "  'dataRow': {'id': 'clc0ygvde029307yn96gv2byu'}},\n",
              " {'name': 'radio_convo',\n",
              "  'answer': {'name': 'first_radio_answer'},\n",
              "  'messageId': '0',\n",
              "  'uuid': 'a256e84a-5012-4fd4-833f-637935a22fd4',\n",
              "  'dataRow': {'id': 'clc0ygvde029307yn96gv2byu'}}]"
            ]
          },
          "execution_count": 13,
          "metadata": {},
          "output_type": "execute_result"
        }
      ],
      "execution_count": null
    },
    {
      "metadata": {},
      "source": [
        "### Step 6: Upload annotations to a project as pre-labels or complete labels"
      ],
      "cell_type": "markdown"
    },
    {
      "metadata": {},
      "source": [
        "#### Model Assisted Labeling (MAL)\n",
        "For the purpose of this tutorial only run one of the label_ndjosn annotation type tools at the time (NDJSON or Annotation types). Delete the previous labels before uploading labels that use the 2nd method (ndjson)"
      ],
      "cell_type": "markdown"
    },
    {
      "metadata": {},
      "source": [
        "# Upload our label using Model-Assisted Labeling\n",
        "upload_job = lb.MALPredictionImport.create_from_objects(\n",
        "    client = client, \n",
        "    project_id = project.uid, \n",
        "    name=f\"mal_job-{str(uuid.uuid4())}\", \n",
        "    predictions=label_ndjson)\n",
        "\n",
        "upload_job.wait_until_done();\n",
        "print(\"Errors:\", upload_job.errors)\n",
        "print(\" \")"
      ],
      "cell_type": "code",
      "outputs": [
        {
          "name": "stdout",
          "output_type": "stream",
          "text": [
            "Errors: []\n",
            " \n"
          ]
        }
      ],
      "execution_count": null
    },
    {
      "metadata": {},
      "source": [
        "annotations"
      ],
      "cell_type": "code",
      "outputs": [
        {
          "data": {
            "text/plain": [
              "[{'name': 'ner', 'location': {'start': 0, 'end': 8}, 'messageId': '4'},\n",
              " {'name': 'text_convo',\n",
              "  'answer': 'the answer to the text questions right here',\n",
              "  'uuid': '0ae2b42b-0e01-4bd6-8e4f-5ebfe6402a05',\n",
              "  'dataRow': {'id': 'clc0okhr74aq607yb6fv83crl'},\n",
              "  'messageId': '0'},\n",
              " {'name': 'checklist_convo',\n",
              "  'uuid': '8a382c09-da4c-455f-80ee-16fb05165e4a',\n",
              "  'answers': [{'name': 'first_checklist_answer'},\n",
              "   {'name': 'second_checklist_answer'}],\n",
              "  'dataRow': {'id': 'clc0okhr74aq607yb6fv83crl'},\n",
              "  'messageId': '2'},\n",
              " {'name': 'radio_convo',\n",
              "  'uuid': '515e4f05-6cf1-4e8c-b183-d633c49f5106',\n",
              "  'dataRow': {'id': 'clc0okhr74aq607yb6fv83crl'},\n",
              "  'answer': {'name': 'first_radio_answer'},\n",
              "  'messageId': '0'}]"
            ]
          },
          "execution_count": 45,
          "metadata": {},
          "output_type": "execute_result"
        }
      ],
      "execution_count": null
    },
    {
      "metadata": {},
      "source": [
        "#### Label Import"
      ],
      "cell_type": "markdown"
    },
    {
      "metadata": {},
      "source": [
        "# Upload label for this data row in project \n",
        "upload_job = lb.LabelImport.create_from_objects(\n",
        "    client = client, \n",
        "    project_id = project.uid, \n",
        "    name=\"label_geo_import_job\"+str(uuid.uuid4()),  \n",
        "    # user label_ndjson if labels were created using python annotation tools\n",
        "    labels=label_ndjson)\n",
        "\n",
        "upload_job.wait_until_done();\n",
        "print(\"Errors:\", upload_job.errors)"
      ],
      "cell_type": "code",
      "outputs": [
        {
          "name": "stdout",
          "output_type": "stream",
          "text": [
            "Errors: []\n"
          ]
        }
      ],
      "execution_count": null
    },
    {
      "metadata": {},
      "source": [
        "### Optional deletions for cleanup "
      ],
      "cell_type": "markdown"
    },
    {
      "metadata": {},
      "source": [
        "#upload_job\n",
        "# project.delete()\n",
        "# dataset.delete()"
      ],
      "cell_type": "code",
      "outputs": [],
      "execution_count": null
    }
  ]
}