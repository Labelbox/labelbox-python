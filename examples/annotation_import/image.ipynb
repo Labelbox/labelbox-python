{
  "cells": [
    {
      "cell_type": "markdown",
      "id": "a6a048e8-b5fe-418b-aec4-829b5b6802e5",
      "metadata": {
        "id": "a6a048e8-b5fe-418b-aec4-829b5b6802e5"
      },
      "source": [
        "<td>\n",
        "   <a target=\"_blank\" href=\"https://labelbox.com\" ><img src=\"https://labelbox.com/blog/content/images/2021/02/logo-v4.svg\" width=256/></a>\n",
        "</td>"
      ]
    },
    {
      "cell_type": "markdown",
      "id": "51cf1362-1cde-4749-aac7-5fb94473baa7",
      "metadata": {
        "id": "51cf1362-1cde-4749-aac7-5fb94473baa7"
      },
      "source": [
        "<td>\n",
        "<a href=\"https://colab.research.google.com/github/Labelbox/labelbox-python/blob/develop/examples/annotation_import/image.ipynb\" target=\"_blank\"><img\n",
        "src=\"https://colab.research.google.com/assets/colab-badge.svg\" alt=\"Open In Colab\"></a>\n",
        "</td>\n",
        "\n",
        "\n",
        "\n",
        "\n",
        "<td>\n",
        "<a href=\"https://github.com/Labelbox/labelbox-python/tree/develop/examples/annotation_import/image.ipynb\" target=\"_blank\"><img\n",
        "src=\"https://img.shields.io/badge/GitHub-100000?logo=github&logoColor=white\" alt=\"GitHub\"></a>\n",
        "</td>"
      ]
    },
    {
      "cell_type": "markdown",
      "id": "339795d3-e36c-4470-8605-62bfdd5eea29",
      "metadata": {
        "id": "339795d3-e36c-4470-8605-62bfdd5eea29"
      },
      "source": [
        "# Image Annotation Import\n",
        "This notebook will provide examples of each supported annotation type for image assets. \n",
        "\n",
        "### [Model-assisted labeling (MAL)](https://docs.labelbox.com/v4/docs/model-assisted-labeling)\n",
        "* This workflow allows you to import computer-generated predictions (or simply annotations created outside of Labelbox) as pre-labels on an asset. \n",
        "The imported annotations will be pre-populated in the labeling editor. However, in order to convert the pre-labels to real annotations, a human labeler will still need to open the Data Row in the Editor and submit it. This functionality is designed to speed up human labeling.\n",
        "\n",
        "\n",
        "### [Import ground truth](https://docs.labelbox.com/v4/docs/import-ground-truth)\n",
        "* This  workflow functionality allows you to bulk import your ground truth annotations from an external or third-party labeling system into Labelbox Annotate. Using the label import API to import external data is a useful way to consolidate and migrate all annotations into Labelbox as a single source of truth.\n",
        "\n",
        "\n",
        "### Python Annotation types vs NDJSON\n",
        "**Python Annotation Type (recommended)**\n",
        "- Provides a seamless transition between third-party platforms, machine learning pipelines, and Labelbox.\n",
        "\n",
        "- Allows you to build annotations locally with local file paths, numpy arrays, or URLs\n",
        "\n",
        "- Easily convert Python Annotation Type format to NDJSON format to quickly import annotations to Labelbox\n",
        "\n",
        "- It supports one-level nested classification (free text / radio / checklist) under the object or classification annotation.\n",
        "\n",
        "**NDJSON**\n",
        "- Skip formatting annotation payload in the Python Annotation Types format just to convert back to NDJSON\n",
        "\n",
        "- Ability to create the payload in the NDJSON import format directly\n",
        "\n",
        "- It supports any levels of nested classification (free text / radio / checklist) under the object or classification annotation."
      ]
    },
    {
      "cell_type": "markdown",
      "id": "6f3cdca1-524f-4247-a63b-2d4371b0257d",
      "metadata": {
        "id": "6f3cdca1-524f-4247-a63b-2d4371b0257d"
      },
      "source": [
        "## Imports"
      ]
    },
    {
      "cell_type": "code",
      "execution_count": 30,
      "id": "4d63074b-2379-48af-b9d6-2a66190f03c4",
      "metadata": {
        "id": "4d63074b-2379-48af-b9d6-2a66190f03c4"
      },
      "outputs": [],
      "source": [
        "!pip install -q 'labelbox[data]'"
      ]
    },
    {
      "cell_type": "code",
      "execution_count": 31,
      "id": "01fca8c9-0680-4a9c-a11e-1b49f31e9121",
      "metadata": {
        "id": "01fca8c9-0680-4a9c-a11e-1b49f31e9121"
      },
      "outputs": [],
      "source": [
        "from labelbox.schema.ontology import OntologyBuilder, Tool, Classification, Option\n",
        "from labelbox import Client, MALPredictionImport, LabelImport\n",
        "from labelbox.data.annotation_types import (\n",
        "    Label, ImageData, ObjectAnnotation, MaskData,\n",
        "    Rectangle, Point, Line, Mask, Polygon,\n",
        "    Radio, Checklist, Text,\n",
        "    ClassificationAnnotation, ClassificationAnswer\n",
        ")\n",
        "from labelbox.data.serialization import NDJsonConverter\n",
        "from labelbox.schema.media_type import MediaType\n",
        "import uuid\n",
        "import numpy as np\n",
        "from labelbox.schema.queue_mode import QueueMode\n"
      ]
    },
    {
      "cell_type": "markdown",
      "id": "3lZ_ztAxfZ-d",
      "metadata": {
        "id": "3lZ_ztAxfZ-d"
      },
      "source": [
        "## Replace with your API KEY\n",
        "\n",
        "Guides on [Create an API key](https://docs.labelbox.com/docs/create-an-api-key)"
      ]
    },
    {
      "cell_type": "code",
      "execution_count": 32,
      "id": "wsbqcuCqfZmg",
      "metadata": {
        "id": "wsbqcuCqfZmg"
      },
      "outputs": [],
      "source": [
        "API_KEY = None\n",
        "client = Client(API_KEY)"
      ]
    },
    {
      "cell_type": "markdown",
      "id": "PKUj8iRnLMjs",
      "metadata": {
        "id": "PKUj8iRnLMjs"
      },
      "source": [
        "## Supported Annotations for Image\n"
      ]
    },
    {
      "cell_type": "markdown",
      "id": "OePiibbed0nG",
      "metadata": {
        "id": "OePiibbed0nG"
      },
      "source": [
        "### Supported Annotation Types"
      ]
    },
    {
      "cell_type": "code",
      "execution_count": 33,
      "id": "v5wL6oojz9Ge",
      "metadata": {
        "id": "v5wL6oojz9Ge"
      },
      "outputs": [],
      "source": [
        "########### Radio Classification ###########\n",
        "\n",
        "# Python annotation\n",
        "radio_annotation = ClassificationAnnotation(\n",
        "    name=\"radio_question\", \n",
        "    value=Radio(answer = ClassificationAnswer(name = \"second_radio_answer\"))\n",
        ")\n",
        "\n",
        "# NDJSON\n",
        "radio_annotation_ndjson = {\n",
        "  'name': 'radio_question',\n",
        "  'answer': {'name': 'second_radio_answer'}\n",
        "} "
      ]
    },
    {
      "cell_type": "code",
      "execution_count": 34,
      "id": "I75K-wx7_sDs",
      "metadata": {
        "id": "I75K-wx7_sDs"
      },
      "outputs": [],
      "source": [
        "########## Nested Radio Classification is only supported with NDJSON tools##########\n",
        "\n",
        "# NDJSON \n",
        "nested_radio_annotation_ndjson = {\n",
        "  \"name\": \"nested_radio_question\",\n",
        "  \"answer\": {\"name\": \"first_radio_answer\"},\n",
        "  \"classifications\" : [\n",
        "   {'name': 'sub_radio_question', 'answer': {'name': 'first_sub_radio_answer'}}\n",
        "   ]\n",
        "}\n"
      ]
    },
    {
      "cell_type": "code",
      "execution_count": 35,
      "id": "b2UjSoYez9I1",
      "metadata": {
        "id": "b2UjSoYez9I1"
      },
      "outputs": [],
      "source": [
        "############ Checklist question ############\n",
        "\n",
        "# Python Annotations\n",
        "checklist_annotation = ClassificationAnnotation(\n",
        "  name=\"checklist_question\", # must match your ontology feature's name\n",
        "  value=Checklist(answer = [ClassificationAnswer(name = \"first_checklist_answer\"), ClassificationAnswer(name = \"second_checklist_answer\")])\n",
        " )\n",
        "\n",
        "# NDJSON\n",
        "checklist_annotation_ndjson = {\n",
        "  'name': 'checklist_question',\n",
        "  'answer': [\n",
        "    {'name': 'first_checklist_answer'},\n",
        "    {'name': 'second_checklist_answer'}\n",
        "  ]\n",
        "}"
      ]
    },
    {
      "cell_type": "code",
      "execution_count": 36,
      "id": "qGSXRtKpz9LQ",
      "metadata": {
        "id": "qGSXRtKpz9LQ"
      },
      "outputs": [],
      "source": [
        "############# Free text Classification #############\n",
        "\n",
        "# Python annotation\n",
        "text_annotation = ClassificationAnnotation(\n",
        "  name=\"free_text\",  # must match your ontology feature's name\n",
        "  value=Text(answer=\"sample text\")\n",
        ")\n",
        "\n",
        "\n",
        "# NDJSON\n",
        "text_annotation_ndjson = {\n",
        "  'name': 'free_text',\n",
        "  'answer': 'sample text',\n",
        "}"
      ]
    },
    {
      "cell_type": "code",
      "execution_count": 37,
      "id": "xCU4JRP0z9Nh",
      "metadata": {
        "id": "xCU4JRP0z9Nh"
      },
      "outputs": [],
      "source": [
        "####### Bounding box #######\n",
        "\n",
        "\n",
        "# Python Annotation \n",
        "bbox_annotation = ObjectAnnotation(\n",
        "  name = \"bounding_box\",  # must match your ontology feature's name\n",
        "  value = Rectangle(\n",
        "        start=Point(x=977, y=1690), # Top left\n",
        "        end=Point(x=330, y=225), # Bottom right\n",
        "    ),\n",
        ")\n",
        "\n",
        "#NDJSON \n",
        "bbox_annotation_ndjson = {\n",
        "  'name': 'bounding_box',\n",
        "  'bbox': {\n",
        "          \"top\": 977,\n",
        "          \"left\": 1690,\n",
        "          \"height\": 330,\n",
        "          \"width\": 225\n",
        "      }\n",
        "}\n"
      ]
    },
    {
      "cell_type": "code",
      "execution_count": 38,
      "id": "gAIzsxEjLmhv",
      "metadata": {
        "id": "gAIzsxEjLmhv"
      },
      "outputs": [],
      "source": [
        "# Bounding box with nested classification\n",
        "bbox_with_radio_subclass_annotation = ObjectAnnotation(\n",
        "    name=\"bbox_with_radio_subclass\", # must match your ontology feature's name\n",
        "    value=Rectangle(\n",
        "        start=Point(x=933, y=541), # Top left\n",
        "        end=Point(x=191, y=330), # Bottom right\n",
        "    ),\n",
        "    classifications=[\n",
        "    \tClassificationAnnotation(\n",
        "        \tname=\"sub_radio_question\",\n",
        "      \t\tvalue=Radio(answer=ClassificationAnswer(name=\"first_sub_radio_answer\"))\n",
        "    )\n",
        "  ]\n",
        ")\n",
        "\n",
        "\n",
        "## NDJSON\n",
        "bbox_with_radio_subclass_ndjson = {\n",
        "    \"name\": \"bbox_with_radio_subclass\", \n",
        "    \"classifications\": [{\n",
        "        \"name\": \"sub_radio_question\",\n",
        "        \"answer\": \n",
        "            { \"name\":\"first_sub_radio_answer\" }\n",
        "         \n",
        "    }],\n",
        "    \"bbox\": {\n",
        "          \"top\": 933,\n",
        "          \"left\": 541,\n",
        "          \"height\": 191,\n",
        "          \"width\": 330\n",
        "        }\n",
        "}"
      ]
    },
    {
      "cell_type": "code",
      "execution_count": 39,
      "id": "jRwfE4MFz9Ph",
      "metadata": {
        "id": "jRwfE4MFz9Ph"
      },
      "outputs": [],
      "source": [
        "########## Polygon ##########\n",
        "# Python Anotation \n",
        "polygon_annotation = ObjectAnnotation(\n",
        "  name = \"polygon\", # must match your ontology feature's name\n",
        "  value=Polygon( # Coordinates for the verticies of your polygon\n",
        "        points=[Point(x=1489.581,y=183.934),Point(x=2278.306,y=256.885),Point(x=2428.197,y=200.437),Point(x=2560.0,y=335.419),\n",
        "                Point(x=2557.386,y=503.165),Point(x=2320.596,y=503.103),Point(x=2156.083, y=628.943),Point(x=2161.111,y=785.519),\n",
        "                Point(x=2002.115, y=894.647),Point(x=1838.456,y=877.874),Point(x=1436.53,y=874.636),Point(x=1411.403,y=758.579),\n",
        "                Point(x=1353.853,y=751.74),Point(x=1345.264, y=453.461),Point(x=1426.011,y=421.129)]\n",
        "    ),\n",
        ")\n",
        "\n",
        "\n",
        "# NDJSON\n",
        "\n",
        "polygon_annotation_ndjson = {\n",
        "  'name': 'polygon',\n",
        "  'polygon': [\n",
        "    {'x': 1489.581, 'y': 183.934},\n",
        "    {'x': 2278.306, 'y': 256.885},\n",
        "    {'x': 2428.197, 'y': 200.437},\n",
        "    {'x': 2560.0, 'y': 335.419},\n",
        "    {'x': 2557.386, 'y': 503.165},\n",
        "    {'x': 2320.596, 'y': 503.103},\n",
        "    {'x': 2156.083, 'y': 628.943},\n",
        "    {'x': 2161.111, 'y': 785.519},\n",
        "    {'x': 2002.115, 'y': 894.647},\n",
        "    {'x': 1838.456, 'y': 877.874},\n",
        "    {'x': 1436.53, 'y': 874.636},\n",
        "    {'x': 1411.403, 'y': 758.579},\n",
        "    {'x': 1353.853, 'y': 751.74},\n",
        "    {'x': 1345.264, 'y': 453.461},\n",
        "    {'x': 1426.011, 'y': 421.129},\n",
        "    {'x': 1489.581, 'y': 183.934}\n",
        "  ]\n",
        "}"
      ]
    },
    {
      "cell_type": "code",
      "execution_count": 40,
      "id": "39vz-tYsz9Ry",
      "metadata": {
        "id": "39vz-tYsz9Ry"
      },
      "outputs": [],
      "source": [
        "######### Mask #########\n",
        "\n",
        "# Python \n",
        "# Identifying what values in the numpy array correspond to the mask annotation\n",
        "color = (0, 0, 0)\n",
        "\n",
        "# convert a polygon to mask\n",
        "im_height, im_width = 100,100 #need to provide the height and width of image.\n",
        "mask_data = MaskData(arr=\n",
        "                     polygon_annotation.value.draw(height=im_height,width=im_width,color=color))\n",
        "\n",
        "# convert a 2D array to 3D array\n",
        "arr_2d = np.zeros((100,100), dtype='uint8')\n",
        "mask_data = MaskData.from_2D_arr(arr_2d)\n",
        "\n",
        "# a 3D array where 3rd axis is RGB values.\n",
        "mask_data = MaskData(arr= np.zeros([400,450,3],dtype='uint8'))\n",
        "\n",
        "mask_annotation = ObjectAnnotation(\n",
        "  name = \"mask\", # must match your ontology feature's name\n",
        "  value = Mask(mask=mask_data, color=color),\n",
        ")\n",
        "\n",
        "\n",
        "# NDJSON\n",
        "mask_annotation_ndjson = {\n",
        "  'name': 'mask',\n",
        "  'classifications': [],\n",
        "  'mask': {'instanceURI': 'https://storage.labelbox.com/cjhfn5y6s0pk507024nz1ocys%2F1d60856c-59b7-3060-2754-83f7e93e0d01-1?Expires=1666901963361&KeyName=labelbox-assets-key-3&Signature=t-2s2DB4YjFuWEFak0wxYqfBfZA',\n",
        "  'colorRGB': (0, 0, 0)}\n",
        "}\n",
        "\n"
      ]
    },
    {
      "cell_type": "code",
      "execution_count": 41,
      "id": "UelSiWN2z9Tg",
      "metadata": {
        "id": "UelSiWN2z9Tg"
      },
      "outputs": [],
      "source": [
        "######## Point Annotation ########\n",
        "\n",
        "# Python Annotation\n",
        "point_annotation = ObjectAnnotation(\n",
        "  name = \"point\",  # must match your ontology feature's name\n",
        "  value = Point(x=1166.606, y=1441.768),\n",
        ")\n",
        "\n",
        "\n",
        "# NDJSON\n",
        "point_annotation_ndjson = {\n",
        "  'name': 'point',\n",
        "  'classifications': [],\n",
        "  'point': {'x': 1166.606, 'y': 1441.768}\n",
        "}"
      ]
    },
    {
      "cell_type": "code",
      "execution_count": 42,
      "id": "mrjb8qY3z9VY",
      "metadata": {
        "id": "mrjb8qY3z9VY"
      },
      "outputs": [],
      "source": [
        "###### Polygon ######\n",
        "\n",
        "\n",
        "# Python Annotation \n",
        "\n",
        "polyline_annotation = ObjectAnnotation(\n",
        "  name = \"polyline\", # must match your ontology feature's name\n",
        "  value=Line( # Coordinates for the keypoints in your polyline\n",
        "        points=[Point(x=2534.353, y=249.471),Point(x=2429.492, y=182.092),Point(x=2294.322, y=221.962),Point(x=2224.491, y=180.463),Point(x=2136.123, y=204.716),\n",
        "                Point(x=1712.247, y=173.949),Point(x=1703.838, y=84.438),Point(x=1579.772, y=82.61),Point(x=1583.442, y=167.552),\n",
        "                Point(x=1478.869, y=164.903),Point(x=1418.941, y=318.149),Point(x=1243.128, y=400.815),Point(x=1022.067, y=319.007),\n",
        "                Point(x=892.367, y=379.216),Point(x=670.273, y=364.408),Point(x=613.114, y=288.16),Point(x=377.559, y=238.251),\n",
        "                Point(x=368.087, y=185.064),Point(x=246.557, y=167.286),Point(x=236.648, y=285.61),Point(x=90.929, y=326.412)]\n",
        "    ),\n",
        ")\n",
        "\n",
        "# NDJSON\n",
        "polyline_annotation_ndjson = {\n",
        "  'name': 'polyline',\n",
        "  'classifications': [],\n",
        "  'line': [\n",
        "    {'x': 2534.353, 'y': 249.471},\n",
        "    {'x': 2429.492, 'y': 182.092},\n",
        "    {'x': 2294.322, 'y': 221.962},\n",
        "    {'x': 2224.491, 'y': 180.463},\n",
        "    {'x': 2136.123, 'y': 204.716},\n",
        "    {'x': 1712.247, 'y': 173.949},\n",
        "    {'x': 1703.838, 'y': 84.438},\n",
        "    {'x': 1579.772, 'y': 82.61},\n",
        "    {'x': 1583.442, 'y': 167.552},\n",
        "    {'x': 1478.869, 'y': 164.903},\n",
        "    {'x': 1418.941, 'y': 318.149},\n",
        "    {'x': 1243.128, 'y': 400.815},\n",
        "    {'x': 1022.067, 'y': 319.007},\n",
        "    {'x': 892.367, 'y': 379.216},\n",
        "    {'x': 670.273, 'y': 364.408},\n",
        "    {'x': 613.114, 'y': 288.16},\n",
        "    {'x': 377.559, 'y': 238.251},\n",
        "    {'x': 368.087, 'y': 185.064},\n",
        "    {'x': 246.557, 'y': 167.286},\n",
        "    {'x': 236.648, 'y': 285.61},\n",
        "    {'x': 90.929, 'y': 326.412}\n",
        "  ]\n",
        "}\n"
      ]
    },
    {
      "cell_type": "markdown",
      "id": "cHom688XLQuM",
      "metadata": {
        "id": "cHom688XLQuM"
      },
      "source": [
        "# Upload Annotations - putting it all together\n"
      ]
    },
    {
      "cell_type": "markdown",
      "id": "NjJbPAXALVLv",
      "metadata": {
        "id": "NjJbPAXALVLv"
      },
      "source": [
        "## Step 1: Import data rows into Catalog\n",
        "\n"
      ]
    },
    {
      "cell_type": "code",
      "execution_count": 45,
      "id": "xJ3DZLv_LGsK",
      "metadata": {
        "colab": {
          "base_uri": "https://localhost:8080/"
        },
        "id": "xJ3DZLv_LGsK",
        "outputId": "2c447152-e7d8-4a42-889b-0a6344ad371d"
      },
      "outputs": [
        {
          "name": "stdout",
          "output_type": "stream",
          "text": [
            "<DataRow {\n",
            "    \"created_at\": \"2023-01-30 17:43:42+00:00\",\n",
            "    \"external_id\": null,\n",
            "    \"global_key\": \"3ed74b59-074c-4cb6-98bf-b4c3098ab2a6\",\n",
            "    \"media_attributes\": {},\n",
            "    \"metadata\": [],\n",
            "    \"metadata_fields\": [],\n",
            "    \"row_data\": \"https://raw.githubusercontent.com/Labelbox/labelbox-python/develop/examples/assets/2560px-Kitano_Street_Kobe01s5s4110.jpg\",\n",
            "    \"uid\": \"cldj3nso96t5l07xd9d1nf46s\",\n",
            "    \"updated_at\": \"2023-01-30 17:43:42+00:00\"\n",
            "}>\n"
          ]
        },
        {
          "data": {
            "text/plain": [
              "2"
            ]
          },
          "execution_count": 45,
          "metadata": {},
          "output_type": "execute_result"
        }
      ],
      "source": [
        "# send a sample image as batch to the project\n",
        "\n",
        "\n",
        "test_img_url = {\n",
        "    \"row_data\": \"https://storage.googleapis.com/labelbox-datasets/image_sample_data/2560px-Kitano_Street_Kobe01s5s4110.jpeg\",\n",
        "    \"global_key\": str(uuid.uuid4())\n",
        "}\n",
        "  \n",
        "\n",
        "dataset = client.create_dataset(name=\"demo_dataset_img\")\n",
        "data_row = dataset.create_data_row(test_img_url)\n",
        "print(data_row)\n",
        "\n",
        "len(test_img_url)"
      ]
    },
    {
      "attachments": {},
      "cell_type": "markdown",
      "id": "vMW66b-SLgkX",
      "metadata": {
        "id": "vMW66b-SLgkX"
      },
      "source": [
        "## Step 2: Create/select an Ontology\n",
        "Your project should have the correct ontology setup with all the tools and classifications supported for your annotations, and the tool and classification names should match the `name` field in your annotations to ensure the correct feature schemas are matched.\n",
        "\n",
        "For example, when we create the bounding box annotation above, we provided the `name` as `polyline`. Now, when we setup our ontology, we must ensure that the name of my bounding box tool is also `polyline`. The same alignment must hold true for the other tools and classifications we create in our ontology.\n",
        "\n",
        "\n"
      ]
    },
    {
      "cell_type": "code",
      "execution_count": 46,
      "id": "ojonQWaO3Rfv",
      "metadata": {
        "id": "ojonQWaO3Rfv"
      },
      "outputs": [],
      "source": [
        "\n",
        "ontology_builder = OntologyBuilder(\n",
        "  classifications=[ # List of Classification objects\n",
        "    Classification( # Radio classification given the name \"text\" with two options: \"first_radio_answer\" and \"second_radio_answer\"\n",
        "      class_type=Classification.Type.RADIO, \n",
        "      name=\"radio_question\", \n",
        "      options=[\n",
        "        Option(value=\"first_radio_answer\"),\n",
        "        Option(value=\"second_radio_answer\")\n",
        "      ]\n",
        "    ),\n",
        "    Classification( # Checklist classification given the name \"text\" with two options: \"first_checklist_answer\" and \"second_checklist_answer\"\n",
        "      class_type=Classification.Type.CHECKLIST, \n",
        "      name=\"checklist_question\", \n",
        "      options=[\n",
        "        Option(value=\"first_checklist_answer\"),\n",
        "        Option(value=\"second_checklist_answer\")            \n",
        "      ]\n",
        "    ), \n",
        "     Classification( # Text classification given the name \"text\"\n",
        "      class_type=Classification.Type.TEXT,\n",
        "      name=\"free_text\"\n",
        "      ),\n",
        "      Classification(\n",
        "          class_type=Classification.Type.RADIO, \n",
        "          name=\"nested_radio_question\",\n",
        "          options=[\n",
        "              Option(\"first_radio_answer\",\n",
        "                  options=[\n",
        "                      Classification(\n",
        "                          class_type=Classification.Type.RADIO,\n",
        "                          name=\"sub_radio_question\",\n",
        "                          options=[Option(\"first_sub_radio_answer\")]\n",
        "                      )\n",
        "                  ]\n",
        "              )\n",
        "            ] \n",
        "          )    \n",
        "    \n",
        "    ],\n",
        "  tools=[ # List of Tool objects\n",
        "    Tool( # Bounding Box tool given the name \"box\"\n",
        "      tool=Tool.Type.BBOX, \n",
        "      name=\"bounding_box\"), \n",
        "    Tool( # Bounding Box tool given the name \"box\"\n",
        "      tool=Tool.Type.BBOX, \n",
        "      name=\"bbox_with_radio_subclass\",\n",
        "      classifications=[\n",
        "            Classification(\n",
        "                class_type=Classification.Type.RADIO,\n",
        "                name=\"sub_radio_question\",\n",
        "                options=[\n",
        "                  Option(value=\"first_sub_radio_answer\")\n",
        "                ]\n",
        "              ),\n",
        "        ]\n",
        "      ), \n",
        "    Tool( # Polygon tool given the name \"polygon\"\n",
        "      tool=Tool.Type.POLYGON, \n",
        "      name=\"polygon\"),\n",
        "    Tool( # Segmentation mask tool given the name \"mask\"\n",
        "      tool=Tool.Type.SEGMENTATION, \n",
        "      name=\"mask\"),\n",
        " \t  Tool( # Point tool given the name \"point\"\n",
        "      tool=Tool.Type.POINT, \n",
        "      name=\"point\"), \n",
        "    Tool( # Polyline tool given the name \"line\"\n",
        "      tool=Tool.Type.LINE, \n",
        "      name=\"polyline\"),]\n",
        ")\n",
        "\n",
        "ontology = client.create_ontology(\"Ontology Image Annotations\", ontology_builder.asdict())\n"
      ]
    },
    {
      "cell_type": "markdown",
      "id": "dKEdVDBcLzfY",
      "metadata": {
        "id": "dKEdVDBcLzfY"
      },
      "source": [
        "## Step 3: Create a labeling project\n",
        "\n",
        "Connect the ontology to the labeling project"
      ]
    },
    {
      "cell_type": "code",
      "execution_count": 47,
      "id": "w1G8Mmb_z9Zx",
      "metadata": {
        "id": "w1G8Mmb_z9Zx"
      },
      "outputs": [],
      "source": [
        "\n",
        "# create a project and configure the ontology \n",
        "project = client.create_project(\n",
        "    name=\"annotations_import_project_demo\",\n",
        "    media_type=MediaType.Image,\n",
        "    queue_mode=QueueMode.Batch)\n",
        "\n",
        "project.setup_editor(ontology) # Connect your ontology and editor to your MAL project"
      ]
    },
    {
      "cell_type": "markdown",
      "id": "sz1Ulh0n6OJQ",
      "metadata": {
        "id": "sz1Ulh0n6OJQ"
      },
      "source": [
        "## Step 4: Send a batch of data rows to the project\n"
      ]
    },
    {
      "cell_type": "code",
      "execution_count": 48,
      "id": "eP8N9JOX6QZ_",
      "metadata": {
        "colab": {
          "base_uri": "https://localhost:8080/"
        },
        "id": "eP8N9JOX6QZ_",
        "outputId": "b1b66425-a276-4599-fd73-4c168588efe3"
      },
      "outputs": [
        {
          "name": "stdout",
          "output_type": "stream",
          "text": [
            "Batch <Batch {\n",
            "    \"consensus_settings_json\": \"{\\\"numberOfLabels\\\":1,\\\"coveragePercentage\\\":0}\",\n",
            "    \"created_at\": \"2023-01-30 17:43:58+00:00\",\n",
            "    \"name\": \"Initial batch2\",\n",
            "    \"size\": 1,\n",
            "    \"uid\": \"acef2a70-a0c5-11ed-ac19-71d552e4dbe5\",\n",
            "    \"updated_at\": \"2023-01-30 17:43:58+00:00\"\n",
            "}>\n"
          ]
        }
      ],
      "source": [
        "batch = project.create_batch(\n",
        "    \"Initial batch2\", # name of the batch\n",
        "    dataset.export_data_rows(), # list of Data Rows\n",
        "  1 # priority between 1-5\n",
        ")\n",
        "print(\"Batch\", batch)"
      ]
    },
    {
      "cell_type": "markdown",
      "id": "DvIggPYlL3TN",
      "metadata": {
        "id": "DvIggPYlL3TN"
      },
      "source": [
        "## Step 5: Create the annotations payload\n",
        "\n",
        "Create the annotations payload using the snippets of code above\n",
        "\n",
        "Labelbox support two formats for the annotations payload: NDJSON and Python Annotation types. Both are described below. If you are using Python Annotation types, compose your annotations into Labels attached to the data rows."
      ]
    },
    {
      "cell_type": "markdown",
      "id": "TgV8phkdecRi",
      "metadata": {
        "id": "TgV8phkdecRi"
      },
      "source": [
        "### Python Annotations\n",
        "\n",
        "Here we create the complete label ndjson payload of annotations only using python annotation format. There is one annotation for each reference to an annotation that we created."
      ]
    },
    {
      "cell_type": "code",
      "execution_count": 49,
      "id": "gwExeqRHz9eW",
      "metadata": {
        "id": "gwExeqRHz9eW"
      },
      "outputs": [],
      "source": [
        "# create a Label\n",
        "\n",
        "label = []\n",
        "for data_row in dataset.export_data_rows():\n",
        "  label.append(Label(\n",
        "      data=ImageData(\n",
        "          uid=data_row.uid),\n",
        "      annotations = [\n",
        "          checklist_annotation, \n",
        "          text_annotation,\n",
        "          bbox_annotation, \n",
        "          bbox_with_radio_subclass_annotation, \n",
        "          polygon_annotation, \n",
        "          mask_annotation, \n",
        "          point_annotation, \n",
        "          polyline_annotation\n",
        "      ]\n",
        "  )\n",
        ")\n",
        "\n",
        "\n",
        "# Convert our label from a Labelbox class object to the underlying NDJSON format required for upload \n",
        "label_ndjson = list(NDJsonConverter.serialize(label))"
      ]
    },
    {
      "cell_type": "markdown",
      "id": "rwP_YlBVeiex",
      "metadata": {
        "id": "rwP_YlBVeiex"
      },
      "source": [
        "### NDJSON annotations\n",
        "Here we create the complete label ndjson payload of annotations only using NDJSON format. There is one annotation for each reference to an annotation that we created above."
      ]
    },
    {
      "cell_type": "code",
      "execution_count": 50,
      "id": "QPBF3n0Cehsq",
      "metadata": {
        "id": "QPBF3n0Cehsq"
      },
      "outputs": [],
      "source": [
        "label_ndjson_method2 = []\n",
        "for annotation in [radio_annotation_ndjson, \n",
        "              checklist_annotation_ndjson, \n",
        "              text_annotation_ndjson,\n",
        "              bbox_annotation_ndjson, \n",
        "              bbox_with_radio_subclass_ndjson, \n",
        "              polygon_annotation_ndjson, \n",
        "              mask_annotation_ndjson, \n",
        "              point_annotation_ndjson, \n",
        "              polyline_annotation_ndjson,\n",
        "              nested_radio_annotation_ndjson]:\n",
        "  annotation.update({\n",
        "      'uuid': str(uuid.uuid4()),\n",
        "      'dataRow': {'id': data_row.uid},\n",
        "  })\n",
        "  label_ndjson_method2.append(annotation)\n"
      ]
    },
    {
      "cell_type": "markdown",
      "id": "CwCrhyiOU8am",
      "metadata": {
        "id": "CwCrhyiOU8am"
      },
      "source": [
        "## Step 6: Upload annotations to a project as pre-labels or complete labels"
      ]
    },
    {
      "cell_type": "markdown",
      "id": "XjIUycMLL-Iz",
      "metadata": {
        "id": "XjIUycMLL-Iz"
      },
      "source": [
        "### Model-Assisted Labeling\n",
        "For the purpose of this tutorial only run one of the label_ndjosn  annotation type tools at the time (NDJSON or Annotation types). Delete the previous labels before uploading labels that use the 2nd method (ndjson)\n"
      ]
    },
    {
      "cell_type": "code",
      "execution_count": 51,
      "id": "wPflwCr3_03e",
      "metadata": {
        "colab": {
          "base_uri": "https://localhost:8080/"
        },
        "id": "wPflwCr3_03e",
        "outputId": "0672edf2-c841-4f80-cfd9-02100259f694"
      },
      "outputs": [
        {
          "name": "stdout",
          "output_type": "stream",
          "text": [
            "Errors: []\n",
            " \n"
          ]
        }
      ],
      "source": [
        "# Upload MAL label for this data row in project\n",
        "upload_job = MALPredictionImport.create_from_objects(\n",
        "    client = client, \n",
        "    project_id = project.uid, \n",
        "    name=\"mal_job\"+str(uuid.uuid4()), \n",
        "    predictions=label_ndjson_method2)\n",
        "\n",
        "print(\"Errors:\", upload_job.errors)\n",
        "print(\" \")"
      ]
    },
    {
      "cell_type": "markdown",
      "id": "_C5wY3ctMCRs",
      "metadata": {
        "id": "_C5wY3ctMCRs"
      },
      "source": [
        "### Label Import\n"
      ]
    },
    {
      "cell_type": "code",
      "execution_count": 54,
      "id": "l2I_dRyXz9i2",
      "metadata": {
        "colab": {
          "base_uri": "https://localhost:8080/"
        },
        "id": "l2I_dRyXz9i2",
        "outputId": "0507f043-e037-4ef5-ae2c-490739a01267"
      },
      "outputs": [
        {
          "name": "stdout",
          "output_type": "stream",
          "text": [
            "Errors: []\n",
            " \n"
          ]
        }
      ],
      "source": [
        "# Upload label for this data row in project\n",
        "upload_job = LabelImport.create_from_objects(\n",
        "    client = client, \n",
        "    project_id = project.uid, \n",
        "    name=\"label_import_job\"+str(uuid.uuid4()),  \n",
        "    labels=label_ndjson_method2)\n",
        "\n",
        "print(\"Errors:\", upload_job.errors)\n",
        "print(\" \")"
      ]
    },
    {
      "cell_type": "code",
      "execution_count": null,
      "id": "y2Z76TrVDSp6",
      "metadata": {
        "id": "y2Z76TrVDSp6"
      },
      "outputs": [],
      "source": [
        "# project.delete()\n",
        "# dataset.delete()"
      ]
    }
  ],
  "metadata": {
    "colab": {
      "collapsed_sections": [
        "6f3cdca1-524f-4247-a63b-2d4371b0257d",
        "OePiibbed0nG"
      ],
      "provenance": []
    },
    "kernelspec": {
      "display_name": "Python 3",
      "language": "python",
      "name": "python3"
    },
    "language_info": {
      "codemirror_mode": {
        "name": "ipython",
        "version": 3
      },
      "file_extension": ".py",
      "mimetype": "text/x-python",
      "name": "python",
      "nbconvert_exporter": "python",
      "pygments_lexer": "ipython3",
      "version": "3.9.16 (main, Jan 23 2023, 23:42:27) \n[GCC 10.2.1 20210110]"
    },
    "vscode": {
      "interpreter": {
        "hash": "949777d72b0d2535278d3dc13498b2535136f6dfe0678499012e853ee9abcab1"
      }
    }
  },
  "nbformat": 4,
  "nbformat_minor": 5
}
