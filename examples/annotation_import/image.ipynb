{
  "cells": [
    {
      "cell_type": "markdown",
      "id": "a6a048e8-b5fe-418b-aec4-829b5b6802e5",
      "metadata": {
        "id": "a6a048e8-b5fe-418b-aec4-829b5b6802e5"
      },
      "source": [
        "<td>\n",
        "   <a target=\"_blank\" href=\"https://labelbox.com\" ><img src=\"https://labelbox.com/blog/content/images/2021/02/logo-v4.svg\" width=256/></a>\n",
        "</td>"
      ]
    },
    {
      "cell_type": "markdown",
      "id": "51cf1362-1cde-4749-aac7-5fb94473baa7",
      "metadata": {
        "id": "51cf1362-1cde-4749-aac7-5fb94473baa7"
      },
      "source": [
        "<td>\n",
        "<a href=\"https://colab.research.google.com/github/Labelbox/labelbox-python/blob/develop/examples/annotation_import/image.ipynb\" target=\"_blank\"><img\n",
        "src=\"https://colab.research.google.com/assets/colab-badge.svg\" alt=\"Open In Colab\"></a>\n",
        "</td>\n",
        "\n",
        "\n",
        "\n",
        "\n",
        "<td>\n",
        "<a href=\"https://github.com/Labelbox/labelbox-python/tree/develop/examples/annotation_import/image.ipynb\" target=\"_blank\"><img\n",
        "src=\"https://img.shields.io/badge/GitHub-100000?logo=github&logoColor=white\" alt=\"GitHub\"></a>\n",
        "</td>"
      ]
    },
    {
      "cell_type": "markdown",
      "id": "339795d3-e36c-4470-8605-62bfdd5eea29",
      "metadata": {
        "id": "339795d3-e36c-4470-8605-62bfdd5eea29"
      },
      "source": [
        "# Image Annotation Import\n",
        "* This notebook will provide examples of each supported annotation type for image assets.\n",
        "\n",
        "Supported annotations that can be uploaded through the SDK: \n",
        "- Bounding box\n",
        "- Polygon\n",
        "- Point\n",
        "- Polyline\n",
        "- Segmentation mask\n",
        "- Classification - radio\n",
        "- Classification - checklist\n",
        "- Classification - free-form text\n",
        "\n",
        "### [Model-assisted labeling (MAL)](https://docs.labelbox.com/v4/docs/model-assisted-labeling)\n",
        "* This workflow allows you to import computer-generated predictions (or simply annotations created outside of Labelbox) as pre-labels on an asset. \n",
        "The imported annotations will be pre-populated in the labeling editor. However, in order to convert the pre-labels to real annotations, a human labeler will still need to open the Data Row in the Editor and submit it. This functionality is designed to speed up human labeling.\n",
        "\n",
        "\n",
        "### [Import ground truth](https://docs.labelbox.com/v4/docs/import-ground-truth)\n",
        "* This  workflow functionality allows you to bulk import your ground truth annotations from an external or third-party labeling system into Labelbox Annotate. Using the label import API to import external data is a useful way to consolidate and migrate all annotations into Labelbox as a single source of truth.\n",
        "\n",
        "\n",
        "### Python Annotation types vs NDJSON\n",
        "**Python Annotation Type (recommended)**\n",
        "- Provides a seamless transition between third-party platforms, machine learning pipelines, and Labelbox.\n",
        "\n",
        "- Allows you to build annotations locally with local file paths, numpy arrays, or URLs\n",
        "\n",
        "- Easily convert Python Annotation Type format to NDJSON format to quickly import annotations to Labelbox\n",
        "\n",
        "- It supports one-level nested classification (free text / radio / checklist) under the object or classification annotation.\n",
        "\n",
        "**NDJSON**\n",
        "- Skip formatting annotation payload in the Python Annotation Types format just to convert back to NDJSON\n",
        "\n",
        "- Ability to create the payload in the NDJSON import format directly\n",
        "\n",
        "- It supports any levels of nested classification (free text / radio / checklist) under the object or classification annotation."
      ]
    },
    {
      "cell_type": "markdown",
      "id": "6f3cdca1-524f-4247-a63b-2d4371b0257d",
      "metadata": {
        "id": "6f3cdca1-524f-4247-a63b-2d4371b0257d"
      },
      "source": [
        "### Setup"
      ]
    },
    {
      "cell_type": "code",
      "execution_count": null,
      "id": "4d63074b-2379-48af-b9d6-2a66190f03c4",
      "metadata": {
        "id": "4d63074b-2379-48af-b9d6-2a66190f03c4"
      },
      "outputs": [],
      "source": [
        "!pip install -q 'labelbox[data]'"
      ]
    },
    {
      "cell_type": "code",
      "execution_count": null,
      "id": "01fca8c9-0680-4a9c-a11e-1b49f31e9121",
      "metadata": {
        "id": "01fca8c9-0680-4a9c-a11e-1b49f31e9121"
      },
      "outputs": [],
      "source": [
        "from labelbox.schema.ontology import OntologyBuilder, Tool, Classification, Option\n",
        "from labelbox import Client, MALPredictionImport, LabelImport\n",
        "from labelbox.data.serialization import NDJsonConverter\n",
        "from labelbox.schema.media_type import MediaType\n",
        "from labelbox.data.annotation_types import (\n",
        "    Label, ImageData, ObjectAnnotation, MaskData,\n",
        "    Rectangle, Point, Line, Mask, Polygon,\n",
        "    Radio, Checklist, Text,\n",
        "    ClassificationAnnotation, ClassificationAnswer\n",
        ")\n",
        "import uuid\n",
        "import numpy as np\n",
        "from labelbox.schema.queue_mode import QueueMode\n"
      ]
    },
    {
      "cell_type": "markdown",
      "metadata": {
        "id": "3lZ_ztAxfZ-d"
      },
      "source": [
        "### Replace with your API Key\n",
        "\n",
        "Guides on [Create an API key](https://docs.labelbox.com/docs/create-an-api-key)"
      ],
      "id": "3lZ_ztAxfZ-d"
    },
    {
      "cell_type": "code",
      "execution_count": null,
      "metadata": {
        "id": "wsbqcuCqfZmg"
      },
      "outputs": [],
      "source": [
        "API_KEY = \"\"\n",
        "client = Client(API_KEY)"
      ],
      "id": "wsbqcuCqfZmg"
    },
    {
      "cell_type": "markdown",
      "source": [
        "## Supported annotations for image\n"
      ],
      "metadata": {
        "id": "PKUj8iRnLMjs"
      },
      "id": "PKUj8iRnLMjs"
    },
    {
      "cell_type": "markdown",
      "source": [
        "### Supported Python annotation types and NDJSON"
      ],
      "metadata": {
        "id": "OePiibbed0nG"
      },
      "id": "OePiibbed0nG"
    },
    {
      "cell_type": "code",
      "source": [
        "########### Radio Classification ###########\n",
        "\n",
        "# Python annotation\n",
        "radio_annotation = ClassificationAnnotation(\n",
        "    name=\"radio_question\", \n",
        "    value=Radio(answer = ClassificationAnswer(name = \"second_radio_answer\"))\n",
        ")\n",
        "\n",
        "# NDJSON\n",
        "radio_annotation_ndjson = {\n",
        "  'name': 'radio_question',\n",
        "  'answer': {'name': 'second_radio_answer'}\n",
        "} "
      ],
      "metadata": {
        "id": "v5wL6oojz9Ge"
      },
      "id": "v5wL6oojz9Ge",
      "execution_count": null,
      "outputs": []
    },
    {
      "cell_type": "code",
      "source": [
        "########## Radio Classification ##########\n",
        "\n",
        "# Python annotation \n",
        "nested_radio_annotation = ClassificationAnnotation(\n",
        "    name=\"nested_radio_question\", \n",
        "    value=Radio(answer = ClassificationAnswer(name = \"first_radio_answer\")),\n",
        "    classifications=[\n",
        "    \tClassificationAnnotation(\n",
        "        \tname=\"sub_radio_question\",\n",
        "      \t\tvalue=Radio(answer=ClassificationAnswer(name=\"first_sub_radio_answer\"))\n",
        "    )\n",
        "    ]\n",
        ")\n",
        "\n",
        "# NDJSON \n",
        "nested_radio_annotation_ndjson = {\n",
        "  \"name\": \"nested_radio_question\",\n",
        "  \"answer\": {\"name\": \"first_radio_answer\"},\n",
        "  \"classifications\" : [\n",
        "   {'name': 'sub_radio_question', 'answer': {'name': 'first_sub_radio_answer'}}\n",
        "   ]\n",
        "}\n"
      ],
      "metadata": {
        "id": "I75K-wx7_sDs"
      },
      "id": "I75K-wx7_sDs",
      "execution_count": null,
      "outputs": []
    },
    {
      "cell_type": "code",
      "source": [
        "############ Checklist question ############\n",
        "\n",
        "# Python Annotations\n",
        "checklist_annotation = ClassificationAnnotation(\n",
        "  name=\"checklist_question\", # must match your ontology feature's name\n",
        "  value=Checklist(answer = [ClassificationAnswer(name = \"first_checklist_answer\"), ClassificationAnswer(name = \"second_checklist_answer\")])\n",
        " )\n",
        "\n",
        "# NDJSON\n",
        "checklist_annotation_ndjson = {\n",
        "  'name': 'checklist_question',\n",
        "  'answer': [\n",
        "    {'name': 'first_checklist_answer'},\n",
        "    {'name': 'second_checklist_answer'}\n",
        "  ]\n",
        "}"
      ],
      "metadata": {
        "id": "b2UjSoYez9I1"
      },
      "id": "b2UjSoYez9I1",
      "execution_count": null,
      "outputs": []
    },
    {
      "cell_type": "code",
      "source": [
        "############# Free text Classification #############\n",
        "\n",
        "# Python annotation\n",
        "text_annotation = ClassificationAnnotation(\n",
        "  name=\"free_text\",  # must match your ontology feature's name\n",
        "  value=Text(answer=\"sample text\")\n",
        ")\n",
        "\n",
        "\n",
        "# NDJSON\n",
        "text_annotation_ndjson = {\n",
        "  'name': 'free_text',\n",
        "  'answer': 'sample text',\n",
        "}"
      ],
      "metadata": {
        "id": "qGSXRtKpz9LQ"
      },
      "id": "qGSXRtKpz9LQ",
      "execution_count": null,
      "outputs": []
    },
    {
      "cell_type": "code",
      "source": [
        "####### Bounding box #######\n",
        "\n",
        "\n",
        "# Python Annotation \n",
        "bbox_annotation = ObjectAnnotation(\n",
        "  name = \"bounding_box\",  # must match your ontology feature's name\n",
        "  value = Rectangle(\n",
        "        start=Point(x=977, y=1690), # Top left\n",
        "        end=Point(x=330, y=225), # Bottom right\n",
        "    ),\n",
        ")\n",
        "\n",
        "#NDJSON \n",
        "bbox_annotation_ndjson = {\n",
        "  'name': 'bounding_box',\n",
        "  'bbox': {\n",
        "          \"top\": 977,\n",
        "          \"left\": 1690,\n",
        "          \"height\": 330,\n",
        "          \"width\": 225\n",
        "      }\n",
        "}\n"
      ],
      "metadata": {
        "id": "xCU4JRP0z9Nh"
      },
      "id": "xCU4JRP0z9Nh",
      "execution_count": null,
      "outputs": []
    },
    {
      "cell_type": "code",
      "source": [
        "####### Bounding box with nested classification #######\n",
        "bbox_with_radio_subclass_annotation = ObjectAnnotation(\n",
        "    name=\"bbox_with_radio_subclass\", # must match your ontology feature's name\n",
        "    value=Rectangle(\n",
        "        start=Point(x=933, y=541), # Top left\n",
        "        end=Point(x=191, y=330), # Bottom right\n",
        "    ),\n",
        "    classifications=[\n",
        "    \tClassificationAnnotation(\n",
        "        \tname=\"sub_radio_question\",\n",
        "      \t\tvalue=Radio(answer=ClassificationAnswer(name=\"first_sub_radio_answer\"))\n",
        "    )\n",
        "  ]\n",
        ")\n",
        "\n",
        "\n",
        "## NDJSON\n",
        "bbox_with_radio_subclass_ndjson = {\n",
        "    \"name\": \"bbox_with_radio_subclass\", \n",
        "    \"classifications\": [{\n",
        "        \"name\": \"sub_radio_question\",\n",
        "        \"answer\": \n",
        "            { \"name\":\"first_sub_radio_answer\" }\n",
        "         \n",
        "    }],\n",
        "    \"bbox\": {\n",
        "          \"top\": 933,\n",
        "          \"left\": 541,\n",
        "          \"height\": 191,\n",
        "          \"width\": 330\n",
        "        }\n",
        "}"
      ],
      "metadata": {
        "id": "gAIzsxEjLmhv"
      },
      "id": "gAIzsxEjLmhv",
      "execution_count": null,
      "outputs": []
    },
    {
      "cell_type": "code",
      "source": [
        "########## Polygon ##########\n",
        "# Python Anotation \n",
        "polygon_annotation = ObjectAnnotation(\n",
        "  name = \"polygon\", # must match your ontology feature's name\n",
        "  value=Polygon( # Coordinates for the verticies of your polygon\n",
        "        points=[Point(x=1489.581,y=183.934),Point(x=2278.306,y=256.885),Point(x=2428.197,y=200.437),Point(x=2560.0,y=335.419),\n",
        "                Point(x=2557.386,y=503.165),Point(x=2320.596,y=503.103),Point(x=2156.083, y=628.943),Point(x=2161.111,y=785.519),\n",
        "                Point(x=2002.115, y=894.647),Point(x=1838.456,y=877.874),Point(x=1436.53,y=874.636),Point(x=1411.403,y=758.579),\n",
        "                Point(x=1353.853,y=751.74),Point(x=1345.264, y=453.461),Point(x=1426.011,y=421.129)]\n",
        "    ),\n",
        ")\n",
        "\n",
        "\n",
        "# NDJSON\n",
        "\n",
        "polygon_annotation_ndjson = {\n",
        "  'name': 'polygon',\n",
        "  'polygon': [\n",
        "    {'x': 1489.581, 'y': 183.934},\n",
        "    {'x': 2278.306, 'y': 256.885},\n",
        "    {'x': 2428.197, 'y': 200.437},\n",
        "    {'x': 2560.0, 'y': 335.419},\n",
        "    {'x': 2557.386, 'y': 503.165},\n",
        "    {'x': 2320.596, 'y': 503.103},\n",
        "    {'x': 2156.083, 'y': 628.943},\n",
        "    {'x': 2161.111, 'y': 785.519},\n",
        "    {'x': 2002.115, 'y': 894.647},\n",
        "    {'x': 1838.456, 'y': 877.874},\n",
        "    {'x': 1436.53, 'y': 874.636},\n",
        "    {'x': 1411.403, 'y': 758.579},\n",
        "    {'x': 1353.853, 'y': 751.74},\n",
        "    {'x': 1345.264, 'y': 453.461},\n",
        "    {'x': 1426.011, 'y': 421.129},\n",
        "    {'x': 1489.581, 'y': 183.934}\n",
        "  ]\n",
        "}"
      ],
      "metadata": {
        "id": "jRwfE4MFz9Ph"
      },
      "id": "jRwfE4MFz9Ph",
      "execution_count": null,
      "outputs": []
    },
    {
      "cell_type": "code",
      "source": [
        "######### Segmentation mask #########\n",
        "\n",
        "# Python \n",
        "# Identifying what values in the numpy array correspond to the mask annotation\n",
        "color = (0, 0, 0)\n",
        "\n",
        "# convert a polygon to mask\n",
        "im_height, im_width = 100,100 #need to provide the height and width of image.\n",
        "mask_data = MaskData(arr=\n",
        "                     polygon_annotation.value.draw(height=im_height,width=im_width,color=color))\n",
        "\n",
        "# convert a 2D array to 3D array\n",
        "arr_2d = np.zeros((100,100), dtype='uint8')\n",
        "mask_data = MaskData.from_2D_arr(arr_2d)\n",
        "\n",
        "# a 3D array where 3rd axis is RGB values.\n",
        "mask_data = MaskData(arr= np.zeros([400,450,3],dtype='uint8'))\n",
        "\n",
        "mask_annotation = ObjectAnnotation(\n",
        "  name = \"mask\", # must match your ontology feature's name\n",
        "  value = Mask(mask=mask_data, color=color),\n",
        ")\n",
        "\n",
        "\n",
        "# NDJSON\n",
        "mask_annotation_ndjson = {\n",
        "  'name': 'mask',\n",
        "  'classifications': [],\n",
        "  'mask': {'instanceURI': 'https://storage.labelbox.com/cjhfn5y6s0pk507024nz1ocys%2F1d60856c-59b7-3060-2754-83f7e93e0d01-1?Expires=1666901963361&KeyName=labelbox-assets-key-3&Signature=t-2s2DB4YjFuWEFak0wxYqfBfZA',\n",
        "  'colorRGB': (0, 0, 0)}\n",
        "}\n",
        "\n"
      ],
      "metadata": {
        "id": "39vz-tYsz9Ry"
      },
      "id": "39vz-tYsz9Ry",
      "execution_count": null,
      "outputs": []
    },
    {
      "cell_type": "code",
      "source": [
        "######## Point ########\n",
        "\n",
        "# Python Annotation\n",
        "point_annotation = ObjectAnnotation(\n",
        "  name = \"point\",  # must match your ontology feature's name\n",
        "  value = Point(x=1166.606, y=1441.768),\n",
        ")\n",
        "\n",
        "\n",
        "# NDJSON\n",
        "point_annotation_ndjson = {\n",
        "  'name': 'point',\n",
        "  'classifications': [],\n",
        "  'point': {'x': 1166.606, 'y': 1441.768}\n",
        "}"
      ],
      "metadata": {
        "id": "UelSiWN2z9Tg"
      },
      "id": "UelSiWN2z9Tg",
      "execution_count": null,
      "outputs": []
    },
    {
      "cell_type": "code",
      "source": [
        "###### Polygon ######\n",
        "\n",
        "\n",
        "# Python Annotation \n",
        "\n",
        "polyline_annotation = ObjectAnnotation(\n",
        "  name = \"polyline\", # must match your ontology feature's name\n",
        "  value=Line( # Coordinates for the keypoints in your polyline\n",
        "        points=[Point(x=2534.353, y=249.471),Point(x=2429.492, y=182.092),Point(x=2294.322, y=221.962),Point(x=2224.491, y=180.463),Point(x=2136.123, y=204.716),\n",
        "                Point(x=1712.247, y=173.949),Point(x=1703.838, y=84.438),Point(x=1579.772, y=82.61),Point(x=1583.442, y=167.552),\n",
        "                Point(x=1478.869, y=164.903),Point(x=1418.941, y=318.149),Point(x=1243.128, y=400.815),Point(x=1022.067, y=319.007),\n",
        "                Point(x=892.367, y=379.216),Point(x=670.273, y=364.408),Point(x=613.114, y=288.16),Point(x=377.559, y=238.251),\n",
        "                Point(x=368.087, y=185.064),Point(x=246.557, y=167.286),Point(x=236.648, y=285.61),Point(x=90.929, y=326.412)]\n",
        "    ),\n",
        ")\n",
        "\n",
        "# NDJSON\n",
        "polyline_annotation_ndjson = {\n",
        "  'name': 'polyline',\n",
        "  'classifications': [],\n",
        "  'line': [\n",
        "    {'x': 2534.353, 'y': 249.471},\n",
        "    {'x': 2429.492, 'y': 182.092},\n",
        "    {'x': 2294.322, 'y': 221.962},\n",
        "    {'x': 2224.491, 'y': 180.463},\n",
        "    {'x': 2136.123, 'y': 204.716},\n",
        "    {'x': 1712.247, 'y': 173.949},\n",
        "    {'x': 1703.838, 'y': 84.438},\n",
        "    {'x': 1579.772, 'y': 82.61},\n",
        "    {'x': 1583.442, 'y': 167.552},\n",
        "    {'x': 1478.869, 'y': 164.903},\n",
        "    {'x': 1418.941, 'y': 318.149},\n",
        "    {'x': 1243.128, 'y': 400.815},\n",
        "    {'x': 1022.067, 'y': 319.007},\n",
        "    {'x': 892.367, 'y': 379.216},\n",
        "    {'x': 670.273, 'y': 364.408},\n",
        "    {'x': 613.114, 'y': 288.16},\n",
        "    {'x': 377.559, 'y': 238.251},\n",
        "    {'x': 368.087, 'y': 185.064},\n",
        "    {'x': 246.557, 'y': 167.286},\n",
        "    {'x': 236.648, 'y': 285.61},\n",
        "    {'x': 90.929, 'y': 326.412}\n",
        "  ]\n",
        "}\n"
      ],
      "metadata": {
        "id": "mrjb8qY3z9VY"
      },
      "id": "mrjb8qY3z9VY",
      "execution_count": null,
      "outputs": []
    },
    {
      "cell_type": "markdown",
      "source": [
        "## Upload Annotations - putting it all together\n"
      ],
      "metadata": {
        "id": "cHom688XLQuM"
      },
      "id": "cHom688XLQuM"
    },
    {
      "cell_type": "markdown",
      "source": [
        "### Step 1: Import data rows into Catalog\n",
        "\n"
      ],
      "metadata": {
        "id": "NjJbPAXALVLv"
      },
      "id": "NjJbPAXALVLv"
    },
    {
      "cell_type": "code",
      "source": [
        "# send a sample image as batch to the project\n",
        "test_img_url = {\n",
        "    \"row_data\": \"https://raw.githubusercontent.com/Labelbox/labelbox-python/develop/examples/assets/2560px-Kitano_Street_Kobe01s5s4110.jpg\",\n",
        "    \"global_key\": str(uuid.uuid4())\n",
        "}\n",
        "dataset = client.create_dataset(name=\"demo_dataset_img\")\n",
        "data_row = dataset.create_data_row(test_img_url)\n",
        "print(data_row)\n"
      ],
      "metadata": {
        "id": "xJ3DZLv_LGsK",
        "colab": {
          "base_uri": "https://localhost:8080/"
        },
        "outputId": "f7e46b57-0301-4446-c887-ef0ddda03ebf"
      },
      "id": "xJ3DZLv_LGsK",
      "execution_count": null,
      "outputs": [
        {
          "output_type": "stream",
          "name": "stdout",
          "text": [
            "<DataRow {\n",
            "    \"created_at\": \"2022-12-22 20:39:58+00:00\",\n",
            "    \"external_id\": null,\n",
            "    \"global_key\": \"d769e9fa-bf01-4dca-a421-052083aaaef3\",\n",
            "    \"media_attributes\": {},\n",
            "    \"metadata\": [],\n",
            "    \"metadata_fields\": [],\n",
            "    \"row_data\": \"https://raw.githubusercontent.com/Labelbox/labelbox-python/develop/examples/assets/2560px-Kitano_Street_Kobe01s5s4110.jpg\",\n",
            "    \"uid\": \"clbzjs8yb0wnb0718bp4w55kw\",\n",
            "    \"updated_at\": \"2022-12-22 20:39:58+00:00\"\n",
            "}>\n"
          ]
        }
      ]
    },
    {
      "cell_type": "markdown",
      "source": [
        "### Step 2: Create/select an Ontology\n",
        "Your project should have the correct ontology setup with all the tools and classifications supported for your annotations, and the tool names and classification instructions should match the `name`/`instructions` fields in your annotations to ensure the correct feature schemas are matched.\n",
        "\n",
        "For example, when we create the bounding box annotation [above](https://colab.research.google.com/drive/1jxU4Lz1KODkI4xjNLzFEL7BbFX0DRgTU#scrollTo=mrjb8qY3z9VY&line=4&uniqifier=1), we provided the `name` as `polyline`. Now, when we setup our ontology, we must ensure that the name of my bounding box tool is also `polyline`. The same alignment must hold true for the other tools and classifications we create in our ontology.\n",
        "\n",
        "\n"
      ],
      "metadata": {
        "id": "vMW66b-SLgkX"
      },
      "id": "vMW66b-SLgkX"
    },
    {
      "cell_type": "code",
      "source": [
        "\n",
        "ontology_builder = OntologyBuilder(\n",
        "  classifications=[ # List of Classification objects\n",
        "    Classification( # Radio classification given the name \"text\" with two options: \"first_radio_answer\" and \"second_radio_answer\"\n",
        "      class_type=Classification.Type.RADIO, \n",
        "      instructions=\"radio_question\", \n",
        "      options=[\n",
        "        Option(value=\"first_radio_answer\"),\n",
        "        Option(value=\"second_radio_answer\")\n",
        "      ]\n",
        "    ),\n",
        "    Classification( # Checklist classification given the name \"text\" with two options: \"first_checklist_answer\" and \"second_checklist_answer\"\n",
        "      class_type=Classification.Type.CHECKLIST, \n",
        "      instructions=\"checklist_question\", \n",
        "      options=[\n",
        "        Option(value=\"first_checklist_answer\"),\n",
        "        Option(value=\"second_checklist_answer\")            \n",
        "      ]\n",
        "    ), \n",
        "     Classification( # Text classification given the name \"text\"\n",
        "      class_type=Classification.Type.TEXT,\n",
        "      instructions=\"free_text\"\n",
        "      ),\n",
        "      Classification(\n",
        "          class_type=Classification.Type.RADIO, \n",
        "          instructions=\"nested_radio_question\",\n",
        "          options=[\n",
        "              Option(\"first_radio_answer\",\n",
        "                  options=[\n",
        "                      Classification(\n",
        "                          class_type=Classification.Type.RADIO,\n",
        "                          instructions=\"sub_radio_question\",\n",
        "                          options=[Option(\"first_sub_radio_answer\")]\n",
        "                      )\n",
        "                  ]\n",
        "              )\n",
        "            ] \n",
        "          )    \n",
        "    \n",
        "    ],\n",
        "  tools=[ # List of Tool objects\n",
        "    Tool( # Bounding Box tool given the name \"box\"\n",
        "      tool=Tool.Type.BBOX, \n",
        "      name=\"bounding_box\"), \n",
        "    Tool( # Bounding Box tool given the name \"box\"\n",
        "      tool=Tool.Type.BBOX, \n",
        "      name=\"bbox_with_radio_subclass\",\n",
        "      classifications=[\n",
        "            Classification(\n",
        "                class_type=Classification.Type.RADIO,\n",
        "                instructions=\"sub_radio_question\",\n",
        "                options=[\n",
        "                  Option(value=\"first_sub_radio_answer\")\n",
        "                ]\n",
        "              ),\n",
        "        ]\n",
        "      ), \n",
        "    Tool( # Polygon tool given the name \"polygon\"\n",
        "      tool=Tool.Type.POLYGON, \n",
        "      name=\"polygon\"),\n",
        "    Tool( # Segmentation mask tool given the name \"mask\"\n",
        "      tool=Tool.Type.SEGMENTATION, \n",
        "      name=\"mask\"),\n",
        " \t  Tool( # Point tool given the name \"point\"\n",
        "      tool=Tool.Type.POINT, \n",
        "      name=\"point\"), \n",
        "    Tool( # Polyline tool given the name \"line\"\n",
        "      tool=Tool.Type.LINE, \n",
        "      name=\"polyline\"),]\n",
        ")\n",
        "\n",
        "ontology = client.create_ontology(\"Ontology Image Annotations\", ontology_builder.asdict())\n"
      ],
      "metadata": {
        "id": "ojonQWaO3Rfv"
      },
      "id": "ojonQWaO3Rfv",
      "execution_count": null,
      "outputs": []
    },
    {
      "cell_type": "markdown",
      "source": [
        "### Step 3: Create a labeling project\n",
        "\n",
        "Connect the ontology to the labeling project"
      ],
      "metadata": {
        "id": "dKEdVDBcLzfY"
      },
      "id": "dKEdVDBcLzfY"
    },
    {
      "cell_type": "code",
      "source": [
        "\n",
        "# create a project and configure the ontology \n",
        "project = client.create_project(\n",
        "    name=\"annotations_import_project\",\n",
        "    media_type=MediaType.Image,\n",
        "    queue_mode=QueueMode.Batch)\n",
        "\n",
        "project.setup_editor(ontology) # Connect your ontology and editor to your MAL project"
      ],
      "metadata": {
        "id": "w1G8Mmb_z9Zx"
      },
      "id": "w1G8Mmb_z9Zx",
      "execution_count": null,
      "outputs": []
    },
    {
      "cell_type": "markdown",
      "source": [
        "### Step 4: Send a batch of data rows to the project\n"
      ],
      "metadata": {
        "id": "sz1Ulh0n6OJQ"
      },
      "id": "sz1Ulh0n6OJQ"
    },
    {
      "cell_type": "code",
      "source": [
        "batch = project.create_batch(\n",
        "    \"Initial batch2\", # name of the batch\n",
        "    [data_row.uid], # list of Data Rows\n",
        "  1 # priority between 1-5\n",
        ")\n",
        "print(\"Batch\", batch)"
      ],
      "metadata": {
        "colab": {
          "base_uri": "https://localhost:8080/"
        },
        "id": "eP8N9JOX6QZ_",
        "outputId": "1b7a1a17-fe21-4fe5-f5e5-35ede3724ae7"
      },
      "id": "eP8N9JOX6QZ_",
      "execution_count": null,
      "outputs": [
        {
          "output_type": "stream",
          "name": "stdout",
          "text": [
            "Batch <Batch {\n",
            "    \"consensus_settings_json\": \"{\\\"numberOfLabels\\\":1,\\\"coveragePercentage\\\":0}\",\n",
            "    \"created_at\": \"2022-12-22 20:40:17+00:00\",\n",
            "    \"name\": \"Initial batch2\",\n",
            "    \"size\": 1,\n",
            "    \"uid\": \"d828ded0-8238-11ed-ac2d-977006697240\",\n",
            "    \"updated_at\": \"2022-12-22 20:40:17+00:00\"\n",
            "}>\n"
          ]
        }
      ]
    },
    {
      "cell_type": "markdown",
      "source": [
        "### Step 5: Create the annotations payload\n",
        "\n",
        "Create the annotations payload using the snippets of code above\n",
        "\n",
        "Labelbox support two formats for the annotations payload: NDJSON and Python Annotation types. Both are described below. If you are using Python Annotation types, compose your annotations into Labels attached to the data rows."
      ],
      "metadata": {
        "id": "DvIggPYlL3TN"
      },
      "id": "DvIggPYlL3TN"
    },
    {
      "cell_type": "markdown",
      "source": [
        "#### Python Annotations\n",
        "\n",
        "Here we create the complete label NDJSON payload of annotations only using Python annotation format. There is one annotation for each reference to an annotation that we created [above](https://colab.research.google.com/drive/1jxU4Lz1KODkI4xjNLzFEL7BbFX0DRgTU#scrollTo=PKUj8iRnLMjs&line=1&uniqifier=1)."
      ],
      "metadata": {
        "id": "TgV8phkdecRi"
      },
      "id": "TgV8phkdecRi"
    },
    {
      "cell_type": "code",
      "source": [
        "# create a Label\n",
        "label = Label(\n",
        "    data=ImageData(\n",
        "        uid=data_row.uid),\n",
        "    annotations = [\n",
        "        radio_annotation, \n",
        "        checklist_annotation, \n",
        "        text_annotation,\n",
        "        bbox_annotation, \n",
        "        bbox_with_radio_subclass_annotation, \n",
        "        polygon_annotation, \n",
        "        mask_annotation, \n",
        "        point_annotation, \n",
        "        polyline_annotation\n",
        "    ]\n",
        ")\n",
        "\n",
        "# Convert our label from a Labelbox class object to the underlying NDJSON format required for upload \n",
        "label_ndjson = list(NDJsonConverter.serialize([label]))"
      ],
      "metadata": {
        "id": "gwExeqRHz9eW"
      },
      "id": "gwExeqRHz9eW",
      "execution_count": null,
      "outputs": []
    },
    {
      "cell_type": "code",
      "source": [
        "label_ndjson"
      ],
      "metadata": {
        "id": "1dFGDHay9ai1"
      },
      "id": "1dFGDHay9ai1",
      "execution_count": null,
      "outputs": []
    },
    {
      "cell_type": "markdown",
      "source": [
        "#### NDJSON annotations\n",
        "Here we create the complete label NDJSON payload of annotations only using NDJSON format. There is one annotation for each reference to an annotation that we created [above](https://colab.research.google.com/drive/1jxU4Lz1KODkI4xjNLzFEL7BbFX0DRgTU#scrollTo=PKUj8iRnLMjs&line=1&uniqifier=1)."
      ],
      "metadata": {
        "id": "rwP_YlBVeiex"
      },
      "id": "rwP_YlBVeiex"
    },
    {
      "cell_type": "code",
      "source": [
        "label_ndjson_method2 = []\n",
        "for annotation in [radio_annotation_ndjson, \n",
        "              checklist_annotation_ndjson, \n",
        "              text_annotation_ndjson,\n",
        "              bbox_annotation_ndjson, \n",
        "              bbox_with_radio_subclass_ndjson, \n",
        "              polygon_annotation_ndjson, \n",
        "              mask_annotation_ndjson, \n",
        "              point_annotation_ndjson, \n",
        "              polyline_annotation_ndjson,\n",
        "              nested_radio_annotation_ndjson]:\n",
        "  annotation.update({\n",
        "      'uuid': str(uuid.uuid4()),\n",
        "      'dataRow': {'id': data_row.uid},\n",
        "  })\n",
        "  label_ndjson_method2.append(annotation)\n"
      ],
      "metadata": {
        "id": "QPBF3n0Cehsq"
      },
      "id": "QPBF3n0Cehsq",
      "execution_count": null,
      "outputs": []
    },
    {
      "cell_type": "code",
      "source": [
        "label_ndjson_method2"
      ],
      "metadata": {
        "id": "gGtMf6mO6yKv",
        "colab": {
          "base_uri": "https://localhost:8080/"
        },
        "outputId": "efc16d15-2925-4132-f2da-f894c279204d"
      },
      "id": "gGtMf6mO6yKv",
      "execution_count": null,
      "outputs": [
        {
          "output_type": "execute_result",
          "data": {
            "text/plain": [
              "[{'name': 'radio_question',\n",
              "  'answer': {'name': 'second_radio_answer'},\n",
              "  'uuid': 'a4437cc6-06cd-4a18-968c-3c5102565734',\n",
              "  'dataRow': {'id': 'clbzjs8yb0wnb0718bp4w55kw'}},\n",
              " {'name': 'checklist_question',\n",
              "  'answer': [{'name': 'first_checklist_answer'},\n",
              "   {'name': 'second_checklist_answer'}],\n",
              "  'uuid': '916ecf0e-904a-465e-8f77-95008c31ee3b',\n",
              "  'dataRow': {'id': 'clbzjs8yb0wnb0718bp4w55kw'}},\n",
              " {'name': 'free_text',\n",
              "  'answer': 'sample text',\n",
              "  'uuid': 'ab2efc0d-7791-4ac4-afda-a67b6b3be562',\n",
              "  'dataRow': {'id': 'clbzjs8yb0wnb0718bp4w55kw'}},\n",
              " {'name': 'bounding_box',\n",
              "  'bbox': {'top': 977, 'left': 1690, 'height': 330, 'width': 225},\n",
              "  'uuid': '8dc44323-220e-49d7-90aa-83dfe981f985',\n",
              "  'dataRow': {'id': 'clbzjs8yb0wnb0718bp4w55kw'}},\n",
              " {'name': 'bbox_with_radio_subclass',\n",
              "  'classifications': [{'name': 'sub_radio_question',\n",
              "    'answer': {'name': 'first_sub_radio_answer'}}],\n",
              "  'bbox': {'top': 933, 'left': 541, 'height': 191, 'width': 330},\n",
              "  'uuid': '1b8a06b9-cf84-438a-ac85-bd9fc783762c',\n",
              "  'dataRow': {'id': 'clbzjs8yb0wnb0718bp4w55kw'}},\n",
              " {'name': 'polygon',\n",
              "  'polygon': [{'x': 1489.581, 'y': 183.934},\n",
              "   {'x': 2278.306, 'y': 256.885},\n",
              "   {'x': 2428.197, 'y': 200.437},\n",
              "   {'x': 2560.0, 'y': 335.419},\n",
              "   {'x': 2557.386, 'y': 503.165},\n",
              "   {'x': 2320.596, 'y': 503.103},\n",
              "   {'x': 2156.083, 'y': 628.943},\n",
              "   {'x': 2161.111, 'y': 785.519},\n",
              "   {'x': 2002.115, 'y': 894.647},\n",
              "   {'x': 1838.456, 'y': 877.874},\n",
              "   {'x': 1436.53, 'y': 874.636},\n",
              "   {'x': 1411.403, 'y': 758.579},\n",
              "   {'x': 1353.853, 'y': 751.74},\n",
              "   {'x': 1345.264, 'y': 453.461},\n",
              "   {'x': 1426.011, 'y': 421.129},\n",
              "   {'x': 1489.581, 'y': 183.934}],\n",
              "  'uuid': 'b9fbc7f9-1c95-479d-a9ab-1d8e379d343b',\n",
              "  'dataRow': {'id': 'clbzjs8yb0wnb0718bp4w55kw'}},\n",
              " {'name': 'mask',\n",
              "  'classifications': [],\n",
              "  'mask': {'instanceURI': 'https://storage.labelbox.com/cjhfn5y6s0pk507024nz1ocys%2F1d60856c-59b7-3060-2754-83f7e93e0d01-1?Expires=1666901963361&KeyName=labelbox-assets-key-3&Signature=t-2s2DB4YjFuWEFak0wxYqfBfZA',\n",
              "   'colorRGB': (0, 0, 0)},\n",
              "  'uuid': '7f39d8c7-9d7d-4022-86e0-f2737c54c18d',\n",
              "  'dataRow': {'id': 'clbzjs8yb0wnb0718bp4w55kw'}},\n",
              " {'name': 'point',\n",
              "  'classifications': [],\n",
              "  'point': {'x': 1166.606, 'y': 1441.768},\n",
              "  'uuid': '697d1750-31e7-483c-bb88-4d53f9482ace',\n",
              "  'dataRow': {'id': 'clbzjs8yb0wnb0718bp4w55kw'}},\n",
              " {'name': 'polyline',\n",
              "  'classifications': [],\n",
              "  'line': [{'x': 2534.353, 'y': 249.471},\n",
              "   {'x': 2429.492, 'y': 182.092},\n",
              "   {'x': 2294.322, 'y': 221.962},\n",
              "   {'x': 2224.491, 'y': 180.463},\n",
              "   {'x': 2136.123, 'y': 204.716},\n",
              "   {'x': 1712.247, 'y': 173.949},\n",
              "   {'x': 1703.838, 'y': 84.438},\n",
              "   {'x': 1579.772, 'y': 82.61},\n",
              "   {'x': 1583.442, 'y': 167.552},\n",
              "   {'x': 1478.869, 'y': 164.903},\n",
              "   {'x': 1418.941, 'y': 318.149},\n",
              "   {'x': 1243.128, 'y': 400.815},\n",
              "   {'x': 1022.067, 'y': 319.007},\n",
              "   {'x': 892.367, 'y': 379.216},\n",
              "   {'x': 670.273, 'y': 364.408},\n",
              "   {'x': 613.114, 'y': 288.16},\n",
              "   {'x': 377.559, 'y': 238.251},\n",
              "   {'x': 368.087, 'y': 185.064},\n",
              "   {'x': 246.557, 'y': 167.286},\n",
              "   {'x': 236.648, 'y': 285.61},\n",
              "   {'x': 90.929, 'y': 326.412}],\n",
              "  'uuid': 'a0905ab6-6cfb-45ad-88d8-f66e6a7d20b2',\n",
              "  'dataRow': {'id': 'clbzjs8yb0wnb0718bp4w55kw'}},\n",
              " {'name': 'nested_radio_question',\n",
              "  'answer': {'name': 'first_radio_answer'},\n",
              "  'classifications': [{'name': 'sub_radio_question',\n",
              "    'answer': {'name': 'first_sub_radio_answer'}}],\n",
              "  'uuid': '823bc863-0d6c-4ca8-9acd-d4aadeccce6b',\n",
              "  'dataRow': {'id': 'clbzjs8yb0wnb0718bp4w55kw'}}]"
            ]
          },
          "metadata": {},
          "execution_count": 150
        }
      ]
    },
    {
      "cell_type": "markdown",
      "source": [
        "### Step 6: Upload annotations to a project as pre-labels or complete labels"
      ],
      "metadata": {
        "id": "CwCrhyiOU8am"
      },
      "id": "CwCrhyiOU8am"
    },
    {
      "cell_type": "markdown",
      "source": [
        "#### Model-Assisted Labeling\n",
        "For the purpose of this tutorial only run one of the label_ndjosn  annotation type tools at the time (NDJSON or Annotation types). Delete the previous labels before uploading labels that use the 2nd method (ndjson)\n"
      ],
      "metadata": {
        "id": "XjIUycMLL-Iz"
      },
      "id": "XjIUycMLL-Iz"
    },
    {
      "cell_type": "code",
      "source": [
        "# Upload MAL label for this data row in project\n",
        "upload_job = MALPredictionImport.create_from_objects(\n",
        "    client = client, \n",
        "    project_id = project.uid, \n",
        "    name=\"mal_job\"+str(uuid.uuid4()), \n",
        "    predictions=label_ndjson)\n",
        "\n",
        "print(\"Errors:\", upload_job.errors)\n",
        "print(\" \")"
      ],
      "metadata": {
        "id": "wPflwCr3_03e"
      },
      "id": "wPflwCr3_03e",
      "execution_count": null,
      "outputs": []
    },
    {
      "cell_type": "markdown",
      "source": [
        "#### Label Import\n"
      ],
      "metadata": {
        "id": "_C5wY3ctMCRs"
      },
      "id": "_C5wY3ctMCRs"
    },
    {
      "cell_type": "code",
      "source": [
        "# Upload label for this data row in project\n",
        "upload_job = LabelImport.create_from_objects(\n",
        "    client = client, \n",
        "    project_id = project.uid, \n",
        "    name=\"label_import_job\"+str(uuid.uuid4()),  \n",
        "    labels=label_ndjson_method2)\n",
        "\n",
        "print(\"Errors:\", upload_job.errors)\n",
        "print(\" \")"
      ],
      "metadata": {
        "colab": {
          "base_uri": "https://localhost:8080/"
        },
        "id": "l2I_dRyXz9i2",
        "outputId": "240b7132-5c93-42d6-9ac3-ded484a2ad53"
      },
      "id": "l2I_dRyXz9i2",
      "execution_count": null,
      "outputs": [
        {
          "output_type": "stream",
          "name": "stdout",
          "text": [
            "Errors: []\n",
            " \n"
          ]
        }
      ]
    },
    {
      "cell_type": "markdown",
      "source": [
        "### Optional deletions for cleanup"
      ],
      "metadata": {
        "id": "4aiUsGnFn5kG"
      },
      "id": "4aiUsGnFn5kG"
    },
    {
      "cell_type": "code",
      "source": [
        "#upload_job\n",
        "# project.delete()\n",
        "# dataset.delete()"
      ],
      "metadata": {
        "id": "y2Z76TrVDSp6"
      },
      "id": "y2Z76TrVDSp6",
      "execution_count": null,
      "outputs": []
    }
  ],
  "metadata": {
    "colab": {
      "collapsed_sections": [
        "6f3cdca1-524f-4247-a63b-2d4371b0257d"
      ],
      "provenance": []
    },
    "kernelspec": {
      "display_name": "Python 3.9.2 64-bit",
      "language": "python",
      "name": "python3"
    },
    "language_info": {
      "codemirror_mode": {
        "name": "ipython",
        "version": 3
      },
      "file_extension": ".py",
      "mimetype": "text/x-python",
      "name": "python",
      "nbconvert_exporter": "python",
      "pygments_lexer": "ipython3",
      "version": "3.9.2"
    },
    "vscode": {
      "interpreter": {
        "hash": "397704579725e15f5c7cb49fe5f0341eb7531c82d19f2c29d197e8b64ab5776b"
      }
    }
  },
  "nbformat": 4,
  "nbformat_minor": 5
}
