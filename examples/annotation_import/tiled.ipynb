{
 "cells": [
  {
   "cell_type": "markdown",
   "id": "db768cda",
   "metadata": {
    "id": "db768cda"
   },
   "source": [
    "<td>\n",
    "   <a target=\"_blank\" href=\"https://labelbox.com\" ><img src=\"https://labelbox.com/blog/content/images/2021/02/logo-v4.svg\" width=256/></a>\n",
    "</td>"
   ]
  },
  {
   "cell_type": "markdown",
   "id": "cb5611d0",
   "metadata": {
    "id": "cb5611d0"
   },
   "source": [
    "<td>\n",
    "<a href=\"https://colab.research.google.com/github/Labelbox/labelbox-python/blob/develop/examples/annotation_import/tiled.ipynb\" target=\"_blank\"><img\n",
    "src=\"https://colab.research.google.com/assets/colab-badge.svg\" alt=\"Open In Colab\"></a>\n",
    "</td>\n",
    "\n",
    "<td>\n",
    "<a href=\"https://github.com/Labelbox/labelbox-python/tree/develop/examples/annotation_import/tiled.ipynb\" target=\"_blank\"><img\n",
    "src=\"https://img.shields.io/badge/GitHub-100000?logo=github&logoColor=white\" alt=\"GitHub\"></a>\n",
    "</td>"
   ]
  },
  {
   "cell_type": "markdown",
   "id": "stupid-court",
   "metadata": {
    "id": "stupid-court"
   },
   "source": [
    "# Tiled Imagery Annotation Import\n",
    "* This notebook will provide examples of each supported annotation type for tiled imagery assets, and also cover MAL and Label Import methods:\n",
    "\n",
    "Supported annotations that can be uploaded through the SDK: \n",
    "  * Point \n",
    "  * Polygon\n",
    "  * Bounding Box \n",
    "  * Classification radio \n",
    "  * Classification checklist \n",
    "  * Classification free-form text\n",
    "\n",
    "**Not** supported:\n",
    "  * Segmentation mask\n",
    "\n",
    "\n",
    "MAL and Label Import: \n",
    "\n",
    "* Model-assisted labeling - used to provide pre-annotated data for your labelers. This will enable a reduction in the total amount of time to properly label your assets. Model-assisted labeling does not submit the labels automatically, and will need to be reviewed by a labeler for submission.\n",
    "* Label Import - used to provide ground truth labels. These can in turn be used and compared against prediction labels, or used as benchmarks to see how your labelers are doing.\n",
    "\n",
    "For information on what types of annotations are supported per data type, refer to this documentation:\n",
    "    * https://docs.labelbox.com/docs/model-assisted-labeling#option-1-import-via-python-annotation-types-recommended"
   ]
  },
  {
   "cell_type": "markdown",
   "id": "QRizVjhb6vlH",
   "metadata": {
    "id": "QRizVjhb6vlH"
   },
   "source": [
    "Notes:\n",
    " * This notebook uses the Slippy Maps format\n",
    " * If you are importing more than 1,000 annotations at a time, consider submitting separate jobs, as they can take longer than other annotation types to import.\n",
    " * Wait until the import job is complete before opening the Editor to make sure all annotations are imported properly.\n",
    " * You may need to refresh your browser in order to see the results of the import job."
   ]
  },
  {
   "cell_type": "markdown",
   "source": [
    "### Setup"
   ],
   "metadata": {
    "id": "_RXNjZ8dplBk"
   },
   "id": "_RXNjZ8dplBk"
  },
  {
   "cell_type": "code",
   "execution_count": 1,
   "id": "voluntary-minister",
   "metadata": {
    "id": "voluntary-minister"
   },
   "outputs": [],
   "source": [
    "!pip install -q 'labelbox[data]'"
   ]
  },
  {
   "cell_type": "code",
   "execution_count": 13,
   "id": "committed-richards",
   "metadata": {
    "id": "committed-richards"
   },
   "outputs": [],
   "source": [
    "import labelbox as lb\n",
    "import labelbox.data.annotation_types as lb_types\n",
    "import labelbox.data.annotation_types.data.tiled_image as lb_tiled\n",
    "import labelbox.data.serialization as lb_serializers\n",
    "import uuid\n",
    "import numpy as np\n",
    "import cv2"
   ]
  },
  {
   "cell_type": "markdown",
   "id": "xdFJ1Qgj68Q5",
   "metadata": {
    "id": "xdFJ1Qgj68Q5"
   },
   "source": [
    "### Replace with your API key\n",
    "Guides on [Create an API key](https://docs.labelbox.com/docs/create-an-api-key)"
   ]
  },
  {
   "cell_type": "code",
   "execution_count": 28,
   "id": "affecting-myanmar",
   "metadata": {
    "id": "affecting-myanmar"
   },
   "outputs": [],
   "source": [
    "API_KEY = None\n",
    "client = lb.Client(API_KEY)"
   ]
  },
  {
   "cell_type": "markdown",
   "id": "blessed-venture",
   "metadata": {
    "id": "blessed-venture"
   },
   "source": [
    "## Supported annotations for tiled imagery"
   ]
  },
  {
   "cell_type": "markdown",
   "id": "AmKgfZ8ZALT_",
   "metadata": {
    "id": "AmKgfZ8ZALT_"
   },
   "source": [
    "### Supported Python annotation types and NDJSON "
   ]
  },
  {
   "cell_type": "code",
   "source": [
    "####### Point #######\n",
    "\n",
    "# Python Annotation\n",
    "point_annotation = lb_types.ObjectAnnotation(\n",
    "  name = \"point_geo\",\n",
    "  value = lb_types.Point(x=-122.31741025134123, y=37.87355669249922),\n",
    ")\n",
    "\n",
    "# NDJSON\n",
    "point_annotation_ndjson = {\n",
    "    \"name\": \"point_geo\",\n",
    "    \"point\": {\n",
    "         \"x\": -122.31741025134123,\n",
    "         \"y\": 37.87355669249922\n",
    "     }\n",
    "}"
   ],
   "metadata": {
    "id": "3mQh-yQ2TLmd"
   },
   "id": "3mQh-yQ2TLmd",
   "execution_count": 4,
   "outputs": []
  },
  {
   "cell_type": "code",
   "source": [
    "####### Polyline #######\n",
    "# Coordinates\n",
    "coords = [ \n",
    "            [\n",
    "              -122.31757789012927,\n",
    "              37.87396317833991\n",
    "            ],\n",
    "            [\n",
    "              -122.31639782443663,\n",
    "              37.87396741226917\n",
    "            ],\n",
    "            [\n",
    "              -122.31638977853417,\n",
    "              37.87277872707839\n",
    "            ]\n",
    "        ]\n",
    "\n",
    "line_points = []\n",
    "line_points_ndjson = []\n",
    "\n",
    "for sub in coords: \n",
    "  line_points.append(lb_types.Point(x=sub[0], y=sub[1]))\n",
    "  line_points_ndjson.append({\"x\":sub[0], \"y\":sub[1]})\n",
    "\n",
    "# Python Annotation \n",
    "polyline_annotation = lb_types.ObjectAnnotation(\n",
    "  name = \"polyline_geo\",\n",
    "  value = lb_types.Line(points=line_points),\n",
    ")\n",
    "\n",
    "\n",
    "# NDJSON \n",
    "polyline_annotation_ndjson = {\n",
    "    \"name\": \"polyline_geo\",\n",
    "    \"line\": line_points_ndjson\n",
    "}"
   ],
   "metadata": {
    "id": "f3OoBByTTYda"
   },
   "id": "f3OoBByTTYda",
   "execution_count": 5,
   "outputs": []
  },
  {
   "cell_type": "code",
   "source": [
    "####### Polygon #######\n",
    "# Coordinates in the desired EPSG coordinate system\n",
    "coords_polygon = [\n",
    "    [\n",
    "        -122.31691812612837,\n",
    "        37.873289980495024\n",
    "    ],\n",
    "    [\n",
    "        -122.31710184090099,\n",
    "        37.87304335144298\n",
    "    ],\n",
    "    [\n",
    "        -122.31680146054286,\n",
    "        37.87303594197371\n",
    "    ],\n",
    "    [\n",
    "        -122.31691812612837,\n",
    "        37.873289980495024\n",
    "    ]\n",
    "]\n",
    "\n",
    "polygon_points = []\n",
    "polygon_points_ndjson = []\n",
    "\n",
    "for sub in coords_polygon: \n",
    "  polygon_points.append(lb_types.Point(x=sub[0], y=sub[1]))\n",
    "  polygon_points_ndjson.append({\"x\":sub[0], \"y\":sub[1]})\n",
    "\n",
    "# Python Annotation \n",
    "polygon_annotation = lb_types.ObjectAnnotation(\n",
    "  name = \"polygon_geo\",\n",
    "  value = lb_types.Polygon(points=polygon_points),\n",
    ")\n",
    "\n",
    "# NDJSON \n",
    "polygon_annotation_ndjson = {\n",
    "    \"name\": \"polygon_geo\",\n",
    "    \"polygon\": polygon_points_ndjson\n",
    "}"
   ],
   "metadata": {
    "id": "BSjRhlFvTdfS"
   },
   "id": "BSjRhlFvTdfS",
   "execution_count": 6,
   "outputs": []
  },
  {
   "cell_type": "code",
   "source": [
    "####### Bounding Box #######\n",
    "coord_object = {\n",
    "      \"coordinates\": [\n",
    "        [\n",
    "          [\n",
    "              -122.31734455895823,\n",
    "              37.873713376083884\n",
    "          ],\n",
    "          [\n",
    "              -122.31734455895823,\n",
    "              37.87385944699745\n",
    "          ],\n",
    "          [\n",
    "              -122.31673038840458,\n",
    "              37.87385944699745\n",
    "          ],\n",
    "          [\n",
    "              -122.31673038840458,\n",
    "              37.873713376083884\n",
    "          ],\n",
    "          [\n",
    "              -122.31734455895823,\n",
    "              37.873713376083884\n",
    "          ]\n",
    "        ]\n",
    "      ]  \n",
    "    }\n",
    "\n",
    "\n",
    "bbox_top_left = lb_types.Point(x=-122.31734455895823, y=37.873713376083884)\n",
    "bbox_bottom_right = lb_types.Point(x=-122.31673038840458, y=37.87385944699745)\n",
    "\n",
    "# Python Annotation\n",
    "bbox_annotation = lb_types.ObjectAnnotation(\n",
    "  name = \"bbox_geo\",\n",
    "  value = lb_types.Rectangle(start=bbox_top_left, end=bbox_bottom_right)\n",
    ")\n",
    "\n",
    "\n",
    "# NDJSON\n",
    "bbox_annotation_ndjson = {\n",
    "    \"name\" : \"bbox_geo\",\n",
    "    \"bbox\" : {\n",
    "        'top': coord_object[\"coordinates\"][0][1][1],\n",
    "        'left': coord_object[\"coordinates\"][0][1][0],\n",
    "        'height': coord_object[\"coordinates\"][0][3][1] - coord_object[\"coordinates\"][0][1][1],        \n",
    "        'width': coord_object[\"coordinates\"][0][3][0] - coord_object[\"coordinates\"][0][1][0]\n",
    "    }\n",
    "}"
   ],
   "metadata": {
    "id": "oLX3adDOTmYS"
   },
   "id": "oLX3adDOTmYS",
   "execution_count": 7,
   "outputs": []
  },
  {
   "cell_type": "code",
   "source": [
    "####### Classification - radio (single choice) #######\n",
    "\n",
    "# Python Annotation \n",
    "radio_annotation = lb_types.ClassificationAnnotation(\n",
    "    name=\"radio_question_geo\", \n",
    "    value=lb_types.Radio(answer=lb_types.ClassificationAnswer(name=\"first_radio_answer\"))\n",
    ")\n",
    "\n",
    "# NDJSON \n",
    "radio_annotation_ndjson = {\n",
    "    \"name\": \"radio_question_geo\",\n",
    "    \"answer\": { \"name\": \"first_radio_answer\"}\n",
    "}"
   ],
   "metadata": {
    "id": "OsWf8Y_mTxLm"
   },
   "id": "OsWf8Y_mTxLm",
   "execution_count": 8,
   "outputs": []
  },
  {
   "cell_type": "code",
   "source": [
    "####### Classification - Checklist (multi-choice) #######\n",
    "\n",
    "coord_object_checklist = {\n",
    "    \"coordinates\": [\n",
    "       [\n",
    "          [\n",
    "              -122.31711256877092,\n",
    "              37.87340218056304\n",
    "          ],\n",
    "          [\n",
    "              -122.31711256877092,\n",
    "              37.87360752741479\n",
    "          ],\n",
    "          [\n",
    "              -122.31665529331502,\n",
    "              37.87360752741479\n",
    "          ],\n",
    "          [\n",
    "              -122.31665529331502,\n",
    "              37.87340218056304\n",
    "          ],\n",
    "          [\n",
    "              -122.31711256877092,\n",
    "              37.87340218056304\n",
    "          ]\n",
    "      ]\n",
    "    ]          \n",
    "}\n",
    "\n",
    "# Python Annotation\n",
    "bbox_with_checklist_subclass = lb_types.ObjectAnnotation(\n",
    "    name=\"bbox_checklist_geo\",\n",
    "    value=lb_types.Rectangle(\n",
    "        start=lb_types.Point(x=-122.31711256877092, y=37.87340218056304), # Top left\n",
    "        end=lb_types.Point(x=-122.31665529331502, y=37.87360752741479), # Bottom right\n",
    "    ),\n",
    "    classifications=[\n",
    "        lb_types.ClassificationAnnotation(\n",
    "            name=\"checklist_class_name\",\n",
    "            value=lb_types.Checklist(\n",
    "                answer=[lb_types.ClassificationAnswer(name=\"first_checklist_answer\")]\n",
    "            )\n",
    "        )\n",
    "    ]\n",
    ")\n",
    "\n",
    "\n",
    "# NDJSON \n",
    "bbox_with_checklist_subclass_ndjson = {\n",
    "    \"name\": \"bbox_checklist_geo\", \n",
    "    \"classifications\": [{\n",
    "        \"name\": \"checklist_class_name\",\n",
    "        \"answer\": [\n",
    "            { \"name\":\"first_checklist_answer\" }\n",
    "        ]   \n",
    "    }],\n",
    "    \"bbox\": {\n",
    "        'top': coord_object_checklist[\"coordinates\"][0][1][1],\n",
    "        'left': coord_object_checklist[\"coordinates\"][0][1][0],\n",
    "        'height': coord_object_checklist[\"coordinates\"][0][3][1] - coord_object_checklist[\"coordinates\"][0][1][1],        \n",
    "        'width': coord_object_checklist[\"coordinates\"][0][3][0] - coord_object_checklist[\"coordinates\"][0][1][0]\n",
    "    }\n",
    "}"
   ],
   "metadata": {
    "id": "2IZXIWP2UcOJ"
   },
   "id": "2IZXIWP2UcOJ",
   "execution_count": 9,
   "outputs": []
  },
  {
   "cell_type": "code",
   "source": [
    "####### Classification free form text with bbox #######\n",
    "\n",
    "coord_object_text ={\n",
    "    \"coordinates\": [\n",
    "      [\n",
    "          [\n",
    "              -122.31750814315438,\n",
    "              37.87318201423049\n",
    "          ],\n",
    "          [\n",
    "              -122.31750814315438,\n",
    "              37.87337992476082\n",
    "          ],\n",
    "          [\n",
    "              -122.31710049991725,\n",
    "              37.87337992476082\n",
    "          ],\n",
    "          [\n",
    "              -122.31710049991725,\n",
    "              37.87318201423049\n",
    "          ],\n",
    "          [\n",
    "              -122.31750814315438,\n",
    "              37.87318201423049\n",
    "          ]\n",
    "      ]\n",
    "    ]\n",
    "}\n",
    "# Python Annotation\n",
    "bbox_with_free_text_subclass = lb_types.ObjectAnnotation(\n",
    "    name=\"bbox_text_geo\",\n",
    "    value=lb_types.Rectangle(\n",
    "        start=lb_types.Point(x=-122.31750814315438, y=37.87318201423049), # Top left\n",
    "        end=lb_types.Point(x=-122.31710049991725, y=37.87337992476082), # Bottom right\n",
    "    ),\n",
    "    classifications=[\n",
    "        lb_types.ClassificationAnnotation(\n",
    "            name=\"free_text_geo\",\n",
    "            value=lb_types.Text(answer=\"sample text\")\n",
    "        )\n",
    "    ]\n",
    ")\n",
    "\n",
    "# NDJSON \n",
    "bbox_with_free_text_subclass_ndjson = {\n",
    "    \"name\":\"bbox_text_geo\",\n",
    "    \"classifications\": [{\n",
    "        \"name\": \"free_text_geo\",\n",
    "        \"answer\": \"sample text\"\n",
    "    }],\n",
    "    \"bbox\": {\n",
    "        'top': coord_object_text[\"coordinates\"][0][1][1],\n",
    "        'left': coord_object_text[\"coordinates\"][0][1][0],\n",
    "        'height': coord_object_text[\"coordinates\"][0][3][1] - coord_object_text[\"coordinates\"][0][1][1],        \n",
    "        'width': coord_object_text[\"coordinates\"][0][3][0] - coord_object_text[\"coordinates\"][0][1][0]\n",
    "    }\n",
    "}"
   ],
   "metadata": {
    "id": "bnjcIB7FU21R"
   },
   "id": "bnjcIB7FU21R",
   "execution_count": 20,
   "outputs": []
  },
  {
   "cell_type": "code",
   "source": [
    "####### Classification - Checklist (multi-choice) #######\n",
    "\n",
    "# Python Annotation\n",
    "checklist_annotation = lb_types.ClassificationAnnotation(\n",
    "    name=\"checklist_question_geo\",\n",
    "    value=lb_types.Checklist(answer = [\n",
    "        lb_types.ClassificationAnswer(name = \"first_checklist_answer\"),\n",
    "        lb_types.ClassificationAnswer(name = \"second_checklist_answer\"),\n",
    "        lb_types.ClassificationAnswer(name = \"third_checklist_answer\")\n",
    "    ])\n",
    "  )\n",
    "\n",
    "\n",
    "# NDJSON\n",
    "checklist_annotation_ndjson = {\n",
    "  'name': 'checklist_question_geo',\n",
    "  'answer': [\n",
    "    {'name': 'first_checklist_answer'},\n",
    "    {'name': 'second_checklist_answer'},\n",
    "    {'name': 'third_checklist_answer'},\n",
    "  ]\n",
    "}"
   ],
   "metadata": {
    "id": "hIkLI1q7glMi"
   },
   "id": "hIkLI1q7glMi",
   "execution_count": 10,
   "outputs": []
  },
  {
   "cell_type": "markdown",
   "source": [
    "## Upload Annotations - putting it all together\n"
   ],
   "metadata": {
    "id": "_DHMCHBhh1j4"
   },
   "id": "_DHMCHBhh1j4"
  },
  {
   "cell_type": "markdown",
   "source": [
    "### Step 1: Import data rows into Catalog"
   ],
   "metadata": {
    "id": "BjuYchMdh7ro"
   },
   "id": "BjuYchMdh7ro"
  },
  {
   "cell_type": "code",
   "execution_count": 14,
   "id": "IlwNSdRQB4gC",
   "metadata": {
    "colab": {
     "base_uri": "https://localhost:8080/"
    },
    "id": "IlwNSdRQB4gC",
    "outputId": "af2d84eb-d88d-410a-9d99-7aa31e313785"
   },
   "outputs": [
    {
     "name": "stdout",
     "output_type": "stream",
     "text": [
      "None\n"
     ]
    }
   ],
   "source": [
    "top_left_bound = lb_types.Point(x=-122.31764674186705, y=37.87276155898985)\n",
    "bottom_right_bound = lb_types.Point(x=-122.31635199317932, y=37.87398109727749)\n",
    "\n",
    "epsg = lb_tiled.EPSG.EPSG4326\n",
    "bounds = lb_tiled.TiledBounds(epsg=epsg, bounds=[top_left_bound, bottom_right_bound])\n",
    "\n",
    "tile_layer = lb_tiled.TileLayer(\n",
    "    url=\"https://api.mapbox.com/styles/v1/mapbox/satellite-streets-v11/tiles/{z}/{x}/{y}?access_token=pk.eyJ1IjoibWFwYm94IiwiYSI6ImNpejY4NXVycTA2emYycXBndHRqcmZ3N3gifQ.rJcFIG214AriISLbB6B5aw\"\n",
    ")\n",
    "\n",
    "tiled_image_data = lb_tiled.TiledImageData(tile_layer=tile_layer,\n",
    "                                  tile_bounds=bounds,\n",
    "                                  zoom_levels=[17, 23])\n",
    "\n",
    "dataset = client.create_dataset(name=\"geospatial_demo_dataset\")\n",
    "task = dataset.create_data_rows([tiled_image_data.asdict()])\n",
    "task.wait_till_done()\n",
    "print(task.errors)"
   ]
  },
  {
   "cell_type": "markdown",
   "source": [
    "### Step 2: Create/select an ontology\n",
    "Your project should have the correct ontology setup with all the tools and classifications supported for your annotations, and the tool names and classification instructions should match the `name`/`instructions` fields in your annotations to ensure the correct feature schemas are matched."
   ],
   "metadata": {
    "id": "y_tWMvxilTq9"
   },
   "id": "y_tWMvxilTq9"
  },
  {
   "cell_type": "code",
   "execution_count": 15,
   "id": "suburban-crowd",
   "metadata": {
    "id": "suburban-crowd"
   },
   "outputs": [],
   "source": [
    "ontology_builder = lb.OntologyBuilder(\n",
    "    tools=[\n",
    "        lb.Tool(tool=lb.Tool.Type.POINT, name=\"point_geo\"),\n",
    "        lb.Tool(tool=lb.Tool.Type.LINE, name=\"polyline_geo\"),\n",
    "        lb.Tool(tool=lb.Tool.Type.POLYGON, name=\"polygon_geo\"),\n",
    "        lb.Tool(tool=lb.Tool.Type.POLYGON, name=\"polygon_geo_2\"),\n",
    "        lb.Tool(tool=lb.Tool.Type.BBOX, name=\"bbox_geo\"),\n",
    "        lb.Tool(\n",
    "          tool=lb.Tool.Type.BBOX,\n",
    "          name=\"bbox_checklist_geo\",\n",
    "          classifications=[\n",
    "                lb.Classification(\n",
    "                    class_type=lb.Classification.Type.CHECKLIST,\n",
    "                    instructions=\"checklist_class_name\",\n",
    "                    options=[\n",
    "                      lb.Option(value=\"first_checklist_answer\")\n",
    "                    ]\n",
    "                ),\n",
    "            ]\n",
    "          ),\n",
    "        lb.Tool(\n",
    "          tool=lb.Tool.Type.BBOX,\n",
    "          name=\"bbox_text_geo\",\n",
    "          classifications=[\n",
    "                lb.Classification(\n",
    "                    class_type=lb.Classification.Type.TEXT,\n",
    "                    instructions=\"free_text_geo\"\n",
    "                ),\n",
    "            ]\n",
    "          )    \n",
    "      ],\n",
    "      classifications = [\n",
    "          lb.Classification(\n",
    "              class_type=lb.Classification.Type.CHECKLIST,\n",
    "              instructions=\"checklist_question_geo\",\n",
    "              options=[\n",
    "                  lb.Option(value=\"first_checklist_answer\"),\n",
    "                  lb.Option(value=\"second_checklist_answer\"),\n",
    "                  lb.Option(value=\"third_checklist_answer\")\n",
    "              ]\n",
    "          ), \n",
    "          lb.Classification(\n",
    "              class_type=lb.Classification.Type.RADIO,\n",
    "              instructions=\"radio_question_geo\",\n",
    "              options=[\n",
    "                  lb.Option(value=\"first_radio_answer\")\n",
    "              ]\n",
    "          )\n",
    "      ]\n",
    ")\n",
    "\n",
    "ontology = client.create_ontology(\"Ontology Geospatial Annotations\", ontology_builder.asdict())"
   ]
  },
  {
   "cell_type": "markdown",
   "source": [
    "### Step 3: Create a labeling project\n",
    "Connect the ontology to the labeling project "
   ],
   "metadata": {
    "id": "_OeW7Fnrl-Xy"
   },
   "id": "_OeW7Fnrl-Xy"
  },
  {
   "cell_type": "code",
   "execution_count": 16,
   "id": "PhfXaqDB7hRt",
   "metadata": {
    "id": "PhfXaqDB7hRt"
   },
   "outputs": [
    {
     "name": "stderr",
     "output_type": "stream",
     "text": [
      "Default createProject behavior will soon be adjusted to prefer batch projects. Pass in `queue_mode` parameter explicitly to opt-out for the time being.\n"
     ]
    }
   ],
   "source": [
    "# Project defaults to batch mode with benchmark quality settings if this argument is not provided\n",
    "# Queue mode will be deprecated once dataset mode is deprecated\n",
    "\n",
    "project = client.create_project(name=\"geospatial_project_demo\",\n",
    "                                    media_type=lb.MediaType.Geospatial_Tile)\n",
    "\n",
    "\n",
    "project.setup_editor(ontology)\n",
    "\n",
    "######################### DATASET CONSENSUS OPTION ########################\n",
    "#Note that dataset base projects will be deprecated in the near future.\n",
    "\n",
    "#To use Datasets/Consensus instead of Batches/Benchmarks use the following query: \n",
    "#In this case, 10% of all data rows need to be annotated by three labelers.\n",
    "\n",
    "# dataset_project = client.create_project(name=\"dataset-test-project\",\n",
    "#                                 description=\"a description\",\n",
    "#                                 media_type=MediaType.Text,\n",
    "#                                 auto_audit_percentage=0.1,\n",
    "#                                 auto_audit_number_of_labels=3,\n",
    "#                                 queue_mode=QueueMode.Dataset)\n",
    "\n",
    "# dataset_project.datasets.connect(dataset)"
   ]
  },
  {
   "cell_type": "markdown",
   "source": [
    "### Step 4: Send a batch of data rows to the project "
   ],
   "metadata": {
    "id": "g23ejnMQw1Ix"
   },
   "id": "g23ejnMQw1Ix"
  },
  {
   "cell_type": "code",
   "source": [
    "# Create a batch to send to your MAL project\n",
    "batch = project.create_batch(\n",
    "  \"first-batch-geo-demo\", # Each batch in a project must have a unique name\n",
    "  dataset.export_data_rows(), # Paginated collection of data row objects\n",
    "  5 # priority between 1(Highest) - 5(lowest)\n",
    ")\n",
    "\n",
    "print(\"Batch: \", batch)"
   ],
   "metadata": {
    "colab": {
     "base_uri": "https://localhost:8080/"
    },
    "id": "FHXR6nyKw-8f",
    "outputId": "5b53a7ee-093c-4518-eac8-5ef7936510e2"
   },
   "id": "FHXR6nyKw-8f",
   "execution_count": 17,
   "outputs": [
    {
     "name": "stdout",
     "output_type": "stream",
     "text": [
      "Batch:  <Batch {\n",
      "    \"consensus_settings_json\": \"{\\\"numberOfLabels\\\":1,\\\"coveragePercentage\\\":0}\",\n",
      "    \"created_at\": \"2023-02-06 18:28:31+00:00\",\n",
      "    \"name\": \"first-batch-geo-demo\",\n",
      "    \"size\": 1,\n",
      "    \"uid\": \"0edccc70-a64c-11ed-af0a-2100187a0855\",\n",
      "    \"updated_at\": \"2023-02-06 18:28:31+00:00\"\n",
      "}>\n"
     ]
    }
   ]
  },
  {
   "cell_type": "markdown",
   "source": [
    "### Step 5: Create the annotations payload \n",
    "Create the annotations payload using the snippets of code above\n",
    "\n",
    "Labelbox support two formats for the annotations payload: NDJSON and Python Annotation types. Both are described below. \n"
   ],
   "metadata": {
    "id": "OGUtGAXjxL5m"
   },
   "id": "OGUtGAXjxL5m"
  },
  {
   "cell_type": "markdown",
   "source": [
    "#### Python annotations\n",
    "Here we create the complete label ndjson payload of annotations only using python annotation format. There is one annotation for each reference to an annotation that we created on ***Supported Python annotation types and NDJSON*** section."
   ],
   "metadata": {
    "id": "lVXwyg7ZxVOX"
   },
   "id": "lVXwyg7ZxVOX"
  },
  {
   "cell_type": "code",
   "execution_count": 18,
   "outputs": [
    {
     "name": "stderr",
     "output_type": "stream",
     "text": [
      "Unexpected tile size (512, 512, 3).\n",
      "Unexpected tile size (512, 512, 3).\n"
     ]
    }
   ],
   "source": [
    "# Let's create another polygon annotation with python annotation tools that draws the image using cv2 and PIL python libraries\n",
    "hsv = cv2.cvtColor(tiled_image_data.value, cv2.COLOR_RGB2HSV)\n",
    "mask = cv2.inRange(hsv, (10, 25, 25), (100, 150, 255))\n",
    "kernel = np.ones((15, 20), np.uint8)\n",
    "mask = cv2.erode(mask, kernel)\n",
    "mask = cv2.dilate(mask, kernel)\n",
    "mask_annotation = lb_types.MaskData.from_2D_arr(mask)\n",
    "mask_data = lb_types.Mask(mask=mask_annotation, color=[255, 255, 255])\n",
    "h, w, _ = tiled_image_data.value.shape\n",
    "pixel_bounds = lb_tiled.TiledBounds(epsg=lb_tiled.EPSG.SIMPLEPIXEL,\n",
    "                          bounds=[lb_types.Point(x=0, y=0),\n",
    "                                  lb_types.Point(x=w, y=h)])\n",
    "transformer = lb_tiled.EPSGTransformer.create_pixel_to_geo_transformer(\n",
    "    src_epsg=pixel_bounds.epsg,\n",
    "    pixel_bounds=pixel_bounds,\n",
    "    geo_bounds=tiled_image_data.tile_bounds,\n",
    "    zoom=23)\n",
    "pixel_polygons = mask_data.shapely.simplify(3)\n",
    "list_of_polygons = [transformer(lb_types.Polygon.from_shapely(p)) for p in pixel_polygons.geoms]\n",
    "polygon_annotation_two = lb_types.ObjectAnnotation(value=list_of_polygons[0], name=\"polygon_geo_2\")"
   ],
   "metadata": {
    "collapsed": false
   }
  },
  {
   "cell_type": "code",
   "source": [
    "tiled_image_data_row_id = next(dataset.export_data_rows()).uid\n",
    "\n",
    "label = lb_types.Label(\n",
    "    data=lb_tiled.TiledImageData(\n",
    "        uid=tiled_image_data_row_id ,\n",
    "        tile_layer=tile_layer,\n",
    "        tile_bounds=bounds,\n",
    "        zoom_levels=[17, 23]\n",
    "    ),\n",
    "    annotations = [\n",
    "        point_annotation,\n",
    "        polyline_annotation,\n",
    "        polygon_annotation,\n",
    "        bbox_annotation,\n",
    "        radio_annotation,\n",
    "        bbox_with_checklist_subclass,  \n",
    "        bbox_with_free_text_subclass,\n",
    "        checklist_annotation,\n",
    "        polygon_annotation_two\n",
    "    ]\n",
    ")\n",
    "# Convert our label from a Labelbox class object to the underlying NDJSON format required for upload \n",
    "label_ndjson = list(lb_serializers.NDJsonConverter.serialize([label]))\n",
    "label_ndjson"
   ],
   "metadata": {
    "id": "3_LZLZY7xS30",
    "colab": {
     "base_uri": "https://localhost:8080/"
    },
    "outputId": "e25c4962-303d-4818-ff45-063e281ff65b"
   },
   "id": "3_LZLZY7xS30",
   "execution_count": 22,
   "outputs": [
    {
     "data": {
      "text/plain": "[{'uuid': '6369eaa2-a594-4954-9b50-461ab5167eec',\n  'dataRow': {'id': 'cldt59zs303yf077b7ac365r2'},\n  'name': 'point_geo',\n  'classifications': [],\n  'point': {'x': -122.31741025134123, 'y': 37.87355669249922}},\n {'uuid': '029e8a8a-34ab-41f7-9b38-7a240aafa7a7',\n  'dataRow': {'id': 'cldt59zs303yf077b7ac365r2'},\n  'name': 'polyline_geo',\n  'classifications': [],\n  'line': [{'x': -122.31757789012927, 'y': 37.87396317833991},\n   {'x': -122.31639782443663, 'y': 37.87396741226917},\n   {'x': -122.31638977853417, 'y': 37.87277872707839}]},\n {'uuid': '4b79a7f7-0132-432f-a1f9-541a324e004e',\n  'dataRow': {'id': 'cldt59zs303yf077b7ac365r2'},\n  'name': 'polygon_geo',\n  'classifications': [],\n  'polygon': [{'x': -122.31691812612837, 'y': 37.873289980495024},\n   {'x': -122.31710184090099, 'y': 37.87304335144298},\n   {'x': -122.31680146054286, 'y': 37.87303594197371},\n   {'x': -122.31691812612837, 'y': 37.873289980495024}]},\n {'uuid': '0c6e95dd-7185-4bc9-b352-6c0a1494000a',\n  'dataRow': {'id': 'cldt59zs303yf077b7ac365r2'},\n  'name': 'bbox_geo',\n  'classifications': [],\n  'bbox': {'top': 37.873713376083884,\n   'left': -122.31734455895823,\n   'height': 0.0001460709135656657,\n   'width': 0.0006141705536464315}},\n {'name': 'radio_question_geo',\n  'answer': {'name': 'first_radio_answer'},\n  'uuid': '30d251bd-fe83-4177-b5a4-9813cd25b858',\n  'dataRow': {'id': 'cldt59zs303yf077b7ac365r2'}},\n {'uuid': 'fd18fd50-09d5-448b-927f-559cb0ca9aee',\n  'dataRow': {'id': 'cldt59zs303yf077b7ac365r2'},\n  'name': 'bbox_checklist_geo',\n  'classifications': [{'name': 'checklist_class_name',\n    'answer': [{'name': 'first_checklist_answer'}]}],\n  'bbox': {'top': 37.87340218056304,\n   'left': -122.31711256877092,\n   'height': 0.00020534685175022105,\n   'width': 0.0004572754559006853}},\n {'uuid': '8e40c780-7728-49d5-80d5-f49f5dcd38a5',\n  'dataRow': {'id': 'cldt59zs303yf077b7ac365r2'},\n  'name': 'bbox_text_geo',\n  'classifications': [{'name': 'free_text_geo', 'answer': 'sample text'}],\n  'bbox': {'top': 37.87318201423049,\n   'left': -122.31750814315438,\n   'height': 0.00019791053033202388,\n   'width': 0.00040764323713915473}},\n {'name': 'checklist_question_geo',\n  'uuid': 'bdedeb54-c1ac-454e-9ce0-c6469d6e2921',\n  'dataRow': {'id': 'cldt59zs303yf077b7ac365r2'},\n  'answer': [{'name': 'first_checklist_answer'},\n   {'name': 'second_checklist_answer'},\n   {'name': 'third_checklist_answer'}]},\n {'uuid': '0e6054e5-5fec-429d-832c-1b57d86fee7c',\n  'dataRow': {'id': 'cldt59zs303yf077b7ac365r2'},\n  'name': 'polygon_geo_2',\n  'classifications': [],\n  'polygon': [{'x': -122.31646914421482, 'y': 37.87297802850958},\n   {'x': -122.31646914421482, 'y': 37.87293839329296},\n   {'x': -122.31645192787487, 'y': 37.87291400237985},\n   {'x': -122.31638650578307, 'y': 37.872837780724275},\n   {'x': -122.31635551637117, 'y': 37.872837780724275},\n   {'x': -122.31635895963917, 'y': 37.872929246701496},\n   {'x': -122.31638650578307, 'y': 37.87297802850958},\n   {'x': -122.31646914421482, 'y': 37.87297802850958}]}]"
     },
     "execution_count": 22,
     "metadata": {},
     "output_type": "execute_result"
    }
   ]
  },
  {
   "cell_type": "markdown",
   "source": [
    "### NDJSON annotations\n",
    "Here we create the complete label NDJSON payload of annotations only using NDJSON format. There is one annotation for each reference to an annotation that we created on *** Supported Python annotation types and NDJSON *** section."
   ],
   "metadata": {
    "id": "LUJtuLa00gZF"
   },
   "id": "LUJtuLa00gZF"
  },
  {
   "cell_type": "code",
   "source": [
    "label_ndjson_method2 = []\n",
    "\n",
    "for annotations in [point_annotation_ndjson,\n",
    "                    polyline_annotation_ndjson,\n",
    "                    polygon_annotation_ndjson,\n",
    "                    bbox_annotation_ndjson,\n",
    "                    radio_annotation_ndjson,\n",
    "                    bbox_with_checklist_subclass_ndjson,  \n",
    "                    bbox_with_free_text_subclass_ndjson,\n",
    "                    checklist_annotation_ndjson]:\n",
    "  annotations.update({\n",
    "      'uuid' : str(uuid.uuid4()),\n",
    "      'dataRow': {\n",
    "          'id':  next(dataset.export_data_rows()).uid\n",
    "      }\n",
    "  })\n",
    "  label_ndjson_method2.append(annotations)\n",
    "  "
   ],
   "metadata": {
    "id": "M88fD66M0f63"
   },
   "id": "M88fD66M0f63",
   "execution_count": 24,
   "outputs": []
  },
  {
   "cell_type": "code",
   "source": [
    "label_ndjson_method2"
   ],
   "metadata": {
    "id": "10pZtHgzfAJS",
    "colab": {
     "base_uri": "https://localhost:8080/"
    },
    "outputId": "c8d8b9e7-15e6-48a7-a93e-a26266290c6e"
   },
   "id": "10pZtHgzfAJS",
   "execution_count": 25,
   "outputs": [
    {
     "data": {
      "text/plain": "[{'name': 'point_geo',\n  'point': {'x': -122.31741025134123, 'y': 37.87355669249922},\n  'uuid': '001ef312-0427-4847-b9e8-14c8a3d0d19d',\n  'dataRow': {'id': 'cldt59zs303yf077b7ac365r2'}},\n {'name': 'polyline_geo',\n  'line': [{'x': -122.31757789012927, 'y': 37.87396317833991},\n   {'x': -122.31639782443663, 'y': 37.87396741226917},\n   {'x': -122.31638977853417, 'y': 37.87277872707839}],\n  'uuid': '1b009187-63b7-4653-b629-ba254980c535',\n  'dataRow': {'id': 'cldt59zs303yf077b7ac365r2'}},\n {'name': 'polygon_geo',\n  'polygon': [{'x': -122.31691812612837, 'y': 37.873289980495024},\n   {'x': -122.31710184090099, 'y': 37.87304335144298},\n   {'x': -122.31680146054286, 'y': 37.87303594197371},\n   {'x': -122.31691812612837, 'y': 37.873289980495024}],\n  'uuid': 'f406264b-2a85-4da4-a904-169d9ffa02a3',\n  'dataRow': {'id': 'cldt59zs303yf077b7ac365r2'}},\n {'name': 'bbox_geo',\n  'bbox': {'top': 37.87385944699745,\n   'left': -122.31734455895823,\n   'height': -0.0001460709135656657,\n   'width': 0.0006141705536464315},\n  'uuid': '765dbce0-77fb-4a70-9fdd-8489d15c648f',\n  'dataRow': {'id': 'cldt59zs303yf077b7ac365r2'}},\n {'name': 'radio_question_geo',\n  'answer': {'name': 'first_radio_answer'},\n  'uuid': '3b3e9821-8da8-45ea-8331-d39795928ffe',\n  'dataRow': {'id': 'cldt59zs303yf077b7ac365r2'}},\n {'name': 'bbox_checklist_geo',\n  'classifications': [{'name': 'checklist_class_name',\n    'answer': [{'name': 'first_checklist_answer'}]}],\n  'bbox': {'top': 37.87360752741479,\n   'left': -122.31711256877092,\n   'height': -0.00020534685175022105,\n   'width': 0.0004572754559006853},\n  'uuid': 'fcfcda7e-2f15-4020-97a1-81d03ba79b3c',\n  'dataRow': {'id': 'cldt59zs303yf077b7ac365r2'}},\n {'name': 'bbox_text_geo',\n  'classifications': [{'name': 'free_text_geo', 'answer': 'sample text'}],\n  'bbox': {'top': 37.87337992476082,\n   'left': -122.31750814315438,\n   'height': -0.00019791053033202388,\n   'width': 0.00040764323713915473},\n  'uuid': 'f8239c1a-7d44-4ae0-a60a-ddde809d3722',\n  'dataRow': {'id': 'cldt59zs303yf077b7ac365r2'}},\n {'name': 'checklist_question_geo',\n  'answer': [{'name': 'first_checklist_answer'},\n   {'name': 'second_checklist_answer'},\n   {'name': 'third_checklist_answer'}],\n  'uuid': 'd9dcf479-a342-49cf-b38c-19b18a177372',\n  'dataRow': {'id': 'cldt59zs303yf077b7ac365r2'}}]"
     },
     "execution_count": 25,
     "metadata": {},
     "output_type": "execute_result"
    }
   ]
  },
  {
   "cell_type": "markdown",
   "source": [
    "### Step 6: Upload annotations to a project as pre-labels or complete labels\n"
   ],
   "metadata": {
    "id": "hy4ShxCc0P3F"
   },
   "id": "hy4ShxCc0P3F"
  },
  {
   "cell_type": "markdown",
   "source": [
    "#### Model-Assisted Labeling (MAL)\n",
    "For the purpose of this tutorial only run one of the label_ndjosn  annotation type tools at the time (NDJSON or Annotation types). Delete the previous labels before uploading labels that use the 2nd method (ndjson)"
   ],
   "metadata": {
    "id": "y6dL3p17VPQL"
   },
   "id": "y6dL3p17VPQL"
  },
  {
   "cell_type": "code",
   "source": [
    "# Upload MAL label for this data row in project\n",
    "upload_job = lb.MALPredictionImport.create_from_objects(\n",
    "    client = client, \n",
    "    project_id = project.uid, \n",
    "    name=\"mal_import_job\"+str(uuid.uuid4()), \n",
    "    ### use label_ndjson_method2 if labels were created using NDJSON tools\n",
    "    predictions=label_ndjson)\n",
    "\n",
    "upload_job.wait_until_done();\n",
    "print(\"Errors:\", upload_job.errors)\n",
    "print(\"   \")"
   ],
   "metadata": {
    "colab": {
     "base_uri": "https://localhost:8080/"
    },
    "id": "SrAMnM9L0cAb",
    "outputId": "f033df57-6a04-48f8-dce7-4ccf8c87aed3"
   },
   "id": "SrAMnM9L0cAb",
   "execution_count": 26,
   "outputs": [
    {
     "name": "stdout",
     "output_type": "stream",
     "text": [
      "Errors: []\n",
      "   \n"
     ]
    }
   ]
  },
  {
   "cell_type": "markdown",
   "source": [
    "#### Label Import"
   ],
   "metadata": {
    "id": "IXAcQfHl2_38"
   },
   "id": "IXAcQfHl2_38"
  },
  {
   "cell_type": "code",
   "source": [
    "# Upload label for this data row in project \n",
    "upload_job = lb.LabelImport.create_from_objects(\n",
    "    client = client, \n",
    "    project_id = project.uid, \n",
    "    name=\"label_geo_import_job\"+str(uuid.uuid4()),  \n",
    "    # user label_ndjson if labels were created using python annotation tools\n",
    "    labels=label_ndjson)\n",
    "\n",
    "upload_job.wait_until_done();\n",
    "print(\"Errors:\", upload_job.errors)"
   ],
   "metadata": {
    "id": "leIutAqA2_Uw",
    "colab": {
     "base_uri": "https://localhost:8080/"
    },
    "outputId": "4b6e3124-1d90-472e-d8af-9ebee1683f80"
   },
   "id": "leIutAqA2_Uw",
   "execution_count": 27,
   "outputs": [
    {
     "name": "stdout",
     "output_type": "stream",
     "text": [
      "Errors: []\n"
     ]
    }
   ]
  },
  {
   "cell_type": "markdown",
   "source": [
    "### Optional deletions for cleanup"
   ],
   "metadata": {
    "id": "ZgaBbFA9vajf"
   },
   "id": "ZgaBbFA9vajf"
  },
  {
   "cell_type": "code",
   "source": [
    "# project.delete()\n",
    "# dataset.delete()"
   ],
   "metadata": {
    "id": "ZLM9L5ggGqHG"
   },
   "id": "ZLM9L5ggGqHG",
   "execution_count": 93,
   "outputs": []
  }
 ],
 "metadata": {
  "colab": {
   "provenance": []
  },
  "kernelspec": {
   "display_name": "Python 3",
   "language": "python",
   "name": "python3"
  },
  "language_info": {
   "codemirror_mode": {
    "name": "ipython",
    "version": 3
   },
   "file_extension": ".py",
   "mimetype": "text/x-python",
   "name": "python",
   "nbconvert_exporter": "python",
   "pygments_lexer": "ipython3",
   "version": "3.8.8"
  }
 },
 "nbformat": 4,
 "nbformat_minor": 5
}
