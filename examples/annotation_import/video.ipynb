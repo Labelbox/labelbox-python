{
    "cells": [
        {
            "cell_type": "markdown",
            "id": "db768cda",
            "metadata": {},
            "source": [
                "<td>\n",
                "   <a target=\"_blank\" href=\"https://labelbox.com\" ><img src=\"https://labelbox.com/blog/content/images/2021/02/logo-v4.svg\" width=256/></a>\n",
                "</td>"
            ]
        },
        {
            "cell_type": "markdown",
            "id": "cb5611d0",
            "metadata": {},
            "source": [
                "<td>\n",
                "<a href=\"https://colab.research.google.com/github/Labelbox/labelbox-python/blob/develop/examples/model_assisted_labeling/video_mal.ipynb\" target=\"_blank\"><img\n",
                "src=\"https://colab.research.google.com/assets/colab-badge.svg\" alt=\"Open In Colab\"></a>\n",
                "</td>\n",
                "\n",
                "<td>\n",
                "<a href=\"https://github.com/Labelbox/labelbox-python/tree/develop/examples/model_assisted_labeling/video_mal.ipynb\" target=\"_blank\"><img\n",
                "src=\"https://img.shields.io/badge/GitHub-100000?logo=github&logoColor=white\" alt=\"GitHub\"></a>\n",
                "</td>"
            ]
        },
        {
            "cell_type": "markdown",
            "id": "stupid-court",
            "metadata": {},
            "source": [
                "# Video MAL"
            ]
        },
        {
            "cell_type": "markdown",
            "id": "intellectual-idaho",
            "metadata": {},
            "source": [
                "* Upload model inferences for video tasks\n",
                "* Support types\n",
                "    * bounding box"
            ]
        },
        {
            "cell_type": "code",
            "execution_count": 1,
            "id": "voluntary-minister",
            "metadata": {},
            "outputs": [],
            "source": [
                "!pip install -q labelbox"
            ]
        },
        {
            "cell_type": "code",
            "execution_count": 2,
            "id": "committed-richards",
            "metadata": {},
            "outputs": [],
            "source": [
                "import os\n",
                "import uuid\n",
                "from io import BytesIO\n",
                "from typing import Dict, Any, Tuple\n",
                "\n",
                "from labelbox import Client, LabelingFrontend\n",
                "from labelbox.schema.ontology import OntologyBuilder, Tool, Classification, Option"
            ]
        },
        {
            "cell_type": "markdown",
            "id": "c8c876b7",
            "metadata": {},
            "source": [
                "# API Key and Client\n",
                "Provide a valid api key below in order to properly connect to the Labelbox Client."
            ]
        },
        {
            "cell_type": "code",
            "execution_count": 5,
            "id": "affecting-myanmar",
            "metadata": {},
            "outputs": [],
            "source": [
                "# Add your api key\n",
                "API_KEY = None\n",
                "client = Client(api_key=API_KEY)"
            ]
        },
        {
            "cell_type": "markdown",
            "id": "blessed-venture",
            "metadata": {},
            "source": [
                "### Project Setup"
            ]
        },
        {
            "cell_type": "code",
            "execution_count": 6,
            "id": "suburban-crowd",
            "metadata": {},
            "outputs": [],
            "source": [
                "# We want to try out a few different tools here.\n",
                "ontology_builder = OntologyBuilder(\n",
                "    tools=[Tool(tool=Tool.Type.BBOX, name=\"jellyfish\")])"
            ]
        },
        {
            "cell_type": "code",
            "execution_count": 7,
            "id": "modern-program",
            "metadata": {},
            "outputs": [],
            "source": [
                "# Lets setup a project to label\n",
                "# Note see Ontology, Project, and Project_setup notebooks for more information on this section.\n",
                "project = client.create_project(name=\"video_mal_project\")\n",
                "dataset = client.create_dataset(name=\"video_mal_dataset\")\n",
                "dataset.create_data_row(\n",
                "    row_data=\n",
                "    \"https://storage.labelbox.com/cjhfn5y6s0pk507024nz1ocys%2Fb8837f3b-b071-98d9-645e-2e2c0302393b-jellyfish2-100-110.mp4\"\n",
                ")\n",
                "editor = next(\n",
                "    client.get_labeling_frontends(where=LabelingFrontend.name == \"Editor\"))\n",
                "project.setup(editor, ontology_builder.asdict())\n",
                "project.datasets.connect(dataset)"
            ]
        },
        {
            "cell_type": "markdown",
            "id": "portable-grenada",
            "metadata": {},
            "source": [
                "#### Grab featureSchemaIds"
            ]
        },
        {
            "cell_type": "code",
            "execution_count": 8,
            "id": "abstract-fifteen",
            "metadata": {},
            "outputs": [
                {
                    "name": "stdout",
                    "output_type": "stream",
                    "text": [
                        "{'jellyfish': 'cky3dt2lja37d0z9t26wf3qo5'}\n"
                    ]
                }
            ],
            "source": [
                "# When we created a project with the ontology defined above, all of the ids were assigned.\n",
                "# So lets reconstruct the ontology builder with all of the ids.\n",
                "ontology = ontology_builder.from_project(project)\n",
                "# We want all of the feature schemas to be easily accessible by name.\n",
                "schema_lookup = {tool.name: tool.feature_schema_id for tool in ontology.tools}\n",
                "print(schema_lookup)"
            ]
        },
        {
            "cell_type": "markdown",
            "id": "portuguese-arthur",
            "metadata": {},
            "source": [
                "## Import Format\n",
                "\n",
                "* [Documentation](https://docs.labelbox.com/docs/bounding-box-json)\n",
                "\n",
                "\n",
                "```\n",
                "Each row of the import is a unique instance\n",
                "\n",
                "schemaId: <featureSchemaId>\n",
                "dataRow:\n",
                "    id: <dataRowId>\n",
                "Instance:\n",
                "    [Segments]:\n",
                "        [KeyFrames]:\n",
                "            frame:\n",
                "            bbox:\n",
                "                top:\n",
                "                bottom:\n",
                "                height:\n",
                "                width:\n",
                "```\n",
                "\n",
                "**segments**: A segment represents a continuous section where an object is visible. If an instance disappears then the segment ends. If it re-appears, a new segment is created.\n",
                "\n",
                "**keyframes**: Key frames identify the location of an instance. Between keyframes, the location of the instance is interpolated.\n",
                "\n",
                "**bbox**: The coordinates of the bounding box"
            ]
        },
        {
            "cell_type": "code",
            "execution_count": 9,
            "id": "5fc417c5",
            "metadata": {},
            "outputs": [],
            "source": [
                "segments = [{\n",
                "    \"keyframes\": [{\n",
                "        \"frame\": 1,\n",
                "        \"bbox\": {\n",
                "            \"top\": 80,\n",
                "            \"left\": 80,\n",
                "            \"height\": 80,\n",
                "            \"width\": 80\n",
                "        }\n",
                "    }, {\n",
                "        \"frame\": 20,\n",
                "        \"bbox\": {\n",
                "            \"top\": 125,\n",
                "            \"left\": 125,\n",
                "            \"height\": 200,\n",
                "            \"width\": 300\n",
                "        }\n",
                "    }]\n",
                "}, {\n",
                "    \"keyframes\": [{\n",
                "        \"frame\": 27,\n",
                "        \"bbox\": {\n",
                "            \"top\": 80,\n",
                "            \"left\": 50,\n",
                "            \"height\": 80,\n",
                "            \"width\": 50\n",
                "        }\n",
                "    }]\n",
                "}]"
            ]
        },
        {
            "cell_type": "markdown",
            "id": "convertible-entry",
            "metadata": {},
            "source": [
                "##### Create helper functions to make this much easier"
            ]
        },
        {
            "cell_type": "code",
            "execution_count": 10,
            "id": "developing-beauty",
            "metadata": {},
            "outputs": [],
            "source": [
                "def create_video_bbox_ndjson(datarow_id: str, schema_id: str,\n",
                "                             segments: Dict[str, Any]) -> Dict[str, Any]:\n",
                "    return {\n",
                "        \"uuid\": str(uuid.uuid4()),\n",
                "        \"schemaId\": schema_id,\n",
                "        \"dataRow\": {\n",
                "            \"id\": datarow_id\n",
                "        },\n",
                "        \"segments\": segments\n",
                "    }"
            ]
        },
        {
            "cell_type": "code",
            "execution_count": 11,
            "id": "asian-savings",
            "metadata": {},
            "outputs": [],
            "source": [
                "uploads = []\n",
                "\n",
                "for data_row in dataset.data_rows():\n",
                "    uploads.append(\n",
                "        create_video_bbox_ndjson(data_row.uid, schema_lookup['jellyfish'],\n",
                "                                 segments))"
            ]
        },
        {
            "cell_type": "markdown",
            "id": "perfect-seafood",
            "metadata": {},
            "source": [
                "### Upload the annotations"
            ]
        },
        {
            "cell_type": "code",
            "execution_count": 12,
            "id": "entire-community",
            "metadata": {},
            "outputs": [],
            "source": [
                "# Let's upload!\n",
                "# Validate must be set to false for video bounding boxes\n",
                "upload_task = project.upload_annotations(name=f\"upload-job-{uuid.uuid4()}\",\n",
                "                                         annotations=uploads,\n",
                "                                         validate=False)"
            ]
        },
        {
            "cell_type": "code",
            "execution_count": 13,
            "id": "hollywood-faculty",
            "metadata": {},
            "outputs": [
                {
                    "name": "stdout",
                    "output_type": "stream",
                    "text": [
                        "[]\n"
                    ]
                }
            ],
            "source": [
                "# Wait for upload to finish (Will take up to five minutes)\n",
                "upload_task.wait_until_done()\n",
                "# Review the upload status\n",
                "print(upload_task.errors)"
            ]
        }
    ],
    "metadata": {
        "kernelspec": {
            "display_name": "Python 3",
            "language": "python",
            "name": "python3"
        },
        "language_info": {
            "codemirror_mode": {
                "name": "ipython",
                "version": 3
            },
            "file_extension": ".py",
            "mimetype": "text/x-python",
            "name": "python",
            "nbconvert_exporter": "python",
            "pygments_lexer": "ipython3",
            "version": "3.8.8"
        }
    },
    "nbformat": 4,
    "nbformat_minor": 5
}
