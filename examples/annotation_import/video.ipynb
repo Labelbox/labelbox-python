{
  "cells": [
    {
      "cell_type": "markdown",
      "id": "db768cda",
      "metadata": {
        "id": "db768cda"
      },
      "source": [
        "<td>\n",
        "   <a target=\"_blank\" href=\"https://labelbox.com\" ><img src=\"https://labelbox.com/blog/content/images/2021/02/logo-v4.svg\" width=256/></a>\n",
        "</td>"
      ]
    },
    {
      "cell_type": "markdown",
      "id": "cb5611d0",
      "metadata": {
        "id": "cb5611d0"
      },
      "source": [
        "<td>\n",
        "<a href=\"https://colab.research.google.com/github/Labelbox/labelbox-python/blob/develop/examples/annotation_import/video.ipynb\" target=\"_blank\"><img\n",
        "src=\"https://colab.research.google.com/assets/colab-badge.svg\" alt=\"Open In Colab\"></a>\n",
        "</td>\n",
        "\n",
        "<td>\n",
        "\n",
        "<a href=\"https://github.com/Labelbox/labelbox-python/tree/develop/examples/annotation_import/video.ipynb\" target=\"_blank\"><img\n",
        "src=\"https://img.shields.io/badge/GitHub-100000?logo=github&logoColor=white\" alt=\"GitHub\"></a>\n",
        "</td> "
      ]
    },
    {
      "cell_type": "markdown",
      "id": "stupid-court",
      "metadata": {
        "id": "stupid-court"
      },
      "source": [
        "# Video Annotation Import\n",
        "\n",
        "* Annotations must be created and uploaded using NDJSON\n",
        "* Supported annotations that can be uploaded through the SDK:\n",
        "    * Bounding box\n",
        "    * Point\n",
        "    * Polyline \n",
        "    * Radio classifications \n",
        "    * Checklist classifications \n",
        "* **NOT** supported:\n",
        "    * Polygons \n",
        "    * Segmentation masks\n",
        "    * Free form text classifications\n",
        "\n",
        "Please note that this list of unsupported annotations only refers to limitations for importing annotations. For example, when using the Labelbox editor, segmentation masks can be created and edited on video assets."
      ]
    },
    {
      "cell_type": "markdown",
      "id": "1zT_5ECvN_cD",
      "metadata": {
        "id": "1zT_5ECvN_cD"
      },
      "source": [
        "### Setup"
      ]
    },
    {
      "cell_type": "code",
      "execution_count": 2,
      "id": "voluntary-minister",
      "metadata": {
        "colab": {
          "base_uri": "https://localhost:8080/"
        },
        "id": "voluntary-minister",
        "outputId": "0014d4ac-6b27-4aa8-96d9-08fe850024f8"
      },
      "outputs": [
        {
          "name": "stdout",
          "output_type": "stream",
          "text": [
            "\u001b[?25l     \u001b[90m━━━━━━━━━━━━━━━━━━━━━━━━━━━━━━━━━━━━━━━━\u001b[0m \u001b[32m0.0/185.5 KB\u001b[0m \u001b[31m?\u001b[0m eta \u001b[36m-:--:--\u001b[0m\r\u001b[2K     \u001b[91m━━━━━━━━━━━━━━━━━━━━━━━━━━━━━━━━━━━━━\u001b[0m\u001b[91m╸\u001b[0m \u001b[32m184.3/185.5 KB\u001b[0m \u001b[31m11.1 MB/s\u001b[0m eta \u001b[36m0:00:01\u001b[0m\r\u001b[2K     \u001b[90m━━━━━━━━━━━━━━━━━━━━━━━━━━━━━━━━━━━━━━━\u001b[0m \u001b[32m185.5/185.5 KB\u001b[0m \u001b[31m4.4 MB/s\u001b[0m eta \u001b[36m0:00:00\u001b[0m\n",
            "\u001b[?25h  Preparing metadata (setup.py) ... \u001b[?25l\u001b[?25hdone\n",
            "\u001b[2K     \u001b[90m━━━━━━━━━━━━━━━━━━━━━━━━━━━━━━━━━━━━━━━━\u001b[0m \u001b[32m7.8/7.8 MB\u001b[0m \u001b[31m46.7 MB/s\u001b[0m eta \u001b[36m0:00:00\u001b[0m\n",
            "\u001b[?25h  Building wheel for pygeotile (setup.py) ... \u001b[?25l\u001b[?25hdone\n"
          ]
        }
      ],
      "source": [
        "!pip install -q 'labelbox[data]'"
      ]
    },
    {
      "cell_type": "code",
      "execution_count": 3,
      "id": "committed-richards",
      "metadata": {
        "id": "committed-richards"
      },
      "outputs": [],
      "source": [
        "import uuid\n",
        "from labelbox import Client, LabelingFrontend, MediaType, MALPredictionImport, LabelImport\n",
        "from labelbox.schema.ontology import OntologyBuilder, Tool, Classification, Option\n",
        "from labelbox.schema.queue_mode import QueueMode\n",
        "from labelbox.data.annotation_types import (\n",
        "    Label, ObjectAnnotation,\n",
        "    Rectangle, Point, Line, Radio, Checklist, ClassificationAnnotation, ClassificationAnswer\n",
        ")"
      ]
    },
    {
      "cell_type": "markdown",
      "id": "c8c876b7",
      "metadata": {
        "id": "c8c876b7"
      },
      "source": [
        "### Replace with your API key \n",
        "Guides on [Create an API key](https://docs.labelbox.com/docs/create-an-api-key)"
      ]
    },
    {
      "cell_type": "code",
      "execution_count": 4,
      "id": "affecting-myanmar",
      "metadata": {
        "id": "affecting-myanmar"
      },
      "outputs": [],
      "source": [
        "# Add your api key\n",
        "API_KEY=None\n",
        "client = Client(api_key=API_KEY)"
      ]
    },
    {
      "cell_type": "markdown",
      "id": "blessed-venture",
      "metadata": {
        "id": "blessed-venture"
      },
      "source": [
        "## Supported annotations for video\n",
        "Only NDJSON annotations are supported with video assets"
      ]
    },
    {
      "cell_type": "markdown",
      "id": "kLT9P-WYk4Nr",
      "metadata": {
        "id": "kLT9P-WYk4Nr"
      },
      "source": [
        "### Supported NDJSON annotations"
      ]
    },
    {
      "cell_type": "code",
      "execution_count": 5,
      "id": "suburban-crowd",
      "metadata": {
        "id": "suburban-crowd"
      },
      "outputs": [],
      "source": [
        "######## Bounding box  ###########\n",
        "\n",
        "# NDJSON\n",
        "bbox_annotation_ndjson = {\n",
        "    \"name\" : \"bbox_video\",\n",
        "    \"segments\" : [{\n",
        "        \"keyframes\" : [\n",
        "            {\n",
        "              \"frame\": 13,\n",
        "              \"bbox\" : {\n",
        "                \"top\": 146.0,\n",
        "                \"left\": 98.0,\n",
        "                \"height\": 382.0,\n",
        "                \"width\": 341.0\n",
        "              }  \n",
        "           },\n",
        "           {\n",
        "              \"frame\": 14,\n",
        "              \"bbox\" : {\n",
        "                \"top\": 146.0,\n",
        "                \"left\": 98.0,\n",
        "                \"height\": 382.0,\n",
        "                \"width\": 341.0\n",
        "              }  \n",
        "           },\n",
        "           {\n",
        "              \"frame\": 15,\n",
        "              \"bbox\" : {\n",
        "                \"top\": 146.0,\n",
        "                \"left\": 98.0,\n",
        "                \"height\": 382.0,\n",
        "                \"width\": 341.0\n",
        "              }  \n",
        "           }\n",
        "        ]\n",
        "      }\n",
        "    ]\n",
        "}"
      ]
    },
    {
      "cell_type": "code",
      "execution_count": 6,
      "id": "NCkQ1pB6zBne",
      "metadata": {
        "id": "NCkQ1pB6zBne"
      },
      "outputs": [],
      "source": [
        "######## Point ########\n",
        "\n",
        "#NDJSON\n",
        "point_annotation_ndjson = {\n",
        "    \"name\": \"point_video\", \n",
        "    \"segments\": [{\n",
        "        \"keyframes\": [{\n",
        "            \"frame\": 17,\n",
        "            \"point\" : {\n",
        "                \"x\": 660.134 ,\n",
        "                \"y\": 407.926\n",
        "            }\n",
        "        }]\n",
        "    }] \n",
        "}"
      ]
    },
    {
      "cell_type": "code",
      "execution_count": 7,
      "id": "8xF7QbwZ41Q5",
      "metadata": {
        "id": "8xF7QbwZ41Q5"
      },
      "outputs": [],
      "source": [
        "######## Polyline ########\n",
        "\n",
        "# NDJSON (frame based annotations are supported with NDJSON format)\n",
        "polyline_frame_annotation_ndjson = {\n",
        "  \"name\": \"line_video_frame\", \n",
        "  \"segments\": [\n",
        "      {\n",
        "        \"keyframes\": [\n",
        "          {\n",
        "            \"frame\": 5,\n",
        "            \"line\": [{\n",
        "              \"x\": 680,\n",
        "              \"y\": 100\n",
        "            },{\n",
        "              \"x\": 100,\n",
        "              \"y\": 190\n",
        "            },{\n",
        "              \"x\": 190,\n",
        "              \"y\": 220\n",
        "            }]\n",
        "          },\n",
        "          {\n",
        "            \"frame\": 12,\n",
        "            \"line\": [{\n",
        "              \"x\": 680,\n",
        "              \"y\": 280\n",
        "            },{\n",
        "              \"x\": 300,\n",
        "              \"y\": 380\n",
        "            },{\n",
        "              \"x\": 400,\n",
        "              \"y\": 460\n",
        "            }]\n",
        "          },\n",
        "          {\n",
        "            \"frame\": 20,\n",
        "            \"line\": [{\n",
        "              \"x\": 680,\n",
        "              \"y\": 180\n",
        "            },{\n",
        "              \"x\": 100,\n",
        "              \"y\": 200\n",
        "            },{\n",
        "              \"x\": 200,\n",
        "              \"y\": 260\n",
        "            }]\n",
        "          }\n",
        "        ]\n",
        "      },\n",
        "      {\n",
        "        \"keyframes\": [\n",
        "          {\n",
        "            \"frame\": 24,\n",
        "            \"line\": [{\n",
        "              \"x\": 300,\n",
        "              \"y\": 310\n",
        "            },{\n",
        "              \"x\": 330,\n",
        "              \"y\": 430\n",
        "            }]\n",
        "          },\n",
        "          {\n",
        "            \"frame\": 45,\n",
        "            \"line\": [{\n",
        "              \"x\": 600,\n",
        "              \"y\": 810\n",
        "            },{\n",
        "              \"x\": 900,\n",
        "              \"y\": 930\n",
        "            }]\n",
        "          }\n",
        "        ]\n",
        "      }\n",
        "    ]\n",
        "}"
      ]
    },
    {
      "cell_type": "code",
      "execution_count": 8,
      "id": "hm-zJTtE_APt",
      "metadata": {
        "id": "hm-zJTtE_APt"
      },
      "outputs": [],
      "source": [
        "######## classifications ########\n",
        "\n",
        "## NDJSON\n",
        "\n",
        "## frame specific\n",
        "frame_checklist_classification_ndjson = {\n",
        "    \"name\": \"checklist_class\", \n",
        "    \"answer\": [\n",
        "        { \"name\": \"first_checklist_answer\" , \"frames\": [{\"start\": 29, \"end\": 35 }, {\"start\": 48, \"end\": 65}]},\n",
        "        { \"name\": \"second_checklist_answer\", \"frames\": [{\"start\": 29, \"end\": 35 }, {\"start\": 48, \"end\": 65}]} \n",
        "  ]      \n",
        "}\n",
        "\n",
        "# Global \n",
        "global_radio_classification_ndjson = {\n",
        "    \"name\": \"radio_class_global\", \n",
        "    \"answer\": { \"name\": \"first_radio_answer\" }\n",
        "}\n",
        "\n"
      ]
    },
    {
      "cell_type": "code",
      "execution_count": 9,
      "id": "N5ibW4frr5rw",
      "metadata": {
        "id": "N5ibW4frr5rw"
      },
      "outputs": [],
      "source": [
        "########## Nested Global Classification ########### \n",
        "\n",
        "nested_classification = {\n",
        "  'name': 'radio_question_nested',\n",
        "  'answer': {'name': 'first_radio_question'},\n",
        "  'classifications' : [\n",
        "    {'name': 'sub_question_radio', 'answer': {'name': 'sub_answer'}}\n",
        "   ]\n",
        "}"
      ]
    },
    {
      "cell_type": "code",
      "execution_count": 10,
      "id": "TU6PLazxZdWl",
      "metadata": {
        "id": "TU6PLazxZdWl"
      },
      "outputs": [],
      "source": [
        "########## Classifications under frame base tools ##########\n",
        "\n",
        "# Frame base nested classifications do not support using the feature's name to extract ontology features. \n",
        "# For this single case we are going to use the classification's featureSchemaId and the answers' featureSchemaId \n",
        "# We will update the annotation object with the featureSchemaIds on step 5 after we create the ontology in step 2\n",
        "\n",
        "\n",
        "frame_bbox_with_checklist_subclass_ndjson = {\n",
        "    \"name\": \"bbox_class\",\n",
        "    \"segments\": [{\n",
        "        \"keyframes\": [\n",
        "            {\n",
        "            \"frame\": 10,\n",
        "            \"bbox\": {\n",
        "                \"top\": 146.0,\n",
        "                \"left\": 98.0,\n",
        "                \"height\": 382.0,\n",
        "                \"width\": 341.0\n",
        "              },\n",
        "            \"classifications\" : [\n",
        "              {'schemaId' : '', 'answer' : {'schemaId': '' }}\n",
        "            ]     \n",
        "          },\n",
        "          {  \n",
        "          \"frame\": 11,\n",
        "            \"bbox\": {\n",
        "                \"top\": 146.0,\n",
        "                \"left\": 98.0,\n",
        "                \"height\": 382.0,\n",
        "                \"width\": 341.0\n",
        "              },\n",
        "            \"classifications\" : [\n",
        "              {'schemaId' : '', 'answer' : {'schemaId': '' }}\n",
        "            ]  \n",
        "          },\n",
        "          {  \n",
        "          \"frame\": 13,\n",
        "            \"bbox\": {\n",
        "                \"top\": 146.0,\n",
        "                \"left\": 98.0,\n",
        "                \"height\": 382.0,\n",
        "                \"width\": 341.0\n",
        "              },\n",
        "            \"classifications\" : [\n",
        "              {'schemaId' : '', 'answer' : {'schemaId': '' }}\n",
        "            ]  \n",
        "          }\n",
        "        ]\n",
        "      }\n",
        "    ]\n",
        "}"
      ]
    },
    {
      "cell_type": "markdown",
      "id": "Zpj79CySHpbW",
      "metadata": {
        "id": "Zpj79CySHpbW"
      },
      "source": [
        "## Upload Annotations - putting it all together"
      ]
    },
    {
      "cell_type": "markdown",
      "id": "t-5DTORrHtbo",
      "metadata": {
        "id": "t-5DTORrHtbo"
      },
      "source": [
        "### Step 1: Import data rows into Catalog"
      ]
    },
    {
      "cell_type": "code",
      "execution_count": 11,
      "id": "ysLRIWM3HGFv",
      "metadata": {
        "colab": {
          "base_uri": "https://localhost:8080/"
        },
        "id": "ysLRIWM3HGFv",
        "outputId": "662ef670-488a-45ca-be79-78f12aeb57b0"
      },
      "outputs": [
        {
          "name": "stdout",
          "output_type": "stream",
          "text": [
            "cldj4sy3t1sq8071acsro5udf\n",
            "<DataRow {\n",
            "    \"created_at\": \"2023-01-30 18:15:42+00:00\",\n",
            "    \"external_id\": null,\n",
            "    \"global_key\": \"da6c97bf-7b80-42e4-a8d5-f355a140991c\",\n",
            "    \"media_attributes\": {},\n",
            "    \"metadata\": [],\n",
            "    \"metadata_fields\": [],\n",
            "    \"row_data\": \"https://storage.googleapis.com/labelbox-datasets/video-sample-data/sample-video-2.mp4\",\n",
            "    \"uid\": \"cldj4sy3t1sq8071acsro5udf\",\n",
            "    \"updated_at\": \"2023-01-30 18:15:42+00:00\"\n",
            "}>\n"
          ]
        }
      ],
      "source": [
        "from labelbox.data.annotation_types.collection import uuid4\n",
        "client = Client(API_KEY)\n",
        "\n",
        "asset = {\n",
        "    \"row_data\": \"https://storage.googleapis.com/labelbox-datasets/video-sample-data/sample-video-2.mp4\", \n",
        "    \"global_key\": str(uuid.uuid4()),\n",
        "    \"media_type\": \"VIDEO\"\n",
        "}\n",
        "\n",
        "dataset = client.create_dataset(name=\"video_demo_dataset\")\n",
        "data_row = dataset.create_data_row(asset)\n",
        "print(data_row.uid)\n",
        "print(data_row)"
      ]
    },
    {
      "attachments": {},
      "cell_type": "markdown",
      "id": "AXopoqTqKOvW",
      "metadata": {
        "id": "AXopoqTqKOvW"
      },
      "source": [
        "### Step 2: Create/select an ontology\n",
        "Your project should have the correct ontology setup with all the tools and classifications supported for your annotations, and the tool and classification names should match the `name` field in your annotations to ensure the correct feature schemas are matched.\n",
        "\n",
        "For example, when we create the bounding box annotation above, we provided the `name` as `bbox_video`. Now, when we setup our ontology, we must ensure that the name of my bounding box tool is also `bbox_video`. The same alignment must hold true for the other tools and classifications we create in our ontology.\n",
        "\n",
        "\n",
        "[Documentation for reference ](https://docs.labelbox.com/reference/import-text-annotations)"
      ]
    },
    {
      "cell_type": "code",
      "execution_count": null,
      "id": "ZCjNJBTSKONt",
      "metadata": {
        "id": "ZCjNJBTSKONt"
      },
      "outputs": [],
      "source": [
        "ontology_builder = OntologyBuilder(\n",
        "    tools=[\n",
        "        Tool(tool=Tool.Type.BBOX, name=\"bbox_video\"),\n",
        "        Tool(tool=Tool.Type.POINT, name=\"point_video\"),\n",
        "        Tool(tool=Tool.Type.LINE, name=\"line_video_frame\"),\n",
        "        Tool(\n",
        "          tool=Tool.Type.BBOX, name=\"bbox_class\",\n",
        "          classifications=[\n",
        "            Classification(\n",
        "              class_type=Classification.Type.RADIO, \n",
        "              name=\"bbox_radio\", \n",
        "              scope = Classification.Scope.INDEX,\n",
        "              options=[\n",
        "                Option(value=\"bbox_radio_answer_1\"),\n",
        "                Option(value=\"bbox_radio_answer_2\"),\n",
        "                Option(value=\"bbox_radio_answer_3\")\n",
        "              ]\n",
        "            )\n",
        "          ]\n",
        "        )\n",
        "    ],\n",
        "    classifications=[ \n",
        "        Classification(\n",
        "            class_type=Classification.Type.CHECKLIST, \n",
        "            name=\"checklist_class\",\n",
        "            scope = Classification.Scope.INDEX, ## Need to defined scope for frame classifications \n",
        "            options=[ \n",
        "                Option(value=\"first_checklist_answer\"),\n",
        "                Option(value=\"second_checklist_answer\")\n",
        "            ]\n",
        "        ),\n",
        "        Classification(\n",
        "            class_type=Classification.Type.RADIO, \n",
        "            name=\"radio_class_global\",\n",
        "            options=[ \n",
        "                Option(value=\"first_radio_answer\"),\n",
        "                Option(value=\"second_radio_answer\")\n",
        "            ]\n",
        "        ),\n",
        "         Classification(\n",
        "              class_type=Classification.Type.RADIO, \n",
        "              name=\"radio_question_nested\",\n",
        "              options=[\n",
        "                  Option(\"first_radio_question\",\n",
        "                        options=[\n",
        "                            Classification(\n",
        "                                class_type=Classification.Type.RADIO,\n",
        "                                name=\"sub_question_radio\",\n",
        "                                options=[Option(\"sub_answer\")]\n",
        "                            )\n",
        "                        ]\n",
        "                  )\n",
        "              ] \n",
        "        )  \n",
        "    ]  \n",
        ")\n",
        "\n",
        "ontology = client.create_ontology(\"Ontology Video Annotations\", ontology_builder.asdict())"
      ]
    },
    {
      "cell_type": "markdown",
      "id": "portable-grenada",
      "metadata": {
        "id": "portable-grenada"
      },
      "source": [
        "### Step 3: Create a labeling project \n",
        "Connect the ontology to the labeling project."
      ]
    },
    {
      "cell_type": "code",
      "execution_count": null,
      "id": "wPLSHXrQPfHh",
      "metadata": {
        "id": "wPLSHXrQPfHh"
      },
      "outputs": [],
      "source": [
        "# Project defaults to batch mode with benchmark quality settings if this argument is not provided\n",
        "# Queue mode will be deprecated once dataset mode is deprecated\n",
        "\n",
        "project = client.create_project(name=\"video_project_demo\",\n",
        "                                    queue_mode=QueueMode.Batch,\n",
        "                                    media_type=MediaType.Video)\n",
        "\n",
        "## connect ontology to your project\n",
        "project.setup_editor(ontology)\n",
        "\n",
        "######################### DATASET CONSENSUS OPTION ########################\n",
        "# Note that dataset base projects will be deprecated in the near future.\n",
        "\n",
        "# To use Datasets/Consensus instead of Batches/Benchmarks use the following query: \n",
        "# In this case, 10% of all data rows need to be annotated by three labelers.\n",
        "\n",
        "# dataset_project = client.create_project(name=\"dataset-test-project\",\n",
        "#                                 description=\"a description\",\n",
        "#                                 media_type=MediaType.Text,\n",
        "#                                 auto_audit_percentage=0.1,\n",
        "#                                 auto_audit_number_of_labels=3,\n",
        "#                                 queue_mode=QueueMode.Dataset)\n",
        "\n",
        "# dataset_project.datasets.connect(dataset)"
      ]
    },
    {
      "cell_type": "markdown",
      "id": "GVVPuZVSX6wi",
      "metadata": {
        "id": "GVVPuZVSX6wi"
      },
      "source": [
        "### Step 4: Send a batch of data rows to the project"
      ]
    },
    {
      "cell_type": "code",
      "execution_count": null,
      "id": "UhqBD3gAYCAg",
      "metadata": {
        "colab": {
          "base_uri": "https://localhost:8080/"
        },
        "id": "UhqBD3gAYCAg",
        "outputId": "9a327b20-158d-4e28-bce0-aaf6248a9cb1"
      },
      "outputs": [
        {
          "name": "stdout",
          "output_type": "stream",
          "text": [
            "Batch:  <Batch {\n",
            "    \"consensus_settings_json\": \"{\\\"numberOfLabels\\\":1,\\\"coveragePercentage\\\":0}\",\n",
            "    \"created_at\": \"2023-01-05 13:08:06+00:00\",\n",
            "    \"name\": \"first-batch-video-demo2\",\n",
            "    \"size\": 1,\n",
            "    \"uid\": \"fe69df10-8cf9-11ed-89ec-2b00dd9836f2\",\n",
            "    \"updated_at\": \"2023-01-05 13:08:06+00:00\"\n",
            "}>\n"
          ]
        }
      ],
      "source": [
        "# Create batches\n",
        "\n",
        "# Create a batch to send to your MAL project\n",
        "batch = project.create_batch(\n",
        "  \"first-batch-video-demo2\", # Each batch in a project must have a unique name\n",
        "  dataset.export_data_rows(), # A paginated collection of data row objects\n",
        "  5 # priority between 1(Highest) - 5(lowest)\n",
        ")\n",
        "\n",
        "print(\"Batch: \", batch)"
      ]
    },
    {
      "cell_type": "markdown",
      "id": "gKVEw7AMYIc1",
      "metadata": {
        "id": "gKVEw7AMYIc1"
      },
      "source": [
        "### Step 5: Create the annotations payload \n",
        "Create the annotations payload using the snippets of code above.\n",
        "\n",
        "Labelbox supports two formats for the annotations payload: NDJSON and Python Annotation types. However, for video assets, only NDJSON format is supported."
      ]
    },
    {
      "cell_type": "markdown",
      "id": "ew0UVWtGZzTO",
      "metadata": {
        "id": "ew0UVWtGZzTO"
      },
      "source": [
        "#### NDJSON annotations\n",
        "Here we create the complete `label_ndjson` payload of annotations. There is one annotation for each *reference to an annotation* that we created above."
      ]
    },
    {
      "cell_type": "code",
      "execution_count": null,
      "id": "4V7BXb-XfFCY",
      "metadata": {
        "colab": {
          "base_uri": "https://localhost:8080/"
        },
        "id": "4V7BXb-XfFCY",
        "outputId": "5649b763-eea5-4c20-883e-4c372c91dddf"
      },
      "outputs": [
        {
          "name": "stdout",
          "output_type": "stream",
          "text": [
            "{'schemaNodeId': 'clcj3stvr0pr6073tgie23t2e', 'featureSchemaId': 'clcj3stvr0pr5073t9stn594z', 'required': False, 'name': 'bbox_video', 'tool': 'rectangle', 'color': '#ff0000', 'archived': 0, 'classifications': []}\n",
            "{'schemaNodeId': 'clcj3stvs0pr8073t2wbm6tgi', 'featureSchemaId': 'clcj3stvs0pr7073te5ig6j2u', 'required': False, 'name': 'point_video', 'tool': 'point', 'color': '#7fff00', 'archived': 0, 'classifications': []}\n",
            "{'schemaNodeId': 'clcj3stvs0pra073taql7gfn4', 'featureSchemaId': 'clcj3stvs0pr9073t8u3sd8uq', 'required': False, 'name': 'line_video_frame', 'tool': 'line', 'color': '#00ffff', 'archived': 0, 'classifications': []}\n",
            "{'schemaNodeId': 'clcj3stvs0prk073tbheyamzl', 'featureSchemaId': 'clcj3stvs0prb073t9yc6elwe', 'required': False, 'name': 'bbox_class', 'tool': 'rectangle', 'color': '#7f00ff', 'archived': 0, 'classifications': [{'schemaNodeId': 'clcj3stvs0prj073t9vnn4r93', 'featureSchemaId': 'clcj3stvs0prc073t736kb4zg', 'archived': 0, 'required': False, 'instructions': 'bbox_radio', 'name': 'bbox_radio', 'type': 'radio', 'options': [{'schemaNodeId': 'clcj3stvs0pre073tbem68m8u', 'featureSchemaId': 'clcj3stvs0prd073tezro16ts', 'label': 'bbox_radio_answer_1', 'value': 'bbox_radio_answer_1'}, {'schemaNodeId': 'clcj3stvs0prg073tdsrkendk', 'featureSchemaId': 'clcj3stvs0prf073tgohycpqf', 'label': 'bbox_radio_answer_2', 'value': 'bbox_radio_answer_2'}, {'schemaNodeId': 'clcj3stvs0pri073tg1gf2mt7', 'featureSchemaId': 'clcj3stvs0prh073tg35ndk83', 'label': 'bbox_radio_answer_3', 'value': 'bbox_radio_answer_3'}]}]}\n"
          ]
        }
      ],
      "source": [
        "## For nested frame base classifications we need to pass a featureSchemaId instead of the name. \n",
        "\n",
        "features = project.ontology().normalized\n",
        "\n",
        "for i in features['tools']:\n",
        "  print(i)\n",
        "  if i['name'] == 'bbox_class':\n",
        "    ## Classification feature schema id\n",
        "    class_feature_schema_id = i['classifications'][0]['featureSchemaId']\n",
        "    ## Answer feature schema id (select one of the answers)\n",
        "    class_options_feature_schema_id = i['classifications'][0]['options'][0]['featureSchemaId']\n",
        "\n",
        "    ## Update the original annotation with the schema ids\n",
        "    for frame in frame_bbox_with_checklist_subclass_ndjson['segments']:\n",
        "      for k in frame['keyframes']:\n",
        "        k['classifications'][0].update(\n",
        "            {'schemaId': class_feature_schema_id , \n",
        "              'answer': {'schemaId': class_options_feature_schema_id}\n",
        "              }\n",
        "            )\n",
        "        "
      ]
    },
    {
      "cell_type": "code",
      "execution_count": null,
      "id": "qnFTqR6eZ3mE",
      "metadata": {
        "id": "qnFTqR6eZ3mE"
      },
      "outputs": [],
      "source": [
        "label_ndjson = []\n",
        "\n",
        "for annotations in [point_annotation_ndjson,\n",
        "                    bbox_annotation_ndjson,\n",
        "                    polyline_frame_annotation_ndjson, \n",
        "                    frame_checklist_classification_ndjson, \n",
        "                    global_radio_classification_ndjson,\n",
        "                    nested_classification,\n",
        "                    frame_bbox_with_checklist_subclass_ndjson\n",
        "                    ]:      \n",
        "  annotations.update({\n",
        "      'uuid' : str(uuid.uuid4()),\n",
        "      'dataRow': {\n",
        "          'id':  next(dataset.export_data_rows()).uid\n",
        "      }\n",
        "  })\n",
        "  label_ndjson.append(annotations)\n"
      ]
    },
    {
      "cell_type": "code",
      "execution_count": null,
      "id": "ZNQAjFculCTl",
      "metadata": {
        "colab": {
          "base_uri": "https://localhost:8080/"
        },
        "id": "ZNQAjFculCTl",
        "outputId": "40071166-90a0-4f5d-b16e-1f5f02a0f378"
      },
      "outputs": [
        {
          "data": {
            "text/plain": [
              "[{'name': 'point_video',\n",
              "  'segments': [{'keyframes': [{'frame': 17,\n",
              "      'point': {'x': 660.134, 'y': 407.926}}]}],\n",
              "  'uuid': '4e6ab092-a2cf-4f8d-91cc-16811e3b4d1d',\n",
              "  'dataRow': {'id': 'clcj3stei2y2c07zx2qxmfa7t'}},\n",
              " {'name': 'bbox_video',\n",
              "  'segments': [{'keyframes': [{'frame': 13,\n",
              "      'bbox': {'top': 146.0, 'left': 98.0, 'height': 382.0, 'width': 341.0}},\n",
              "     {'frame': 14,\n",
              "      'bbox': {'top': 146.0, 'left': 98.0, 'height': 382.0, 'width': 341.0}},\n",
              "     {'frame': 15,\n",
              "      'bbox': {'top': 146.0,\n",
              "       'left': 98.0,\n",
              "       'height': 382.0,\n",
              "       'width': 341.0}}]}],\n",
              "  'uuid': '64985f21-5fdc-42f5-9ea1-dbce045eee02',\n",
              "  'dataRow': {'id': 'clcj3stei2y2c07zx2qxmfa7t'}},\n",
              " {'name': 'line_video_frame',\n",
              "  'segments': [{'keyframes': [{'frame': 5,\n",
              "      'line': [{'x': 680, 'y': 100},\n",
              "       {'x': 100, 'y': 190},\n",
              "       {'x': 190, 'y': 220}]},\n",
              "     {'frame': 12,\n",
              "      'line': [{'x': 680, 'y': 280},\n",
              "       {'x': 300, 'y': 380},\n",
              "       {'x': 400, 'y': 460}]},\n",
              "     {'frame': 20,\n",
              "      'line': [{'x': 680, 'y': 180},\n",
              "       {'x': 100, 'y': 200},\n",
              "       {'x': 200, 'y': 260}]}]},\n",
              "   {'keyframes': [{'frame': 24,\n",
              "      'line': [{'x': 300, 'y': 310}, {'x': 330, 'y': 430}]},\n",
              "     {'frame': 45, 'line': [{'x': 600, 'y': 810}, {'x': 900, 'y': 930}]}]}],\n",
              "  'uuid': '91930c69-5acb-4619-916c-671824e35182',\n",
              "  'dataRow': {'id': 'clcj3stei2y2c07zx2qxmfa7t'}},\n",
              " {'name': 'checklist_class',\n",
              "  'answer': [{'name': 'first_checklist_answer',\n",
              "    'frames': [{'start': 29, 'end': 35}, {'start': 48, 'end': 65}]},\n",
              "   {'name': 'second_checklist_answer',\n",
              "    'frames': [{'start': 29, 'end': 35}, {'start': 48, 'end': 65}]}],\n",
              "  'uuid': '48578bbf-058d-4c3b-9100-260c72e247f3',\n",
              "  'dataRow': {'id': 'clcj3stei2y2c07zx2qxmfa7t'}},\n",
              " {'name': 'radio_class_global',\n",
              "  'answer': {'name': 'first_radio_answer'},\n",
              "  'uuid': 'b19b3c48-48e3-4c65-b2e0-206db83cc707',\n",
              "  'dataRow': {'id': 'clcj3stei2y2c07zx2qxmfa7t'}},\n",
              " {'name': 'radio_question_nested',\n",
              "  'answer': {'name': 'first_radio_question'},\n",
              "  'classifications': [{'name': 'sub_question_radio',\n",
              "    'answer': {'name': 'sub_answer'}}],\n",
              "  'uuid': '96d97f0f-4d6b-4be7-a234-eeb2844e28bb',\n",
              "  'dataRow': {'id': 'clcj3stei2y2c07zx2qxmfa7t'}},\n",
              " {'name': 'bbox_class',\n",
              "  'segments': [{'keyframes': [{'frame': 10,\n",
              "      'bbox': {'top': 146.0, 'left': 98.0, 'height': 382.0, 'width': 341.0},\n",
              "      'classifications': [{'schemaId': 'clcj3stvs0prc073t736kb4zg',\n",
              "        'answer': {'schemaId': 'clcj3stvs0prd073tezro16ts'}}]},\n",
              "     {'frame': 11,\n",
              "      'bbox': {'top': 146.0, 'left': 98.0, 'height': 382.0, 'width': 341.0},\n",
              "      'classifications': [{'schemaId': 'clcj3stvs0prc073t736kb4zg',\n",
              "        'answer': {'schemaId': 'clcj3stvs0prd073tezro16ts'}}]},\n",
              "     {'frame': 13,\n",
              "      'bbox': {'top': 146.0, 'left': 98.0, 'height': 382.0, 'width': 341.0},\n",
              "      'classifications': [{'schemaId': 'clcj3stvs0prc073t736kb4zg',\n",
              "        'answer': {'schemaId': 'clcj3stvs0prd073tezro16ts'}}]}]}],\n",
              "  'uuid': 'fae6e47d-bf14-40e0-9c8c-faef45d2a273',\n",
              "  'dataRow': {'id': 'clcj3stei2y2c07zx2qxmfa7t'}}]"
            ]
          },
          "execution_count": 16,
          "metadata": {},
          "output_type": "execute_result"
        }
      ],
      "source": [
        "label_ndjson"
      ]
    },
    {
      "cell_type": "markdown",
      "id": "perfect-seafood",
      "metadata": {
        "id": "perfect-seafood"
      },
      "source": [
        "### Step 6: Upload annotations to a project as pre-labels or completed labels\n",
        "For the purpose of this tutorial only run one of the label imports at once, otherwise the previous import might get overwritten."
      ]
    },
    {
      "cell_type": "markdown",
      "id": "duR8GYczNCmy",
      "metadata": {
        "id": "duR8GYczNCmy"
      },
      "source": [
        "#### Model-Assisted Labeling (MAL)"
      ]
    },
    {
      "cell_type": "code",
      "execution_count": null,
      "id": "entire-community",
      "metadata": {
        "colab": {
          "base_uri": "https://localhost:8080/"
        },
        "id": "entire-community",
        "outputId": "8085948a-2066-47df-8958-929303473c9c"
      },
      "outputs": [
        {
          "name": "stdout",
          "output_type": "stream",
          "text": [
            "Errors: []\n",
            "   \n"
          ]
        }
      ],
      "source": [
        "# Upload MAL label for this data row in project\n",
        "upload_job_mal = MALPredictionImport.create_from_objects(\n",
        "    client = client, \n",
        "    project_id = project.uid, \n",
        "    name=\"mal_import_job-\" + str(uuid.uuid4()), \n",
        "    predictions=label_ndjson)\n",
        "\n",
        "upload_job_mal.wait_until_done();\n",
        "print(\"Errors:\", upload_job_mal.errors)\n",
        "print(\"   \")"
      ]
    },
    {
      "cell_type": "markdown",
      "id": "OCilDEz_wxpb",
      "metadata": {
        "id": "OCilDEz_wxpb"
      },
      "source": [
        "#### Label Import"
      ]
    },
    {
      "cell_type": "code",
      "execution_count": null,
      "id": "si-6kQ4mwUBO",
      "metadata": {
        "colab": {
          "base_uri": "https://localhost:8080/"
        },
        "id": "si-6kQ4mwUBO",
        "outputId": "046eab4b-4d3b-41c0-e880-68de80052756"
      },
      "outputs": [
        {
          "name": "stdout",
          "output_type": "stream",
          "text": [
            "Errors: []\n",
            "   \n"
          ]
        }
      ],
      "source": [
        "upload_job_label_import = LabelImport.create_from_objects(\n",
        "    client = client,\n",
        "    project_id = project.uid, \n",
        "    name = \"label_import_job-\" + str(uuid.uuid4()),\n",
        "    labels=label_ndjson\n",
        ")\n",
        "\n",
        "upload_job_label_import.wait_until_done();\n",
        "print(\"Errors:\", upload_job_label_import.errors)\n",
        "print(\"   \")"
      ]
    },
    {
      "cell_type": "markdown",
      "id": "jdMmQxoVNP6q",
      "metadata": {
        "id": "jdMmQxoVNP6q"
      },
      "source": [
        "### Optional deletions for cleanup"
      ]
    },
    {
      "cell_type": "code",
      "execution_count": null,
      "id": "yPZaLM74LFhB",
      "metadata": {
        "id": "yPZaLM74LFhB"
      },
      "outputs": [],
      "source": [
        "# Delete Project\n",
        "# project.delete()\n",
        "# dataset.delete()"
      ]
    }
  ],
  "metadata": {
    "colab": {
      "provenance": []
    },
    "kernelspec": {
      "display_name": "Python 3",
      "language": "python",
      "name": "python3"
    },
    "language_info": {
      "codemirror_mode": {
        "name": "ipython",
        "version": 3
      },
      "file_extension": ".py",
      "mimetype": "text/x-python",
      "name": "python",
      "nbconvert_exporter": "python",
      "pygments_lexer": "ipython3",
      "version": "3.9.16 (main, Jan 23 2023, 23:42:27) \n[GCC 10.2.1 20210110]"
    },
    "vscode": {
      "interpreter": {
        "hash": "949777d72b0d2535278d3dc13498b2535136f6dfe0678499012e853ee9abcab1"
      }
    }
  },
  "nbformat": 4,
  "nbformat_minor": 5
}
