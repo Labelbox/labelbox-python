{
  "cells": [
    {
      "cell_type": "markdown",
      "id": "a6a048e8-b5fe-418b-aec4-829b5b6802e5",
      "metadata": {
        "id": "a6a048e8-b5fe-418b-aec4-829b5b6802e5"
      },
      "source": [
        "<td>\n",
        "   <a target=\"_blank\" href=\"https://labelbox.com\" ><img src=\"https://labelbox.com/static/images/logo-v4.svg\" width=190/></a>\n",
        "</td>"
      ]
    },
    {
      "cell_type": "markdown",
      "id": "51cf1362-1cde-4749-aac7-5fb94473baa7",
      "metadata": {
        "id": "51cf1362-1cde-4749-aac7-5fb94473baa7"
      },
      "source": [
        "<td>\n",
        "<a href=\"https://colab.research.google.com/github/Labelbox/labelbox-python/blob/develop/examples/annotation_import/text.ipynb\" target=\"_blank\"><img\n",
        "src=\"https://colab.research.google.com/assets/colab-badge.svg\" alt=\"Open In Colab\"></a>\n",
        "</td>\n",
        "\n",
        "<td>\n",
        "<a href=\"https://github.com/Labelbox/labelbox-python/tree/develop/examples/annotation_import/text.ipynb\" target=\"_blank\"><img\n",
        "src=\"https://img.shields.io/badge/GitHub-100000?logo=github&logoColor=white\" alt=\"GitHub\"></a>\n",
        "</td>"
      ]
    },
    {
      "cell_type": "markdown",
      "id": "339795d3-e36c-4470-8605-62bfdd5eea29",
      "metadata": {
        "id": "339795d3-e36c-4470-8605-62bfdd5eea29"
      },
      "source": [
        "# Text Annotation Import\n",
        "* This notebook will provide examples of each supported annotation type for text assets, and also cover MAL and Label Import methods.\n",
        "\n",
        "Supported annotations that can be uploaded through the SDK: \n",
        "\n",
        "* Entity\n",
        "* Classification radio \n",
        "* Classification checklist \n",
        "* Classification free-form text \n",
        "\n",
        "**Not** supported:\n",
        "* Segmentation mask\n",
        "* Polygon\n",
        "* Bounding box \n",
        "* Polyline\n",
        "* Point \n",
        "\n",
        "MAL and Label Import: \n",
        "\n",
        "* Model-assisted labeling - used to provide pre-annotated data for your labelers. This will enable a reduction in the total amount of time to properly label your assets. Model-assisted labeling does not submit the labels automatically, and will need to be reviewed by a labeler for submission.\n",
        "* Label Import - used to provide ground truth labels. These can in turn be used and compared against prediction labels, or used as benchmarks to see how your labelers are doing.\n",
        "\n",
        "For information on what types of annotations are supported per data type, refer to the Import text annotations [documentation](https://docs.labelbox.com/reference/import-text-annotations)."
      ]
    },
    {
      "cell_type": "markdown",
      "id": "f53d50fc-8d3c-452b-9aaf-f6170aaa5576",
      "metadata": {
        "id": "f53d50fc-8d3c-452b-9aaf-f6170aaa5576"
      },
      "source": [
        "Notes:\n",
        "  * Wait until the import job is complete before opening the Editor to make sure all annotations are imported properly.\n",
        "  * You may need to refresh your browser in order to see the results of the import job."
      ]
    },
    {
      "cell_type": "markdown",
      "id": "5effdaa3-e701-4804-aa33-bbbaed99eb92",
      "metadata": {
        "id": "5effdaa3-e701-4804-aa33-bbbaed99eb92"
      },
      "source": [
        "### Setup\n"
      ]
    },
    {
      "cell_type": "code",
      "execution_count": 36,
      "id": "4d63074b-2379-48af-b9d6-2a66190f03c4",
      "metadata": {
        "id": "4d63074b-2379-48af-b9d6-2a66190f03c4"
      },
      "outputs": [],
      "source": [
        "!pip install -q 'labelbox[data]'"
      ]
    },
    {
      "cell_type": "code",
      "execution_count": 37,
      "id": "01fca8c9-0680-4a9c-a11e-1b49f31e9121",
      "metadata": {
        "id": "01fca8c9-0680-4a9c-a11e-1b49f31e9121"
      },
      "outputs": [],
      "source": [
        "from labelbox.schema.ontology import OntologyBuilder, Tool, Classification, Option\n",
        "from labelbox import Client, LabelingFrontend, LabelImport, MALPredictionImport, MediaType\n",
        "from labelbox.schema.queue_mode import QueueMode\n",
        "from labelbox.data.annotation_types import (\n",
        "    Label, TextData, Checklist, Radio, ObjectAnnotation, TextEntity,\n",
        "    ClassificationAnnotation, ClassificationAnswer, LabelList, Text, ImageData\n",
        ")\n",
        "from labelbox.data.serialization import NDJsonConverter\n",
        "import uuid\n",
        "import json"
      ]
    },
    {
      "cell_type": "markdown",
      "id": "a72d96e8-33ce-434d-b330-393e1c31702a",
      "metadata": {
        "id": "a72d96e8-33ce-434d-b330-393e1c31702a"
      },
      "source": [
        "### Replace with your API key\n",
        "Guides on [Create an API key](https://docs.labelbox.com/docs/create-an-api-key)"
      ]
    },
    {
      "cell_type": "code",
      "execution_count": 38,
      "id": "86003724-4807-4281-95c1-5284a6f9609f",
      "metadata": {
        "id": "86003724-4807-4281-95c1-5284a6f9609f"
      },
      "outputs": [],
      "source": [
        "# Add your api key\n",
        "API_KEY = None\n",
        "client = Client(API_KEY)"
      ]
    },
    {
      "cell_type": "markdown",
      "source": [
        "## Supported annotations for text"
      ],
      "metadata": {
        "id": "ZVHoe3gx3PaD"
      },
      "id": "ZVHoe3gx3PaD"
    },
    {
      "cell_type": "markdown",
      "source": [
        "### Supported Python annotation types and NDJSON"
      ],
      "metadata": {
        "id": "_iW4A_uEZvhD"
      },
      "id": "_iW4A_uEZvhD"
    },
    {
      "cell_type": "code",
      "source": [
        "########## Entities ##########\n",
        "\n",
        "# Python annotation\n",
        "named_entity = TextEntity(start=10, end=20)\n",
        "named_entitity_annotation = ObjectAnnotation(value=named_entity, name = \"named_entity\")\n",
        "\n",
        "\n",
        "# NDJSON\n",
        "entities_ndjson = { \n",
        "    \"name\": \"named_entity\",\n",
        "    \"location\": { \n",
        "        \"start\": 67, \n",
        "        \"end\": 128 \n",
        "    }\n",
        "}"
      ],
      "metadata": {
        "id": "Z5ORHD1pZKt1"
      },
      "id": "Z5ORHD1pZKt1",
      "execution_count": 39,
      "outputs": []
    },
    {
      "cell_type": "code",
      "source": [
        "########## Classification - Radio (single choice ) ##########\n",
        "\n",
        "# Python annotation \n",
        "radio_annotation = ClassificationAnnotation(\n",
        "    name=\"radio_question\",\n",
        "    value=Radio(answer = \n",
        "        ClassificationAnswer(name = \"first_radio_answer\")\n",
        "    )\n",
        ")\n",
        "\n",
        "\n",
        "# NDJSON\n",
        "radio_annotation_ndjson = {\n",
        "  'name': 'radio_question',\n",
        "  'answer': {'name': 'first_radio_answer'}\n",
        "} "
      ],
      "metadata": {
        "id": "mrPJ1Ko0ZMdl"
      },
      "id": "mrPJ1Ko0ZMdl",
      "execution_count": 40,
      "outputs": []
    },
    {
      "cell_type": "code",
      "source": [
        "########## Classification - Radio (with subclassifcations) is only suppported with NDJSON tools ##########\n",
        "\n",
        "# NDJSON\n",
        "radio_annotation_ndjson_with_subclass = {\n",
        "  'name': 'radio_question_sub',\n",
        "  'answer': {\n",
        "      'name': 'first_radio_answer',\n",
        "      'classifications': [{\n",
        "          'name':'sub_radio_question',\n",
        "          'answer': { 'name' : 'first_sub_radio_answer'}\n",
        "        }]\n",
        "    }\n",
        "}"
      ],
      "metadata": {
        "id": "vt7QvfV7ZPAF"
      },
      "id": "vt7QvfV7ZPAF",
      "execution_count": 41,
      "outputs": []
    },
    {
      "cell_type": "code",
      "source": [
        "########## Classification - Checklist (Multi-choice) ##########\n",
        "\n",
        "# Python annotation\n",
        "checklist_annotation = ClassificationAnnotation(\n",
        "    name=\"checklist_question\",\n",
        "    value=Checklist(answer = [\n",
        "        ClassificationAnswer(name = \"first_checklist_answer\"),\n",
        "        ClassificationAnswer(name = \"second_checklist_answer\"),\n",
        "        ClassificationAnswer(name = \"third_checklist_answer\")\n",
        "    ])\n",
        "  )\n",
        "\n",
        "\n",
        "# NDJSON\n",
        "checklist_annotation_ndjson = {\n",
        "  'name': 'checklist_question',\n",
        "  'answer': [\n",
        "    {'name': 'first_checklist_answer'},\n",
        "    {'name': 'second_checklist_answer'},\n",
        "    {'name': 'third_checklist_answer'},\n",
        "  ]\n",
        "}"
      ],
      "metadata": {
        "id": "45BDh768ZYsH"
      },
      "id": "45BDh768ZYsH",
      "execution_count": 42,
      "outputs": []
    },
    {
      "cell_type": "code",
      "execution_count": 43,
      "id": "f9f9287c-aad7-4914-bc87-1453fb8bce81",
      "metadata": {
        "id": "f9f9287c-aad7-4914-bc87-1453fb8bce81"
      },
      "outputs": [],
      "source": [
        "########## Classification Free-Form text  ##########\n",
        "\n",
        "# Python annotation\n",
        "text_annotation = ClassificationAnnotation(\n",
        "    name = \"free_text\", \n",
        "    value = Text(answer=\"sample text\")\n",
        ")\n",
        "\n",
        "#  NDJSON\n",
        "text_annotation_ndjson = {\n",
        "  'name': 'free_text',\n",
        "  'answer': 'sample text',\n",
        "}"
      ]
    },
    {
      "cell_type": "markdown",
      "source": [
        "## Upload Annoations - putting it all together "
      ],
      "metadata": {
        "id": "FlS8CHEBaI6A"
      },
      "id": "FlS8CHEBaI6A"
    },
    {
      "cell_type": "markdown",
      "source": [
        "### Step 1: Import data rows into Catalog"
      ],
      "metadata": {
        "id": "mmqlE5zaaNVq"
      },
      "id": "mmqlE5zaaNVq"
    },
    {
      "cell_type": "code",
      "source": [
        "# You can now include ohter fields like attachments, media type and metadata in the data row creation step: https://docs.labelbox.com/reference/text-file   \n",
        "text_asset = {\n",
        "    \"row_data\": \"https://storage.googleapis.com/labelbox-sample-datasets/nlp/lorem-ipsum.txt\",\n",
        "    \"global_key\": \"TEST-ID-%id\" % uuid.uuid4(),\n",
        "    \"media_type\": \"TEXT\",\n",
        "    \"attachments\": [{\"type\": \"TEXT_URL\", \"value\": \"https://storage.googleapis.com/labelbox-sample-datasets/Docs/text_attachment.txt\"}]\n",
        "    }\n",
        "\n",
        "dataset = client.create_dataset(name=\"text_annotation_import_demo_dataset\")\n",
        "data_row = dataset.create_data_row(text_asset)\n",
        "print(data_row)\n",
        "print(data_row.uid)"
      ],
      "metadata": {
        "colab": {
          "base_uri": "https://localhost:8080/"
        },
        "id": "Ak-jnABK3OPH",
        "outputId": "0f80ba52-adde-4d97-d04a-fcdbe4d1a414"
      },
      "id": "Ak-jnABK3OPH",
      "execution_count": 44,
      "outputs": [
        {
          "output_type": "stream",
          "name": "stdout",
          "text": [
            "<DataRow {\n",
            "    \"created_at\": \"2023-01-30 18:06:23+00:00\",\n",
            "    \"external_id\": null,\n",
            "    \"global_key\": \"TEST-ID-321668750509639104503407808903937477958d\",\n",
            "    \"media_attributes\": {},\n",
            "    \"metadata\": [],\n",
            "    \"metadata_fields\": [],\n",
            "    \"row_data\": \"https://storage.googleapis.com/labelbox-sample-datasets/nlp/lorem-ipsum.txt\",\n",
            "    \"uid\": \"cldj4gyf60fy207xh3z1y2g1h\",\n",
            "    \"updated_at\": \"2023-01-30 18:06:23+00:00\"\n",
            "}>\n",
            "cldj4gyf60fy207xh3z1y2g1h\n"
          ]
        }
      ]
    },
    {
      "cell_type": "markdown",
      "source": [
        "### Step 2:  Create/select an ontology\n",
        "Your project should have the correct ontology setup with all the tools and classifications supported for your annotations, and the tool and classification names should match the `name` field in your annotations to ensure the correct feature schemas are matched.\n",
        "\n",
        "For example, when we create the checklist annotation above, we provided the `name` as `checklist_question`. Now, when we setup our ontology, we must ensure that the name of my classification tool is also `checklist_question`. The same alignment must hold true for the other tools and classifications we create in our ontology.\n",
        "\n",
        "[Documentation for reference ](https://docs.labelbox.com/reference/import-text-annotations)"
      ],
      "metadata": {
        "id": "FAKtXaY23gXC"
      },
      "id": "FAKtXaY23gXC"
    },
    {
      "cell_type": "code",
      "source": [
        "## Setup the ontology and link the tools created above.\n",
        "\n",
        "ontology_builder = OntologyBuilder(\n",
        "  classifications=[ # List of Classification objects\n",
        "    Classification( \n",
        "      class_type=Classification.Type.RADIO, \n",
        "      name=\"radio_question\", \n",
        "      options=[Option(value=\"first_radio_answer\")]\n",
        "    ),\n",
        "    Classification( \n",
        "      class_type=Classification.Type.RADIO, \n",
        "      name=\"radio_question_sub\", \n",
        "      options=[\n",
        "        Option(value=\"first_radio_answer\",\n",
        "          options=[\n",
        "              Classification(\n",
        "                class_type=Classification.Type.RADIO,\n",
        "                name=\"sub_radio_question\",\n",
        "                options=[\n",
        "                  Option(value=\"first_sub_radio_answer\")\n",
        "                ]\n",
        "            ),\n",
        "          ]\n",
        "        )\n",
        "      ],\n",
        "    ),\n",
        "    Classification( \n",
        "      class_type=Classification.Type.CHECKLIST, \n",
        "      name=\"checklist_question\", \n",
        "      options=[\n",
        "        Option(value=\"first_checklist_answer\"),\n",
        "        Option(value=\"second_checklist_answer\"), \n",
        "        Option(value=\"third_checklist_answer\")            \n",
        "      ]\n",
        "    ), \n",
        "     Classification( # Text classification given the name \"text\"\n",
        "      class_type=Classification.Type.TEXT,\n",
        "      name=\"free_text\"\n",
        "    )\n",
        "  ],\n",
        "  tools=[ # List of Tool objects\n",
        "         Tool(tool=Tool.Type.NER, \n",
        "              name=\"named_entity\")\n",
        "    ]\n",
        ")\n",
        "\n",
        "ontology = client.create_ontology(\"Ontology Text Annotations\", ontology_builder.asdict())\n"
      ],
      "metadata": {
        "id": "_wWxYFoDTsar"
      },
      "id": "_wWxYFoDTsar",
      "execution_count": 45,
      "outputs": []
    },
    {
      "cell_type": "markdown",
      "source": [
        "### Step 3: Create a labeling project \n",
        "Connect the ontology to the labeling project "
      ],
      "metadata": {
        "id": "d0gyuDT21u6C"
      },
      "id": "d0gyuDT21u6C"
    },
    {
      "cell_type": "code",
      "execution_count": 46,
      "id": "044e9194-d21d-403e-b64c-047c1063b0fe",
      "metadata": {
        "id": "044e9194-d21d-403e-b64c-047c1063b0fe"
      },
      "outputs": [],
      "source": [
        "# Project defaults to batch mode with benchmark quality settings if this argument is not provided\n",
        "# Queue mode will be deprecated once dataset mode is deprecated\n",
        "\n",
        "project = client.create_project(name=\"text_project_demo\",\n",
        "                                    queue_mode=QueueMode.Batch,\n",
        "                                    media_type=MediaType.Text)\n",
        "\n",
        "\n",
        "project.setup_editor(ontology)\n",
        "\n",
        "######################### DATASET CONSENSUS OPTION ########################\n",
        "#Note that dataset base projects will be deprecated in the near future.\n",
        "\n",
        "#To use Datasets/Consensus instead of Batches/Benchmarks use the following query: \n",
        "#In this case, 10% of all data rows need to be annotated by three labelers.\n",
        "\n",
        "# dataset_project = client.create_project(name=\"dataset-test-project\",\n",
        "#                                 description=\"a description\",\n",
        "#                                 media_type=MediaType.Text,\n",
        "#                                 auto_audit_percentage=0.1,\n",
        "#                                 auto_audit_number_of_labels=3,\n",
        "#                                 queue_mode=QueueMode.Dataset)\n",
        "\n",
        "# dataset_project.datasets.connect(dataset)"
      ]
    },
    {
      "cell_type": "markdown",
      "source": [
        "### Step 4: Send a batch of data rows to the project "
      ],
      "metadata": {
        "id": "tHyfHZHO13-M"
      },
      "id": "tHyfHZHO13-M"
    },
    {
      "cell_type": "code",
      "source": [
        "# Setup Batches and Ontology\n",
        "\n",
        "# Create a batch to send to your MAL project\n",
        "batch = project.create_batch(\n",
        "  \"first-batch-text-demo\", # Each batch in a project must have a unique name\n",
        "  dataset.export_data_rows(), # A list of data rows or data row ids\n",
        "  5 # priority between 1(Highest) - 5(lowest)\n",
        ")\n",
        "\n",
        "print(\"Batch: \", batch)"
      ],
      "metadata": {
        "id": "DbwheC8RzI-0",
        "colab": {
          "base_uri": "https://localhost:8080/"
        },
        "outputId": "6eb66aad-477d-490e-ea91-53de995f1f65"
      },
      "id": "DbwheC8RzI-0",
      "execution_count": 47,
      "outputs": [
        {
          "output_type": "stream",
          "name": "stdout",
          "text": [
            "Batch:  <Batch {\n",
            "    \"consensus_settings_json\": \"{\\\"numberOfLabels\\\":1,\\\"coveragePercentage\\\":0}\",\n",
            "    \"created_at\": \"2023-01-30 18:06:28+00:00\",\n",
            "    \"name\": \"first-batch-text-demo\",\n",
            "    \"size\": 1,\n",
            "    \"uid\": \"d14be9f0-a0c8-11ed-a7e5-f9da6146996d\",\n",
            "    \"updated_at\": \"2023-01-30 18:06:28+00:00\"\n",
            "}>\n"
          ]
        }
      ]
    },
    {
      "cell_type": "markdown",
      "source": [
        "### Step 5: Create the annotations payload\n",
        "\n",
        "Create the annotations payload using the snippets of code above\n",
        "\n",
        "Labelbox support two formats for the annotations payload: NDJSON and Python Annotation types. Both are described below. If you are using Python Annotation types, compose your annotations into Labels attached to the data rows."
      ],
      "metadata": {
        "id": "pvWvtXAicX9E"
      },
      "id": "pvWvtXAicX9E"
    },
    {
      "cell_type": "markdown",
      "source": [
        "#### Python annotations"
      ],
      "metadata": {
        "id": "7IgSl5SxcO4R"
      },
      "id": "7IgSl5SxcO4R"
    },
    {
      "cell_type": "code",
      "execution_count": 48,
      "id": "53aaf87b-114f-4b56-a417-8c7cddc1f532",
      "metadata": {
        "id": "53aaf87b-114f-4b56-a417-8c7cddc1f532"
      },
      "outputs": [],
      "source": [
        "# Create a Label\n",
        "label = Label(\n",
        "    data=ImageData(\n",
        "        uid=data_row.uid),\n",
        "    annotations = [\n",
        "     named_entitity_annotation, \n",
        "     radio_annotation, \n",
        "     checklist_annotation, \n",
        "     text_annotation\n",
        "    ]\n",
        ")\n",
        "\n",
        "\n",
        "# Create urls to mask data for upload\n",
        "def signing_function(obj_bytes: bytes) -> str:\n",
        "    url = client.upload_data(content=obj_bytes, sign=True)\n",
        "    return url    \n",
        "\n",
        "label.add_url_to_masks(signing_function)\n",
        "\n",
        "# Convert our label from a Labelbox class object to the underlying NDJSON format required for upload \n",
        "label_ndjson = list(NDJsonConverter.serialize([label]))"
      ]
    },
    {
      "cell_type": "markdown",
      "source": [
        "#### NDJSON annotations"
      ],
      "metadata": {
        "id": "YP3JnsYId5v7"
      },
      "id": "YP3JnsYId5v7"
    },
    {
      "cell_type": "code",
      "execution_count": 49,
      "id": "c66672c7-33e8-4d5d-b79d-2ac76d830341",
      "metadata": {
        "id": "c66672c7-33e8-4d5d-b79d-2ac76d830341"
      },
      "outputs": [],
      "source": [
        "label_ndjson_method2 = []\n",
        "for annotations in [entities_ndjson, \n",
        "                   radio_annotation_ndjson,  \n",
        "                   radio_annotation_ndjson_with_subclass,\n",
        "                   checklist_annotation_ndjson,\n",
        "                   text_annotation_ndjson] :\n",
        "  annotations.update({\n",
        "      'uuid': str(uuid.uuid4()),\n",
        "      'dataRow': {\n",
        "          'id': data_row.uid\n",
        "      }\n",
        "  })                   \n",
        "  label_ndjson_method2.append(annotations)"
      ]
    },
    {
      "cell_type": "markdown",
      "id": "aad5c035-c908-46c9-beac-f38da1befa25",
      "metadata": {
        "id": "aad5c035-c908-46c9-beac-f38da1befa25"
      },
      "source": [
        "### Step 6: Upload annotations to a project as pre-labels or completed labels\n",
        "For the purpose of this tutorial only run one of the label_ndjosn  annotation type tools at the time (NDJSON or Python Annotation types). \n",
        "\n",
        "\n"
      ]
    },
    {
      "cell_type": "markdown",
      "source": [
        "#### Model-Assisted Labeling (MAL)"
      ],
      "metadata": {
        "id": "9tEkxzD-D5UJ"
      },
      "id": "9tEkxzD-D5UJ"
    },
    {
      "cell_type": "code",
      "source": [
        "# Upload MAL label for this data row in project\n",
        "upload_job_mal = MALPredictionImport.create_from_objects(\n",
        "    client = client, \n",
        "    project_id = project.uid, \n",
        "    name=\"mal_import_job\"+str(uuid.uuid4()), \n",
        "    ### Run label_ndjson_method2 if labels are using NDJSON tools\n",
        "    predictions=label_ndjson_method2)\n",
        "\n",
        "upload_job_mal.wait_until_done();\n",
        "print(\"Errors:\", upload_job_mal.errors)\n",
        "print(\"   \")"
      ],
      "metadata": {
        "colab": {
          "base_uri": "https://localhost:8080/"
        },
        "id": "izli4zhEfi75",
        "outputId": "4eb1b790-4e60-4cc6-9224-de6a9ed339bf"
      },
      "id": "izli4zhEfi75",
      "execution_count": 50,
      "outputs": [
        {
          "output_type": "stream",
          "name": "stdout",
          "text": [
            "Errors: []\n",
            "   \n"
          ]
        }
      ]
    },
    {
      "cell_type": "markdown",
      "source": [
        "#### Label Import "
      ],
      "metadata": {
        "id": "YEH0wJJFf-zR"
      },
      "id": "YEH0wJJFf-zR"
    },
    {
      "cell_type": "code",
      "execution_count": 51,
      "id": "e8d4e99b-ad7e-48b9-8073-afb764d7c5b4",
      "metadata": {
        "id": "e8d4e99b-ad7e-48b9-8073-afb764d7c5b4",
        "colab": {
          "base_uri": "https://localhost:8080/"
        },
        "outputId": "1e52b23b-cefc-439b-f374-2e8b886280f4"
      },
      "outputs": [
        {
          "output_type": "stream",
          "name": "stdout",
          "text": [
            "Errors: []\n"
          ]
        }
      ],
      "source": [
        "# Upload label for this data row in project\n",
        "upload_job_label_import = LabelImport.create_from_objects(\n",
        "    client = client, \n",
        "    project_id = project.uid, \n",
        "    name=\"label_import_job\"+str(uuid.uuid4()),  \n",
        "    labels=label_ndjson_method2)\n",
        "\n",
        "upload_job_label_import.wait_until_done();\n",
        "print(\"Errors:\", upload_job_label_import.errors)"
      ]
    },
    {
      "cell_type": "markdown",
      "source": [
        "### Optional deletions for cleanup"
      ],
      "metadata": {
        "id": "Sd4pttxL3bzp"
      },
      "id": "Sd4pttxL3bzp"
    },
    {
      "cell_type": "code",
      "source": [
        "# project.delete()\n",
        "# dataset.delete()"
      ],
      "metadata": {
        "id": "ubbraAmo2_fe"
      },
      "id": "ubbraAmo2_fe",
      "execution_count": 52,
      "outputs": []
    }
  ],
  "metadata": {
    "colab": {
      "provenance": []
    },
    "kernelspec": {
      "display_name": "Python 3",
      "language": "python",
      "name": "python3"
    },
    "language_info": {
      "codemirror_mode": {
        "name": "ipython",
        "version": 3
      },
      "file_extension": ".py",
      "mimetype": "text/x-python",
      "name": "python",
      "nbconvert_exporter": "python",
      "pygments_lexer": "ipython3",
      "version": "3.8.8"
    }
  },
  "nbformat": 4,
  "nbformat_minor": 5
}
