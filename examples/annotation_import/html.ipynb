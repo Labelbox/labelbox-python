{
    "nbformat": 4,
    "nbformat_minor": 5,
    "metadata": {},
    "cells": [
        {
            "cell_type": "markdown",
            "id": "db768cda",
            "metadata": {},
            "source": [
                "<td>",
                "   <a target=\"_blank\" href=\"https://labelbox.com\" ><img src=\"https://labelbox.com/blog/content/images/2021/02/logo-v4.svg\" width=256/></a>",
                "</td>"
            ]
        },
        {
            "cell_type": "markdown",
            "id": "cb5611d0",
            "metadata": {},
            "source": [
                "<td>",
                "<a href=\"https://colab.research.google.com/github/Labelbox/labelbox-python/blob/develop/examples/annotation_import/html.ipynb\" target=\"_blank\"><img",
                "src=\"https://colab.research.google.com/assets/colab-badge.svg\" alt=\"Open In Colab\"></a>",
                "</td>",
                "\n",
                "<td>",
                "<a href=\"https://github.com/Labelbox/labelbox-python/tree/develop/examples/annotation_import/html.ipynb\" target=\"_blank\"><img",
                "src=\"https://img.shields.io/badge/GitHub-100000?logo=github&logoColor=white\" alt=\"GitHub\"></a>",
                "</td>"
            ]
        },
        {
            "metadata": {},
            "source": [
                "# HTML Annotation Import\n",
                "* This notebook will provide examples of each supported annotation type for HTML assets, and also  cover MAL and Label Import methods:\n",
                "\n",
                "Suported annotations that can be uploaded through the SDK\n",
                "\n",
                "* Classification Radio \n",
                "* Classification Checklist \n",
                "* Classification Free Text \n",
                "\n",
                "**Not** supported annotations\n",
                "\n",
                "* Bouding box\n",
                "* NER\n",
                "* Polygon \n",
                "* Point\n",
                "* Polyline \n",
                "* Segmentation Mask\n",
                "\n",
                "MAL and Label Import:\n",
                "\n",
                "* Model-assisted labeling - used to provide pre-annotated data for your labelers. This will enable a reduction in the total amount of time to properly label your assets. Model-assisted labeling does not submit the labels automatically, and will need to be reviewed by a labeler for submission.\n",
                "* Label Import - used to provide ground truth labels. These can in turn be used and compared against prediction labels, or used as benchmarks to see how your labelers are doing.\n",
                "\n"
            ],
            "cell_type": "markdown"
        },
        {
            "metadata": {},
            "source": [
                "* For information on what types of annotations are supported per data type, refer to this documentation:\n",
                "    * https://docs.labelbox.com/docs/model-assisted-labeling#option-1-import-via-python-annotation-types-recommended"
            ],
            "cell_type": "markdown"
        },
        {
            "metadata": {},
            "source": [
                "* Notes:\n",
                "    * Wait until the import job is complete before opening the Editor to make sure all annotations are imported properly."
            ],
            "cell_type": "markdown"
        },
        {
            "metadata": {},
            "source": "%pip install -q \"labelbox[data]\"",
            "cell_type": "code",
            "outputs": [],
            "execution_count": null
        },
        {
            "metadata": {},
            "source": [
                "# Setup"
            ],
            "cell_type": "markdown"
        },
        {
            "metadata": {},
            "source": "import labelbox as lb\nimport uuid\nimport labelbox.types as lb_types",
            "cell_type": "code",
            "outputs": [],
            "execution_count": null
        },
        {
            "metadata": {},
            "source": [
                "# Replace with your API key\n",
                "Guides on [Create an API key](https://docs.labelbox.com/docs/create-an-api-key)"
            ],
            "cell_type": "markdown"
        },
        {
            "metadata": {},
            "source": "# Add your api key\nAPI_KEY = \"\"\nclient = lb.Client(api_key=API_KEY)",
            "cell_type": "code",
            "outputs": [],
            "execution_count": null
        },
        {
            "metadata": {},
            "source": [
                "## Supported annotations for HTML"
            ],
            "cell_type": "markdown"
        },
        {
            "metadata": {},
            "source": "##### Classification free text #####\n\ntext_annotation = lb_types.ClassificationAnnotation(\n    name=\"text_html\",\n    value=lb_types.Text(answer=\"sample text\"),\n)\n\ntext_annotation_ndjson = {\n    \"name\": \"text_html\",\n    \"answer\": \"sample text\",\n}",
            "cell_type": "code",
            "outputs": [],
            "execution_count": null
        },
        {
            "metadata": {},
            "source": "##### Checklist Classification #######\n\nchecklist_annotation = lb_types.ClassificationAnnotation(\n    name=\"checklist_html\",  # must match your ontology feature\"s name\n    value=lb_types.Checklist(answer=[\n        lb_types.ClassificationAnswer(name=\"first_checklist_answer\"),\n        lb_types.ClassificationAnswer(name=\"second_checklist_answer\"),\n    ]),\n)\n\nchecklist_annotation_ndjson = {\n    \"name\":\n        \"checklist_html\",\n    \"answers\": [\n        {\n            \"name\": \"first_checklist_answer\"\n        },\n        {\n            \"name\": \"second_checklist_answer\"\n        },\n    ],\n}",
            "cell_type": "code",
            "outputs": [],
            "execution_count": null
        },
        {
            "metadata": {},
            "source": "######## Radio Classification ######\n\nradio_annotation = lb_types.ClassificationAnnotation(\n    name=\"radio_html\",\n    value=lb_types.Radio(answer=lb_types.ClassificationAnswer(\n        name=\"second_radio_answer\")),\n)\n\nradio_annotation_ndjson = {\n    \"name\": \"radio_html\",\n    \"answer\": {\n        \"name\": \"first_radio_answer\"\n    },\n}",
            "cell_type": "code",
            "outputs": [],
            "execution_count": null
        },
        {
            "metadata": {},
            "source": "########## Classification - Radio and Checklist (with subclassifcations)  ##########\n\nnested_radio_annotation = lb_types.ClassificationAnnotation(\n    name=\"nested_radio_question\",\n    value=lb_types.Radio(answer=lb_types.ClassificationAnswer(\n        name=\"first_radio_answer\",\n        classifications=[\n            lb_types.ClassificationAnnotation(\n                name=\"sub_radio_question\",\n                value=lb_types.Radio(answer=lb_types.ClassificationAnswer(\n                    name=\"first_sub_radio_answer\")),\n            )\n        ],\n    )),\n)\n\nnested_radio_annotation_ndjson = {\n    \"name\": \"nested_radio_question\",\n    \"answer\": {\n        \"name\":\n            \"first_radio_answer\",\n        \"classifications\": [{\n            \"name\": \"sub_radio_question\",\n            \"answer\": {\n                \"name\": \"first_sub_radio_answer\"\n            },\n        }],\n    },\n}\n\nnested_checklist_annotation = lb_types.ClassificationAnnotation(\n    name=\"nested_checklist_question\",\n    value=lb_types.Checklist(answer=[\n        lb_types.ClassificationAnswer(\n            name=\"first_checklist_answer\",\n            classifications=[\n                lb_types.ClassificationAnnotation(\n                    name=\"sub_checklist_question\",\n                    value=lb_types.Checklist(answer=[\n                        lb_types.ClassificationAnswer(\n                            name=\"first_sub_checklist_answer\")\n                    ]),\n                )\n            ],\n        )\n    ]),\n)\n\nnested_checklist_annotation_ndjson = {\n    \"name\":\n        \"nested_checklist_question\",\n    \"answer\": [{\n        \"name\":\n            \"first_checklist_answer\",\n        \"classifications\": [{\n            \"name\": \"sub_checklist_question\",\n            \"answer\": {\n                \"name\": \"first_sub_checklist_answer\"\n            },\n        }],\n    }],\n}",
            "cell_type": "code",
            "outputs": [],
            "execution_count": null
        },
        {
            "metadata": {},
            "source": [
                "## Upload Annotations - putting it all together "
            ],
            "cell_type": "markdown"
        },
        {
            "metadata": {},
            "source": [
                "## Step 1: Import data rows into Catalog"
            ],
            "cell_type": "markdown"
        },
        {
            "metadata": {},
            "source": "# Create one Labelbox dataset\n\nglobal_key = \"sample_html_1.html\"\n\nasset = {\n    \"row_data\":\n        \"https://storage.googleapis.com/labelbox-datasets/html_sample_data/sample_html_1.html\",\n    \"global_key\":\n        global_key,\n}\n\ndataset = client.create_dataset(\n    name=\"html_annotation_import_demo_dataset\",\n    iam_integration=\n    None,  # Removing this argument will default to the organziation's default iam integration\n)\ntask = dataset.create_data_rows([asset])\ntask.wait_till_done()\nprint(\"Errors:\", task.errors)\nprint(\"Failed data rows: \", task.failed_data_rows)",
            "cell_type": "code",
            "outputs": [],
            "execution_count": null
        },
        {
            "metadata": {},
            "source": [
                "## Step 2: Create/select an ontology\n",
                "\n",
                "Your project should have the correct ontology setup with all the tools and classifications supported for your annotations, and the tool names and classification instructions should match the `name` fields in your annotations to ensure the correct feature schemas are matched.\n",
                "\n",
                "For example, when we create the text annotation, we provided the `name` as `text_html`. Now, when we setup our ontology, we must ensure that the name of the tool is also `text_html`. The same alignment must hold true for the other tools and classifications we create in our ontology."
            ],
            "cell_type": "markdown"
        },
        {
            "metadata": {},
            "source": "ontology_builder = lb.OntologyBuilder(classifications=[\n    lb.Classification(class_type=lb.Classification.Type.TEXT, name=\"text_html\"),\n    lb.Classification(\n        class_type=lb.Classification.Type.CHECKLIST,\n        name=\"checklist_html\",\n        options=[\n            lb.Option(value=\"first_checklist_answer\"),\n            lb.Option(value=\"second_checklist_answer\"),\n        ],\n    ),\n    lb.Classification(\n        class_type=lb.Classification.Type.RADIO,\n        name=\"radio_html\",\n        options=[\n            lb.Option(value=\"first_radio_answer\"),\n            lb.Option(value=\"second_radio_answer\"),\n        ],\n    ),\n    lb.Classification(\n        class_type=lb.Classification.Type.CHECKLIST,\n        name=\"nested_checklist_question\",\n        options=[\n            lb.Option(\n                \"first_checklist_answer\",\n                options=[\n                    lb.Classification(\n                        class_type=lb.Classification.Type.CHECKLIST,\n                        name=\"sub_checklist_question\",\n                        options=[lb.Option(\"first_sub_checklist_answer\")],\n                    )\n                ],\n            )\n        ],\n    ),\n    lb.Classification(\n        class_type=lb.Classification.Type.RADIO,\n        name=\"nested_radio_question\",\n        options=[\n            lb.Option(\n                value=\"first_radio_answer\",\n                options=[\n                    lb.Classification(\n                        class_type=lb.Classification.Type.RADIO,\n                        name=\"sub_radio_question\",\n                        options=[lb.Option(value=\"first_sub_radio_answer\")],\n                    ),\n                ],\n            )\n        ],\n    ),\n])\n\nontology = client.create_ontology(\n    \"Ontology HTML Annotations\",\n    ontology_builder.asdict(),\n    media_type=lb.MediaType.Html,\n)",
            "cell_type": "code",
            "outputs": [],
            "execution_count": null
        },
        {
            "metadata": {},
            "source": [
                "\n",
                "## Step 3: Create a labeling project\n",
                "Connect the ontology to the labeling project"
            ],
            "cell_type": "markdown"
        },
        {
            "metadata": {},
            "source": "# Create Labelbox project\nproject = client.create_project(name=\"HTML Import Annotation Demo\",\n                                media_type=lb.MediaType.Html)\n\n# Setup your ontology\nproject.setup_editor(\n    ontology)  # Connect your ontology and editor to your project",
            "cell_type": "code",
            "outputs": [],
            "execution_count": null
        },
        {
            "metadata": {},
            "source": [
                "## Step 4: Send a batch of data rows to the project"
            ],
            "cell_type": "markdown"
        },
        {
            "metadata": {},
            "source": "# Setup Batches and Ontology\n\n# Create a batch to send to your MAL project\nbatch = project.create_batch(\n    \"first-batch-html-demo\",  # Each batch in a project must have a unique name\n    global_keys=[\n        global_key\n    ],  # Paginated collection of data row objects, list of data row ids or global keys\n    priority=5,  # priority between 1(Highest) - 5(lowest)\n)\n\nprint(\"Batch: \", batch)",
            "cell_type": "code",
            "outputs": [],
            "execution_count": null
        },
        {
            "metadata": {},
            "source": [
                "## Step 5: Create the annotations payload\n",
                "Create the annotations payload using the snippets of code above\n",
                "\n",
                "Labelbox support two formats for the annotations payload: NDJSON and Python Annotation types."
            ],
            "cell_type": "markdown"
        },
        {
            "metadata": {},
            "source": [
                "#### Python annotation\n",
                "Here we create the complete labels ndjson payload of annotations only using python annotation format. There is one annotation for each reference to an annotation that we created. "
            ],
            "cell_type": "markdown"
        },
        {
            "metadata": {},
            "source": "label = []\nlabel.append(\n    lb_types.Label(\n        data={\"global_key\": global_key},\n        annotations=[\n            text_annotation,\n            checklist_annotation,\n            radio_annotation,\n            nested_checklist_annotation,\n            nested_radio_annotation,\n        ],\n    ))",
            "cell_type": "code",
            "outputs": [],
            "execution_count": null
        },
        {
            "metadata": {},
            "source": [
                "### NDJSON annotations \n",
                "Here we create the complete label NDJSON payload of annotations only using NDJSON format. There is one annotation for each reference to an annotation that we created [above](https://colab.research.google.com/drive/1rFv-VvHUBbzFYamz6nSMRJz1mEg6Ukqq#scrollTo=3umnTd-MfI0o&line=1&uniqifier=1)."
            ],
            "cell_type": "markdown"
        },
        {
            "metadata": {},
            "source": "label_ndjson = []\nfor annotations in [\n        text_annotation_ndjson,\n        checklist_annotation_ndjson,\n        radio_annotation_ndjson,\n        nested_radio_annotation_ndjson,\n        nested_checklist_annotation_ndjson,\n]:\n    annotations.update({\"dataRow\": {\"globalKey\": global_key}})\n    label_ndjson.append(annotations)",
            "cell_type": "code",
            "outputs": [],
            "execution_count": null
        },
        {
            "metadata": {},
            "source": [
                "### Step 6: Upload annotations to a project as pre-labels or complete labels"
            ],
            "cell_type": "markdown"
        },
        {
            "metadata": {},
            "source": [
                "#### Model Assisted Labeling (MAL)\n",
                "For the purpose of this tutorial only run one of the label_ndjosn annotation type tools at the time (NDJSON or Annotation types). Delete the previous labels before uploading labels that use the 2nd method (ndjson)"
            ],
            "cell_type": "markdown"
        },
        {
            "metadata": {},
            "source": "# Upload our label using Model-Assisted Labeling\nupload_job = lb.MALPredictionImport.create_from_objects(\n    client=client,\n    project_id=project.uid,\n    name=f\"mal_job-{str(uuid.uuid4())}\",\n    predictions=label,\n)\n\nupload_job.wait_until_done()\nprint(\"Errors:\", upload_job.errors)\nprint(\"Status of uploads: \", upload_job.statuses)",
            "cell_type": "code",
            "outputs": [],
            "execution_count": null
        },
        {
            "metadata": {},
            "source": [
                "#### Label Import"
            ],
            "cell_type": "markdown"
        },
        {
            "metadata": {},
            "source": "# Upload label for this data row in project\nupload_job = lb.LabelImport.create_from_objects(\n    client=client,\n    project_id=project.uid,\n    name=\"label_import_job\" + str(uuid.uuid4()),\n    labels=label,\n)\n\nupload_job.wait_until_done()\nprint(\"Errors:\", upload_job.errors)\nprint(\"Status of uploads: \", upload_job.statuses)",
            "cell_type": "code",
            "outputs": [],
            "execution_count": null
        },
        {
            "metadata": {},
            "source": [
                "### Optional deletions for cleanup "
            ],
            "cell_type": "markdown"
        },
        {
            "metadata": {},
            "source": "# project.delete()\n# dataset.delete()",
            "cell_type": "code",
            "outputs": [],
            "execution_count": null
        }
    ]
}