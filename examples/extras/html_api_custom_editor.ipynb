{
  "nbformat": 4,
  "nbformat_minor": 2,
  "metadata": {},
  "cells": [
    {
      "metadata": {},
      "source": [
        "<td>\n",
        "   <a target=\"_blank\" href=\"https://labelbox.com\" ><img src=\"https://labelbox.com/blog/content/images/2021/02/logo-v4.svg\" width=256/></a>\n",
        "</td>"
      ],
      "cell_type": "markdown"
    },
    {
      "metadata": {},
      "source": [
        "<td>\n",
        "<a href=\"https://colab.research.google.com/github/Labelbox/labelbox-python/blob/develop/extras/html_api_custom_editor.ipynb\" target=\"_blank\"><img\n",
        "src=\"https://colab.research.google.com/assets/colab-badge.svg\" alt=\"Open In Colab\"></a>\n",
        "</td>\n",
        "\n",
        "<td>\n",
        "<a href=\"https://github.com/Labelbox/labelbox-python/tree/develop//extras/html_api_custom_editor.ipynb\" target=\"_blank\"><img\n",
        "src=\"https://img.shields.io/badge/GitHub-100000?logo=github&logoColor=white\" alt=\"GitHub\"></a>\n",
        "</td>"
      ],
      "cell_type": "markdown"
    },
    {
      "metadata": {},
      "source": [
        "# Create a custom editor for free text classifications using HTML assets\n",
        "In this demo, we meant to demonstrate how you can create a custom editor using HTML assets in Labelbox using a custom HTML api designed by Labelbox. \n",
        "Please reach out to customer support if you want to have this api enabled in your organization\n",
        "\n",
        "LB-HTML-API readme : https://storage.googleapis.com/labelbox-artifacts-public/dependencies/frontend/lb-html-api/0-0-2/README.md \n",
        "\n",
        "LB-HTML-JS : https://storage.googleapis.com/labelbox-artifacts-public/dependencies/frontend/lb-html-api/0-0-2/lb-html-api.js \n",
        "\n"
      ],
      "cell_type": "markdown"
    },
    {
      "metadata": {},
      "source": [
        "## Imports"
      ],
      "cell_type": "markdown"
    },
    {
      "metadata": {},
      "source": [
        "!pip install -q \"labelbox[data]\""
      ],
      "cell_type": "code",
      "outputs": [
        {
          "output_type": "stream",
          "name": "stdout",
          "text": [
            "\n",
            "\u001b[1m[\u001b[0m\u001b[34;49mnotice\u001b[0m\u001b[1;39;49m]\u001b[0m\u001b[39;49m A new release of pip available: \u001b[0m\u001b[31;49m22.3.1\u001b[0m\u001b[39;49m -> \u001b[0m\u001b[32;49m24.0\u001b[0m\n",
            "\u001b[1m[\u001b[0m\u001b[34;49mnotice\u001b[0m\u001b[1;39;49m]\u001b[0m\u001b[39;49m To update, run: \u001b[0m\u001b[32;49mpip install --upgrade pip\u001b[0m\n"
          ]
        }
      ],
      "execution_count": null
    },
    {
      "metadata": {},
      "source": [
        "import labelbox as lb\n",
        "import urllib.request\n",
        "import json\n",
        "import json\n",
        "import os\n",
        "from string import Template\n",
        "import uuid"
      ],
      "cell_type": "code",
      "outputs": [],
      "execution_count": null
    },
    {
      "metadata": {},
      "source": [
        "# API Key and Client\n",
        "See the developer guide for [creating an API key](https://docs.labelbox.com/reference/create-api-key)."
      ],
      "cell_type": "markdown"
    },
    {
      "metadata": {},
      "source": [
        "API_KEY = \"\"\n",
        "client = lb.Client(api_key=API_KEY)"
      ],
      "cell_type": "code",
      "outputs": [],
      "execution_count": null
    },
    {
      "metadata": {},
      "source": [
        "To get started we need to: \n",
        "-  Setup an HTML main template that will be embedded as an iframe in the html row data. The main template will contain the JavaScript that will interact with the Labelbox api \n",
        "- Setup a temporary template that will be use to generate the row data ( the data displayed in the labelbox editor) and use JSON data  to generate data row HTMLs\n",
        "-  Upload HTMLs to Labelbox"
      ],
      "cell_type": "markdown"
    },
    {
      "metadata": {},
      "source": [
        "## Step 1: Create an HTML template to use in the data row HTML iFrame\n",
        "This template will interact directly with the Labelbox HTML api.\n",
        "\n",
        "Currently we only support free text classifications payload\n",
        "\n",
        "HTML API JavaScript supported Actions: \n",
        "  - `updateFreeText` : Updates a free text classification based on selections made in the data row in the HTML editor\n",
        "  - `hideSideBar`: Hides the Labelbox classification right panel\n",
        "\n",
        "Make sure that you are loading the JavaScript code at the top of your HTML document : https://storage.googleapis.com/labelbox-artifacts-public/dependencies/frontend/lb-html-api/0-0-2/lb-html-api.js \n",
        "\n",
        "\n"
      ],
      "cell_type": "markdown"
    },
    {
      "metadata": {},
      "source": [
        "For the purpose of this demo we have created an html template (see: <a href=\"view-source:https://storage.googleapis.com/labelbox-datasets/html_sample_data/html_api_demo/main_template.html\" target=\"_blank\">HTML SOURCE CODE</a> ) with all the JavaScript required to render the images and to interact with the Labelbox HTML API. \n",
        "\n"
      ],
      "cell_type": "markdown"
    },
    {
      "metadata": {},
      "source": [
        "## Step 2: Create a data row HTML template \n",
        "This HTML template will be used to generate each data row with all the corresponding row data. In this template we will insert the HTML template from above in an iFrame. "
      ],
      "cell_type": "markdown"
    },
    {
      "metadata": {},
      "source": [
        "You can follow the following steps to generate your data row html document. \n",
        "1. Create json data with all the data that will be presented in the editor.\n",
        "2. Create a tempalte HTML document \n",
        "2. Transform the json files into html files \n",
        "3. upload html files into Labelbox "
      ],
      "cell_type": "markdown"
    },
    {
      "metadata": {},
      "source": [
        "# Create one json data per data row\n",
        "# this is an example of data that will be presented in the html iFrame\n",
        "json_data = {\"attribute\": \"Click on Photo and Select the Correct Flower Type\",\n",
        "  \"gridImages\": [\n",
        "    {\n",
        "      \"imageId\": \"123M06700\",\n",
        "      \"flowerType\": \"ORCHID\",\n",
        "      \"imageTitle\": \"Plant Ecology - Ocean Level\",\n",
        "      \"imageLocation\": \"San Andres, Colombia, SA\",\n",
        "      \"imageDescription\": \"Flower blooming\",\n",
        "      \"photoLink\": \"https://storage.googleapis.com/labelbox-datasets/image_sample_data/9378657435_89fabf13c9_n.jpg\"\n",
        "    },\n",
        "    {\n",
        "      \"imageId\": \"1234M2S57\",\n",
        "      \"flowerType\": \"TULIP\",\n",
        "      \"imageTitle\": \"Plant Ecology - Ocean Level\",\n",
        "      \"imageLocation\": \"Cartagena, Colombia, SA\",\n",
        "      \"imageDescription\": \"Flower blooming\",\n",
        "      \"photoLink\": \"https://storage.googleapis.com/labelbox-datasets/image_sample_data/9646730031_f3d5014416_n.jpg\"\n",
        "    },\n",
        "    {\n",
        "      \"imageId\": \"1234567910\",\n",
        "      \"flowerType\": \"ROSE\",\n",
        "      \"imageTitle\": \"Plant Ecology -  Low Altitude\",\n",
        "      \"imageLocation\": \"Bogota, Colombia, SA\",\n",
        "      \"imageDescription\": \"Flower blooming\",\n",
        "      \"photoLink\": \"https://storage.googleapis.com/labelbox-datasets/image_sample_data/99306615_739eb94b9e_m.jpg\"\n",
        "    },\n",
        "    {\n",
        "      \"imageId\": \"1KJ567910\",\n",
        "      \"flowerType\": \"SUNFLOWER\",\n",
        "      \"imageTitle\": \"Plant Ecology -  Mountain Altitude\",\n",
        "      \"imageLocation\": \"Cali, Colombia, SA\",\n",
        "      \"imageDescription\": \"Flower blooming\",\n",
        "      \"photoLink\": \"https://storage.googleapis.com/labelbox-datasets/image_sample_data/9423755543_edb35141a3_n.jpg\"\n",
        "    },\n",
        "    {\n",
        "      \"imageId\": \"12224910\",\n",
        "      \"flowerType\": \"TULIP\",\n",
        "      \"imageTitle\": \"Plant Ecology -  Low Altitude\",\n",
        "      \"imageLocation\": \"Cali, Colombia, SA\",\n",
        "      \"imageDescription\": \"Flower blooming\",\n",
        "      \"photoLink\": \"https://storage.googleapis.com/labelbox-datasets/image_sample_data/9446982168_06c4d71da3_n.jpg\"\n",
        "    }\n",
        "  ]\n",
        "}"
      ],
      "cell_type": "code",
      "outputs": [],
      "execution_count": null
    },
    {
      "metadata": {},
      "source": [
        "### Create a data row html template"
      ],
      "cell_type": "markdown"
    },
    {
      "metadata": {},
      "source": [
        "For the purpose of this demo we have created the following html template see : <a ref=\"view-source:https://storage.googleapis.com/labelbox-datasets/html_sample_data/html_api_demo/template.html\"> SOURCE CODE </a>"
      ],
      "cell_type": "markdown"
    },
    {
      "metadata": {},
      "source": [
        "####  Transform your json data into html documents using the source code from above\n",
        "This is an example of how you can process your json data into an HTML file: "
      ],
      "cell_type": "markdown"
    },
    {
      "metadata": {},
      "source": [
        "def create_html_with_data(json_data, html_template, output_path):\n",
        "    \"\"\"\n",
        "    json_data: Dictionary with all the data row data that needs to be render in the iFrame\n",
        "    html_template: template hosted publicly in the cloud\n",
        "    output_path: the path were you want to store the HTML temporarily. The resulting HTML needs to be hosted publicly\n",
        "    \"\"\"\n",
        "    js_data = json.dumps(json_data)\n",
        "    template = Template(html_template)\n",
        "    updated_html = template.safe_substitute(listingsData=js_data)\n",
        "    with open(output_path, 'w') as file:\n",
        "        file.write(updated_html)"
      ],
      "cell_type": "code",
      "outputs": [],
      "execution_count": null
    },
    {
      "metadata": {},
      "source": [
        "The HTML output should look like the following: <a ref=\"https://storage.googleapis.com/labelbox-datasets/html_sample_data/html_api_demo/file1.html\">json data processed as HTML</a>\n",
        "Note that the HTML must have the embeeded JavaScript HTML template created in step 1.\n"
      ],
      "cell_type": "markdown"
    },
    {
      "metadata": {},
      "source": [
        "### Step 3:  Upload HTML data rows to Labelbox"
      ],
      "cell_type": "markdown"
    },
    {
      "metadata": {},
      "source": [
        "data = [\n",
        "  {\n",
        "    \"row_data\": \"https://storage.googleapis.com/labelbox-datasets/html_sample_data/html_api_demo/file1.html\",\n",
        "    \"global_key\": \"file-1\"\n",
        "   },\n",
        "  {\n",
        "    \"row_data\": \"https://storage.googleapis.com/labelbox-datasets/html_sample_data/html_api_demo/file2.html\",\n",
        "    \"global_key\": \"file-2\"\n",
        "  },\n",
        "  {\n",
        "    \"row_data\": \"https://storage.googleapis.com/labelbox-datasets/html_sample_data/html_api_demo/file3.html\",\n",
        "    \"global_key\": \"file-3\"\n",
        "\n",
        "  }\n",
        "]"
      ],
      "cell_type": "code",
      "outputs": [],
      "execution_count": null
    },
    {
      "metadata": {},
      "source": [
        "#### Setup dataset, ontology and project"
      ],
      "cell_type": "markdown"
    },
    {
      "metadata": {},
      "source": [
        "NAME = \"\"\n",
        "dataset = client.create_dataset(name = NAME)\n",
        "task = dataset.create_data_rows(data)\n",
        "task.wait_till_done()\n",
        "\n",
        "print(task.errors)\n",
        "print(task.result)\n",
        "\n",
        "# Create project and ontology\n",
        "project_name = \"Find Correct Flowers\"\n",
        "\n",
        "ontology_builder = lb.OntologyBuilder(\n",
        "    classifications=[\n",
        "        lb.Classification(\n",
        "            class_type=lb.Classification.Type.TEXT,\n",
        "            name=\"Type\")\n",
        "    ]\n",
        ")\n",
        "\n",
        "ontology = client.create_ontology(\n",
        "    project_name,\n",
        "    ontology_builder.asdict(),\n",
        "    media_type=lb.MediaType.Html)\n",
        "\n",
        "project = client.create_project(\n",
        "    name=project_name,\n",
        "    media_type=lb.MediaType.Html)\n",
        "\n",
        "project.setup_editor(ontology)\n",
        "\n",
        "project.create_batches_from_dataset(name_prefix=f\"flowers_dt_{uuid.uuid4()}\",dataset_id=dataset.uid)"
      ],
      "cell_type": "code",
      "outputs": [],
      "execution_count": null
    }
  ]
}