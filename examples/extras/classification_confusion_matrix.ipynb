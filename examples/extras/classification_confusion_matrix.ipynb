{
  "nbformat": 4,
  "nbformat_minor": 5,
  "metadata": {},
  "cells": [
    {
      "metadata": {},
      "source": [
        "<td>\n",
        "   <a target=\"_blank\" href=\"https://labelbox.com\" ><img src=\"https://labelbox.com/blog/content/images/2021/02/logo-v4.svg\" width=256/></a>\n",
        "</td>"
      ],
      "cell_type": "markdown"
    },
    {
      "metadata": {},
      "source": [
        "<td>\n",
        "<a href=\"https://colab.research.google.com/github/Labelbox/labelbox-python/blob/develop/examples/extras/classification-confusion-matrix.ipynb\" target=\"_blank\"><img\n",
        "src=\"https://colab.research.google.com/assets/colab-badge.svg\" alt=\"Open In Colab\"></a>\n",
        "</td>\n",
        "\n",
        "<td>\n",
        "<a href=\"https://github.com/Labelbox/labelbox-python/tree/develop/examples/extras/classification-confusion-matrix.ipynb\" target=\"_blank\"><img\n",
        "src=\"https://img.shields.io/badge/GitHub-100000?logo=github&logoColor=white\" alt=\"GitHub\"></a>\n",
        "</td>"
      ],
      "cell_type": "markdown"
    },
    {
      "metadata": {},
      "source": [
        "# Classification Confusion matrix\n",
        "\n",
        "This notebook plots a confusion matrix for a multi-class, single label classification.\n",
        "\n",
        "It assumes that your project has a number of labels from multiple labelers, where the Annotation Type is Radio.\n",
        "\n",
        "## Installs"
      ],
      "cell_type": "markdown"
    },
    {
      "metadata": {},
      "source": [
        "!pip install -q 'labelbox[data]' scikit-learn matplotlib ipywidgets"
      ],
      "cell_type": "code",
      "outputs": [],
      "execution_count": null
    },
    {
      "metadata": {},
      "source": [
        "## Imports"
      ],
      "cell_type": "markdown"
    },
    {
      "metadata": {},
      "source": [
        "# Imports and etc\n",
        "\n",
        "from sklearn.metrics import ConfusionMatrixDisplay\n",
        "from sklearn.metrics import classification_report\n",
        "import matplotlib.pyplot as plt\n",
        "import ipywidgets as widgets\n",
        "import labelbox as lb\n",
        "\n",
        "def get_labelers():\n",
        "    labels = project.label_generator()\n",
        "    labelers = []\n",
        "\n",
        "    for l in labels:\n",
        "        if not l.extra['Created By'] in labelers:\n",
        "            labelers.append(l.extra['Created By'])\n",
        "\n",
        "    return labelers\n",
        "\n",
        "\n",
        "def get_paired_labels(labeler1, labeler2):\n",
        "    labels = project.label_generator()\n",
        "    l1 = []\n",
        "    l2 = []\n",
        "    label_dict = {}\n",
        "\n",
        "    for l in labels:\n",
        "        if not l.data.uid in label_dict:\n",
        "            label_dict[l.data.uid] = {}\n",
        "\n",
        "        # Check if benchmark\n",
        "        if l.extra['Benchmark ID']:\n",
        "            label_dict[l.data.uid]['Benchmarks'] = l.annotations[0].value.answer.name\n",
        "\n",
        "        # Skip labels not created by either of our labelers\n",
        "        if l.extra['Created By'] != labeler1 and l.extra[\n",
        "                'Created By'] != labeler2:\n",
        "            continue\n",
        "\n",
        "        label_dict[l.data.uid][l.extra['Created By']] = \\\n",
        "            l.annotations[0].value.answer.name\n",
        "\n",
        "    for uid in label_dict.keys():\n",
        "        if labeler1 in label_dict[uid] and labeler2 in label_dict[uid]:\n",
        "            l1.append(label_dict[uid][labeler1])\n",
        "            l2.append(label_dict[uid][labeler2])\n",
        "\n",
        "    return l1, l2\n",
        "\n",
        "\n",
        "def get_label_dict():\n",
        "    labels = project.label_generator()\n",
        "    labelers = []\n",
        "    label_dict = {}\n",
        "\n",
        "    for l in labels:\n",
        "        if not l.data.uid in label_dict:\n",
        "            label_dict[l.data.uid] = {}\n",
        "\n",
        "        label_dict[l.data.uid][l.extra['Created By']] = \\\n",
        "            l.annotations[0].value.answer.name\n",
        "\n",
        "        if not l.extra['Created By'] in labelers:\n",
        "            labelers.append(l.extra['Created By'])\n",
        "\n",
        "    print(labelers)\n",
        "    return label_dict, labelers"
      ],
      "cell_type": "code",
      "outputs": [],
      "execution_count": null
    },
    {
      "metadata": {},
      "source": [
        "# Labelbox API + project and dataset\n",
        "\n",
        "# Add your api key\n",
        "API_KEY = None\n",
        "lb = lb.Client(api_key=API_KEY)\n",
        "\n",
        "# Add your project and dataset uids here\n",
        "project = lb.get_project('xxx')\n",
        "dataset = lb.get_dataset('xxx')"
      ],
      "cell_type": "code",
      "outputs": [],
      "execution_count": null
    },
    {
      "metadata": {},
      "source": [
        "## Labeler Selection"
      ],
      "cell_type": "markdown"
    },
    {
      "metadata": {},
      "source": [
        "# Selectors\n",
        "\n",
        "labelers = get_labelers()\n",
        "\n",
        "items = [\n",
        "    widgets.Dropdown(\n",
        "        options=['Benchmarks'] + labelers,\n",
        "        description='Compare this:',\n",
        "        disabled=False,\n",
        "    ),\n",
        "    widgets.Dropdown(\n",
        "        options=labelers,\n",
        "        description='Against this:',\n",
        "        disabled=False,\n",
        "    )]\n",
        "\n",
        "\n",
        "widgets.VBox(items)"
      ],
      "cell_type": "code",
      "outputs": [],
      "execution_count": null
    },
    {
      "metadata": {},
      "source": [
        "## Confusion Matrix"
      ],
      "cell_type": "markdown"
    },
    {
      "metadata": {},
      "source": [
        "# Plot Matrix\n",
        "\n",
        "l1, l2 = get_paired_labels(items[0].value, items[1].value)\n",
        "\n",
        "fig, ax = plt.subplots(figsize=(15,15))\n",
        "c = ConfusionMatrixDisplay.from_predictions(l1, l2,\n",
        "                                        labels=list(set(l1)), sample_weight=None,\n",
        "                                        normalize=None, display_labels=None, include_values=True,\n",
        "                                        xticks_rotation='vertical', values_format=None,\n",
        "                                        cmap='Blues', ax=ax, colorbar=False)\n",
        "\n",
        "_ = c.ax_.set_xlabel(items[1].value), c.ax_.set_ylabel(items[0].value)\n",
        "\n",
        "cr = classification_report(\n",
        "    l1,\n",
        "    l2,\n",
        "    output_dict=False,\n",
        "    target_names=list(set(l1)),\n",
        "    zero_division=1\n",
        ")\n",
        "\n",
        "print(cr)"
      ],
      "cell_type": "code",
      "outputs": [],
      "execution_count": null
    },
    {
      "metadata": {},
      "source": [],
      "cell_type": "code",
      "outputs": [],
      "execution_count": null
    }
  ]
}