{
  "nbformat": 4,
  "nbformat_minor": 5,
  "metadata": {},
  "cells": [
    {
      "metadata": {},
      "source": [
        "<td>",
        "   <a target=\"_blank\" href=\"https://labelbox.com\" ><img src=\"https://labelbox.com/blog/content/images/2021/02/logo-v4.svg\" width=256/></a>",
        "</td>"
      ],
      "cell_type": "markdown"
    },
    {
      "metadata": {},
      "source": [
        "<td>\n",
        "<a href=\"https://colab.research.google.com/github/Labelbox/labelbox-python/blob/develop/examples/extras/classification_confusion_matrix.ipynb\" target=\"_blank\"><img\n",
        "src=\"https://colab.research.google.com/assets/colab-badge.svg\" alt=\"Open In Colab\"></a>\n",
        "</td>\n",
        "\n",
        "<td>\n",
        "<a href=\"https://github.com/Labelbox/labelbox-python/tree/develop/examples/extras/classification_confusion_matrix.ipynb\" target=\"_blank\"><img\n",
        "src=\"https://img.shields.io/badge/GitHub-100000?logo=github&logoColor=white\" alt=\"GitHub\"></a>\n",
        "</td>"
      ],
      "cell_type": "markdown"
    },
    {
      "metadata": {},
      "source": [
        "# Classification Confusion matrix\n",
        "\n",
        "This notebook plots a confusion matrix for a multi-class, single label classification.\n",
        "\n",
        "It assumes that your project has a number of labels from multiple labelers, where the Annotation Type is Radio.\n",
        "\n",
        "## Installs"
      ],
      "cell_type": "markdown"
    },
    {
      "metadata": {},
      "source": "%pip install -q \"labelbox[data]\" scikit-learn matplotlib ipywidgets",
      "cell_type": "code",
      "outputs": [],
      "execution_count": null
    },
    {
      "metadata": {},
      "source": [
        "## Imports"
      ],
      "cell_type": "markdown"
    },
    {
      "metadata": {},
      "source": "# Imports and etc\n\nfrom sklearn.metrics import ConfusionMatrixDisplay\nfrom sklearn.metrics import classification_report\nimport matplotlib.pyplot as plt\nimport ipywidgets as widgets\nimport labelbox as lb\n\n\ndef get_labelers():\n    labels = project.label_generator()\n    labelers = []\n\n    for l in labels:\n        if not l.extra[\"Created By\"] in labelers:\n            labelers.append(l.extra[\"Created By\"])\n\n    return labelers\n\n\ndef get_paired_labels(labeler1, labeler2):\n    labels = project.label_generator()\n    l1 = []\n    l2 = []\n    label_dict = {}\n\n    for l in labels:\n        if not l.data.uid in label_dict:\n            label_dict[l.data.uid] = {}\n\n        # Check if benchmark\n        if l.extra[\"Benchmark ID\"]:\n            label_dict[\n                l.data.uid][\"Benchmarks\"] = l.annotations[0].value.answer.name\n\n        # Skip labels not created by either of our labelers\n        if (l.extra[\"Created By\"] != labeler1 and\n                l.extra[\"Created By\"] != labeler2):\n            continue\n\n        label_dict[l.data.uid][\n            l.extra[\"Created By\"]] = l.annotations[0].value.answer.name\n\n    for uid in label_dict.keys():\n        if labeler1 in label_dict[uid] and labeler2 in label_dict[uid]:\n            l1.append(label_dict[uid][labeler1])\n            l2.append(label_dict[uid][labeler2])\n\n    return l1, l2\n\n\ndef get_label_dict():\n    labels = project.label_generator()\n    labelers = []\n    label_dict = {}\n\n    for l in labels:\n        if not l.data.uid in label_dict:\n            label_dict[l.data.uid] = {}\n\n        label_dict[l.data.uid][\n            l.extra[\"Created By\"]] = l.annotations[0].value.answer.name\n\n        if not l.extra[\"Created By\"] in labelers:\n            labelers.append(l.extra[\"Created By\"])\n\n    print(labelers)\n    return label_dict, labelers",
      "cell_type": "code",
      "outputs": [],
      "execution_count": null
    },
    {
      "metadata": {},
      "source": "# Labelbox API + project and dataset\n\n# Add your api key\nAPI_KEY = None\nlb = lb.Client(api_key=API_KEY)\n\n# Add your project and dataset uids here\nproject = lb.get_project(\"xxx\")\ndataset = lb.get_dataset(\"xxx\")",
      "cell_type": "code",
      "outputs": [],
      "execution_count": null
    },
    {
      "metadata": {},
      "source": [
        "## Labeler Selection"
      ],
      "cell_type": "markdown"
    },
    {
      "metadata": {},
      "source": "# Selectors\n\nlabelers = get_labelers()\n\nitems = [\n    widgets.Dropdown(\n        options=[\"Benchmarks\"] + labelers,\n        description=\"Compare this:\",\n        disabled=False,\n    ),\n    widgets.Dropdown(\n        options=labelers,\n        description=\"Against this:\",\n        disabled=False,\n    ),\n]\n\nwidgets.VBox(items)",
      "cell_type": "code",
      "outputs": [],
      "execution_count": null
    },
    {
      "metadata": {},
      "source": [
        "## Confusion Matrix"
      ],
      "cell_type": "markdown"
    },
    {
      "metadata": {},
      "source": "# Plot Matrix\n\nl1, l2 = get_paired_labels(items[0].value, items[1].value)\n\nfig, ax = plt.subplots(figsize=(15, 15))\nc = ConfusionMatrixDisplay.from_predictions(\n    l1,\n    l2,\n    labels=list(set(l1)),\n    sample_weight=None,\n    normalize=None,\n    display_labels=None,\n    include_values=True,\n    xticks_rotation=\"vertical\",\n    values_format=None,\n    cmap=\"Blues\",\n    ax=ax,\n    colorbar=False,\n)\n\n_ = c.ax_.set_xlabel(items[1].value), c.ax_.set_ylabel(items[0].value)\n\ncr = classification_report(l1,\n                           l2,\n                           output_dict=False,\n                           target_names=list(set(l1)),\n                           zero_division=1)\n\nprint(cr)",
      "cell_type": "code",
      "outputs": [],
      "execution_count": null
    },
    {
      "metadata": {},
      "source": "",
      "cell_type": "code",
      "outputs": [],
      "execution_count": null
    }
  ]
}