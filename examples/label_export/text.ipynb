{
  "nbformat": 4,
  "nbformat_minor": 5,
  "metadata": {},
  "cells": [
    {
      "metadata": {},
      "source": [
        "<td>\n",
        "   <a target=\"_blank\" href=\"https://labelbox.com\" ><img src=\"https://labelbox.com/blog/content/images/2021/02/logo-v4.svg\" width=256/></a>\n",
        "</td>"
      ],
      "cell_type": "markdown"
    },
    {
      "metadata": {},
      "source": [
        "<td>\n",
        "<a href=\"https://colab.research.google.com/github/Labelbox/labelbox-python/blob/master/examples/label_export/text.ipynb\" target=\"_blank\"><img\n",
        "src=\"https://colab.research.google.com/assets/colab-badge.svg\" alt=\"Open In Colab\"></a>\n",
        "</td>\n",
        "\n",
        "<td>\n",
        "<a href=\"https://github.com/Labelbox/labelbox-python/tree/master/examples/label_export/text.ipynb\" target=\"_blank\"><img\n",
        "src=\"https://img.shields.io/badge/GitHub-100000?logo=github&logoColor=white\" alt=\"GitHub\"></a>\n",
        "</td>"
      ],
      "cell_type": "markdown"
    },
    {
      "metadata": {},
      "source": [
        "# Text Data Export\n",
        "Export labels from text annotation projects."
      ],
      "cell_type": "markdown"
    },
    {
      "metadata": {},
      "source": [
        "!pip install -q 'labelbox[data]'"
      ],
      "cell_type": "code",
      "outputs": [],
      "execution_count": null
    },
    {
      "metadata": {},
      "source": [
        "import labelbox as lb\n",
        "import labelbox.types as lb_types\n",
        "import json"
      ],
      "cell_type": "code",
      "outputs": [],
      "execution_count": null
    },
    {
      "metadata": {},
      "source": [
        "# Pick a project that has entity tools in the ontology and has completed labels\n",
        "PROJECT_ID = \"\""
      ],
      "cell_type": "code",
      "outputs": [],
      "execution_count": null
    },
    {
      "metadata": {},
      "source": [
        "# API Key and Client\n",
        "Provide a valid api key below in order to properly connect to the Labelbox Client."
      ],
      "cell_type": "markdown"
    },
    {
      "metadata": {},
      "source": [
        "# Add your api key\n",
        "API_KEY = None\n",
        "client = lb.Client(api_key=API_KEY)\n",
        "project = client.get_project(PROJECT_ID)"
      ],
      "cell_type": "code",
      "outputs": [],
      "execution_count": null
    },
    {
      "metadata": {},
      "source": [
        "### Export the labels"
      ],
      "cell_type": "markdown"
    },
    {
      "metadata": {},
      "source": [
        "labels = project.label_generator()\n",
        "\n",
        "# Old export format:\n",
        "# labels = project.export_labels()\n",
        "\n",
        "# labels can also be exported with `start` and `end` filters\n",
        "# labels = project.label_generator(start=\"2020-01-01\", end=\"2020-01-02\")"
      ],
      "cell_type": "code",
      "outputs": [],
      "execution_count": null
    },
    {
      "metadata": {},
      "source": [
        "Optionally, convert to a `LabelList` for small to medium-sized datasets.\n",
        "\n",
        "This is more convenient than the LabelGenerator, but less memory efficient. Read more about the differences [here](https://colab.research.google.com/github/Labelbox/labelbox-python/blob/master/examples/annotation_types/label_containers.ipynb)."
      ],
      "cell_type": "markdown"
    },
    {
      "metadata": {},
      "source": [
        "labels = labels.as_list()"
      ],
      "cell_type": "code",
      "outputs": [],
      "execution_count": null
    },
    {
      "metadata": {},
      "source": [
        "### View the labels"
      ],
      "cell_type": "markdown"
    },
    {
      "metadata": {},
      "source": [
        "# Print first label\n",
        "label = next(labels)\n",
        "label"
      ],
      "cell_type": "code",
      "outputs": [
        {
          "data": {
            "text/plain": [
              "lb.Label(uid='ckvmrmuqgd7pv0z9wbyez3bn7', data=TextData(file_path=None,text=None,url=https://storage.labelbox.com/cktu4ft7e3xvp0y6tgv24d9mw%2F62aebb5e-53a1-963c-bfd9-519a07add128-511.txt?Expires=1650551160328&KeyName=labelbox-assets-key-3&Signature=nFMvlLG35Nh20_Barg3RYtjNn4o), annotations=[lb_types.ObjectAnnotation(name='Headline', feature_schema_id='ckvmrminbd7og0z9wccxi63xw', extra={'instanceURI': None, 'color': '#1CE6FF', 'feature_id': 'ckvmrn0hm00023e67302kmexp', 'value': 'headline'}, value=lb_types.TextEntity(start=0, end=32, extra={}), classifications=[]), lb_types.ObjectAnnotation(name='Name', feature_schema_id='ckvmrminbd7oi0z9wd5vs1m8m', extra={'instanceURI': None, 'color': '#FF34FF', 'feature_id': 'ckvmrn7q100053e67gcgk9xzf', 'value': 'name'}, value=lb_types.TextEntity(start=35, end=46, extra={}), classifications=[]), lb_types.ObjectAnnotation(name='Name', feature_schema_id='ckvmrminbd7oi0z9wd5vs1m8m', extra={'instanceURI': None, 'color': '#FF34FF', 'feature_id': 'ckvmrob8t000d3e67dlw2v8sx', 'value': 'name'}, value=lb_types.TextEntity(start=58, end=71, extra={}), classifications=[]), lb_types.ObjectAnnotation(name='Location', feature_schema_id='ckvmrmincd7ok0z9w76r71sn2', extra={'instanceURI': None, 'color': '#FF4A46', 'feature_id': 'ckvmrp938000o3e67ry6m3wpk', 'value': 'location'}, value=lb_types.TextEntity(start=105, end=112, extra={}), classifications=[]), lb_types.ObjectAnnotation(name='Event', feature_schema_id='ckvmrmincd7om0z9w9qlt2spb', extra={'instanceURI': None, 'color': '#008941', 'feature_id': 'ckvmroogk000i3e67su8kuobk', 'value': 'event'}, value=lb_types.TextEntity(start=93, end=100, extra={}), classifications=[])], extra={'Created By': 'eemerson@labelbox.com', 'Project Name': 'BBC Sport Articles (Text Labeling)', 'Created At': '2021-11-05T19:25:19.000Z', 'Updated At': '2021-11-05T19:25:19.923Z', 'Seconds to Label': 53.398, 'Agreement': -1.0, 'Benchmark Agreement': -1.0, 'Benchmark ID': None, 'Dataset Name': 'BBC Sport Articles', 'Reviews': [Review(score=1, id='ckvvc73yn1fhl0zazc0m40y71', created_at='2021-11-11T19:21:13.000Z', created_by='eemerson@labelbox.com', label_id='ckvmrmuqgd7pv0z9wbyez3bn7')], 'View Label': 'https://editor.labelbox.com?project=ckvmrl6yvd7j20z9w1k255cwv&label=ckvmrmuqgd7pv0z9wbyez3bn7', 'Has Open Issues': 0.0, 'Skipped': False, 'media_type': 'text'})"
            ]
          },
          "execution_count": 8,
          "metadata": {},
          "output_type": "execute_result"
        }
      ],
      "execution_count": null
    },
    {
      "metadata": {},
      "source": [
        "To get more information on the fields in the label payload, follow [our documentation here](https://docs.labelbox.com/docs/entity-json)."
      ],
      "cell_type": "markdown"
    },
    {
      "metadata": {},
      "source": [
        "# View some specific fields of the label instance\n",
        "print(\"Label ID:\", label.uid)\n",
        "print(\"Created By:\", label.extra['Created By'])\n",
        "print(\"Created At:\", label.extra['Created At'])\n",
        "print(\"Media Type:\", label.extra['media_type'])\n",
        "print(\"Reviews:\", label.extra['Reviews'])"
      ],
      "cell_type": "code",
      "outputs": [
        {
          "name": "stdout",
          "output_type": "stream",
          "text": [
            "Label ID: ckvmrmuqgd7pv0z9wbyez3bn7\n",
            "Created By: eemerson@labelbox.com\n",
            "Created At: 2021-11-05T19:25:19.000Z\n",
            "Media Type: text\n",
            "Reviews: [Review(score=1, id='ckvvc73yn1fhl0zazc0m40y71', created_at='2021-11-11T19:21:13.000Z', created_by='eemerson@labelbox.com', label_id='ckvmrmuqgd7pv0z9wbyez3bn7')]\n"
          ]
        }
      ],
      "execution_count": null
    },
    {
      "metadata": {},
      "source": [
        "# View a list of the annotations that comprise the label\n",
        "label.annotations"
      ],
      "cell_type": "code",
      "outputs": [],
      "execution_count": null
    },
    {
      "metadata": {},
      "source": [
        "# Grab elements of the first object annotation\n",
        "print(\"feature name:\", label.annotations[0].name)\n",
        "print(\"featureSchemaId:\", label.annotations[0].feature_schema_id)\n",
        "print(\"start index, end index:\", label.annotations[0].value.start, label.annotations[0].value.end)\n",
        "print(\"classifications:\", label.annotations[0].classifications)"
      ],
      "cell_type": "code",
      "outputs": [
        {
          "name": "stdout",
          "output_type": "stream",
          "text": [
            "feature name: Headline\n",
            "featureSchemaId: ckvmrminbd7og0z9wccxi63xw\n",
            "start index, end index: 0 32\n",
            "classifications: []\n"
          ]
        }
      ],
      "execution_count": null
    }
  ]
}