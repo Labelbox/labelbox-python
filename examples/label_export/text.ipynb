{
  "cells": [
    {
      "cell_type": "markdown",
      "source": [
        "<td>\n",
        "   <a target=\"_blank\" href=\"https://labelbox.com\" ><img src=\"https://labelbox.com/blog/content/images/2021/02/logo-v4.svg\" width=256/></a>\n",
        "</td>"
      ],
      "metadata": {
        "id": "db768cda"
      }
    },
    {
      "cell_type": "markdown",
      "source": [
        "<td>\n",
        "<a href=\"https://colab.research.google.com/github/Labelbox/labelbox-python/blob/develop/examples/label_export/text.ipynb\" target=\"_blank\"><img\n",
        "src=\"https://colab.research.google.com/assets/colab-badge.svg\" alt=\"Open In Colab\"></a>\n",
        "</td>\n",
        "\n",
        "<td>\n",
        "<a href=\"https://github.com/Labelbox/labelbox-python/tree/develop/examples/label_export/text.ipynb\" target=\"_blank\"><img\n",
        "src=\"https://img.shields.io/badge/GitHub-100000?logo=github&logoColor=white\" alt=\"GitHub\"></a>\n",
        "</td>"
      ],
      "metadata": {
        "id": "cb5611d0"
      }
    },
    {
      "cell_type": "markdown",
      "source": [
        "# Text Data Export\n",
        "Export labels from text annotation projects."
      ],
      "metadata": {
        "id": "employed-baptist"
      }
    },
    {
      "cell_type": "code",
      "execution_count": 2,
      "source": [
        "!pip install -q 'labelbox[data]'"
      ],
      "outputs": [],
      "metadata": {
        "id": "manual-parks"
      }
    },
    {
      "cell_type": "code",
      "execution_count": 3,
      "source": [
        "from labelbox import Client\n",
        "from labelbox.data.annotation_types import (\n",
        "    Label, LabelList, ObjectAnnotation,\n",
        "    TextData, TextEntity\n",
        ")\n",
        "from labelbox.data.serialization import NDJsonConverter\n",
        "import json"
      ],
      "outputs": [],
      "metadata": {
        "id": "supported-shield"
      }
    },
    {
      "cell_type": "code",
      "execution_count": 4,
      "source": [
        "# Pick a project that has entity tools in the ontology and has completed labels\n",
        "PROJECT_ID = \"\""
      ],
      "outputs": [],
      "metadata": {
        "id": "nominated-press"
      }
    },
    {
      "cell_type": "markdown",
      "source": [
        "# API Key and Client\n",
        "Provide a valid api key below in order to properly connect to the Labelbox Client."
      ],
      "metadata": {
        "id": "078de7d7"
      }
    },
    {
      "cell_type": "code",
      "execution_count": 5,
      "source": [
        "# Add your api key\n",
        "API_KEY = None\n",
        "client = Client(api_key=API_KEY)\n",
        "project = client.get_project(PROJECT_ID)"
      ],
      "outputs": [],
      "metadata": {
        "id": "aerial-general"
      }
    },
    {
      "cell_type": "markdown",
      "source": [
        "### Export the labels"
      ],
      "metadata": {
        "id": "finished-helicopter"
      }
    },
    {
      "cell_type": "code",
      "execution_count": 6,
      "source": [
        "labels = project.label_generator()\n",
        "\n",
        "# Old export format:\n",
        "# labels = project.export_labels()\n",
        "\n",
        "# labels can also be exported with `start` and `end` filters\n",
        "# labels = project.label_generator(start=\"2020-01-01\", end=\"2020-01-02\")"
      ],
      "outputs": [],
      "metadata": {
        "id": "qPGucY8V5WpG"
      }
    },
    {
      "cell_type": "markdown",
      "source": [
        "Optionally, convert to a `LabelList` for small to medium-sized datasets.\n",
        "\n",
        "This is more convenient than the LabelGenerator, but less memory efficient. Read more about the differences [here](https://colab.research.google.com/github/Labelbox/labelbox-python/blob/develop/examples/annotation_types/label_containers.ipynb)."
      ],
      "metadata": {
        "id": "jCPjiaBIacpv"
      }
    },
    {
      "cell_type": "code",
      "execution_count": 7,
      "source": [
        "labels = labels.as_list()"
      ],
      "outputs": [],
      "metadata": {
        "id": "8nvKKLnTavzS"
      }
    },
    {
      "cell_type": "markdown",
      "source": [
        "### View the labels"
      ],
      "metadata": {
        "id": "VlwIczrf9G7Z"
      }
    },
    {
      "cell_type": "code",
      "execution_count": 8,
      "source": [
        "# Print first label\n",
        "label = next(labels)\n",
        "label"
      ],
      "outputs": [
        {
          "output_type": "execute_result",
          "data": {
            "text/plain": [
              "Label(uid='ckvmrmuqgd7pv0z9wbyez3bn7', data=TextData(file_path=None,text=None,url=https://storage.labelbox.com/cktu4ft7e3xvp0y6tgv24d9mw%2F62aebb5e-53a1-963c-bfd9-519a07add128-511.txt?Expires=1650551160328&KeyName=labelbox-assets-key-3&Signature=nFMvlLG35Nh20_Barg3RYtjNn4o), annotations=[ObjectAnnotation(name='Headline', feature_schema_id='ckvmrminbd7og0z9wccxi63xw', extra={'instanceURI': None, 'color': '#1CE6FF', 'feature_id': 'ckvmrn0hm00023e67302kmexp', 'value': 'headline'}, value=TextEntity(start=0, end=32, extra={}), classifications=[]), ObjectAnnotation(name='Name', feature_schema_id='ckvmrminbd7oi0z9wd5vs1m8m', extra={'instanceURI': None, 'color': '#FF34FF', 'feature_id': 'ckvmrn7q100053e67gcgk9xzf', 'value': 'name'}, value=TextEntity(start=35, end=46, extra={}), classifications=[]), ObjectAnnotation(name='Name', feature_schema_id='ckvmrminbd7oi0z9wd5vs1m8m', extra={'instanceURI': None, 'color': '#FF34FF', 'feature_id': 'ckvmrob8t000d3e67dlw2v8sx', 'value': 'name'}, value=TextEntity(start=58, end=71, extra={}), classifications=[]), ObjectAnnotation(name='Location', feature_schema_id='ckvmrmincd7ok0z9w76r71sn2', extra={'instanceURI': None, 'color': '#FF4A46', 'feature_id': 'ckvmrp938000o3e67ry6m3wpk', 'value': 'location'}, value=TextEntity(start=105, end=112, extra={}), classifications=[]), ObjectAnnotation(name='Event', feature_schema_id='ckvmrmincd7om0z9w9qlt2spb', extra={'instanceURI': None, 'color': '#008941', 'feature_id': 'ckvmroogk000i3e67su8kuobk', 'value': 'event'}, value=TextEntity(start=93, end=100, extra={}), classifications=[])], extra={'Created By': 'eemerson@labelbox.com', 'Project Name': 'BBC Sport Articles (Text Labeling)', 'Created At': '2021-11-05T19:25:19.000Z', 'Updated At': '2021-11-05T19:25:19.923Z', 'Seconds to Label': 53.398, 'Agreement': -1.0, 'Benchmark Agreement': -1.0, 'Benchmark ID': None, 'Dataset Name': 'BBC Sport Articles', 'Reviews': [Review(score=1, id='ckvvc73yn1fhl0zazc0m40y71', created_at='2021-11-11T19:21:13.000Z', created_by='eemerson@labelbox.com', label_id='ckvmrmuqgd7pv0z9wbyez3bn7')], 'View Label': 'https://editor.labelbox.com?project=ckvmrl6yvd7j20z9w1k255cwv&label=ckvmrmuqgd7pv0z9wbyez3bn7', 'Has Open Issues': 0.0, 'Skipped': False, 'media_type': 'text'})"
            ]
          },
          "metadata": {},
          "execution_count": 8
        }
      ],
      "metadata": {
        "id": "eFFgijvQ82_F"
      }
    },
    {
      "cell_type": "markdown",
      "source": [
        "To get more information on the fields in the label payload, follow [our documentation here](https://docs.labelbox.com/docs/entity-json)."
      ],
      "metadata": {
        "id": "biblical-insured"
      }
    },
    {
      "cell_type": "code",
      "execution_count": 9,
      "source": [
        "# View some specific fields of the label instance\n",
        "print(\"Label ID:\", label.uid)\n",
        "print(\"Created By:\", label.extra['Created By'])\n",
        "print(\"Created At:\", label.extra['Created At'])\n",
        "print(\"Media Type:\", label.extra['media_type'])\n",
        "print(\"Reviews:\", label.extra['Reviews'])"
      ],
      "outputs": [
        {
          "output_type": "stream",
          "name": "stdout",
          "text": [
            "Label ID: ckvmrmuqgd7pv0z9wbyez3bn7\n",
            "Created By: eemerson@labelbox.com\n",
            "Created At: 2021-11-05T19:25:19.000Z\n",
            "Media Type: text\n",
            "Reviews: [Review(score=1, id='ckvvc73yn1fhl0zazc0m40y71', created_at='2021-11-11T19:21:13.000Z', created_by='eemerson@labelbox.com', label_id='ckvmrmuqgd7pv0z9wbyez3bn7')]\n"
          ]
        }
      ],
      "metadata": {
        "id": "uhgmI1Dx9LBe"
      }
    },
    {
      "cell_type": "code",
      "execution_count": null,
      "source": [
        "# View a list of the annotations that comprise the label\n",
        "label.annotations"
      ],
      "outputs": [],
      "metadata": {
        "id": "fJrUrglt_YOG"
      }
    },
    {
      "cell_type": "code",
      "execution_count": 10,
      "source": [
        "# Grab elements of the first object annotation\n",
        "print(\"feature name:\", label.annotations[0].name)\n",
        "print(\"featureSchemaId:\", label.annotations[0].feature_schema_id)\n",
        "print(\"start index, end index:\", label.annotations[0].value.start, label.annotations[0].value.end)\n",
        "print(\"classifications:\", label.annotations[0].classifications)"
      ],
      "outputs": [
        {
          "output_type": "stream",
          "name": "stdout",
          "text": [
            "feature name: Headline\n",
            "featureSchemaId: ckvmrminbd7og0z9wccxi63xw\n",
            "start index, end index: 0 32\n",
            "classifications: []\n"
          ]
        }
      ],
      "metadata": {
        "id": "ciKIKTGtWzIj"
      }
    },
    {
      "cell_type": "markdown",
      "source": [
        "### Convert annotations to NDJSON\n",
        "We can utilize the `NDJsonConverter` class to turn annotation objects into NDJSON that is ready to be uploaded back into Labelbox."
      ],
      "metadata": {
        "id": "ptyrc9BN_RLE"
      }
    },
    {
      "cell_type": "code",
      "execution_count": 11,
      "source": [
        "# Run the converter\n",
        "annotations = NDJsonConverter.serialize(labels)"
      ],
      "outputs": [],
      "metadata": {
        "id": "921pcXT58Le1"
      }
    },
    {
      "cell_type": "code",
      "execution_count": 12,
      "source": [
        "# View the first annotation in NDJSON\n",
        "annotation = next(annotations)\n",
        "annotation"
      ],
      "outputs": [
        {
          "output_type": "execute_result",
          "data": {
            "text/plain": [
              "{'uuid': '329552e8-bb2e-4c58-88d2-30ebe6c8d277',\n",
              " 'dataRow': {'id': 'ckvmrcmp489510zt1au3cf9xm'},\n",
              " 'schemaId': 'ckvmrminbd7og0z9wccxi63xw',\n",
              " 'classifications': [],\n",
              " 'location': {'start': 0, 'end': 32}}"
            ]
          },
          "metadata": {},
          "execution_count": 12
        }
      ],
      "metadata": {
        "id": "human-beginning"
      }
    },
    {
      "cell_type": "code",
      "execution_count": 13,
      "source": [
        "# Grab elements of the NDJSON annotation\n",
        "print(\"schemaId: \" + annotation['schemaId'])\n",
        "print(\"dataRow Id: \" + annotation['dataRow']['id'])"
      ],
      "outputs": [
        {
          "output_type": "stream",
          "name": "stdout",
          "text": [
            "schemaId: ckvmrminbd7og0z9wccxi63xw\n",
            "dataRow Id: ckvmrcmp489510zt1au3cf9xm\n"
          ]
        }
      ],
      "metadata": {
        "id": "VCkINPObA7B4"
      }
    }
  ],
  "metadata": {
    "kernelspec": {
      "name": "python3",
      "display_name": "Python 3.9.7 64-bit ('python39': conda)"
    },
    "language_info": {
      "codemirror_mode": {
        "name": "ipython",
        "version": 3
      },
      "file_extension": ".py",
      "mimetype": "text/x-python",
      "name": "python",
      "nbconvert_exporter": "python",
      "pygments_lexer": "ipython3",
      "version": "3.9.7"
    },
    "colab": {
      "name": "[REVISED] text.ipynb",
      "provenance": [],
      "collapsed_sections": []
    },
    "interpreter": {
      "hash": "c52107f234cd2c884084f353ec8e2b1c652f5e5774ce066842c3257e38ada3fc"
    }
  },
  "nbformat": 4,
  "nbformat_minor": 5
}