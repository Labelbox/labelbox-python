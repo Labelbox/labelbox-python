{
  "nbformat": 4,
  "nbformat_minor": 0,
  "metadata": {},
  "cells": [
    {
      "metadata": {},
      "source": [
        "<td>\n",
        "   <a target=\"_blank\" href=\"https://labelbox.com\" ><img src=\"https://labelbox.com/blog/content/images/2021/02/logo-v4.svg\" width=256/></a>\n",
        "</td>"
      ],
      "cell_type": "markdown"
    },
    {
      "metadata": {},
      "source": [
        "<td>\n",
        "<a href=\"https://colab.research.google.com/github/Labelbox/labelbox-python/blob/master/examples/label_export/images.ipynb\" target=\"_blank\"><img\n",
        "src=\"https://colab.research.google.com/assets/colab-badge.svg\" alt=\"Open In Colab\"></a>\n",
        "</td>\n",
        "\n",
        "<td>\n",
        "<a href=\"https://github.com/Labelbox/labelbox-python/tree/master/examples/label_export/images.ipynb\" target=\"_blank\"><img\n",
        "src=\"https://img.shields.io/badge/GitHub-100000?logo=github&logoColor=white\" alt=\"GitHub\"></a>\n",
        "</td>"
      ],
      "cell_type": "markdown"
    },
    {
      "metadata": {},
      "source": [
        "How to export data, with examples for each type of export along with details on optional parameters and filters."
      ],
      "cell_type": "markdown"
    },
    {
      "metadata": {},
      "source": [
        "# Image Data Export"
      ],
      "cell_type": "markdown"
    },
    {
      "metadata": {},
      "source": [
        "!pip install \"labelbox[data]\" -q"
      ],
      "cell_type": "code",
      "outputs": [],
      "execution_count": null
    },
    {
      "metadata": {},
      "source": [
        "import labelbox as lb"
      ],
      "cell_type": "code",
      "outputs": [],
      "execution_count": null
    },
    {
      "metadata": {},
      "source": [
        "# API Key and Client\n",
        "Provide a valid api key below in order to properly connect to the Labelbox Client."
      ],
      "cell_type": "markdown"
    },
    {
      "metadata": {},
      "source": [
        "# Add your api key\n",
        "API_KEY = \"API KEY here\"\n",
        "client = lb.Client(api_key=API_KEY)"
      ],
      "cell_type": "code",
      "outputs": [],
      "execution_count": null
    },
    {
      "metadata": {},
      "source": [
        "# Export data rows from a project\n",
        "\n",
        "When you export data rows from a project, you can narrow down your data rows by last_activity_at, label_created_at, and data_row_ids. Then, when you export from a project, you may choose to include or exclude certain attributes in your export.\n",
        "\n",
        "You can view the JSON export formats for each data type here: https://docs.labelbox.com/reference/label-export#export-specifications"
      ],
      "cell_type": "markdown"
    },
    {
      "metadata": {},
      "source": [
        "# Set the export params to include/exclude certain fields. Make sure each of these fields are correctly grabbed \n",
        "export_params= {\n",
        "  \"attachments\": True,\n",
        "  \"metadata_fields\": True,\n",
        "  \"data_row_details\": True,\n",
        "  \"project_details\": True,\n",
        "  \"performance_details\": True\n",
        "}\n",
        "\n",
        "# You can set the range for last_activity_at and label_created_at in one these formats: \n",
        "# YYYY-MM-DD or YYYY-MM-DD hh:mm:ss or ISO 8601 format which is YYYY-MM-DDThh:mm:ss\u00b1hhmm\n",
        "# The ISO 8061 allows you to specify the timezone, but the other two formats assume timezone from the user's workspace settings.\n",
        "# You can also set a list of data row ids to export. \n",
        "# For context, last_activity_at captures the creation and modification of labels, metadata, status, comments and reviews.\n",
        "\n",
        "# Note: This is an AND logic between the filters, so usually using one filter is sufficient.\n",
        "filters= {\n",
        "  \"last_activity_at\": [\"2000-01-01 00:00:00\", \"2050-01-01 00:00:00\"],\n",
        "  \"label_created_at\": [\"2000-01-01 00:00:00\", \"2050-01-01 00:00:00\"],\n",
        "  \"data_row_ids\": [\"data_row_id_1\", \"data_row_id_2\"] \n",
        "}\n",
        "\n",
        "project = client.get_project(\"Project ID\")\n",
        "export_task = project.export_v2(params=export_params, filters=filters)\n",
        "export_task.wait_till_done()\n",
        "\n",
        "if export_task.errors:\n",
        "  print(export_task.errors)\n",
        "\n",
        "export_json = export_task.result\n",
        "print(\"results: \", export_json)"
      ],
      "cell_type": "code",
      "outputs": [],
      "execution_count": null
    },
    {
      "metadata": {},
      "source": [
        "# Export from a dataset\n",
        "\n",
        "You can export data rows and all their information from a Dataset or a Catalog Slice.\n",
        "\n",
        "When exporting from Catalog, you can include information about a data row from all projects and model runs to which it belongs. Specifically, for the selected data rows, you can export the labels from multiple projects and/or the predictions from multiple model runs.\n",
        "\n",
        "As shown below, the project_ids and model_run_ids parameters accept a list of IDs"
      ],
      "cell_type": "markdown"
    },
    {
      "metadata": {},
      "source": [
        "# Set the export params to include/exclude certain fields. Make sure each of these fields are correctly grabbed \n",
        "export_params= {\n",
        "    \"attachments\": True,\n",
        "    \"metadata_fields\": True,\n",
        "    \"data_row_details\": True,\n",
        "    \"project_details\": True,\n",
        "    \"performance_details\": True,\n",
        "    \"project_ids\": [\"<project_id_1>\", \"<project_id_2>\"],\n",
        "    \"model_run_ids\": [\"<model_run_id_1>\", \"<model_run_id_2>\"],\n",
        "  \n",
        "}\n",
        "\n",
        "# You can set the range for last_activity_at\n",
        "# For context, last_activity_at captures the creation and modification of labels, metadata, status, comments and reviews.\n",
        "# Note: This is an AND logic between the filters, so usually using one filter is sufficient.\n",
        "\n",
        "filters= {\n",
        "            \"last_activity_at\": [\"2000-01-01 00:00:00\", \"2050-01-01 00:00:00\"]\n",
        "}\n",
        "\n",
        "dataset = client.get_dataset(\"<dataset_id>\")\n",
        "export_task = dataset.export_v2(params=export_params, filters=filters)\n",
        "export_task.wait_till_done()\n",
        "if export_task.errors:\n",
        "  print(export_task.errors)\n",
        "export_json = export_task.result\n",
        "print(\"results: \", export_json)"
      ],
      "cell_type": "code",
      "outputs": [],
      "execution_count": null
    },
    {
      "metadata": {},
      "source": [
        "# Export from a slice"
      ],
      "cell_type": "markdown"
    },
    {
      "metadata": {},
      "source": [
        "# Set the export params to include/exclude certain fields. Make sure each of these fields are correctly grabbed \n",
        "export_params= {\n",
        "    \"attachments\": True,\n",
        "    \"metadata_fields\": True,\n",
        "    \"data_row_details\": True,\n",
        "    \"project_details\": True,\n",
        "    \"performance_details\": True,\n",
        "    \"project_ids\": [\"<project_id_1>\", \"<project_id_2>\"],\n",
        "    \"model_run_ids\": [\"<model_run_id_1>\", \"<model_run_id_2>\"]\n",
        "}\n",
        "\n",
        "# There is no filter parameter in export_v2() for slice\n",
        "\n",
        "catalog_slice = client.get_catalog_slice(\"<slice_id>\")\n",
        "export_task = catalog_slice.export_v2(params=export_params)\n",
        "export_task.wait_till_done()\n",
        "if export_task.errors:\n",
        "  print(export_task.errors)\n",
        "export_json = export_task.result\n",
        "print(\"results: \", export_json)"
      ],
      "cell_type": "code",
      "outputs": [],
      "execution_count": null
    },
    {
      "metadata": {},
      "source": [
        "# Export data rows from a model run"
      ],
      "cell_type": "markdown"
    },
    {
      "metadata": {},
      "source": [
        "# Set the export params to include/exclude certain fields. Make sure each of these fields are correctly grabbed \n",
        "export_params= {\n",
        "    \"attachments\": True,\n",
        "    \"metadata_fields\": True,\n",
        "    \"data_row_details\": True,\n",
        "    \"predictions\": True,\n",
        "}\n",
        "\n",
        "model_run = client.get_model_run(\"Enter Model run ID\")\n",
        "export_task = model_run.export_v2(params=export_params)\n",
        "export_task.wait_till_done()\n",
        "print(export_task.errors)\n",
        "export_json = export_task.result\n",
        "print(\"results: \", export_json)"
      ],
      "cell_type": "code",
      "outputs": [],
      "execution_count": null
    }
  ]
}