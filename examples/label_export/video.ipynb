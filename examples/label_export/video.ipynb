{
  "cells": [
    {
      "cell_type": "markdown",
      "source": [
        "<td>\n",
        "   <a target=\"_blank\" href=\"https://labelbox.com\" ><img src=\"https://labelbox.com/blog/content/images/2021/02/logo-v4.svg\" width=256/></a>\n",
        "</td>"
      ],
      "metadata": {
        "id": "db768cda"
      }
    },
    {
      "cell_type": "markdown",
      "source": [
        "<td>\n",
        "<a href=\"https://colab.research.google.com/github/Labelbox/labelbox-python/blob/develop/examples/label_export/video.ipynb\" target=\"_blank\"><img\n",
        "src=\"https://colab.research.google.com/assets/colab-badge.svg\" alt=\"Open In Colab\"></a>\n",
        "</td>\n",
        "\n",
        "<td>\n",
        "<a href=\"https://github.com/Labelbox/labelbox-python/tree/develop/examples/label_export/video.ipynb\" target=\"_blank\"><img\n",
        "src=\"https://img.shields.io/badge/GitHub-100000?logo=github&logoColor=white\" alt=\"GitHub\"></a>\n",
        "</td>"
      ],
      "metadata": {
        "id": "cb5611d0"
      }
    },
    {
      "cell_type": "markdown",
      "source": [
        "# Video Data Export\n",
        "Export labels from video annotation projects."
      ],
      "metadata": {
        "id": "employed-baptist"
      }
    },
    {
      "cell_type": "code",
      "execution_count": 2,
      "source": [
        "!pip install -q labelbox numpy matplotlib ipython"
      ],
      "outputs": [],
      "metadata": {
        "id": "located-egyptian"
      }
    },
    {
      "cell_type": "code",
      "execution_count": 1,
      "source": [
        "from labelbox import Client\n",
        "from matplotlib import pyplot as plt\n",
        "from IPython.display import clear_output\n",
        "import numpy as np\n",
        "import json\n",
        "import ndjson\n",
        "import requests\n",
        "import cv2\n",
        "from typing import Dict, Any\n",
        "import os"
      ],
      "outputs": [],
      "metadata": {
        "id": "supported-shield"
      }
    },
    {
      "cell_type": "code",
      "execution_count": 2,
      "source": [
        "# Pick a video project with completed bounding box labels\n",
        "PROJECT_ID = \"\""
      ],
      "outputs": [],
      "metadata": {
        "id": "nominated-press"
      }
    },
    {
      "cell_type": "markdown",
      "source": [
        "# API Key and Client\n",
        "Provide a valid api key below in order to properly connect to the Labelbox Client."
      ],
      "metadata": {
        "id": "7457a04f"
      }
    },
    {
      "cell_type": "code",
      "execution_count": 3,
      "source": [
        "# Add your api key\n",
        "API_KEY = None\n",
        "client = Client(api_key=API_KEY)\n",
        "project = client.get_project(PROJECT_ID)"
      ],
      "outputs": [],
      "metadata": {
        "id": "aerial-general"
      }
    },
    {
      "cell_type": "markdown",
      "source": [
        "### Export the labels"
      ],
      "metadata": {
        "id": "finished-helicopter"
      }
    },
    {
      "cell_type": "code",
      "execution_count": 4,
      "source": [
        "export_url = project.export_labels()\n",
        "\n",
        "# labels can also be exported with `start` and `end` filters\n",
        "# export_url = project.export_labels(start=\"2020-01-01\", end=\"2020-01-02\")"
      ],
      "outputs": [],
      "metadata": {
        "id": "gothic-investing"
      }
    },
    {
      "cell_type": "code",
      "execution_count": 5,
      "source": [
        "print(export_url)"
      ],
      "outputs": [
        {
          "output_type": "stream",
          "name": "stdout",
          "text": [
            "https://storage.googleapis.com/labelbox-exports/cktu4ft7e3xvp0y6tgv24d9mw/cktu4ft8q3xvy0y6t41p5dh9g/export-2022-04-07T14%3A31%3A30.021Z.json?GoogleAccessId=api-prod%40labelbox-193903.iam.gserviceaccount.com&Expires=1650551494&Signature=T73XqzvQlFyzMJ9tGrcoGxON8nJjXluBNpcGB0rmvMPnbaWBxcAaC%2Fe7GGltHauvXZyrjaO8fBj3KlLuPFwqcQXxOF9R1OtAwq1b6gB4VCbuls4N%2BsxJG1CQ6WxKE5nV8pRf9lEl839YSc7j2TY6agOFWmIvkj4FTKzK%2F2ezwq9KH8YZCU%2FhVVrvEnjKM5phDcCNvQqbthmr84bj9DnTe24aOML7qKrjsV8mRlOi8PDoOy4orNSxk%2FWfRNRw4Gck9Q4avbzS6XW16RMRcFKqBIIhBEImlhfb0yr9ZAI2vi5CK6u3eVwXwtXD%2BfIfZPcxxDHs%2FE%2B7LGvg%2BUGQoCjHSA%3D%3D&response-content-disposition=attachment\n"
          ]
        }
      ],
      "metadata": {
        "id": "temporal-citation"
      }
    },
    {
      "cell_type": "code",
      "execution_count": 6,
      "source": [
        "exports = requests.get(export_url).json()"
      ],
      "outputs": [],
      "metadata": {
        "id": "sustained-retro"
      }
    },
    {
      "cell_type": "markdown",
      "source": [
        "To get more information on the fields in the label payload, follow [our documentation here](https://docs.labelbox.com/data-model/en/index-en#label)."
      ],
      "metadata": {
        "id": "crude-sender"
      }
    },
    {
      "cell_type": "code",
      "execution_count": 7,
      "source": [
        "# Note that for a video export, a list of exports is created, with one export per data row\n",
        "type(exports)"
      ],
      "outputs": [
        {
          "output_type": "execute_result",
          "data": {
            "text/plain": [
              "list"
            ]
          },
          "metadata": {},
          "execution_count": 7
        }
      ],
      "metadata": {
        "id": "3CqHTL0zUBzM"
      }
    },
    {
      "cell_type": "code",
      "execution_count": 8,
      "source": [
        "# Let's check out the export for the first data row (video)\n",
        "exports[0]"
      ],
      "outputs": [
        {
          "output_type": "execute_result",
          "data": {
            "text/plain": [
              "{'ID': 'cktu4ftfi3y1k0y6t870p45ty',\n",
              " 'DataRow ID': 'cktu4ft9q3xz30y6t3z25hymy',\n",
              " 'Labeled Data': 'https://storage.labelbox.com/cjhfn5y6s0pk507024nz1ocys%2Fb8837f3b-b071-98d9-645e-2e2c0302393b-jellyfish2-100-110.mp4?Expires=1650551493520&KeyName=labelbox-assets-key-3&Signature=RrxYxKqAP0VbN0ZiJMeJ2yhzpyI',\n",
              " 'Label': {'objects': [],\n",
              "  'classifications': [],\n",
              "  'relationships': [],\n",
              "  'frames': 'https://api.labelbox.com/v1/frames/cktu4ftfi3y1k0y6t870p45ty'},\n",
              " 'Created By': 'eemerson@labelbox.com',\n",
              " 'Project Name': 'Sample Video Project',\n",
              " 'Created At': '2021-09-21T13:36:51.000Z',\n",
              " 'Updated At': '2021-09-21T13:36:51.412Z',\n",
              " 'Seconds to Label': 90.22,\n",
              " 'External ID': 'jellyfish2-100-110.mp4',\n",
              " 'Agreement': -1,\n",
              " 'Benchmark Agreement': -1,\n",
              " 'Benchmark ID': None,\n",
              " 'Dataset Name': 'Example Jellyfish Dataset',\n",
              " 'Reviews': [],\n",
              " 'View Label': 'https://editor.labelbox.com?project=cktu4ft8q3xvy0y6t41p5dh9g&label=cktu4ftfi3y1k0y6t870p45ty',\n",
              " 'Has Open Issues': 0,\n",
              " 'Skipped': False}"
            ]
          },
          "metadata": {},
          "execution_count": 8
        }
      ],
      "metadata": {
        "id": "human-beginning"
      }
    },
    {
      "cell_type": "code",
      "execution_count": 9,
      "source": [
        "# View some specific fields of the export\n",
        "print(\"Label ID:\", exports[0]['DataRow ID'])\n",
        "print(\"Created By:\", exports[0]['Created By'])\n",
        "print(\"Created At:\", exports[0]['Created At'])\n",
        "print(\"Reviews:\", exports[0]['Reviews'])"
      ],
      "outputs": [
        {
          "output_type": "stream",
          "name": "stdout",
          "text": [
            "Label ID: cktu4ft9q3xz30y6t3z25hymy\n",
            "Created By: eemerson@labelbox.com\n",
            "Created At: 2021-09-21T13:36:51.000Z\n",
            "Reviews: []\n"
          ]
        }
      ],
      "metadata": {
        "id": "nbW2XAXKUtBY"
      }
    },
    {
      "cell_type": "code",
      "execution_count": 10,
      "source": [
        "# View the video in your browser by clicking on the link produced\n",
        "video_url = exports[0][\"Labeled Data\"]\n",
        "print(video_url)"
      ],
      "outputs": [
        {
          "output_type": "stream",
          "name": "stdout",
          "text": [
            "https://storage.labelbox.com/cjhfn5y6s0pk507024nz1ocys%2Fb8837f3b-b071-98d9-645e-2e2c0302393b-jellyfish2-100-110.mp4?Expires=1650551493520&KeyName=labelbox-assets-key-3&Signature=RrxYxKqAP0VbN0ZiJMeJ2yhzpyI\n"
          ]
        }
      ],
      "metadata": {
        "id": "GfYvJchcVL6e"
      }
    },
    {
      "cell_type": "markdown",
      "source": [
        "### View the annotation data\n",
        "The label for each frame of the video must be fetched individually."
      ],
      "metadata": {
        "id": "adaptive-format"
      }
    },
    {
      "cell_type": "code",
      "execution_count": 11,
      "source": [
        "# Grab the annotations url\n",
        "annotations_url = exports[0][\"Label\"][\"frames\"]\n",
        "print(annotations_url)"
      ],
      "outputs": [
        {
          "output_type": "stream",
          "name": "stdout",
          "text": [
            "https://api.labelbox.com/v1/frames/cktu4ftfi3y1k0y6t870p45ty\n"
          ]
        }
      ],
      "metadata": {
        "id": "crazy-swing"
      }
    },
    {
      "cell_type": "code",
      "execution_count": 12,
      "source": [
        "# Provide the appropriate authorization to view the labeled frames\n",
        "headers = {\"Authorization\": f\"Bearer {API_KEY}\"}\n",
        "annotations = ndjson.loads(requests.get(annotations_url, headers=headers).text)"
      ],
      "outputs": [],
      "metadata": {
        "id": "u3q_cLKzVkZ8"
      }
    },
    {
      "cell_type": "code",
      "execution_count": 13,
      "source": [
        "# Make the data easy to lookup by assigning each frame its frame number\n",
        "annotations = {annot[\"frameNumber\"]: annot for annot in annotations}\n",
        "\n",
        "# Grab the first frame and print the contents\n",
        "first_frame = annotations[1]\n",
        "print(json.dumps(first_frame, indent=2))"
      ],
      "outputs": [
        {
          "output_type": "stream",
          "name": "stdout",
          "text": [
            "{\n",
            "  \"frameNumber\": 1,\n",
            "  \"classifications\": [],\n",
            "  \"objects\": [\n",
            "    {\n",
            "      \"featureId\": \"cktu4ftf43y1c0y6t7r8oc7tr\",\n",
            "      \"schemaId\": \"cktu4ftcs3y0h0y6t1bftfa1f\",\n",
            "      \"title\": \"Jellyfish\",\n",
            "      \"value\": \"jellyfish\",\n",
            "      \"color\": \"#a23030\",\n",
            "      \"keyframe\": true,\n",
            "      \"bbox\": {\n",
            "        \"top\": 582,\n",
            "        \"left\": 1644,\n",
            "        \"height\": 340,\n",
            "        \"width\": 212\n",
            "      },\n",
            "      \"classifications\": []\n",
            "    },\n",
            "    {\n",
            "      \"featureId\": \"cktu4ftf43y1d0y6t14xzhymp\",\n",
            "      \"schemaId\": \"cktu4ftcs3y0h0y6t1bftfa1f\",\n",
            "      \"title\": \"Jellyfish\",\n",
            "      \"value\": \"jellyfish\",\n",
            "      \"color\": \"#a23030\",\n",
            "      \"keyframe\": true,\n",
            "      \"bbox\": {\n",
            "        \"top\": 712,\n",
            "        \"left\": 1256,\n",
            "        \"height\": 204,\n",
            "        \"width\": 330\n",
            "      },\n",
            "      \"classifications\": []\n",
            "    },\n",
            "    {\n",
            "      \"featureId\": \"cktu4ftf43y1e0y6tgh0y78om\",\n",
            "      \"schemaId\": \"cktu4ftcs3y0h0y6t1bftfa1f\",\n",
            "      \"title\": \"Jellyfish\",\n",
            "      \"value\": \"jellyfish\",\n",
            "      \"color\": \"#a23030\",\n",
            "      \"keyframe\": true,\n",
            "      \"bbox\": {\n",
            "        \"top\": 47,\n",
            "        \"left\": 155,\n",
            "        \"height\": 381,\n",
            "        \"width\": 330\n",
            "      },\n",
            "      \"classifications\": []\n",
            "    },\n",
            "    {\n",
            "      \"featureId\": \"cktu4ftf43y1f0y6t08kk9yat\",\n",
            "      \"schemaId\": \"cktu4ftcs3y0h0y6t1bftfa1f\",\n",
            "      \"title\": \"Jellyfish\",\n",
            "      \"value\": \"jellyfish\",\n",
            "      \"color\": \"#a23030\",\n",
            "      \"keyframe\": true,\n",
            "      \"bbox\": {\n",
            "        \"top\": 728,\n",
            "        \"left\": 546,\n",
            "        \"height\": 263,\n",
            "        \"width\": 290\n",
            "      },\n",
            "      \"classifications\": []\n",
            "    },\n",
            "    {\n",
            "      \"featureId\": \"cktu4ftf43y1g0y6tex01azh7\",\n",
            "      \"schemaId\": \"cktu4ftcs3y0h0y6t1bftfa1f\",\n",
            "      \"title\": \"Jellyfish\",\n",
            "      \"value\": \"jellyfish\",\n",
            "      \"color\": \"#a23030\",\n",
            "      \"keyframe\": true,\n",
            "      \"bbox\": {\n",
            "        \"top\": 494,\n",
            "        \"left\": 361,\n",
            "        \"height\": 183,\n",
            "        \"width\": 207\n",
            "      },\n",
            "      \"classifications\": []\n",
            "    }\n",
            "  ]\n",
            "}\n"
          ]
        }
      ],
      "metadata": {
        "id": "UadFAlS5hJon"
      }
    },
    {
      "cell_type": "code",
      "execution_count": 14,
      "source": [
        "# Grab values of the first object in the first annotation\n",
        "print(\"schemaId:\", first_frame['objects'][0]['schemaId'])\n",
        "print(\"title:\", first_frame['objects'][0]['title'])\n",
        "print(\"is a keyframe?:\", first_frame['objects'][0]['keyframe'])\n",
        "print(\"bbox dimensions:\", first_frame['objects'][0]['bbox'])"
      ],
      "outputs": [
        {
          "output_type": "stream",
          "name": "stdout",
          "text": [
            "schemaId: cktu4ftcs3y0h0y6t1bftfa1f\n",
            "title: Jellyfish\n",
            "is a keyframe?: True\n",
            "bbox dimensions: {'top': 582, 'left': 1644, 'height': 340, 'width': 212}\n"
          ]
        }
      ],
      "metadata": {
        "id": "N9fBeuosWmdF"
      }
    },
    {
      "cell_type": "markdown",
      "source": [
        "### Visualize annotations"
      ],
      "metadata": {
        "id": "uMFffzIKY_jc"
      }
    },
    {
      "cell_type": "markdown",
      "source": [
        "Turn video into individual frames"
      ],
      "metadata": {
        "id": "legitimate-poland"
      }
    },
    {
      "cell_type": "code",
      "execution_count": 15,
      "source": [
        "# Store the video url in a file\n",
        "with open(\"/tmp/sample_video.mp4\", \"wb\") as file:\n",
        "    file.write(requests.get(video_url).content)"
      ],
      "outputs": [],
      "metadata": {
        "id": "thermal-conditioning"
      }
    },
    {
      "cell_type": "code",
      "execution_count": null,
      "source": [
        "vidcap = cv2.VideoCapture(\"/tmp/sample_video.mp4\")\n",
        "success, image = vidcap.read()\n",
        "image = image[:, :, ::-1]\n",
        "# Note that frameNumber 1 in the annotation is frame index 0s\n",
        "count = 1\n",
        "while success and count < 20:\n",
        "    plt.figure(1)\n",
        "    plt.imshow(image)\n",
        "    plt.title('frameNumber ' + str(count))\n",
        "    plt.pause(0.25)\n",
        "    plt.clf()\n",
        "    success, image = vidcap.read()\n",
        "    count += 1\n",
        "    if success and count < 20:\n",
        "        clear_output(wait=True)\n",
        "    image = image[:, :, ::-1]"
      ],
      "outputs": [],
      "metadata": {
        "id": "framed-harris"
      }
    },
    {
      "cell_type": "code",
      "execution_count": null,
      "source": [
        "# Helper function\n",
        "def visualize_bbox(image: np.ndarray, tool: Dict[str, Any]) -> np.ndarray:\n",
        "    \"\"\"\n",
        "    Draws a bounding box on an image\n",
        "    \n",
        "    Args:\n",
        "        image (np.ndarray): image to draw a bounding box onto\n",
        "        tool (Dict[str,any]): Dict response from the export\n",
        "    Returns:\n",
        "        image with a bounding box drawn on it.\n",
        "    \"\"\"\n",
        "    start = (int(tool[\"bbox\"][\"left\"]), int(tool[\"bbox\"][\"top\"]))\n",
        "    end = (int(tool[\"bbox\"][\"left\"] + tool[\"bbox\"][\"width\"]),\n",
        "           int(tool[\"bbox\"][\"top\"] + tool[\"bbox\"][\"height\"]))\n",
        "    return cv2.rectangle(image, start, end, (255, 0, 0), 5)"
      ],
      "outputs": [],
      "metadata": {
        "id": "abandoned-knight"
      }
    },
    {
      "cell_type": "markdown",
      "source": [
        "Overlay annotations on frames"
      ],
      "metadata": {
        "id": "excess-hamburg"
      }
    },
    {
      "cell_type": "code",
      "execution_count": null,
      "source": [
        "vidcap = cv2.VideoCapture('/tmp/sample_video.mp4')\n",
        "success, image = vidcap.read()\n",
        "image = image[:, :, ::-1]\n",
        "# Note that frameNumber 1 in the annotation is frame index 0\n",
        "count = 1\n",
        "\n",
        "while success and count < 20:\n",
        "    annotation = annotations.get(count)\n",
        "    if annotation is not None:\n",
        "        for tool in annotation['objects']:\n",
        "            if 'bbox' in tool:\n",
        "                image = visualize_bbox(image.astype(np.uint8), tool)\n",
        "    plt.figure(1)\n",
        "    plt.imshow(image)\n",
        "    plt.title('frameNumber ' + str(count))\n",
        "    plt.pause(0.25)\n",
        "    plt.clf()\n",
        "\n",
        "    success, image = vidcap.read()\n",
        "    count += 1\n",
        "    if success and count < 20:\n",
        "        clear_output(wait=True)\n",
        "    image = image[:, :, ::-1]"
      ],
      "outputs": [],
      "metadata": {
        "id": "balanced-investment"
      }
    }
  ],
  "metadata": {
    "kernelspec": {
      "name": "python3",
      "display_name": "Python 3.9.7 64-bit ('python39': conda)"
    },
    "language_info": {
      "codemirror_mode": {
        "name": "ipython",
        "version": 3
      },
      "file_extension": ".py",
      "mimetype": "text/x-python",
      "name": "python",
      "nbconvert_exporter": "python",
      "pygments_lexer": "ipython3",
      "version": "3.9.7"
    },
    "colab": {
      "name": "[REVISED] video.ipynb",
      "provenance": [],
      "collapsed_sections": []
    },
    "interpreter": {
      "hash": "c52107f234cd2c884084f353ec8e2b1c652f5e5774ce066842c3257e38ada3fc"
    }
  },
  "nbformat": 4,
  "nbformat_minor": 5
}