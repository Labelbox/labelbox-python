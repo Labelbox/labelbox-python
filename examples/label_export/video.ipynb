{
  "nbformat": 4,
  "nbformat_minor": 5,
  "metadata": {},
  "cells": [
    {
      "metadata": {},
      "source": [
        "<td>\n",
        "   <a target=\"_blank\" href=\"https://labelbox.com\" ><img src=\"https://labelbox.com/blog/content/images/2021/02/logo-v4.svg\" width=256/></a>\n",
        "</td>"
      ],
      "cell_type": "markdown"
    },
    {
      "metadata": {},
      "source": [
        "<td>\n",
        "<a href=\"https://colab.research.google.com/github/Labelbox/labelbox-python/blob/master/examples/label_export/video.ipynb\" target=\"_blank\"><img\n",
        "src=\"https://colab.research.google.com/assets/colab-badge.svg\" alt=\"Open In Colab\"></a>\n",
        "</td>\n",
        "\n",
        "<td>\n",
        "<a href=\"https://github.com/Labelbox/labelbox-python/tree/master/examples/label_export/video.ipynb\" target=\"_blank\"><img\n",
        "src=\"https://img.shields.io/badge/GitHub-100000?logo=github&logoColor=white\" alt=\"GitHub\"></a>\n",
        "</td>"
      ],
      "cell_type": "markdown"
    },
    {
      "metadata": {},
      "source": [
        "# Video Data Export\n",
        "Export labels from video annotation projects."
      ],
      "cell_type": "markdown"
    },
    {
      "metadata": {},
      "source": [
        "!pip install -q labelbox numpy matplotlib ipython"
      ],
      "cell_type": "code",
      "outputs": [],
      "execution_count": null
    },
    {
      "metadata": {},
      "source": [
        "import labelbox as lb\n",
        "from matplotlib import pyplot as plt\n",
        "from IPython.display import clear_output\n",
        "import numpy as np\n",
        "import json\n",
        "import ndjson\n",
        "import requests\n",
        "import cv2\n",
        "from typing import Dict, Any\n",
        "import os"
      ],
      "cell_type": "code",
      "outputs": [],
      "execution_count": null
    },
    {
      "metadata": {},
      "source": [
        "# Pick a video project with completed bounding box labels\n",
        "PROJECT_ID = \"\""
      ],
      "cell_type": "code",
      "outputs": [],
      "execution_count": null
    },
    {
      "metadata": {},
      "source": [
        "# API Key and Client\n",
        "Provide a valid api key below in order to properly connect to the Labelbox Client."
      ],
      "cell_type": "markdown"
    },
    {
      "metadata": {},
      "source": [
        "# Add your api key\n",
        "API_KEY = None\n",
        "client = lb.Client(api_key=API_KEY)\n",
        "project = client.get_project(PROJECT_ID)"
      ],
      "cell_type": "code",
      "outputs": [],
      "execution_count": null
    },
    {
      "metadata": {},
      "source": [
        "### Export the labels"
      ],
      "cell_type": "markdown"
    },
    {
      "metadata": {},
      "source": [
        "export_url = project.export_labels()\n",
        "\n",
        "# labels can also be exported with `start` and `end` filters\n",
        "# export_url = project.export_labels(start=\"2020-01-01\", end=\"2020-01-02\")"
      ],
      "cell_type": "code",
      "outputs": [],
      "execution_count": null
    },
    {
      "metadata": {},
      "source": [
        "print(export_url)"
      ],
      "cell_type": "code",
      "outputs": [
        {
          "name": "stdout",
          "output_type": "stream",
          "text": [
            "https://storage.googleapis.com/labelbox-exports/cktu4ft7e3xvp0y6tgv24d9mw/cktu4ft8q3xvy0y6t41p5dh9g/export-2022-04-07T14%3A31%3A30.021Z.json?GoogleAccessId=api-prod%40labelbox-193903.iam.gserviceaccount.com&Expires=1650551494&Signature=T73XqzvQlFyzMJ9tGrcoGxON8nJjXluBNpcGB0rmvMPnbaWBxcAaC%2Fe7GGltHauvXZyrjaO8fBj3KlLuPFwqcQXxOF9R1OtAwq1b6gB4VCbuls4N%2BsxJG1CQ6WxKE5nV8pRf9lEl839YSc7j2TY6agOFWmIvkj4FTKzK%2F2ezwq9KH8YZCU%2FhVVrvEnjKM5phDcCNvQqbthmr84bj9DnTe24aOML7qKrjsV8mRlOi8PDoOy4orNSxk%2FWfRNRw4Gck9Q4avbzS6XW16RMRcFKqBIIhBEImlhfb0yr9ZAI2vi5CK6u3eVwXwtXD%2BfIfZPcxxDHs%2FE%2B7LGvg%2BUGQoCjHSA%3D%3D&response-content-disposition=attachment\n"
          ]
        }
      ],
      "execution_count": null
    },
    {
      "metadata": {},
      "source": [
        "exports = requests.get(export_url).json()"
      ],
      "cell_type": "code",
      "outputs": [],
      "execution_count": null
    },
    {
      "metadata": {},
      "source": [
        "To get more information on the fields in the label payload, follow [our documentation here](https://docs.labelbox.com/data-model/en/index-en#label)."
      ],
      "cell_type": "markdown"
    },
    {
      "metadata": {},
      "source": [
        "# Note that for a video export, a list of exports is created, with one export per data row\n",
        "type(exports)"
      ],
      "cell_type": "code",
      "outputs": [
        {
          "data": {
            "text/plain": [
              "list"
            ]
          },
          "execution_count": 7,
          "metadata": {},
          "output_type": "execute_result"
        }
      ],
      "execution_count": null
    },
    {
      "metadata": {},
      "source": [
        "# Let's check out the export for the first data row (video)\n",
        "exports[0]"
      ],
      "cell_type": "code",
      "outputs": [
        {
          "data": {
            "text/plain": [
              "{'ID': 'cktu4ftfi3y1k0y6t870p45ty',\n",
              " 'DataRow ID': 'cktu4ft9q3xz30y6t3z25hymy',\n",
              " 'Labeled Data': 'https://storage.labelbox.com/cjhfn5y6s0pk507024nz1ocys%2Fb8837f3b-b071-98d9-645e-2e2c0302393b-jellyfish2-100-110.mp4?Expires=1650551493520&KeyName=labelbox-assets-key-3&Signature=RrxYxKqAP0VbN0ZiJMeJ2yhzpyI',\n",
              " 'Label': {'objects': [],\n",
              "  'classifications': [],\n",
              "  'relationships': [],\n",
              "  'frames': 'https://api.labelbox.com/v1/frames/cktu4ftfi3y1k0y6t870p45ty'},\n",
              " 'Created By': 'eemerson@labelbox.com',\n",
              " 'Project Name': 'Sample Video Project',\n",
              " 'Created At': '2021-09-21T13:36:51.000Z',\n",
              " 'Updated At': '2021-09-21T13:36:51.412Z',\n",
              " 'Seconds to Label': 90.22,\n",
              " 'External ID': 'jellyfish2-100-110.mp4',\n",
              " 'Agreement': -1,\n",
              " 'Benchmark Agreement': -1,\n",
              " 'Benchmark ID': None,\n",
              " 'Dataset Name': 'Example Jellyfish Dataset',\n",
              " 'Reviews': [],\n",
              " 'View Label': 'https://editor.labelbox.com?project=cktu4ft8q3xvy0y6t41p5dh9g&label=cktu4ftfi3y1k0y6t870p45ty',\n",
              " 'Has Open Issues': 0,\n",
              " 'Skipped': False}"
            ]
          },
          "execution_count": 8,
          "metadata": {},
          "output_type": "execute_result"
        }
      ],
      "execution_count": null
    },
    {
      "metadata": {},
      "source": [
        "# View some specific fields of the export\n",
        "print(\"Label ID:\", exports[0]['DataRow ID'])\n",
        "print(\"Created By:\", exports[0]['Created By'])\n",
        "print(\"Created At:\", exports[0]['Created At'])\n",
        "print(\"Reviews:\", exports[0]['Reviews'])"
      ],
      "cell_type": "code",
      "outputs": [
        {
          "name": "stdout",
          "output_type": "stream",
          "text": [
            "Label ID: cktu4ft9q3xz30y6t3z25hymy\n",
            "Created By: eemerson@labelbox.com\n",
            "Created At: 2021-09-21T13:36:51.000Z\n",
            "Reviews: []\n"
          ]
        }
      ],
      "execution_count": null
    },
    {
      "metadata": {},
      "source": [
        "# View the video in your browser by clicking on the link produced\n",
        "video_url = exports[0][\"Labeled Data\"]\n",
        "print(video_url)"
      ],
      "cell_type": "code",
      "outputs": [
        {
          "name": "stdout",
          "output_type": "stream",
          "text": [
            "https://storage.labelbox.com/cjhfn5y6s0pk507024nz1ocys%2Fb8837f3b-b071-98d9-645e-2e2c0302393b-jellyfish2-100-110.mp4?Expires=1650551493520&KeyName=labelbox-assets-key-3&Signature=RrxYxKqAP0VbN0ZiJMeJ2yhzpyI\n"
          ]
        }
      ],
      "execution_count": null
    },
    {
      "metadata": {},
      "source": [
        "### View the annotation data\n",
        "The label for each frame of the video must be fetched individually."
      ],
      "cell_type": "markdown"
    },
    {
      "metadata": {},
      "source": [
        "# Grab the annotations url\n",
        "annotations_url = exports[0][\"Label\"][\"frames\"]\n",
        "print(annotations_url)"
      ],
      "cell_type": "code",
      "outputs": [
        {
          "name": "stdout",
          "output_type": "stream",
          "text": [
            "https://api.labelbox.com/v1/frames/cktu4ftfi3y1k0y6t870p45ty\n"
          ]
        }
      ],
      "execution_count": null
    },
    {
      "metadata": {},
      "source": [
        "# Provide the appropriate authorization to view the labeled frames\n",
        "headers = {\"Authorization\": f\"Bearer {API_KEY}\"}\n",
        "annotations = ndjson.loads(requests.get(annotations_url, headers=headers).text)"
      ],
      "cell_type": "code",
      "outputs": [],
      "execution_count": null
    },
    {
      "metadata": {},
      "source": [
        "# Make the data easy to lookup by assigning each frame its frame number\n",
        "annotations = {annot[\"frameNumber\"]: annot for annot in annotations}\n",
        "\n",
        "# Grab the first frame and print the contents\n",
        "first_frame = annotations[1]\n",
        "print(json.dumps(first_frame, indent=2))"
      ],
      "cell_type": "code",
      "outputs": [
        {
          "name": "stdout",
          "output_type": "stream",
          "text": [
            "{\n",
            "  \"frameNumber\": 1,\n",
            "  \"classifications\": [],\n",
            "  \"objects\": [\n",
            "    {\n",
            "      \"featureId\": \"cktu4ftf43y1c0y6t7r8oc7tr\",\n",
            "      \"schemaId\": \"cktu4ftcs3y0h0y6t1bftfa1f\",\n",
            "      \"title\": \"Jellyfish\",\n",
            "      \"value\": \"jellyfish\",\n",
            "      \"color\": \"#a23030\",\n",
            "      \"keyframe\": true,\n",
            "      \"bbox\": {\n",
            "        \"top\": 582,\n",
            "        \"left\": 1644,\n",
            "        \"height\": 340,\n",
            "        \"width\": 212\n",
            "      },\n",
            "      \"classifications\": []\n",
            "    },\n",
            "    {\n",
            "      \"featureId\": \"cktu4ftf43y1d0y6t14xzhymp\",\n",
            "      \"schemaId\": \"cktu4ftcs3y0h0y6t1bftfa1f\",\n",
            "      \"title\": \"Jellyfish\",\n",
            "      \"value\": \"jellyfish\",\n",
            "      \"color\": \"#a23030\",\n",
            "      \"keyframe\": true,\n",
            "      \"bbox\": {\n",
            "        \"top\": 712,\n",
            "        \"left\": 1256,\n",
            "        \"height\": 204,\n",
            "        \"width\": 330\n",
            "      },\n",
            "      \"classifications\": []\n",
            "    },\n",
            "    {\n",
            "      \"featureId\": \"cktu4ftf43y1e0y6tgh0y78om\",\n",
            "      \"schemaId\": \"cktu4ftcs3y0h0y6t1bftfa1f\",\n",
            "      \"title\": \"Jellyfish\",\n",
            "      \"value\": \"jellyfish\",\n",
            "      \"color\": \"#a23030\",\n",
            "      \"keyframe\": true,\n",
            "      \"bbox\": {\n",
            "        \"top\": 47,\n",
            "        \"left\": 155,\n",
            "        \"height\": 381,\n",
            "        \"width\": 330\n",
            "      },\n",
            "      \"classifications\": []\n",
            "    },\n",
            "    {\n",
            "      \"featureId\": \"cktu4ftf43y1f0y6t08kk9yat\",\n",
            "      \"schemaId\": \"cktu4ftcs3y0h0y6t1bftfa1f\",\n",
            "      \"title\": \"Jellyfish\",\n",
            "      \"value\": \"jellyfish\",\n",
            "      \"color\": \"#a23030\",\n",
            "      \"keyframe\": true,\n",
            "      \"bbox\": {\n",
            "        \"top\": 728,\n",
            "        \"left\": 546,\n",
            "        \"height\": 263,\n",
            "        \"width\": 290\n",
            "      },\n",
            "      \"classifications\": []\n",
            "    },\n",
            "    {\n",
            "      \"featureId\": \"cktu4ftf43y1g0y6tex01azh7\",\n",
            "      \"schemaId\": \"cktu4ftcs3y0h0y6t1bftfa1f\",\n",
            "      \"title\": \"Jellyfish\",\n",
            "      \"value\": \"jellyfish\",\n",
            "      \"color\": \"#a23030\",\n",
            "      \"keyframe\": true,\n",
            "      \"bbox\": {\n",
            "        \"top\": 494,\n",
            "        \"left\": 361,\n",
            "        \"height\": 183,\n",
            "        \"width\": 207\n",
            "      },\n",
            "      \"classifications\": []\n",
            "    }\n",
            "  ]\n",
            "}\n"
          ]
        }
      ],
      "execution_count": null
    },
    {
      "metadata": {},
      "source": [
        "# Grab values of the first object in the first annotation\n",
        "print(\"schemaId:\", first_frame['objects'][0]['schemaId'])\n",
        "print(\"title:\", first_frame['objects'][0]['title'])\n",
        "print(\"is a keyframe?:\", first_frame['objects'][0]['keyframe'])\n",
        "print(\"bbox dimensions:\", first_frame['objects'][0]['bbox'])"
      ],
      "cell_type": "code",
      "outputs": [
        {
          "name": "stdout",
          "output_type": "stream",
          "text": [
            "schemaId: cktu4ftcs3y0h0y6t1bftfa1f\n",
            "title: Jellyfish\n",
            "is a keyframe?: True\n",
            "bbox dimensions: {'top': 582, 'left': 1644, 'height': 340, 'width': 212}\n"
          ]
        }
      ],
      "execution_count": null
    },
    {
      "metadata": {},
      "source": [
        "### Visualize annotations"
      ],
      "cell_type": "markdown"
    },
    {
      "metadata": {},
      "source": [
        "Turn video into individual frames"
      ],
      "cell_type": "markdown"
    },
    {
      "metadata": {},
      "source": [
        "# Store the video url in a file\n",
        "with open(\"/tmp/sample_video.mp4\", \"wb\") as file:\n",
        "    file.write(requests.get(video_url).content)"
      ],
      "cell_type": "code",
      "outputs": [],
      "execution_count": null
    },
    {
      "metadata": {},
      "source": [
        "vidcap = cv2.VideoCapture(\"/tmp/sample_video.mp4\")\n",
        "success, image = vidcap.read()\n",
        "image = image[:, :, ::-1]\n",
        "# Note that frameNumber 1 in the annotation is frame index 0s\n",
        "count = 1\n",
        "while success and count < 20:\n",
        "    plt.figure(1)\n",
        "    plt.imshow(image)\n",
        "    plt.title('frameNumber ' + str(count))\n",
        "    plt.pause(0.25)\n",
        "    plt.clf()\n",
        "    success, image = vidcap.read()\n",
        "    count += 1\n",
        "    if success and count < 20:\n",
        "        clear_output(wait=True)\n",
        "    image = image[:, :, ::-1]"
      ],
      "cell_type": "code",
      "outputs": [],
      "execution_count": null
    },
    {
      "metadata": {},
      "source": [
        "# Helper function\n",
        "def visualize_bbox(image: np.ndarray, tool: Dict[str, Any]) -> np.ndarray:\n",
        "    \"\"\"\n",
        "    Draws a bounding box on an image\n",
        "    \n",
        "    Args:\n",
        "        image (np.ndarray): image to draw a bounding box onto\n",
        "        tool (Dict[str,any]): Dict response from the export\n",
        "    Returns:\n",
        "        image with a bounding box drawn on it.\n",
        "    \"\"\"\n",
        "    start = (int(tool[\"bbox\"][\"left\"]), int(tool[\"bbox\"][\"top\"]))\n",
        "    end = (int(tool[\"bbox\"][\"left\"] + tool[\"bbox\"][\"width\"]),\n",
        "           int(tool[\"bbox\"][\"top\"] + tool[\"bbox\"][\"height\"]))\n",
        "    return cv2.rectangle(image, start, end, (255, 0, 0), 5)"
      ],
      "cell_type": "code",
      "outputs": [],
      "execution_count": null
    },
    {
      "metadata": {},
      "source": [
        "Overlay annotations on frames"
      ],
      "cell_type": "markdown"
    },
    {
      "metadata": {},
      "source": [
        "vidcap = cv2.VideoCapture('/tmp/sample_video.mp4')\n",
        "success, image = vidcap.read()\n",
        "image = image[:, :, ::-1]\n",
        "# Note that frameNumber 1 in the annotation is frame index 0\n",
        "count = 1\n",
        "\n",
        "while success and count < 20:\n",
        "    annotation = annotations.get(count)\n",
        "    if annotation is not None:\n",
        "        for tool in annotation['objects']:\n",
        "            if 'bbox' in tool:\n",
        "                image = visualize_bbox(image.astype(np.uint8), tool)\n",
        "    plt.figure(1)\n",
        "    plt.imshow(image)\n",
        "    plt.title('frameNumber ' + str(count))\n",
        "    plt.pause(0.25)\n",
        "    plt.clf()\n",
        "\n",
        "    success, image = vidcap.read()\n",
        "    count += 1\n",
        "    if success and count < 20:\n",
        "        clear_output(wait=True)\n",
        "    image = image[:, :, ::-1]"
      ],
      "cell_type": "code",
      "outputs": [],
      "execution_count": null
    }
  ]
}