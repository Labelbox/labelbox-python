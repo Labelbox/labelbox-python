{
 "cells": [
  {
   "cell_type": "markdown",
   "id": "mounted-asian",
   "metadata": {
    "id": "EyNkbpW7ouEf"
   },
   "source": [
    "  \n",
    "<td>\n",
    "    <a target=\"_blank\" href=\"https://labelbox.com\" ><img src=\"https://labelbox.com/blog/content/images/2021/02/logo-v4.svg\" width=256/></a>\n",
    "</td>"
   ]
  },
  {
   "cell_type": "markdown",
   "id": "attractive-lemon",
   "metadata": {},
   "source": [
    "----\n",
    "\n",
    "# Model Diagnostics - Custom Metrics Basics\n",
    "\n",
    "\n",
    "* Measuring model quality is critical to efficiently building models. It is important that the metrics used to measure model quality closely align with the business objectives for the model. Otherwise, slight changes in model quality, as they related to these core objectives, are lost to noise. Custom metrics enables users to measure model quality in terms of their exact business goals. By incorporating custom metrics into workflows, users can:\n",
    "    * Iterate faster\n",
    "    * Measure and report on model quality\n",
    "    * Understand marginal value of additional labels and modeling efforts\n",
    "\n",
    "\n",
    "* For an end-to-end demo of diagnostics using custom metrics checkout this [notebook](custom_metrics_demo.ipynb)\n",
    "\n"
   ]
  },
  {
   "cell_type": "markdown",
   "id": "subsequent-magic",
   "metadata": {
    "id": "subsequent-magic"
   },
   "source": [
    "## Environment Setup\n",
    "\n",
    "Install dependencies"
   ]
  },
  {
   "cell_type": "code",
   "execution_count": null,
   "id": "voluntary-minister",
   "metadata": {
    "id": "voluntary-minister"
   },
   "outputs": [],
   "source": [
    "!pip install -q \"labelbox[data]\""
   ]
  },
  {
   "cell_type": "markdown",
   "id": "latter-leone",
   "metadata": {
    "id": "latter-leone"
   },
   "source": [
    "Import libraries"
   ]
  },
  {
   "cell_type": "code",
   "execution_count": 1,
   "id": "committed-richards",
   "metadata": {
    "id": "committed-richards"
   },
   "outputs": [],
   "source": [
    "from labelbox.data.serialization import NDJsonConverter\n",
    "from labelbox.data.annotation_types import (\n",
    "    ScalarMetric, \n",
    "    Label, \n",
    "    ImageData, \n",
    "    Point, \n",
    "    Rectangle, \n",
    "    ObjectAnnotation,\n",
    "    ClassificationAnnotation,\n",
    "    ClassificationAnswer,\n",
    "    Radio\n",
    ")"
   ]
  },
  {
   "cell_type": "markdown",
   "id": "enclosed-tribe",
   "metadata": {},
   "source": [
    "## Custom Metrics\n",
    "* Users can provide metrics at the following levels of granularity:\n",
    "    1. data rows\n",
    "    2. features\n",
    "    3. subclasses\n",
    "* Additionally, metrics can be given custom names to best describe what they are measuring.\n",
    "    \n",
    "* Limits and Behavior:\n",
    "    * At a data row cannot have more than 20 metrics\n",
    "    * Metrics are upserted, so if a metric already exists, its value will be replaced\n",
    "    * Metrics can have values in the range [0,100000]\n",
    "* Currently `ScalarMetric`s and `ConfusionMatrixMetric`s are supported. "
   ]
  },
  {
   "cell_type": "markdown",
   "id": "controlling-affect",
   "metadata": {},
   "source": [
    "### ScalarMetric\n",
    "    * A `ScalarMetric` is a metric with just a single scalar value."
   ]
  },
  {
   "cell_type": "code",
   "execution_count": null,
   "id": "modern-polyester",
   "metadata": {},
   "outputs": [],
   "source": [
    "from labelbox.data.annotation_types import (\n",
    "    ScalarMetric, \n",
    "    ScalarMetricAggregation, \n",
    "    ConfusionMatrixMetric\n",
    ")"
   ]
  },
  {
   "cell_type": "code",
   "execution_count": 3,
   "id": "sudden-danger",
   "metadata": {},
   "outputs": [],
   "source": [
    "data_row_metric = ScalarMetric(\n",
    "    metric_name = \"iou\",\n",
    "    value = 0.5\n",
    ")\n",
    "\n",
    "feature_metric = ScalarMetric(\n",
    "    metric_name = \"iou\",\n",
    "    feature_name = \"cat\",\n",
    "    value = 0.5\n",
    ")\n",
    "\n",
    "subclass_metric = ScalarMetric(\n",
    "    metric_name = \"iou\",\n",
    "    feature_name = \"cat\",\n",
    "    subclass_name = \"organge\",\n",
    "    value = 0.5\n",
    ")\n"
   ]
  },
  {
   "cell_type": "markdown",
   "id": "amazing-patient",
   "metadata": {},
   "source": [
    "### ConfusionMatrixMetric\n",
    "- A `ConfusionMatrixMetric` contains 4 numbers [True postivie, False Postive, True Negative, False Negateive]\n",
    "- Confidence is also supported a key value pairs, where the score is the key and the value is the metric value.\n",
    "- In the user interface, these metrics are used to derive precision,recall, and f1 scores. The reason these are not directly uploaded is that the raw data allows us to do processing on the front end.\n"
   ]
  },
  {
   "cell_type": "code",
   "execution_count": 4,
   "id": "literary-workshop",
   "metadata": {},
   "outputs": [],
   "source": [
    "\n",
    "data_row_metric = ConfusionMatrixMetric(\n",
    "    metric_name = \"50pct_iou\",\n",
    "    feature_name = \"cat\",  \n",
    "    subclass_name = \"organge\",    \n",
    "    value = [1,0,1,0]\n",
    ")\n",
    "\n",
    "\n",
    "feature_metric = ConfusionMatrixMetric(\n",
    "    metric_name = \"50pct_iou\",\n",
    "    feature_name = \"cat\",  \n",
    "    subclass_name = \"organge\",    \n",
    "    value = [1,0,1,0]\n",
    ")\n",
    "\n",
    "subclass_metric = ConfusionMatrixMetric(\n",
    "    metric_name = \"50pct_iou\",\n",
    "    feature_name = \"cat\",  \n",
    "    subclass_name = \"organge\",    \n",
    "    value = [1,0,1,0]\n",
    ")\n"
   ]
  },
  {
   "cell_type": "markdown",
   "id": "optional-portrait",
   "metadata": {},
   "source": [
    "### Confidence\n",
    "* Users can provide confidence scores along with metrics\n",
    "* This enables them to explore their model performance without necessarily knowing the optimal thresholds for each class.\n",
    "* Users can filter on confidence and value in the UI to perform powerful queries.\n",
    "* The keys represent a confidence score (must be between 0 and 1) and the values represent either a scalar metric or for confusion matrix metrics [TP,FP,TN,FN]"
   ]
  },
  {
   "cell_type": "code",
   "execution_count": 5,
   "id": "pursuant-installation",
   "metadata": {},
   "outputs": [],
   "source": [
    "\n",
    "confusion_matrix_metric_with_confidence = ConfusionMatrixMetric(\n",
    "    metric_name = \"confusion_matrix_50pct_iou\",\n",
    "    feature_name = \"cat\",  \n",
    "    subclass_name = \"organge\",    \n",
    "    value = {0.1 : [1,0,1,0], 0.3 : [1,0,1,0], 0.5 : [1,0,1,0], 0.7 : [1,0,1,0], 0.9 : [1,0,1,0]}\n",
    ")\n",
    "\n",
    "scalar_metric_with_confidence = ScalarMetric(\n",
    "    metric_name = \"iou\",\n",
    "    value = {0.1 : 0.2, 0.3 : 0.25, 0.5 : 0.3, 0.7 : 0.4, 0.9: 0.3}\n",
    ")\n",
    "\n"
   ]
  },
  {
   "cell_type": "markdown",
   "id": "circular-gather",
   "metadata": {},
   "source": [
    "### Aggregations\n",
    "* This is an optional field on the `ScalarMetric` object (by default it uses Arithmetic Mean).\n",
    "* Aggregations occur in two cases:\n",
    "    1. When a user provides a feature or subclass level metric, Labelbox automatically aggregates all metrics with the same parent to create a value for that parent.\n",
    "        * E.g. A user provides cat and dog iou. The data row level metric for iou is the average of both of those.\n",
    "        * The exception to this is when the data row level iou is explicitly set, then the aggregation will not take effect (on a per data row basis). \n",
    "    2. When users create slices or want aggregate statistics on their models, the selected aggregation is applied."
   ]
  },
  {
   "cell_type": "code",
   "execution_count": 6,
   "id": "acquired-distributor",
   "metadata": {},
   "outputs": [],
   "source": [
    "\"\"\"\n",
    "If the following metrics are uploaded then\n",
    "in the web app, users will see:\n",
    "true positives dog = 4\n",
    "true positives cat = 3\n",
    "true positives = 7\n",
    "\"\"\"\n",
    "\n",
    "feature_metric = ScalarMetric(\n",
    "    metric_name = \"true_positives\",\n",
    "    feature_name = \"cat\",\n",
    "    value = 3,\n",
    "    aggregation = ScalarMetricAggregation.SUM\n",
    ")\n",
    "\n",
    "feature_metric = ScalarMetric(\n",
    "    metric_name = \"true_positives\",\n",
    "    feature_name = \"dog\",\n",
    "    value = 4,\n",
    "    aggregation = ScalarMetricAggregation.SUM\n",
    ")\n"
   ]
  },
  {
   "cell_type": "markdown",
   "id": "organic-surveillance",
   "metadata": {},
   "source": [
    "### Built-in Metrics:\n",
    "* The SDK Provides a set of default metrics that make metrics easy to use.\n",
    "1. `confusion_matrix_metric()`\n",
    "    * Computes a single confusion matrix metric for all the predictions and labels provided. \n",
    "2. `miou_metric()`\n",
    "    * Computes a single iou score for all predictions and labels provided    \n",
    "3. `feature_confusion_matrix_metric()`\n",
    "    * Computes the iou score for each of the classes found in the predictions and labels\n",
    "4. `feature_miou_metric()`\n",
    "     * Computes a confusion matrix metric for each of the classes found in the predictions and labels\n",
    "------\n",
    "* Note that all of these functions expect the prediction and ground truth annotations to correspond to the same data row. These functions should be called for each data row that you need metrics for."
   ]
  },
  {
   "cell_type": "code",
   "execution_count": null,
   "id": "faced-richards",
   "metadata": {},
   "outputs": [],
   "source": [
    "from labelbox.data.metrics import (\n",
    "    feature_miou_metric, \n",
    "    miou_metric, \n",
    "    confusion_matrix_metric, \n",
    "    feature_confusion_matrix_metric\n",
    ")"
   ]
  },
  {
   "cell_type": "code",
   "execution_count": 7,
   "id": "conceptual-penny",
   "metadata": {},
   "outputs": [],
   "source": [
    "\n",
    "predictions = [\n",
    "    ObjectAnnotation(\n",
    "        name=\"cat\",\n",
    "        value=Rectangle(start=Point(x=0, y=0),\n",
    "                        end=Point(x=10, y=10))\n",
    "    )\n",
    "]\n",
    "        \n",
    "ground_truths = [\n",
    "    ObjectAnnotation(\n",
    "        name=\"cat\",\n",
    "        value=Rectangle(start=Point(x=0, y=0),\n",
    "                        end=Point(x=8, y=8)))\n",
    "]"
   ]
  },
  {
   "cell_type": "code",
   "execution_count": 8,
   "id": "least-facility",
   "metadata": {},
   "outputs": [
    {
     "name": "stdout",
     "output_type": "stream",
     "text": [
      "[ScalarMetric(value=0.64, feature_name='cat', subclass_name=None, extra={}, metric_name='iou', aggregation=<ScalarMetricAggregation.ARITHMETIC_MEAN: 'ARITHMETIC_MEAN'>)]\n",
      "[ScalarMetric(value=0.64, feature_name=None, subclass_name=None, extra={}, metric_name='iou', aggregation=<ScalarMetricAggregation.ARITHMETIC_MEAN: 'ARITHMETIC_MEAN'>)]\n",
      "[ConfusionMatrixMetric(value=(1, 0, 0, 0), feature_name=None, subclass_name=None, extra={}, metric_name='50pct_iou', aggregation=<ConfusionMatrixAggregation.CONFUSION_MATRIX: 'CONFUSION_MATRIX'>)]\n",
      "[ConfusionMatrixMetric(value=(1, 0, 0, 0), feature_name='cat', subclass_name=None, extra={}, metric_name='50pct_iou', aggregation=<ConfusionMatrixAggregation.CONFUSION_MATRIX: 'CONFUSION_MATRIX'>)]\n"
     ]
    }
   ],
   "source": [
    "print(feature_miou_metric(ground_truths, predictions))\n",
    "print(miou_metric(ground_truths, predictions))\n",
    "print(confusion_matrix_metric(ground_truths, predictions))\n",
    "print(feature_confusion_matrix_metric(ground_truths, predictions))"
   ]
  },
  {
   "cell_type": "code",
   "execution_count": 9,
   "id": "tracked-officer",
   "metadata": {},
   "outputs": [
    {
     "name": "stdout",
     "output_type": "stream",
     "text": [
      "[ConfusionMatrixMetric(value=(0, 1, 0, 1), feature_name='cat', subclass_name=None, extra={}, metric_name='90pct_iou', aggregation=<ConfusionMatrixAggregation.CONFUSION_MATRIX: 'CONFUSION_MATRIX'>)]\n"
     ]
    }
   ],
   "source": [
    "# Adjust iou for iou calcuations.\n",
    "# Set it higher than 0.64 and we get a false postive and a false negative for the other ground truth object.\n",
    "print(feature_confusion_matrix_metric(ground_truths, predictions, iou = 0.9))"
   ]
  },
  {
   "cell_type": "code",
   "execution_count": 10,
   "id": "quarterly-catalyst",
   "metadata": {},
   "outputs": [],
   "source": [
    "# subclasses are included by default\n",
    "predictions = [\n",
    "    ObjectAnnotation(\n",
    "        name=\"cat\",\n",
    "        value=Rectangle(start=Point(x=0, y=0),\n",
    "                        end=Point(x=10, y=10)),\n",
    "    classifications = [\n",
    "        ClassificationAnnotation(\n",
    "        name=\"height\", value=Radio(answer=ClassificationAnswer(name=\"tall\")))\n",
    "    \n",
    "    ])\n",
    "]\n",
    "\n",
    "ground_truths = [\n",
    "    ObjectAnnotation(\n",
    "        name=\"cat\",\n",
    "        value=Rectangle(start=Point(x=0, y=0),\n",
    "                        end=Point(x=10, y=10)),\n",
    "    classifications = [\n",
    "        ClassificationAnnotation(\n",
    "        name=\"height\", value=Radio(answer=ClassificationAnswer(name=\"short\")))\n",
    "    ])\n",
    "]\n",
    "conf_matrix_metrics = feature_confusion_matrix_metric(ground_truths, predictions)\n",
    "iou_metrics = feature_confusion_matrix_metric(ground_truths, predictions, include_subclasses = False)"
   ]
  },
  {
   "cell_type": "code",
   "execution_count": 11,
   "id": "substantial-blank",
   "metadata": {},
   "outputs": [
    {
     "name": "stdout",
     "output_type": "stream",
     "text": [
      "Subclasses: (0, 1, 0, 1)\n",
      "Excluding Subclasses: (1, 0, 0, 0)\n"
     ]
    }
   ],
   "source": [
    "print(\"Subclasses:\", conf_matrix_metrics[0].value)\n",
    "print(\"Excluding Subclasses:\", iou_metrics[0].value)"
   ]
  },
  {
   "cell_type": "markdown",
   "id": "native-mills",
   "metadata": {},
   "source": [
    "### Uploading Custom Metrics\n",
    "* Custom metrics are uploaded the same way as any MEA upload. NDJson must be created. Fortunately this is made easy with converter functions.\n",
    "* First construct a metric annotation in one of two ways:\n",
    "    1. Manually\n",
    "    2. Using one of the provided functions `feature_miou_metric`, `miou_metric`, `confusion_matrix_metric`, `feature_confusion_matrix_metric`.\n",
    "* Then add the metric annotation to a label ( This step associates the metrics with a data row)\n",
    "* Convert to ndjson and upload"
   ]
  },
  {
   "cell_type": "code",
   "execution_count": 12,
   "id": "relative-indonesian",
   "metadata": {},
   "outputs": [
    {
     "name": "stdout",
     "output_type": "stream",
     "text": [
      "[\n",
      "  {\n",
      "    \"aggregation\": \"CONFUSION_MATRIX\",\n",
      "    \"dataRow\": {\n",
      "      \"id\": \"cktiom8osh4210ytmevuk7lfh\"\n",
      "    },\n",
      "    \"featureName\": \"cat\",\n",
      "    \"metricName\": \"50pct_iou\",\n",
      "    \"metricValue\": [\n",
      "      0,\n",
      "      1,\n",
      "      0,\n",
      "      1\n",
      "    ],\n",
      "    \"uuid\": \"f36e393d-e98a-498c-977a-181cde417921\"\n",
      "  },\n",
      "  {\n",
      "    \"aggregation\": \"CONFUSION_MATRIX\",\n",
      "    \"dataRow\": {\n",
      "      \"id\": \"cktiom8osh4210ytmevuk7lfh\"\n",
      "    },\n",
      "    \"featureName\": \"cat\",\n",
      "    \"metricName\": \"50pct_iou\",\n",
      "    \"metricValue\": [\n",
      "      1,\n",
      "      0,\n",
      "      0,\n",
      "      0\n",
      "    ],\n",
      "    \"uuid\": \"c6f32f7b-9391-4ebe-8bf4-d3459ca1e65e\"\n",
      "  }\n",
      "]\n"
     ]
    }
   ],
   "source": [
    "# Continuing with the last example:\n",
    "metrics = [*conf_matrix_metrics, *iou_metrics]\n",
    "labels = [Label(data = ImageData(uid = \"cktiom8osh4210ytmevuk7lfh\"), annotations = metrics)]\n",
    "ndjson_predictions = list(NDJsonConverter.serialize(labels))\n",
    "print(json.dumps(ndjson_predictions, indent = 2, sort_keys = True))\n",
    "# We can upload these metric with other annotations\n",
    "#model_run.add_predictions(f'diagnostics-import-{uuid.uuid4()}', ndjson_predictions)"
   ]
  },
  {
   "cell_type": "code",
   "execution_count": null,
   "id": "committed-raise",
   "metadata": {},
   "outputs": [],
   "source": []
  }
 ],
 "metadata": {
  "accelerator": "GPU",
  "colab": {
   "collapsed_sections": [],
   "name": "Model Diagnostics Demo",
   "provenance": []
  },
  "kernelspec": {
   "display_name": "Python 3 (ipykernel)",
   "language": "python",
   "name": "python3"
  },
  "language_info": {
   "codemirror_mode": {
    "name": "ipython",
    "version": 3
   },
   "file_extension": ".py",
   "mimetype": "text/x-python",
   "name": "python",
   "nbconvert_exporter": "python",
   "pygments_lexer": "ipython3",
   "version": "3.8.2"
  }
 },
 "nbformat": 4,
 "nbformat_minor": 5
}
