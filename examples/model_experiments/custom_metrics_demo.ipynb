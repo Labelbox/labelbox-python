{
  "nbformat": 4,
  "nbformat_minor": 0,
  "metadata": {},
  "cells": [
    {
      "metadata": {},
      "source": [
        "<td>",
        "   <a target=\"_blank\" href=\"https://labelbox.com\" ><img src=\"https://labelbox.com/blog/content/images/2021/02/logo-v4.svg\" width=256/></a>",
        "</td>\n"
      ],
      "cell_type": "markdown"
    },
    {
      "metadata": {},
      "source": [
        "<td>\n",
        "<a href=\"https://colab.research.google.com/github/Labelbox/labelbox-python/blob/develop/examples/model_experiments/custom_metrics_demo.ipynb\" target=\"_blank\"><img\n",
        "src=\"https://colab.research.google.com/assets/colab-badge.svg\" alt=\"Open In Colab\"></a>\n",
        "</td>\n",
        "\n",
        "<td>\n",
        "<a href=\"https://github.com/Labelbox/labelbox-python/tree/develop/examples/model_experiments/custom_metrics_demo.ipynb\" target=\"_blank\"><img\n",
        "src=\"https://img.shields.io/badge/GitHub-100000?logo=github&logoColor=white\" alt=\"GitHub\"></a>\n",
        "</td>"
      ],
      "cell_type": "markdown"
    },
    {
      "metadata": {},
      "source": [
        "----\n",
        "\n",
        "# Model Diagnostics - Custom Metrics Demo\n",
        "\n",
        "* Measuring model quality is critical to efficiently building models. It is important that the metrics used to measure model quality closely align with the business objectives for the model. Otherwise, slight changes in model quality, as they related to these core objectives, are lost to noise. Custom metrics enables users to measure model quality in terms of their exact business goals. By incorporating custom metrics into workflows, users can:\n",
        "    * Iterate faster\n",
        "    * Measure and report on model quality\n",
        "    * Understand marginal value of additional labels and modeling efforts\n"
      ],
      "cell_type": "markdown"
    },
    {
      "metadata": {},
      "source": [
        "## Environment setup"
      ],
      "cell_type": "markdown"
    },
    {
      "metadata": {},
      "source": "%pip install -q \"labelbox[data]\"",
      "cell_type": "code",
      "outputs": [],
      "execution_count": null
    },
    {
      "metadata": {},
      "source": "import uuid\nimport requests\nimport labelbox as lb\nimport labelbox.types as lb_types",
      "cell_type": "code",
      "outputs": [],
      "execution_count": null
    },
    {
      "metadata": {},
      "source": [
        "## Replace with your API Key\n",
        "Guides on [Create an API key](https://docs.labelbox.com/docs/create-an-api-key)"
      ],
      "cell_type": "markdown"
    },
    {
      "metadata": {},
      "source": "API_KEY = \"\"\nclient = lb.Client(API_KEY)",
      "cell_type": "code",
      "outputs": [],
      "execution_count": null
    },
    {
      "metadata": {},
      "source": [
        "## Supported Predictions"
      ],
      "cell_type": "markdown"
    },
    {
      "metadata": {},
      "source": [
        "### Classification: Radio (single-choice)"
      ],
      "cell_type": "markdown"
    },
    {
      "metadata": {},
      "source": "radio_prediction = lb_types.ClassificationAnnotation(\n    name=\"radio_question\",\n    value=lb_types.Radio(answer=lb_types.ClassificationAnswer(\n        name=\"second_radio_answer\",\n        confidence=0.5,\n        custom_metrics=[\n            {\n                \"name\": \"iou\",\n                \"value\": 0.1\n            },\n            {\n                \"name\": \"f1\",\n                \"value\": 0.33\n            },\n            {\n                \"name\": \"precision\",\n                \"value\": 0.55\n            },\n            {\n                \"name\": \"recall\",\n                \"value\": 0.33\n            },\n            {\n                \"name\": \"tagsCount\",\n                \"value\": 43\n            },\n            {\n                \"name\": \"metric_with_a_very_long_name\",\n                \"value\": 0.334332\n            },\n        ],\n    )),\n)\n\n# NDJSON\nradio_prediction_ndjson = {\n    \"name\": \"radio_question\",\n    \"answer\": {\n        \"name\":\n            \"first_radio_answer\",\n        \"confidence\":\n            0.5,\n        \"customMetrics\": [\n            {\n                \"name\": \"iou\",\n                \"value\": 0.1\n            },\n            {\n                \"name\": \"f1\",\n                \"value\": 0.33\n            },\n            {\n                \"name\": \"precision\",\n                \"value\": 0.55\n            },\n            {\n                \"name\": \"recall\",\n                \"value\": 0.33\n            },\n            {\n                \"name\": \"tagsCount\",\n                \"value\": 43\n            },\n            {\n                \"name\": \"metric_with_a_very_long_name\",\n                \"value\": 0.334332\n            },\n        ],\n    },\n}",
      "cell_type": "code",
      "outputs": [],
      "execution_count": null
    },
    {
      "metadata": {},
      "source": [
        "### Classification: checklist (multi-choice)"
      ],
      "cell_type": "markdown"
    },
    {
      "metadata": {},
      "source": "checklist_prediction = lb_types.ClassificationAnnotation(\n    name=\"checklist_question\",\n    value=lb_types.Checklist(answer=[\n        lb_types.ClassificationAnswer(\n            name=\"first_checklist_answer\",\n            confidence=0.5,\n            custom_metrics=[\n                {\n                    \"name\": \"iou\",\n                    \"value\": 0.5\n                },\n                {\n                    \"name\": \"f1\",\n                    \"value\": 0.33\n                },\n                {\n                    \"name\": \"precision\",\n                    \"value\": 0.55\n                },\n                {\n                    \"name\": \"recall\",\n                    \"value\": 0.33\n                },\n                {\n                    \"name\": \"tagsCount\",\n                    \"value\": 43\n                },\n                {\n                    \"name\": \"metric_with_a_very_long_name\",\n                    \"value\": 0.334332\n                },\n            ],\n        ),\n        lb_types.ClassificationAnswer(\n            name=\"second_checklist_answer\",\n            confidence=0.5,\n            custom_metrics=[\n                {\n                    \"name\": \"iou\",\n                    \"value\": 0.5\n                },\n                {\n                    \"name\": \"f1\",\n                    \"value\": 0.33\n                },\n                {\n                    \"name\": \"precision\",\n                    \"value\": 0.55\n                },\n                {\n                    \"name\": \"recall\",\n                    \"value\": 0.33\n                },\n                {\n                    \"name\": \"tagsCount\",\n                    \"value\": 43\n                },\n                {\n                    \"name\": \"metric_with_a_very_long_name\",\n                    \"value\": 0.334332\n                },\n            ],\n        ),\n    ]),\n)\nchecklist_prediction_ndjson = {\n    \"name\":\n        \"checklist_question\",\n    \"answer\": [\n        {\n            \"name\":\n                \"first_checklist_answer\",\n            \"confidence\":\n                0.5,\n            \"customMetrics\": [\n                {\n                    \"name\": \"iou\",\n                    \"value\": 0.5\n                },\n                {\n                    \"name\": \"f1\",\n                    \"value\": 0.33\n                },\n                {\n                    \"name\": \"precision\",\n                    \"value\": 0.55\n                },\n                {\n                    \"name\": \"recall\",\n                    \"value\": 0.33\n                },\n                {\n                    \"name\": \"tagsCount\",\n                    \"value\": 43\n                },\n                {\n                    \"name\": \"metric_with_a_very_long_name\",\n                    \"value\": 0.334332\n                },\n            ],\n        },\n        {\n            \"name\":\n                \"second_checklist_answer\",\n            \"confidence\":\n                0.5,\n            \"customMetrics\": [\n                {\n                    \"name\": \"iou\",\n                    \"value\": 0.5\n                },\n                {\n                    \"name\": \"f1\",\n                    \"value\": 0.33\n                },\n                {\n                    \"name\": \"precision\",\n                    \"value\": 0.55\n                },\n                {\n                    \"name\": \"recall\",\n                    \"value\": 0.33\n                },\n                {\n                    \"name\": \"tagsCount\",\n                    \"value\": 43\n                },\n                {\n                    \"name\": \"metric_with_a_very_long_name\",\n                    \"value\": 0.334332\n                },\n            ],\n        },\n    ],\n}",
      "cell_type": "code",
      "outputs": [],
      "execution_count": null
    },
    {
      "metadata": {},
      "source": [
        "### Classification: Nested radio and checklist"
      ],
      "cell_type": "markdown"
    },
    {
      "metadata": {},
      "source": "nested_radio_prediction = lb_types.ClassificationAnnotation(\n    name=\"nested_radio_question\",\n    value=lb_types.Radio(answer=lb_types.ClassificationAnswer(\n        name=\"first_radio_answer\",\n        confidence=0.5,\n        custom_metrics=[\n            {\n                \"name\": \"iou\",\n                \"value\": 0.5\n            },\n            {\n                \"name\": \"f1\",\n                \"value\": 0.33\n            },\n            {\n                \"name\": \"precision\",\n                \"value\": 0.55\n            },\n            {\n                \"name\": \"recall\",\n                \"value\": 0.33\n            },\n            {\n                \"name\": \"tagsCount\",\n                \"value\": 43\n            },\n            {\n                \"name\": \"metric_with_a_very_long_name\",\n                \"value\": 0.334332\n            },\n        ],\n        classifications=[\n            lb_types.ClassificationAnnotation(\n                name=\"sub_radio_question\",\n                value=lb_types.Radio(answer=lb_types.ClassificationAnswer(\n                    name=\"first_sub_radio_answer\",\n                    confidence=0.5,\n                    custom_metrics=[\n                        {\n                            \"name\": \"iou\",\n                            \"value\": 0.5\n                        },\n                        {\n                            \"name\": \"f1\",\n                            \"value\": 0.33\n                        },\n                        {\n                            \"name\": \"precision\",\n                            \"value\": 0.55\n                        },\n                        {\n                            \"name\": \"recall\",\n                            \"value\": 0.33\n                        },\n                        {\n                            \"name\": \"tagsCount\",\n                            \"value\": 43\n                        },\n                        {\n                            \"name\": \"metric_with_a_very_long_name\",\n                            \"value\": 0.334332,\n                        },\n                    ],\n                )),\n            )\n        ],\n    )),\n)\n\nnested_radio_prediction_ndjson = {\n    \"name\":\n        \"nested_radio_question\",\n    \"confidence\":\n        0.5,\n    \"answer\": {\n        \"name\":\n            \"first_radio_answer\",\n        \"confidence\":\n            0.5,\n        \"customMetrics\": [\n            {\n                \"name\": \"iou\",\n                \"value\": 0.5\n            },\n            {\n                \"name\": \"f1\",\n                \"value\": 0.33\n            },\n            {\n                \"name\": \"precision\",\n                \"value\": 0.55\n            },\n            {\n                \"name\": \"recall\",\n                \"value\": 0.33\n            },\n            {\n                \"name\": \"tagsCount\",\n                \"value\": 43\n            },\n            {\n                \"name\": \"metric_with_a_very_long_name\",\n                \"value\": 0.334332\n            },\n        ],\n    },\n    \"classifications\": [{\n        \"name\": \"sub_radio_question\",\n        \"answer\": {\n            \"name\":\n                \"first_sub_radio_answer\",\n            \"confidence\":\n                0.5,\n            \"customMetrics\": [\n                {\n                    \"name\": \"iou\",\n                    \"value\": 0.5\n                },\n                {\n                    \"name\": \"f1\",\n                    \"value\": 0.33\n                },\n                {\n                    \"name\": \"precision\",\n                    \"value\": 0.55\n                },\n                {\n                    \"name\": \"recall\",\n                    \"value\": 0.33\n                },\n                {\n                    \"name\": \"tagsCount\",\n                    \"value\": 43\n                },\n                {\n                    \"name\": \"metric_with_a_very_long_name\",\n                    \"value\": 0.334332\n                },\n            ],\n        },\n    }],\n}\n\nnested_checklist_prediction = lb_types.ClassificationAnnotation(\n    name=\"nested_checklist_question\",\n    value=lb_types.Checklist(answer=[\n        lb_types.ClassificationAnswer(\n            name=\"first_checklist_answer\",\n            confidence=0.5,\n            custom_metrics=[\n                {\n                    \"name\": \"iou\",\n                    \"value\": 0.5\n                },\n                {\n                    \"name\": \"f1\",\n                    \"value\": 0.33\n                },\n                {\n                    \"name\": \"precision\",\n                    \"value\": 0.55\n                },\n                {\n                    \"name\": \"recall\",\n                    \"value\": 0.33\n                },\n                {\n                    \"name\": \"tagsCount\",\n                    \"value\": 43\n                },\n                {\n                    \"name\": \"metric_with_a_very_long_name\",\n                    \"value\": 0.334332\n                },\n            ],\n            classifications=[\n                lb_types.ClassificationAnnotation(\n                    name=\"sub_checklist_question\",\n                    value=lb_types.Checklist(answer=[\n                        lb_types.ClassificationAnswer(\n                            name=\"first_sub_checklist_answer\",\n                            confidence=0.5,\n                            custom_metrics=[\n                                {\n                                    \"name\": \"iou\",\n                                    \"value\": 0.5\n                                },\n                                {\n                                    \"name\": \"f1\",\n                                    \"value\": 0.33\n                                },\n                                {\n                                    \"name\": \"precision\",\n                                    \"value\": 0.55\n                                },\n                                {\n                                    \"name\": \"recall\",\n                                    \"value\": 0.33\n                                },\n                                {\n                                    \"name\": \"tagsCount\",\n                                    \"value\": 43\n                                },\n                                {\n                                    \"name\": \"metric_with_a_very_long_name\",\n                                    \"value\": 0.334332,\n                                },\n                            ],\n                        )\n                    ]),\n                )\n            ],\n        )\n    ]),\n)\n\nnested_checklist_prediction_ndjson = {\n    \"name\":\n        \"nested_checklist_question\",\n    \"confidence\":\n        0.5,\n    \"answer\": [{\n        \"name\":\n            \"first_checklist_answer\",\n        \"confidence\":\n            0.5,\n        \"customMetrics\": [\n            {\n                \"name\": \"iou\",\n                \"value\": 0.5\n            },\n            {\n                \"name\": \"f1\",\n                \"value\": 0.33\n            },\n            {\n                \"name\": \"precision\",\n                \"value\": 0.55\n            },\n            {\n                \"name\": \"recall\",\n                \"value\": 0.33\n            },\n            {\n                \"name\": \"tagsCount\",\n                \"value\": 43\n            },\n            {\n                \"name\": \"metric_with_a_very_long_name\",\n                \"value\": 0.334332\n            },\n        ],\n        \"classifications\": [{\n            \"name\": \"sub_checklist_question\",\n            \"answer\": {\n                \"name\":\n                    \"first_sub_checklist_answer\",\n                \"confidence\":\n                    0.5,\n                \"customMetrics\": [\n                    {\n                        \"name\": \"iou\",\n                        \"value\": 0.5\n                    },\n                    {\n                        \"name\": \"f1\",\n                        \"value\": 0.33\n                    },\n                    {\n                        \"name\": \"precision\",\n                        \"value\": 0.55\n                    },\n                    {\n                        \"name\": \"recall\",\n                        \"value\": 0.33\n                    },\n                    {\n                        \"name\": \"tagsCount\",\n                        \"value\": 43\n                    },\n                    {\n                        \"name\": \"metric_with_a_very_long_name\",\n                        \"value\": 0.334332,\n                    },\n                ],\n            },\n        }],\n    }],\n}",
      "cell_type": "code",
      "outputs": [],
      "execution_count": null
    },
    {
      "metadata": {},
      "source": [
        "### Bounding Box"
      ],
      "cell_type": "markdown"
    },
    {
      "metadata": {},
      "source": "bbox_prediction = lb_types.ObjectAnnotation(\n    name=\"bounding_box\",\n    confidence=0.5,\n    custom_metrics=[\n        {\n            \"name\": \"iou\",\n            \"value\": 0.5\n        },\n        {\n            \"name\": \"f1\",\n            \"value\": 0.33\n        },\n        {\n            \"name\": \"precision\",\n            \"value\": 0.55\n        },\n        {\n            \"name\": \"recall\",\n            \"value\": 0.33\n        },\n        {\n            \"name\": \"tagsCount\",\n            \"value\": 43\n        },\n        {\n            \"name\": \"metric_with_a_very_long_name\",\n            \"value\": 0.334332\n        },\n    ],\n    value=lb_types.Rectangle(\n        start=lb_types.Point(x=1690, y=977),  #  x = left, y = top\n        end=lb_types.Point(x=1915,\n                           y=1307),  # x= left + width , y = top + height\n    ),\n)\n\nbbox_prediction_ndjson = {\n    \"name\": \"bounding_box\",\n    \"confidence\": 0.5,\n    \"customMetrics\": [\n        {\n            \"name\": \"iou\",\n            \"value\": 0.5\n        },\n        {\n            \"name\": \"f1\",\n            \"value\": 0.33\n        },\n        {\n            \"name\": \"precision\",\n            \"value\": 0.55\n        },\n        {\n            \"name\": \"recall\",\n            \"value\": 0.33\n        },\n        {\n            \"name\": \"tagsCount\",\n            \"value\": 43\n        },\n        {\n            \"name\": \"metric_with_a_very_long_name\",\n            \"value\": 0.334332\n        },\n    ],\n    \"bbox\": {\n        \"top\": 977,\n        \"left\": 1690,\n        \"height\": 330,\n        \"width\": 225\n    },\n}",
      "cell_type": "code",
      "outputs": [],
      "execution_count": null
    },
    {
      "metadata": {},
      "source": [
        "### Bounding box with nested classification "
      ],
      "cell_type": "markdown"
    },
    {
      "metadata": {},
      "source": "bbox_with_radio_subclass_prediction = lb_types.ObjectAnnotation(\n    name=\"bbox_with_radio_subclass\",\n    confidence=0.5,\n    custom_metrics=[\n        {\n            \"name\": \"iou\",\n            \"value\": 0.5\n        },\n        {\n            \"name\": \"f1\",\n            \"value\": 0.2\n        },\n        {\n            \"name\": \"precision\",\n            \"value\": 0.1\n        },\n        {\n            \"name\": \"recall\",\n            \"value\": 0.3\n        },\n        {\n            \"name\": \"tagsCount\",\n            \"value\": 23\n        },\n        {\n            \"name\": \"metric_with_a_very_long_name\",\n            \"value\": 0.334332\n        },\n    ],\n    value=lb_types.Rectangle(\n        start=lb_types.Point(x=541, y=933),  #  x = left, y = top\n        end=lb_types.Point(x=871, y=1124),  # x= left + width , y = top + height\n    ),\n    classifications=[\n        lb_types.ClassificationAnnotation(\n            name=\"sub_radio_question\",\n            value=lb_types.Radio(answer=lb_types.ClassificationAnswer(\n                name=\"first_sub_radio_answer\",\n                confidence=0.5,\n                custom_metrics=[\n                    {\n                        \"name\": \"iou\",\n                        \"value\": 0.5\n                    },\n                    {\n                        \"name\": \"f1\",\n                        \"value\": 0.2\n                    },\n                    {\n                        \"name\": \"precision\",\n                        \"value\": 0.1\n                    },\n                    {\n                        \"name\": \"recall\",\n                        \"value\": 0.3\n                    },\n                    {\n                        \"name\": \"tagsCount\",\n                        \"value\": 23\n                    },\n                    {\n                        \"name\": \"metric_with_a_very_long_name\",\n                        \"value\": 0.334332,\n                    },\n                ],\n            )),\n        )\n    ],\n)\n## NDJSON\nbbox_with_radio_subclass_prediction_ndjson = {\n    \"name\": \"bbox_with_radio_subclass\",\n    \"confidence\": 0.5,\n    \"customMetrics\": [\n        {\n            \"name\": \"iou\",\n            \"value\": 0.5\n        },\n        {\n            \"name\": \"f1\",\n            \"value\": 0.2\n        },\n        {\n            \"name\": \"precision\",\n            \"value\": 0.1\n        },\n        {\n            \"name\": \"recall\",\n            \"value\": 0.3\n        },\n        {\n            \"name\": \"tagsCount\",\n            \"value\": 23\n        },\n        {\n            \"name\": \"metric_with_a_very_long_name\",\n            \"value\": 0.334332\n        },\n    ],\n    \"classifications\": [{\n        \"name\": \"sub_radio_question\",\n        \"answer\": {\n            \"name\":\n                \"first_sub_radio_answer\",\n            \"confidence\":\n                0.5,\n            \"customMetrics\": [\n                {\n                    \"name\": \"iou\",\n                    \"value\": 0.5\n                },\n                {\n                    \"name\": \"f1\",\n                    \"value\": 0.2\n                },\n                {\n                    \"name\": \"precision\",\n                    \"value\": 0.1\n                },\n                {\n                    \"name\": \"recall\",\n                    \"value\": 0.3\n                },\n                {\n                    \"name\": \"tagsCount\",\n                    \"value\": 23\n                },\n                {\n                    \"name\": \"metric_with_a_very_long_name\",\n                    \"value\": 0.334332\n                },\n            ],\n        },\n    }],\n    \"bbox\": {\n        \"top\": 933,\n        \"left\": 541,\n        \"height\": 191,\n        \"width\": 330\n    },\n}",
      "cell_type": "code",
      "outputs": [],
      "execution_count": null
    },
    {
      "metadata": {},
      "source": [
        "### Polygon"
      ],
      "cell_type": "markdown"
    },
    {
      "metadata": {},
      "source": "# Python Anotation\npolygon_prediction = lb_types.ObjectAnnotation(\n    name=\"polygon\",\n    confidence=0.5,\n    custom_metrics=[\n        {\n            \"name\": \"iou\",\n            \"value\": 0.5\n        },\n        {\n            \"name\": \"f1\",\n            \"value\": 0.33\n        },\n        {\n            \"name\": \"precision\",\n            \"value\": 0.55\n        },\n        {\n            \"name\": \"recall\",\n            \"value\": 0.33\n        },\n        {\n            \"name\": \"tagsCount\",\n            \"value\": 43\n        },\n        {\n            \"name\": \"metric_with_a_very_long_name\",\n            \"value\": 0.334332\n        },\n    ],\n    value=lb_types.Polygon(points=[\n        lb_types.Point(x=1489.581, y=183.934),\n        lb_types.Point(x=2278.306, y=256.885),\n        lb_types.Point(x=2428.197, y=200.437),\n        lb_types.Point(x=2560.0, y=335.419),\n        lb_types.Point(x=2557.386, y=503.165),\n        lb_types.Point(x=2320.596, y=503.103),\n        lb_types.Point(x=2156.083, y=628.943),\n        lb_types.Point(x=2161.111, y=785.519),\n        lb_types.Point(x=2002.115, y=894.647),\n        lb_types.Point(x=1838.456, y=877.874),\n        lb_types.Point(x=1436.53, y=874.636),\n        lb_types.Point(x=1411.403, y=758.579),\n        lb_types.Point(x=1353.853, y=751.74),\n        lb_types.Point(x=1345.264, y=453.461),\n        lb_types.Point(x=1426.011, y=421.129),\n    ]),\n)\n\npolygon_prediction_ndjson = {\n    \"name\":\n        \"polygon\",\n    \"confidence\":\n        0.5,\n    \"customMetrics\": [\n        {\n            \"name\": \"iou\",\n            \"value\": 0.5\n        },\n        {\n            \"name\": \"f1\",\n            \"value\": 0.33\n        },\n        {\n            \"name\": \"precision\",\n            \"value\": 0.55\n        },\n        {\n            \"name\": \"recall\",\n            \"value\": 0.33\n        },\n        {\n            \"name\": \"tagsCount\",\n            \"value\": 43\n        },\n        {\n            \"name\": \"metric_with_a_very_long_name\",\n            \"value\": 0.334332\n        },\n    ],\n    \"polygon\": [\n        {\n            \"x\": 1489.581,\n            \"y\": 183.934\n        },\n        {\n            \"x\": 2278.306,\n            \"y\": 256.885\n        },\n        {\n            \"x\": 2428.197,\n            \"y\": 200.437\n        },\n        {\n            \"x\": 2560.0,\n            \"y\": 335.419\n        },\n        {\n            \"x\": 2557.386,\n            \"y\": 503.165\n        },\n        {\n            \"x\": 2320.596,\n            \"y\": 503.103\n        },\n        {\n            \"x\": 2156.083,\n            \"y\": 628.943\n        },\n        {\n            \"x\": 2161.111,\n            \"y\": 785.519\n        },\n        {\n            \"x\": 2002.115,\n            \"y\": 894.647\n        },\n        {\n            \"x\": 1838.456,\n            \"y\": 877.874\n        },\n        {\n            \"x\": 1436.53,\n            \"y\": 874.636\n        },\n        {\n            \"x\": 1411.403,\n            \"y\": 758.579\n        },\n        {\n            \"x\": 1353.853,\n            \"y\": 751.74\n        },\n        {\n            \"x\": 1345.264,\n            \"y\": 453.461\n        },\n        {\n            \"x\": 1426.011,\n            \"y\": 421.129\n        },\n        {\n            \"x\": 1489.581,\n            \"y\": 183.934\n        },\n    ],\n}",
      "cell_type": "code",
      "outputs": [],
      "execution_count": null
    },
    {
      "metadata": {},
      "source": [
        "### Classification: Free-form text"
      ],
      "cell_type": "markdown"
    },
    {
      "metadata": {},
      "source": "# Python annotation\ntext_annotation = lb_types.ClassificationAnnotation(\n    name=\"free_text\",\n    value=lb_types.Text(\n        answer=\"sample text\",\n        confidence=0.5,\n        custom_metrics=[\n            {\n                \"name\": \"iou\",\n                \"value\": 0.5\n            },\n            {\n                \"name\": \"f1\",\n                \"value\": 0.33\n            },\n            {\n                \"name\": \"precision\",\n                \"value\": 0.55\n            },\n            {\n                \"name\": \"recall\",\n                \"value\": 0.33\n            },\n            {\n                \"name\": \"tagsCount\",\n                \"value\": 43\n            },\n            {\n                \"name\": \"metric_with_a_very_long_name\",\n                \"value\": 0.334332\n            },\n        ],\n    ),\n)\n\ntext_annotation_ndjson = {\n    \"name\": \"free_text\",\n    \"answer\": \"sample text\",\n    \"customMetrics\": [\n        {\n            \"name\": \"iou\",\n            \"value\": 0.5\n        },\n        {\n            \"name\": \"f1\",\n            \"value\": 0.33\n        },\n        {\n            \"name\": \"precision\",\n            \"value\": 0.55\n        },\n        {\n            \"name\": \"recall\",\n            \"value\": 0.33\n        },\n        {\n            \"name\": \"tagsCount\",\n            \"value\": 43\n        },\n        {\n            \"name\": \"metric_with_a_very_long_name\",\n            \"value\": 0.334332\n        },\n    ],\n    \"confidence\": 0.5,\n}",
      "cell_type": "code",
      "outputs": [],
      "execution_count": null
    },
    {
      "metadata": {},
      "source": [
        "### Point"
      ],
      "cell_type": "markdown"
    },
    {
      "metadata": {},
      "source": "# Python Annotation\npoint_prediction = lb_types.ObjectAnnotation(\n    name=\"point\",\n    confidence=0.5,\n    custom_metrics=[\n        {\n            \"name\": \"iou\",\n            \"value\": 0.5\n        },\n        {\n            \"name\": \"f1\",\n            \"value\": 0.33\n        },\n        {\n            \"name\": \"precision\",\n            \"value\": 0.55\n        },\n        {\n            \"name\": \"recall\",\n            \"value\": 0.33\n        },\n        {\n            \"name\": \"tagsCount\",\n            \"value\": 43\n        },\n        {\n            \"name\": \"metric_with_a_very_long_name\",\n            \"value\": 0.334332\n        },\n    ],\n    value=lb_types.Point(x=1166.606, y=1441.768),\n)\n\npoint_prediction_ndjson = {\n    \"name\": \"point\",\n    \"confidence\": 0.5,\n    \"customMetrics\": [\n        {\n            \"name\": \"iou\",\n            \"value\": 0.5\n        },\n        {\n            \"name\": \"f1\",\n            \"value\": 0.33\n        },\n        {\n            \"name\": \"precision\",\n            \"value\": 0.55\n        },\n        {\n            \"name\": \"recall\",\n            \"value\": 0.33\n        },\n        {\n            \"name\": \"tagsCount\",\n            \"value\": 43\n        },\n        {\n            \"name\": \"metric_with_a_very_long_name\",\n            \"value\": 0.334332\n        },\n    ],\n    \"classifications\": [],\n    \"point\": {\n        \"x\": 1166.606,\n        \"y\": 1441.768\n    },\n}",
      "cell_type": "code",
      "outputs": [],
      "execution_count": null
    },
    {
      "metadata": {},
      "source": [
        "### Polyline"
      ],
      "cell_type": "markdown"
    },
    {
      "metadata": {},
      "source": "polyline_prediction = lb_types.ObjectAnnotation(\n    name=\"polyline\",\n    confidence=0.5,\n    custom_metrics=[\n        {\n            \"name\": \"iou\",\n            \"value\": 0.5\n        },\n        {\n            \"name\": \"f1\",\n            \"value\": 0.33\n        },\n        {\n            \"name\": \"precision\",\n            \"value\": 0.55\n        },\n        {\n            \"name\": \"recall\",\n            \"value\": 0.33\n        },\n        {\n            \"name\": \"tagsCount\",\n            \"value\": 43\n        },\n        {\n            \"name\": \"metric_with_a_very_long_name\",\n            \"value\": 0.334332\n        },\n    ],\n    value=lb_types.Line(points=[\n        lb_types.Point(x=2534.353, y=249.471),\n        lb_types.Point(x=2429.492, y=182.092),\n        lb_types.Point(x=2294.322, y=221.962),\n        lb_types.Point(x=2224.491, y=180.463),\n        lb_types.Point(x=2136.123, y=204.716),\n        lb_types.Point(x=1712.247, y=173.949),\n        lb_types.Point(x=1703.838, y=84.438),\n        lb_types.Point(x=1579.772, y=82.61),\n        lb_types.Point(x=1583.442, y=167.552),\n        lb_types.Point(x=1478.869, y=164.903),\n        lb_types.Point(x=1418.941, y=318.149),\n        lb_types.Point(x=1243.128, y=400.815),\n        lb_types.Point(x=1022.067, y=319.007),\n        lb_types.Point(x=892.367, y=379.216),\n        lb_types.Point(x=670.273, y=364.408),\n        lb_types.Point(x=613.114, y=288.16),\n        lb_types.Point(x=377.559, y=238.251),\n        lb_types.Point(x=368.087, y=185.064),\n        lb_types.Point(x=246.557, y=167.286),\n        lb_types.Point(x=236.648, y=285.61),\n        lb_types.Point(x=90.929, y=326.412),\n    ]),\n)\n\npolyline_prediction_ndjson = {\n    \"name\":\n        \"polyline\",\n    \"confidence\":\n        0.5,\n    \"customMetrics\": [\n        {\n            \"name\": \"iou\",\n            \"value\": 0.5\n        },\n        {\n            \"name\": \"f1\",\n            \"value\": 0.33\n        },\n        {\n            \"name\": \"precision\",\n            \"value\": 0.55\n        },\n        {\n            \"name\": \"recall\",\n            \"value\": 0.33\n        },\n        {\n            \"name\": \"tagsCount\",\n            \"value\": 43\n        },\n        {\n            \"name\": \"metric_with_a_very_long_name\",\n            \"value\": 0.334332\n        },\n    ],\n    \"classifications\": [],\n    \"line\": [\n        {\n            \"x\": 2534.353,\n            \"y\": 249.471\n        },\n        {\n            \"x\": 2429.492,\n            \"y\": 182.092\n        },\n        {\n            \"x\": 2294.322,\n            \"y\": 221.962\n        },\n        {\n            \"x\": 2224.491,\n            \"y\": 180.463\n        },\n        {\n            \"x\": 2136.123,\n            \"y\": 204.716\n        },\n        {\n            \"x\": 1712.247,\n            \"y\": 173.949\n        },\n        {\n            \"x\": 1703.838,\n            \"y\": 84.438\n        },\n        {\n            \"x\": 1579.772,\n            \"y\": 82.61\n        },\n        {\n            \"x\": 1583.442,\n            \"y\": 167.552\n        },\n        {\n            \"x\": 1478.869,\n            \"y\": 164.903\n        },\n        {\n            \"x\": 1418.941,\n            \"y\": 318.149\n        },\n        {\n            \"x\": 1243.128,\n            \"y\": 400.815\n        },\n        {\n            \"x\": 1022.067,\n            \"y\": 319.007\n        },\n        {\n            \"x\": 892.367,\n            \"y\": 379.216\n        },\n        {\n            \"x\": 670.273,\n            \"y\": 364.408\n        },\n        {\n            \"x\": 613.114,\n            \"y\": 288.16\n        },\n        {\n            \"x\": 377.559,\n            \"y\": 238.251\n        },\n        {\n            \"x\": 368.087,\n            \"y\": 185.064\n        },\n        {\n            \"x\": 246.557,\n            \"y\": 167.286\n        },\n        {\n            \"x\": 236.648,\n            \"y\": 285.61\n        },\n        {\n            \"x\": 90.929,\n            \"y\": 326.412\n        },\n    ],\n}",
      "cell_type": "code",
      "outputs": [],
      "execution_count": null
    },
    {
      "metadata": {},
      "source": [
        "## Step 1: Import data rows into Catalog"
      ],
      "cell_type": "markdown"
    },
    {
      "metadata": {},
      "source": "# send a sample image as batch to the project\nglobal_key = \"2560px-Kitano_Street_Kobe01s5s4110.jpeg\" + str(uuid.uuid4())\ntest_img_urls = {\n    \"row_data\":\n        \"https://storage.googleapis.com/labelbox-datasets/image_sample_data/2560px-Kitano_Street_Kobe01s5s4110.jpeg\",\n    \"global_key\":\n        global_key,\n}\n\ndataset = client.create_dataset(name=\"Custom metrics demo\",\n                                iam_integration=None)\ntask = dataset.create_data_rows([test_img_urls])\n\nprint(f\"Failed data rows: {task.failed_data_rows}\")\nprint(f\"Errors: {task.errors}\")\n\nif task.errors:\n    for error in task.errors:\n        if (\"Duplicate global key\" in error[\"message\"] and\n                dataset.row_count == 0):\n            # If the global key already  exists in the workspace the dataset will be created empty, so we can delete it.\n            print(f\"Deleting empty dataset: {dataset}\")\n            dataset.delete()",
      "cell_type": "code",
      "outputs": [],
      "execution_count": null
    },
    {
      "metadata": {},
      "source": [
        "## Step 2: Create/select an Ontology for your model predictions\n",
        "Your project should have the correct ontology setup with all the tools and classifications supported for your annotations, and the tool names and classification instructions should match the name/instructions fields in your annotations to ensure the correct feature schemas are matched.\n"
      ],
      "cell_type": "markdown"
    },
    {
      "metadata": {},
      "source": "ontology_builder = lb.OntologyBuilder(\n    classifications=[  # List of Classification objects\n        lb.Classification(\n            class_type=lb.Classification.Type.RADIO,\n            name=\"radio_question\",\n            options=[\n                lb.Option(value=\"first_radio_answer\"),\n                lb.Option(value=\"second_radio_answer\"),\n            ],\n        ),\n        lb.Classification(\n            class_type=lb.Classification.Type.CHECKLIST,\n            name=\"checklist_question\",\n            options=[\n                lb.Option(value=\"first_checklist_answer\"),\n                lb.Option(value=\"second_checklist_answer\"),\n            ],\n        ),\n        lb.Classification(class_type=lb.Classification.Type.TEXT,\n                          name=\"free_text\"),\n        lb.Classification(\n            class_type=lb.Classification.Type.RADIO,\n            name=\"nested_radio_question\",\n            options=[\n                lb.Option(\n                    \"first_radio_answer\",\n                    options=[\n                        lb.Classification(\n                            class_type=lb.Classification.Type.RADIO,\n                            name=\"sub_radio_question\",\n                            options=[lb.Option(\"first_sub_radio_answer\")],\n                        )\n                    ],\n                )\n            ],\n        ),\n        lb.Classification(\n            class_type=lb.Classification.Type.CHECKLIST,\n            name=\"nested_checklist_question\",\n            options=[\n                lb.Option(\n                    \"first_checklist_answer\",\n                    options=[\n                        lb.Classification(\n                            class_type=lb.Classification.Type.CHECKLIST,\n                            name=\"sub_checklist_question\",\n                            options=[lb.Option(\"first_sub_checklist_answer\")],\n                        )\n                    ],\n                )\n            ],\n        ),\n    ],\n    tools=[  # List of tools\n        lb.Tool(tool=lb.Tool.Type.BBOX, name=\"bounding_box\"),\n        lb.Tool(\n            tool=lb.Tool.Type.BBOX,\n            name=\"bbox_with_radio_subclass\",\n            classifications=[\n                lb.Classification(\n                    class_type=lb.Classification.Type.RADIO,\n                    name=\"sub_radio_question\",\n                    options=[lb.Option(value=\"first_sub_radio_answer\")],\n                ),\n            ],\n        ),\n        lb.Tool(tool=lb.Tool.Type.POLYGON, name=\"polygon\"),\n        lb.Tool(tool=lb.Tool.Type.POINT, name=\"point\"),\n        lb.Tool(tool=lb.Tool.Type.LINE, name=\"polyline\"),\n    ],\n)\n\nontology = client.create_ontology(\n    \"Image Prediction Import Demo\",\n    ontology_builder.asdict(),\n    media_type=lb.MediaType.Image,\n)",
      "cell_type": "code",
      "outputs": [],
      "execution_count": null
    },
    {
      "metadata": {},
      "source": [
        "## Step 3: Create a Model and Model Run"
      ],
      "cell_type": "markdown"
    },
    {
      "metadata": {},
      "source": "# create Model\nmodel = client.create_model(\n    name=\"model_with_aggregated_custom_metrics\" + str(uuid.uuid4()),\n    ontology_id=ontology.uid,\n)\n# create Model Run\nmodel_run = model.create_model_run(\"iteration 1\")",
      "cell_type": "code",
      "outputs": [],
      "execution_count": null
    },
    {
      "metadata": {},
      "source": [
        "## Step 4: Send data rows to the Model Run"
      ],
      "cell_type": "markdown"
    },
    {
      "metadata": {},
      "source": "model_run.upsert_data_rows(global_keys=[global_key])",
      "cell_type": "code",
      "outputs": [],
      "execution_count": null
    },
    {
      "metadata": {},
      "source": [
        "## Step 5. Create the predictions payload\n",
        "\n",
        "Create the prediction payload using the snippets of code in ***Supported Predictions*** section.\n",
        "\n",
        "The resulting label_ndjson should have exactly the same content for predictions that are supported by both (with exception of the uuid strings that are generated)"
      ],
      "cell_type": "markdown"
    },
    {
      "metadata": {},
      "source": "# Create a Label for predictions\nlabel_prediction = []\nlabel_prediction.append(\n    lb_types.Label(\n        data=lb_types.ImageData(global_key=global_key),\n        annotations=[\n            radio_prediction,\n            nested_radio_prediction,\n            checklist_prediction,\n            nested_checklist_prediction,\n            bbox_prediction,\n            bbox_with_radio_subclass_prediction,\n            polyline_prediction,\n            polygon_prediction,\n            point_prediction,\n            text_annotation,\n        ],\n    ))",
      "cell_type": "code",
      "outputs": [],
      "execution_count": null
    },
    {
      "metadata": {},
      "source": [
        "If using NDJSON"
      ],
      "cell_type": "markdown"
    },
    {
      "metadata": {},
      "source": "label_prediction_ndjson = []\n\nfor annot in [\n        radio_prediction_ndjson,\n        checklist_prediction_ndjson,\n        bbox_prediction_ndjson,\n        bbox_with_radio_subclass_prediction_ndjson,\n        polygon_prediction_ndjson,\n        point_prediction_ndjson,\n        polyline_prediction_ndjson,\n        text_annotation_ndjson,\n        nested_radio_prediction_ndjson,\n        nested_checklist_prediction_ndjson,\n]:\n    annot.update({\"dataRow\": {\"globalKey\": global_key}})\n    label_prediction_ndjson.append(annot)",
      "cell_type": "code",
      "outputs": [],
      "execution_count": null
    },
    {
      "metadata": {},
      "source": [
        "## Step 6. Upload the predictions payload to the Model Run"
      ],
      "cell_type": "markdown"
    },
    {
      "metadata": {},
      "source": "# Upload the prediction label to the Model Run\nupload_job_prediction = model_run.add_predictions(\n    name=\"prediction_upload_job\" + str(uuid.uuid4()),\n    predictions=label_prediction,\n)\n\n# Errors will appear for prediction uploads that failed.\nprint(\"Errors:\", upload_job_prediction.errors)",
      "cell_type": "code",
      "outputs": [],
      "execution_count": null
    },
    {
      "metadata": {},
      "source": [
        "## Step 7: Send annotations to a model run\n",
        "To visualize both annotations and predictions in the model run we will create a project with ground truth annotations.\n",
        "To send annotations to a Model Run, we must first import them into a project, create a label payload and then send them to the Model Run."
      ],
      "cell_type": "markdown"
    },
    {
      "metadata": {},
      "source": [
        "##### 7.1. Create a labelbox project"
      ],
      "cell_type": "markdown"
    },
    {
      "metadata": {},
      "source": "# Create a Labelbox project\nproject = client.create_project(name=\"image_prediction_many_kinds\",\n                                media_type=lb.MediaType.Image)\nproject.setup_editor(ontology)",
      "cell_type": "code",
      "outputs": [],
      "execution_count": null
    },
    {
      "metadata": {},
      "source": [
        "##### 7.2. Create a batch to send to the project"
      ],
      "cell_type": "markdown"
    },
    {
      "metadata": {},
      "source": "project.create_batch(\n    \"batch_predictions_demo\",  # Each batch in a project must have a unique name\n    global_keys=[\n        global_key\n    ],  # Paginated collection of data row objects, list of data row ids or global keys\n    priority=5,  # priority between 1(Highest) - 5(lowest)\n)",
      "cell_type": "code",
      "outputs": [],
      "execution_count": null
    },
    {
      "metadata": {},
      "source": [
        "##### 7.3 Create the annotations payload"
      ],
      "cell_type": "markdown"
    },
    {
      "metadata": {},
      "source": "########### Annotations ###########\nradio_annotation = lb_types.ClassificationAnnotation(\n    name=\"radio_question\",\n    value=lb_types.Radio(answer=lb_types.ClassificationAnswer(\n        name=\"second_radio_answer\")),\n)\n\nnested_radio_annotation = lb_types.ClassificationAnnotation(\n    name=\"nested_radio_question\",\n    value=lb_types.Radio(answer=lb_types.ClassificationAnswer(\n        name=\"first_radio_answer\",\n        classifications=[\n            lb_types.ClassificationAnnotation(\n                name=\"sub_radio_question\",\n                value=lb_types.Radio(answer=lb_types.ClassificationAnswer(\n                    name=\"first_sub_radio_answer\")),\n            )\n        ],\n    )),\n)\n\nnested_checklist_annotation = lb_types.ClassificationAnnotation(\n    name=\"nested_checklist_question\",\n    value=lb_types.Checklist(answer=[\n        lb_types.ClassificationAnswer(\n            name=\"first_checklist_answer\",\n            classifications=[\n                lb_types.ClassificationAnnotation(\n                    name=\"sub_checklist_question\",\n                    value=lb_types.Checklist(answer=[\n                        lb_types.ClassificationAnswer(\n                            name=\"first_sub_checklist_answer\")\n                    ]),\n                )\n            ],\n        )\n    ]),\n)\n\nchecklist_annotation = lb_types.ClassificationAnnotation(\n    name=\"checklist_question\",\n    value=lb_types.Checklist(answer=[\n        lb_types.ClassificationAnswer(name=\"first_checklist_answer\"),\n        lb_types.ClassificationAnswer(name=\"second_checklist_answer\"),\n    ]),\n)\n\nbbox_annotation = lb_types.ObjectAnnotation(\n    name=\"bounding_box\",\n    value=lb_types.Rectangle(\n        start=lb_types.Point(x=1690, y=977),  #  x = left, y = top\n        end=lb_types.Point(x=1915,\n                           y=1307),  # x= left + width , y = top + height\n    ),\n)\n\nbbox_with_radio_subclass_annotation = lb_types.ObjectAnnotation(\n    name=\"bbox_with_radio_subclass\",\n    value=lb_types.Rectangle(\n        start=lb_types.Point(x=541, y=933),  #  x = left, y = top\n        end=lb_types.Point(x=871, y=1124),  # x= left + width , y = top + height\n    ),\n    classifications=[\n        lb_types.ClassificationAnnotation(\n            name=\"sub_radio_question\",\n            value=lb_types.Radio(answer=lb_types.ClassificationAnswer(\n                name=\"first_sub_radio_answer\", confidence=0.5)),\n        )\n    ],\n)\n\npolygon_annotation = lb_types.ObjectAnnotation(\n    name=\"polygon\",\n    value=lb_types.Polygon(points=[\n        lb_types.Point(x=1489.581, y=183.934),\n        lb_types.Point(x=2278.306, y=256.885),\n        lb_types.Point(x=2428.197, y=200.437),\n        lb_types.Point(x=2560.0, y=335.419),\n        lb_types.Point(x=2557.386, y=503.165),\n        lb_types.Point(x=2320.596, y=503.103),\n        lb_types.Point(x=2156.083, y=628.943),\n        lb_types.Point(x=2161.111, y=785.519),\n        lb_types.Point(x=2002.115, y=894.647),\n        lb_types.Point(x=1838.456, y=877.874),\n        lb_types.Point(x=1436.53, y=874.636),\n        lb_types.Point(x=1411.403, y=758.579),\n        lb_types.Point(x=1353.853, y=751.74),\n        lb_types.Point(x=1345.264, y=453.461),\n        lb_types.Point(x=1426.011, y=421.129),\n    ]),\n)\n\ntext_annotation = lb_types.ClassificationAnnotation(\n    name=\"free_text\", value=lb_types.Text(answer=\"sample text\"))\n\npoint_annotation = lb_types.ObjectAnnotation(\n    name=\"point\",\n    value=lb_types.Point(x=1166.606, y=1441.768),\n)\n\npolyline_annotation = lb_types.ObjectAnnotation(\n    name=\"polyline\",\n    value=lb_types.Line(points=[\n        lb_types.Point(x=2534.353, y=249.471),\n        lb_types.Point(x=2429.492, y=182.092),\n        lb_types.Point(x=2294.322, y=221.962),\n        lb_types.Point(x=2224.491, y=180.463),\n        lb_types.Point(x=2136.123, y=204.716),\n        lb_types.Point(x=1712.247, y=173.949),\n        lb_types.Point(x=1703.838, y=84.438),\n        lb_types.Point(x=1579.772, y=82.61),\n        lb_types.Point(x=1583.442, y=167.552),\n        lb_types.Point(x=1478.869, y=164.903),\n        lb_types.Point(x=1418.941, y=318.149),\n        lb_types.Point(x=1243.128, y=400.815),\n        lb_types.Point(x=1022.067, y=319.007),\n        lb_types.Point(x=892.367, y=379.216),\n        lb_types.Point(x=670.273, y=364.408),\n        lb_types.Point(x=613.114, y=288.16),\n        lb_types.Point(x=377.559, y=238.251),\n        lb_types.Point(x=368.087, y=185.064),\n        lb_types.Point(x=246.557, y=167.286),\n        lb_types.Point(x=236.648, y=285.61),\n        lb_types.Point(x=90.929, y=326.412),\n    ]),\n)",
      "cell_type": "code",
      "outputs": [],
      "execution_count": null
    },
    {
      "metadata": {},
      "source": [
        "##### 7.4. Create the label object"
      ],
      "cell_type": "markdown"
    },
    {
      "metadata": {},
      "source": "# Create a Label object by identifying the applicable data row in Labelbox and providing a list of annotations\nlabel = []\nannotations = [\n    radio_annotation,\n    nested_radio_annotation,\n    checklist_annotation,\n    nested_checklist_annotation,\n    text_annotation,\n    bbox_annotation,\n    bbox_with_radio_subclass_annotation,\n    polygon_annotation,\n    point_annotation,\n    polyline_annotation,\n]\nlabel.append(\n    lb_types.Label(data=lb_types.ImageData(global_key=global_key),\n                   annotations=annotations))",
      "cell_type": "code",
      "outputs": [],
      "execution_count": null
    },
    {
      "metadata": {},
      "source": [
        "##### 7.5. Upload annotations to the project using Label Import"
      ],
      "cell_type": "markdown"
    },
    {
      "metadata": {},
      "source": "upload_job_annotation = lb.LabelImport.create_from_objects(\n    client=client,\n    project_id=project.uid,\n    name=\"annotation_import_\" + str(uuid.uuid4()),\n    labels=label,\n)\n\nupload_job_annotation.wait_until_done()\n# Errors will appear for annotation uploads that failed.\nprint(\"Errors:\", upload_job_annotation.errors)\nprint(\"Status of uploads: \", upload_job_annotation.statuses)",
      "cell_type": "code",
      "outputs": [],
      "execution_count": null
    },
    {
      "metadata": {},
      "source": [
        "##### 7.6 Send the annotations to the Model Run"
      ],
      "cell_type": "markdown"
    },
    {
      "metadata": {},
      "source": "model_run.upsert_labels(project_id=project.uid)",
      "cell_type": "code",
      "outputs": [],
      "execution_count": null
    },
    {
      "metadata": {},
      "source": [
        "## Optional deletions for cleanup\n"
      ],
      "cell_type": "markdown"
    },
    {
      "metadata": {},
      "source": "# project.delete()\n# dataset.delete()",
      "cell_type": "code",
      "outputs": [],
      "execution_count": null
    }
  ]
}