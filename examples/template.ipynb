{
 "cells": [
  {
   "cell_type": "markdown",
   "metadata": {},
   "source": [
    "# Labelbox Example SDK Template\n",
    "This notebook serves as a template to guide develop of Labelbox example notebooks. Review notebook [CONTRIBUTING.md](https://github.com/Labelbox/labelbox-python/blob/develop/examples/CONTRIBUTING.md) for more detailed information."
   ]
  },
  {
   "cell_type": "markdown",
   "metadata": {},
   "source": [
    "## Setup"
   ]
  },
  {
   "cell_type": "code",
   "execution_count": null,
   "metadata": {},
   "outputs": [],
   "source": [
    "%pip install -q \"labelbox[data]\"\n",
    "# Always install \"labelbox[data]\" over labelbox to ensure dependencies are installed correctly\n",
    "# Include other installs in this block with similar format: \"%pip install -q <package name>\""
   ]
  },
  {
   "cell_type": "code",
   "execution_count": null,
   "metadata": {},
   "outputs": [],
   "source": [
    "import labelbox as lb\n",
    "# Include other imports in this block try grouping similar installs together"
   ]
  },
  {
   "cell_type": "markdown",
   "metadata": {},
   "source": [
    "## API key and client\n",
    "Provide a valid API key below in order to properly connect to the Labelbox client. Please review [Create API key guide](https://docs.labelbox.com/reference/create-api-key) for more information."
   ]
  },
  {
   "cell_type": "code",
   "execution_count": null,
   "metadata": {},
   "outputs": [],
   "source": [
    "# Add your API key\n",
    "API_KEY = None\n",
    "# To get your API key go to: Workspace settings -> API -> Create API Key\n",
    "client = lb.Client(api_key=API_KEY)"
   ]
  },
  {
   "cell_type": "markdown",
   "metadata": {},
   "source": [
    "## Main section header\n",
    "\n",
    "* Include information on what section discusses"
   ]
  },
  {
   "cell_type": "markdown",
   "metadata": {},
   "source": [
    "### Sub section header\n",
    "\n",
    "* Include information on what sub section discusses\n",
    "* If parameters are needed specify they need included"
   ]
  },
  {
   "cell_type": "code",
   "execution_count": null,
   "metadata": {},
   "outputs": [],
   "source": [
    "DATASET_ID = None\n",
    "# Inline Parameters should be all caps with a default value typically None"
   ]
  },
  {
   "cell_type": "markdown",
   "metadata": {},
   "source": [
    "## Notebook section with steps\n",
    "\n",
    "* For long winded processes step headers should be included"
   ]
  },
  {
   "cell_type": "markdown",
   "metadata": {},
   "source": [
    "### Step \"step number\""
   ]
  },
  {
   "cell_type": "markdown",
   "metadata": {},
   "source": [
    "* Include information on step"
   ]
  },
  {
   "cell_type": "markdown",
   "metadata": {},
   "source": [
    "#### \"step number.sub step number\"\n",
    "\n",
    "* Some steps need sub steps and should be labeled like above. For example, 7.1, 7.2, etc."
   ]
  },
  {
   "cell_type": "markdown",
   "metadata": {},
   "source": [
    "## Clean up\n",
    "Uncomment and run the cell below to optionally delete Labelbox objects created"
   ]
  },
  {
   "cell_type": "code",
   "execution_count": null,
   "metadata": {},
   "outputs": [],
   "source": [
    "# batch.delete()\n",
    "# project.delete()\n",
    "# dataset.delete()\n",
    "\n",
    "## Include other objects that were created"
   ]
  }
 ],
 "metadata": {
  "language_info": {
   "name": "python"
  }
 },
 "nbformat": 4,
 "nbformat_minor": 2
}
