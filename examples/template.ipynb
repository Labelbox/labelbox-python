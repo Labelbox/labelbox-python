{
  "nbformat": 4,
  "nbformat_minor": 2,
  "metadata": {},
  "cells": [
    {
      "metadata": {},
      "source": [
        "<td>",
        "   <a target=\"_blank\" href=\"https://labelbox.com\" ><img src=\"https://labelbox.com/blog/content/images/2021/02/logo-v4.svg\" width=256/></a>",
        "</td>\n"
      ],
      "cell_type": "markdown"
    },
    {
      "metadata": {},
      "source": [
        "<td>\n",
        "<a href=\"https://colab.research.google.com/github/Labelbox/labelbox-python/blob/develop/examples/template.ipynb\" target=\"_blank\"><img\n",
        "src=\"https://colab.research.google.com/assets/colab-badge.svg\" alt=\"Open In Colab\"></a>\n",
        "</td>\n",
        "\n",
        "<td>\n",
        "<a href=\"https://github.com/Labelbox/labelbox-python/tree/develop/examples/template.ipynb\" target=\"_blank\"><img\n",
        "src=\"https://img.shields.io/badge/GitHub-100000?logo=github&logoColor=white\" alt=\"GitHub\"></a>\n",
        "</td>"
      ],
      "cell_type": "markdown"
    },
    {
      "metadata": {},
      "source": "%pip install -q \"labelbox[data]\"\n# Always install \"labelbox[data]\" over labelbox to ensure dependencies are installed correctly\n# Include other installs in this block with similar format: \"%pip install -q <package name>\"",
      "cell_type": "code",
      "outputs": [],
      "execution_count": null
    },
    {
      "metadata": {},
      "source": "import labelbox as lb\n\n# Include other imports in this block try grouping similar imports together",
      "cell_type": "code",
      "outputs": [],
      "execution_count": null
    },
    {
      "metadata": {},
      "source": [
        "## API key and client\n",
        "Provide a valid API key below in order to properly connect to the Labelbox client. Please review [Create API key guide](https://docs.labelbox.com/reference/create-api-key) for more information."
      ],
      "cell_type": "markdown"
    },
    {
      "metadata": {},
      "source": "# Add your API key\nAPI_KEY = None\n# To get your API key go to: Workspace settings -> API -> Create API Key\nclient = lb.Client(api_key=API_KEY)",
      "cell_type": "code",
      "outputs": [],
      "execution_count": null
    },
    {
      "metadata": {},
      "source": [
        "## Main section header\n",
        "\n",
        "* Include information on what section discusses"
      ],
      "cell_type": "markdown"
    },
    {
      "metadata": {},
      "source": [
        "### Sub section header\n",
        "\n",
        "* Include information on what sub section discusses\n",
        "* If parameters are needed specify they need included"
      ],
      "cell_type": "markdown"
    },
    {
      "metadata": {},
      "source": "DATASET_ID = None\n# Inline Parameters should be all caps with a default value typically None",
      "cell_type": "code",
      "outputs": [],
      "execution_count": null
    },
    {
      "metadata": {},
      "source": [
        "## Notebook section with steps\n",
        "\n",
        "* For long winded processes step headers should be included"
      ],
      "cell_type": "markdown"
    },
    {
      "metadata": {},
      "source": [
        "### Step \"step number\""
      ],
      "cell_type": "markdown"
    },
    {
      "metadata": {},
      "source": [
        "* Include information about step"
      ],
      "cell_type": "markdown"
    },
    {
      "metadata": {},
      "source": [
        "#### \"step number.sub step number\"\n",
        "\n",
        "* Some steps need sub steps and should be labeled like above. For example, 7.1, 7.2, etc."
      ],
      "cell_type": "markdown"
    },
    {
      "metadata": {},
      "source": [
        "## Clean up\n",
        "Uncomment and run the cell below to optionally delete Labelbox objects created"
      ],
      "cell_type": "markdown"
    },
    {
      "metadata": {},
      "source": "# batch.delete()\n# project.delete()\n# dataset.delete()\n\n## Include other objects that were created",
      "cell_type": "code",
      "outputs": [],
      "execution_count": null
    }
  ]
}