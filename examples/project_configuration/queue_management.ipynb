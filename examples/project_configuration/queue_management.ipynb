{
  "nbformat": 4,
  "nbformat_minor": 5,
  "metadata": {},
  "cells": [
    {
      "metadata": {},
      "source": [
        "<td>\n",
        "   <a target=\"_blank\" href=\"https://labelbox.com\" ><img src=\"https://labelbox.com/static/images/logo-v4.svg\" width=190/></a>\n",
        "</td>"
      ],
      "cell_type": "markdown"
    },
    {
      "metadata": {},
      "source": [
        "<td>\n",
        "<a href=\"https://colab.research.google.com/github/Labelbox/labelbox-python/blob/master/examples/project_configuration/queue_management.ipynb\" target=\"_blank\"><img\n",
        "src=\"https://colab.research.google.com/assets/colab-badge.svg\" alt=\"Open In Colab\"></a>\n",
        "</td>\n",
        "\n",
        "<td>\n",
        "<a href=\"https://github.com/Labelbox/labelbox-python/tree/master/examples/project_configuration/queue_management.ipynb\" target=\"_blank\"><img\n",
        "src=\"https://img.shields.io/badge/GitHub-100000?logo=github&logoColor=white\" alt=\"GitHub\"></a>\n",
        "</td>"
      ],
      "cell_type": "markdown"
    },
    {
      "metadata": {},
      "source": [
        "# Queue Management"
      ],
      "cell_type": "markdown"
    },
    {
      "metadata": {},
      "source": [
        "* The queue is used to task labelers with specific assets\n",
        "* We can do any of the following:\n",
        "    * Set the number of times we want an image labeled\n",
        "        * Referred to as `Consensus` in the front end\n",
        "    * Set the order of items in the queue\n",
        "    * Set the percent of assets to review"
      ],
      "cell_type": "markdown"
    },
    {
      "metadata": {},
      "source": [
        "!pip install labelbox\n",
        "!pip install numpy"
      ],
      "cell_type": "code",
      "outputs": [],
      "execution_count": null
    },
    {
      "metadata": {},
      "source": [
        "import labelbox as lb\n",
        "import numpy as np\n",
        "from io import BytesIO\n",
        "import os\n",
        "import uuid"
      ],
      "cell_type": "code",
      "outputs": [],
      "execution_count": null
    },
    {
      "metadata": {},
      "source": [
        "# API Key and Client\n",
        "Provide a valid api key below in order to properly connect to the Labelbox Client."
      ],
      "cell_type": "markdown"
    },
    {
      "metadata": {},
      "source": [
        "# Add your api key\n",
        "API_KEY = None\n",
        "client = lb.Client(api_key=API_KEY)"
      ],
      "cell_type": "code",
      "outputs": [],
      "execution_count": null
    },
    {
      "metadata": {},
      "source": [
        "### Set up demo project"
      ],
      "cell_type": "markdown"
    },
    {
      "metadata": {},
      "source": [
        "## Create two Labelbox  projects\n",
        "# Project defaults to batch mode with benchmark quality settings if queue mode argument is not provided\n",
        "# Note that queue mode will be deprecated once dataset mode is deprecated \n",
        "\n",
        "batch_project = client.create_project(name=\"batch-test-project\",\n",
        "                                description=\"a description\",\n",
        "                                media_type=lb.MediaType.Image,\n",
        "                                # Setup quality settings (Benchmarks)\n",
        "                                auto_audit_number_of_labels=1,\n",
        "                                queue_mode=lb.QueueMode.Batch)\n",
        "\n",
        "dataset_project = client.create_project(name=\"dataset-test-project\",\n",
        "                                description=\"a description\",\n",
        "                                media_type=lb.MediaType.Image,\n",
        "                                ## Setup quality settings (Consensus)\n",
        "                                auto_audit_percentage=0.1,\n",
        "                                auto_audit_number_of_labels=3,\n",
        "                                queue_mode=lb.QueueMode.Dataset)\n",
        "\n",
        "dataset = client.create_dataset(name=\"queue_dataset\")"
      ],
      "cell_type": "code",
      "outputs": [],
      "execution_count": null
    },
    {
      "metadata": {},
      "source": [
        "# Add data to your dataset"
      ],
      "cell_type": "markdown"
    },
    {
      "metadata": {},
      "source": [
        "## Example image\n",
        "uploads = []\n",
        "\n",
        "# Generate data rows\n",
        "for i in range(1, 9):\n",
        "  row = {\n",
        "      \"row_data\":  f\"https://storage.googleapis.com/labelbox-datasets/People_Clothing_Segmentation/jpeg_images/IMAGES/img_000{i}.jpeg\",\n",
        "      \"global_key\": f\"ID-{uuid.uuid1()}\"\n",
        "    }\n",
        "  uploads.append(row)\n",
        "\n",
        "\n",
        "data_rows = dataset.create_data_rows(uploads)\n",
        "\n",
        "data_rows.wait_till_done()\n",
        "print(\"ERRORS dataset: \" , data_rows.errors)\n",
        "\n",
        "print(\"RESULT URL: \", data_rows.result_url)"
      ],
      "cell_type": "code",
      "outputs": [
        {
          "name": "stdout",
          "output_type": "stream",
          "text": [
            "ERRORS dataset2:  None\n",
            "RESULT URL2:  https://storage.labelbox.com/cl3ahv73w1891087qbwzs3edd%2Fdata-row-imports-results%2Fcl9rhym4l3p4x07xy1gsz301t_cl9ria9z33t2q0702ftd39bdj.json?Expires=1666988187661&KeyName=labelbox-assets-key-3&Signature=e_DUH8TN5UuoCgtoNULdttXXM_k\n"
          ]
        }
      ],
      "execution_count": null
    },
    {
      "metadata": {},
      "source": [
        "# Attach data to your project and set data row priority"
      ],
      "cell_type": "markdown"
    },
    {
      "metadata": {},
      "source": [
        "####### Connect your dataset \n",
        "# Dataset projects do not support batches\n",
        "# LPO Will be deprecated for datasets, please use batches to use data row priority\n",
        "dataset_project.datasets.connect(dataset)\n",
        "\n",
        "######## Create batches \n",
        "\n",
        "# Batch projects do not support datasets\n",
        "\n",
        "# Get all the data row ids from your dataset to create the batch\n",
        "batch_datarows = [dr.uid for dr in list(dataset.export_data_rows())]\n",
        "\n",
        "\n",
        "# Create the batch \n",
        "\n",
        "batch = batch_project.create_batch(\n",
        "  \"batch-demo\", # Each batch in a project must have a unique name\n",
        "  batch_datarows[0:2], # A list of data rows or data row ids\n",
        "  5 # priority between 1(Highest) - 5(lowest) 5 is the max priority that can be set\n",
        ")\n",
        "\n",
        "batch2 = batch_project.create_batch(\n",
        "  \"batch-demo-2\", # Each batch in a project must have a unique name\n",
        "  #Provide a slice of the data since you can't import assets with global keys that already exist in the project.\n",
        "  batch_datarows[2:4],\n",
        "  1 # priority between 1(Highest) - 5(lowest) 5 is the max priority that can be set\n",
        ")\n",
        "\n",
        "batch3 = batch_project.create_batch(\n",
        "  \"batch-demo-3\", # Each batch in a project must have a unique name\n",
        "  # Provide a slice of the data since you can't import assets with global keys that already exist in the project.\n",
        "  batch_datarows[4: len(batch_datarows)],\n",
        "  2 # priority between 1(Highest) - 5(lowest) 5 is the max priority that can be set\n",
        ")\n",
        "\n",
        "print(\"Batch: \", batch)\n",
        "print(\"Batch2: \", batch2)\n",
        "print(\"Batch3: \", batch3)"
      ],
      "cell_type": "code",
      "outputs": [
        {
          "name": "stdout",
          "output_type": "stream",
          "text": [
            "Batch:  <Batch {'created_at': datetime.datetime(2022, 10, 27, 20, 31, 48, tzinfo=datetime.timezone.utc), 'name': 'batch-demo', 'size': 2, 'uid': '61ebcee0-5636-11ed-b875-39298baad172', 'updated_at': datetime.datetime(2022, 10, 27, 20, 31, 48, tzinfo=datetime.timezone.utc)}>\n",
            "Batch2:  <Batch {'created_at': datetime.datetime(2022, 10, 27, 20, 31, 50, tzinfo=datetime.timezone.utc), 'name': 'batch-demo-2', 'size': 2, 'uid': '62de6c40-5636-11ed-8b12-7f90533b6a47', 'updated_at': datetime.datetime(2022, 10, 27, 20, 31, 50, tzinfo=datetime.timezone.utc)}>\n",
            "Batch3:  <Batch {'created_at': datetime.datetime(2022, 10, 27, 20, 31, 52, tzinfo=datetime.timezone.utc), 'name': 'batch-demo-3', 'size': 4, 'uid': '64089460-5636-11ed-bcbd-1b9bfc00b2b5', 'updated_at': datetime.datetime(2022, 10, 27, 20, 31, 52, tzinfo=datetime.timezone.utc)}>\n"
          ]
        }
      ],
      "execution_count": null
    },
    {
      "metadata": {},
      "source": [
        "* <b>Go to your project and you should see the numbers appear in order.</b>"
      ],
      "cell_type": "markdown"
    },
    {
      "metadata": {},
      "source": [
        "print(\"View the results here:\",\n",
        "      f\"https://app.labelbox.com/projects/{batch_project.uid}\")\n",
        "print(\"View the results here:\",\n",
        "      f\"https://app.labelbox.com/projects/{dataset_project.uid}\")\n",
        "# Click `start labeling` to see the images in order"
      ],
      "cell_type": "code",
      "outputs": [
        {
          "name": "stdout",
          "output_type": "stream",
          "text": [
            "View the results here: https://app.labelbox.com/projects/cl9rhx7a6339l07vd7rc366n6\n",
            "View the results here: https://app.labelbox.com/projects/cl9rhx7xx3pso07xra8caeck2\n"
          ]
        }
      ],
      "execution_count": null
    },
    {
      "metadata": {},
      "source": [
        "## Remove Queue Order\n",
        "- Remove all the batch priority in your project"
      ],
      "cell_type": "markdown"
    },
    {
      "metadata": {},
      "source": [
        "batch_project.unset_labeling_parameter_overrides(dataset.export_data_rows())"
      ],
      "cell_type": "code",
      "outputs": [
        {
          "data": {
            "text/plain": [
              "True"
            ]
          },
          "execution_count": 27,
          "metadata": {},
          "output_type": "execute_result"
        }
      ],
      "execution_count": null
    },
    {
      "metadata": {},
      "source": [
        "# Cleanup"
      ],
      "cell_type": "markdown"
    },
    {
      "metadata": {},
      "source": [
        "# batch_project.delete()\n",
        "# dataset_project.delete()\n",
        "# dataset.delete()"
      ],
      "cell_type": "code",
      "outputs": [],
      "execution_count": null
    }
  ]
}