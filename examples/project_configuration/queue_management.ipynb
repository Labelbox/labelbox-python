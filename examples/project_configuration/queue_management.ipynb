{
    "cells": [
        {
            "cell_type": "markdown",
            "id": "official-miniature",
            "metadata": {},
            "source": [
                "# Queue Management"
            ]
        },
        {
            "cell_type": "markdown",
            "id": "asian-retrieval",
            "metadata": {},
            "source": [
                "* The queue is used to task labelers with specific examples\n",
                "* We can do any of the following:\n",
                "    * Set the number of times we want an image labeled\n",
                "        * Referred to as `Consensus` in the front end\n",
                "    * Set the order of items in the queue\n",
                "    * Set the percent of assets to review"
            ]
        },
        {
            "cell_type": "code",
            "execution_count": 1,
            "id": "cloudy-leone",
            "metadata": {},
            "outputs": [],
            "source": "!pip install labelbox\n!pip install PILLOW\n!pip install numpy"
        },
        {
            "cell_type": "code",
            "execution_count": 2,
            "id": "twenty-region",
            "metadata": {},
            "outputs": [],
            "source": "from labelbox import Client, LabelingFrontend\nfrom labelbox.schema.ontology import OntologyBuilder\nfrom PIL import Image, ImageDraw, ImageFont\nimport numpy as np\nfrom io import BytesIO\nfrom getpass import getpass\nimport os"
        },
        {
            "cell_type": "code",
            "execution_count": 3,
            "id": "dominican-accident",
            "metadata": {},
            "outputs": [],
            "source": "# If you don't want to give google access to drive you can skip this cell\n# and manually set `API_KEY` below.\n\nCOLAB = \"google.colab\" in str(get_ipython())\nif COLAB:\n    !pip install colab-env -qU\n    from colab_env import envvar_handler\n    envvar_handler.envload()\n\nAPI_KEY = os.environ.get(\"LABELBOX_API_KEY\")\nif not os.environ.get(\"LABELBOX_API_KEY\"):\n    API_KEY = getpass(\"Please enter your labelbox api key\")\n    if COLAB:\n        envvar_handler.add_env(\"LABELBOX_API_KEY\", API_KEY)"
        },
        {
            "cell_type": "code",
            "execution_count": 4,
            "id": "convinced-saturday",
            "metadata": {},
            "outputs": [],
            "source": "# Only update this if you have an on-prem deployment\nENDPOINT = \"https://api.labelbox.com/graphql\""
        },
        {
            "cell_type": "code",
            "execution_count": 5,
            "id": "unauthorized-eagle",
            "metadata": {},
            "outputs": [],
            "source": "client = Client(api_key=API_KEY, endpoint=ENDPOINT)"
        },
        {
            "cell_type": "markdown",
            "id": "prerequisite-choir",
            "metadata": {},
            "source": [
                "### Set up demo project"
            ]
        },
        {
            "cell_type": "code",
            "execution_count": 6,
            "id": "loved-reconstruction",
            "metadata": {},
            "outputs": [],
            "source": "# We are going to create a new project for this\n# Checkout the project_setup notebook for more details on this cell.\nproject = client.create_project(name=\"queue_project\")\ndataset = client.create_dataset(name=\"queue_dataset\")\neditor = next(\n    client.get_labeling_frontends(where=LabelingFrontend.name == 'editor'))\nproject.setup(editor,\n              OntologyBuilder().asdict()\n             )  #empty ontology since we aren't actually labeling..\nproject.datasets.connect(dataset)"
        },
        {
            "cell_type": "code",
            "execution_count": 7,
            "id": "antique-tonight",
            "metadata": {},
            "outputs": [],
            "source": "def make_digit_image(digit: int) -> np.ndarray:\n    \"\"\"\n    Will draw a while number on a black image\n    \n    Args:\n        digit (int): number to draw\n    Returns:\n        numpy array with digit drawn\n    \"\"\"\n    font = ImageFont.truetype(\"Verdana.ttf\", 128)\n    img = Image.fromarray(np.zeros((500, 500, 3), dtype=np.uint8))\n    draw = ImageDraw.Draw(img)\n    draw.text((200, 180), str(digit), font=font)\n    return img"
        },
        {
            "cell_type": "code",
            "execution_count": 8,
            "id": "operating-browse",
            "metadata": {},
            "outputs": [],
            "source": "# Ok let's add these to the project\nfor idx in range(15):\n    img = make_digit_image(idx + 1)\n    img_bytes = BytesIO()\n    img.save(img_bytes, format=\"jpeg\")\n    row_data = client.upload_data(img_bytes.getvalue(),\n                                  content_type='image/jpeg')\n    dataset.create_data_row(row_data=row_data, external_id=f\"queue_{idx + 1}\")"
        },
        {
            "cell_type": "code",
            "execution_count": 9,
            "id": "subject-manufacturer",
            "metadata": {},
            "outputs": [
                {
                    "data": {
                        "image/png": "[encoded data removed]",
                        "text/plain": [
                            "<PIL.Image.Image image mode=RGB size=128x128 at 0x10CFB1D60>"
                        ]
                    },
                    "execution_count": 9,
                    "metadata": {},
                    "output_type": "execute_result"
                }
            ],
            "source": "#Example image\nimg.resize((128, 128))"
        },
        {
            "cell_type": "markdown",
            "id": "revolutionary-guard",
            "metadata": {},
            "source": [
                "# Set Queue Order"
            ]
        },
        {
            "cell_type": "code",
            "execution_count": 10,
            "id": "available-obligation",
            "metadata": {},
            "outputs": [],
            "source": "data_rows = list(dataset.data_rows())\n#project.set_labeling_parameter_overrides(data)"
        },
        {
            "cell_type": "code",
            "execution_count": 11,
            "id": "experienced-fairy",
            "metadata": {},
            "outputs": [],
            "source": "priorities = []\nfor data_row in data_rows:\n    priorities.append((data_row, int(data_row.external_id.split('_')[-1]), 1))"
        },
        {
            "cell_type": "code",
            "execution_count": 12,
            "id": "tropical-steal",
            "metadata": {},
            "outputs": [
                {
                    "name": "stdout",
                    "output_type": "stream",
                    "text": [
                        "(<DataRow ID: ckmv2hx1a08y80y9qflz7dcrj>, 1, 1)\n",
                        "(<DataRow ID: ckmv2hxsw08sw0y8h2xnc95g7>, 2, 1)\n",
                        "(<DataRow ID: ckmv2hydt08t20y8h11bf04l9>, 3, 1)\n",
                        "(<DataRow ID: ckmv2hz0h08tb0y8h3mnl6n0l>, 4, 1)\n",
                        "(<DataRow ID: ckmv2hzmf08yu0y9q6c0l03ex>, 5, 1)\n",
                        "(<DataRow ID: ckmv2i09o09dd0y8u5wgy13b7>, 6, 1)\n",
                        "(<DataRow ID: ckmv2i14z08z90y9qeuyy462i>, 7, 1)\n",
                        "(<DataRow ID: ckmv2i1tf09dm0y8uc4q0bg38>, 8, 1)\n",
                        "(<DataRow ID: ckmv2i2nh08ur0y8hb7yhh7s3>, 9, 1)\n",
                        "(<DataRow ID: ckmv2i3cd09dv0y8u883t21xy>, 10, 1)\n",
                        "(<DataRow ID: ckmv2i3zi08v70y8h2uhe3n57>, 11, 1)\n",
                        "(<DataRow ID: ckmv2i4s208zq0y9qbz0fa67y>, 12, 1)\n",
                        "(<DataRow ID: ckmv2i5pm08vm0y8h1d8genuc>, 13, 1)\n",
                        "(<DataRow ID: ckmv2i69e09e70y8uaq3adowb>, 14, 1)\n",
                        "(<DataRow ID: ckmv2i6u709ec0y8uaf4mdnfv>, 15, 1)\n"
                    ]
                }
            ],
            "source": "#Ordered by external_id\nfor priority in priorities:\n    print(priority)"
        },
        {
            "cell_type": "code",
            "execution_count": 13,
            "id": "awful-valve",
            "metadata": {},
            "outputs": [
                {
                    "data": {
                        "text/plain": [
                            "True"
                        ]
                    },
                    "execution_count": 13,
                    "metadata": {},
                    "output_type": "execute_result"
                }
            ],
            "source": "project.set_labeling_parameter_overrides(priorities)"
        },
        {
            "cell_type": "markdown",
            "id": "available-bonus",
            "metadata": {},
            "source": [
                "* <b>Go to your project and you should see the numbers appear in order.</b>"
            ]
        },
        {
            "cell_type": "code",
            "execution_count": 14,
            "id": "insured-enterprise",
            "metadata": {},
            "outputs": [
                {
                    "name": "stdout",
                    "output_type": "stream",
                    "text": [
                        "View the results here: https://app.labelbox.com/projects/ckmv2hun5cy640789au25hgr9\n"
                    ]
                }
            ],
            "source": "print(\"View the results here:\",\n      f\"https://app.labelbox.com/projects/{project.uid}\")\n# Click `start labeling` to see the images in order"
        },
        {
            "cell_type": "markdown",
            "id": "incorporated-serbia",
            "metadata": {},
            "source": [
                "### Set number of duplicates\n",
                "* Here we set a duplicate of 2.\n",
                "* If you have two accounts to log into the project from, both users will get the same 15 images in order.\n",
                "* Even from one account you will see it works by skipping a single image and then go to the project overview\n",
                "    * You will see 29 remaining with 1 skipped (15 images 2 copies of each)."
            ]
        },
        {
            "cell_type": "code",
            "execution_count": 15,
            "id": "cutting-format",
            "metadata": {},
            "outputs": [
                {
                    "data": {
                        "text/plain": [
                            "True"
                        ]
                    },
                    "execution_count": 21,
                    "metadata": {},
                    "output_type": "execute_result"
                }
            ],
            "source": "# Images will still be labeled in the same order (determined by p[1])\n# But now each image will be labeled 2 times (never by the same user.\n# (If you don't have at least 3 users the items will remain in the queue.)\nduplicate_priorities = [(p[0], p[1], 2) for p in priorities]\nproject.set_labeling_parameter_overrides(duplicate_priorities)"
        },
        {
            "cell_type": "markdown",
            "id": "charged-classics",
            "metadata": {},
            "source": [
                "### Remove Queue Order\n",
                "* This will delete all of the priorities\n",
                "* Duplicates in the queue will also be cleared"
            ]
        },
        {
            "cell_type": "code",
            "execution_count": 16,
            "id": "selected-expert",
            "metadata": {},
            "outputs": [
                {
                    "data": {
                        "text/plain": [
                            "True"
                        ]
                    },
                    "execution_count": 22,
                    "metadata": {},
                    "output_type": "execute_result"
                }
            ],
            "source": "project.unset_labeling_parameter_overrides(data_rows)"
        },
        {
            "cell_type": "markdown",
            "id": "random-lover",
            "metadata": {},
            "source": [
                "* Go to the project and you will see 14 remaining with 1 skipped (was 29.)"
            ]
        },
        {
            "cell_type": "markdown",
            "id": "tribal-bundle",
            "metadata": {},
            "source": [
                "### Review Queue\n",
                "* Set the percent of labels to be reviewed "
            ]
        },
        {
            "cell_type": "code",
            "execution_count": 17,
            "id": "christian-boxing",
            "metadata": {},
            "outputs": [],
            "source": "# You can set the percent of labels to be sent to the review queue by running\n# Can be 0 to 1 representing 0 to 100%\nproject.upsert_review_queue(0.2)"
        },
        {
            "cell_type": "markdown",
            "id": "southern-brunswick",
            "metadata": {},
            "source": [
                "* Go to the project at the bottom you will see the `training data quality` section.\n",
                "* Coverage should be 20%"
            ]
        }
    ],
    "metadata": {
        "kernelspec": {
            "display_name": "Python 3",
            "language": "python",
            "name": "python3"
        },
        "language_info": {
            "codemirror_mode": {
                "name": "ipython",
                "version": 3
            },
            "file_extension": ".py",
            "mimetype": "text/x-python",
            "name": "python",
            "nbconvert_exporter": "python",
            "pygments_lexer": "ipython3",
            "version": "3.8.2"
        }
    },
    "nbformat": 4,
    "nbformat_minor": 5
}