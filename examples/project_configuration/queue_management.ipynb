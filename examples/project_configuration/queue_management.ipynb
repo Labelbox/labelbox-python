{
    "cells": [
        {
            "cell_type": "markdown",
            "metadata": {},
            "source": [
                "<td>\n",
                "   <a target=\"_blank\" href=\"https://labelbox.com\" ><img src=\"https://labelbox.com/static/images/logo-v4.svg\" width=190/></a>\n",
                "</td>"
            ]
        },
        {
            "cell_type": "markdown",
            "metadata": {},
            "source": [
                "<td>\n",
                "<a href=\"https://colab.research.google.com/github/Labelbox/labelbox-python/blob/develop/examples/project_configuration/queue_management.ipynb\" target=\"_blank\"><img\n",
                "src=\"https://colab.research.google.com/assets/colab-badge.svg\" alt=\"Open In Colab\"></a>\n",
                "</td>\n",
                "\n",
                "<td>\n",
                "<a href=\"https://github.com/Labelbox/labelbox-python/tree/develop/examples/project_configuration/queue_management.ipynb\" target=\"_blank\"><img\n",
                "src=\"https://img.shields.io/badge/GitHub-100000?logo=github&logoColor=white\" alt=\"GitHub\"></a>\n",
                "</td>"
            ]
        },
        {
            "cell_type": "markdown",
            "metadata": {},
            "source": [
                "# Queue Management"
            ]
        },
        {
            "cell_type": "markdown",
            "metadata": {},
            "source": [
                "* The queue is used to task labelers with specific assets\n",
                "* We can do any of the following:\n",
                "    * Set quality settings\n",
                "    * Set the order of items in the queue\n",
                "    * Set the percent of assets to review"
            ]
        },
        {
            "cell_type": "code",
            "execution_count": 2,
            "metadata": {},
            "outputs": [
                {
                    "name": "stdout",
                    "output_type": "stream",
                    "text": [
                        "\n",
                        "\u001b[1m[\u001b[0m\u001b[34;49mnotice\u001b[0m\u001b[1;39;49m]\u001b[0m\u001b[39;49m A new release of pip is available: \u001b[0m\u001b[31;49m23.0.1\u001b[0m\u001b[39;49m -> \u001b[0m\u001b[32;49m24.0\u001b[0m\n",
                        "\u001b[1m[\u001b[0m\u001b[34;49mnotice\u001b[0m\u001b[1;39;49m]\u001b[0m\u001b[39;49m To update, run: \u001b[0m\u001b[32;49mpip install --upgrade pip\u001b[0m\n",
                        "Note: you may need to restart the kernel to use updated packages.\n",
                        "\n",
                        "\u001b[1m[\u001b[0m\u001b[34;49mnotice\u001b[0m\u001b[1;39;49m]\u001b[0m\u001b[39;49m A new release of pip is available: \u001b[0m\u001b[31;49m23.0.1\u001b[0m\u001b[39;49m -> \u001b[0m\u001b[32;49m24.0\u001b[0m\n",
                        "\u001b[1m[\u001b[0m\u001b[34;49mnotice\u001b[0m\u001b[1;39;49m]\u001b[0m\u001b[39;49m To update, run: \u001b[0m\u001b[32;49mpip install --upgrade pip\u001b[0m\n",
                        "Note: you may need to restart the kernel to use updated packages.\n"
                    ]
                }
            ],
            "source": [
                "%pip install -q \"labelbox[data]\"\n",
                "%pip install -q numpy"
            ]
        },
        {
            "cell_type": "code",
            "execution_count": 3,
            "metadata": {},
            "outputs": [],
            "source": [
                "import labelbox as lb\n",
                "from labelbox.schema.quality_mode import QualityMode\n",
                "from uuid import uuid4\n",
                "import json"
            ]
        },
        {
            "cell_type": "markdown",
            "metadata": {},
            "source": [
                "# API Key and Client\n",
                "See the developer guide for [creating an API key](https://docs.labelbox.com/reference/create-api-key)."
            ]
        },
        {
            "cell_type": "code",
            "execution_count": 4,
            "metadata": {},
            "outputs": [],
            "source": [
                "# Add your API key\n",
                "API_KEY = \"\"\n",
                "client = lb.Client(api_key=API_KEY)"
            ]
        },
        {
            "cell_type": "markdown",
            "id": "9f037831",
            "metadata": {},
            "source": [
                "### Set up demo project"
            ]
        },
        {
            "cell_type": "markdown",
            "id": "7610f337",
            "metadata": {},
            "source": [
                "#### Create project"
            ]
        },
        {
            "cell_type": "code",
            "execution_count": 5,
            "id": "2ccd23fa",
            "metadata": {},
            "outputs": [],
            "source": [
                "# Create Labelbox  project\n",
                "\n",
                "project = client.create_project(\n",
                "    name=\"batch-test-project\",\n",
                "    description=\"a description\",\n",
                "    quality_mode=QualityMode.\n",
                "    Benchmark,  # For Consensus projects use quality_mode = QualityMode.Consensus\n",
                "    media_type=lb.MediaType.Image,\n",
                ")\n",
                "\n",
                "dataset = client.create_dataset(name=\"queue_dataset\")"
            ]
        },
        {
            "cell_type": "markdown",
            "id": "a6a778c0",
            "metadata": {},
            "source": [
                "#### Create ontology and attach to project"
            ]
        },
        {
            "cell_type": "code",
            "execution_count": 6,
            "id": "3afcf8ef",
            "metadata": {},
            "outputs": [],
            "source": [
                "classification_features = [\n",
                "    lb.Classification(\n",
                "        class_type=lb.Classification.Type.CHECKLIST,\n",
                "        name=\"Quality Issues\",\n",
                "        options=[\n",
                "            lb.Option(value=\"blurry\", label=\"Blurry\"),\n",
                "            lb.Option(value=\"distorted\", label=\"Distorted\"),\n",
                "        ],\n",
                "    )\n",
                "]\n",
                "\n",
                "ontology_builder = lb.OntologyBuilder(\n",
                "    tools=[], classifications=classification_features\n",
                ")\n",
                "\n",
                "ontology = client.create_ontology(\n",
                "    \"Ontology from new features\",\n",
                "    ontology_builder.asdict(),\n",
                "    media_type=lb.MediaType.Image,\n",
                ")\n",
                "\n",
                "project.setup_editor(ontology)"
            ]
        },
        {
            "cell_type": "markdown",
            "id": "04670269",
            "metadata": {},
            "source": [
                "# Add data to your dataset"
            ]
        },
        {
            "cell_type": "code",
            "execution_count": 7,
            "id": "82d6b1aa",
            "metadata": {},
            "outputs": [
                {
                    "name": "stdout",
                    "output_type": "stream",
                    "text": [
                        "Errors None\n",
                        "Dataset status:  COMPLETE\n"
                    ]
                }
            ],
            "source": [
                "## Example image\n",
                "uploads = []\n",
                "global_keys = []\n",
                "# Generate data rows\n",
                "for i in range(1, 5):\n",
                "    global_key = str(uuid4())\n",
                "    row = {\n",
                "        \"row_data\":\n",
                "            f\"https://storage.googleapis.com/labelbox-datasets/People_Clothing_Segmentation/jpeg_images/IMAGES/img_000{i}.jpeg\",\n",
                "        \"global_key\":\n",
                "            global_key,\n",
                "    }\n",
                "    global_keys.append(global_key)\n",
                "    uploads.append(row)\n",
                "\n",
                "data_rows = dataset.create_data_rows(uploads)\n",
                "data_rows.wait_till_done()\n",
                "print(\"Errors\", data_rows.errors)\n",
                "print(\"Dataset status: \", data_rows.status)"
            ]
        },
        {
            "cell_type": "markdown",
            "id": "9f9b8e27",
            "metadata": {},
            "source": [
                "# Attach data to your project and set data row priority"
            ]
        },
        {
            "cell_type": "code",
            "execution_count": 8,
            "id": "a4c0c4d8",
            "metadata": {},
            "outputs": [
                {
                    "name": "stdout",
                    "output_type": "stream",
                    "text": [
                        "Batch:  <Batch {\n",
                        "    \"consensus_settings_json\": \"{\\\"numberOfLabels\\\":1,\\\"coveragePercentage\\\":0}\",\n",
                        "    \"created_at\": \"2024-05-15 17:08:11+00:00\",\n",
                        "    \"name\": \"batch-demo\",\n",
                        "    \"size\": 2,\n",
                        "    \"uid\": \"b5b33df0-12dd-11ef-a14c-1d56c719a8cf\",\n",
                        "    \"updated_at\": \"2024-05-15 17:08:11+00:00\"\n",
                        "}>\n",
                        "Batch2:  <Batch {\n",
                        "    \"consensus_settings_json\": \"{\\\"numberOfLabels\\\":1,\\\"coveragePercentage\\\":0}\",\n",
                        "    \"created_at\": \"2024-05-15 17:08:12+00:00\",\n",
                        "    \"name\": \"batch-demo-2\",\n",
                        "    \"size\": 2,\n",
                        "    \"uid\": \"b626e750-12dd-11ef-90fb-895ccde0c8f7\",\n",
                        "    \"updated_at\": \"2024-05-15 17:08:12+00:00\"\n",
                        "}>\n"
                    ]
                }
            ],
            "source": [
                "######## Create batches\n",
                "\n",
                "# Create the batch\n",
                "\n",
                "batch = project.create_batch(\n",
                "    \"batch-demo\",  # Each batch in a project must have a unique name\n",
                "    global_keys=global_keys[\n",
                "        0:2],  # A list of data rows, data row ids or global keys\n",
                "    priority=\n",
                "    5,  # priority between 1(Highest) - 5(lowest) 5 is the max priority that can be set\n",
                ")\n",
                "\n",
                "batch2 = project.create_batch(\n",
                "    \"batch-demo-2\",  # Each batch in a project must have a unique name\n",
                "    # Provide a slice of the data since you can't import assets with global keys that already exist in the project.\n",
                "    global_keys=global_keys[\n",
                "        2:4],  # A list of data rows, data row ids or global keys\n",
                "    priority=\n",
                "    1,  # priority between 1(Highest) - 5(lowest) 5 is the max priority that can be set\n",
                ")\n",
                "\n",
                "print(\"Batch: \", batch)\n",
                "print(\"Batch2: \", batch2)"
            ]
        },
        {
            "cell_type": "code",
            "execution_count": 9,
            "id": "2a80807f",
            "metadata": {},
            "outputs": [
                {
                    "name": "stdout",
                    "output_type": "stream",
                    "text": [
                        "View the results here: https://app.labelbox.com/projects/clw82rrou00lp07151qsp5rhp\n"
                    ]
                }
            ],
            "source": [
                "print(\n",
                "    \"View the results here:\", f\"https://app.labelbox.com/projects/{project.uid}\"\n",
                ")\n",
                "# Click `start labeling` to see the images in order"
            ]
        },
        {
            "cell_type": "markdown",
            "id": "6f70ec98",
            "metadata": {},
            "source": [
                "## Queue Order\n",
                "- Add priority for each data row\n",
                "- Update priority for each data row"
            ]
        },
        {
            "cell_type": "code",
            "execution_count": 10,
            "id": "38e280ad",
            "metadata": {},
            "outputs": [],
            "source": [
                "export_task = project.export()\n",
                "export_task.wait_till_done()"
            ]
        },
        {
            "cell_type": "code",
            "execution_count": 11,
            "id": "c1588126",
            "metadata": {},
            "outputs": [
                {
                    "name": "stderr",
                    "output_type": "stream",
                    "text": [
                        "/Users/gabrielunderwood/repos/labelbox-python/env/lib/python3.10/site-packages/labelbox/schema/export_task.py:119: UserWarning: JSON converter is deprecated and will be removed in a future release\n",
                        "  warnings.warn(\n",
                        "/Users/gabrielunderwood/repos/labelbox-python/env/lib/python3.10/site-packages/labelbox/schema/export_task.py:402: UserWarning: _MultiGCSFileReader is deprecated and will be removed in a future release\n",
                        "  warnings.warn(\n"
                    ]
                }
            ],
            "source": [
                "# Get data rows from project\n",
                "data_rows = []\n",
                "\n",
                "\n",
                "def json_stream_handler(output: lb.JsonConverterOutput):\n",
                "    data_row = json.loads(output.json_str)\n",
                "    data_rows.append(\n",
                "        lb.GlobalKey(data_row[\"data_row\"][\"global_key\"])\n",
                "    )  # Convert json data row into data row identifier object\n",
                "\n",
                "\n",
                "if export_task.has_errors():\n",
                "    export_task.get_stream(\n",
                "        converter=lb.JsonConverter(), stream_type=lb.StreamType.ERRORS\n",
                "    ).start(stream_handler=lambda error: print(error))\n",
                "\n",
                "if export_task.has_result():\n",
                "    export_json = export_task.get_stream(\n",
                "        converter=lb.JsonConverter(), stream_type=lb.StreamType.RESULT\n",
                "    ).start(stream_handler=json_stream_handler)"
            ]
        },
        {
            "cell_type": "code",
            "execution_count": 12,
            "id": "d35fc06a",
            "metadata": {},
            "outputs": [
                {
                    "name": "stdout",
                    "output_type": "stream",
                    "text": [
                        "<LabelingParameterOverride {\n",
                        "    \"number_of_labels\": 1,\n",
                        "    \"priority\": 1,\n",
                        "    \"uid\": \"clw82scwb01ry071qd6c59e4a\"\n",
                        "}>\n",
                        "Data row: clw82rwel35ml0708snescz4u\n",
                        "<LabelingParameterOverride {\n",
                        "    \"number_of_labels\": 1,\n",
                        "    \"priority\": 1,\n",
                        "    \"uid\": \"clw82scwb01ru071q11e9f3iu\"\n",
                        "}>\n",
                        "Data row: clw82rwel35mm07082u3bbeoy\n",
                        "<LabelingParameterOverride {\n",
                        "    \"number_of_labels\": 1,\n",
                        "    \"priority\": 5,\n",
                        "    \"uid\": \"clw82scb806zu072tc0lrgvpo\"\n",
                        "}>\n",
                        "Data row: clw82rwel35mj0708m3oku3ws\n",
                        "<LabelingParameterOverride {\n",
                        "    \"number_of_labels\": 1,\n",
                        "    \"priority\": 5,\n",
                        "    \"uid\": \"clw82scb706zq072t8is4czhg\"\n",
                        "}>\n",
                        "Data row: clw82rwel35mk0708aas7eqwl\n"
                    ]
                }
            ],
            "source": [
                "# Get label parameter overrides (LPOs)\n",
                "project_lpos = project.labeling_parameter_overrides()\n",
                "\n",
                "for lpo in project_lpos:\n",
                "    print(lpo)\n",
                "    print(\"Data row:\", lpo.data_row().uid)"
            ]
        },
        {
            "cell_type": "code",
            "execution_count": 13,
            "id": "9443998f",
            "metadata": {},
            "outputs": [
                {
                    "name": "stdout",
                    "output_type": "stream",
                    "text": [
                        "<LabelingParameterOverride {\n",
                        "    \"number_of_labels\": 1,\n",
                        "    \"priority\": 4,\n",
                        "    \"uid\": \"clw82ub7h04r8070z3qe71l5m\"\n",
                        "}>\n",
                        "<LabelingParameterOverride {\n",
                        "    \"number_of_labels\": 1,\n",
                        "    \"priority\": 3,\n",
                        "    \"uid\": \"clw82ub7h04r4070za7cx4e8f\"\n",
                        "}>\n",
                        "<LabelingParameterOverride {\n",
                        "    \"number_of_labels\": 1,\n",
                        "    \"priority\": 2,\n",
                        "    \"uid\": \"clw82ub7h04r0070z1ibn0yxr\"\n",
                        "}>\n",
                        "<LabelingParameterOverride {\n",
                        "    \"number_of_labels\": 1,\n",
                        "    \"priority\": 1,\n",
                        "    \"uid\": \"clw82ub7h04qw070zemhb9kf3\"\n",
                        "}>\n"
                    ]
                }
            ],
            "source": [
                "# Add LPOs\n",
                "lpos = []\n",
                "priority = 1\n",
                "for data_row in data_rows:\n",
                "    lpos.append((data_row, priority))\n",
                "    priority += 1\n",
                "\n",
                "project.set_labeling_parameter_overrides(lpos)\n",
                "\n",
                "# Check results\n",
                "project_lpos = list(project.labeling_parameter_overrides())\n",
                "\n",
                "for lpo in project_lpos:\n",
                "    print(lpo)"
            ]
        },
        {
            "cell_type": "code",
            "execution_count": 14,
            "id": "b740fc8e",
            "metadata": {},
            "outputs": [
                {
                    "name": "stdout",
                    "output_type": "stream",
                    "text": [
                        "<LabelingParameterOverride {\n",
                        "    \"number_of_labels\": 1,\n",
                        "    \"priority\": 1,\n",
                        "    \"uid\": \"clw82ub7h04r8070z3qe71l5m\"\n",
                        "}>\n",
                        "<LabelingParameterOverride {\n",
                        "    \"number_of_labels\": 1,\n",
                        "    \"priority\": 1,\n",
                        "    \"uid\": \"clw82ub7h04r4070za7cx4e8f\"\n",
                        "}>\n",
                        "<LabelingParameterOverride {\n",
                        "    \"number_of_labels\": 1,\n",
                        "    \"priority\": 1,\n",
                        "    \"uid\": \"clw82ub7h04r0070z1ibn0yxr\"\n",
                        "}>\n",
                        "<LabelingParameterOverride {\n",
                        "    \"number_of_labels\": 1,\n",
                        "    \"priority\": 1,\n",
                        "    \"uid\": \"clw82ub7h04qw070zemhb9kf3\"\n",
                        "}>\n"
                    ]
                }
            ],
            "source": [
                "# Update LPOs\n",
                "global_keys = []\n",
                "for data_row in data_rows:\n",
                "    global_keys.append(data_row.key)\n",
                "\n",
                "project.update_data_row_labeling_priority(\n",
                "    data_rows=lb.GlobalKeys(global_keys), priority=1\n",
                ")\n",
                "\n",
                "# Check results\n",
                "project_lpos = list(project.labeling_parameter_overrides())\n",
                "\n",
                "for lpo in project_lpos:\n",
                "    print(lpo)"
            ]
        },
        {
            "cell_type": "markdown",
            "id": "0ec08011",
            "metadata": {},
            "source": [
                "# Cleanup"
            ]
        },
        {
            "cell_type": "code",
            "execution_count": 15,
            "id": "437176e7",
            "metadata": {},
            "outputs": [],
            "source": [
                "# project.delete()\n",
                "# dataset.delete()"
            ]
        }
    ],
    "metadata": {
        "kernelspec": {
            "display_name": "env",
            "language": "python",
            "name": "python3"
        },
        "language_info": {
            "codemirror_mode": {
                "name": "ipython",
                "version": 3
            },
            "file_extension": ".py",
            "mimetype": "text/x-python",
            "name": "python",
            "nbconvert_exporter": "python",
            "pygments_lexer": "ipython3",
            "version": "3.10.13"
        }
    },
    "nbformat": 4,
    "nbformat_minor": 5
}
