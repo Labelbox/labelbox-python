{
  "cells": [
    {
      "cell_type": "markdown",
      "metadata": {},
      "source": [
        "<td>\n",
        "   <a target=\"_blank\" href=\"https://labelbox.com\" ><img src=\"https://labelbox.com/static/images/logo-v4.svg\" width=190/></a>\n",
        "</td>"
      ]
    },
    {
      "cell_type": "markdown",
      "metadata": {},
      "source": [
        "<td>\n",
        "<a href=\"https://colab.research.google.com/github/Labelbox/labelbox-python/blob/develop/examples/project_configuration/queue_management.ipynb\" target=\"_blank\"><img\n",
        "src=\"https://colab.research.google.com/assets/colab-badge.svg\" alt=\"Open In Colab\"></a>\n",
        "</td>\n",
        "\n",
        "<td>\n",
        "<a href=\"https://github.com/Labelbox/labelbox-python/tree/develop/examples/project_configuration/queue_management.ipynb\" target=\"_blank\"><img\n",
        "src=\"https://img.shields.io/badge/GitHub-100000?logo=github&logoColor=white\" alt=\"GitHub\"></a>\n",
        "</td>"
      ]
    },
    {
      "cell_type": "markdown",
      "metadata": {},
      "source": [
        "# Queue Management"
      ]
    },
    {
      "cell_type": "markdown",
      "metadata": {},
      "source": [
        "* The queue is used to task labelers with specific assets\n",
        "* We can do any of the following:\n",
        "    * Set quality settings\n",
        "    * Set the order of items in the queue\n",
        "    * Set the percent of assets to review"
      ]
    },
    {
      "cell_type": "code",
      "execution_count": 15,
      "id": "61595c90",
      "metadata": {},
      "outputs": [
        {
          "name": "stdout",
          "output_type": "stream",
          "text": [
            "\n",
            "\u001b[1m[\u001b[0m\u001b[34;49mnotice\u001b[0m\u001b[1;39;49m]\u001b[0m\u001b[39;49m A new release of pip is available: \u001b[0m\u001b[31;49m23.0.1\u001b[0m\u001b[39;49m -> \u001b[0m\u001b[32;49m24.0\u001b[0m\n",
            "\u001b[1m[\u001b[0m\u001b[34;49mnotice\u001b[0m\u001b[1;39;49m]\u001b[0m\u001b[39;49m To update, run: \u001b[0m\u001b[32;49mpip install --upgrade pip\u001b[0m\n",
            "Note: you may need to restart the kernel to use updated packages.\n",
            "\n",
            "\u001b[1m[\u001b[0m\u001b[34;49mnotice\u001b[0m\u001b[1;39;49m]\u001b[0m\u001b[39;49m A new release of pip is available: \u001b[0m\u001b[31;49m23.0.1\u001b[0m\u001b[39;49m -> \u001b[0m\u001b[32;49m24.0\u001b[0m\n",
            "\u001b[1m[\u001b[0m\u001b[34;49mnotice\u001b[0m\u001b[1;39;49m]\u001b[0m\u001b[39;49m To update, run: \u001b[0m\u001b[32;49mpip install --upgrade pip\u001b[0m\n",
            "Note: you may need to restart the kernel to use updated packages.\n"
          ]
        }
      ],
      "source": [
        "%pip install -q \"labelbox[data]\"\n",
        "%pip install -q numpy"
      ]
    },
    {
      "cell_type": "code",
      "execution_count": 16,
      "id": "0307e995",
      "metadata": {},
      "outputs": [],
      "source": [
        "import labelbox as lb\n",
        "from labelbox.schema.quality_mode import QualityMode\n",
        "from uuid import uuid4\n",
        "import json"
      ]
    },
    {
      "cell_type": "markdown",
      "id": "9c66bc3d",
      "metadata": {},
      "source": [
        "# API Key and Client\n",
        "See the developer guide for [creating an API key](https://docs.labelbox.com/reference/create-api-key)."
      ]
    },
    {
      "cell_type": "code",
      "execution_count": 17,
      "id": "23be865c",
      "metadata": {},
      "outputs": [],
      "source": [
        "# Add your API key\n",
        "API_KEY = \"\"\n",
        "client = lb.Client(api_key=API_KEY)"
      ]
    },
    {
      "cell_type": "markdown",
      "id": "da48a7ca",
      "metadata": {},
      "source": [
        "### Set up demo project"
      ]
    },
    {
      "cell_type": "markdown",
      "id": "7e4fdb5d",
      "metadata": {},
      "source": [
        "#### Create project"
      ]
    },
    {
      "cell_type": "code",
      "execution_count": 18,
      "id": "84103fcd",
      "metadata": {},
      "outputs": [
        {
          "ename": "AuthenticationError",
          "evalue": "Invalid API key('Invalid API key', None)",
          "output_type": "error",
          "traceback": [
            "\u001b[0;31m---------------------------------------------------------------------------\u001b[0m",
            "\u001b[0;31mAuthenticationError\u001b[0m                       Traceback (most recent call last)",
            "Cell \u001b[0;32mIn[18], line 3\u001b[0m\n\u001b[1;32m      1\u001b[0m \u001b[38;5;66;03m# Create Labelbox  project\u001b[39;00m\n\u001b[0;32m----> 3\u001b[0m project \u001b[38;5;241m=\u001b[39m \u001b[43mclient\u001b[49m\u001b[38;5;241;43m.\u001b[39;49m\u001b[43mcreate_project\u001b[49m\u001b[43m(\u001b[49m\n\u001b[1;32m      4\u001b[0m \u001b[43m    \u001b[49m\u001b[43mname\u001b[49m\u001b[38;5;241;43m=\u001b[39;49m\u001b[38;5;124;43m\"\u001b[39;49m\u001b[38;5;124;43mbatch-test-project\u001b[39;49m\u001b[38;5;124;43m\"\u001b[39;49m\u001b[43m,\u001b[49m\n\u001b[1;32m      5\u001b[0m \u001b[43m    \u001b[49m\u001b[43mdescription\u001b[49m\u001b[38;5;241;43m=\u001b[39;49m\u001b[38;5;124;43m\"\u001b[39;49m\u001b[38;5;124;43ma description\u001b[39;49m\u001b[38;5;124;43m\"\u001b[39;49m\u001b[43m,\u001b[49m\n\u001b[1;32m      6\u001b[0m \u001b[43m    \u001b[49m\u001b[43mquality_mode\u001b[49m\u001b[38;5;241;43m=\u001b[39;49m\u001b[43mQualityMode\u001b[49m\u001b[38;5;241;43m.\u001b[39;49m\n\u001b[1;32m      7\u001b[0m \u001b[43m    \u001b[49m\u001b[43mBenchmark\u001b[49m\u001b[43m,\u001b[49m\u001b[43m  \u001b[49m\u001b[38;5;66;43;03m# For Consensus projects use quality_mode = QualityMode.Consensus\u001b[39;49;00m\n\u001b[1;32m      8\u001b[0m \u001b[43m    \u001b[49m\u001b[43mmedia_type\u001b[49m\u001b[38;5;241;43m=\u001b[39;49m\u001b[43mlb\u001b[49m\u001b[38;5;241;43m.\u001b[39;49m\u001b[43mMediaType\u001b[49m\u001b[38;5;241;43m.\u001b[39;49m\u001b[43mImage\u001b[49m\u001b[43m,\u001b[49m\n\u001b[1;32m      9\u001b[0m \u001b[43m)\u001b[49m\n\u001b[1;32m     11\u001b[0m dataset \u001b[38;5;241m=\u001b[39m client\u001b[38;5;241m.\u001b[39mcreate_dataset(name\u001b[38;5;241m=\u001b[39m\u001b[38;5;124m\"\u001b[39m\u001b[38;5;124mqueue_dataset\u001b[39m\u001b[38;5;124m\"\u001b[39m)\n",
            "File \u001b[0;32m~/repos/labelbox-python/env/lib/python3.10/site-packages/labelbox/client.py:818\u001b[0m, in \u001b[0;36mClient.create_project\u001b[0;34m(self, **kwargs)\u001b[0m\n\u001b[1;32m    808\u001b[0m extra_params \u001b[38;5;241m=\u001b[39m {\n\u001b[1;32m    809\u001b[0m     Field\u001b[38;5;241m.\u001b[39mString(\u001b[38;5;124m\"\u001b[39m\u001b[38;5;124mdataset_name_or_id\u001b[39m\u001b[38;5;124m\"\u001b[39m):\n\u001b[1;32m    810\u001b[0m         params\u001b[38;5;241m.\u001b[39mpop(\u001b[38;5;124m\"\u001b[39m\u001b[38;5;124mdataset_name_or_id\u001b[39m\u001b[38;5;124m\"\u001b[39m, \u001b[38;5;28;01mNone\u001b[39;00m),\n\u001b[0;32m   (...)\u001b[0m\n\u001b[1;32m    814\u001b[0m         params\u001b[38;5;241m.\u001b[39mpop(\u001b[38;5;124m\"\u001b[39m\u001b[38;5;124mdata_row_count\u001b[39m\u001b[38;5;124m\"\u001b[39m, \u001b[38;5;28;01mNone\u001b[39;00m),\n\u001b[1;32m    815\u001b[0m }\n\u001b[1;32m    816\u001b[0m extra_params \u001b[38;5;241m=\u001b[39m {k: v \u001b[38;5;28;01mfor\u001b[39;00m k, v \u001b[38;5;129;01min\u001b[39;00m extra_params\u001b[38;5;241m.\u001b[39mitems() \u001b[38;5;28;01mif\u001b[39;00m v \u001b[38;5;129;01mis\u001b[39;00m \u001b[38;5;129;01mnot\u001b[39;00m \u001b[38;5;28;01mNone\u001b[39;00m}\n\u001b[0;32m--> 818\u001b[0m \u001b[38;5;28;01mreturn\u001b[39;00m \u001b[38;5;28;43mself\u001b[39;49m\u001b[38;5;241;43m.\u001b[39;49m\u001b[43m_create\u001b[49m\u001b[43m(\u001b[49m\u001b[43mEntity\u001b[49m\u001b[38;5;241;43m.\u001b[39;49m\u001b[43mProject\u001b[49m\u001b[43m,\u001b[49m\u001b[43m \u001b[49m\u001b[43mparams\u001b[49m\u001b[43m,\u001b[49m\u001b[43m \u001b[49m\u001b[43mextra_params\u001b[49m\u001b[43m)\u001b[49m\n",
            "File \u001b[0;32m~/repos/labelbox-python/env/lib/python3.10/site-packages/labelbox/client.py:596\u001b[0m, in \u001b[0;36mClient._create\u001b[0;34m(self, db_object_type, data, extra_params)\u001b[0m\n\u001b[1;32m    594\u001b[0m data \u001b[38;5;241m=\u001b[39m {\u001b[38;5;241m*\u001b[39m\u001b[38;5;241m*\u001b[39mdata, \u001b[38;5;241m*\u001b[39m\u001b[38;5;241m*\u001b[39mextra_params}\n\u001b[1;32m    595\u001b[0m query_string, params \u001b[38;5;241m=\u001b[39m query\u001b[38;5;241m.\u001b[39mcreate(db_object_type, data)\n\u001b[0;32m--> 596\u001b[0m res \u001b[38;5;241m=\u001b[39m \u001b[38;5;28;43mself\u001b[39;49m\u001b[38;5;241;43m.\u001b[39;49m\u001b[43mexecute\u001b[49m\u001b[43m(\u001b[49m\u001b[43mquery_string\u001b[49m\u001b[43m,\u001b[49m\u001b[43m \u001b[49m\u001b[43mparams\u001b[49m\u001b[43m)\u001b[49m\n\u001b[1;32m    597\u001b[0m \u001b[38;5;28;01mif\u001b[39;00m \u001b[38;5;129;01mnot\u001b[39;00m res:\n\u001b[1;32m    598\u001b[0m     \u001b[38;5;28;01mraise\u001b[39;00m labelbox\u001b[38;5;241m.\u001b[39mexceptions\u001b[38;5;241m.\u001b[39mLabelboxError(\u001b[38;5;124m\"\u001b[39m\u001b[38;5;124mFailed to create \u001b[39m\u001b[38;5;132;01m%s\u001b[39;00m\u001b[38;5;124m\"\u001b[39m \u001b[38;5;241m%\u001b[39m\n\u001b[1;32m    599\u001b[0m                                             db_object_type\u001b[38;5;241m.\u001b[39mtype_name())\n",
            "File \u001b[0;32m~/repos/labelbox-python/env/lib/python3.10/site-packages/google/api_core/retry/retry_unary.py:293\u001b[0m, in \u001b[0;36mRetry.__call__.<locals>.retry_wrapped_func\u001b[0;34m(*args, **kwargs)\u001b[0m\n\u001b[1;32m    289\u001b[0m target \u001b[38;5;241m=\u001b[39m functools\u001b[38;5;241m.\u001b[39mpartial(func, \u001b[38;5;241m*\u001b[39margs, \u001b[38;5;241m*\u001b[39m\u001b[38;5;241m*\u001b[39mkwargs)\n\u001b[1;32m    290\u001b[0m sleep_generator \u001b[38;5;241m=\u001b[39m exponential_sleep_generator(\n\u001b[1;32m    291\u001b[0m     \u001b[38;5;28mself\u001b[39m\u001b[38;5;241m.\u001b[39m_initial, \u001b[38;5;28mself\u001b[39m\u001b[38;5;241m.\u001b[39m_maximum, multiplier\u001b[38;5;241m=\u001b[39m\u001b[38;5;28mself\u001b[39m\u001b[38;5;241m.\u001b[39m_multiplier\n\u001b[1;32m    292\u001b[0m )\n\u001b[0;32m--> 293\u001b[0m \u001b[38;5;28;01mreturn\u001b[39;00m \u001b[43mretry_target\u001b[49m\u001b[43m(\u001b[49m\n\u001b[1;32m    294\u001b[0m \u001b[43m    \u001b[49m\u001b[43mtarget\u001b[49m\u001b[43m,\u001b[49m\n\u001b[1;32m    295\u001b[0m \u001b[43m    \u001b[49m\u001b[38;5;28;43mself\u001b[39;49m\u001b[38;5;241;43m.\u001b[39;49m\u001b[43m_predicate\u001b[49m\u001b[43m,\u001b[49m\n\u001b[1;32m    296\u001b[0m \u001b[43m    \u001b[49m\u001b[43msleep_generator\u001b[49m\u001b[43m,\u001b[49m\n\u001b[1;32m    297\u001b[0m \u001b[43m    \u001b[49m\u001b[43mtimeout\u001b[49m\u001b[38;5;241;43m=\u001b[39;49m\u001b[38;5;28;43mself\u001b[39;49m\u001b[38;5;241;43m.\u001b[39;49m\u001b[43m_timeout\u001b[49m\u001b[43m,\u001b[49m\n\u001b[1;32m    298\u001b[0m \u001b[43m    \u001b[49m\u001b[43mon_error\u001b[49m\u001b[38;5;241;43m=\u001b[39;49m\u001b[43mon_error\u001b[49m\u001b[43m,\u001b[49m\n\u001b[1;32m    299\u001b[0m \u001b[43m\u001b[49m\u001b[43m)\u001b[49m\n",
            "File \u001b[0;32m~/repos/labelbox-python/env/lib/python3.10/site-packages/google/api_core/retry/retry_unary.py:153\u001b[0m, in \u001b[0;36mretry_target\u001b[0;34m(target, predicate, sleep_generator, timeout, on_error, exception_factory, **kwargs)\u001b[0m\n\u001b[1;32m    149\u001b[0m \u001b[38;5;66;03m# pylint: disable=broad-except\u001b[39;00m\n\u001b[1;32m    150\u001b[0m \u001b[38;5;66;03m# This function explicitly must deal with broad exceptions.\u001b[39;00m\n\u001b[1;32m    151\u001b[0m \u001b[38;5;28;01mexcept\u001b[39;00m \u001b[38;5;167;01mException\u001b[39;00m \u001b[38;5;28;01mas\u001b[39;00m exc:\n\u001b[1;32m    152\u001b[0m     \u001b[38;5;66;03m# defer to shared logic for handling errors\u001b[39;00m\n\u001b[0;32m--> 153\u001b[0m     \u001b[43m_retry_error_helper\u001b[49m\u001b[43m(\u001b[49m\n\u001b[1;32m    154\u001b[0m \u001b[43m        \u001b[49m\u001b[43mexc\u001b[49m\u001b[43m,\u001b[49m\n\u001b[1;32m    155\u001b[0m \u001b[43m        \u001b[49m\u001b[43mdeadline\u001b[49m\u001b[43m,\u001b[49m\n\u001b[1;32m    156\u001b[0m \u001b[43m        \u001b[49m\u001b[43msleep\u001b[49m\u001b[43m,\u001b[49m\n\u001b[1;32m    157\u001b[0m \u001b[43m        \u001b[49m\u001b[43merror_list\u001b[49m\u001b[43m,\u001b[49m\n\u001b[1;32m    158\u001b[0m \u001b[43m        \u001b[49m\u001b[43mpredicate\u001b[49m\u001b[43m,\u001b[49m\n\u001b[1;32m    159\u001b[0m \u001b[43m        \u001b[49m\u001b[43mon_error\u001b[49m\u001b[43m,\u001b[49m\n\u001b[1;32m    160\u001b[0m \u001b[43m        \u001b[49m\u001b[43mexception_factory\u001b[49m\u001b[43m,\u001b[49m\n\u001b[1;32m    161\u001b[0m \u001b[43m        \u001b[49m\u001b[43mtimeout\u001b[49m\u001b[43m,\u001b[49m\n\u001b[1;32m    162\u001b[0m \u001b[43m    \u001b[49m\u001b[43m)\u001b[49m\n\u001b[1;32m    163\u001b[0m     \u001b[38;5;66;03m# if exception not raised, sleep before next attempt\u001b[39;00m\n\u001b[1;32m    164\u001b[0m     time\u001b[38;5;241m.\u001b[39msleep(sleep)\n",
            "File \u001b[0;32m~/repos/labelbox-python/env/lib/python3.10/site-packages/google/api_core/retry/retry_base.py:212\u001b[0m, in \u001b[0;36m_retry_error_helper\u001b[0;34m(exc, deadline, next_sleep, error_list, predicate_fn, on_error_fn, exc_factory_fn, original_timeout)\u001b[0m\n\u001b[1;32m    206\u001b[0m \u001b[38;5;28;01mif\u001b[39;00m \u001b[38;5;129;01mnot\u001b[39;00m predicate_fn(exc):\n\u001b[1;32m    207\u001b[0m     final_exc, source_exc \u001b[38;5;241m=\u001b[39m exc_factory_fn(\n\u001b[1;32m    208\u001b[0m         error_list,\n\u001b[1;32m    209\u001b[0m         RetryFailureReason\u001b[38;5;241m.\u001b[39mNON_RETRYABLE_ERROR,\n\u001b[1;32m    210\u001b[0m         original_timeout,\n\u001b[1;32m    211\u001b[0m     )\n\u001b[0;32m--> 212\u001b[0m     \u001b[38;5;28;01mraise\u001b[39;00m final_exc \u001b[38;5;28;01mfrom\u001b[39;00m \u001b[38;5;21;01msource_exc\u001b[39;00m\n\u001b[1;32m    213\u001b[0m \u001b[38;5;28;01mif\u001b[39;00m on_error_fn \u001b[38;5;129;01mis\u001b[39;00m \u001b[38;5;129;01mnot\u001b[39;00m \u001b[38;5;28;01mNone\u001b[39;00m:\n\u001b[1;32m    214\u001b[0m     on_error_fn(exc)\n",
            "File \u001b[0;32m~/repos/labelbox-python/env/lib/python3.10/site-packages/google/api_core/retry/retry_unary.py:144\u001b[0m, in \u001b[0;36mretry_target\u001b[0;34m(target, predicate, sleep_generator, timeout, on_error, exception_factory, **kwargs)\u001b[0m\n\u001b[1;32m    142\u001b[0m \u001b[38;5;28;01mfor\u001b[39;00m sleep \u001b[38;5;129;01min\u001b[39;00m sleep_generator:\n\u001b[1;32m    143\u001b[0m     \u001b[38;5;28;01mtry\u001b[39;00m:\n\u001b[0;32m--> 144\u001b[0m         result \u001b[38;5;241m=\u001b[39m \u001b[43mtarget\u001b[49m\u001b[43m(\u001b[49m\u001b[43m)\u001b[49m\n\u001b[1;32m    145\u001b[0m         \u001b[38;5;28;01mif\u001b[39;00m inspect\u001b[38;5;241m.\u001b[39misawaitable(result):\n\u001b[1;32m    146\u001b[0m             warnings\u001b[38;5;241m.\u001b[39mwarn(_ASYNC_RETRY_WARNING)\n",
            "File \u001b[0;32m~/repos/labelbox-python/env/lib/python3.10/site-packages/labelbox/client.py:256\u001b[0m, in \u001b[0;36mClient.execute\u001b[0;34m(self, query, params, data, files, timeout, experimental, error_log_key)\u001b[0m\n\u001b[1;32m    252\u001b[0m         \u001b[38;5;28;01mreturn\u001b[39;00m \u001b[38;5;241m500\u001b[39m\n\u001b[1;32m    254\u001b[0m \u001b[38;5;28;01mif\u001b[39;00m check_errors([\u001b[38;5;124m\"\u001b[39m\u001b[38;5;124mAUTHENTICATION_ERROR\u001b[39m\u001b[38;5;124m\"\u001b[39m], \u001b[38;5;124m\"\u001b[39m\u001b[38;5;124mextensions\u001b[39m\u001b[38;5;124m\"\u001b[39m,\n\u001b[1;32m    255\u001b[0m                 \u001b[38;5;124m\"\u001b[39m\u001b[38;5;124mcode\u001b[39m\u001b[38;5;124m\"\u001b[39m) \u001b[38;5;129;01mis\u001b[39;00m \u001b[38;5;129;01mnot\u001b[39;00m \u001b[38;5;28;01mNone\u001b[39;00m:\n\u001b[0;32m--> 256\u001b[0m     \u001b[38;5;28;01mraise\u001b[39;00m labelbox\u001b[38;5;241m.\u001b[39mexceptions\u001b[38;5;241m.\u001b[39mAuthenticationError(\u001b[38;5;124m\"\u001b[39m\u001b[38;5;124mInvalid API key\u001b[39m\u001b[38;5;124m\"\u001b[39m)\n\u001b[1;32m    258\u001b[0m authorization_error \u001b[38;5;241m=\u001b[39m check_errors([\u001b[38;5;124m\"\u001b[39m\u001b[38;5;124mAUTHORIZATION_ERROR\u001b[39m\u001b[38;5;124m\"\u001b[39m],\n\u001b[1;32m    259\u001b[0m                                    \u001b[38;5;124m\"\u001b[39m\u001b[38;5;124mextensions\u001b[39m\u001b[38;5;124m\"\u001b[39m, \u001b[38;5;124m\"\u001b[39m\u001b[38;5;124mcode\u001b[39m\u001b[38;5;124m\"\u001b[39m)\n\u001b[1;32m    260\u001b[0m \u001b[38;5;28;01mif\u001b[39;00m authorization_error \u001b[38;5;129;01mis\u001b[39;00m \u001b[38;5;129;01mnot\u001b[39;00m \u001b[38;5;28;01mNone\u001b[39;00m:\n",
            "\u001b[0;31mAuthenticationError\u001b[0m: Invalid API key('Invalid API key', None)"
          ]
        }
      ],
      "source": [
        "# Create Labelbox  project\n",
        "\n",
        "project = client.create_project(\n",
        "    name=\"batch-test-project\",\n",
        "    description=\"a description\",\n",
        "    quality_mode=QualityMode.\n",
        "    Benchmark,  # For Consensus projects use quality_mode = QualityMode.Consensus\n",
        "    media_type=lb.MediaType.Image,\n",
        ")\n",
        "\n",
        "dataset = client.create_dataset(name=\"queue_dataset\")"
      ]
    },
    {
      "cell_type": "markdown",
      "id": "b41394ea",
      "metadata": {},
      "source": [
        "#### Create ontology and attach to project"
      ]
    },
    {
      "cell_type": "code",
      "execution_count": null,
      "id": "37788f0e",
      "metadata": {},
      "outputs": [],
      "source": [
        "classification_features = [\n",
        "    lb.Classification(\n",
        "        class_type=lb.Classification.Type.CHECKLIST,\n",
        "        name=\"Quality Issues\",\n",
        "        options=[\n",
        "            lb.Option(value=\"blurry\", label=\"Blurry\"),\n",
        "            lb.Option(value=\"distorted\", label=\"Distorted\"),\n",
        "        ],\n",
        "    )\n",
        "]\n",
        "\n",
        "ontology_builder = lb.OntologyBuilder(\n",
        "    tools=[], classifications=classification_features\n",
        ")\n",
        "\n",
        "ontology = client.create_ontology(\n",
        "    \"Ontology from new features\",\n",
        "    ontology_builder.asdict(),\n",
        "    media_type=lb.MediaType.Image,\n",
        ")\n",
        "\n",
        "project.setup_editor(ontology)"
      ]
    },
    {
      "cell_type": "markdown",
      "id": "49fffc59",
      "metadata": {},
      "source": [
        "# Add data to your dataset"
      ]
    },
    {
      "cell_type": "code",
      "execution_count": null,
      "id": "c67258ca",
      "metadata": {},
      "outputs": [],
      "source": [
        "## Example image\n",
        "uploads = []\n",
        "global_keys = []\n",
        "# Generate data rows\n",
        "for i in range(1, 5):\n",
        "    global_key = str(uuid4())\n",
        "    row = {\n",
        "        \"row_data\":\n",
        "            f\"https://storage.googleapis.com/labelbox-datasets/People_Clothing_Segmentation/jpeg_images/IMAGES/img_000{i}.jpeg\",\n",
        "        \"global_key\":\n",
        "            global_key,\n",
        "    }\n",
        "    global_keys.append(global_key)\n",
        "    uploads.append(row)\n",
        "\n",
        "data_rows = dataset.create_data_rows(uploads)\n",
        "data_rows.wait_till_done()\n",
        "print(\"Errors\", data_rows.errors)\n",
        "print(\"Dataset status: \", data_rows.status)"
      ]
    },
    {
      "cell_type": "markdown",
      "id": "dcd350a9",
      "metadata": {},
      "source": [
        "# Attach data to your project and set data row priority"
      ]
    },
    {
      "cell_type": "code",
      "execution_count": null,
      "id": "6f55d09f",
      "metadata": {},
      "outputs": [],
      "source": [
        "######## Create batches\n",
        "\n",
        "# Create the batch\n",
        "\n",
        "batch = project.create_batch(\n",
        "    \"batch-demo\",  # Each batch in a project must have a unique name\n",
        "    global_keys=global_keys[\n",
        "        0:2],  # A list of data rows, data row ids or global keys\n",
        "    priority=\n",
        "    5,  # priority between 1(Highest) - 5(lowest) 5 is the max priority that can be set\n",
        ")\n",
        "\n",
        "batch2 = project.create_batch(\n",
        "    \"batch-demo-2\",  # Each batch in a project must have a unique name\n",
        "    # Provide a slice of the data since you can't import assets with global keys that already exist in the project.\n",
        "    global_keys=global_keys[\n",
        "        2:4],  # A list of data rows, data row ids or global keys\n",
        "    priority=\n",
        "    1,  # priority between 1(Highest) - 5(lowest) 5 is the max priority that can be set\n",
        ")\n",
        "\n",
        "print(\"Batch: \", batch)\n",
        "print(\"Batch2: \", batch2)"
      ]
    },
    {
      "cell_type": "code",
      "execution_count": null,
      "id": "01312bb8",
      "metadata": {},
      "outputs": [],
      "source": [
        "print(\n",
        "    \"View the results here:\", f\"https://app.labelbox.com/projects/{project.uid}\"\n",
        ")\n",
        "# Click `start labeling` to see the images in order"
      ]
    },
    {
      "cell_type": "markdown",
      "id": "dedadcd5",
      "metadata": {},
      "source": [
        "## Queue Order\n",
        "- Add priority for each data row\n",
        "- Update priority for each data row"
      ]
    },
    {
      "cell_type": "code",
      "execution_count": null,
      "id": "6ffd794b",
      "metadata": {},
      "outputs": [],
      "source": [
        "export_task = project.export()\n",
        "export_task.wait_till_done()"
      ]
    },
    {
      "cell_type": "code",
      "execution_count": null,
      "id": "b369de1d",
      "metadata": {},
      "outputs": [],
      "source": [
        "# Get data rows from project\n",
        "data_rows = []\n",
        "\n",
        "\n",
        "def json_stream_handler(output: lb.JsonConverterOutput):\n",
        "    data_row = json.loads(output.json_str)\n",
        "    data_rows.append(\n",
        "        lb.GlobalKey(data_row[\"data_row\"][\"global_key\"])\n",
        "    )  # Convert json data row into data row identifier object\n",
        "\n",
        "\n",
        "if export_task.has_errors():\n",
        "    export_task.get_stream(\n",
        "        converter=lb.JsonConverter(), stream_type=lb.StreamType.ERRORS\n",
        "    ).start(stream_handler=lambda error: print(error))\n",
        "\n",
        "if export_task.has_result():\n",
        "    export_json = export_task.get_stream(\n",
        "        converter=lb.JsonConverter(), stream_type=lb.StreamType.RESULT\n",
        "    ).start(stream_handler=json_stream_handler)"
      ]
    },
    {
      "cell_type": "code",
      "execution_count": null,
      "id": "3a72c510",
      "metadata": {},
      "outputs": [],
      "source": [
        "# Get label parameter overrides (LPOs)\n",
        "project_lpos = project.labeling_parameter_overrides()\n",
        "\n",
        "for lpo in project_lpos:\n",
        "    print(lpo)\n",
        "    print(\"Data row:\", lpo.data_row().uid)"
      ]
    },
    {
      "cell_type": "code",
      "execution_count": null,
      "id": "95043487",
      "metadata": {},
      "outputs": [],
      "source": [
        "# Add LPOs\n",
        "lpos = []\n",
        "priority = 1\n",
        "for data_row in data_rows:\n",
        "    lpos.append((data_row, priority))\n",
        "    priority += 1\n",
        "\n",
        "project.set_labeling_parameter_overrides(lpos)\n",
        "\n",
        "# Check results\n",
        "project_lpos = list(project.labeling_parameter_overrides())\n",
        "\n",
        "for lpo in project_lpos:\n",
        "    print(lpo)"
      ]
    },
    {
      "cell_type": "code",
      "execution_count": null,
      "id": "27250d5b",
      "metadata": {},
      "outputs": [],
      "source": [
        "# Update LPOs\n",
        "global_keys = []\n",
        "for data_row in data_rows:\n",
        "    global_keys.append(data_row.key)\n",
        "\n",
        "project.update_data_row_labeling_priority(\n",
        "    data_rows=lb.GlobalKeys(global_keys), priority=1\n",
        ")\n",
        "\n",
        "# Check results\n",
        "project_lpos = list(project.labeling_parameter_overrides())\n",
        "\n",
        "for lpo in project_lpos:\n",
        "    print(lpo)"
      ]
    },
    {
      "cell_type": "markdown",
      "id": "f1cd04ed",
      "metadata": {},
      "source": [
        "# Cleanup"
      ]
    },
    {
      "cell_type": "code",
      "execution_count": null,
      "id": "158900cb",
      "metadata": {},
      "outputs": [],
      "source": [
        "# project.delete()\n",
        "# dataset.delete()"
      ]
    }
  ],
  "metadata": {
    "language_info": {
      "name": "python"
    }
  },
  "nbformat": 4,
  "nbformat_minor": 5
}
