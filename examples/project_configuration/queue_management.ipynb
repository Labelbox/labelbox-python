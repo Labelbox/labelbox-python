{
    "nbformat": 4,
    "nbformat_minor": 5,
    "metadata": {},
    "cells": [
        {
            "cell_type": "markdown",
            "id": "db768cda",
            "metadata": {},
            "source": [
                "<td>",
                "   <a target=\"_blank\" href=\"https://labelbox.com\" ><img src=\"https://labelbox.com/blog/content/images/2021/02/logo-v4.svg\" width=256/></a>",
                "</td>"
            ]
        },
        {
            "cell_type": "markdown",
            "id": "cb5611d0",
            "metadata": {},
            "source": [
                "<td>",
                "<a href=\"https://colab.research.google.com/github/Labelbox/labelbox-python/blob/develop/examples/project_configuration/queue_management.ipynb\" target=\"_blank\"><img",
                "src=\"https://colab.research.google.com/assets/colab-badge.svg\" alt=\"Open In Colab\"></a>",
                "</td>",
                "\n",
                "<td>",
                "<a href=\"https://github.com/Labelbox/labelbox-python/tree/develop/examples/project_configuration/queue_management.ipynb\" target=\"_blank\"><img",
                "src=\"https://img.shields.io/badge/GitHub-100000?logo=github&logoColor=white\" alt=\"GitHub\"></a>",
                "</td>"
            ]
        },
        {
            "metadata": {},
            "source": [
                "# Queue Management"
            ],
            "cell_type": "markdown"
        },
        {
            "metadata": {},
            "source": [
                "* The queue is used to task labelers with specific assets\n",
                "* We can do any of the following:\n",
                "    * Set quality settings\n",
                "    * Set the order of items in the queue\n",
                "    * Set the percent of assets to review"
            ],
            "cell_type": "markdown"
        },
        {
            "metadata": {},
            "source": "%pip install -q \"labelbox[data]\"\n%pip install -q numpy",
            "cell_type": "code",
            "outputs": [],
            "execution_count": null
        },
        {
            "metadata": {},
            "source": "import labelbox as lb\nfrom labelbox.schema.quality_mode import QualityMode\nfrom uuid import uuid4\nimport json",
            "cell_type": "code",
            "outputs": [],
            "execution_count": null
        },
        {
            "metadata": {},
            "source": [
                "# API Key and Client\n",
                "See the developer guide for [creating an API key](https://docs.labelbox.com/reference/create-api-key)."
            ],
            "cell_type": "markdown"
        },
        {
            "metadata": {},
            "source": "# Add your API key\nAPI_KEY = \"\"\nclient = lb.Client(api_key=API_KEY)",
            "cell_type": "code",
            "outputs": [],
            "execution_count": null
        },
        {
            "metadata": {},
            "source": [
                "### Set up demo project"
            ],
            "cell_type": "markdown"
        },
        {
            "metadata": {},
            "source": [
                "#### Create project"
            ],
            "cell_type": "markdown"
        },
        {
            "metadata": {},
            "source": "# Create Labelbox  project\n\nproject = client.create_project(\n    name=\"batch-test-project\",\n    description=\"a description\",\n    quality_mode=QualityMode.\n    Benchmark,  # For Consensus projects use quality_mode = QualityMode.Consensus\n    media_type=lb.MediaType.Image,\n)\n\ndataset = client.create_dataset(name=\"queue_dataset\")",
            "cell_type": "code",
            "outputs": [],
            "execution_count": null
        },
        {
            "metadata": {},
            "source": [
                "#### Create ontology and attach to project"
            ],
            "cell_type": "markdown"
        },
        {
            "metadata": {},
            "source": "classification_features = [\n    lb.Classification(\n        class_type=lb.Classification.Type.CHECKLIST,\n        name=\"Quality Issues\",\n        options=[\n            lb.Option(value=\"blurry\", label=\"Blurry\"),\n            lb.Option(value=\"distorted\", label=\"Distorted\"),\n        ],\n    )\n]\n\nontology_builder = lb.OntologyBuilder(tools=[],\n                                      classifications=classification_features)\n\nontology = client.create_ontology(\n    \"Ontology from new features\",\n    ontology_builder.asdict(),\n    media_type=lb.MediaType.Image,\n)\n\nproject.setup_editor(ontology)",
            "cell_type": "code",
            "outputs": [],
            "execution_count": null
        },
        {
            "metadata": {},
            "source": [
                "# Add data to your dataset"
            ],
            "cell_type": "markdown"
        },
        {
            "metadata": {},
            "source": "## Example image\nuploads = []\nglobal_keys = []\n# Generate data rows\nfor i in range(1, 5):\n    global_key = str(uuid4())\n    row = {\n        \"row_data\":\n            f\"https://storage.googleapis.com/labelbox-datasets/People_Clothing_Segmentation/jpeg_images/IMAGES/img_000{i}.jpeg\",\n        \"global_key\":\n            global_key,\n    }\n    global_keys.append(global_key)\n    uploads.append(row)\n\ndata_rows = dataset.create_data_rows(uploads)\ndata_rows.wait_till_done()\nprint(\"Errors\", data_rows.errors)\nprint(\"Dataset status: \", data_rows.status)",
            "cell_type": "code",
            "outputs": [],
            "execution_count": null
        },
        {
            "metadata": {},
            "source": [
                "# Attach data to your project and set data row priority"
            ],
            "cell_type": "markdown"
        },
        {
            "metadata": {},
            "source": "######## Create batches\n\n# Create the batch\n\nbatch = project.create_batch(\n    \"batch-demo\",  # Each batch in a project must have a unique name\n    global_keys=global_keys[\n        0:2],  # A list of data rows, data row ids or global keys\n    priority=\n    5,  # priority between 1(Highest) - 5(lowest) 5 is the max priority that can be set\n)\n\nbatch2 = project.create_batch(\n    \"batch-demo-2\",  # Each batch in a project must have a unique name\n    # Provide a slice of the data since you can't import assets with global keys that already exist in the project.\n    global_keys=global_keys[\n        2:4],  # A list of data rows, data row ids or global keys\n    priority=\n    1,  # priority between 1(Highest) - 5(lowest) 5 is the max priority that can be set\n)\n\nprint(\"Batch: \", batch)\nprint(\"Batch2: \", batch2)",
            "cell_type": "code",
            "outputs": [],
            "execution_count": null
        },
        {
            "metadata": {},
            "source": "print(\"View the results here:\",\n      f\"https://app.labelbox.com/projects/{project.uid}\")\n# Click `start labeling` to see the images in order",
            "cell_type": "code",
            "outputs": [],
            "execution_count": null
        },
        {
            "metadata": {},
            "source": [
                "## Queue Order\n",
                "- Add priority for each data row\n",
                "- Update priority for each data row"
            ],
            "cell_type": "markdown"
        },
        {
            "metadata": {},
            "source": "export_task = project.export()\nexport_task.wait_till_done()",
            "cell_type": "code",
            "outputs": [],
            "execution_count": null
        },
        {
            "metadata": {},
            "source": "# Get data rows from project\ndata_rows = []\n\n\ndef json_stream_handler(output: lb.JsonConverterOutput):\n    data_row = json.loads(output.json_str)\n    data_rows.append(lb.GlobalKey(data_row[\"data_row\"][\"global_key\"])\n                    )  # Convert json data row into data row identifier object\n\n\nif export_task.has_errors():\n    export_task.get_stream(converter=lb.JsonConverter(),\n                           stream_type=lb.StreamType.ERRORS).start(\n                               stream_handler=lambda error: print(error))\n\nif export_task.has_result():\n    export_json = export_task.get_stream(\n        converter=lb.JsonConverter(), stream_type=lb.StreamType.RESULT).start(\n            stream_handler=json_stream_handler)",
            "cell_type": "code",
            "outputs": [],
            "execution_count": null
        },
        {
            "metadata": {},
            "source": "# Get label parameter overrides (LPOs)\nproject_lpos = project.labeling_parameter_overrides()\n\nfor lpo in project_lpos:\n    print(lpo)\n    print(\"Data row:\", lpo.data_row().uid)",
            "cell_type": "code",
            "outputs": [],
            "execution_count": null
        },
        {
            "metadata": {},
            "source": "# Add LPOs\nlpos = []\npriority = 1\nfor data_row in data_rows:\n    lpos.append((data_row, priority))\n    priority += 1\n\nproject.set_labeling_parameter_overrides(lpos)\n\n# Check results\nproject_lpos = list(project.labeling_parameter_overrides())\n\nfor lpo in project_lpos:\n    print(lpo)",
            "cell_type": "code",
            "outputs": [],
            "execution_count": null
        },
        {
            "metadata": {},
            "source": "# Update LPOs\nglobal_keys = []\nfor data_row in data_rows:\n    global_keys.append(data_row.key)\n\nproject.update_data_row_labeling_priority(data_rows=lb.GlobalKeys(global_keys),\n                                          priority=1)\n\n# Check results\nproject_lpos = list(project.labeling_parameter_overrides())\n\nfor lpo in project_lpos:\n    print(lpo)",
            "cell_type": "code",
            "outputs": [],
            "execution_count": null
        },
        {
            "metadata": {},
            "source": [
                "# Cleanup"
            ],
            "cell_type": "markdown"
        },
        {
            "metadata": {},
            "source": "# project.delete()\n# dataset.delete()",
            "cell_type": "code",
            "outputs": [],
            "execution_count": null
        }
    ]
}