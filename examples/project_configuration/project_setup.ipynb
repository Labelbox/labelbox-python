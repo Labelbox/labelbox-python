{
    "cells": [
        {
            "cell_type": "markdown",
            "id": "boxed-football",
            "metadata": {},
            "source": [
                "# Project Setup\n",
                "* This section describes how to create and configure a project\n",
                "* This is the same as creating a new project in the editor and going through all of the steps."
            ]
        },
        {
            "cell_type": "markdown",
            "id": "thousand-difference",
            "metadata": {},
            "source": [
                "* When a user creates a project with client.create_project() the project is not ready for labeling.\n",
                "    * An ontology must be set\n",
                "    * datasets must be attached"
            ]
        },
        {
            "cell_type": "code",
            "execution_count": 1,
            "id": "contemporary-banking",
            "metadata": {},
            "outputs": [],
            "source": "!pip install labelbox"
        },
        {
            "cell_type": "code",
            "execution_count": 2,
            "id": "ordered-notice",
            "metadata": {},
            "outputs": [],
            "source": "from labelbox import Client, Project, LabelingFrontend\nfrom labelbox.schema.ontology import Tool, OntologyBuilder\nfrom getpass import getpass\nimport os"
        },
        {
            "cell_type": "code",
            "execution_count": 3,
            "id": "alert-train",
            "metadata": {},
            "outputs": [],
            "source": "# If you don't want to give google access to drive you can skip this cell\n# and manually set `API_KEY` below.\n\nCOLAB = \"google.colab\" in str(get_ipython())\nif COLAB:\n    !pip install colab-env -qU\n    from colab_env import envvar_handler\n    envvar_handler.envload()\n\nAPI_KEY = os.environ.get(\"LABELBOX_API_KEY\")\nif not os.environ.get(\"LABELBOX_API_KEY\"):\n    API_KEY = getpass(\"Please enter your labelbox api key\")\n    if COLAB:\n        envvar_handler.add_env(\"LABELBOX_API_KEY\", API_KEY)"
        },
        {
            "cell_type": "code",
            "execution_count": 4,
            "id": "royal-algeria",
            "metadata": {},
            "outputs": [],
            "source": "# Set this to a project that is already set up\nPROJECT_ID = \"ckm4xyfncfgja0760vpfdxoro\"\n# Only update this if you have an on-prem deployment\nENDPOINT = \"https://api.labelbox.com/graphql\""
        },
        {
            "cell_type": "code",
            "execution_count": 5,
            "id": "welsh-maker",
            "metadata": {},
            "outputs": [],
            "source": "client = Client(api_key=API_KEY, endpoint=ENDPOINT)"
        },
        {
            "cell_type": "markdown",
            "id": "least-stone",
            "metadata": {},
            "source": [
                "### Identify project, dataset, and ontology\n",
                "* Pick the project to setup\n",
                "* Dataset(s) to attach to that project\n",
                "* Configure the ontology for the project"
            ]
        },
        {
            "cell_type": "code",
            "execution_count": 6,
            "id": "mobile-south",
            "metadata": {},
            "outputs": [
                {
                    "data": {
                        "text/plain": [
                            "<DataRow ID: ckn3usvht732e0y89a03w0j8w>"
                        ]
                    },
                    "execution_count": 5,
                    "metadata": {},
                    "output_type": "execute_result"
                }
            ],
            "source": "# Use bounding boxes to label cats\nontology_builder = OntologyBuilder(\n    tools=[Tool(name=\"cat\", tool=Tool.Type.BBOX)])\nproject = client.create_project(name=\"my_new_project\")\ndataset = client.create_dataset(name=\"my_new_dataset\")\n# Add data_rows since this is a new dataset (see basics/data_rows.ipynb for more information on this)\ntest_img_url = \"https://upload.wikimedia.org/wikipedia/commons/thumb/0/08/Kitano_Street_Kobe01s5s4110.jpg/2560px-Kitano_Street_Kobe01s5s4110.jpg\"\ndataset.create_data_row(row_data=test_img_url)"
        },
        {
            "cell_type": "code",
            "execution_count": 7,
            "id": "neural-scanning",
            "metadata": {},
            "outputs": [],
            "source": "# Unless you are using a custom editor you should always use the following editor:\neditor = next(\n    client.get_labeling_frontends(where=LabelingFrontend.name == \"Editor\"))"
        },
        {
            "cell_type": "code",
            "execution_count": 8,
            "id": "attended-twist",
            "metadata": {},
            "outputs": [],
            "source": "# Note that you can use any dataset or ontology even if they already exist.\nexisting_project = client.get_project(PROJECT_ID)\n# We are not using this, but it is possible to copy the ontology to the new project\nontology = existing_project.ontology()"
        },
        {
            "cell_type": "code",
            "execution_count": 9,
            "id": "cheap-fortune",
            "metadata": {},
            "outputs": [
                {
                    "data": {
                        "text/plain": [
                            "[<DataRow ID: ckn3usvht732e0y89a03w0j8w>]"
                        ]
                    },
                    "execution_count": 9,
                    "metadata": {},
                    "output_type": "execute_result"
                }
            ],
            "source": "list(project.queued_data_rows())"
        },
        {
            "cell_type": "markdown",
            "id": "limiting-bleeding",
            "metadata": {},
            "source": [
                "### Setup and attach dataset\n",
                "* Setting up a project will add an ontology and will enable labeling to begin\n",
                "* Attaching dataset(s) will add all data_rows belonging to the dataset to the queue."
            ]
        },
        {
            "cell_type": "code",
            "execution_count": 10,
            "id": "reserved-vietnam",
            "metadata": {},
            "outputs": [],
            "source": "project.setup(editor, ontology_builder.asdict())\n# Could also do if ontology is a normalized ontology\n# project.setup(editor, ontology.normalized)"
        },
        {
            "cell_type": "code",
            "execution_count": 11,
            "id": "unexpected-vegetarian",
            "metadata": {},
            "outputs": [],
            "source": "# Run this for each dataset we want to attach\nproject.datasets.connect(dataset)\n# project.datasets.connect(another_dataset)"
        },
        {
            "cell_type": "markdown",
            "id": "afraid-trademark",
            "metadata": {},
            "source": [
                "### Review"
            ]
        },
        {
            "cell_type": "code",
            "execution_count": 12,
            "id": "vanilla-diamond",
            "metadata": {},
            "outputs": [],
            "source": "# Note setup_complete will be None if it fails.\nprint(project.setup_complete)\nprint(project.ontology)\nprint([ds.name for ds in project.datasets()])"
        },
        {
            "cell_type": "code",
            "execution_count": 13,
            "id": "alpha-dayton",
            "metadata": {},
            "outputs": [],
            "source": "print(f\"https://app.labelbox.com/projects/{project.uid}\")"
        }
    ],
    "metadata": {
        "kernelspec": {
            "display_name": "Python 3",
            "language": "python",
            "name": "python3"
        },
        "language_info": {
            "codemirror_mode": {
                "name": "ipython",
                "version": 3
            },
            "file_extension": ".py",
            "mimetype": "text/x-python",
            "name": "python",
            "nbconvert_exporter": "python",
            "pygments_lexer": "ipython3",
            "version": "3.8.2"
        }
    },
    "nbformat": 4,
    "nbformat_minor": 5
}