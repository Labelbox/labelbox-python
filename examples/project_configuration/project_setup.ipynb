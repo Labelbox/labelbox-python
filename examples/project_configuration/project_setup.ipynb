{
    "cells": [
        {
            "cell_type": "markdown",
            "id": "db768cda",
            "metadata": {},
            "source": [
                "<td>\n",
                "   <a target=\"_blank\" href=\"https://labelbox.com\" ><img src=\"https://labelbox.com/blog/content/images/2021/02/logo-v4.svg\" width=256/></a>\n",
                "</td>"
            ]
        },
        {
            "cell_type": "markdown",
            "id": "cb5611d0",
            "metadata": {},
            "source": [
                "<td>\n",
                "<a href=\"https://colab.research.google.com/github/Labelbox/labelbox-python/blob/develop/examples/project_configuration/project_setup.ipynb\" target=\"_blank\"><img\n",
                "src=\"https://colab.research.google.com/assets/colab-badge.svg\" alt=\"Open In Colab\"></a>\n",
                "</td>\n",
                "\n",
                "<td>\n",
                "<a href=\"https://github.com/Labelbox/labelbox-python/tree/develop/examples/project_configuration/project_setup.ipynb\" target=\"_blank\"><img\n",
                "src=\"https://img.shields.io/badge/GitHub-100000?logo=github&logoColor=white\" alt=\"GitHub\"></a>\n",
                "</td>"
            ]
        },
        {
            "cell_type": "markdown",
            "id": "boxed-football",
            "metadata": {},
            "source": [
                "# Project Setup\n",
                "* This notebok describes how to create and configure a project\n",
                "* This is the same as creating a new project in the editor and going through all of the steps."
            ]
        },
        {
            "cell_type": "markdown",
            "id": "thousand-difference",
            "metadata": {},
            "source": [
                "* When a user creates a project with client.create_project() the project is not ready for labeling.\n",
                "    * An ontology must be set\n",
                "    * datasets must be attached"
            ]
        },
        {
            "cell_type": "code",
            "execution_count": 1,
            "id": "contemporary-banking",
            "metadata": {},
            "outputs": [],
            "source": [
                "!pip install labelbox"
            ]
        },
        {
            "cell_type": "code",
            "execution_count": 2,
            "id": "ordered-notice",
            "metadata": {},
            "outputs": [],
            "source": [
                "from labelbox import Client, Project, Tool, OntologyBuilder"
            ]
        },
        {
            "cell_type": "markdown",
            "id": "2c66dbf3",
            "metadata": {},
            "source": [
                "# API Key and Client\n",
                "Provide a valid api key below in order to properly connect to the Labelbox Client."
            ]
        },
        {
            "cell_type": "code",
            "execution_count": 3,
            "id": "royal-algeria",
            "metadata": {},
            "outputs": [],
            "source": [
                "# Add your api key\n",
                "API_KEY = None\n",
                "client = Client(api_key=API_KEY)"
            ]
        },
        {
            "cell_type": "markdown",
            "id": "least-stone",
            "metadata": {},
            "source": [
                "### Create Dataset\n",
                "* Create dataset and attach data\n",
                "* More details on attaching data can be found [here](https://github.com/Labelbox/labelbox-python/blob/develop/examples/basics/data_rows.ipynb)"
            ]
        },
        {
            "cell_type": "code",
            "execution_count": 4,
            "id": "0c195add",
            "metadata": {},
            "outputs": [],
            "source": [
                "dataset = client.create_dataset(name=\"my_new_dataset\")\n",
                "# Add data_rows since this is a new dataset (see basics/data_rows.ipynb for more information on this)\n",
                "test_img_url = \"https://raw.githubusercontent.com/Labelbox/labelbox-python/develop/examples/assets/2560px-Kitano_Street_Kobe01s5s4110.jpg\"\n",
                "dataset.create_data_row(row_data=test_img_url)"
            ]
        },
        {
            "cell_type": "markdown",
            "id": "e4f8b7f7",
            "metadata": {},
            "source": [
                "### Create Or Select an Ontology\n",
                "* Optionally create an ontology or select from an existing one.\n",
                "* More details on ontology management can be found [here](https://github.com/Labelbox/labelbox-python/blob/develop/examples/basics/ontologies.ipynb)\n",
                "   "
            ]
        },
        {
            "cell_type": "code",
            "execution_count": 5,
            "id": "a9e4738c",
            "metadata": {},
            "outputs": [],
            "source": [
                "# Create\n",
                "ontology_builder = OntologyBuilder(\n",
                "    tools=[Tool(name=\"cat\", tool=Tool.Type.BBOX)])\n",
                "ontology = client.create_ontology(\"project-setup-demo-ontology\",\n",
                "                                  ontology_builder.asdict())\n",
                "# Select existing ontology\n",
                "#ontology = client.get_ontology(\"<ontology_id>\")\n",
                "#ontology = existing_project.ontology()"
            ]
        },
        {
            "cell_type": "markdown",
            "id": "limiting-bleeding",
            "metadata": {},
            "source": [
                "### Create Project and Setup the Editor\n",
                "* Setting up a project will add an ontology and will enable labeling to begin\n",
                "* Attaching dataset(s) will add all data_rows belonging to the dataset to the queue."
            ]
        },
        {
            "cell_type": "code",
            "execution_count": 6,
            "id": "reserved-vietnam",
            "metadata": {},
            "outputs": [],
            "source": [
                "project = client.create_project(name=\"my_new_project\")\n",
                "project.setup_editor(ontology)\n",
                "project.datasets.connect(dataset)"
            ]
        },
        {
            "cell_type": "markdown",
            "id": "afraid-trademark",
            "metadata": {},
            "source": [
                "### Review"
            ]
        },
        {
            "cell_type": "code",
            "execution_count": 7,
            "id": "vanilla-diamond",
            "metadata": {},
            "outputs": [],
            "source": [
                "# Note setup_complete will be None if it fails.\n",
                "print(project.setup_complete)\n",
                "print(project.ontology())\n",
                "print([ds.name for ds in project.datasets()])"
            ]
        },
        {
            "cell_type": "code",
            "execution_count": 8,
            "id": "alpha-dayton",
            "metadata": {},
            "outputs": [],
            "source": [
                "print(f\"https://app.labelbox.com/projects/{project.uid}\")"
            ]
        }
    ],
    "metadata": {
        "kernelspec": {
            "display_name": "Python 3 (ipykernel)",
            "language": "python",
            "name": "python3"
        },
        "language_info": {
            "codemirror_mode": {
                "name": "ipython",
                "version": 3
            },
            "file_extension": ".py",
            "mimetype": "text/x-python",
            "name": "python",
            "nbconvert_exporter": "python",
            "pygments_lexer": "ipython3",
            "version": "3.8.2"
        }
    },
    "nbformat": 4,
    "nbformat_minor": 5
}
