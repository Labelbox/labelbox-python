{
  "nbformat": 4,
  "nbformat_minor": 5,
  "metadata": {},
  "cells": [
    {
      "metadata": {},
      "source": [
        "<td>\n",
        "   <a target=\"_blank\" href=\"https://labelbox.com\" ><img src=\"https://labelbox.com/blog/content/images/2021/02/logo-v4.svg\" width=190/></a>\n",
        "</td>"
      ],
      "cell_type": "markdown"
    },
    {
      "metadata": {},
      "source": [
        "<td>\n",
        "<a href=\"https://colab.research.google.com/github/Labelbox/labelbox-python/blob/master/examples/project_configuration/project_setup.ipynb\" target=\"_blank\"><img\n",
        "src=\"https://colab.research.google.com/assets/colab-badge.svg\" alt=\"Open In Colab\"></a>\n",
        "</td>\n",
        "\n",
        "<td>\n",
        "<a href=\"https://github.com/Labelbox/labelbox-python/tree/master/examples/project_configuration/project_setup.ipynb\" target=\"_blank\"><img\n",
        "src=\"https://img.shields.io/badge/GitHub-100000?logo=github&logoColor=white\" alt=\"GitHub\"></a>\n",
        "</td>"
      ],
      "cell_type": "markdown"
    },
    {
      "metadata": {},
      "source": [
        "# Project Setup\n",
        "* This notebok describes how to create and configure a project\n",
        "* This is the same as creating a new project in the editor and going through all of the steps."
      ],
      "cell_type": "markdown"
    },
    {
      "metadata": {},
      "source": [
        "* When a user creates a project with client.create_project() the project is not ready for labeling.\n",
        "    * An ontology must be set\n",
        "    * Datasets/Batchh must be attached"
      ],
      "cell_type": "markdown"
    },
    {
      "metadata": {},
      "source": [
        "!pip install labelbox[data]"
      ],
      "cell_type": "code",
      "outputs": [],
      "execution_count": null
    },
    {
      "metadata": {},
      "source": [
        "import labelbox as lb\n",
        "import uuid"
      ],
      "cell_type": "code",
      "outputs": [],
      "execution_count": null
    },
    {
      "metadata": {},
      "source": [
        "# API Key and Client\n",
        "Provide a valid api key below in order to properly connect to the Labelbox Client."
      ],
      "cell_type": "markdown"
    },
    {
      "metadata": {},
      "source": [
        "# Add your api key\n",
        "API_KEY=None\n",
        "client = lb.Client(api_key=API_KEY)"
      ],
      "cell_type": "code",
      "outputs": [],
      "execution_count": null
    },
    {
      "metadata": {},
      "source": [
        "### Create Dataset\n",
        "* Create dataset and attach data\n",
        "* More details on attaching data can be found [here](https://github.com/Labelbox/labelbox-python/blob/master/examples/basics/data_rows.ipynb)"
      ],
      "cell_type": "markdown"
    },
    {
      "metadata": {},
      "source": [
        "dataset = client.create_dataset(name=\"project_setup_demo\")\n",
        "## Example image\n",
        "uploads = []\n",
        "# Generate data rows\n",
        "for i in range(1,9):\n",
        "    uploads.append({\n",
        "        'row_data':  f\"https://storage.googleapis.com/labelbox-datasets/People_Clothing_Segmentation/jpeg_images/IMAGES/img_000{i}.jpeg\",\n",
        "        \"global_key\": f\"ID-{ uuid.uuid1()}\"\n",
        "    })\n",
        "data_rows = dataset.create_data_rows(uploads)\n",
        "data_rows.wait_till_done()\n",
        "print(\"ERRORS: \" , data_rows.errors)\n",
        "print(\"RESULT URL: \", data_rows.result_url)"
      ],
      "cell_type": "code",
      "outputs": [
        {
          "name": "stdout",
          "output_type": "stream",
          "text": [
            "ERRORS:  None\n",
            "RESULT URL:  https://storage.labelbox.com/cl3ahv73w1891087qbwzs3edd%2Fdata-row-imports-results%2Fcl9sj9crk0zf307yo0mnm17y4_cl9sj9e1u50gm07upd3xj7vyx.json?Expires=1667050292662&KeyName=labelbox-assets-key-3&Signature=JW912R-7wveaHGyhkdKIBRKEtVw\n"
          ]
        }
      ],
      "execution_count": null
    },
    {
      "metadata": {},
      "source": [
        "### Create Or Select an Ontology\n",
        "* Optionally create an ontology or select from an existing one.\n",
        "* More details on ontology management can be found [here](https://github.com/Labelbox/labelbox-python/blob/master/examples/basics/ontologies.ipynb)\n",
        "   "
      ],
      "cell_type": "markdown"
    },
    {
      "metadata": {},
      "source": [
        "# Create\n",
        "ontology_builder = lb.OntologyBuilder(\n",
        "    tools=[lb.Tool(name=\"cat\", tool=lb.Tool.Type.BBOX)])\n",
        "ontology = client.create_ontology(\"project-setup-demo-ontology\",\n",
        "                                  ontology_builder.asdict())\n",
        "# Select existing ontology\n",
        "#ontology = client.get_ontology(\"<ontology_id>\")\n",
        "#ontology = existing_project.ontology()"
      ],
      "cell_type": "code",
      "outputs": [],
      "execution_count": null
    },
    {
      "metadata": {},
      "source": [
        "### Create Project and Setup the Editor\n",
        "* Setting up a project will add an ontology and will enable labeling to begin\n",
        "* Attaching dataset(s) will add all data_rows belonging to the dataset to the queue.\n",
        "* Creating batches will add data rows exported from a dataset"
      ],
      "cell_type": "markdown"
    },
    {
      "metadata": {},
      "source": [
        "batch_project = client.create_project(name=\"batch-test-project\", \n",
        "                                media_type=lb.MediaType.Image,\n",
        "                                # Setup quality settings (Benchmarks)\n",
        "                                auto_audit_percentage=1,\n",
        "                                auto_audit_number_of_labels=1,\n",
        "                                queue_mode=lb.QueueMode.Batch)\n",
        "\n",
        "\n",
        "dataset_project = client.create_project(name=\"dataset-test-project\",\n",
        "                                description=\"a description\",\n",
        "                                media_type=lb.MediaType.Image,\n",
        "                                ## Setup quality settings (Consensus)\n",
        "                                auto_audit_percentage=0.1,\n",
        "                                auto_audit_number_of_labels=3,\n",
        "                                queue_mode=lb.QueueMode.Dataset)\n",
        "\n",
        "batch_project.setup_editor(ontology)\n",
        "dataset_project.setup_editor(ontology)\n"
      ],
      "cell_type": "code",
      "outputs": [],
      "execution_count": null
    },
    {
      "metadata": {},
      "source": [
        "# Add data to your projects "
      ],
      "cell_type": "markdown"
    },
    {
      "metadata": {},
      "source": [
        "\n",
        "####### Connect your dataset \n",
        "# Dataset projects do not support batches\n",
        "\n",
        "dataset_project.datasets.connect(dataset)\n",
        "\n",
        "######## Create batches \n",
        "# Batch projects do not support datasets\n",
        "\n",
        "# We need the data row ID to create a batch\n",
        "batch_datarows = [dr.uid for dr in list(dataset.export_data_rows())]\n",
        "\n",
        "## When creating a batch you can also setup the data rows priority\n",
        "batch = batch_project.create_batch(\n",
        "  \"batch-demo\", # Each batch in a project must have a unique name\n",
        "  batch_datarows, # A list of data rows or data row ids\n",
        "  5 # priority between 1(Highest) - 5(lowest)\n",
        ")\n",
        "print(\"Batch: \", batch)"
      ],
      "cell_type": "code",
      "outputs": [
        {
          "name": "stdout",
          "output_type": "stream",
          "text": [
            "Batch:  <Batch {'created_at': datetime.datetime(2022, 10, 28, 13, 32, 56, tzinfo=datetime.timezone.utc), 'name': 'batch-demo', 'size': 8, 'uid': '086cfda0-56c5-11ed-a20f-291accbaa64c', 'updated_at': datetime.datetime(2022, 10, 28, 13, 32, 56, tzinfo=datetime.timezone.utc)}>\n"
          ]
        }
      ],
      "execution_count": null
    },
    {
      "metadata": {},
      "source": [
        "### Review"
      ],
      "cell_type": "markdown"
    },
    {
      "metadata": {},
      "source": [
        "# Note setup_complete will be None if it fails.\n",
        "print(batch_project.setup_complete)\n",
        "print(dataset_project.setup_complete)\n",
        "print(batch_project.ontology())\n",
        "\n",
        "print(dataset_project.ontology())\n",
        "print([ds.name for ds in batch_project.batches()])\n",
        "print([ds.name for ds in dataset_project.datasets()])"
      ],
      "cell_type": "code",
      "outputs": [
        {
          "name": "stdout",
          "output_type": "stream",
          "text": [
            "2022-10-28 13:32:45+00:00\n",
            "2022-10-28 13:32:50+00:00\n",
            "<Ontology {'classification_schema_count': 0, 'created_at': datetime.datetime(2022, 10, 28, 13, 31, 37, 384000, tzinfo=datetime.timezone.utc), 'description': None, 'name': 'project-setup-demo-ontology', 'normalized': {'tools': [{'schemaNodeId': 'cl9sj9j5c59ig08z586542v8d', 'featureSchemaId': 'cl9sj9j5c59if08z54zqmam0f', 'required': False, 'name': 'cat', 'tool': 'rectangle', 'color': '#ff0000', 'archived': 0, 'classifications': []}], 'classifications': [], 'relationships': []}, 'object_schema_count': 1, 'uid': 'cl9sj9j5059ie08z57041es1r', 'updated_at': datetime.datetime(2022, 10, 28, 13, 31, 37, 384000, tzinfo=datetime.timezone.utc)}>\n",
            "<Ontology {'classification_schema_count': 0, 'created_at': datetime.datetime(2022, 10, 28, 13, 31, 37, 384000, tzinfo=datetime.timezone.utc), 'description': None, 'name': 'project-setup-demo-ontology', 'normalized': {'tools': [{'schemaNodeId': 'cl9sj9j5c59ig08z586542v8d', 'featureSchemaId': 'cl9sj9j5c59if08z54zqmam0f', 'required': False, 'name': 'cat', 'tool': 'rectangle', 'color': '#ff0000', 'archived': 0, 'classifications': []}], 'classifications': [], 'relationships': []}, 'object_schema_count': 1, 'uid': 'cl9sj9j5059ie08z57041es1r', 'updated_at': datetime.datetime(2022, 10, 28, 13, 31, 37, 384000, tzinfo=datetime.timezone.utc)}>\n",
            "['batch-demo']\n",
            "['project_setup_demo']\n"
          ]
        }
      ],
      "execution_count": null
    },
    {
      "metadata": {},
      "source": [
        "print(f\"https://app.labelbox.com/projects/{batch_project.uid}\")\n",
        "print(f\"https://app.labelbox.com/projects/{dataset_project.uid}\")"
      ],
      "cell_type": "code",
      "outputs": [
        {
          "name": "stdout",
          "output_type": "stream",
          "text": [
            "https://app.labelbox.com/projects/cl9sjavsl2oqx07w92abm9zy0\n",
            "https://app.labelbox.com/projects/cl9sjaw2d2pgq07vddlfsgy6k\n"
          ]
        }
      ],
      "execution_count": null
    },
    {
      "metadata": {},
      "source": [
        "# Cleanup"
      ],
      "cell_type": "markdown"
    },
    {
      "metadata": {},
      "source": [
        "# batch_project.delete()\n",
        "# dataset_project.delete()\n",
        "# dataset.delete()"
      ],
      "cell_type": "code",
      "outputs": [],
      "execution_count": null
    }
  ]
}