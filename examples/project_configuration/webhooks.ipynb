{
    "cells": [
        {
            "cell_type": "markdown",
            "id": "registered-pressure",
            "metadata": {},
            "source": [
                "# Webhook Configuration"
            ]
        },
        {
            "cell_type": "markdown",
            "id": "surface-message",
            "metadata": {},
            "source": [
                "* Webhooks are supported for the following events:\n",
                "    1. label_created\n",
                "    2. label_updated\n",
                "    3. label_deleted\n",
                "    4. review_created\n",
                "    5. review_updated\n",
                "    6. review_deleted"
            ]
        },
        {
            "cell_type": "code",
            "execution_count": 1,
            "id": "authentic-necessity",
            "metadata": {},
            "outputs": [],
            "source": "!pip install labelbox\n!pip install requests\n!pip install hmac\n!pip install hashlib\n!pip install flask\n!pip install Werkzeug"
        },
        {
            "cell_type": "code",
            "execution_count": 2,
            "id": "responsible-clinton",
            "metadata": {},
            "outputs": [],
            "source": "from labelbox import Client, Webhook\nfrom flask import Flask, request\nimport hmac\nimport hashlib\nimport threading\nfrom werkzeug.serving import run_simple\nimport json\nimport requests\nimport os\nfrom getpass import getpass\nimport socket"
        },
        {
            "cell_type": "code",
            "execution_count": 3,
            "id": "foreign-theorem",
            "metadata": {},
            "outputs": [],
            "source": "# If you don't want to give google access to drive you can skip this cell\n# and manually set `API_KEY` below.\n\nCOLAB = \"google.colab\" in str(get_ipython())\nif COLAB:\n    !pip install colab-env -qU\n    from colab_env import envvar_handler\n\n    envvar_handler.envload()\n\nAPI_KEY = os.environ.get(\"LABELBOX_API_KEY\")\nif not os.environ.get(\"LABELBOX_API_KEY\"):\n    API_KEY = getpass(\"Please enter your labelbox api key\")\n    if COLAB:\n        envvar_handler.add_env(\"LABELBOX_API_KEY\", API_KEY)"
        },
        {
            "cell_type": "code",
            "execution_count": 4,
            "id": "satellite-impossible",
            "metadata": {},
            "outputs": [],
            "source": "# Set this to a project that you want to use for the webhook\nPROJECT_ID = \"ckm4xyfncfgja0760vpfdxoro\"\n# Only update this if you have an on-prem deployment\nENDPOINT = \"https://api.labelbox.com/graphql\""
        },
        {
            "cell_type": "code",
            "execution_count": 5,
            "id": "clean-ireland",
            "metadata": {},
            "outputs": [],
            "source": "client = Client(api_key=API_KEY, endpoint=ENDPOINT)"
        },
        {
            "cell_type": "code",
            "execution_count": 6,
            "id": "bacterial-cheat",
            "metadata": {},
            "outputs": [],
            "source": "# We are using port 3001 for this example.\n# Feel free to set to whatever port you want\nWH_PORT = 3001"
        },
        {
            "cell_type": "markdown",
            "id": "owned-halifax",
            "metadata": {},
            "source": [
                "### Configure NGROK (Optional)\n",
                "* If you do not have a public ip address then follow along\n",
                "\n",
                "1. Create an account:\n",
                "    https://dashboard.ngrok.com/get-started/setup\n",
                "2. Download ngrok and extract the zip file\n",
                "3. Add ngrok to your path\n",
                "4. Add the authtoken `ngrok authtoken <token>`"
            ]
        },
        {
            "cell_type": "code",
            "execution_count": 7,
            "id": "aboriginal-antibody",
            "metadata": {},
            "outputs": [
                {
                    "data": {
                        "text/plain": [
                            "0"
                        ]
                    },
                    "execution_count": 6,
                    "metadata": {},
                    "output_type": "execute_result"
                }
            ],
            "source": "if not COLAB:\n    os.system(f\"ngrok http {WH_PORT} &\")"
        },
        {
            "cell_type": "markdown",
            "id": "fitted-adams",
            "metadata": {},
            "source": [
                "### Configure server to receive requests"
            ]
        },
        {
            "cell_type": "code",
            "execution_count": 8,
            "id": "stable-group",
            "metadata": {},
            "outputs": [],
            "source": "# This can be any secret that matches your webhook config (we will set later)\nsecret = b\"example_secret\""
        },
        {
            "cell_type": "code",
            "execution_count": 9,
            "id": "limiting-variety",
            "metadata": {},
            "outputs": [],
            "source": "app = Flask(__name__)\n\n\n@app.route(\"/\")\ndef hello_world():\n    return \"Hello, World!\"\n\n\n@app.route(\"/webhook-endpoint\", methods=[\"POST\"])\ndef print_webhook_info():\n    payload = request.data\n    computed_signature = hmac.new(secret, msg=payload,\n                                  digestmod=hashlib.sha1).hexdigest()\n    if request.headers[\"X-Hub-Signature\"] != \"sha1=\" + computed_signature:\n        print(\n            \"Error: computed_signature does not match signature provided in the headers\"\n        )\n        return \"Error\", 500, 200\n\n    print(\"=========== New Webhook Delivery ============\")\n    print(\"Delivery ID: %s\" % request.headers[\"X-Labelbox-Id\"])\n    print(\"Event: %s\" % request.headers[\"X-Labelbox-Event\"])\n    print(\"Payload: %s\" %\n          json.dumps(json.loads(payload.decode(\"utf8\")), indent=4))\n    return \"Success\"\n\n\nthread = threading.Thread(target=lambda: run_simple(\"0.0.0.0\", WH_PORT, app))\nthread.start()"
        },
        {
            "cell_type": "markdown",
            "id": "false-burlington",
            "metadata": {},
            "source": [
                "#### Test server"
            ]
        },
        {
            "cell_type": "code",
            "execution_count": 10,
            "id": "delayed-convention",
            "metadata": {},
            "outputs": [
                {
                    "name": "stderr",
                    "output_type": "stream",
                    "text": [
                        " * Running on http://0.0.0.0:3001/ (Press CTRL+C to quit)\n",
                        "127.0.0.1 - - [29/Mar/2021 16:54:32] \"\u001b[37mGET / HTTP/1.1\u001b[0m\" 200 -\n"
                    ]
                },
                {
                    "name": "stdout",
                    "output_type": "stream",
                    "text": [
                        "Hello, World!\n"
                    ]
                }
            ],
            "source": "print(requests.get(\"http://localhost:3001\").text)"
        },
        {
            "cell_type": "markdown",
            "id": "tribal-folks",
            "metadata": {},
            "source": [
                "### Create Webhook"
            ]
        },
        {
            "cell_type": "markdown",
            "id": "enabling-yahoo",
            "metadata": {},
            "source": [
                "- Set ip address if your ip is publicly accessible.\n",
                "- Otherwise use the following to get ngrok public_url"
            ]
        },
        {
            "cell_type": "code",
            "execution_count": 11,
            "id": "biblical-scottish",
            "metadata": {},
            "outputs": [],
            "source": "if not COLAB:\n    res = requests.get(\"http://localhost:4040/api/tunnels\")\n    assert (res.status_code == 200\n           ), f\"ngrok probably isn't running. {res.status_code}, {res.text}\"\n    tunnels = res.json()[\"tunnels\"]\n    tunnel = [\n        t for t in tunnels if t[\"config\"][\"addr\"].split(\":\")[-1] == str(WH_PORT)\n    ]\n    tunnel = tunnel[0]  # Should only be one..\n    public_url = tunnel[\"public_url\"]\nelse:\n    public_url = f\"http://{socket.gethostbyname(socket.getfqdn(socket.gethostname()))}\"\nprint(public_url)"
        },
        {
            "cell_type": "code",
            "execution_count": 12,
            "id": "raising-preservation",
            "metadata": {},
            "outputs": [],
            "source": "# Set project to limit the scope to a single project\nproject = client.get_project(PROJECT_ID)\ntopics = {topic.value for topic in Webhook.Topic}\nwebhook = Webhook.create(client,\n                         topics=topics,\n                         url=public_url,\n                         secret=secret.decode(),\n                         project=project)"
        },
        {
            "cell_type": "code",
            "execution_count": 13,
            "id": "approximate-gothic",
            "metadata": {},
            "outputs": [
                {
                    "name": "stdout",
                    "output_type": "stream",
                    "text": [
                        "https://app.labelbox.com/projects/ckm4xyfncfgja0760vpfdxoro\n"
                    ]
                }
            ],
            "source": "# Ok so we should be configured assuming everything is setup correctly.\n# Go to the following url and make a new label to see if it works\nprint(f\"https://app.labelbox.com/projects/{PROJECT_ID}\")"
        },
        {
            "cell_type": "code",
            "execution_count": 14,
            "id": "worst-material",
            "metadata": {},
            "outputs": [],
            "source": "## Oops we made a mistake. The url was incorrect. We pointed the url to the hello world endpoint."
        },
        {
            "cell_type": "markdown",
            "id": "interesting-satellite",
            "metadata": {},
            "source": [
                "### Update Webhook"
            ]
        },
        {
            "cell_type": "code",
            "execution_count": 15,
            "id": "stopped-steel",
            "metadata": {},
            "outputs": [
                {
                    "name": "stdout",
                    "output_type": "stream",
                    "text": [
                        "https://eb3e7f8eb089.ngrok.io/webhook-endpoint\n"
                    ]
                },
                {
                    "name": "stderr",
                    "output_type": "stream",
                    "text": [
                        "127.0.0.1 - - [17/Mar/2021 09:52:00] \"\u001b[37mPOST /webhook-endpoint HTTP/1.1\u001b[0m\" 200 -\n"
                    ]
                },
                {
                    "name": "stdout",
                    "output_type": "stream",
                    "text": [
                        "=========== New Webhook Delivery ============\n",
                        "Delivery ID: ckmdi74ew57lq063553kuzekq\n",
                        "Event: LABEL_UPDATED\n",
                        "Payload: {\n",
                        "    \"id\": \"ckmb8h50t008f3h683tugqsap\",\n",
                        "    \"createdAt\": \"2021-03-15T23:44:18Z\",\n",
                        "    \"updatedAt\": \"2021-03-17T13:51:59Z\",\n",
                        "    \"secondsToLabel\": 79.173,\n",
                        "    \"label\": \"{\\\"objects\\\":[{\\\"featureId\\\":\\\"ckmb8gvd9008b3h68l5tcmrt1\\\",\\\"schemaId\\\":\\\"ckm3se1a5010y0y6rcdc0bvvl\\\",\\\"title\\\":\\\"animal\\\",\\\"value\\\":\\\"animal\\\",\\\"color\\\":\\\"#1CE6FF\\\",\\\"bbox\\\":{\\\"top\\\":325,\\\"left\\\":233,\\\"height\\\":266,\\\"width\\\":413},\\\"instanceURI\\\":\\\"https://api.labelbox.com/masks/feature/ckmb8gvd9008b3h68l5tcmrt1\\\"},{\\\"featureId\\\":\\\"ckmbdp94300013h68y14zluto\\\",\\\"schemaId\\\":\\\"ckmbdol5s1ybk0y96fje86ktu\\\",\\\"title\\\":\\\"human\\\",\\\"value\\\":\\\"human\\\",\\\"color\\\":\\\"#FF34FF\\\",\\\"bbox\\\":{\\\"top\\\":75,\\\"left\\\":527,\\\"height\\\":453,\\\"width\\\":155},\\\"instanceURI\\\":\\\"https://api.labelbox.com/masks/feature/ckmbdp94300013h68y14zluto\\\"},{\\\"featureId\\\":\\\"ckmbdpdda00043h688pqrsoku\\\",\\\"schemaId\\\":\\\"ckmbdol5s1ybk0y96fje86ktu\\\",\\\"title\\\":\\\"human\\\",\\\"value\\\":\\\"human\\\",\\\"color\\\":\\\"#FF34FF\\\",\\\"bbox\\\":{\\\"top\\\":81,\\\"left\\\":666,\\\"height\\\":396,\\\"width\\\":134},\\\"instanceURI\\\":\\\"https://api.labelbox.com/masks/feature/ckmbdpdda00043h688pqrsoku\\\"},{\\\"featureId\\\":\\\"ckmbdpgd200073h68cu3vhjf2\\\",\\\"schemaId\\\":\\\"ckmbdol5s1ybk0y96fje86ktu\\\",\\\"title\\\":\\\"human\\\",\\\"value\\\":\\\"human\\\",\\\"color\\\":\\\"#FF34FF\\\",\\\"bbox\\\":{\\\"top\\\":0,\\\"left\\\":722,\\\"height\\\":535,\\\"width\\\":259},\\\"instanceURI\\\":\\\"https://api.labelbox.com/masks/feature/ckmbdpgd200073h68cu3vhjf2\\\"},{\\\"featureId\\\":\\\"ckmdi72l700043g68i52bq31i\\\",\\\"schemaId\\\":\\\"ckm3se1a5010y0y6rcdc0bvvl\\\",\\\"title\\\":\\\"animal\\\",\\\"value\\\":\\\"animal\\\",\\\"color\\\":\\\"#1CE6FF\\\",\\\"bbox\\\":{\\\"top\\\":94,\\\"left\\\":65,\\\"height\\\":104,\\\"width\\\":67},\\\"instanceURI\\\":\\\"https://api.labelbox.com/masks/feature/ckmdi72l700043g68i52bq31i\\\"}],\\\"classifications\\\":[{\\\"featureId\\\":\\\"ckmb8h0t7008e3h68hhmuf3y4\\\",\\\"schemaId\\\":\\\"ckm3se1a4010w0y6rd579gyl3\\\",\\\"title\\\":\\\"image\\\",\\\"value\\\":\\\"image\\\",\\\"answers\\\":[{\\\"featureId\\\":\\\"ckmb8h0t6008d3h689yq6cnm6\\\",\\\"schemaId\\\":\\\"ckm3se1aw01120y6r7zkcd93v\\\",\\\"title\\\":\\\"contains_human\\\",\\\"value\\\":\\\"contains_human\\\"}]}]}\",\n",
                        "    \"agreement\": null,\n",
                        "    \"benchmarkAgreement\": null,\n",
                        "    \"deleted\": false,\n",
                        "    \"project\": {\n",
                        "        \"id\": \"ckm4xyfncfgja0760vpfdxoro\",\n",
                        "        \"createdAt\": \"2021-03-11T14:03:12Z\",\n",
                        "        \"updatedAt\": \"2021-03-11T18:22:08.523Z\",\n",
                        "        \"name\": \"animal_demo_proj\",\n",
                        "        \"description\": \"\",\n",
                        "        \"deleted\": false\n",
                        "    },\n",
                        "    \"dataRow\": {\n",
                        "        \"id\": \"ckm4y6s5a1s7e0rb6bgf00oqa\",\n",
                        "        \"createdAt\": \"2021-03-11T14:09:41Z\",\n",
                        "        \"updatedAt\": \"2021-03-11T14:09:41Z\",\n",
                        "        \"deletedAt\": null,\n",
                        "        \"externalId\": \"uploaded_images/177.jpg\",\n",
                        "        \"rowData\": \"https://storage.labelbox.com/ckk4q1vgapsau07324awnsjq2%2F7b7f4198-3ea4-68db-9bf7-01dfd0bf3e8c-177.jpg?Expires=1617198719&KeyName=labelbox-assets-key-1&Signature=9mjtUoc61rooqsI8I2unQNU4N-o=\"\n",
                        "    },\n",
                        "    \"dataset\": {\n",
                        "        \"id\": \"ckm4xyfua04cf0z7a3wz58kgj\",\n",
                        "        \"createdAt\": \"2021-03-11T14:03:12Z\",\n",
                        "        \"updatedAt\": \"2021-03-11T14:03:12Z\",\n",
                        "        \"name\": \"animal_demo_ds\",\n",
                        "        \"description\": \"\",\n",
                        "        \"deleted\": false\n",
                        "    },\n",
                        "    \"user\": {\n",
                        "        \"id\": \"ckm570mgm7q880795an0rfzmz\",\n",
                        "        \"email\": \"amanda+1@labelbox.com\"\n",
                        "    }\n",
                        "}\n"
                    ]
                }
            ],
            "source": "# url, topics, and status can all be updated\nupdated_url = f\"{public_url}/webhook-endpoint\"\nprint(updated_url)\nwebhook.update(url=updated_url)\n# Go to the following url and try one last time.\n# Any supported action should work (create, delete, update a label, or create, update, or delete a review)\nprint(f\"https://app.labelbox.com/projects/{PROJECT_ID}\")"
        },
        {
            "cell_type": "markdown",
            "id": "streaming-generation",
            "metadata": {},
            "source": [
                "### List and delete all webhooks"
            ]
        },
        {
            "cell_type": "code",
            "execution_count": 16,
            "id": "distant-commitment",
            "metadata": {},
            "outputs": [],
            "source": "# DELETE:\nwebhook.update(status=Webhook.Status.INACTIVE.value)\n\n# FETCH ALL WEBHOOKS:\norg = client.get_organization()\nwebhooks = org.webhooks()\n\n# Run this to clear all.\n# WARNING!!! THIS WILL DELETE ALL WEBHOOKS FOR YOUR ORG\n# ONLY RUN THIS IS YOU KNOW WHAT YOU ARE DOING.\n# for webhook in webhooks:\n#    print(webhook)\n#    webhook.update(status = Webhook.Status.INACTIVE.value)"
        }
    ],
    "metadata": {
        "kernelspec": {
            "display_name": "Python 3",
            "language": "python",
            "name": "python3"
        },
        "language_info": {
            "codemirror_mode": {
                "name": "ipython",
                "version": 3
            },
            "file_extension": ".py",
            "mimetype": "text/x-python",
            "name": "python",
            "nbconvert_exporter": "python",
            "pygments_lexer": "ipython3",
            "version": "3.8.2"
        }
    },
    "nbformat": 4,
    "nbformat_minor": 5
}