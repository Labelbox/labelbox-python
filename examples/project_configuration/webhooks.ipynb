{
    "cells": [
        {
            "cell_type": "markdown",
            "id": "registered-pressure",
            "metadata": {},
            "source": [
                "# Webhook Configuration"
            ]
        },
        {
            "cell_type": "markdown",
            "id": "surface-message",
            "metadata": {},
            "source": [
                "* Webhooks are supported for the following events:\n",
                "    1. label_created\n",
                "    2. label_updated\n",
                "    3. label_deleted\n",
                "    4. review_created\n",
                "    5. review_updated"
            ]
        },
        {
            "cell_type": "code",
            "execution_count": null,
            "id": "authentic-necessity",
            "metadata": {},
            "outputs": [],
            "source": [
                "!pip install labelbox\n",
                "!pip install requests\n",
                "!pip install hmac\n",
                "!pip install hashlib\n",
                "!pip install flask\n",
                "!pip install Werkzeug"
            ]
        },
        {
            "cell_type": "code",
            "execution_count": null,
            "id": "responsible-clinton",
            "metadata": {},
            "outputs": [],
            "source": [
                "from labelbox import Client, Webhook\n",
                "from flask import Flask, request\n",
                "import hmac\n",
                "import hashlib\n",
                "import threading\n",
                "from werkzeug.serving import run_simple\n",
                "import json\n",
                "import requests\n",
                "import os\n",
                "from getpass import getpass\n",
                "import socket"
            ]
        },
        {
            "cell_type": "code",
            "execution_count": null,
            "id": "foreign-theorem",
            "metadata": {},
            "outputs": [],
            "source": [
                "# If you don't want to give google access to drive you can skip this cell\n",
                "# and manually set `API_KEY` below.\n",
                "\n",
                "COLAB = \"google.colab\" in str(get_ipython())\n",
                "if COLAB:\n",
                "    !pip install colab-env -qU\n",
                "    from colab_env import envvar_handler\n",
                "\n",
                "    envvar_handler.envload()\n",
                "\n",
                "API_KEY = os.environ.get(\"LABELBOX_API_KEY\")\n",
                "if not os.environ.get(\"LABELBOX_API_KEY\"):\n",
                "    API_KEY = getpass(\"Please enter your labelbox api key\")\n",
                "    if COLAB:\n",
                "        envvar_handler.add_env(\"LABELBOX_API_KEY\", API_KEY)"
            ]
        },
        {
            "cell_type": "code",
            "execution_count": null,
            "id": "satellite-impossible",
            "metadata": {},
            "outputs": [],
            "source": [
                "# Set this to a project that you want to use for the webhook\n",
                "PROJECT_ID = \"\"\n",
                "# Only update this if you have an on-prem deployment\n",
                "ENDPOINT = \"https://api.labelbox.com/graphql\""
            ]
        },
        {
            "cell_type": "code",
            "execution_count": null,
            "id": "clean-ireland",
            "metadata": {},
            "outputs": [],
            "source": [
                "client = Client(api_key=API_KEY, endpoint=ENDPOINT)"
            ]
        },
        {
            "cell_type": "code",
            "execution_count": null,
            "id": "bacterial-cheat",
            "metadata": {},
            "outputs": [],
            "source": [
                "# We are using port 3001 for this example.\n",
                "# Feel free to set to whatever port you want\n",
                "WH_PORT = 3001"
            ]
        },
        {
            "cell_type": "markdown",
            "id": "owned-halifax",
            "metadata": {},
            "source": [
                "### Configure NGROK (Optional)\n",
                "* If you do not have a public ip address then follow along\n",
                "\n",
                "1. Create an account:\n",
                "    https://dashboard.ngrok.com/get-started/setup\n",
                "2. Download ngrok and extract the zip file\n",
                "3. Add ngrok to your path\n",
                "4. Add the authtoken `ngrok authtoken <token>`"
            ]
        },
        {
            "cell_type": "code",
            "execution_count": null,
            "id": "aboriginal-antibody",
            "metadata": {},
            "outputs": [],
            "source": [
                "if not COLAB:\n",
                "    os.system(f\"ngrok http {WH_PORT} &\")"
            ]
        },
        {
            "cell_type": "markdown",
            "id": "fitted-adams",
            "metadata": {},
            "source": [
                "### Configure server to receive requests"
            ]
        },
        {
            "cell_type": "code",
            "execution_count": null,
            "id": "stable-group",
            "metadata": {},
            "outputs": [],
            "source": [
                "# This can be any secret that matches your webhook config (we will set later)\n",
                "secret = b\"example_secret\""
            ]
        },
        {
            "cell_type": "code",
            "execution_count": null,
            "id": "limiting-variety",
            "metadata": {},
            "outputs": [],
            "source": [
                "app = Flask(__name__)\n",
                "\n",
                "\n",
                "@app.route(\"/\")\n",
                "def hello_world():\n",
                "    return \"Hello, World!\"\n",
                "\n",
                "\n",
                "@app.route(\"/webhook-endpoint\", methods=[\"POST\"])\n",
                "def print_webhook_info():\n",
                "    payload = request.data\n",
                "    computed_signature = hmac.new(secret, msg=payload,\n",
                "                                  digestmod=hashlib.sha1).hexdigest()\n",
                "    if request.headers[\"X-Hub-Signature\"] != \"sha1=\" + computed_signature:\n",
                "        print(\n",
                "            \"Error: computed_signature does not match signature provided in the headers\"\n",
                "        )\n",
                "        return \"Error\", 500, 200\n",
                "\n",
                "    print(\"=========== New Webhook Delivery ============\")\n",
                "    print(\"Delivery ID: %s\" % request.headers[\"X-Labelbox-Id\"])\n",
                "    print(\"Event: %s\" % request.headers[\"X-Labelbox-Event\"])\n",
                "    print(\"Payload: %s\" %\n",
                "          json.dumps(json.loads(payload.decode(\"utf8\")), indent=4))\n",
                "    return \"Success\"\n",
                "\n",
                "\n",
                "thread = threading.Thread(target=lambda: run_simple(\"0.0.0.0\", WH_PORT, app))\n",
                "thread.start()"
            ]
        },
        {
            "cell_type": "markdown",
            "id": "false-burlington",
            "metadata": {},
            "source": [
                "#### Test server"
            ]
        },
        {
            "cell_type": "code",
            "execution_count": null,
            "id": "delayed-convention",
            "metadata": {},
            "outputs": [],
            "source": [
                "print(requests.get(\"http://localhost:3001\").text)"
            ]
        },
        {
            "cell_type": "markdown",
            "id": "tribal-folks",
            "metadata": {},
            "source": [
                "### Create Webhook"
            ]
        },
        {
            "cell_type": "markdown",
            "id": "enabling-yahoo",
            "metadata": {},
            "source": [
                "- Set ip address if your ip is publicly accessible.\n",
                "- Otherwise use the following to get ngrok public_url"
            ]
        },
        {
            "cell_type": "code",
            "execution_count": null,
            "id": "biblical-scottish",
            "metadata": {},
            "outputs": [],
            "source": [
                "if not COLAB:\n",
                "    res = requests.get(\"http://localhost:4040/api/tunnels\")\n",
                "    assert (res.status_code == 200\n",
                "           ), f\"ngrok probably isn't running. {res.status_code}, {res.text}\"\n",
                "    tunnels = res.json()[\"tunnels\"]\n",
                "    tunnel = [\n",
                "        t for t in tunnels if t[\"config\"][\"addr\"].split(\":\")[-1] == str(WH_PORT)\n",
                "    ]\n",
                "    tunnel = tunnel[0]  # Should only be one..\n",
                "    public_url = tunnel[\"public_url\"]\n",
                "else:\n",
                "    public_url = f\"http://{socket.gethostbyname(socket.getfqdn(socket.gethostname()))}\"\n",
                "print(public_url)"
            ]
        },
        {
            "cell_type": "code",
            "execution_count": null,
            "id": "raising-preservation",
            "metadata": {},
            "outputs": [],
            "source": [
                "# Set project to limit the scope to a single project\n",
                "project = client.get_project(PROJECT_ID)\n",
                "topics = {topic.value for topic in Webhook.Topic}\n",
                "webhook = Webhook.create(client,\n",
                "                         topics=topics,\n",
                "                         url=public_url,\n",
                "                         secret=secret.decode(),\n",
                "                         project=project)"
            ]
        },
        {
            "cell_type": "code",
            "execution_count": null,
            "id": "approximate-gothic",
            "metadata": {},
            "outputs": [],
            "source": [
                "# Ok so we should be configured assuming everything is setup correctly.\n",
                "# Go to the following url and make a new label to see if it works\n",
                "print(f\"https://app.labelbox.com/projects/{PROJECT_ID}\")"
            ]
        },
        {
            "cell_type": "code",
            "execution_count": null,
            "id": "worst-material",
            "metadata": {},
            "outputs": [],
            "source": [
                "## Oops we made a mistake. The url was incorrect. We pointed the url to the hello world endpoint."
            ]
        },
        {
            "cell_type": "markdown",
            "id": "interesting-satellite",
            "metadata": {},
            "source": [
                "### Update Webhook"
            ]
        },
        {
            "cell_type": "code",
            "execution_count": null,
            "id": "stopped-steel",
            "metadata": {},
            "outputs": [],
            "source": [
                "# url, topics, and status can all be updated\n",
                "updated_url = f\"{public_url}/webhook-endpoint\"\n",
                "print(updated_url)\n",
                "webhook.update(url=updated_url)\n",
                "# Go to the following url and try one last time.\n",
                "# Any supported action should work (create, delete, update a label, or create, update, or delete a review)\n",
                "print(f\"https://app.labelbox.com/projects/{PROJECT_ID}\")"
            ]
        },
        {
            "cell_type": "markdown",
            "id": "streaming-generation",
            "metadata": {},
            "source": [
                "### List and delete all webhooks"
            ]
        },
        {
            "cell_type": "code",
            "execution_count": null,
            "id": "distant-commitment",
            "metadata": {},
            "outputs": [],
            "source": [
                "# DELETE:\n",
                "webhook.update(status=Webhook.Status.INACTIVE.value)\n",
                "\n",
                "# FETCH ALL WEBHOOKS:\n",
                "org = client.get_organization()\n",
                "webhooks = org.webhooks()\n",
                "\n",
                "# Run this to clear all.\n",
                "# WARNING!!! THIS WILL DELETE ALL WEBHOOKS FOR YOUR ORG\n",
                "# ONLY RUN THIS IS YOU KNOW WHAT YOU ARE DOING.\n",
                "# for webhook in webhooks:\n",
                "#    print(webhook)\n",
                "#    webhook.update(status = Webhook.Status.INACTIVE.value)"
            ]
        }
    ],
    "metadata": {
        "kernelspec": {
            "display_name": "Python 3",
            "language": "python",
            "name": "python3"
        },
        "language_info": {
            "codemirror_mode": {
                "name": "ipython",
                "version": 3
            },
            "file_extension": ".py",
            "mimetype": "text/x-python",
            "name": "python",
            "nbconvert_exporter": "python",
            "pygments_lexer": "ipython3",
            "version": "3.8.2"
        }
    },
    "nbformat": 4,
    "nbformat_minor": 5
}
