{
 "cells": [
  {
   "cell_type": "markdown",
   "metadata": {},
   "source": []
  },
  {
   "cell_type": "markdown",
   "metadata": {},
   "source": []
  },
  {
   "cell_type": "markdown",
   "metadata": {},
   "source": [
    "# Model Output Evaluation Project Setup\n",
    "\n",
    "This notebook will provide an example workflow of setting up a Model Output Evaluation (MOE) Project with the Labelbox-Python SDK.\n",
    "MOE Projects are set up differently then other editors with it's own unique methods and modifications to existing methods:\n",
    "\n",
    "- `create_model_evaluation_project`: Main method used to create a chat model evaluation project\n",
    "\n",
    "- `create_ontology`: Methods used to create Labelbox ontologies for MOE project this requires a `ontology_kind` parameter set to `lb.OntologyKind.ModelEvaluation`\n",
    "\n",
    "- `create_ontology_from_feature_schemas`: Similar to `create_ontology` but from a list of `feature schema ids` which is designed to allow you to use existing features instead of creating new features. This also requires a `ontology_kind` set to `lb.OntologyKind.ModelEvaluation`."
   ]
  },
  {
   "cell_type": "code",
   "execution_count": null,
   "metadata": {
    "vscode": {
     "languageId": "plaintext"
    }
   },
   "outputs": [],
   "source": [
    "## Setup"
   ]
  }
 ],
 "metadata": {
  "language_info": {
   "name": "python"
  }
 },
 "nbformat": 4,
 "nbformat_minor": 2
}
