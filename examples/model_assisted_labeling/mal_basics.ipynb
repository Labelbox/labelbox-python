{
 "cells": [
  {
   "cell_type": "markdown",
   "source": [
    "# MAL Basics\n",
    "* This notebook is a high level introduction demonstrating that you can upload inferences from python objects, local files, and remote files.\n",
    "* For complete examples see image_mal.ipynb or ner_mal.ipynb"
   ],
   "metadata": {}
  },
  {
   "cell_type": "markdown",
   "source": [
    "* There are three ways to import annotations using the upload_annotations method.\n",
    "    1. For images, the Model-assisted labeling workflow supports all annotation types, except Dropdown classification and classifications nested within classifications.\n",
    "    2. For videos, the Model-assisted workflow only supports classifications at the frame-level.\n",
    "    3. For text, the Model-assisted workflow supports Named entity recognition and text classification."
   ],
   "metadata": {}
  },
  {
   "cell_type": "markdown",
   "source": [
    "* Hints:\n",
    "    * If you are importing more than 1,000 mask annotations at a time, consider submitting separate jobs, as they can take longer than other annotation types to import.\n",
    "    * Wait until the import job is complete before opening the Editor to make sure all annotations are imported properly."
   ],
   "metadata": {}
  },
  {
   "cell_type": "code",
   "execution_count": null,
   "source": [
    "!pip install labelbox\n",
    "!pip install labelbox[data]\n",
    "!pip install requests\n",
    "!pip install ndjson\n",
    "!pip install pathlib"
   ],
   "outputs": [],
   "metadata": {}
  },
  {
   "cell_type": "code",
   "execution_count": 14,
   "source": [
    "from labelbox.schema.ontology import OntologyBuilder\n",
    "import os\n",
    "import uuid\n",
    "from getpass import getpass\n",
    "\n",
    "from labelbox import (\n",
    "    Client, \n",
    "    LabelingFrontend, \n",
    "    OntologyBuilder, \n",
    "    Tool, \n",
    "    Classification, \n",
    "    Option\n",
    ")\n",
    "\n",
    "from labelbox.data.annotation_types import (\n",
    "    LabelList,\n",
    "    ImageData,\n",
    "    MaskData,\n",
    "    Rectangle,\n",
    "    ObjectAnnotation,\n",
    "    ClassificationAnnotation,\n",
    "    Point,\n",
    "    ClassificationAnswer,\n",
    "    Radio,\n",
    "    Mask,\n",
    "    Label\n",
    ")\n",
    "from labelbox.data.serialization import NDJsonConverter\n"
   ],
   "outputs": [],
   "metadata": {}
  },
  {
   "cell_type": "code",
   "execution_count": 5,
   "source": [
    "# If you don't want to give google access to drive you can skip this cell\n",
    "# and manually set `API_KEY` below.\n",
    "\n",
    "COLAB = \"google.colab\" in str(get_ipython())\n",
    "if COLAB:\n",
    "    !pip install colab-env -qU\n",
    "    from colab_env import envvar_handler\n",
    "    envvar_handler.envload()\n",
    "\n",
    "API_KEY = os.environ.get(\"LABELBOX_API_KEY\")\n",
    "if not os.environ.get(\"LABELBOX_API_KEY\"):\n",
    "    API_KEY = getpass(\"Please enter your labelbox api key\")\n",
    "    if COLAB:\n",
    "        envvar_handler.add_env(\"LABELBOX_API_KEY\", API_KEY)"
   ],
   "outputs": [],
   "metadata": {}
  },
  {
   "cell_type": "code",
   "execution_count": 6,
   "source": [
    "# Only update this if you have an on-prem deployment\n",
    "ENDPOINT = \"https://api.labelbox.com/graphql\""
   ],
   "outputs": [],
   "metadata": {}
  },
  {
   "cell_type": "code",
   "execution_count": 23,
   "source": [
    "client = Client(api_key=API_KEY, endpoint=ENDPOINT)"
   ],
   "outputs": [],
   "metadata": {}
  },
  {
   "cell_type": "markdown",
   "source": [
    "# Generate Annotations"
   ],
   "metadata": {}
  },
  {
   "cell_type": "code",
   "execution_count": 76,
   "source": [
    "image_urls = [\"https://raw.githubusercontent.com/Labelbox/labelbox-python/develop/examples/assets/2560px-Kitano_Street_Kobe01s5s4110.jpg\"]"
   ],
   "outputs": [],
   "metadata": {}
  },
  {
   "cell_type": "code",
   "execution_count": 33,
   "source": [
    "\"\"\"We can create a list of pre-defined annotations whether or not we have configured a project in Labelbox\n",
    "\n",
    "The annotations in this example are pre-defined ObjectAnnotations.For an example on how to convert model outputs into Labelbox Annotations, \n",
    "refer to https://github.com/Labelbox/labelbox-python/blob/develop/examples/annotation_types/mal_using_annotation_types.ipynb\n",
    "\"\"\"\n",
    "\n",
    "label_list = LabelList()\n",
    "\n",
    "for image_url in image_urls:\n",
    "    image_data = ImageData(url = image_url)\n",
    "\n",
    "    label_list.append(Label(\n",
    "        data = image_data,\n",
    "        annotations = [\n",
    "            ObjectAnnotation(name='person', feature_schema_id=None, extra={}, value=Rectangle(extra={}, start=Point(extra={}, x=2275.82861328125, y=1352.3682861328125), end=Point(extra={}, x=2415.62060546875, y=1702.5)), classifications=[]), \n",
    "            ObjectAnnotation(name='person', feature_schema_id=None, extra={}, value=Rectangle(extra={}, start=Point(extra={}, x=2089.923828125, y=1251.9525146484375), end=Point(extra={}, x=2248.47265625, y=1679.967041015625)), classifications=[]), \n",
    "            ObjectAnnotation(name='person', feature_schema_id=None, extra={}, value=Rectangle(extra={}, start=Point(extra={}, x=1386.9190673828125, y=1041.0606689453125), end=Point(extra={}, x=1484.731201171875, y=1291.29541015625)), classifications=[])]            \n",
    "    ))"
   ],
   "outputs": [],
   "metadata": {}
  },
  {
   "cell_type": "markdown",
   "source": [
    "# Project setup"
   ],
   "metadata": {}
  },
  {
   "cell_type": "code",
   "execution_count": null,
   "source": [
    "'''We can create a project and it's ontology using just our LabelList object!\n",
    "\n",
    "Note: Creating nested ontologies are not supported \n",
    "through LabellList.get_ontology() at this time. To create\n",
    "more complex ontologies, use the OntologyBuilder.\n",
    "'''\n",
    "project = client.create_project(name=\"image_mal_project\")\n",
    "dataset = client.create_dataset(name=\"image_mal_dataset\")\n",
    "editor = next(\n",
    "    client.get_labeling_frontends(where=LabelingFrontend.name == 'editor'))\n",
    "project.setup(editor, label_list.get_ontology().asdict())\n",
    "project.datasets.connect(dataset)\n",
    "project.enable_model_assisted_labeling()"
   ],
   "outputs": [],
   "metadata": {}
  },
  {
   "cell_type": "markdown",
   "source": [
    "# Prepare for upload\n",
    "Uploading into Labelbox requires adhering to the format shown here: https://docs.labelbox.com/data-model/en/index-en#annotations.\n",
    "\n",
    "\n",
    "To do this, we can upload annotations in two ways:\n",
    "\n",
    "1. We can pass in a LabelList that contains our annotations\n",
    "2. We can pass in an iterable of dicts\n",
    "\n",
    "Prepare one of the ways below and run the upload to see the results in Labelbox\n"
   ],
   "metadata": {}
  },
  {
   "cell_type": "markdown",
   "source": [
    "## Prepare via LabelList"
   ],
   "metadata": {}
  },
  {
   "cell_type": "markdown",
   "source": [
    "For our LabelList, we need to update the following:\n",
    "\n",
    "1. signed url for segmentation masks\n",
    "2. data rows in labelbox\n",
    "3. feature schema ids"
   ],
   "metadata": {}
  },
  {
   "cell_type": "code",
   "execution_count": null,
   "source": [
    "signer = lambda _bytes: client.upload_data(content=_bytes, sign=True)\n",
    "label_list.add_url_to_masks(signer) \\\n",
    "         .add_url_to_data(signer) \\\n",
    "         .assign_feature_schema_ids(OntologyBuilder.from_project(project)) \\\n",
    "         .add_to_dataset(dataset, signer)"
   ],
   "outputs": [],
   "metadata": {}
  },
  {
   "cell_type": "markdown",
   "source": [
    "### Convert to the correct format (NDJson)\n",
    "* We can use the NDJsonConverter to turn our label_list containng predictions into the correct format"
   ],
   "metadata": {}
  },
  {
   "cell_type": "code",
   "execution_count": 61,
   "source": [
    "annotations = list(NDJsonConverter.serialize(label_list))\n",
    "print(annotations[0])"
   ],
   "outputs": [
    {
     "output_type": "stream",
     "name": "stdout",
     "text": [
      "{'uuid': 'd25ffc73-e909-42e5-8566-3f9b7aa08134', 'dataRow': {'id': 'ckud7vaqv0qyl0yrffzq7gq6f'}, 'schemaId': 'ckud7v75e00b60y6dfli08zvq', 'classifications': [], 'bbox': {'top': 1352.3682861328125, 'left': 2275.82861328125, 'height': 350.1317138671875, 'width': 139.7919921875}}\n"
     ]
    }
   ],
   "metadata": {}
  },
  {
   "cell_type": "markdown",
   "source": [
    "## Prepare via iterable of dicts"
   ],
   "metadata": {}
  },
  {
   "cell_type": "code",
   "execution_count": 75,
   "source": [
    "'''We will generate a new annotation for this example.\n",
    "For more details see image_mal.ipynb or ner_mal.ipynb\n",
    "'''\n",
    "annotations = [{\n",
    "    \"uuid\": str(uuid.uuid4()),\n",
    "    \"schemaId\": OntologyBuilder.from_project(project).tools[0].feature_schema_id,\n",
    "    \"dataRow\": {\n",
    "        \"id\": dataset.create_data_row(row_data=image_urls[0]).uid,\n",
    "    },\n",
    "    \"bbox\": {\n",
    "        \"top\": int(30),\n",
    "        \"left\": int(30),\n",
    "        \"height\": 200,\n",
    "        \"width\": 200\n",
    "    }\n",
    "}]"
   ],
   "outputs": [],
   "metadata": {}
  },
  {
   "cell_type": "markdown",
   "source": [
    "# The upload\n",
    "\n",
    "### Perform the upload\n",
    "* Choose one of the following to run\n",
    "* Then run the cell with upload_job.wait_until_done()\n",
    "* Once this completes, you can see the annotations if you go to the link that is printed out below"
   ],
   "metadata": {}
  },
  {
   "cell_type": "code",
   "execution_count": 65,
   "source": [
    "upload_task = project.upload_annotations(name=f\"upload-job-{uuid.uuid4()}\",\n",
    "                                         annotations=annotations,\n",
    "                                         validate=True)\n",
    "# Wait for upload to finish\n",
    "upload_task.wait_until_done()"
   ],
   "outputs": [],
   "metadata": {}
  },
  {
   "cell_type": "code",
   "execution_count": 74,
   "source": [
    "# Review the upload status\n",
    "for status in upload_task.statuses[:5]:\n",
    "    print(status) \n",
    "\n",
    "print(\n",
    "    \"\\nVisit the following and click start labeling to see the uploaded example:\",\n",
    "    f\"https://app.labelbox.com/projects/{project.uid}\")       "
   ],
   "outputs": [
    {
     "output_type": "stream",
     "name": "stdout",
     "text": [
      "{'uuid': 'eb3ca696-8532-43ed-a57c-fbe3bdde8404', 'dataRow': {'id': 'ckud8sxhr00hc0y6d0ro994ff'}, 'status': 'SUCCESS'}\n",
      "\n",
      "Visit the following and click start labeling to see the uploaded example: https://app.labelbox.com/projects/ckud7uzd44zq20y9a7smo51ur\n"
     ]
    }
   ],
   "metadata": {}
  }
 ],
 "metadata": {
  "kernelspec": {
   "name": "python3",
   "display_name": "Python 3.9.2 64-bit"
  },
  "language_info": {
   "codemirror_mode": {
    "name": "ipython",
    "version": 3
   },
   "file_extension": ".py",
   "mimetype": "text/x-python",
   "name": "python",
   "nbconvert_exporter": "python",
   "pygments_lexer": "ipython3",
   "version": "3.9.2"
  },
  "interpreter": {
   "hash": "7812ea015bdcee6f23a998adcdd2ef97c151c0c241b7b7070987d9313e41299d"
  }
 },
 "nbformat": 4,
 "nbformat_minor": 5
}