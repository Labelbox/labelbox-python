{
 "cells": [
  {
   "cell_type": "markdown",
   "source": [
    "# MAL Basics\n",
    "* This notebook is a high level introduction demonstrating that you can upload inferences from python objects, local files, and remote files.\n",
    "* For complete examples see image_mal.ipynb or ner_mal.ipynb"
   ],
   "metadata": {}
  },
  {
   "cell_type": "markdown",
   "source": [
    "* There are three ways to import annotations using the upload_annotations method.\n",
    "    1. For images, the Model-assisted labeling workflow supports all annotation types, except Dropdown classification and classifications nested within classifications.\n",
    "    2. For videos, the Model-assisted workflow only supports classifications at the frame-level.\n",
    "    3. For text, the Model-assisted workflow supports Named entity recognition and text classification."
   ],
   "metadata": {}
  },
  {
   "cell_type": "markdown",
   "source": [
    "* Hints:\n",
    "    * If you are importing more than 1,000 mask annotations at a time, consider submitting separate jobs, as they can take longer than other annotation types to import.\n",
    "    * Wait until the import job is complete before opening the Editor to make sure all annotations are imported properly."
   ],
   "metadata": {}
  },
  {
   "cell_type": "code",
   "execution_count": 9,
   "source": [
    "!pip install labelbox\n",
    "!pip install labelbox[data]\n",
    "!pip install requests\n",
    "!pip install ndjson\n",
    "!pip install pathlib"
   ],
   "outputs": [
    {
     "output_type": "stream",
     "name": "stdout",
     "text": [
      "Requirement already satisfied: labelbox in /Users/jonathantso/opt/anaconda3/lib/python3.8/site-packages (3.4.1)\n",
      "Requirement already satisfied: google-api-core>=1.22.1 in /Users/jonathantso/opt/anaconda3/lib/python3.8/site-packages (from labelbox) (1.31.0)\n",
      "Requirement already satisfied: backoff==1.10.0 in /Users/jonathantso/opt/anaconda3/lib/python3.8/site-packages (from labelbox) (1.10.0)\n",
      "Requirement already satisfied: requests>=2.22.0 in /Users/jonathantso/opt/anaconda3/lib/python3.8/site-packages (from labelbox) (2.25.1)\n",
      "Requirement already satisfied: ndjson==0.3.1 in /Users/jonathantso/opt/anaconda3/lib/python3.8/site-packages (from labelbox) (0.3.1)\n",
      "Requirement already satisfied: pydantic<2.0,>=1.8 in /Users/jonathantso/opt/anaconda3/lib/python3.8/site-packages (from labelbox) (1.8.2)\n",
      "Requirement already satisfied: pytz in /Users/jonathantso/opt/anaconda3/lib/python3.8/site-packages (from google-api-core>=1.22.1->labelbox) (2021.1)\n",
      "Requirement already satisfied: setuptools>=40.3.0 in /Users/jonathantso/opt/anaconda3/lib/python3.8/site-packages (from google-api-core>=1.22.1->labelbox) (52.0.0.post20210125)\n",
      "Requirement already satisfied: protobuf>=3.12.0 in /Users/jonathantso/opt/anaconda3/lib/python3.8/site-packages (from google-api-core>=1.22.1->labelbox) (3.17.3)\n",
      "Requirement already satisfied: six>=1.13.0 in /Users/jonathantso/opt/anaconda3/lib/python3.8/site-packages (from google-api-core>=1.22.1->labelbox) (1.15.0)\n",
      "Requirement already satisfied: packaging>=14.3 in /Users/jonathantso/opt/anaconda3/lib/python3.8/site-packages (from google-api-core>=1.22.1->labelbox) (20.9)\n",
      "Requirement already satisfied: google-auth<2.0dev,>=1.25.0 in /Users/jonathantso/opt/anaconda3/lib/python3.8/site-packages (from google-api-core>=1.22.1->labelbox) (1.33.0)\n",
      "Requirement already satisfied: googleapis-common-protos<2.0dev,>=1.6.0 in /Users/jonathantso/opt/anaconda3/lib/python3.8/site-packages (from google-api-core>=1.22.1->labelbox) (1.53.0)\n",
      "Requirement already satisfied: rsa<5,>=3.1.4 in /Users/jonathantso/opt/anaconda3/lib/python3.8/site-packages (from google-auth<2.0dev,>=1.25.0->google-api-core>=1.22.1->labelbox) (4.7.2)\n",
      "Requirement already satisfied: cachetools<5.0,>=2.0.0 in /Users/jonathantso/opt/anaconda3/lib/python3.8/site-packages (from google-auth<2.0dev,>=1.25.0->google-api-core>=1.22.1->labelbox) (4.2.2)\n",
      "Requirement already satisfied: pyasn1-modules>=0.2.1 in /Users/jonathantso/opt/anaconda3/lib/python3.8/site-packages (from google-auth<2.0dev,>=1.25.0->google-api-core>=1.22.1->labelbox) (0.2.8)\n",
      "Requirement already satisfied: pyparsing>=2.0.2 in /Users/jonathantso/opt/anaconda3/lib/python3.8/site-packages (from packaging>=14.3->google-api-core>=1.22.1->labelbox) (2.4.7)\n",
      "Requirement already satisfied: pyasn1<0.5.0,>=0.4.6 in /Users/jonathantso/opt/anaconda3/lib/python3.8/site-packages (from pyasn1-modules>=0.2.1->google-auth<2.0dev,>=1.25.0->google-api-core>=1.22.1->labelbox) (0.4.8)\n",
      "Requirement already satisfied: typing-extensions>=3.7.4.3 in /Users/jonathantso/opt/anaconda3/lib/python3.8/site-packages (from pydantic<2.0,>=1.8->labelbox) (3.7.4.3)\n",
      "Requirement already satisfied: certifi>=2017.4.17 in /Users/jonathantso/opt/anaconda3/lib/python3.8/site-packages (from requests>=2.22.0->labelbox) (2020.12.5)\n",
      "Requirement already satisfied: chardet<5,>=3.0.2 in /Users/jonathantso/opt/anaconda3/lib/python3.8/site-packages (from requests>=2.22.0->labelbox) (4.0.0)\n",
      "Requirement already satisfied: idna<3,>=2.5 in /Users/jonathantso/opt/anaconda3/lib/python3.8/site-packages (from requests>=2.22.0->labelbox) (2.10)\n",
      "Requirement already satisfied: urllib3<1.27,>=1.21.1 in /Users/jonathantso/opt/anaconda3/lib/python3.8/site-packages (from requests>=2.22.0->labelbox) (1.26.4)\n",
      "Requirement already satisfied: labelbox[data] in /Users/jonathantso/opt/anaconda3/lib/python3.8/site-packages (3.4.1)\n",
      "Requirement already satisfied: backoff==1.10.0 in /Users/jonathantso/opt/anaconda3/lib/python3.8/site-packages (from labelbox[data]) (1.10.0)\n",
      "Requirement already satisfied: google-api-core>=1.22.1 in /Users/jonathantso/opt/anaconda3/lib/python3.8/site-packages (from labelbox[data]) (1.31.0)\n",
      "Requirement already satisfied: pydantic<2.0,>=1.8 in /Users/jonathantso/opt/anaconda3/lib/python3.8/site-packages (from labelbox[data]) (1.8.2)\n",
      "Requirement already satisfied: requests>=2.22.0 in /Users/jonathantso/opt/anaconda3/lib/python3.8/site-packages (from labelbox[data]) (2.25.1)\n",
      "Requirement already satisfied: ndjson==0.3.1 in /Users/jonathantso/opt/anaconda3/lib/python3.8/site-packages (from labelbox[data]) (0.3.1)\n",
      "Requirement already satisfied: shapely in /Users/jonathantso/opt/anaconda3/lib/python3.8/site-packages (from labelbox[data]) (1.7.1)\n",
      "Requirement already satisfied: PILLOW in /Users/jonathantso/opt/anaconda3/lib/python3.8/site-packages (from labelbox[data]) (8.2.0)\n",
      "Requirement already satisfied: rasterio in /Users/jonathantso/opt/anaconda3/lib/python3.8/site-packages (from labelbox[data]) (1.2.8)\n",
      "Requirement already satisfied: tqdm in /Users/jonathantso/opt/anaconda3/lib/python3.8/site-packages (from labelbox[data]) (4.59.0)\n",
      "Requirement already satisfied: geojson in /Users/jonathantso/opt/anaconda3/lib/python3.8/site-packages (from labelbox[data]) (2.5.0)\n",
      "Requirement already satisfied: opencv-python in /Users/jonathantso/opt/anaconda3/lib/python3.8/site-packages (from labelbox[data]) (4.5.3.56)\n",
      "Requirement already satisfied: typeguard in /Users/jonathantso/opt/anaconda3/lib/python3.8/site-packages (from labelbox[data]) (2.12.1)\n",
      "Requirement already satisfied: numpy in /Users/jonathantso/opt/anaconda3/lib/python3.8/site-packages (from labelbox[data]) (1.20.1)\n",
      "Requirement already satisfied: setuptools>=40.3.0 in /Users/jonathantso/opt/anaconda3/lib/python3.8/site-packages (from google-api-core>=1.22.1->labelbox[data]) (52.0.0.post20210125)\n",
      "Requirement already satisfied: protobuf>=3.12.0 in /Users/jonathantso/opt/anaconda3/lib/python3.8/site-packages (from google-api-core>=1.22.1->labelbox[data]) (3.17.3)\n",
      "Requirement already satisfied: google-auth<2.0dev,>=1.25.0 in /Users/jonathantso/opt/anaconda3/lib/python3.8/site-packages (from google-api-core>=1.22.1->labelbox[data]) (1.33.0)\n",
      "Requirement already satisfied: packaging>=14.3 in /Users/jonathantso/opt/anaconda3/lib/python3.8/site-packages (from google-api-core>=1.22.1->labelbox[data]) (20.9)\n",
      "Requirement already satisfied: pytz in /Users/jonathantso/opt/anaconda3/lib/python3.8/site-packages (from google-api-core>=1.22.1->labelbox[data]) (2021.1)\n",
      "Requirement already satisfied: six>=1.13.0 in /Users/jonathantso/opt/anaconda3/lib/python3.8/site-packages (from google-api-core>=1.22.1->labelbox[data]) (1.15.0)\n",
      "Requirement already satisfied: googleapis-common-protos<2.0dev,>=1.6.0 in /Users/jonathantso/opt/anaconda3/lib/python3.8/site-packages (from google-api-core>=1.22.1->labelbox[data]) (1.53.0)\n",
      "Requirement already satisfied: pyasn1-modules>=0.2.1 in /Users/jonathantso/opt/anaconda3/lib/python3.8/site-packages (from google-auth<2.0dev,>=1.25.0->google-api-core>=1.22.1->labelbox[data]) (0.2.8)\n",
      "Requirement already satisfied: rsa<5,>=3.1.4 in /Users/jonathantso/opt/anaconda3/lib/python3.8/site-packages (from google-auth<2.0dev,>=1.25.0->google-api-core>=1.22.1->labelbox[data]) (4.7.2)\n",
      "Requirement already satisfied: cachetools<5.0,>=2.0.0 in /Users/jonathantso/opt/anaconda3/lib/python3.8/site-packages (from google-auth<2.0dev,>=1.25.0->google-api-core>=1.22.1->labelbox[data]) (4.2.2)\n",
      "Requirement already satisfied: pyparsing>=2.0.2 in /Users/jonathantso/opt/anaconda3/lib/python3.8/site-packages (from packaging>=14.3->google-api-core>=1.22.1->labelbox[data]) (2.4.7)\n",
      "Requirement already satisfied: pyasn1<0.5.0,>=0.4.6 in /Users/jonathantso/opt/anaconda3/lib/python3.8/site-packages (from pyasn1-modules>=0.2.1->google-auth<2.0dev,>=1.25.0->google-api-core>=1.22.1->labelbox[data]) (0.4.8)\n",
      "Requirement already satisfied: typing-extensions>=3.7.4.3 in /Users/jonathantso/opt/anaconda3/lib/python3.8/site-packages (from pydantic<2.0,>=1.8->labelbox[data]) (3.7.4.3)\n",
      "Requirement already satisfied: certifi>=2017.4.17 in /Users/jonathantso/opt/anaconda3/lib/python3.8/site-packages (from requests>=2.22.0->labelbox[data]) (2020.12.5)\n",
      "Requirement already satisfied: urllib3<1.27,>=1.21.1 in /Users/jonathantso/opt/anaconda3/lib/python3.8/site-packages (from requests>=2.22.0->labelbox[data]) (1.26.4)\n",
      "Requirement already satisfied: idna<3,>=2.5 in /Users/jonathantso/opt/anaconda3/lib/python3.8/site-packages (from requests>=2.22.0->labelbox[data]) (2.10)\n",
      "Requirement already satisfied: chardet<5,>=3.0.2 in /Users/jonathantso/opt/anaconda3/lib/python3.8/site-packages (from requests>=2.22.0->labelbox[data]) (4.0.0)\n",
      "Requirement already satisfied: snuggs>=1.4.1 in /Users/jonathantso/opt/anaconda3/lib/python3.8/site-packages (from rasterio->labelbox[data]) (1.4.7)\n",
      "Requirement already satisfied: click-plugins in /Users/jonathantso/opt/anaconda3/lib/python3.8/site-packages (from rasterio->labelbox[data]) (1.1.1)\n",
      "Requirement already satisfied: affine in /Users/jonathantso/opt/anaconda3/lib/python3.8/site-packages (from rasterio->labelbox[data]) (2.3.0)\n",
      "Requirement already satisfied: attrs in /Users/jonathantso/opt/anaconda3/lib/python3.8/site-packages (from rasterio->labelbox[data]) (20.3.0)\n",
      "Requirement already satisfied: cligj>=0.5 in /Users/jonathantso/opt/anaconda3/lib/python3.8/site-packages (from rasterio->labelbox[data]) (0.7.2)\n",
      "Requirement already satisfied: click>=4.0 in /Users/jonathantso/opt/anaconda3/lib/python3.8/site-packages (from rasterio->labelbox[data]) (7.1.2)\n",
      "Requirement already satisfied: requests in /Users/jonathantso/opt/anaconda3/lib/python3.8/site-packages (2.25.1)\n",
      "Requirement already satisfied: idna<3,>=2.5 in /Users/jonathantso/opt/anaconda3/lib/python3.8/site-packages (from requests) (2.10)\n",
      "Requirement already satisfied: certifi>=2017.4.17 in /Users/jonathantso/opt/anaconda3/lib/python3.8/site-packages (from requests) (2020.12.5)\n",
      "Requirement already satisfied: chardet<5,>=3.0.2 in /Users/jonathantso/opt/anaconda3/lib/python3.8/site-packages (from requests) (4.0.0)\n",
      "Requirement already satisfied: urllib3<1.27,>=1.21.1 in /Users/jonathantso/opt/anaconda3/lib/python3.8/site-packages (from requests) (1.26.4)\n",
      "Requirement already satisfied: ndjson in /Users/jonathantso/opt/anaconda3/lib/python3.8/site-packages (0.3.1)\n",
      "Requirement already satisfied: pathlib in /Users/jonathantso/opt/anaconda3/lib/python3.8/site-packages (1.0.1)\n"
     ]
    }
   ],
   "metadata": {}
  },
  {
   "cell_type": "code",
   "execution_count": 2,
   "source": [
    "from labelbox import Client\n",
    "from labelbox.schema.ontology import OntologyBuilder, Tool\n",
    "from labelbox import Client, LabelingFrontend\n",
    "from pathlib import Path\n",
    "import ndjson\n",
    "import os\n",
    "import requests\n",
    "import uuid\n",
    "import json\n",
    "from getpass import getpass"
   ],
   "outputs": [],
   "metadata": {}
  },
  {
   "cell_type": "code",
   "execution_count": 5,
   "source": [
    "# If you don't want to give google access to drive you can skip this cell\n",
    "# and manually set `API_KEY` below.\n",
    "\n",
    "COLAB = \"google.colab\" in str(get_ipython())\n",
    "if COLAB:\n",
    "    !pip install colab-env -qU\n",
    "    from colab_env import envvar_handler\n",
    "    envvar_handler.envload()\n",
    "\n",
    "API_KEY = os.environ.get(\"LABELBOX_API_KEY\")\n",
    "if not os.environ.get(\"LABELBOX_API_KEY\"):\n",
    "    API_KEY = getpass(\"Please enter your labelbox api key\")\n",
    "    if COLAB:\n",
    "        envvar_handler.add_env(\"LABELBOX_API_KEY\", API_KEY)"
   ],
   "outputs": [],
   "metadata": {}
  },
  {
   "cell_type": "code",
   "execution_count": 6,
   "source": [
    "# Only update this if you have an on-prem deployment\n",
    "ENDPOINT = \"https://api.labelbox.com/graphql\""
   ],
   "outputs": [],
   "metadata": {}
  },
  {
   "cell_type": "code",
   "execution_count": 7,
   "source": [
    "client = Client(api_key=API_KEY, endpoint=ENDPOINT)"
   ],
   "outputs": [],
   "metadata": {}
  },
  {
   "cell_type": "markdown",
   "source": [
    "---- \n",
    "### Steps\n",
    "1. Make sure project is setup\n",
    "2. Collect annotations\n",
    "3. Upload"
   ],
   "metadata": {}
  },
  {
   "cell_type": "markdown",
   "source": [
    "### Project setup"
   ],
   "metadata": {}
  },
  {
   "cell_type": "code",
   "execution_count": 6,
   "source": [
    "# Only update this if you have an on-prem deployment\n",
    "ontology_builder = OntologyBuilder(tools=[\n",
    "    Tool(tool=Tool.Type.BBOX, name=\"person\"),\n",
    "])\n",
    "project = client.create_project(name=\"image_mal_project\")\n",
    "dataset = client.create_dataset(name=\"image_mal_dataset\")\n",
    "test_img_url = \"https://raw.githubusercontent.com/Labelbox/labelbox-python/develop/examples/assets/2560px-Kitano_Street_Kobe01s5s4110.jpg\"\n",
    "data_row = dataset.create_data_row(row_data=test_img_url)\n",
    "editor = next(\n",
    "    client.get_labeling_frontends(where=LabelingFrontend.name == 'editor'))\n",
    "project.setup(editor, ontology_builder.asdict())\n",
    "project.datasets.connect(dataset)\n",
    "project.enable_model_assisted_labeling()\n",
    "ontology = ontology_builder.from_project(project)\n",
    "feature_schema_id = ontology.tools[0].feature_schema_id"
   ],
   "outputs": [],
   "metadata": {}
  },
  {
   "cell_type": "markdown",
   "source": [
    "#### Collect annotations\n",
    "* Can use any of the following approaches:\n",
    "1. Python Iterable of dicts\n",
    "2. NDjson stored locally\n",
    "3. NDjson accessible via a public/signed url\n",
    "\n",
    "* Whether the data is a file or an iterable of dicts it must follow the structure defined here:\n",
    "https://docs.labelbox.com/data-model/en/index-en#annotations"
   ],
   "metadata": {}
  },
  {
   "cell_type": "markdown",
   "source": [
    "* Python objects"
   ],
   "metadata": {}
  },
  {
   "cell_type": "code",
   "execution_count": 7,
   "source": [
    "#For more details see image_mal.ipynb or ner_mal.ipynb\n",
    "annotations = [{\n",
    "    \"uuid\": str(uuid.uuid4()),\n",
    "    \"schemaId\": feature_schema_id,\n",
    "    \"dataRow\": {\n",
    "        \"id\": data_row.uid,\n",
    "    },\n",
    "    \"bbox\": {\n",
    "        \"top\": int(30),\n",
    "        \"left\": int(30),\n",
    "        \"height\": 200,\n",
    "        \"width\": 200\n",
    "    }\n",
    "}]"
   ],
   "outputs": [],
   "metadata": {}
  },
  {
   "cell_type": "markdown",
   "source": [
    "* Local NDjson file"
   ],
   "metadata": {}
  },
  {
   "cell_type": "code",
   "execution_count": 8,
   "source": [
    "with open('/tmp/example.ndjson', 'w') as file:\n",
    "    file.write(ndjson.dumps(annotations))"
   ],
   "outputs": [],
   "metadata": {}
  },
  {
   "cell_type": "markdown",
   "source": [
    "* Remote NDjson file"
   ],
   "metadata": {}
  },
  {
   "cell_type": "code",
   "execution_count": 9,
   "source": [
    "with open(\"/tmp/example.ndjson\") as file:\n",
    "    content = file.read()\n",
    "ndjson_url = client.upload_data(content=content, sign=True)"
   ],
   "outputs": [],
   "metadata": {}
  },
  {
   "cell_type": "markdown",
   "source": [
    "### Perform the upload\n",
    "* Choose one of the following to run\n",
    "* Then run the cell with upload_job.wait_until_done()\n",
    "* Once this completes (up to five minuntes), you can see the annotations if you go to the link that is printed out below"
   ],
   "metadata": {}
  },
  {
   "cell_type": "markdown",
   "source": [
    "### MAL from a python object"
   ],
   "metadata": {}
  },
  {
   "cell_type": "code",
   "execution_count": 10,
   "source": [
    "upload_job = project.upload_annotations(name=\"upload_py_object_job\",\n",
    "                                        annotations=annotations)"
   ],
   "outputs": [],
   "metadata": {}
  },
  {
   "cell_type": "markdown",
   "source": [
    "### MAL from a file"
   ],
   "metadata": {}
  },
  {
   "cell_type": "code",
   "execution_count": 11,
   "source": [
    "predictions_file = Path(\"/tmp/example.ndjson\")\n",
    "upload_job = project.upload_annotations(name=\"upload_local_ndjson_job\",\n",
    "                                        annotations=predictions_file)"
   ],
   "outputs": [],
   "metadata": {}
  },
  {
   "cell_type": "markdown",
   "source": [
    "### MAL from a url"
   ],
   "metadata": {}
  },
  {
   "cell_type": "code",
   "execution_count": 12,
   "source": [
    "upload_job = project.upload_annotations(name=\"upload_remote_ndjson_job\",\n",
    "                                        annotations=ndjson_url)"
   ],
   "outputs": [
    {
     "output_type": "stream",
     "name": "stderr",
     "text": [
      "Validation is turned on. The file will be downloaded locally and processed before uploading.\n"
     ]
    }
   ],
   "metadata": {}
  },
  {
   "cell_type": "code",
   "execution_count": 13,
   "source": [
    "# Wait for the jobs to finish\n",
    "upload_job.wait_until_done()\n",
    "#See https://github.com/Labelbox/labelbox-python/blob/develop/labelbox/schema/enums.py\n",
    "# for possible states\n",
    "print(\"State\", upload_job.state)\n",
    "print(\n",
    "    \"Visit the following and click start labeling to see the uploaded example:\",\n",
    "    f\"https://app.labelbox.com/projects/{project.uid}\")"
   ],
   "outputs": [
    {
     "output_type": "stream",
     "name": "stdout",
     "text": [
      "Visit the following and click start labeling to see the uploaded example: https://app.labelbox.com/projects/ckmuilp77c0ov0789ome3arln\n"
     ]
    }
   ],
   "metadata": {}
  },
  {
   "cell_type": "markdown",
   "source": [
    "If you are uploading a public URL to an NDJSON file,\n",
    "check that the host of the public URL allows standard browsers to download by doing the following:\n",
    "* Navigate to your URL using any browser. It should return the expected NDJSON.\n",
    "* Run wget -O- --user-agent='Mozilla/5.0 (Macintosh; Intel Mac OS X 10_15_4) AppleWebKit/537.36  (KHTML, like Gecko) Chrome/81.0.4044.138  Safari/537.36' <url> | cat. It should return the expected NDJSON."
   ],
   "metadata": {}
  },
  {
   "cell_type": "code",
   "execution_count": 14,
   "source": [
    "os.environ['upload_file_url'] = ndjson_url\n",
    "!wget -O- --user-agent='Mozilla/5.0 (Macintosh; Intel Mac OS X 10_15_4) AppleWebKit/537.36  (KHTML, like Gecko) Chrome/81.0.4044.138  Safari/537.36' \\\n",
    "      $upload_file_url | cat"
   ],
   "outputs": [
    {
     "output_type": "stream",
     "name": "stdout",
     "text": [
      "--2021-03-29 07:30:40--  https://storage.labelbox.com/ckk4q1vgapsau07324awnsjq2%2Fa6bcb5b1-28f6-2719-bba5-2af5a09508ec-1?Expires=1617103411913&KeyName=labelbox-assets-key-1&Signature=pszklnoZKifP7HTvXTG4gVnHVbs\n",
      "Resolving storage.labelbox.com (storage.labelbox.com)... 34.96.97.159\n",
      "Connecting to storage.labelbox.com (storage.labelbox.com)|34.96.97.159|:443... connected.\n",
      "HTTP request sent, awaiting response... 200 OK\n",
      "Length: 199 [text/plain]\n",
      "Saving to: ‘STDOUT’\n",
      "\n",
      "{\"uuid\": \"fd14e9ef-6bf9-4300-bf2a-7e85f4f0b009\", \"schemaId\": \"ckmui64il0s4d0y5rfjvd8v4v\", \"dataRow\": {\"id\": \"ckmui63lo49gd0y62fampaew4\"}, \"bbox\": {\"top\": 30, \"left\": 30, \"height\": 200, \"width\": 200}}-                   100%[===================>]     199  --.-KB/s    in 0s      \n",
      "\n",
      "2021-03-29 07:30:40 (63.3 MB/s) - written to stdout [199/199]\n",
      "\n"
     ]
    }
   ],
   "metadata": {}
  },
  {
   "cell_type": "code",
   "execution_count": 15,
   "source": [
    "# Error for each annotation that failed.\n",
    "# Empty list means that there were no errors\n",
    "print(\"Errors:\", upload_job.errors)\n",
    "# Status for each ndjson annotation\n",
    "print(\"Statuses\", upload_job.statuses)\n",
    "# The ndjson you uploaded\n",
    "print(\"inputs\", upload_job.inputs)"
   ],
   "outputs": [],
   "metadata": {}
  }
 ],
 "metadata": {
  "kernelspec": {
   "name": "python3",
   "display_name": "Python 3.9.2 64-bit"
  },
  "language_info": {
   "codemirror_mode": {
    "name": "ipython",
    "version": 3
   },
   "file_extension": ".py",
   "mimetype": "text/x-python",
   "name": "python",
   "nbconvert_exporter": "python",
   "pygments_lexer": "ipython3",
   "version": "3.9.2"
  },
  "interpreter": {
   "hash": "7812ea015bdcee6f23a998adcdd2ef97c151c0c241b7b7070987d9313e41299d"
  }
 },
 "nbformat": 4,
 "nbformat_minor": 5
}