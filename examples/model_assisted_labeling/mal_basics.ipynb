{
 "cells": [
  {
   "cell_type": "markdown",
   "id": "fundamental-failure",
   "metadata": {},
   "source": [
    "# MAL Basics\n",
    "* This notebook is a high level introduction demonstrating that you can upload inferences from python objects, local files, and remote files.\n",
    "* For complete examples see image_mal.ipynb or ner_mal.ipynb"
   ]
  },
  {
   "cell_type": "markdown",
   "id": "registered-parts",
   "metadata": {},
   "source": [
    "* There are three ways to import annotations using the upload_annotations method.\n",
    "    1. For images, the Model-assisted labeling workflow supports all annotation types, except Dropdown classification and classifications nested within classifications.\n",
    "    2. For videos, the Model-assisted workflow only supports classifications at the frame-level.\n",
    "    3. For text, the Model-assisted workflow supports Named entity recognition and text classification."
   ]
  },
  {
   "cell_type": "markdown",
   "id": "legislative-violence",
   "metadata": {},
   "source": [
    "* Hints:\n",
    "    * If you are importing more than 1,000 mask annotations at a time, consider submitting separate jobs, as they can take longer than other annotation types to import.\n",
    "    * Wait until the import job is complete before opening the Editor to make sure all annotations are imported properly."
   ]
  },
  {
   "cell_type": "code",
   "execution_count": 1,
   "id": "pointed-disability",
   "metadata": {},
   "outputs": [],
   "source": [
    "!pip install labelbox\n",
    "!pip install requests\n",
    "!pip install ndjson\n",
    "!pip install pathlib"
   ]
  },
  {
   "cell_type": "code",
   "execution_count": 2,
   "id": "guided-arthritis",
   "metadata": {},
   "outputs": [],
   "source": [
    "from labelbox import Client\n",
    "from labelbox.schema.ontology import OntologyBuilder, Tool\n",
    "from labelbox import Client, LabelingFrontend\n",
    "from pathlib import Path\n",
    "import ndjson\n",
    "import os\n",
    "import requests\n",
    "import uuid\n",
    "import json\n",
    "from getpass import getpass"
   ]
  },
  {
   "cell_type": "code",
   "execution_count": 3,
   "id": "owned-disposal",
   "metadata": {},
   "outputs": [],
   "source": [
    "# If you don't want to give google access to drive you can skip this cell\n",
    "# and manually set `API_KEY` below.\n",
    "\n",
    "COLAB = \"google.colab\" in str(get_ipython())\n",
    "if COLAB:\n",
    "    !pip install colab-env -qU\n",
    "    from colab_env import envvar_handler\n",
    "    envvar_handler.envload()\n",
    "\n",
    "API_KEY = os.environ.get(\"LABELBOX_API_KEY\")\n",
    "if not os.environ.get(\"LABELBOX_API_KEY\"):\n",
    "    API_KEY = getpass(\"Please enter your labelbox api key\")\n",
    "    if COLAB:\n",
    "        envvar_handler.add_env(\"LABELBOX_API_KEY\", API_KEY)"
   ]
  },
  {
   "cell_type": "code",
   "execution_count": 4,
   "id": "agricultural-happening",
   "metadata": {},
   "outputs": [],
   "source": [
    "# Only update this if you have an on-prem deployment\n",
    "ENDPOINT = \"https://api.labelbox.com/graphql\""
   ]
  },
  {
   "cell_type": "code",
   "execution_count": 5,
   "id": "preliminary-benchmark",
   "metadata": {},
   "outputs": [],
   "source": [
    "client = Client(api_key=API_KEY, endpoint=ENDPOINT)"
   ]
  },
  {
   "cell_type": "markdown",
   "id": "working-holiday",
   "metadata": {},
   "source": [
    "---- \n",
    "### Steps\n",
    "1. Make sure project is setup\n",
    "2. Collect annotations\n",
    "3. Upload"
   ]
  },
  {
   "cell_type": "markdown",
   "id": "thirty-socket",
   "metadata": {},
   "source": [
    "### Project setup"
   ]
  },
  {
   "cell_type": "code",
   "execution_count": 6,
   "id": "advanced-trash",
   "metadata": {},
   "outputs": [],
   "source": [
    "# Only update this if you have an on-prem deployment\n",
    "ontology_builder = OntologyBuilder(tools=[\n",
    "    Tool(tool=Tool.Type.BBOX, name=\"person\"),\n",
    "])\n",
    "project = client.create_project(name=\"image_mal_project\")\n",
    "dataset = client.create_dataset(name=\"image_mal_dataset\")\n",
    "test_img_url = \"https://raw.githubusercontent.com/Labelbox/labelbox-python/develop/examples/assets/2560px-Kitano_Street_Kobe01s5s4110.jpg\"\n",
    "data_row = dataset.create_data_row(row_data=test_img_url)\n",
    "editor = next(\n",
    "    client.get_labeling_frontends(where=LabelingFrontend.name == 'editor'))\n",
    "project.setup(editor, ontology_builder.asdict())\n",
    "project.datasets.connect(dataset)\n",
    "project.enable_model_assisted_labeling()\n",
    "ontology = ontology_builder.from_project(project)\n",
    "feature_schema_id = ontology.tools[0].feature_schema_id"
   ]
  },
  {
   "cell_type": "markdown",
   "id": "aging-disability",
   "metadata": {},
   "source": [
    "#### Collect annotations\n",
    "* Can use any of the following approaches:\n",
    "1. Python Iterable of dicts\n",
    "2. NDjson stored locally\n",
    "3. NDjson accessible via a public/signed url\n",
    "\n",
    "* Whether the data is a file or an iterable of dicts it must follow the structure defined here:\n",
    "https://docs.labelbox.com/data-model/en/index-en#annotations"
   ]
  },
  {
   "cell_type": "markdown",
   "id": "polyphonic-innocent",
   "metadata": {},
   "source": [
    "* Python objects"
   ]
  },
  {
   "cell_type": "code",
   "execution_count": 7,
   "id": "framed-gateway",
   "metadata": {},
   "outputs": [],
   "source": [
    "#For more details see image_mal.ipynb or ner_mal.ipynb\n",
    "annotations = [{\n",
    "    \"uuid\": str(uuid.uuid4()),\n",
    "    \"schemaId\": feature_schema_id,\n",
    "    \"dataRow\": {\n",
    "        \"id\": data_row.uid,\n",
    "    },\n",
    "    \"bbox\": {\n",
    "        \"top\": int(30),\n",
    "        \"left\": int(30),\n",
    "        \"height\": 200,\n",
    "        \"width\": 200\n",
    "    }\n",
    "}]"
   ]
  },
  {
   "cell_type": "markdown",
   "id": "settled-cartoon",
   "metadata": {},
   "source": [
    "* Local NDjson file"
   ]
  },
  {
   "cell_type": "code",
   "execution_count": 8,
   "id": "collaborative-lawyer",
   "metadata": {},
   "outputs": [],
   "source": [
    "with open('/tmp/example.ndjson', 'w') as file:\n",
    "    file.write(ndjson.dumps(annotations))"
   ]
  },
  {
   "cell_type": "markdown",
   "id": "lightweight-recording",
   "metadata": {},
   "source": [
    "* Remote NDjson file"
   ]
  },
  {
   "cell_type": "code",
   "execution_count": 9,
   "id": "duplicate-initial",
   "metadata": {},
   "outputs": [],
   "source": [
    "with open(\"/tmp/example.ndjson\") as file:\n",
    "    content = file.read()\n",
    "ndjson_url = client.upload_data(content=content, sign=True)"
   ]
  },
  {
   "cell_type": "markdown",
   "id": "subjective-entrance",
   "metadata": {},
   "source": [
    "### Perform the upload\n",
    "* Choose one of the following to run\n",
    "* Then run the cell with upload_job.wait_until_done()\n",
    "* Once this completes (up to five minuntes), you can see the annotations if you go to the link that is printed out below"
   ]
  },
  {
   "cell_type": "markdown",
   "id": "continental-greeting",
   "metadata": {},
   "source": [
    "### MAL from a python object"
   ]
  },
  {
   "cell_type": "code",
   "execution_count": 10,
   "id": "criminal-register",
   "metadata": {},
   "outputs": [],
   "source": [
    "upload_job = project.upload_annotations(name=\"upload_py_object_job\",\n",
    "                                        annotations=annotations)"
   ]
  },
  {
   "cell_type": "markdown",
   "id": "neutral-nothing",
   "metadata": {},
   "source": [
    "### MAL from a file"
   ]
  },
  {
   "cell_type": "code",
   "execution_count": 11,
   "id": "incorrect-barrier",
   "metadata": {},
   "outputs": [],
   "source": [
    "predictions_file = Path(\"/tmp/example.ndjson\")\n",
    "upload_job = project.upload_annotations(name=\"upload_local_ndjson_job\",\n",
    "                                        annotations=predictions_file)"
   ]
  },
  {
   "cell_type": "markdown",
   "id": "cheap-pendant",
   "metadata": {},
   "source": [
    "### MAL from a url"
   ]
  },
  {
   "cell_type": "code",
   "execution_count": 12,
   "id": "dimensional-karaoke",
   "metadata": {},
   "outputs": [
    {
     "name": "stderr",
     "output_type": "stream",
     "text": [
      "Validation is turned on. The file will be downloaded locally and processed before uploading.\n"
     ]
    }
   ],
   "source": [
    "upload_job = project.upload_annotations(name=\"upload_remote_ndjson_job\",\n",
    "                                        annotations=ndjson_url)"
   ]
  },
  {
   "cell_type": "code",
   "execution_count": 13,
   "id": "common-guarantee",
   "metadata": {},
   "outputs": [
    {
     "name": "stdout",
     "output_type": "stream",
     "text": [
      "Visit the following and click start labeling to see the uploaded example: https://app.labelbox.com/projects/ckmuilp77c0ov0789ome3arln\n"
     ]
    }
   ],
   "source": [
    "# Wait for the jobs to finish\n",
    "upload_job.wait_until_done()\n",
    "#See https://github.com/Labelbox/labelbox-python/blob/develop/labelbox/schema/enums.py\n",
    "# for possible states\n",
    "print(\"State\", upload_job.state)\n",
    "print(\n",
    "    \"Visit the following and click start labeling to see the uploaded example:\",\n",
    "    f\"https://app.labelbox.com/projects/{project.uid}\")"
   ]
  },
  {
   "cell_type": "markdown",
   "id": "weekly-evanescence",
   "metadata": {},
   "source": [
    "If you are uploading a public URL to an NDJSON file,\n",
    "check that the host of the public URL allows standard browsers to download by doing the following:\n",
    "* Navigate to your URL using any browser. It should return the expected NDJSON.\n",
    "* Run wget -O- --user-agent='Mozilla/5.0 (Macintosh; Intel Mac OS X 10_15_4) AppleWebKit/537.36  (KHTML, like Gecko) Chrome/81.0.4044.138  Safari/537.36' <url> | cat. It should return the expected NDJSON."
   ]
  },
  {
   "cell_type": "code",
   "execution_count": 14,
   "id": "logical-berry",
   "metadata": {},
   "outputs": [
    {
     "name": "stdout",
     "output_type": "stream",
     "text": [
      "--2021-03-29 07:30:40--  https://storage.labelbox.com/ckk4q1vgapsau07324awnsjq2%2Fa6bcb5b1-28f6-2719-bba5-2af5a09508ec-1?Expires=1617103411913&KeyName=labelbox-assets-key-1&Signature=pszklnoZKifP7HTvXTG4gVnHVbs\n",
      "Resolving storage.labelbox.com (storage.labelbox.com)... 34.96.97.159\n",
      "Connecting to storage.labelbox.com (storage.labelbox.com)|34.96.97.159|:443... connected.\n",
      "HTTP request sent, awaiting response... 200 OK\n",
      "Length: 199 [text/plain]\n",
      "Saving to: ‘STDOUT’\n",
      "\n",
      "{\"uuid\": \"fd14e9ef-6bf9-4300-bf2a-7e85f4f0b009\", \"schemaId\": \"ckmui64il0s4d0y5rfjvd8v4v\", \"dataRow\": {\"id\": \"ckmui63lo49gd0y62fampaew4\"}, \"bbox\": {\"top\": 30, \"left\": 30, \"height\": 200, \"width\": 200}}-                   100%[===================>]     199  --.-KB/s    in 0s      \n",
      "\n",
      "2021-03-29 07:30:40 (63.3 MB/s) - written to stdout [199/199]\n",
      "\n"
     ]
    }
   ],
   "source": [
    "os.environ['upload_file_url'] = ndjson_url\n",
    "!wget -O- --user-agent='Mozilla/5.0 (Macintosh; Intel Mac OS X 10_15_4) AppleWebKit/537.36  (KHTML, like Gecko) Chrome/81.0.4044.138  Safari/537.36' \\\n",
    "      $upload_file_url | cat"
   ]
  },
  {
   "cell_type": "code",
   "execution_count": 15,
   "id": "welsh-nutrition",
   "metadata": {},
   "outputs": [],
   "source": [
    "# Error for each annotation that failed.\n",
    "# Empty list means that there were no errors\n",
    "print(\"Errors:\", upload_job.errors)\n",
    "# Status for each ndjson annotation\n",
    "print(\"Statuses\", upload_job.statuses)\n",
    "# The ndjson you uploaded\n",
    "print(\"inputs\", upload_job.inputs)"
   ]
  }
 ],
 "metadata": {
  "kernelspec": {
   "display_name": "Python 3",
   "language": "python",
   "name": "python3"
  },
  "language_info": {
   "codemirror_mode": {
    "name": "ipython",
    "version": 3
   },
   "file_extension": ".py",
   "mimetype": "text/x-python",
   "name": "python",
   "nbconvert_exporter": "python",
   "pygments_lexer": "ipython3",
   "version": "3.8.8"
  }
 },
 "nbformat": 4,
 "nbformat_minor": 5
}
