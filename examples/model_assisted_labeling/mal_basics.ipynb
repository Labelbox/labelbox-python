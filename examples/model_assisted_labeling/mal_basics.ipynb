{
        {
          "name": "stderr",
          "output_type": "stream",
          "text": [
            "INFO:labelbox.client:Initializing Labelbox client at 'https://api.labelbox.com/graphql'\n"
          ]
        }
      ],
      "source": [
        "# Add your api key\n",
        "API_KEY = None\n",
        "client = Client(api_key=API_KEY)"
      ]
    },
    {
      "cell_type": "markdown",
      "id": "working-holiday",
      "metadata": {
        "id": "working-holiday"
      },
      "source": [
        "---- \n",
        "### Steps\n",
        "1. Make sure project is setup\n",
        "2. Collect annotations\n",
        "3. Upload"
      ]
    },
    {
      "cell_type": "markdown",
      "id": "thirty-socket",
      "metadata": {
        "id": "thirty-socket"
      },
      "source": [
        "### Project setup"
      ]
    },
    {
      "cell_type": "markdown",
      "id": "bf25188e-cc79-477a-9b80-0a764449808d",
      "metadata": {
        "id": "bf25188e-cc79-477a-9b80-0a764449808d"
      },
      "source": [
        "We will be creating two projects, one for model-assisted labeling, and one for label imports"
      ]
    },
    {
      "cell_type": "code",
      "execution_count": null,
      "id": "advanced-trash",
      "metadata": {
        "id": "advanced-trash"
      },
      "outputs": [],
      "source": [
        "# Only update this if you have an on-prem deployment\n",
        "ontology_builder = OntologyBuilder(tools=[\n",
        "    Tool(tool=Tool.Type.BBOX, name=\"box\")\n",
        "])\n",
        "\n",
        "\n",
        "mal_project = client.create_project(name=\"image_mal_project\")\n",
        "li_project = client.create_project(name=\"image_label_import_project\")\n",
        "\n",
        "\n",
        "dataset = client.create_dataset(name=\"annotation_import_demo_dataset\")\n",
        "test_img_url = \"https://raw.githubusercontent.com/Labelbox/labelbox-python/develop/examples/assets/2560px-Kitano_Street_Kobe01s5s4110.jpg\"\n",
        "data_row = dataset.create_data_row(row_data=test_img_url)\n",
        "editor = next(client.get_labeling_frontends(where=LabelingFrontend.name == \"Editor\"))\n",
        "\n",
        "mal_project.setup(editor, ontology_builder.asdict())\n",
        "mal_project.datasets.connect(dataset)\n",
        "\n",
        "li_project.setup(editor, ontology_builder.asdict())\n",
        "li_project.datasets.connect(dataset)"
      ]
    },
    {
      "cell_type": "markdown",
      "id": "aging-disability",
      "metadata": {
        "id": "aging-disability"
      },
      "source": [
        "#### Create Label using Annotation Type Objects\n",
        "* It is recommended to use the Python SDK's annotation types. Below is an example of a bounding box, which is the Rectangle annotation type\n",
        "\n",
        "* A more in depth example can be found here:\n",
        "    * https://docs.labelbox.com/docs/bounding-box-json"
      ]
    },
    {
      "cell_type": "code",
      "execution_count": null,
      "id": "framed-gateway",
      "metadata": {
        "id": "framed-gateway",
        "outputId": "7648c444-4d77-4b10-b8ba-23f181567fcb"
      },
      "outputs": [
        {
          "data": {
            "text/plain": [
              "Label(uid=None, data=ImageData(im_bytes=None,file_path=None,url=None,arr=None), annotations=[ObjectAnnotation(name='box', feature_schema_id=None, extra={}, value=Rectangle(extra={}, start=Point(extra={}, x=30.0, y=30.0), end=Point(extra={}, x=200.0, y=200.0)), classifications=[])], extra={})"
            ]
          },
          "execution_count": 5,
          "metadata": {},
          "output_type": "execute_result"
        }
      ],
      "source": [
        "# Create a label with the related data and annotations\n",
        "# Then we assign the feature schema id based on an existing project's ontology\n",
        "# Assignment of the feature schema will be done per each project below\n",
        "rectangle = Rectangle(start=Point(x=30,y=30), end=Point(x=200,y=200))\n",
        "rectangle_annotation = ObjectAnnotation(value=rectangle, name=\"box\")\n",
        "image_data = ImageData(uid=data_row.uid)\n",
        "\n",
        "label = Label(\n",
        "    data=image_data,\n",
        "    annotations = [rectangle_annotation]\n",
        ")\n",
        "\n",
        "label"
      ]
    },
    {
      "cell_type": "markdown",
      "id": "continental-greeting",
      "metadata": {
        "id": "continental-greeting"
      },
      "source": [
        "### Model Assisted Labeling "
      ]
    },
    {
      "cell_type": "markdown",
      "id": "c6244b5e-08d7-4f3e-9689-d44539ad58c0",
      "metadata": {
        "id": "c6244b5e-08d7-4f3e-9689-d44539ad58c0"
      },
      "source": [
        "To do model-assisted labeling, we need to convert a Label object into an NDJSON. \n",
        "\n",
        "This is easily done with using the NDJSONConverter class\n",
        "\n",
        "We will create a Label called mal_label which has the same original structure as the label above\n",
        "\n",
        "Notes:\n",
        "* Each label requires a valid feature schema id. We will assign it using our built in `assign_feature_schema_ids` method\n",
        "* the NDJsonConverter takes in a list of labels"
      ]
    },
    {
      "cell_type": "code",
      "execution_count": null,
      "id": "10b19393-920a-45c8-9660-42d8c449b9c2",
      "metadata": {
        "id": "10b19393-920a-45c8-9660-42d8c449b9c2",
        "outputId": "a93a39de-c8ed-402c-b834-304b1ba8854a"
      },
      "outputs": [
        {
          "data": {
            "text/plain": [
              "[{'uuid': 'fde1945b-01df-43c2-807a-3f5fa20450f4',\n",
              "  'dataRow': {'id': 'ckzocppkf96r10z9q205151c3'},\n",
              "  'schemaId': 'ckzocpq4l9bw20z9s9bc70h29',\n",
              "  'classifications': [],\n",
              "  'bbox': {'top': 30.0, 'left': 30.0, 'height': 170.0, 'width': 170.0}}]"
            ]
          },
          "execution_count": 6,
          "metadata": {},
          "output_type": "execute_result"
        }
      ],
      "source": [
        "mal_label = Label(\n",
        "    data=image_data,\n",
        "    annotations = [rectangle_annotation]\n",
        ")\n",
        "\n",
        "mal_label.assign_feature_schema_ids(ontology_builder.from_project(mal_project))\n",
        "\n",
        "ndjson_labels = list(NDJsonConverter.serialize([mal_label]))\n",
        "\n",
        "ndjson_labels"
      ]
    },
    {
      "cell_type": "code",
      "execution_count": null,
      "id": "criminal-register",
      "metadata": {
        "id": "criminal-register"
      },
      "outputs": [],
      "source": [
        "upload_job = MALPredictionImport.create_from_objects(\n",
        "    client = client, \n",
        "    project_id = mal_project.uid, \n",
        "    name=\"upload_label_import_job\", \n",
        "    predictions=ndjson_labels)"
      ]
    },
    {
      "cell_type": "code",
      "execution_count": null,
      "id": "welsh-nutrition",
      "metadata": {
        "id": "welsh-nutrition",
        "outputId": "c13baac2-508b-4018-c594-dc92d6efe8a1"
      },
      "outputs": [
        {
          "name": "stderr",
          "output_type": "stream",
          "text": [
            "INFO:labelbox.schema.annotation_import:Sleeping for 10 seconds...\n"
          ]
        },
        {
          "name": "stdout",
          "output_type": "stream",
          "text": [
            "Errors: []\n"
          ]
        }
      ],
      "source": [
        "# Errors will appear for each annotation that failed.\n",
        "# Empty list means that there were no errors\n",
        "# This will provide information only after the upload_job is complete, so we do not need to worry about having to rerun\n",
        "print(\"Errors:\", upload_job.errors)"
      ]
    },
    {
      "cell_type": "markdown",
      "id": "dd1441ee-7c04-4326-a094-2ca34a3548e6",
      "metadata": {
        "id": "dd1441ee-7c04-4326-a094-2ca34a3548e6"
      },
      "source": [
        "### Label Import"
      ]
    },
    {
      "cell_type": "markdown",
      "id": "41d103bc-a5fd-4f0b-95f0-7e9bc59fbd07",
      "metadata": {
        "id": "41d103bc-a5fd-4f0b-95f0-7e9bc59fbd07"
      },
      "source": [
        "Label import is very similar to model-assisted labeling. We will need to re-assign the feature schema before continuing, \n",
        "but we can continue to use our NDJSonConverter\n",
        "\n",
        "We will create a Label called li_label which has the same original structure as the label above"
      ]
    },
    {
      "cell_type": "code",
      "execution_count": null,
      "id": "c95716d5-a1ee-46fe-8dca-313ce10f104f",
      "metadata": {
        "id": "c95716d5-a1ee-46fe-8dca-313ce10f104f",
        "outputId": "0e83d5d0-1f51-4903-c777-f9c331781656"
      },
      "outputs": [
        {
          "data": {
            "text/plain": [
              "[{'uuid': '7be8bb0b-39a2-44a5-96ab-5def3752811b',\n",
              "  'dataRow': {'id': 'ckzocppkf96r10z9q205151c3'},\n",
              "  'schemaId': 'ckzocpqv80ukp0z9l67cc6liv',\n",
              "  'classifications': [],\n",
              "  'bbox': {'top': 30.0, 'left': 30.0, 'height': 170.0, 'width': 170.0}}]"
            ]
          },
          "execution_count": 9,
          "metadata": {},
          "output_type": "execute_result"
        }
      ],
      "source": [
        "li_label = Label(\n",
        "    data=image_data,\n",
        "    annotations = [rectangle_annotation]\n",
        ")\n",
        "\n",
        "li_label.assign_feature_schema_ids(ontology_builder.from_project(li_project))\n",
        "\n",
        "ndjson_labels = list(NDJsonConverter.serialize([li_label]))\n",
        "\n",
        "ndjson_labels"
      ]
    },
    {
      "cell_type": "code",
      "execution_count": null,
      "id": "ef24f3cd-9d16-4e13-af25-7ebcda7dd4d2",
      "metadata": {
        "id": "ef24f3cd-9d16-4e13-af25-7ebcda7dd4d2"
      },
      "outputs": [],
      "source": [
        "upload_job = LabelImport.create_from_objects(\n",
        "    client = client, \n",
        "    project_id = li_project.uid, \n",
        "    name=\"upload_label_import_job\", \n",
        "    labels=ndjson_labels)"
      ]
    },
    {
      "cell_type": "code",
      "execution_count": null,
      "id": "c8fba013-7bad-4188-bbe6-47f9f857ec66",
      "metadata": {
        "id": "c8fba013-7bad-4188-bbe6-47f9f857ec66",
        "outputId": "95939547-8c24-431e-dec9-7221686856b5"
      },
      "outputs": [
        {
          "name": "stderr",
          "output_type": "stream",
          "text": [
            "INFO:labelbox.schema.annotation_import:Sleeping for 10 seconds...\n"
          ]
        },
        {
          "name": "stdout",
          "output_type": "stream",
          "text": [
            "Errors: []\n"
          ]
        }
      ],
      "source": [
        "print(\"Errors:\", upload_job.errors)"
      ]
    }
  ],
  "metadata": {
    "kernelspec": {
      "display_name": "Python 3",
      "language": "python",
      "name": "python3"
    },
    "language_info": {
      "codemirror_mode": {
        "name": "ipython",
        "version": 3
      },
      "file_extension": ".py",
      "mimetype": "text/x-python",
      "name": "python",
      "nbconvert_exporter": "python",
      "pygments_lexer": "ipython3",
      "version": "3.8.8"
    },
    "colab": {
      "name": "mal_basics.ipynb",
      "provenance": [],
      "collapsed_sections": []
    }
  },
  "nbformat": 4,
  "nbformat_minor": 5
}