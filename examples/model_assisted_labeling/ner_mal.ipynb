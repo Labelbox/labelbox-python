{
  "cells": [
    {
      "cell_type": "markdown",
      "id": "a6a048e8-b5fe-418b-aec4-829b5b6802e5",
      "metadata": {
        "id": "a6a048e8-b5fe-418b-aec4-829b5b6802e5"
      },
      "source": [
        "<td>\n",
        "   <a target=\"_blank\" href=\"https://labelbox.com\" ><img src=\"https://labelbox.com/blog/content/images/2021/02/logo-v4.svg\" width=256/></a>\n",
        "</td>"
      ]
    },
    {
      "cell_type": "markdown",
      "id": "51cf1362-1cde-4749-aac7-5fb94473baa7",
      "metadata": {
        "id": "51cf1362-1cde-4749-aac7-5fb94473baa7"
      },
      "source": [
        "<td>\n",
        "<a href=\"https://colab.research.google.com/github/Labelbox/labelbox-python/blob/develop/examples/model_assisted_labeling/image_mal.ipynb\" target=\"_blank\"><img\n",
        "src=\"https://colab.research.google.com/assets/colab-badge.svg\" alt=\"Open In Colab\"></a>\n",
        "</td>\n",
        "\n",
        "<td>\n",
        "<a href=\"https://github.com/Labelbox/labelbox-python/tree/develop/examples/model_assisted_labeling/image_mal.ipynb\" target=\"_blank\"><img\n",
        "src=\"https://img.shields.io/badge/GitHub-100000?logo=github&logoColor=white\" alt=\"GitHub\"></a>\n",
        "</td>"
      ]
    },
    {
      "cell_type": "markdown",
      "id": "339795d3-e36c-4470-8605-62bfdd5eea29",
      "metadata": {
        "id": "339795d3-e36c-4470-8605-62bfdd5eea29"
      },
      "source": [
        "# Text Annotation Import\n",
        "* This notebook will provide examples of each supported annotation type for text assets. It will cover the following:\n",
        "    * Model-assisted labeling - used to provide pre-annotated data for your labelers. This will enable a reduction in the total amount of time to properly label your assets. Model-assisted labeling does not submit the labels automatically, and will need to be reviewed by a labeler for submission.\n",
        "    * Label Import - used to provide ground truth labels. These can in turn be used and compared against prediction labels, or used as benchmarks to see how your labelers are doing."
      ]
    },
    {
      "cell_type": "markdown",
      "id": "e76f007b-9465-4acd-9008-20e25e4a4b98",
      "metadata": {
        "id": "e76f007b-9465-4acd-9008-20e25e4a4b98"
      },
      "source": [
        "* For information on what types of annotations are supported per data type, refer to this documentation:\n",
        "    * https://docs.labelbox.com/docs/model-assisted-labeling#option-1-import-via-python-annotation-types-recommended"
      ]
    },
    {
      "cell_type": "markdown",
      "id": "f53d50fc-8d3c-452b-9aaf-f6170aaa5576",
      "metadata": {
        "id": "f53d50fc-8d3c-452b-9aaf-f6170aaa5576"
      },
      "source": [
        "* Notes:\n",
        "    * Wait until the import job is complete before opening the Editor to make sure all annotations are imported properly."
      ]
    },
    {
      "cell_type": "markdown",
      "id": "5effdaa3-e701-4804-aa33-bbbaed99eb92",
      "metadata": {
        "id": "5effdaa3-e701-4804-aa33-bbbaed99eb92"
      },
      "source": [
        "# Installs"
      ]
    },
    {
      "cell_type": "code",
      "execution_count": null,
      "id": "4d63074b-2379-48af-b9d6-2a66190f03c4",
      "metadata": {
        "id": "4d63074b-2379-48af-b9d6-2a66190f03c4"
      },
      "outputs": [],
      "source": [
        "!pip install -q 'labelbox[data]'"
      ]
    },
    {
      "cell_type": "markdown",
      "id": "6f3cdca1-524f-4247-a63b-2d4371b0257d",
      "metadata": {
        "id": "6f3cdca1-524f-4247-a63b-2d4371b0257d"
      },
      "source": [
        "# Imports"
      ]
    },
    {
      "cell_type": "code",
      "execution_count": 2,
      "id": "01fca8c9-0680-4a9c-a11e-1b49f31e9121",
      "metadata": {
        "id": "01fca8c9-0680-4a9c-a11e-1b49f31e9121"
      },
      "outputs": [],
      "source": [
        "from labelbox.schema.ontology import OntologyBuilder, Tool, Classification, Option\n",
        "from labelbox import Client, LabelingFrontend, LabelImport, MALPredictionImport\n",
        "from labelbox.data.annotation_types import (\n",
        "    Label, TextData, Checklist, Radio, ObjectAnnotation, TextEntity,\n",
        "    ClassificationAnnotation, ClassificationAnswer\n",
        ")\n",
        "from labelbox.data.serialization import NDJsonConverter\n",
        "import uuid\n",
        "import json\n",
        "import numpy as np"
      ]
    },
    {
      "cell_type": "markdown",
      "id": "a72d96e8-33ce-434d-b330-393e1c31702a",
      "metadata": {
        "id": "a72d96e8-33ce-434d-b330-393e1c31702a"
      },
      "source": [
        "# API Key and Client\n",
        "Provide a valid api key below in order to properly connect to the Labelbox Client."
      ]
    },
    {
      "cell_type": "code",
      "execution_count": 3,
      "id": "86003724-4807-4281-95c1-5284a6f9609f",
      "metadata": {
        "id": "86003724-4807-4281-95c1-5284a6f9609f",
        "colab": {
          "base_uri": "https://localhost:8080/"
        },
        "outputId": "aeda6d0e-6f64-43ec-8967-9592c9cdedd4"
      },
      "outputs": [
        {
          "output_type": "stream",
          "name": "stderr",
          "text": [
            "INFO:labelbox.client:Initializing Labelbox client at 'https://api.labelbox.com/graphql'\n"
          ]
        }
      ],
      "source": [
        "# Add your api key\n",
        "API_KEY = None\n",
        "client = Client(api_key=API_KEY)"
      ]
    },
    {
      "cell_type": "markdown",
      "id": "960998ac-bde4-4184-8b7d-26d8e019cc7f",
      "metadata": {
        "id": "960998ac-bde4-4184-8b7d-26d8e019cc7f"
      },
      "source": [
        "---- \n",
        "### Steps\n",
        "1. Make sure project is setup\n",
        "2. Collect annotations\n",
        "3. Upload"
      ]
    },
    {
      "cell_type": "markdown",
      "id": "82a7381b-2409-4ed3-9d25-881a1e1d8ca6",
      "metadata": {
        "id": "82a7381b-2409-4ed3-9d25-881a1e1d8ca6"
      },
      "source": [
        "### Project setup"
      ]
    },
    {
      "cell_type": "markdown",
      "id": "d51fd2e1-bf5f-4c61-bca1-929f43b076ed",
      "metadata": {
        "id": "d51fd2e1-bf5f-4c61-bca1-929f43b076ed"
      },
      "source": [
        "We will be creating two projects, one for model-assisted labeling, and one for label imports"
      ]
    },
    {
      "cell_type": "code",
      "execution_count": 4,
      "id": "f9f9287c-aad7-4914-bc87-1453fb8bce81",
      "metadata": {
        "id": "f9f9287c-aad7-4914-bc87-1453fb8bce81"
      },
      "outputs": [],
      "source": [
        "ontology_builder = OntologyBuilder(\n",
        "    tools=[\n",
        "        Tool(tool=Tool.Type.NER, name=\"named_entity\")\n",
        "        ],\n",
        "    classifications=[\n",
        "        Classification(class_type=Classification.Type.CHECKLIST, instructions=\"checklist\", options=[\n",
        "            Option(value=\"first_checklist_answer\"),\n",
        "            Option(value=\"second_checklist_answer\")            \n",
        "        ]),\n",
        "        Classification(class_type=Classification.Type.RADIO, instructions=\"radio\", options=[\n",
        "            Option(value=\"first_radio_answer\"),\n",
        "            Option(value=\"second_radio_answer\")\n",
        "        ])])"
      ]
    },
    {
      "cell_type": "code",
      "execution_count": 5,
      "id": "044e9194-d21d-403e-b64c-047c1063b0fe",
      "metadata": {
        "id": "044e9194-d21d-403e-b64c-047c1063b0fe"
      },
      "outputs": [],
      "source": [
        "mal_project = client.create_project(name=\"text_mal_project\")\n",
        "li_project = client.create_project(name=\"text_label_import_project\")\n",
        "\n",
        "\n",
        "dataset = client.create_dataset(name=\"text_annotation_import_demo_dataset\")\n",
        "test_txt_url = \"https://storage.googleapis.com/labelbox-sample-datasets/nlp/lorem-ipsum.txt\"\n",
        "data_row = dataset.create_data_row(row_data=test_txt_url)\n",
        "editor = next(client.get_labeling_frontends(where=LabelingFrontend.name == \"Editor\"))\n",
        "\n",
        "mal_project.setup(editor, ontology_builder.asdict())\n",
        "mal_project.datasets.connect(dataset)\n",
        "\n",
        "li_project.setup(editor, ontology_builder.asdict())\n",
        "li_project.datasets.connect(dataset)"
      ]
    },
    {
      "cell_type": "markdown",
      "id": "8da94c48-72a5-4535-ab66-6d14b0b79aed",
      "metadata": {
        "id": "8da94c48-72a5-4535-ab66-6d14b0b79aed"
      },
      "source": [
        "### Create Label using Annotation Type Objects\n",
        "* It is recommended to use the Python SDK's annotation types for importing into Labelbox."
      ]
    },
    {
      "cell_type": "markdown",
      "id": "ee9b9191-6c0d-4cba-859b-e2e9a1b887c8",
      "metadata": {
        "id": "ee9b9191-6c0d-4cba-859b-e2e9a1b887c8"
      },
      "source": [
        "### Object Annotations"
      ]
    },
    {
      "cell_type": "code",
      "execution_count": 6,
      "id": "d468b0d0-e7d8-42d9-81fd-3db7c67d7b83",
      "metadata": {
        "id": "d468b0d0-e7d8-42d9-81fd-3db7c67d7b83"
      },
      "outputs": [],
      "source": [
        "def create_objects():\n",
        "  named_enity = TextEntity(start=10,end=20)\n",
        "  named_enity_annotation = ObjectAnnotation(value=named_enity, name=\"named_entity\")\n",
        "  return named_enity_annotation"
      ]
    },
    {
      "cell_type": "markdown",
      "id": "291f9c97-37ba-42f5-b8f0-e118bdc5c848",
      "metadata": {
        "id": "291f9c97-37ba-42f5-b8f0-e118bdc5c848"
      },
      "source": [
        "### Classification Annotations"
      ]
    },
    {
      "cell_type": "code",
      "execution_count": 7,
      "id": "e1a03976-4e50-4d10-b7ad-1a83ccc51a2a",
      "metadata": {
        "id": "e1a03976-4e50-4d10-b7ad-1a83ccc51a2a"
      },
      "outputs": [],
      "source": [
        "def create_classifications():\n",
        "  checklist = Checklist(answer=[ClassificationAnswer(name=\"first_checklist_answer\"),ClassificationAnswer(name=\"second_checklist_answer\")])\n",
        "  checklist_annotation = ClassificationAnnotation(value=checklist, name=\"checklist\")\n",
        "  radio = Radio(answer = ClassificationAnswer(name = \"second_radio_answer\"))\n",
        "  radio_annotation = ClassificationAnnotation(value=radio, name=\"radio\")\n",
        "  return checklist_annotation, radio_annotation"
      ]
    },
    {
      "cell_type": "markdown",
      "id": "15bd593b-509d-4114-af95-ae0be081c42d",
      "metadata": {
        "id": "15bd593b-509d-4114-af95-ae0be081c42d"
      },
      "source": [
        "### Create a Label object with all of our annotations"
      ]
    },
    {
      "cell_type": "code",
      "execution_count": 8,
      "id": "6d72fe25-ff7e-4e0a-94cf-095e4df73da0",
      "metadata": {
        "id": "6d72fe25-ff7e-4e0a-94cf-095e4df73da0",
        "outputId": "cad599c1-d90e-41d5-cc45-2806d536dc99",
        "colab": {
          "base_uri": "https://localhost:8080/"
        }
      },
      "outputs": [
        {
          "output_type": "execute_result",
          "data": {
            "text/plain": [
              "{'annotations': [ObjectAnnotation(name='named_entity', feature_schema_id=None, extra={}, value=TextEntity(start=10, end=20, extra={}), classifications=[]),\n",
              "  ClassificationAnnotation(name='checklist', feature_schema_id=None, extra={}, value=Checklist(name='checklist', answer=[ClassificationAnswer(name='first_checklist_answer', feature_schema_id=None, extra={}, keyframe=None), ClassificationAnswer(name='second_checklist_answer', feature_schema_id=None, extra={}, keyframe=None)])),\n",
              "  ClassificationAnnotation(name='radio', feature_schema_id=None, extra={}, value=Radio(answer=ClassificationAnswer(name='second_radio_answer', feature_schema_id=None, extra={}, keyframe=None)))],\n",
              " 'data': TextData(file_path=None,text=None,url=None),\n",
              " 'extra': {},\n",
              " 'uid': None}"
            ]
          },
          "metadata": {},
          "execution_count": 8
        }
      ],
      "source": [
        "image_data = TextData(uid=data_row.uid)\n",
        "\n",
        "named_enity_annotation = create_objects()\n",
        "checklist_annotation, radio_annotation = create_classifications()\n",
        "\n",
        "label = Label(\n",
        "    data=image_data,\n",
        "    annotations = [\n",
        "        named_enity_annotation, checklist_annotation, radio_annotation\n",
        "    ]\n",
        ")\n",
        "\n",
        "label.__dict__"
      ]
    },
    {
      "cell_type": "markdown",
      "id": "cc448767-1ded-4a02-af29-64b8b9f71d99",
      "metadata": {
        "id": "cc448767-1ded-4a02-af29-64b8b9f71d99"
      },
      "source": [
        "### Model Assisted Labeling "
      ]
    },
    {
      "cell_type": "markdown",
      "id": "90d5c6b7-0a67-481c-95a8-1791fe650767",
      "metadata": {
        "id": "90d5c6b7-0a67-481c-95a8-1791fe650767"
      },
      "source": [
        "To do model-assisted labeling, we need to convert a Label object into an NDJSON. \n",
        "\n",
        "This is easily done with using the NDJSONConverter class\n",
        "\n",
        "We will create a Label called mal_label which has the same original structure as the label above\n",
        "\n",
        "Notes:\n",
        "* Each label requires a valid feature schema id. We will assign it using our built in `assign_feature_schema_ids` method\n",
        "* the NDJsonConverter takes in a list of labels"
      ]
    },
    {
      "cell_type": "code",
      "execution_count": 9,
      "id": "53aaf87b-114f-4b56-a417-8c7cddc1f532",
      "metadata": {
        "id": "53aaf87b-114f-4b56-a417-8c7cddc1f532",
        "outputId": "ba68e13c-42f1-48f6-fe0a-33c41ccf4c74",
        "colab": {
          "base_uri": "https://localhost:8080/"
        }
      },
      "outputs": [
        {
          "output_type": "execute_result",
          "data": {
            "text/plain": [
              "[{'classifications': [],\n",
              "  'dataRow': {'id': 'cl084bkqg6x46109uhkagffci'},\n",
              "  'location': {'end': 20, 'start': 10},\n",
              "  'schemaId': 'cl084bl2k6tlw10bb6crig15b',\n",
              "  'uuid': 'bd6bbc3e-62c8-4d83-be10-f2d8b74dfb67'},\n",
              " {'answer': [{'schemaId': 'cl084bl2k6tlz10bb3o4y3x2t'},\n",
              "   {'schemaId': 'cl084bl2k6tm110bb706v94qj'}],\n",
              "  'dataRow': {'id': 'cl084bkqg6x46109uhkagffci'},\n",
              "  'schemaId': 'cl084bl2k6tly10bb5zx90mil',\n",
              "  'uuid': '921a710d-b497-47e2-adbe-a4eaa2d53771'},\n",
              " {'answer': {'schemaId': 'cl084bl2k6tm710bb5alkg5ss'},\n",
              "  'dataRow': {'id': 'cl084bkqg6x46109uhkagffci'},\n",
              "  'schemaId': 'cl084bl2k6tm410bb3y9kat3l',\n",
              "  'uuid': 'b63d0c2c-5470-4245-8fe4-3f17d68c2f83'}]"
            ]
          },
          "metadata": {},
          "execution_count": 9
        }
      ],
      "source": [
        "mal_label = Label(\n",
        "    data=image_data,\n",
        "    annotations = [\n",
        "        named_enity_annotation, checklist_annotation, radio_annotation\n",
        "    ]\n",
        ")\n",
        "\n",
        "mal_label.assign_feature_schema_ids(ontology_builder.from_project(mal_project))\n",
        "\n",
        "ndjson_labels = list(NDJsonConverter.serialize([mal_label]))\n",
        "\n",
        "ndjson_labels"
      ]
    },
    {
      "cell_type": "code",
      "execution_count": 10,
      "id": "c66672c7-33e8-4d5d-b79d-2ac76d830341",
      "metadata": {
        "id": "c66672c7-33e8-4d5d-b79d-2ac76d830341"
      },
      "outputs": [],
      "source": [
        "upload_job = MALPredictionImport.create_from_objects(\n",
        "    client = client, \n",
        "    project_id = mal_project.uid, \n",
        "    name=\"upload_label_import_job\", \n",
        "    predictions=ndjson_labels)"
      ]
    },
    {
      "cell_type": "code",
      "execution_count": 11,
      "id": "2a8f9e5f-eeeb-4cfa-9b97-a09495a64d41",
      "metadata": {
        "id": "2a8f9e5f-eeeb-4cfa-9b97-a09495a64d41",
        "outputId": "75ecd104-ec63-49ca-c29f-d873a2c3dfab",
        "colab": {
          "base_uri": "https://localhost:8080/"
        }
      },
      "outputs": [
        {
          "output_type": "stream",
          "name": "stderr",
          "text": [
            "INFO:labelbox.schema.annotation_import:Sleeping for 10 seconds...\n"
          ]
        },
        {
          "output_type": "stream",
          "name": "stdout",
          "text": [
            "Errors: []\n"
          ]
        }
      ],
      "source": [
        "# Errors will appear for each annotation that failed.\n",
        "# Empty list means that there were no errors\n",
        "# This will provide information only after the upload_job is complete, so we do not need to worry about having to rerun\n",
        "print(\"Errors:\", upload_job.errors)"
      ]
    },
    {
      "cell_type": "markdown",
      "id": "aad5c035-c908-46c9-beac-f38da1befa25",
      "metadata": {
        "id": "aad5c035-c908-46c9-beac-f38da1befa25"
      },
      "source": [
        "### Label Import"
      ]
    },
    {
      "cell_type": "markdown",
      "id": "9d4fa318-7d08-4d98-b0ff-e2086814d75d",
      "metadata": {
        "id": "9d4fa318-7d08-4d98-b0ff-e2086814d75d"
      },
      "source": [
        "Label import is very similar to model-assisted labeling. We will need to re-assign the feature schema before continuing, \n",
        "but we can continue to use our NDJSonConverter\n",
        "\n",
        "We will create a Label called li_label which has the same original structure as the label above"
      ]
    },
    {
      "cell_type": "code",
      "execution_count": 12,
      "id": "e8d4e99b-ad7e-48b9-8073-afb764d7c5b4",
      "metadata": {
        "id": "e8d4e99b-ad7e-48b9-8073-afb764d7c5b4",
        "outputId": "8dd839f9-5485-4b74-cddc-c9a98fbc60f7",
        "colab": {
          "base_uri": "https://localhost:8080/"
        }
      },
      "outputs": [
        {
          "output_type": "execute_result",
          "data": {
            "text/plain": [
              "([{'classifications': [],\n",
              "   'dataRow': {'id': 'cl084bkqg6x46109uhkagffci'},\n",
              "   'location': {'end': 20, 'start': 10},\n",
              "   'schemaId': 'cl084bljq4osi10851hcq060h',\n",
              "   'uuid': '2386230e-9886-43da-8cf7-fde6eb8c9ede'},\n",
              "  {'answer': [{'schemaId': 'cl084bljq4osl10851vprdw54'},\n",
              "    {'schemaId': 'cl084bljq4osn1085a7628w67'}],\n",
              "   'dataRow': {'id': 'cl084bkqg6x46109uhkagffci'},\n",
              "   'schemaId': 'cl084bljq4osk1085fztf1ty1',\n",
              "   'uuid': 'e6589d65-be72-4937-8835-99272ebacda0'},\n",
              "  {'answer': {'schemaId': 'cl084bljq4ost1085dyy85pkj'},\n",
              "   'dataRow': {'id': 'cl084bkqg6x46109uhkagffci'},\n",
              "   'schemaId': 'cl084bljq4osq1085dln78tju',\n",
              "   'uuid': 'f674a983-83f8-444c-bd7c-72b4f84b8c22'}],\n",
              " {'classifications': [{'archived': 0,\n",
              "    'featureSchemaId': 'cl084bljq4osk1085fztf1ty1',\n",
              "    'instructions': 'checklist',\n",
              "    'name': 'checklist',\n",
              "    'options': [{'featureSchemaId': 'cl084bljq4osl10851vprdw54',\n",
              "      'label': 'first_checklist_answer',\n",
              "      'schemaNodeId': 'cl084bljq4osm1085cygq839a',\n",
              "      'value': 'first_checklist_answer'},\n",
              "     {'featureSchemaId': 'cl084bljq4osn1085a7628w67',\n",
              "      'label': 'second_checklist_answer',\n",
              "      'schemaNodeId': 'cl084bljq4oso10859f21h3h9',\n",
              "      'value': 'second_checklist_answer'}],\n",
              "    'required': False,\n",
              "    'schemaNodeId': 'cl084bljq4osp1085a0gqaf3r',\n",
              "    'type': 'checklist'},\n",
              "   {'archived': 0,\n",
              "    'featureSchemaId': 'cl084bljq4osq1085dln78tju',\n",
              "    'instructions': 'radio',\n",
              "    'name': 'radio',\n",
              "    'options': [{'featureSchemaId': 'cl084bljq4osr1085fkqqdpgs',\n",
              "      'label': 'first_radio_answer',\n",
              "      'schemaNodeId': 'cl084bljq4oss10859ez0406o',\n",
              "      'value': 'first_radio_answer'},\n",
              "     {'featureSchemaId': 'cl084bljq4ost1085dyy85pkj',\n",
              "      'label': 'second_radio_answer',\n",
              "      'schemaNodeId': 'cl084bljq4osu10851mi2c9ok',\n",
              "      'value': 'second_radio_answer'}],\n",
              "    'required': False,\n",
              "    'schemaNodeId': 'cl084bljq4osv1085cbt50pil',\n",
              "    'type': 'radio'}],\n",
              "  'relationships': [],\n",
              "  'tools': [{'archived': 0,\n",
              "    'classifications': [],\n",
              "    'color': '#ff0000',\n",
              "    'featureSchemaId': 'cl084bljq4osi10851hcq060h',\n",
              "    'name': 'named_entity',\n",
              "    'required': False,\n",
              "    'schemaNodeId': 'cl084bljq4osj10854fabammx',\n",
              "    'tool': 'named-entity'}]})"
            ]
          },
          "metadata": {},
          "execution_count": 12
        }
      ],
      "source": [
        "#for the purpose of this notebook, we will need to reset the schema ids of our checklist and radio answers\n",
        "image_data = TextData(uid=data_row.uid)\n",
        "\n",
        "named_enity_annotation = create_objects()\n",
        "checklist_annotation, radio_annotation = create_classifications()\n",
        "\n",
        "li_label = Label(\n",
        "    data=image_data,\n",
        "    annotations = [\n",
        "        named_enity_annotation, checklist_annotation, radio_annotation\n",
        "    ]\n",
        ")\n",
        "\n",
        "li_label.assign_feature_schema_ids(ontology_builder.from_project(li_project))\n",
        "\n",
        "ndjson_labels = list(NDJsonConverter.serialize([li_label]))\n",
        "\n",
        "ndjson_labels, li_project.ontology().normalized"
      ]
    },
    {
      "cell_type": "code",
      "execution_count": 13,
      "id": "e937ea0a-8beb-4dbc-974b-0316f0b980a5",
      "metadata": {
        "id": "e937ea0a-8beb-4dbc-974b-0316f0b980a5"
      },
      "outputs": [],
      "source": [
        "upload_job = LabelImport.create_from_objects(\n",
        "    client = client, \n",
        "    project_id = li_project.uid, \n",
        "    name=\"upload_label_import_job\", \n",
        "    labels=ndjson_labels)"
      ]
    },
    {
      "cell_type": "code",
      "execution_count": 14,
      "id": "3669b646-2d41-4c98-9e5b-f8ef3ce82f35",
      "metadata": {
        "id": "3669b646-2d41-4c98-9e5b-f8ef3ce82f35",
        "outputId": "cdff6dfb-c55f-4af6-882f-f477d66966b9",
        "colab": {
          "base_uri": "https://localhost:8080/"
        }
      },
      "outputs": [
        {
          "output_type": "stream",
          "name": "stderr",
          "text": [
            "INFO:labelbox.schema.annotation_import:Sleeping for 10 seconds...\n"
          ]
        },
        {
          "output_type": "stream",
          "name": "stdout",
          "text": [
            "Errors: []\n"
          ]
        }
      ],
      "source": [
        "print(\"Errors:\", upload_job.errors)"
      ]
    }
  ],
  "metadata": {
    "kernelspec": {
      "display_name": "Python 3",
      "language": "python",
      "name": "python3"
    },
    "language_info": {
      "codemirror_mode": {
        "name": "ipython",
        "version": 3
      },
      "file_extension": ".py",
      "mimetype": "text/x-python",
      "name": "python",
      "nbconvert_exporter": "python",
      "pygments_lexer": "ipython3",
      "version": "3.8.8"
    },
    "colab": {
      "name": "text_mal.ipynb",
      "provenance": [],
      "collapsed_sections": []
    }
  },
  "nbformat": 4,
  "nbformat_minor": 5
}