{
 "cells": [
  {
   "cell_type": "markdown",
   "id": "immediate-characteristic",
   "metadata": {},
   "source": [
    "# Debugging MAL\n",
    "* When MAL Uploads aren't working you can follow some of the steps in this guide"
   ]
  },
  {
   "cell_type": "markdown",
   "id": "continental-remedy",
   "metadata": {},
   "source": [
    "#### 1: Make sure that model assisted labeling is turned on for your project.\n",
    "    * You can do that from the web ui or with the following code:\n",
    "``` project.enable_model_assisted_labeling()```"
   ]
  },
  {
   "cell_type": "markdown",
   "id": "formal-weight",
   "metadata": {},
   "source": [
    "#### 2: Make sure your import objects or import file matches the following structure:\n",
    "    * https://docs.labelbox.com/data-model/en/index-en#annotations"
   ]
  },
  {
   "cell_type": "markdown",
   "id": "secret-sport",
   "metadata": {},
   "source": [
    "#### 3: Make sure your import objects or import file matches the following:\n",
    "    * Make sure validate is set to true (it is by default) on your upload (Make sure you are using sdk version > 2.5.1)\n",
    "\n",
    "    "
   ]
  },
  {
   "cell_type": "markdown",
   "id": "third-catholic",
   "metadata": {},
   "source": [
    "#### Reading validation Errors:\n",
    "* We get an mal validation error:\n",
    "* ```MALValidationError: Invalid NDJson on line 0('Invalid NDJson on line 0', None)```\n",
    "* This means that line 0 (the first example), was invalid.\n",
    "---\n",
    "* We can see why it was invalid up above the MALValidationError. \n",
    "* The origianal error was a ValuError because we are attempting to attach an example to a data row that is not in the project\n",
    "--- \n",
    "* Errors will be thrown for incorrect or missing keys\n",
    "* invalid datarow or schema ids\n",
    "* invalid data types\n"
   ]
  },
  {
   "cell_type": "code",
   "execution_count": 1,
   "id": "dimensional-celebrity",
   "metadata": {},
   "outputs": [],
   "source": [
    "!pip install labelbox\n",
    "!pip install ndjson\n",
    "!pip install requests"
   ]
  },
  {
   "cell_type": "code",
   "execution_count": 2,
   "id": "american-confusion",
   "metadata": {},
   "outputs": [],
   "source": [
    "# Note that the following code (_validate_ndjson) is run when you perform bulk uploads.\n",
    "# You don't need to use it directly. This section will show you how to read the error\n",
    "from labelbox.schema.bulk_import_request import _validate_ndjson\n",
    "from labelbox.schema.ontology import OntologyBuilder, Tool\n",
    "from labelbox import Client, LabelingFrontend\n",
    "import ndjson\n",
    "import requests\n",
    "import uuid\n",
    "from getpass import getpass\n",
    "import os"
   ]
  },
  {
   "cell_type": "code",
   "execution_count": 3,
   "id": "entire-mechanics",
   "metadata": {},
   "outputs": [],
   "source": [
    "# If you don't want to give google access to drive you can skip this cell\n",
    "# and manually set `API_KEY` below.\n",
    "\n",
    "COLAB = \"google.colab\" in str(get_ipython())\n",
    "if COLAB:\n",
    "    !pip install colab-env -qU\n",
    "    from colab_env import envvar_handler\n",
    "    envvar_handler.envload()\n",
    "\n",
    "API_KEY = os.environ.get(\"LABELBOX_API_KEY\")\n",
    "if not os.environ.get(\"LABELBOX_API_KEY\"):\n",
    "    API_KEY = getpass(\"Please enter your labelbox api key\")\n",
    "    if COLAB:\n",
    "        envvar_handler.add_env(\"LABELBOX_API_KEY\", API_KEY)"
   ]
  },
  {
   "cell_type": "code",
   "execution_count": 4,
   "id": "indoor-pharmacy",
   "metadata": {},
   "outputs": [],
   "source": [
    "# Only update this if you have an on-prem deployment\n",
    "ENDPOINT = \"https://api.labelbox.com/graphql\""
   ]
  },
  {
   "cell_type": "code",
   "execution_count": 5,
   "id": "healthy-perry",
   "metadata": {},
   "outputs": [],
   "source": [
    "client = Client(api_key=API_KEY, endpoint=ENDPOINT)"
   ]
  },
  {
   "cell_type": "code",
   "execution_count": 6,
   "id": "instrumental-ontario",
   "metadata": {},
   "outputs": [],
   "source": [
    "ontology_builder = OntologyBuilder(tools=[\n",
    "    Tool(tool=Tool.Type.POLYGON, name=\"person\"),\n",
    "])"
   ]
  },
  {
   "cell_type": "code",
   "execution_count": 7,
   "id": "particular-blocking",
   "metadata": {},
   "outputs": [],
   "source": [
    "project = client.create_project(name=\"debugging_mal_project\")\n",
    "dataset = client.create_dataset(name=\"debugging_mal_dataset\")\n",
    "test_img_url = \"https://raw.githubusercontent.com/Labelbox/labelbox-python/develop/examples/assets/2560px-Kitano_Street_Kobe01s5s4110.jpg\"\n",
    "data_row = dataset.create_data_row(row_data=test_img_url)\n",
    "editor = next(\n",
    "    client.get_labeling_frontends(where=LabelingFrontend.name == 'editor'))\n",
    "project.setup(editor, ontology_builder.asdict())\n",
    "project.datasets.connect(dataset)\n",
    "ontology = ontology_builder.from_project(project)"
   ]
  },
  {
   "cell_type": "code",
   "execution_count": 8,
   "id": "cross-assumption",
   "metadata": {},
   "outputs": [],
   "source": [
    "poly_example = {\n",
    "    \"uuid\":\n",
    "        \"1b5762e9-416c-44cf-9a5f-07effb51f863\",\n",
    "    \"schemaId\":\n",
    "        ontology.tools[0].feature_schema_id,\n",
    "    \"dataRow\": {\n",
    "        \"id\":\n",
    "            \"cjxav4aa07r1g0dsq70t9eveg\"  #Invalid (not attached to this project) data_row.uid\n",
    "    },\n",
    "    \"polygon\": [{\n",
    "        \"x\": 2,\n",
    "        \"y\": 99\n",
    "    }, {\n",
    "        \"x\": 93,\n",
    "        \"y\": 5\n",
    "    }, {\n",
    "        \"x\": 51,\n",
    "        \"y\": 106\n",
    "    }, {\n",
    "        \"x\": 176,\n",
    "        \"y\": 142\n",
    "    }]\n",
    "}"
   ]
  },
  {
   "cell_type": "code",
   "execution_count": 9,
   "id": "monetary-catalyst",
   "metadata": {},
   "outputs": [
    {
     "data": {
      "text/plain": [
       "'ckmunvlqt4w9u0y625l7cd7zq'"
      ]
     },
     "execution_count": 8,
     "metadata": {},
     "output_type": "execute_result"
    }
   ],
   "source": [
    "list(list(project.datasets())[0].data_rows())[0].uid"
   ]
  },
  {
   "cell_type": "code",
   "execution_count": 10,
   "id": "designing-cricket",
   "metadata": {},
   "outputs": [
    {
     "ename": "MALValidationError",
     "evalue": "Invalid NDJson on line 0('Invalid NDJson on line 0', None)",
     "output_type": "error",
     "traceback": [
      "\u001b[0;31m---------------------------------------------------------------------------\u001b[0m",
      "\u001b[0;31mValueError\u001b[0m                                Traceback (most recent call last)",
      "\u001b[0;32m~/Library/Python/3.8/lib/python/site-packages/labelbox/schema/bulk_import_request.py\u001b[0m in \u001b[0;36m_validate_ndjson\u001b[0;34m(lines, project)\u001b[0m\n\u001b[1;32m    401\u001b[0m             \u001b[0mannotation\u001b[0m \u001b[0;34m=\u001b[0m \u001b[0mNDAnnotation\u001b[0m\u001b[0;34m(\u001b[0m\u001b[0;34m**\u001b[0m\u001b[0mline\u001b[0m\u001b[0;34m)\u001b[0m\u001b[0;34m\u001b[0m\u001b[0;34m\u001b[0m\u001b[0m\n\u001b[0;32m--> 402\u001b[0;31m             \u001b[0mannotation\u001b[0m\u001b[0;34m.\u001b[0m\u001b[0mvalidate_instance\u001b[0m\u001b[0;34m(\u001b[0m\u001b[0mdata_row_ids\u001b[0m\u001b[0;34m,\u001b[0m \u001b[0mfeature_schemas\u001b[0m\u001b[0;34m)\u001b[0m\u001b[0;34m\u001b[0m\u001b[0;34m\u001b[0m\u001b[0m\n\u001b[0m\u001b[1;32m    403\u001b[0m             \u001b[0muuid\u001b[0m \u001b[0;34m=\u001b[0m \u001b[0mstr\u001b[0m\u001b[0;34m(\u001b[0m\u001b[0mannotation\u001b[0m\u001b[0;34m.\u001b[0m\u001b[0muuid\u001b[0m\u001b[0;34m)\u001b[0m\u001b[0;34m\u001b[0m\u001b[0;34m\u001b[0m\u001b[0m\n",
      "\u001b[0;32m~/Library/Python/3.8/lib/python/site-packages/labelbox/schema/bulk_import_request.py\u001b[0m in \u001b[0;36mvalidate_instance\u001b[0;34m(self, valid_datarows, valid_feature_schemas)\u001b[0m\n\u001b[1;32m    600\u001b[0m         \u001b[0mself\u001b[0m\u001b[0;34m.\u001b[0m\u001b[0mvalidate_feature_schemas\u001b[0m\u001b[0;34m(\u001b[0m\u001b[0mvalid_feature_schemas\u001b[0m\u001b[0;34m)\u001b[0m\u001b[0;34m\u001b[0m\u001b[0;34m\u001b[0m\u001b[0m\n\u001b[0;32m--> 601\u001b[0;31m         \u001b[0mself\u001b[0m\u001b[0;34m.\u001b[0m\u001b[0mvalidate_datarow\u001b[0m\u001b[0;34m(\u001b[0m\u001b[0mvalid_datarows\u001b[0m\u001b[0;34m)\u001b[0m\u001b[0;34m\u001b[0m\u001b[0;34m\u001b[0m\u001b[0m\n\u001b[0m\u001b[1;32m    602\u001b[0m \u001b[0;34m\u001b[0m\u001b[0m\n",
      "\u001b[0;32m~/Library/Python/3.8/lib/python/site-packages/labelbox/schema/bulk_import_request.py\u001b[0m in \u001b[0;36mvalidate_datarow\u001b[0;34m(self, valid_datarows)\u001b[0m\n\u001b[1;32m    583\u001b[0m         \u001b[0;32mif\u001b[0m \u001b[0mself\u001b[0m\u001b[0;34m.\u001b[0m\u001b[0mdataRow\u001b[0m\u001b[0;34m.\u001b[0m\u001b[0mid\u001b[0m \u001b[0;32mnot\u001b[0m \u001b[0;32min\u001b[0m \u001b[0mvalid_datarows\u001b[0m\u001b[0;34m:\u001b[0m\u001b[0;34m\u001b[0m\u001b[0;34m\u001b[0m\u001b[0m\n\u001b[0;32m--> 584\u001b[0;31m             raise ValueError(\n\u001b[0m\u001b[1;32m    585\u001b[0m                 \u001b[0;34mf\"datarow {self.dataRow.id} is not attached to the specified project\"\u001b[0m\u001b[0;34m\u001b[0m\u001b[0;34m\u001b[0m\u001b[0m\n",
      "\u001b[0;31mValueError\u001b[0m: datarow cjxav4aa07r1g0dsq70t9eveg is not attached to the specified project",
      "\nThe above exception was the direct cause of the following exception:\n",
      "\u001b[0;31mMALValidationError\u001b[0m                        Traceback (most recent call last)",
      "\u001b[0;32m<ipython-input-9-9b20d211103c>\u001b[0m in \u001b[0;36m<module>\u001b[0;34m\u001b[0m\n\u001b[0;32m----> 1\u001b[0;31m \u001b[0m_validate_ndjson\u001b[0m\u001b[0;34m(\u001b[0m\u001b[0;34m[\u001b[0m\u001b[0mpoly_example\u001b[0m\u001b[0;34m]\u001b[0m\u001b[0;34m,\u001b[0m \u001b[0mproject\u001b[0m\u001b[0;34m)\u001b[0m\u001b[0;34m\u001b[0m\u001b[0;34m\u001b[0m\u001b[0m\n\u001b[0m",
      "\u001b[0;32m~/Library/Python/3.8/lib/python/site-packages/labelbox/schema/bulk_import_request.py\u001b[0m in \u001b[0;36m_validate_ndjson\u001b[0;34m(lines, project)\u001b[0m\n\u001b[1;32m    408\u001b[0m             \u001b[0muids\u001b[0m\u001b[0;34m.\u001b[0m\u001b[0madd\u001b[0m\u001b[0;34m(\u001b[0m\u001b[0muuid\u001b[0m\u001b[0;34m)\u001b[0m\u001b[0;34m\u001b[0m\u001b[0;34m\u001b[0m\u001b[0m\n\u001b[1;32m    409\u001b[0m         \u001b[0;32mexcept\u001b[0m \u001b[0;34m(\u001b[0m\u001b[0mpydantic\u001b[0m\u001b[0;34m.\u001b[0m\u001b[0mValidationError\u001b[0m\u001b[0;34m,\u001b[0m \u001b[0mValueError\u001b[0m\u001b[0;34m,\u001b[0m \u001b[0mTypeError\u001b[0m\u001b[0;34m,\u001b[0m \u001b[0mKeyError\u001b[0m\u001b[0;34m)\u001b[0m \u001b[0;32mas\u001b[0m \u001b[0me\u001b[0m\u001b[0;34m:\u001b[0m\u001b[0;34m\u001b[0m\u001b[0;34m\u001b[0m\u001b[0m\n\u001b[0;32m--> 410\u001b[0;31m             raise labelbox.exceptions.MALValidationError(\n\u001b[0m\u001b[1;32m    411\u001b[0m                 f\"Invalid NDJson on line {idx}\") from e\n\u001b[1;32m    412\u001b[0m \u001b[0;34m\u001b[0m\u001b[0m\n",
      "\u001b[0;31mMALValidationError\u001b[0m: Invalid NDJson on line 0('Invalid NDJson on line 0', None)"
     ]
    }
   ],
   "source": [
    "_validate_ndjson([poly_example], project)"
   ]
  },
  {
   "cell_type": "markdown",
   "id": "animated-potter",
   "metadata": {},
   "source": [
    "#### Reading MAL Errors\n",
    "* If your upload passes client side validation checks, there is still a chance of server side failures.\n",
    "* There are two urls for checking the status of your upload\n",
    "    * bulk_import_request.status_file_url\n",
    "    * bulk_import_request.error_file_url"
   ]
  },
  {
   "cell_type": "code",
   "execution_count": 11,
   "id": "thick-juvenile",
   "metadata": {},
   "outputs": [],
   "source": [
    "invalid_example = poly_example.copy()\n",
    "invalid_example[\"polygon\"] = [{\"x\": 2, \"y\": 99}]\n",
    "\n",
    "# Old way:\n",
    "name = str(uuid.uuid4())\n",
    "bulk_import_request = project.upload_annotations(\n",
    "    name=name,\n",
    "    annotations=[poly_example, invalid_example],\n",
    "    validate=False  # Turn this off or it will raise the error on the client side\n",
    ")\n",
    "bulk_import_request.wait_until_done()"
   ]
  },
  {
   "cell_type": "code",
   "execution_count": 12,
   "id": "stock-correction",
   "metadata": {},
   "outputs": [
    {
     "name": "stdout",
     "output_type": "stream",
     "text": [
      "{'uuid': '1b5762e9-416c-44cf-9a5f-07effb51f863', 'dataRow': {'id': 'cjxav4aa07r1g0dsq70t9eveg'}, 'status': 'FAILURE', 'errors': [{'name': 'DataRowNotFound', 'message': 'dataRow.id cjxav4aa07r1g0dsq70t9eveg invalid', 'additionalInfo': None}]}\n",
      "{'uuid': '1b5762e9-416c-44cf-9a5f-07effb51f863', 'dataRow': {'id': 'cjxav4aa07r1g0dsq70t9eveg'}, 'status': 'FAILURE', 'errors': [{'name': 'DataRowNotFound', 'message': 'dataRow.id cjxav4aa07r1g0dsq70t9eveg invalid', 'additionalInfo': None}, {'name': 'GeometryInvalid', 'message': 'Invalid geometry: Each linear ring must contain at least 4 positions', 'additionalInfo': None}]}\n"
     ]
    }
   ],
   "source": [
    "# Let's check the status:\n",
    "for status in bulk_import_request.statuses:\n",
    "    print(status)\n",
    "\n",
    "for error in bulk_import_request.errors:\n",
    "    print(error)"
   ]
  },
  {
   "cell_type": "code",
   "execution_count": 13,
   "id": "square-david",
   "metadata": {},
   "outputs": [],
   "source": [
    "# We can see that we are using invalid datarows (they don't belong to the project we are uploading to)\n",
    "# and that the geometry is invalid."
   ]
  },
  {
   "cell_type": "code",
   "execution_count": 14,
   "id": "clean-grave",
   "metadata": {},
   "outputs": [],
   "source": []
  }
 ],
 "metadata": {
  "kernelspec": {
   "display_name": "Python 3",
   "language": "python",
   "name": "python3"
  },
  "language_info": {
   "codemirror_mode": {
    "name": "ipython",
    "version": 3
   },
   "file_extension": ".py",
   "mimetype": "text/x-python",
   "name": "python",
   "nbconvert_exporter": "python",
   "pygments_lexer": "ipython3",
   "version": "3.8.8"
  }
 },
 "nbformat": 4,
 "nbformat_minor": 5
}
