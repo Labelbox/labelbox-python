{
    "cells": [
        {
            "cell_type": "markdown",
            "id": "db768cda",
            "metadata": {},
            "source": [
                "<td>\n",
                "   <a target=\"_blank\" href=\"https://labelbox.com\" ><img src=\"https://labelbox.com/blog/content/images/2021/02/logo-v4.svg\" width=256/></a>\n",
                "</td>"
            ]
        },
        {
            "cell_type": "markdown",
            "id": "cb5611d0",
            "metadata": {},
            "source": [
                "<td>\n",
                "<a href=\"https://colab.research.google.com/github/Labelbox/labelbox-python/blob/develop/examples/model_assisted_labeling/debugging_mal.ipynb\" target=\"_blank\"><img\n",
                "src=\"https://colab.research.google.com/assets/colab-badge.svg\" alt=\"Open In Colab\"></a>\n",
                "</td>\n",
                "\n",
                "<td>\n",
                "<a href=\"https://github.com/Labelbox/labelbox-python/tree/develop/examples/model_assisted_labeling/debugging_mal.ipynb\" target=\"_blank\"><img\n",
                "src=\"https://img.shields.io/badge/GitHub-100000?logo=github&logoColor=white\" alt=\"GitHub\"></a>\n",
                "</td>"
            ]
        },
        {
            "cell_type": "markdown",
            "id": "immediate-characteristic",
            "metadata": {},
            "source": [
                "# Debugging MAL\n",
                "* When MAL Uploads aren't working you can follow some of the steps in this guide"
            ]
        },
        {
            "cell_type": "markdown",
            "id": "continental-remedy",
            "metadata": {},
            "source": [
                "#### 1: Make sure that model assisted labeling is turned on for your project.\n",
                "    * This is the default, but can be manually turned on as well.\n",
                "    * You can do that from the web ui or with the following code:\n",
                "``` project.enable_model_assisted_labeling()```"
            ]
        },
        {
            "cell_type": "markdown",
            "id": "formal-weight",
            "metadata": {},
            "source": [
                "#### 2: Make sure your import objects or import file matches the following structure:\n",
                "    * https://docs.labelbox.com/data-model/en/index-en#annotations"
            ]
        },
        {
            "cell_type": "markdown",
            "id": "secret-sport",
            "metadata": {},
            "source": [
                "#### 3: Make sure your import objects or import file matches the following:\n",
                "    * Make sure validate is set to true (it is by default) on your upload (Make sure you are using sdk version > 2.5.1)\n",
                "\n",
                "    "
            ]
        },
        {
            "cell_type": "markdown",
            "id": "third-catholic",
            "metadata": {},
            "source": [
                "#### Reading validation Errors:\n",
                "* We get an mal validation error:\n",
                "* ```MALValidationError: Invalid NDJson on line 0('Invalid NDJson on line 0', None)```\n",
                "* This means that line 0 (the first example), was invalid.\n",
                "---\n",
                "* We can see why it was invalid up above the MALValidationError. \n",
                "* The origianal error was a ValuError because we are attempting to attach an example to a data row that is not in the project\n",
                "--- \n",
                "* Errors will be thrown for incorrect or missing keys\n",
                "* invalid datarow or schema ids\n",
                "* invalid data types\n"
            ]
        },
        {
            "cell_type": "code",
            "execution_count": 1,
            "id": "dimensional-celebrity",
            "metadata": {},
            "outputs": [],
            "source": [
                "!pip install labelbox"
            ]
        },
        {
            "cell_type": "code",
            "execution_count": 2,
            "id": "american-confusion",
            "metadata": {},
            "outputs": [],
            "source": [
                "# Note that the following code (_validate_ndjson) is run when you perform bulk uploads.\n",
                "# You don't need to use it directly. This section will show you how to read the error\n",
                "from labelbox.schema.bulk_import_request import _validate_ndjson\n",
                "from labelbox.schema.ontology import OntologyBuilder, Tool\n",
                "from labelbox import Client, LabelingFrontend\n",
                "import uuid\n",
                "import os"
            ]
        },
        {
            "cell_type": "markdown",
            "id": "2b51b21d",
            "metadata": {},
            "source": [
                "# API Key and Client\n",
                "Provide a valid api key below in order to properly connect to the Labelbox Client."
            ]
        },
        {
            "cell_type": "code",
            "execution_count": 5,
            "id": "healthy-perry",
            "metadata": {},
            "outputs": [],
            "source": [
                "# Add your api key\n",
                "API_KEY = None\n",
                "client = Client(api_key=API_KEY)"
            ]
        },
        {
            "cell_type": "code",
            "execution_count": 6,
            "id": "instrumental-ontario",
            "metadata": {},
            "outputs": [],
            "source": [
                "ontology_builder = OntologyBuilder(tools=[\n",
                "    Tool(tool=Tool.Type.POLYGON, name=\"person\"),\n",
                "])"
            ]
        },
        {
            "cell_type": "code",
            "execution_count": 7,
            "id": "particular-blocking",
            "metadata": {},
            "outputs": [],
            "source": [
                "project = client.create_project(name=\"debugging_mal_project\")\n",
                "dataset = client.create_dataset(name=\"debugging_mal_dataset\")\n",
                "test_img_url = \"https://raw.githubusercontent.com/Labelbox/labelbox-python/develop/examples/assets/2560px-Kitano_Street_Kobe01s5s4110.jpg\"\n",
                "data_row = dataset.create_data_row(row_data=test_img_url)\n",
                "editor = next(\n",
                "    client.get_labeling_frontends(where=LabelingFrontend.name == 'editor'))\n",
                "project.setup(editor, ontology_builder.asdict())\n",
                "project.datasets.connect(dataset)\n",
                "ontology = ontology_builder.from_project(project)"
            ]
        },
        {
            "cell_type": "code",
            "execution_count": 8,
            "id": "5147f018-daac-4f7e-8e71-f32587604515",
            "metadata": {},
            "outputs": [
                {
                    "data": {
                        "text/plain": [
                            "'cky4mzhmknvos0zcwexjj9nc0'"
                        ]
                    },
                    "execution_count": 26,
                    "metadata": {},
                    "output_type": "execute_result"
                }
            ],
            "source": [
                "list(list(project.datasets())[0].data_rows())[0].uid"
            ]
        },
        {
            "cell_type": "code",
            "execution_count": 9,
            "id": "cross-assumption",
            "metadata": {},
            "outputs": [],
            "source": [
                "poly_example = {\n",
                "    \"uuid\":\n",
                "        \"1b5762e9-416c-44cf-9a5f-07effb51f863\",\n",
                "    \"schemaId\":  #         ontology.tools[0].feature_schema_id,\n",
                "        list(list(project.datasets())[0].data_rows())[0].uid,\n",
                "    \"dataRow\": {\n",
                "        \"id\":\n",
                "            \"cky4mzhmknvos0zcwexjj9nc0\"  #Invalid (not attached to this project) data_row.uid\n",
                "    },\n",
                "    \"polygon\": [{\n",
                "        \"x\": 2,\n",
                "        \"y\": 99\n",
                "    }, {\n",
                "        \"x\": 93,\n",
                "        \"y\": 5\n",
                "    }, {\n",
                "        \"x\": 51,\n",
                "        \"y\": 106\n",
                "    }, {\n",
                "        \"x\": 176,\n",
                "        \"y\": 142\n",
                "    }]\n",
                "}"
            ]
        },
        {
            "cell_type": "code",
            "execution_count": 10,
            "id": "52d24602-b12d-468a-a44a-e0a1ba69c3fd",
            "metadata": {},
            "outputs": [
                {
                    "ename": "MALValidationError",
                    "evalue": "Invalid NDJson on line 0('Invalid NDJson on line 0', None)",
                    "output_type": "error",
                    "traceback": [
                        "\u001b[0;31m---------------------------------------------------------------------------\u001b[0m",
                        "\u001b[0;31mValueError\u001b[0m                                Traceback (most recent call last)",
                        "\u001b[0;32m~/opt/anaconda3/lib/python3.8/site-packages/labelbox/schema/bulk_import_request.py\u001b[0m in \u001b[0;36m_validate_ndjson\u001b[0;34m(lines, project)\u001b[0m\n\u001b[1;32m    428\u001b[0m             \u001b[0mannotation\u001b[0m \u001b[0;34m=\u001b[0m \u001b[0mNDAnnotation\u001b[0m\u001b[0;34m(\u001b[0m\u001b[0;34m**\u001b[0m\u001b[0mline\u001b[0m\u001b[0;34m)\u001b[0m\u001b[0;34m\u001b[0m\u001b[0;34m\u001b[0m\u001b[0m\n\u001b[0;32m--> 429\u001b[0;31m             \u001b[0mannotation\u001b[0m\u001b[0;34m.\u001b[0m\u001b[0mvalidate_instance\u001b[0m\u001b[0;34m(\u001b[0m\u001b[0mfeature_schemas\u001b[0m\u001b[0;34m)\u001b[0m\u001b[0;34m\u001b[0m\u001b[0;34m\u001b[0m\u001b[0m\n\u001b[0m\u001b[1;32m    430\u001b[0m             \u001b[0muuid\u001b[0m \u001b[0;34m=\u001b[0m \u001b[0mstr\u001b[0m\u001b[0;34m(\u001b[0m\u001b[0mannotation\u001b[0m\u001b[0;34m.\u001b[0m\u001b[0muuid\u001b[0m\u001b[0;34m)\u001b[0m\u001b[0;34m\u001b[0m\u001b[0;34m\u001b[0m\u001b[0m\n",
                        "\u001b[0;32m~/opt/anaconda3/lib/python3.8/site-packages/labelbox/schema/bulk_import_request.py\u001b[0m in \u001b[0;36mvalidate_instance\u001b[0;34m(self, valid_feature_schemas)\u001b[0m\n\u001b[1;32m    620\u001b[0m     \u001b[0;32mdef\u001b[0m \u001b[0mvalidate_instance\u001b[0m\u001b[0;34m(\u001b[0m\u001b[0mself\u001b[0m\u001b[0;34m,\u001b[0m \u001b[0mvalid_feature_schemas\u001b[0m\u001b[0;34m)\u001b[0m\u001b[0;34m:\u001b[0m\u001b[0;34m\u001b[0m\u001b[0;34m\u001b[0m\u001b[0m\n\u001b[0;32m--> 621\u001b[0;31m         \u001b[0mself\u001b[0m\u001b[0;34m.\u001b[0m\u001b[0mvalidate_feature_schemas\u001b[0m\u001b[0;34m(\u001b[0m\u001b[0mvalid_feature_schemas\u001b[0m\u001b[0;34m)\u001b[0m\u001b[0;34m\u001b[0m\u001b[0;34m\u001b[0m\u001b[0m\n\u001b[0m\u001b[1;32m    622\u001b[0m \u001b[0;34m\u001b[0m\u001b[0m\n",
                        "\u001b[0;32m~/opt/anaconda3/lib/python3.8/site-packages/labelbox/schema/bulk_import_request.py\u001b[0m in \u001b[0;36mvalidate_feature_schemas\u001b[0;34m(self, valid_feature_schemas)\u001b[0m\n\u001b[1;32m    700\u001b[0m     \u001b[0;32mdef\u001b[0m \u001b[0mvalidate_feature_schemas\u001b[0m\u001b[0;34m(\u001b[0m\u001b[0mself\u001b[0m\u001b[0;34m,\u001b[0m \u001b[0mvalid_feature_schemas\u001b[0m\u001b[0;34m)\u001b[0m\u001b[0;34m:\u001b[0m\u001b[0;34m\u001b[0m\u001b[0;34m\u001b[0m\u001b[0m\n\u001b[0;32m--> 701\u001b[0;31m         \u001b[0msuper\u001b[0m\u001b[0;34m(\u001b[0m\u001b[0mNDBaseTool\u001b[0m\u001b[0;34m,\u001b[0m \u001b[0mself\u001b[0m\u001b[0;34m)\u001b[0m\u001b[0;34m.\u001b[0m\u001b[0mvalidate_feature_schemas\u001b[0m\u001b[0;34m(\u001b[0m\u001b[0mvalid_feature_schemas\u001b[0m\u001b[0;34m)\u001b[0m\u001b[0;34m\u001b[0m\u001b[0;34m\u001b[0m\u001b[0m\n\u001b[0m\u001b[1;32m    702\u001b[0m         \u001b[0;32mfor\u001b[0m \u001b[0mclassification\u001b[0m \u001b[0;32min\u001b[0m \u001b[0mself\u001b[0m\u001b[0;34m.\u001b[0m\u001b[0mclassifications\u001b[0m\u001b[0;34m:\u001b[0m\u001b[0;34m\u001b[0m\u001b[0;34m\u001b[0m\u001b[0m\n",
                        "\u001b[0;32m~/opt/anaconda3/lib/python3.8/site-packages/labelbox/schema/bulk_import_request.py\u001b[0m in \u001b[0;36mvalidate_feature_schemas\u001b[0;34m(self, valid_feature_schemas)\u001b[0m\n\u001b[1;32m    610\u001b[0m         \u001b[0;32mif\u001b[0m \u001b[0mself\u001b[0m\u001b[0;34m.\u001b[0m\u001b[0mschemaId\u001b[0m \u001b[0;32mnot\u001b[0m \u001b[0;32min\u001b[0m \u001b[0mvalid_feature_schemas\u001b[0m\u001b[0;34m:\u001b[0m\u001b[0;34m\u001b[0m\u001b[0;34m\u001b[0m\u001b[0m\n\u001b[0;32m--> 611\u001b[0;31m             raise ValueError(\n\u001b[0m\u001b[1;32m    612\u001b[0m                 \u001b[0;34mf\"schema id {self.schemaId} is not valid for the provided project's ontology.\"\u001b[0m\u001b[0;34m\u001b[0m\u001b[0;34m\u001b[0m\u001b[0m\n",
                        "\u001b[0;31mValueError\u001b[0m: schema id cky4mzhmknvos0zcwexjj9nc0 is not valid for the provided project's ontology.",
                        "\nThe above exception was the direct cause of the following exception:\n",
                        "\u001b[0;31mMALValidationError\u001b[0m                        Traceback (most recent call last)",
                        "\u001b[0;32m<ipython-input-29-9b20d211103c>\u001b[0m in \u001b[0;36m<module>\u001b[0;34m\u001b[0m\n\u001b[0;32m----> 1\u001b[0;31m \u001b[0m_validate_ndjson\u001b[0m\u001b[0;34m(\u001b[0m\u001b[0;34m[\u001b[0m\u001b[0mpoly_example\u001b[0m\u001b[0;34m]\u001b[0m\u001b[0;34m,\u001b[0m \u001b[0mproject\u001b[0m\u001b[0;34m)\u001b[0m\u001b[0;34m\u001b[0m\u001b[0;34m\u001b[0m\u001b[0m\n\u001b[0m",
                        "\u001b[0;32m~/opt/anaconda3/lib/python3.8/site-packages/labelbox/schema/bulk_import_request.py\u001b[0m in \u001b[0;36m_validate_ndjson\u001b[0;34m(lines, project)\u001b[0m\n\u001b[1;32m    435\u001b[0m             \u001b[0muids\u001b[0m\u001b[0;34m.\u001b[0m\u001b[0madd\u001b[0m\u001b[0;34m(\u001b[0m\u001b[0muuid\u001b[0m\u001b[0;34m)\u001b[0m\u001b[0;34m\u001b[0m\u001b[0;34m\u001b[0m\u001b[0m\n\u001b[1;32m    436\u001b[0m         \u001b[0;32mexcept\u001b[0m \u001b[0;34m(\u001b[0m\u001b[0mpydantic\u001b[0m\u001b[0;34m.\u001b[0m\u001b[0mValidationError\u001b[0m\u001b[0;34m,\u001b[0m \u001b[0mValueError\u001b[0m\u001b[0;34m,\u001b[0m \u001b[0mTypeError\u001b[0m\u001b[0;34m,\u001b[0m \u001b[0mKeyError\u001b[0m\u001b[0;34m)\u001b[0m \u001b[0;32mas\u001b[0m \u001b[0me\u001b[0m\u001b[0;34m:\u001b[0m\u001b[0;34m\u001b[0m\u001b[0;34m\u001b[0m\u001b[0m\n\u001b[0;32m--> 437\u001b[0;31m             raise labelbox.exceptions.MALValidationError(\n\u001b[0m\u001b[1;32m    438\u001b[0m                 f\"Invalid NDJson on line {idx}\") from e\n\u001b[1;32m    439\u001b[0m \u001b[0;34m\u001b[0m\u001b[0m\n",
                        "\u001b[0;31mMALValidationError\u001b[0m: Invalid NDJson on line 0('Invalid NDJson on line 0', None)"
                    ]
                }
            ],
            "source": [
                "#we can see that we did not pass in a valid schemaId - instead, we passed in the dataRow uid\n",
                "\n",
                "_validate_ndjson([poly_example], project)"
            ]
        },
        {
            "cell_type": "markdown",
            "id": "animated-potter",
            "metadata": {},
            "source": [
                "#### Reading MAL Errors\n",
                "* If your upload passes client side validation checks, there is still a chance of server side failures.\n",
                "* There are two urls for checking the status of your upload\n",
                "    * bulk_import_request.status_file_url\n",
                "    * bulk_import_request.error_file_url"
            ]
        },
        {
            "cell_type": "code",
            "execution_count": 11,
            "id": "thick-juvenile",
            "metadata": {},
            "outputs": [],
            "source": [
                "invalid_example = poly_example.copy()\n",
                "invalid_example[\"polygon\"] = [{\"x\": 2, \"y\": 99}]\n",
                "\n",
                "# Old way:\n",
                "name = str(uuid.uuid4())\n",
                "upload_task = project.upload_annotations(\n",
                "    name=name,\n",
                "    annotations=[poly_example, invalid_example],\n",
                "    validate=False  # Turn this off or it will raise the error on the client side\n",
                ")\n",
                "upload_task.wait_until_done()"
            ]
        },
        {
            "cell_type": "code",
            "execution_count": 12,
            "id": "stock-correction",
            "metadata": {},
            "outputs": [
                {
                    "name": "stdout",
                    "output_type": "stream",
                    "text": [
                        "[{'uuid': '1b5762e9-416c-44cf-9a5f-07effb51f863', 'dataRow': {'id': 'cjxav4aa07r1g0dsq70t9eveg'}, 'status': 'FAILURE', 'errors': [{'name': 'DataRowNotFound', 'message': 'dataRow.id cjxav4aa07r1g0dsq70t9eveg invalid', 'additionalInfo': None}]}, {'uuid': '1b5762e9-416c-44cf-9a5f-07effb51f863', 'dataRow': {'id': 'cjxav4aa07r1g0dsq70t9eveg'}, 'status': 'FAILURE', 'errors': [{'name': 'DataRowNotFound', 'message': 'dataRow.id cjxav4aa07r1g0dsq70t9eveg invalid', 'additionalInfo': None}]}]\n"
                    ]
                }
            ],
            "source": [
                "# Let's check the status:\n",
                "print(upload_task.errors)"
            ]
        },
        {
            "cell_type": "code",
            "execution_count": 13,
            "id": "square-david",
            "metadata": {},
            "outputs": [],
            "source": [
                "# We can see that we are using invalid datarows (they don't belong to the project we are uploading to)\n",
                "# and that the geometry is invalid."
            ]
        }
    ],
    "metadata": {
        "kernelspec": {
            "display_name": "Python 3",
            "language": "python",
            "name": "python3"
        },
        "language_info": {
            "codemirror_mode": {
                "name": "ipython",
                "version": 3
            },
            "file_extension": ".py",
            "mimetype": "text/x-python",
            "name": "python",
            "nbconvert_exporter": "python",
            "pygments_lexer": "ipython3",
            "version": "3.8.8"
        }
    },
    "nbformat": 4,
    "nbformat_minor": 5
}
