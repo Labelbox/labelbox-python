{
  "cells": [
    {
      "cell_type": "markdown",
      "id": "a6a048e8-b5fe-418b-aec4-829b5b6802e5",
      "metadata": {
        "id": "a6a048e8-b5fe-418b-aec4-829b5b6802e5"
      },
      "source": [
        "<td>\n",
        "   <a target=\"_blank\" href=\"https://labelbox.com\" ><img src=\"https://labelbox.com/blog/content/images/2021/02/logo-v4.svg\" width=256/></a>\n",
        "</td>"
      ]
    },
    {
      "cell_type": "markdown",
      "id": "51cf1362-1cde-4749-aac7-5fb94473baa7",
      "metadata": {
        "id": "51cf1362-1cde-4749-aac7-5fb94473baa7"
      },
      "source": [
        "<td>\n",
        "<a href=\"https://colab.research.google.com/github/Labelbox/labelbox-python/blob/develop/examples/model_assisted_labeling/image_mal.ipynb\" target=\"_blank\"><img\n",
        "src=\"https://colab.research.google.com/assets/colab-badge.svg\" alt=\"Open In Colab\"></a>\n",
        "</td>\n",
        "\n",
        "<td>\n",
        "<a href=\"https://github.com/Labelbox/labelbox-python/tree/develop/examples/model_assisted_labeling/image_mal.ipynb\" target=\"_blank\"><img\n",
        "src=\"https://img.shields.io/badge/GitHub-100000?logo=github&logoColor=white\" alt=\"GitHub\"></a>\n",
        "</td>"
      ]
    },
    {
      "cell_type": "markdown",
      "id": "339795d3-e36c-4470-8605-62bfdd5eea29",
      "metadata": {
        "id": "339795d3-e36c-4470-8605-62bfdd5eea29"
      },
      "source": [
        "# Image Annotation Import\n",
        "* This notebook will provide examples of each supported annotation type for image assets. It will cover the following:\n",
        "    * Model-assisted labeling - used to provide pre-annotated data for your labelers. This will enable a reduction in the total amount of time to properly label your assets. Model-assisted labeling does not submit the labels automatically, and will need to be reviewed by a labeler for submission.\n",
        "    * Label Import - used to provide ground truth labels. These can in turn be used and compared against prediction labels, or used as benchmarks to see how your labelers are doing."
      ]
    },
    {
      "cell_type": "markdown",
      "id": "e76f007b-9465-4acd-9008-20e25e4a4b98",
      "metadata": {
        "id": "e76f007b-9465-4acd-9008-20e25e4a4b98"
      },
      "source": [
        "* For information on what types of annotations are supported per data type, refer to this documentation:\n",
        "    * https://docs.labelbox.com/docs/model-assisted-labeling#option-1-import-via-python-annotation-types-recommended"
      ]
    },
    {
      "cell_type": "markdown",
      "id": "f53d50fc-8d3c-452b-9aaf-f6170aaa5576",
      "metadata": {
        "id": "f53d50fc-8d3c-452b-9aaf-f6170aaa5576"
      },
      "source": [
        "* Notes:\n",
        "    * If you are importing more than 1,000 mask annotations at a time, consider submitting separate jobs, as they can take longer than other annotation types to import.\n",
        "    * Wait until the import job is complete before opening the Editor to make sure all annotations are imported properly."
      ]
    },
    {
      "cell_type": "markdown",
      "id": "5effdaa3-e701-4804-aa33-bbbaed99eb92",
      "metadata": {
        "id": "5effdaa3-e701-4804-aa33-bbbaed99eb92"
      },
      "source": [
        "# Installs"
      ]
    },
    {
      "cell_type": "code",
      "execution_count": null,
      "id": "4d63074b-2379-48af-b9d6-2a66190f03c4",
      "metadata": {
        "id": "4d63074b-2379-48af-b9d6-2a66190f03c4"
      },
      "outputs": [],
      "source": [
        "!pip install -q 'labelbox[data]'"
      ]
    },
    {
      "cell_type": "markdown",
      "id": "6f3cdca1-524f-4247-a63b-2d4371b0257d",
      "metadata": {
        "id": "6f3cdca1-524f-4247-a63b-2d4371b0257d"
      },
      "source": [
        "# Imports"
      ]
    },
    {
      "cell_type": "code",
      "execution_count": 3,
      "id": "01fca8c9-0680-4a9c-a11e-1b49f31e9121",
      "metadata": {
        "id": "01fca8c9-0680-4a9c-a11e-1b49f31e9121"
      },
      "outputs": [],
      "source": [
        "from labelbox.schema.ontology import OntologyBuilder, Tool, Classification, Option\n",
        "from labelbox import Client, LabelingFrontend, LabelImport, MALPredictionImport\n",
        "from labelbox.data.annotation_types import (\n",
        "    Label, ImageData, ObjectAnnotation, MaskData,\n",
        "    Rectangle, Point, Line, Mask, Polygon,\n",
        "    Radio, Checklist, Text,\n",
        "    ClassificationAnnotation, ClassificationAnswer\n",
        ")\n",
        "from labelbox.data.serialization import NDJsonConverter\n",
        "import uuid\n",
        "import json\n",
        "import numpy as np"
      ]
    },
    {
      "cell_type": "markdown",
      "id": "a72d96e8-33ce-434d-b330-393e1c31702a",
      "metadata": {
        "id": "a72d96e8-33ce-434d-b330-393e1c31702a"
      },
      "source": [
        "# API Key and Client\n",
        "Provide a valid api key below in order to properly connect to the Labelbox Client."
      ]
    },
    {
      "cell_type": "code",
      "execution_count": null,
      "id": "86003724-4807-4281-95c1-5284a6f9609f",
      "metadata": {
        "id": "86003724-4807-4281-95c1-5284a6f9609f"
      },
      "outputs": [],
      "source": [
        "# Add your api key\n",
        "API_KEY = None\n",
        "client = Client(api_key=API_KEY)"
      ]
    },
    {
      "cell_type": "markdown",
      "id": "960998ac-bde4-4184-8b7d-26d8e019cc7f",
      "metadata": {
        "id": "960998ac-bde4-4184-8b7d-26d8e019cc7f"
      },
      "source": [
        "---- \n",
        "### Steps\n",
        "1. Make sure project is setup\n",
        "2. Collect annotations\n",
        "3. Upload"
      ]
    },
    {
      "cell_type": "markdown",
      "id": "82a7381b-2409-4ed3-9d25-881a1e1d8ca6",
      "metadata": {
        "id": "82a7381b-2409-4ed3-9d25-881a1e1d8ca6"
      },
      "source": [
        "### Project setup"
      ]
    },
    {
      "cell_type": "markdown",
      "id": "d51fd2e1-bf5f-4c61-bca1-929f43b076ed",
      "metadata": {
        "id": "d51fd2e1-bf5f-4c61-bca1-929f43b076ed"
      },
      "source": [
        "We will be creating two projects, one for model-assisted labeling, and one for label imports"
      ]
    },
    {
      "cell_type": "code",
      "execution_count": 5,
      "id": "f9f9287c-aad7-4914-bc87-1453fb8bce81",
      "metadata": {
        "id": "f9f9287c-aad7-4914-bc87-1453fb8bce81"
      },
      "outputs": [],
      "source": [
        "ontology_builder = OntologyBuilder(\n",
        "    tools=[\n",
        "        Tool(tool=Tool.Type.BBOX, name=\"box\"),\n",
        "        Tool(tool=Tool.Type.LINE, name=\"line\"),\n",
        "        Tool(tool=Tool.Type.POINT, name=\"point\"),\n",
        "        Tool(tool=Tool.Type.POLYGON, name=\"polygon\"),    \n",
        "        Tool(tool=Tool.Type.SEGMENTATION, name=\"mask\")],\n",
        "    classifications=[\n",
        "        Classification(class_type=Classification.Type.TEXT, instructions=\"text\"),\n",
        "        Classification(class_type=Classification.Type.CHECKLIST, instructions=\"checklist\", options=[\n",
        "            Option(value=\"first_checklist_answer\"),\n",
        "            Option(value=\"second_checklist_answer\")            \n",
        "        ]),\n",
        "        Classification(class_type=Classification.Type.RADIO, instructions=\"radio\", options=[\n",
        "            Option(value=\"first_radio_answer\"),\n",
        "            Option(value=\"second_radio_answer\")\n",
        "        ]),                                      \n",
        "])\n"
      ]
    },
    {
      "cell_type": "code",
      "execution_count": 6,
      "id": "044e9194-d21d-403e-b64c-047c1063b0fe",
      "metadata": {
        "id": "044e9194-d21d-403e-b64c-047c1063b0fe"
      },
      "outputs": [],
      "source": [
        "mal_project = client.create_project(name=\"image_mal_project\")\n",
        "li_project = client.create_project(name=\"image_label_import_project\")\n",
        "\n",
        "dataset = client.create_dataset(name=\"image_annotation_import_demo_dataset\")\n",
        "test_img_url = \"https://raw.githubusercontent.com/Labelbox/labelbox-python/develop/examples/assets/2560px-Kitano_Street_Kobe01s5s4110.jpg\"\n",
        "data_row = dataset.create_data_row(row_data=test_img_url)\n",
        "editor = next(client.get_labeling_frontends(where=LabelingFrontend.name == \"Editor\"))\n",
        "\n",
        "mal_project.setup(editor, ontology_builder.asdict())\n",
        "mal_project.datasets.connect(dataset)\n",
        "\n",
        "li_project.setup(editor, ontology_builder.asdict())\n",
        "li_project.datasets.connect(dataset)"
      ]
    },
    {
      "cell_type": "markdown",
      "id": "8da94c48-72a5-4535-ab66-6d14b0b79aed",
      "metadata": {
        "id": "8da94c48-72a5-4535-ab66-6d14b0b79aed"
      },
      "source": [
        "### Create Label using Annotation Type Objects\n",
        "* It is recommended to use the Python SDK's annotation types for importing into Labelbox."
      ]
    },
    {
      "cell_type": "markdown",
      "id": "ee9b9191-6c0d-4cba-859b-e2e9a1b887c8",
      "metadata": {
        "id": "ee9b9191-6c0d-4cba-859b-e2e9a1b887c8"
      },
      "source": [
        "### Object Annotations"
      ]
    },
    {
      "cell_type": "code",
      "execution_count": 7,
      "id": "d468b0d0-e7d8-42d9-81fd-3db7c67d7b83",
      "metadata": {
        "id": "d468b0d0-e7d8-42d9-81fd-3db7c67d7b83"
      },
      "outputs": [],
      "source": [
        "def create_objects():\n",
        "  point = Point(x=100,y=100)\n",
        "  point_annotation = ObjectAnnotation(value=point, name=\"point\")\n",
        "  rectangle = Rectangle(start=Point(x=30,y=30), end=Point(x=200,y=200))\n",
        "  rectangle_annotation = ObjectAnnotation(value=rectangle, name=\"box\")\n",
        "  line = Line(points=[Point(x=60,y=70), Point(x=65,y=100), Point(x=80,y=130), Point(x=40,y=200)])\n",
        "  line_annotation = ObjectAnnotation(value=line, name=\"line\")\n",
        "  array = np.zeros([128, 128, 3], dtype=np.uint8)\n",
        "  mask_data = MaskData(arr=array)\n",
        "  mask = Mask(mask=mask_data, color=(0, 0, 0))\n",
        "  mask_annotation = ObjectAnnotation(value=mask, name=\"mask\")\n",
        "  return point_annotation, rectangle_annotation, line_annotation, polygon_annotation, mask_annotation"
      ]
    },
    {
      "cell_type": "markdown",
      "id": "291f9c97-37ba-42f5-b8f0-e118bdc5c848",
      "metadata": {
        "id": "291f9c97-37ba-42f5-b8f0-e118bdc5c848"
      },
      "source": [
        "### Classification Annotations"
      ]
    },
    {
      "cell_type": "code",
      "execution_count": 8,
      "id": "e1a03976-4e50-4d10-b7ad-1a83ccc51a2a",
      "metadata": {
        "id": "e1a03976-4e50-4d10-b7ad-1a83ccc51a2a"
      },
      "outputs": [],
      "source": [
        "def create_classifications():\n",
        "  text = Text(answer=\"the answer to the text question\")\n",
        "  text_annotation = ClassificationAnnotation(value=text, name=\"text\")\n",
        "  checklist = Checklist(answer=[ClassificationAnswer(name=\"first_checklist_answer\"),ClassificationAnswer(name=\"second_checklist_answer\")])\n",
        "  checklist_annotation = ClassificationAnnotation(value=checklist, name=\"checklist\")\n",
        "  radio = Radio(answer = ClassificationAnswer(name = \"second_radio_answer\"))\n",
        "  radio_annotation = ClassificationAnnotation(value=radio, name=\"radio\")\n",
        "  return checklist_annotation, radio_annotation, text_annotation"
      ]
    },
    {
      "cell_type": "markdown",
      "id": "15bd593b-509d-4114-af95-ae0be081c42d",
      "metadata": {
        "id": "15bd593b-509d-4114-af95-ae0be081c42d"
      },
      "source": [
        "### Create a Label object with all of our annotations"
      ]
    },
    {
      "cell_type": "code",
      "execution_count": 9,
      "id": "6d72fe25-ff7e-4e0a-94cf-095e4df73da0",
      "metadata": {
        "colab": {
          "base_uri": "https://localhost:8080/"
        },
        "id": "6d72fe25-ff7e-4e0a-94cf-095e4df73da0",
        "outputId": "0af92f47-db7a-49cd-c131-317968b212cb"
      },
      "outputs": [
        {
          "output_type": "execute_result",
          "data": {
            "text/plain": [
              "{'annotations': [ObjectAnnotation(name='point', feature_schema_id=None, extra={}, value=Point(extra={}, x=100.0, y=100.0), classifications=[]),\n",
              "  ObjectAnnotation(name='box', feature_schema_id=None, extra={}, value=Rectangle(extra={}, start=Point(extra={}, x=30.0, y=30.0), end=Point(extra={}, x=200.0, y=200.0)), classifications=[]),\n",
              "  ObjectAnnotation(name='line', feature_schema_id=None, extra={}, value=Line(extra={}, points=[Point(extra={}, x=60.0, y=70.0), Point(extra={}, x=65.0, y=100.0), Point(extra={}, x=80.0, y=130.0), Point(extra={}, x=40.0, y=200.0)]), classifications=[]),\n",
              "  ObjectAnnotation(name='polygon', feature_schema_id=None, extra={}, value=Polygon(extra={}, points=[Point(extra={}, x=100.0, y=100.0), Point(extra={}, x=110.0, y=110.0), Point(extra={}, x=130.0, y=130.0), Point(extra={}, x=170.0, y=170.0), Point(extra={}, x=220.0, y=220.0), Point(extra={}, x=100.0, y=100.0)]), classifications=[]),\n",
              "  ObjectAnnotation(name='mask', feature_schema_id=None, extra={}, value=Mask(extra={}, mask=MaskData(im_bytes=None,file_path=None,url=https://storage.labelbox.com/cklgtitp0gi500732dgmg0p8l%2F61f39f84-6f37-7b4d-0cef-9ddb375eecfe-1?Expires=1645895595818&KeyName=labelbox-assets-key-3&Signature=whh3pPcNUw0y7oP2rckSzVvUPzs,arr=...), color=(0, 0, 0)), classifications=[]),\n",
              "  ClassificationAnnotation(name='text', feature_schema_id=None, extra={}, value=Text(answer='the answer to the text question')),\n",
              "  ClassificationAnnotation(name='checklist', feature_schema_id=None, extra={}, value=Checklist(name='checklist', answer=[ClassificationAnswer(name='first_checklist_answer', feature_schema_id=None, extra={}, keyframe=None), ClassificationAnswer(name='second_checklist_answer', feature_schema_id=None, extra={}, keyframe=None)])),\n",
              "  ClassificationAnnotation(name='radio', feature_schema_id=None, extra={}, value=Radio(answer=ClassificationAnswer(name='second_radio_answer', feature_schema_id=None, extra={}, keyframe=None)))],\n",
              " 'data': ImageData(im_bytes=None,file_path=None,url=None,arr=None),\n",
              " 'extra': {},\n",
              " 'uid': None}"
            ]
          },
          "metadata": {},
          "execution_count": 9
        }
      ],
      "source": [
        "image_data = ImageData(uid=data_row.uid)\n",
        "\n",
        "point_annotation, rectangle_annotation, line_annotation, polygon_annotation, mask_annotation = create_objects()\n",
        "checklist_annotation, radio_annotation, text_annotation = create_classifications()\n",
        "\n",
        "label = Label(\n",
        "    data=image_data,\n",
        "    annotations = [\n",
        "        point_annotation, rectangle_annotation, line_annotation, polygon_annotation, mask_annotation,\n",
        "        text_annotation, checklist_annotation, radio_annotation\n",
        "    ]\n",
        ")\n",
        "\n",
        "# Create urls to mask data for upload\n",
        "def signing_function(obj_bytes: bytes) -> str:\n",
        "    url = client.upload_data(content=obj_bytes, sign=True)\n",
        "    return url\n",
        "\n",
        "\n",
        "label.add_url_to_masks(signing_function)\n",
        "\n",
        "label.__dict__"
      ]
    },
    {
      "cell_type": "markdown",
      "id": "cc448767-1ded-4a02-af29-64b8b9f71d99",
      "metadata": {
        "id": "cc448767-1ded-4a02-af29-64b8b9f71d99"
      },
      "source": [
        "### Model Assisted Labeling "
      ]
    },
    {
      "cell_type": "markdown",
      "id": "90d5c6b7-0a67-481c-95a8-1791fe650767",
      "metadata": {
        "id": "90d5c6b7-0a67-481c-95a8-1791fe650767"
      },
      "source": [
        "To do model-assisted labeling, we need to convert a Label object into an NDJSON. \n",
        "\n",
        "This is easily done with using the NDJSONConverter class\n",
        "\n",
        "We will create a Label called mal_label which has the same original structure as the label above\n",
        "\n",
        "Notes:\n",
        "* Each label requires a valid feature schema id. We will assign it using our built in `assign_feature_schema_ids` method\n",
        "* the NDJsonConverter takes in a list of labels"
      ]
    },
    {
      "cell_type": "code",
      "execution_count": 10,
      "id": "53aaf87b-114f-4b56-a417-8c7cddc1f532",
      "metadata": {
        "colab": {
          "base_uri": "https://localhost:8080/"
        },
        "id": "53aaf87b-114f-4b56-a417-8c7cddc1f532",
        "outputId": "a61ae0a6-79a5-4f20-88f0-6df73d585eff"
      },
      "outputs": [
        {
          "output_type": "execute_result",
          "data": {
            "text/plain": [
              "[{'classifications': [],\n",
              "  'dataRow': {'id': 'cl02oarts7qcb108dgppi7qdq'},\n",
              "  'point': {'x': 100.0, 'y': 100.0},\n",
              "  'schemaId': 'cl02oat1w7m2j0z6qgndw3b4e',\n",
              "  'uuid': '3a1b037a-3528-4f78-a9c8-5711a1c31365'},\n",
              " {'bbox': {'height': 170.0, 'left': 30.0, 'top': 30.0, 'width': 170.0},\n",
              "  'classifications': [],\n",
              "  'dataRow': {'id': 'cl02oarts7qcb108dgppi7qdq'},\n",
              "  'schemaId': 'cl02oat1w7m2f0z6qgv5vbg5w',\n",
              "  'uuid': '0cb3298a-64dc-418f-9372-ec872eb6a42c'},\n",
              " {'classifications': [],\n",
              "  'dataRow': {'id': 'cl02oarts7qcb108dgppi7qdq'},\n",
              "  'line': [{'x': 60.0, 'y': 70.0},\n",
              "   {'x': 65.0, 'y': 100.0},\n",
              "   {'x': 80.0, 'y': 130.0},\n",
              "   {'x': 40.0, 'y': 200.0}],\n",
              "  'schemaId': 'cl02oat1w7m2h0z6qbui98cof',\n",
              "  'uuid': '4bafd09a-16a0-44b2-9bd2-bc90fbdfaf57'},\n",
              " {'classifications': [],\n",
              "  'dataRow': {'id': 'cl02oarts7qcb108dgppi7qdq'},\n",
              "  'polygon': [{'x': 100.0, 'y': 100.0},\n",
              "   {'x': 110.0, 'y': 110.0},\n",
              "   {'x': 130.0, 'y': 130.0},\n",
              "   {'x': 170.0, 'y': 170.0},\n",
              "   {'x': 220.0, 'y': 220.0},\n",
              "   {'x': 100.0, 'y': 100.0}],\n",
              "  'schemaId': 'cl02oat1w7m2l0z6qf4oa4qdy',\n",
              "  'uuid': '69f3d6e9-5f42-4550-a797-feb61ddeb0ab'},\n",
              " {'classifications': [],\n",
              "  'dataRow': {'id': 'cl02oarts7qcb108dgppi7qdq'},\n",
              "  'mask': {'colorRGB': (0, 0, 0),\n",
              "   'instanceURI': 'https://storage.labelbox.com/cklgtitp0gi500732dgmg0p8l%2F61f39f84-6f37-7b4d-0cef-9ddb375eecfe-1?Expires=1645895595818&KeyName=labelbox-assets-key-3&Signature=whh3pPcNUw0y7oP2rckSzVvUPzs'},\n",
              "  'schemaId': 'cl02oat1w7m2n0z6q4pomakwn',\n",
              "  'uuid': '25454ca1-7325-476f-bf93-8c834dccd805'},\n",
              " {'answer': 'the answer to the text question',\n",
              "  'dataRow': {'id': 'cl02oarts7qcb108dgppi7qdq'},\n",
              "  'schemaId': 'cl02oat1w7m2p0z6qhdulg9n4',\n",
              "  'uuid': '8dab7d7a-c984-4318-b41f-e8045b85e193'},\n",
              " {'answer': [{'schemaId': 'cl02oat1w7m2s0z6qci5b294w'},\n",
              "   {'schemaId': 'cl02oat1w7m2u0z6q6mg46wbw'}],\n",
              "  'dataRow': {'id': 'cl02oarts7qcb108dgppi7qdq'},\n",
              "  'schemaId': 'cl02oat1w7m2r0z6q6equg79a',\n",
              "  'uuid': '00d317d2-8700-4bc1-984e-3b0e985fed0d'},\n",
              " {'answer': {'schemaId': 'cl02oat1x7m300z6q0pgy6m49'},\n",
              "  'dataRow': {'id': 'cl02oarts7qcb108dgppi7qdq'},\n",
              "  'schemaId': 'cl02oat1x7m2x0z6q6kld49t3',\n",
              "  'uuid': 'fe6732b7-5351-46b8-a43a-7a4a1b773776'}]"
            ]
          },
          "metadata": {},
          "execution_count": 10
        }
      ],
      "source": [
        "mal_label = Label(\n",
        "    data=image_data,\n",
        "    annotations = [\n",
        "        point_annotation, rectangle_annotation, line_annotation, polygon_annotation, mask_annotation,\n",
        "        text_annotation, checklist_annotation, radio_annotation\n",
        "    ]\n",
        ")\n",
        "\n",
        "label.add_url_to_masks(signing_function)\n",
        "\n",
        "mal_label.assign_feature_schema_ids(ontology_builder.from_project(mal_project))\n",
        "\n",
        "ndjson_labels = list(NDJsonConverter.serialize([mal_label]))\n",
        "\n",
        "ndjson_labels"
      ]
    },
    {
      "cell_type": "code",
      "execution_count": 11,
      "id": "c66672c7-33e8-4d5d-b79d-2ac76d830341",
      "metadata": {
        "id": "c66672c7-33e8-4d5d-b79d-2ac76d830341"
      },
      "outputs": [],
      "source": [
        "upload_job = MALPredictionImport.create_from_objects(\n",
        "    client = client, \n",
        "    project_id = mal_project.uid, \n",
        "    name=\"upload_label_import_job\", \n",
        "    predictions=ndjson_labels)"
      ]
    },
    {
      "cell_type": "code",
      "execution_count": 12,
      "id": "2a8f9e5f-eeeb-4cfa-9b97-a09495a64d41",
      "metadata": {
        "id": "2a8f9e5f-eeeb-4cfa-9b97-a09495a64d41",
        "colab": {
          "base_uri": "https://localhost:8080/"
        },
        "outputId": "f6109f59-aa34-4e95-faad-84c39c2e0a3e"
      },
      "outputs": [
        {
          "output_type": "stream",
          "name": "stderr",
          "text": [
            "INFO:labelbox.schema.annotation_import:Sleeping for 10 seconds...\n"
          ]
        },
        {
          "output_type": "stream",
          "name": "stdout",
          "text": [
            "Errors: []\n"
          ]
        }
      ],
      "source": [
        "# Errors will appear for each annotation that failed.\n",
        "# Empty list means that there were no errors\n",
        "# This will provide information only after the upload_job is complete, so we do not need to worry about having to rerun\n",
        "print(\"Errors:\", upload_job.errors)"
      ]
    },
    {
      "cell_type": "markdown",
      "id": "aad5c035-c908-46c9-beac-f38da1befa25",
      "metadata": {
        "id": "aad5c035-c908-46c9-beac-f38da1befa25"
      },
      "source": [
        "### Label Import"
      ]
    },
    {
      "cell_type": "markdown",
      "id": "9d4fa318-7d08-4d98-b0ff-e2086814d75d",
      "metadata": {
        "id": "9d4fa318-7d08-4d98-b0ff-e2086814d75d"
      },
      "source": [
        "Label import is very similar to model-assisted labeling. We will need to re-assign the feature schema before continuing, \n",
        "but we can continue to use our NDJSonConverter\n",
        "\n",
        "We will create a Label called li_label which has the same original structure as the label above"
      ]
    },
    {
      "cell_type": "code",
      "execution_count": null,
      "id": "e8d4e99b-ad7e-48b9-8073-afb764d7c5b4",
      "metadata": {
        "colab": {
          "base_uri": "https://localhost:8080/"
        },
        "id": "e8d4e99b-ad7e-48b9-8073-afb764d7c5b4",
        "outputId": "87028088-afe1-4daf-db4f-174bd8a2a370"
      },
      "outputs": [
        {
          "output_type": "execute_result",
          "data": {
            "text/plain": [
              "[{'classifications': [],\n",
              "  'dataRow': {'id': 'cl02o1bh17kn90z8v5b6pgunh'},\n",
              "  'point': {'x': 100.0, 'y': 100.0},\n",
              "  'schemaId': 'cl02o1cjq7jjf0z6q3gjqevcn',\n",
              "  'uuid': '5edbc81f-83b0-47d7-86c9-1fa5e15143de'},\n",
              " {'bbox': {'height': 170.0, 'left': 30.0, 'top': 30.0, 'width': 170.0},\n",
              "  'classifications': [],\n",
              "  'dataRow': {'id': 'cl02o1bh17kn90z8v5b6pgunh'},\n",
              "  'schemaId': 'cl02o1cjp7jjb0z6q0emg0lo9',\n",
              "  'uuid': '866b7775-3cf4-487e-9df9-659921a8bf17'},\n",
              " {'classifications': [],\n",
              "  'dataRow': {'id': 'cl02o1bh17kn90z8v5b6pgunh'},\n",
              "  'line': [{'x': 60.0, 'y': 70.0},\n",
              "   {'x': 65.0, 'y': 100.0},\n",
              "   {'x': 80.0, 'y': 130.0},\n",
              "   {'x': 40.0, 'y': 200.0}],\n",
              "  'schemaId': 'cl02o1cjq7jjd0z6qa5mp28by',\n",
              "  'uuid': '5fe7dda3-5be2-4a3d-b828-d0a2ae155eea'},\n",
              " {'classifications': [],\n",
              "  'dataRow': {'id': 'cl02o1bh17kn90z8v5b6pgunh'},\n",
              "  'polygon': [{'x': 100.0, 'y': 100.0},\n",
              "   {'x': 110.0, 'y': 110.0},\n",
              "   {'x': 130.0, 'y': 130.0},\n",
              "   {'x': 170.0, 'y': 170.0},\n",
              "   {'x': 220.0, 'y': 220.0},\n",
              "   {'x': 100.0, 'y': 100.0}],\n",
              "  'schemaId': 'cl02o1cjq7jjh0z6q1ucxb8g5',\n",
              "  'uuid': 'd27cc246-3fd6-425b-991a-d6da49af6cfb'},\n",
              " {'classifications': [],\n",
              "  'dataRow': {'id': 'cl02o1bh17kn90z8v5b6pgunh'},\n",
              "  'mask': {'png': 'iVBORw0KGgoAAAANSUhEUgAAAIAAAACACAAAAADmVT4XAAAAXElEQVR4nO3OMQEAAAzCMJh/0ZPBkxpo2my78R8AAAAAAAAAAAAAAAAAAAAAAAAAAAAAAAAAAAAAAAAAAAAAAAAAAAAAAAAAAAAAAAAAAAAAAAAAAAAAAAAAACAPwt8BAVCFH74AAAAASUVORK5CYII='},\n",
              "  'schemaId': 'cl02o1cjq7jjj0z6qg9w39ohy',\n",
              "  'uuid': '1fe31726-4ced-4091-81db-51928f14ba4c'},\n",
              " {'answer': 'the answer to the text question',\n",
              "  'dataRow': {'id': 'cl02o1bh17kn90z8v5b6pgunh'},\n",
              "  'schemaId': 'cl02o1cjq7jjl0z6qclyw8x1l',\n",
              "  'uuid': '4f3ca8f5-47e5-4de9-b242-e04c7da08b63'},\n",
              " {'answer': [{'schemaId': 'cl02o1cjq7jjo0z6qf6572apm'},\n",
              "   {'schemaId': 'cl02o1cjq7jjq0z6q1p4ocxj9'}],\n",
              "  'dataRow': {'id': 'cl02o1bh17kn90z8v5b6pgunh'},\n",
              "  'schemaId': 'cl02o1cjq7jjn0z6q3njuc2dl',\n",
              "  'uuid': '6a38cc11-c1a1-41da-b488-15268706accc'},\n",
              " {'answer': {'schemaId': 'cl02o1cjq7jjw0z6q94bu09gf'},\n",
              "  'dataRow': {'id': 'cl02o1bh17kn90z8v5b6pgunh'},\n",
              "  'schemaId': 'cl02o1cjq7jjt0z6q4fjcdr04',\n",
              "  'uuid': 'f26adc7d-aef4-4a2d-83b0-d875a1d2fd8b'}]"
            ]
          },
          "metadata": {},
          "execution_count": 14
        }
      ],
      "source": [
        "#for the purpose of this notebook, we will need to reset the schema ids of our checklist and radio answers\n",
        "image_data = ImageData(uid=data_row.uid)\n",
        "\n",
        "point_annotation, rectangle_annotation, line_annotation, polygon_annotation, mask_annotation = create_objects()\n",
        "checklist_annotation, radio_annotation, text_annotation = create_classifications()\n",
        "\n",
        "li_label = Label(\n",
        "    data=image_data,\n",
        "    annotations = [\n",
        "        point_annotation, rectangle_annotation, line_annotation, polygon_annotation, mask_annotation,\n",
        "        text_annotation, checklist_annotation, radio_annotation\n",
        "    ]\n",
        ")\n",
        "\n",
        "li_label.assign_feature_schema_ids(ontology_builder.from_project(li_project))\n",
        "\n",
        "ndjson_labels = list(NDJsonConverter.serialize([li_label]))\n",
        "\n",
        "ndjson_labels"
      ]
    },
    {
      "cell_type": "code",
      "execution_count": null,
      "id": "e937ea0a-8beb-4dbc-974b-0316f0b980a5",
      "metadata": {
        "id": "e937ea0a-8beb-4dbc-974b-0316f0b980a5"
      },
      "outputs": [],
      "source": [
        "upload_job = LabelImport.create_from_objects(\n",
        "    client = client, \n",
        "    project_id = li_project.uid, \n",
        "    name=\"upload_label_import_job\", \n",
        "    labels=ndjson_labels)"
      ]
    },
    {
      "cell_type": "code",
      "execution_count": null,
      "id": "3669b646-2d41-4c98-9e5b-f8ef3ce82f35",
      "metadata": {
        "colab": {
          "base_uri": "https://localhost:8080/"
        },
        "id": "3669b646-2d41-4c98-9e5b-f8ef3ce82f35",
        "outputId": "b72bb9db-64a0-4d5e-e8e0-5bccd0f6a923"
      },
      "outputs": [
        {
          "output_type": "stream",
          "name": "stderr",
          "text": [
            "INFO:labelbox.schema.annotation_import:Sleeping for 10 seconds...\n"
          ]
        },
        {
          "output_type": "stream",
          "name": "stdout",
          "text": [
            "Errors: []\n"
          ]
        }
      ],
      "source": [
        "print(\"Errors:\", upload_job.errors)"
      ]
    }
  ],
  "metadata": {
    "kernelspec": {
      "display_name": "Python 3",
      "language": "python",
      "name": "python3"
    },
    "language_info": {
      "codemirror_mode": {
        "name": "ipython",
        "version": 3
      },
      "file_extension": ".py",
      "mimetype": "text/x-python",
      "name": "python",
      "nbconvert_exporter": "python",
      "pygments_lexer": "ipython3",
      "version": "3.8.8"
    },
    "colab": {
      "name": "image_mal.ipynb",
      "provenance": [],
      "collapsed_sections": []
    }
  },
  "nbformat": 4,
  "nbformat_minor": 5
}