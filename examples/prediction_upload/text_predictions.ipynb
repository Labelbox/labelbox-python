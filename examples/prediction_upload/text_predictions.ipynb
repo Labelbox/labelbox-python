{
 "nbformat": 4,
 "nbformat_minor": 0,
 "metadata": {
  "colab": {
   "provenance": [],
   "collapsed_sections": [
    "RgBYFUxa-VGT"
   ]
  },
  "kernelspec": {
   "name": "python3",
   "display_name": "Python 3"
  },
  "language_info": {
   "name": "python"
  }
 },
 "cells": [
  {
   "cell_type": "markdown",
   "metadata": {
    "id": "a6a048e8-b5fe-418b-aec4-829b5b6802e5"
   },
   "source": [
    "<td>\n",
    "   <a target=\"_blank\" href=\"https://labelbox.com\" ><img src=\"https://labelbox.com/blog/content/images/2021/02/logo-v4.svg\" width=256/></a>\n",
    "</td>"
   ]
  },
  {
   "cell_type": "markdown",
   "metadata": {
    "id": "51cf1362-1cde-4749-aac7-5fb94473baa7"
   },
   "source": [
    "<td>\n",
    "<a href=\"https://colab.research.google.com/github/Labelbox/labelbox-python/blob/develop/examples/prediction_upload/text_predictions.ipynb\" target=\"_blank\"><img\n",
    "src=\"https://colab.research.google.com/assets/colab-badge.svg\" alt=\"Open In Colab\"></a>\n",
    "</td>\n",
    "\n",
    "<td>\n",
    "<a href=\"https://github.com/Labelbox/labelbox-python/blob/develop/examples/prediction_upload/text_predictions.ipynb\" target=\"_blank\"><img\n",
    "src=\"https://img.shields.io/badge/GitHub-100000?logo=github&logoColor=white\" alt=\"GitHub\"></a>\n",
    "</td>"
   ]
  },
  {
   "cell_type": "markdown",
   "source": [
    "# Text Prediction Import\n",
    "* This notebook walks you through the process of uploading model predictions to a Model Run. This notebook provides an example for each supported prediction type for text assets. \n",
    "\n",
    "Supported annotations that can be uploaded through the SDK: \n",
    "\n",
    "* Entity\n",
    "* Classification radio \n",
    "* Classification checklist \n",
    "* Classification free-form text \n",
    "\n",
    "**Not** supported:\n",
    "* Segmentation mask\n",
    "* Polygon\n",
    "* Bounding box \n",
    "* Polyline\n",
    "* Point \n",
    "\n",
    "\n",
    "A Model Run is a container for the predictions, annotations and metrics of a specific experiment in your ML model development cycle.\n",
    "\n"
   ],
   "metadata": {
    "id": "9znxMjDYGi0Y"
   }
  },
  {
   "cell_type": "markdown",
   "source": [
    "## Setup"
   ],
   "metadata": {
    "id": "UtJHIuE8HDRI"
   }
  },
  {
   "cell_type": "code",
   "source": [
    "!pip install -q 'labelbox[data]'"
   ],
   "metadata": {
    "id": "cm8xMaLbGb7v",
    "colab": {
     "base_uri": "https://localhost:8080/"
    },
    "outputId": "a524ede8-eb09-4e90-eb8c-1de6ceeb7598"
   },
   "execution_count": 2,
   "outputs": [
    {
     "name": "stdout",
     "output_type": "stream",
     "text": [
      "\r\n",
      "\u001B[1m[\u001B[0m\u001B[34;49mnotice\u001B[0m\u001B[1;39;49m]\u001B[0m\u001B[39;49m A new release of pip available: \u001B[0m\u001B[31;49m22.3.1\u001B[0m\u001B[39;49m -> \u001B[0m\u001B[32;49m23.0\u001B[0m\r\n",
      "\u001B[1m[\u001B[0m\u001B[34;49mnotice\u001B[0m\u001B[1;39;49m]\u001B[0m\u001B[39;49m To update, run: \u001B[0m\u001B[32;49mpip install --upgrade pip\u001B[0m\r\n"
     ]
    }
   ]
  },
  {
   "cell_type": "code",
   "source": [
    "import labelbox as lb\n",
    "import labelbox.data.annotation_types as lb_types\n",
    "import labelbox.data.serialization as lb_serializers\n",
    "import uuid"
   ],
   "metadata": {
    "id": "NIq-6M9kHKSs"
   },
   "execution_count": 3,
   "outputs": []
  },
  {
   "cell_type": "markdown",
   "source": [
    "## Replace with your API Key \n",
    "Guides on [Create an API key](https://docs.labelbox.com/docs/create-an-api-key)"
   ],
   "metadata": {
    "id": "pZ2rBqY8HQoe"
   }
  },
  {
   "cell_type": "code",
   "source": [
    "API_KEY = None\n",
    "client = lb.Client(API_KEY)"
   ],
   "metadata": {
    "id": "z7ZLKLYLHP__"
   },
   "execution_count": 5,
   "outputs": []
  },
  {
   "cell_type": "markdown",
   "source": [
    "## Supported Predictions"
   ],
   "metadata": {
    "id": "RgBYFUxa-VGT"
   }
  },
  {
   "cell_type": "code",
   "source": [
    "########## Entities ##########\n",
    "\n",
    "# Python annotation\n",
    "named_entity = lb_types.TextEntity(start=10, end=20)\n",
    "entities_prediction = lb_types.ObjectAnnotation(value=named_entity, name = \"named_entity\", confidence=0.5)\n",
    "\n",
    "\n",
    "# NDJSON\n",
    "entities_prediction_ndjson = { \n",
    "    \"name\": \"named_entity\",\n",
    "    \"confidence\": 0.5, \n",
    "    \"location\": { \n",
    "        \"start\": 67, \n",
    "        \"end\": 128 \n",
    "    }\n",
    "}"
   ],
   "metadata": {
    "id": "FJhCAqeR-cUJ"
   },
   "execution_count": 11,
   "outputs": []
  },
  {
   "cell_type": "code",
   "source": [
    "########## Classification - Radio (single choice ) ##########\n",
    "\n",
    "# Python annotation \n",
    "radio_prediction = lb_types.ClassificationAnnotation(\n",
    "    name=\"radio_question\",\n",
    "    value=lb_types.Radio(answer =\n",
    "        lb_types.ClassificationAnswer(name = \"first_radio_answer\", confidence=0.5)\n",
    "    )\n",
    ")\n",
    "\n",
    "\n",
    "# NDJSON\n",
    "radio_prediction_ndjson = {\n",
    "  'name': 'radio_question',\n",
    "  'confidence': 0.5,\n",
    "  'answer': {'name': 'first_radio_answer', 'confidence': 0.5}\n",
    "} "
   ],
   "metadata": {
    "id": "SOOR0zCBKef_"
   },
   "execution_count": 6,
   "outputs": []
  },
  {
   "cell_type": "code",
   "source": [
    "#### Nested Classifications only supported with NDJSON tools ######\n",
    "\n",
    "nested_radio_prediction_ndjson = {\n",
    "  'name': 'radio_question_sub',\n",
    "  'answer': {\n",
    "      'name': 'first_radio_answer',\n",
    "      \"confidence\": 0.5,\n",
    "      'classifications': [{\n",
    "          'name':'sub_radio_question',\n",
    "          'answer': { 'name' : 'first_sub_radio_answer', 'confidence': 0.5 }\n",
    "        }]\n",
    "    }\n",
    "}\n",
    "\n",
    "nested_checklist_prediction_ndjson = {\n",
    "  \"name\": \"nested_checklist_question\",\n",
    "  \"confidence\": 0.01,\n",
    "  \"answer\": [{\n",
    "      \"name\": \"first_checklist_answer\", \n",
    "      \"confidence\": 0.01,\n",
    "      \"classifications\" : [\n",
    "        {\n",
    "          \"name\": \"sub_checklist_question\", \n",
    "          \"answer\": {\"name\": \"first_sub_checklist_answer\", \"confidence\": 0.01 }\n",
    "        }          \n",
    "      ]         \n",
    "  }]\n",
    "}"
   ],
   "metadata": {
    "id": "cXKGv0BeNXQi"
   },
   "execution_count": 7,
   "outputs": []
  },
  {
   "cell_type": "code",
   "source": [
    "########## Checklist ##########\n",
    "\n",
    "# Python annotation\n",
    "checklist_prediction = lb_types.ClassificationAnnotation(\n",
    "    name=\"checklist_question\",\n",
    "    value=lb_types.Checklist(\n",
    "        answer = [\n",
    "            lb_types.ClassificationAnswer(\n",
    "                name = \"first_checklist_answer\",\n",
    "                confidence=0.5\n",
    "            ),\n",
    "            lb_types.ClassificationAnswer(\n",
    "                name = \"second_checklist_answer\", \n",
    "                confidence=0.5\n",
    "            ),\n",
    "            lb_types.ClassificationAnswer(\n",
    "                name = \"third_checklist_answer\", \n",
    "                confidence=0.5\n",
    "            )\n",
    "    ])\n",
    "  )\n",
    "\n",
    "\n",
    "# NDJSON\n",
    "checklist_prediction_ndjson = {\n",
    "  'name': 'checklist_question',\n",
    "  'confidence': 0.5,\n",
    "  'answer': [\n",
    "    {'name': 'first_checklist_answer', 'confidence': 0.5}\n",
    "  ]\n",
    "}"
   ],
   "metadata": {
    "id": "vdwPTRkP6JIx"
   },
   "execution_count": 8,
   "outputs": []
  },
  {
   "cell_type": "code",
   "source": [
    "########## Classification Free-Form text  ##########\n",
    "\n",
    "# Python annotation\n",
    "text_prediction = lb_types.ClassificationAnnotation(\n",
    "    name = \"free_text\", \n",
    "    value = lb_types.Text(answer=\"sample text\")\n",
    ")\n",
    "\n",
    "#  NDJSON\n",
    "text_prediction_ndjson = {\n",
    "  'name': 'free_text',\n",
    "  'answer': 'sample text'\n",
    "}"
   ],
   "metadata": {
    "id": "ie2Zni_d6MI8"
   },
   "execution_count": 9,
   "outputs": []
  },
  {
   "cell_type": "markdown",
   "source": [
    "## Step 1: Import data rows into Catalog"
   ],
   "metadata": {
    "id": "U-o15yu9IPDo"
   }
  },
  {
   "cell_type": "code",
   "source": [
    "# send a sample image as batch to the project\n",
    "test_img_url = {\n",
    "    \"row_data\": \"https://storage.googleapis.com/labelbox-sample-datasets/nlp/lorem-ipsum.txt\",\n",
    "    \"global_key\": str(uuid.uuid4())\n",
    "}\n",
    "dataset = client.create_dataset(name=\"text_prediction_import\")\n",
    "data_row = dataset.create_data_row(test_img_url)\n",
    "print(data_row)"
   ],
   "metadata": {
    "id": "HjH9gTV8IBG9",
    "colab": {
     "base_uri": "https://localhost:8080/"
    },
    "outputId": "125b5130-5dd5-4e7f-8c53-f6da76359752"
   },
   "execution_count": 10,
   "outputs": [
    {
     "name": "stdout",
     "output_type": "stream",
     "text": [
      "<DataRow {\n",
      "    \"created_at\": \"2023-02-06 21:23:52+00:00\",\n",
      "    \"external_id\": null,\n",
      "    \"global_key\": \"201ec7a6-746b-4738-9451-78867f0052f5\",\n",
      "    \"media_attributes\": {},\n",
      "    \"metadata\": [],\n",
      "    \"metadata_fields\": [],\n",
      "    \"row_data\": \"https://storage.googleapis.com/labelbox-sample-datasets/nlp/lorem-ipsum.txt\",\n",
      "    \"uid\": \"cldtblvp615b107y8c28b5733\",\n",
      "    \"updated_at\": \"2023-02-06 21:23:52+00:00\"\n",
      "}>\n"
     ]
    }
   ]
  },
  {
   "cell_type": "markdown",
   "source": [
    "## Step 2: Create/select an Ontology for your model predictions\n",
    "Your project should have the correct ontology setup with all the tools and classifications supported for your annotations, and the tool names and classification instructions should match the name/instructions fields in your annotations to ensure the correct feature schemas are matched.\n"
   ],
   "metadata": {
    "id": "oy0umzuNIceP"
   }
  },
  {
   "cell_type": "code",
   "source": [
    "## Setup the ontology and link the tools created above.\n",
    "\n",
    "ontology_builder = lb.OntologyBuilder(\n",
    "  classifications=[ # List of Classification objects\n",
    "    lb.Classification(\n",
    "      class_type=lb.Classification.Type.RADIO,\n",
    "      instructions=\"radio_question\", \n",
    "      options=[lb.Option(value=\"first_radio_answer\")]\n",
    "    ),\n",
    "    lb.Classification(\n",
    "      class_type=lb.Classification.Type.RADIO,\n",
    "      instructions=\"radio_question_sub\", \n",
    "      options=[\n",
    "        lb.Option(value=\"first_radio_answer\",\n",
    "          options=[\n",
    "              lb.Classification(\n",
    "                class_type=lb.Classification.Type.RADIO,\n",
    "                instructions=\"sub_radio_question\",\n",
    "                options=[\n",
    "                  lb.Option(value=\"first_sub_radio_answer\")\n",
    "                ]\n",
    "            ),\n",
    "          ]\n",
    "        )\n",
    "      ],\n",
    "    ),\n",
    "    lb.Classification(\n",
    "      class_type=lb.Classification.Type.CHECKLIST,\n",
    "      instructions=\"checklist_question\", \n",
    "      options=[\n",
    "        lb.Option(value=\"first_checklist_answer\"),\n",
    "        lb.Option(value=\"second_checklist_answer\"),\n",
    "        lb.Option(value=\"third_checklist_answer\")\n",
    "      ]\n",
    "    ), \n",
    "     lb.Classification(\n",
    "      class_type=lb.Classification.Type.TEXT,\n",
    "      instructions=\"free_text\"\n",
    "    ),\n",
    "    lb.Classification(\n",
    "      class_type=lb.Classification.Type.CHECKLIST,\n",
    "      instructions=\"nested_checklist_question\",\n",
    "      options=[\n",
    "          lb.Option(\"first_checklist_answer\",\n",
    "            options=[\n",
    "              lb.Classification(\n",
    "                  class_type=lb.Classification.Type.CHECKLIST,\n",
    "                  instructions=\"sub_checklist_question\", \n",
    "                  options=[lb.Option(\"first_sub_checklist_answer\")]\n",
    "              )\n",
    "          ]\n",
    "        )\n",
    "      ]\n",
    "    )\n",
    "  ],\n",
    "  tools=[ # List of Tool objects\n",
    "         lb.Tool(tool=lb.Tool.Type.NER,\n",
    "              name=\"named_entity\")\n",
    "    ]\n",
    ")\n",
    "\n",
    "ontology = client.create_ontology(\"Ontology Text Predictions\", ontology_builder.asdict() , media_type=lb.MediaType.Text)\n"
   ],
   "metadata": {
    "id": "Kt4XWWqgIiWk"
   },
   "execution_count": 12,
   "outputs": []
  },
  {
   "cell_type": "markdown",
   "source": [
    "## Step 3: Create a Model and Model Run"
   ],
   "metadata": {
    "id": "ZjN8jxHvIvHP"
   }
  },
  {
   "cell_type": "code",
   "source": [
    "# create Model\n",
    "model = client.create_model(name=\"text_model_run_\"+ str(uuid.uuid4()), \n",
    "                            ontology_id=ontology.uid)\n",
    "# create Model Run\n",
    "model_run = model.create_model_run(\"iteration 1\")"
   ],
   "metadata": {
    "id": "8n-AvzdiOR6d"
   },
   "execution_count": 13,
   "outputs": []
  },
  {
   "cell_type": "markdown",
   "source": [
    "## Step 4: Send data rows to the Model Run"
   ],
   "metadata": {
    "id": "NX6L0axRJN5J"
   }
  },
  {
   "cell_type": "code",
   "source": [
    "model_run.upsert_data_rows([data_row.uid])"
   ],
   "metadata": {
    "id": "6sngCgIwJSae",
    "colab": {
     "base_uri": "https://localhost:8080/"
    },
    "outputId": "d2a3efb9-f848-4041-e930-0c8ce8dcdc01"
   },
   "execution_count": 14,
   "outputs": [
    {
     "data": {
      "text/plain": "True"
     },
     "execution_count": 14,
     "metadata": {},
     "output_type": "execute_result"
    }
   ]
  },
  {
   "cell_type": "markdown",
   "source": [
    "## Step 5. Create the predictions payload\n",
    "\n",
    "Create the prediction payload using the snippets of code in the **Supported Predcitions** section\n",
    "\n",
    "Labelbox support two formats for the annotations payload: NDJSON and Python Annotation types. Both are described below to compose your annotations into Labels attached to the data rows.\n",
    "\n",
    "The resulting label_ndjson should have exactly the same content for annotations that are supported by both (with exception of the uuid strings that are generated)"
   ],
   "metadata": {
    "id": "6FZyvnrqSGuc"
   }
  },
  {
   "cell_type": "code",
   "source": [
    "# Create a Label for predictions\n",
    "label_prediction = lb_types.Label(\n",
    "    data=lb_types.TextData(uid=data_row.uid),\n",
    "    annotations = [\n",
    "      entities_prediction, \n",
    "      radio_prediction, \n",
    "      checklist_prediction,\n",
    "      text_prediction\n",
    "    ]\n",
    ")\n",
    "\n",
    "# Create a label list \n",
    "label_list_prediction = [label_prediction]\n",
    "\n",
    "# Convert the prediction label from a Labelbox class object to the underlying NDJSON format required for upload - uploads can be directly built in this syntax as well\n",
    "ndjson_prediction = list(lb_serializers.NDJsonConverter.serialize(label_list_prediction))"
   ],
   "metadata": {
    "id": "zv2OLTXKSGWv"
   },
   "execution_count": 15,
   "outputs": []
  },
  {
   "cell_type": "markdown",
   "source": [
    "If using NDJSON: "
   ],
   "metadata": {
    "id": "YXdXkDcIV4bs"
   }
  },
  {
   "cell_type": "code",
   "source": [
    "ndjson_prediction_method2 = []\n",
    "for annot in [\n",
    "    entities_prediction_ndjson, \n",
    "    radio_prediction_ndjson, \n",
    "    nested_radio_prediction_ndjson,\n",
    "    checklist_prediction_ndjson,\n",
    "    text_prediction_ndjson, \n",
    "    nested_checklist_prediction_ndjson\n",
    "  ]:\n",
    "  annot.update({\n",
    "      'uuid': str(uuid.uuid4()),\n",
    "      'dataRow': {'id': data_row.uid},\n",
    "  })\n",
    "  ndjson_prediction_method2.append(annot)"
   ],
   "metadata": {
    "id": "F-Y7sSyAV3tn"
   },
   "execution_count": 16,
   "outputs": []
  },
  {
   "cell_type": "markdown",
   "source": [
    "## Step 6. Upload the predictions payload to the Model Run "
   ],
   "metadata": {
    "id": "viFHCnBeTD1Y"
   }
  },
  {
   "cell_type": "code",
   "source": [
    "# Upload the prediction label to the Model Run\n",
    "upload_job_prediction = model_run.add_predictions(\n",
    "    name=\"prediction_upload_job\"+str(uuid.uuid4()),\n",
    "    predictions=ndjson_prediction_method2)\n",
    "\n",
    "# Errors will appear for annotation uploads that failed.\n",
    "print(\"Errors:\", upload_job_prediction.errors)\n",
    "print(\" \")"
   ],
   "metadata": {
    "id": "uCI8pLTITQNG",
    "colab": {
     "base_uri": "https://localhost:8080/"
    },
    "outputId": "3829ae1e-3cd1-4619-9a25-73d7c2c1952c"
   },
   "execution_count": 17,
   "outputs": [
    {
     "name": "stdout",
     "output_type": "stream",
     "text": [
      "Errors: []\n",
      " \n"
     ]
    }
   ]
  },
  {
   "cell_type": "markdown",
   "source": [
    "## Step 7: Send annotations to the Model Run \n",
    "To send annotations to a Model Run, we must first import them into a project, create a label payload and then send them to the Model Run."
   ],
   "metadata": {
    "id": "T-ZHWWI3JgmX"
   }
  },
  {
   "cell_type": "markdown",
   "source": [
    "##### 7.1. Create a labelbox project"
   ],
   "metadata": {
    "id": "CYRiqHr2O_aL"
   }
  },
  {
   "cell_type": "code",
   "source": [
    "# Create a Labelbox project\n",
    "project = client.create_project(name=\"Text Prediction Import\",\n",
    "                                    # Quality Settings setup \n",
    "                                    auto_audit_percentage=1,\n",
    "                                    auto_audit_number_of_labels=1,\n",
    "                                    media_type=lb.MediaType.Text)\n",
    "project.setup_editor(ontology)"
   ],
   "metadata": {
    "id": "jEtoDiDrPFvI"
   },
   "execution_count": 18,
   "outputs": [
    {
     "name": "stderr",
     "output_type": "stream",
     "text": [
      "Default createProject behavior will soon be adjusted to prefer batch projects. Pass in `queue_mode` parameter explicitly to opt-out for the time being.\n"
     ]
    }
   ]
  },
  {
   "cell_type": "markdown",
   "source": [
    "##### 7.2. Create a batch to send to the project "
   ],
   "metadata": {
    "id": "7FEyC-nBPPuD"
   }
  },
  {
   "cell_type": "code",
   "source": [
    "project.create_batch(\n",
    "  \"batch_text_prediction_demo\", # Each batch in a project must have a unique name\n",
    "  dataset.export_data_rows(), # A list of data rows or data row ids\n",
    "  5 # priority between 1(Highest) - 5(lowest)\n",
    ")"
   ],
   "metadata": {
    "id": "WRr5tdVEPXXy",
    "colab": {
     "base_uri": "https://localhost:8080/"
    },
    "outputId": "cf36bc23-3f88-4820-a682-8cd3d152d426",
    "pycharm": {
     "is_executing": true
    }
   },
   "execution_count": null,
   "outputs": []
  },
  {
   "cell_type": "markdown",
   "source": [
    "##### 7.3 Create the annotations payload"
   ],
   "metadata": {
    "id": "FTGAI730UlZ3"
   }
  },
  {
   "cell_type": "code",
   "source": [
    "entities_ndjson = { \n",
    "    \"name\": \"named_entity\",\n",
    "    \"location\": { \n",
    "        \"start\": 67, \n",
    "        \"end\": 128 \n",
    "    }\n",
    "}\n",
    "\n",
    "radio_annotation_ndjson = {\n",
    "  \"name\": \"radio_question\",\n",
    "  \"answer\": {\"name\": \"first_radio_answer\"}\n",
    "} \n",
    "\n",
    "radio_annotation_ndjson_with_subclass = {\n",
    "  \"name\": \"radio_question_sub\",\n",
    "  \"answer\": {\n",
    "      \"name\": \"first_radio_answer\",\n",
    "      \"classifications\": [{\n",
    "          \"name\":\"sub_radio_question\",\n",
    "          \"answer\": { \"name\" : \"first_sub_radio_answer\"}\n",
    "        }]\n",
    "    }\n",
    "}\n",
    "\n",
    "checklist_annotation_ndjson = {\n",
    "  \"name\": \"checklist_question\",\n",
    "  \"answer\": [\n",
    "    {\"name\": \"first_checklist_answer\"},\n",
    "    {\"name\": \"second_checklist_answer\"},\n",
    "    {\"name\": \"third_checklist_answer\"},\n",
    "  ]\n",
    "}\n",
    "\n",
    "text_annotation_ndjson = {\n",
    "  \"name\": \"free_text\",\n",
    "  \"answer\": \"sample text\",\n",
    "}\n",
    "\n",
    "nested_checklist_prediction_ndjson = {\n",
    "  \"name\": \"nested_checklist_question\",\n",
    "  \"answer\": [{\n",
    "      \"name\": \"first_checklist_answer\", \n",
    "      \"classifications\" : [\n",
    "        {\n",
    "          \"name\": \"sub_checklist_question\", \n",
    "          \"answer\": {\"name\": \"first_sub_checklist_answer\"}\n",
    "        }          \n",
    "      ]         \n",
    "  }]\n",
    "}"
   ],
   "metadata": {
    "id": "A8_HVvu9Uvfl"
   },
   "execution_count": null,
   "outputs": []
  },
  {
   "cell_type": "markdown",
   "source": [
    "##### 7.4. Create the label object"
   ],
   "metadata": {
    "id": "8QwmguFvPltl"
   }
  },
  {
   "cell_type": "code",
   "source": [
    "# Create a Label object by identifying the applicable data row in Labelbox and providing a list of annotations\n",
    "ndjson_annotation = []\n",
    "for annot in [\n",
    "    entities_ndjson, \n",
    "    radio_annotation_ndjson,  \n",
    "    radio_annotation_ndjson_with_subclass,\n",
    "    checklist_annotation_ndjson,\n",
    "    text_annotation_ndjson,\n",
    "    nested_checklist_prediction_ndjson    \n",
    "  ]:\n",
    "  annot.update({\n",
    "      'uuid': str(uuid.uuid4()),\n",
    "      'dataRow': {'id': data_row.uid},\n",
    "  })\n",
    "  ndjson_annotation.append(annot)"
   ],
   "metadata": {
    "id": "9gD_alThQA3G"
   },
   "execution_count": null,
   "outputs": []
  },
  {
   "cell_type": "markdown",
   "source": [
    "##### 7.5. Upload annotations to the project using Label Import"
   ],
   "metadata": {
    "id": "nGVNQlvPQ-kF"
   }
  },
  {
   "cell_type": "code",
   "source": [
    "upload_job_annotation = lb.LabelImport.create_from_objects(\n",
    "    client = client,\n",
    "    project_id = project.uid,\n",
    "    name=\"text_label_import_job\"+ str(uuid.uuid4()),\n",
    "    labels=ndjson_annotation)\n",
    "\n",
    "upload_job_annotation.wait_until_done()\n",
    "# Errors will appear for annotation uploads that failed.\n",
    "print(\"Errors:\", upload_job_annotation.errors)\n"
   ],
   "metadata": {
    "id": "HYh9AzrlRYX-",
    "colab": {
     "base_uri": "https://localhost:8080/"
    },
    "outputId": "df994b08-d6c9-4699-bf3c-bd28ab6372e5"
   },
   "execution_count": null,
   "outputs": []
  },
  {
   "cell_type": "markdown",
   "source": [
    "##### 7.6 Send the annotations to the Model Run"
   ],
   "metadata": {
    "id": "Y3rgM-5cRrxM"
   }
  },
  {
   "cell_type": "code",
   "source": [
    "# get the labels id from the project\n",
    "label_ids = [x['ID'] for x in project.export_labels(download=True)]\n",
    "model_run.upsert_labels(label_ids)"
   ],
   "metadata": {
    "id": "i2BrS8CcSBzo",
    "colab": {
     "base_uri": "https://localhost:8080/"
    },
    "outputId": "3440e9fc-2c51-48d6-f17b-095406abe49f"
   },
   "execution_count": null,
   "outputs": []
  },
  {
   "cell_type": "markdown",
   "source": [
    "## Optional deletions for cleanup \n"
   ],
   "metadata": {
    "id": "DMtOfWWDWFbJ"
   }
  },
  {
   "cell_type": "code",
   "source": [
    "# project.delete()\n",
    "# dataset.delete()"
   ],
   "metadata": {
    "id": "aAhkyvJlWK1p"
   },
   "execution_count": 53,
   "outputs": []
  }
 ]
}
