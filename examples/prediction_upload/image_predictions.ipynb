{
  "cells": [
    {
      "cell_type": "markdown",
      "metadata": {
        "id": "a6a048e8-b5fe-418b-aec4-829b5b6802e5"
      },
      "source": [
        "<td>\n",
        "   <a target=\"_blank\" href=\"https://labelbox.com\" ><img src=\"https://labelbox.com/blog/content/images/2021/02/logo-v4.svg\" width=256/></a>\n",
        "</td>"
      ]
    },
    {
      "cell_type": "markdown",
      "metadata": {
        "id": "51cf1362-1cde-4749-aac7-5fb94473baa7"
      },
      "source": [
        "\n",
        "<td>\n",
        "<a href=\"https://colab.research.google.com/github/Labelbox/labelbox-python/blob/develop/examples/prediction_upload/image_predictions.ipynb\" target=\"_blank\"><img\n",
        "src=\"https://colab.research.google.com/assets/colab-badge.svg\" alt=\"Open In Colab\"></a>\n",
        "</td>\n",
        "\n",
        "<td>\n",
        "<a href=\"https://github.com/Labelbox/labelbox-python/blob/develop/examples/prediction_upload/image_predictions.ipynb\" target=\"_blank\"><img\n",
        "src=\"https://img.shields.io/badge/GitHub-100000?logo=github&logoColor=white\" alt=\"GitHub\"></a>\n",
        "</td>"
      ]
    },
    {
      "cell_type": "markdown",
      "metadata": {
        "id": "9znxMjDYGi0Y"
      },
      "source": [
        "# Image Prediction Import\n",
        "\n",
        "* This notebook walks you through the process of uploading model predictions to a Model Run. This notebook provides an example for each supported prediction type for image assets. \n",
        "\n",
        "A Model Run is a container for the predictions, annotations and metrics of a specific experiment in your ML model development cycle.\n",
        "\n",
        "**Supported annotations that can be uploaded through the SDK**\n",
        "\n",
        "- Bounding box \n",
        "- Polygon\n",
        "- Point\n",
        "- Polyline \n",
        "- Classification free-text\n",
        "- Classification - radio\n",
        "- Classification - checklist\n",
        "\n",
        "\n"
      ]
    },
    {
      "cell_type": "markdown",
      "metadata": {
        "id": "8uOiTLI413Kj"
      },
      "source": [
        "* Notes:\n",
        "    * If you are importing more than 1,000 mask predictions at a time, consider submitting separate jobs, as they can take longer than other prediction types to import.\n",
        "    * After the execution of this notebook a complete Model Run with predictions will be created in your organization. "
      ]
    },
    {
      "cell_type": "markdown",
      "metadata": {
        "id": "UtJHIuE8HDRI"
      },
      "source": [
        "## Setup"
      ]
    },
    {
      "cell_type": "code",
      "execution_count": 36,
      "metadata": {
        "id": "cm8xMaLbGb7v"
      },
      "outputs": [],
      "source": [
        "!pip install -q 'labelbox[data]'"
      ]
    },
    {
      "cell_type": "code",
      "execution_count": 37,
      "metadata": {
        "id": "NIq-6M9kHKSs"
      },
      "outputs": [],
      "source": [
        "from labelbox.schema.ontology import OntologyBuilder, Tool, Classification, Option\n",
        "from labelbox import Client, MALPredictionImport, LabelImport\n",
        "from labelbox.data.serialization import NDJsonConverter\n",
        "from labelbox.schema.media_type import MediaType\n",
        "from labelbox.data.annotation_types import (\n",
        "    Label, ImageData, ObjectAnnotation, MaskData,\n",
        "    Rectangle, Point, Line, Mask, Polygon,\n",
        "    Radio, Checklist, Text,\n",
        "    ClassificationAnnotation, ClassificationAnswer\n",
        ")\n",
        "import uuid\n",
        "import numpy as np\n",
        "from labelbox.schema.queue_mode import QueueMode"
      ]
    },
    {
      "cell_type": "markdown",
      "metadata": {
        "id": "pZ2rBqY8HQoe"
      },
      "source": [
        "## Replace with your API Key \n",
        "Guides on [Create an API key](https://docs.labelbox.com/docs/create-an-api-key)"
      ]
    },
    {
      "cell_type": "code",
      "execution_count": 38,
      "metadata": {
        "id": "z7ZLKLYLHP__"
      },
      "outputs": [],
      "source": [
        "API_KEY = None\n",
        "client = Client(API_KEY)"
      ]
    },
    {
      "cell_type": "markdown",
      "metadata": {
        "id": "OePiibbed0nG"
      },
      "source": [
        "## Supported Predictions"
      ]
    },
    {
      "cell_type": "code",
      "execution_count": 39,
      "metadata": {
        "id": "v5wL6oojz9Ge"
      },
      "outputs": [],
      "source": [
        "########### Radio Classification ###########\n",
        "\n",
        "# Python annotation\n",
        "radio_prediction = ClassificationAnnotation(\n",
        "    name=\"radio_question\", \n",
        "    value=Radio(answer = ClassificationAnswer(name = \"second_radio_answer\", confidence=0.5))\n",
        ")\n",
        "\n",
        "# NDJSON\n",
        "radio_prediction_ndjson = {\n",
        "  'name': 'radio_question',\n",
        "  'answer': {'name': 'second_radio_answer', 'confidence': 0.5}\n",
        "} "
      ]
    },
    {
      "cell_type": "code",
      "execution_count": 40,
      "metadata": {
        "id": "I75K-wx7_sDs"
      },
      "outputs": [],
      "source": [
        "########## Nested Classifications are only supported with NDJSON tools ##########\n",
        "\n",
        "nested_radio_prediction_ndjson = {\n",
        "  \"name\": \"nested_radio_question\",\n",
        "  \"confidence\": 0.5 ,\n",
        "  \"answer\": { \"name\": \"first_radio_answer\", \"confidence\": 0.5 },\n",
        "      \"classifications\" : [\n",
        "      {\n",
        "        \"name\": \"sub_radio_question\", \n",
        "        \"answer\": {\"name\": \"first_sub_radio_answer\", \"confidence\": 0.5 }\n",
        "      }\n",
        "    ]\n",
        "}\n",
        "\n",
        "\n",
        "nested_checklist_prediction_ndjson = {\n",
        "  \"name\": \"nested_checklist_question\",\n",
        "  \"confidence\": 0.5 ,\n",
        "  \"answer\": [{\n",
        "      \"name\": \"first_checklist_answer\", \n",
        "      \"confidence\": 0.5,\n",
        "      \"classifications\" : [\n",
        "        {\n",
        "          \"name\": \"sub_checklist_question\", \n",
        "          \"answer\": {\"name\": \"first_sub_checklist_answer\", \"confidence\": 0.5 }\n",
        "        }          \n",
        "      ]         \n",
        "  }]\n",
        "}\n",
        "\n"
      ]
    },
    {
      "cell_type": "code",
      "execution_count": 41,
      "metadata": {
        "id": "b2UjSoYez9I1"
      },
      "outputs": [],
      "source": [
        "############ Checklist ############\n",
        "\n",
        "# Python Annotations\n",
        "checklist_prediction = ClassificationAnnotation(\n",
        "  name=\"checklist_question\", # must match your ontology feature's name\n",
        "  value=Checklist(\n",
        "      answer = [\n",
        "        ClassificationAnswer(\n",
        "            name = \"first_checklist_answer\", \n",
        "            confidence=0.5\n",
        "        ), \n",
        "        ClassificationAnswer(\n",
        "            name = \"second_checklist_answer\", \n",
        "            confidence=0.5\n",
        "        )\n",
        "      ]\n",
        "    )\n",
        " )\n",
        "\n",
        "# NDJSON\n",
        "checklist_prediction_ndjson = {\n",
        "  'name': 'checklist_question',\n",
        "  'answer': [\n",
        "    {'name': 'first_checklist_answer' , 'confidence': 0.5},\n",
        "    {'name': 'second_checklist_answer', 'confidence': 0.5}\n",
        "  ]\n",
        "}"
      ]
    },
    {
      "cell_type": "code",
      "execution_count": 42,
      "metadata": {
        "id": "xCU4JRP0z9Nh"
      },
      "outputs": [],
      "source": [
        "####### Bounding box #######\n",
        "\n",
        "\n",
        "# Python Annotation \n",
        "bbox_prediction = ObjectAnnotation(\n",
        "  name = \"bounding_box\",  # must match your ontology feature's name\n",
        "  confidence=0.5, \n",
        "  value=Rectangle(\n",
        "        start=Point(x=977, y=1690), # Top left\n",
        "        end=Point(x=330, y=225), # Bottom right\n",
        "    ),\n",
        "  \n",
        ")\n",
        "\n",
        "#NDJSON \n",
        "bbox_prediction_ndjson = {\n",
        "  'name': 'bounding_box', \n",
        "  'confidence': 0.5,\n",
        "  'bbox': {\n",
        "          \"top\": 977,\n",
        "          \"left\": 1690,\n",
        "          \"height\": 330,\n",
        "          \"width\": 225\n",
        "      }\n",
        "}\n"
      ]
    },
    {
      "cell_type": "code",
      "execution_count": 43,
      "metadata": {
        "id": "gAIzsxEjLmhv"
      },
      "outputs": [],
      "source": [
        "####### Bounding box with nested classification #######\n",
        "bbox_with_radio_subclass_prediction = ObjectAnnotation(\n",
        "    name=\"bbox_with_radio_subclass\",\n",
        "    confidence=0.5, # must match your ontology feature's name\n",
        "    value=Rectangle(\n",
        "        start=Point(x=933, y=541), # Top left\n",
        "        end=Point(x=191, y=330), # Bottom right\n",
        "    ),\n",
        "    classifications=[\n",
        "    \tClassificationAnnotation(\n",
        "        \tname=\"sub_radio_question\",\n",
        "      \t\tvalue=Radio(answer=ClassificationAnswer(name=\"first_sub_radio_answer\", confidence=0.5))\n",
        "    )\n",
        "  ]\n",
        ")\n",
        "\n",
        "\n",
        "## NDJSON\n",
        "bbox_with_radio_subclass_prediction_ndjson = {\n",
        "    \"name\": \"bbox_with_radio_subclass\", \n",
        "    \"confidence\": 0.5,\n",
        "    \"classifications\": [{\n",
        "        \"name\": \"sub_radio_question\",\n",
        "        \"confidence\": 0.5,\n",
        "        \"answer\": \n",
        "            { \"name\":\"first_sub_radio_answer\", \"confidence\": 0.5}\n",
        "         \n",
        "    }],\n",
        "    \"bbox\": {\n",
        "          \"top\": 933,\n",
        "          \"left\": 541,\n",
        "          \"height\": 191,\n",
        "          \"width\": 330\n",
        "        }\n",
        "}"
      ]
    },
    {
      "cell_type": "code",
      "execution_count": 44,
      "metadata": {
        "id": "jRwfE4MFz9Ph"
      },
      "outputs": [],
      "source": [
        "########## Polygon ##########\n",
        "# Python Anotation \n",
        "polygon_prediction = ObjectAnnotation(\n",
        "  name = \"polygon\",  # must match your ontology feature's name \n",
        "  confidence = 0.5, \n",
        "  value=Polygon( # Coordinates for the verticies of your polygon\n",
        "        points=[Point(x=1489.581,y=183.934),Point(x=2278.306,y=256.885),Point(x=2428.197,y=200.437),Point(x=2560.0,y=335.419),\n",
        "                Point(x=2557.386,y=503.165),Point(x=2320.596,y=503.103),Point(x=2156.083, y=628.943),Point(x=2161.111,y=785.519),\n",
        "                Point(x=2002.115, y=894.647),Point(x=1838.456,y=877.874),Point(x=1436.53,y=874.636),Point(x=1411.403,y=758.579),\n",
        "                Point(x=1353.853,y=751.74),Point(x=1345.264, y=453.461),Point(x=1426.011,y=421.129)]\n",
        "    ),\n",
        ")\n",
        "\n",
        "\n",
        "# NDJSON\n",
        "\n",
        "polygon_prediction_ndjson = {\n",
        "  'name': 'polygon',\n",
        "  'confidence': 0.5,\n",
        "  'polygon': [\n",
        "    {'x': 1489.581, 'y': 183.934},\n",
        "    {'x': 2278.306, 'y': 256.885},\n",
        "    {'x': 2428.197, 'y': 200.437},\n",
        "    {'x': 2560.0, 'y': 335.419},\n",
        "    {'x': 2557.386, 'y': 503.165},\n",
        "    {'x': 2320.596, 'y': 503.103},\n",
        "    {'x': 2156.083, 'y': 628.943},\n",
        "    {'x': 2161.111, 'y': 785.519},\n",
        "    {'x': 2002.115, 'y': 894.647},\n",
        "    {'x': 1838.456, 'y': 877.874},\n",
        "    {'x': 1436.53, 'y': 874.636},\n",
        "    {'x': 1411.403, 'y': 758.579},\n",
        "    {'x': 1353.853, 'y': 751.74},\n",
        "    {'x': 1345.264, 'y': 453.461},\n",
        "    {'x': 1426.011, 'y': 421.129},\n",
        "    {'x': 1489.581, 'y': 183.934}\n",
        "  ]\n",
        "}"
      ]
    },
    {
      "cell_type": "code",
      "execution_count": 45,
      "metadata": {
        "id": "PBB37YpWTiVR"
      },
      "outputs": [],
      "source": [
        "####### Free text #######\n",
        "# Confidence is not supported for text prediction\n",
        "# Python annotation\n",
        "text_annotation = ClassificationAnnotation(\n",
        "  name=\"free_text\",  # must match your ontology feature's name\n",
        "  value=Text(answer=\"sample text\")\n",
        ")\n",
        "\n",
        "# NDJSON\n",
        "text_annotation_ndjson = {\n",
        "  'name': 'free_text',\n",
        "  'answer': 'sample text',\n",
        "}"
      ]
    },
    {
      "cell_type": "code",
      "execution_count": 46,
      "metadata": {
        "id": "39vz-tYsz9Ry"
      },
      "outputs": [],
      "source": [
        "######### Segmentation mask #########\n",
        "\n",
        "# Python \n",
        "# Identifying what values in the numpy array correspond to the mask annotation\n",
        "color = (0, 0, 0)\n",
        "\n",
        "# convert a polygon to mask\n",
        "im_height, im_width = 100,100 #need to provide the height and width of image.\n",
        "mask_data = MaskData(arr=\n",
        "                     polygon_prediction.value.draw(height=im_height,width=im_width,color=color))\n",
        "\n",
        "# convert a 2D array to 3D array\n",
        "arr_2d = np.zeros((100,100), dtype='uint8')\n",
        "mask_data = MaskData.from_2D_arr(arr_2d)\n",
        "\n",
        "# a 3D array where 3rd axis is RGB values.\n",
        "mask_data = MaskData(arr= np.zeros([400,450,3],dtype='uint8'))\n",
        "\n",
        "mask_prediction = ObjectAnnotation(\n",
        "  name = \"mask\", # must match your ontology feature's name\n",
        "  confidence=0.5,\n",
        "  value=Mask(mask=mask_data, color=color),\n",
        ")\n",
        "\n",
        "\n",
        "# NDJSON\n",
        "mask_prediction_ndjson = {\n",
        "  'name': 'mask',\n",
        "  'confidence': 0.5,\n",
        "  'classifications': [],\n",
        "  'mask': {'instanceURI': 'https://storage.labelbox.com/cjhfn5y6s0pk507024nz1ocys%2F1d60856c-59b7-3060-2754-83f7e93e0d01-1?Expires=1666901963361&KeyName=labelbox-assets-key-3&Signature=t-2s2DB4YjFuWEFak0wxYqfBfZA',\n",
        "  'colorRGB': (0, 0, 0)}\n",
        "}\n",
        "\n"
      ]
    },
    {
      "cell_type": "code",
      "execution_count": 47,
      "metadata": {
        "id": "UelSiWN2z9Tg"
      },
      "outputs": [],
      "source": [
        "######## Point ########\n",
        "\n",
        "# Python Annotation\n",
        "point_prediction = ObjectAnnotation(\n",
        "  name = \"point\",  # must match your ontology feature's name\n",
        "  confidence=0.5,\n",
        "  value = Point(x=1166.606, y=1441.768),\n",
        ")\n",
        "\n",
        "\n",
        "# NDJSON\n",
        "point_prediction_ndjson = {\n",
        "  'name': 'point',\n",
        "  'confidence': 0.5,\n",
        "  'classifications': [],\n",
        "  'point': {'x': 1166.606, 'y': 1441.768}\n",
        "}"
      ]
    },
    {
      "cell_type": "code",
      "execution_count": 48,
      "metadata": {
        "id": "mrjb8qY3z9VY"
      },
      "outputs": [],
      "source": [
        "###### Polyline ######\n",
        "\n",
        "\n",
        "# Python Annotation \n",
        "\n",
        "polyline_prediction = ObjectAnnotation(\n",
        "  name = \"polyline\", # must match your ontology feature's name\n",
        "  confidence=0.5, ## Not supported for python annotation tools\n",
        "  value=Line( # Coordinates for the keypoints in your polyline\n",
        "        points=[Point(x=2534.353, y=249.471),Point(x=2429.492, y=182.092),Point(x=2294.322, y=221.962),Point(x=2224.491, y=180.463),Point(x=2136.123, y=204.716),\n",
        "                Point(x=1712.247, y=173.949),Point(x=1703.838, y=84.438),Point(x=1579.772, y=82.61),Point(x=1583.442, y=167.552),\n",
        "                Point(x=1478.869, y=164.903),Point(x=1418.941, y=318.149),Point(x=1243.128, y=400.815),Point(x=1022.067, y=319.007),\n",
        "                Point(x=892.367, y=379.216),Point(x=670.273, y=364.408),Point(x=613.114, y=288.16),Point(x=377.559, y=238.251),\n",
        "                Point(x=368.087, y=185.064),Point(x=246.557, y=167.286),Point(x=236.648, y=285.61),Point(x=90.929, y=326.412)]\n",
        "    ),\n",
        ")\n",
        "\n",
        "# NDJSON\n",
        "polyline_prediction_ndjson = {\n",
        "  'name': 'polyline',\n",
        "  'confidence':0.5,\n",
        "  'classifications': [],\n",
        "  'line': [\n",
        "    {'x': 2534.353, 'y': 249.471},\n",
        "    {'x': 2429.492, 'y': 182.092},\n",
        "    {'x': 2294.322, 'y': 221.962},\n",
        "    {'x': 2224.491, 'y': 180.463},\n",
        "    {'x': 2136.123, 'y': 204.716},\n",
        "    {'x': 1712.247, 'y': 173.949},\n",
        "    {'x': 1703.838, 'y': 84.438},\n",
        "    {'x': 1579.772, 'y': 82.61},\n",
        "    {'x': 1583.442, 'y': 167.552},\n",
        "    {'x': 1478.869, 'y': 164.903},\n",
        "    {'x': 1418.941, 'y': 318.149},\n",
        "    {'x': 1243.128, 'y': 400.815},\n",
        "    {'x': 1022.067, 'y': 319.007},\n",
        "    {'x': 892.367, 'y': 379.216},\n",
        "    {'x': 670.273, 'y': 364.408},\n",
        "    {'x': 613.114, 'y': 288.16},\n",
        "    {'x': 377.559, 'y': 238.251},\n",
        "    {'x': 368.087, 'y': 185.064},\n",
        "    {'x': 246.557, 'y': 167.286},\n",
        "    {'x': 236.648, 'y': 285.61},\n",
        "    {'x': 90.929, 'y': 326.412}\n",
        "  ]\n",
        "}\n"
      ]
    },
    {
      "cell_type": "markdown",
      "metadata": {
        "id": "U-o15yu9IPDo"
      },
      "source": [
        "## Step 1: Import data rows into Catalog"
      ]
    },
    {
      "cell_type": "code",
      "execution_count": 49,
      "metadata": {
        "colab": {
          "base_uri": "https://localhost:8080/"
        },
        "id": "HjH9gTV8IBG9",
        "outputId": "800b120e-c41e-4f6f-a509-8d089f3e20bc"
      },
      "outputs": [
        {
          "name": "stdout",
          "output_type": "stream",
          "text": [
            "<DataRow {\n",
            "    \"created_at\": \"2023-01-26 16:10:47+00:00\",\n",
            "    \"external_id\": null,\n",
            "    \"global_key\": \"4a9bf938-e909-4dd7-81cb-6ae1461f858e\",\n",
            "    \"media_attributes\": {},\n",
            "    \"metadata\": [],\n",
            "    \"metadata_fields\": [],\n",
            "    \"row_data\": \"https://raw.githubusercontent.com/Labelbox/labelbox-python/develop/examples/assets/2560px-Kitano_Street_Kobe01s5s4110.jpg\",\n",
            "    \"uid\": \"clddakvq40ph107z26i0uambt\",\n",
            "    \"updated_at\": \"2023-01-26 16:10:47+00:00\"\n",
            "}>\n"
          ]
        }
      ],
      "source": [
        "# send a sample image as batch to the project\n",
        "test_img_url = {\n",
        "    \"row_data\": \"https://storage.googleapis.com/labelbox-datasets/image_sample_data/2560px-Kitano_Street_Kobe01s5s4110.jpeg\",\n",
        "    \"global_key\": str(uuid.uuid4())\n",
        "}\n",
        "dataset = client.create_dataset(name=\"image_prediction_demo\")\n",
        "data_row = dataset.create_data_row(test_img_url)\n",
        "print(data_row)"
      ]
    },
    {
      "attachments": {},
      "cell_type": "markdown",
      "metadata": {
        "id": "oy0umzuNIceP"
      },
      "source": [
        "## Step 2: Create/select an Ontology for your model predictions\n",
        "Your project should have the correct ontology setup with all the tools and classifications supported for your annotations, and the tool and classification names should match the `name` field in your annotations to ensure the correct feature schemas are matched.\n"
      ]
    },
    {
      "cell_type": "code",
      "execution_count": 50,
      "metadata": {
        "id": "Kt4XWWqgIiWk"
      },
      "outputs": [],
      "source": [
        "ontology_builder = OntologyBuilder(\n",
        "  classifications=[ # List of Classification objects\n",
        "    Classification( # Radio classification given the name \"text\" with two options: \"first_radio_answer\" and \"second_radio_answer\"\n",
        "      class_type=Classification.Type.RADIO, \n",
        "      name=\"radio_question\", \n",
        "      options=[\n",
        "        Option(value=\"first_radio_answer\"),\n",
        "        Option(value=\"second_radio_answer\")\n",
        "      ]\n",
        "    ),\n",
        "    Classification( # Checklist classification given the name \"text\" with two options: \"first_checklist_answer\" and \"second_checklist_answer\"\n",
        "      class_type=Classification.Type.CHECKLIST, \n",
        "      name=\"checklist_question\", \n",
        "      options=[\n",
        "        Option(value=\"first_checklist_answer\"),\n",
        "        Option(value=\"second_checklist_answer\")            \n",
        "      ]\n",
        "    ), \n",
        "    Classification( # Text classification given the name \"text\"\n",
        "      class_type=Classification.Type.TEXT,\n",
        "      name=\"free_text\"\n",
        "    ),\n",
        "    Classification(\n",
        "        class_type=Classification.Type.RADIO, \n",
        "        name=\"nested_radio_question\",\n",
        "        options=[\n",
        "            Option(\"first_radio_answer\",\n",
        "                options=[\n",
        "                    Classification(\n",
        "                        class_type=Classification.Type.RADIO,\n",
        "                        name=\"sub_radio_question\",\n",
        "                        options=[Option(\"first_sub_radio_answer\")]\n",
        "                    )\n",
        "                ]\n",
        "            )\n",
        "          ] \n",
        "        ),\n",
        "    Classification(\n",
        "      class_type=Classification.Type.CHECKLIST, \n",
        "      name=\"nested_checklist_question\",\n",
        "      options=[\n",
        "          Option(\"first_checklist_answer\",\n",
        "            options=[\n",
        "              Classification(\n",
        "                  class_type=Classification.Type.CHECKLIST, \n",
        "                  name=\"sub_checklist_question\", \n",
        "                  options=[Option(\"first_sub_checklist_answer\")]\n",
        "              )\n",
        "          ]\n",
        "        )\n",
        "      ]\n",
        "    ),      \n",
        "  ],\n",
        "  tools=[ # List of Tool objects\n",
        "    Tool( # Bounding Box tool given the name \"box\"\n",
        "      tool=Tool.Type.BBOX, \n",
        "      name=\"bounding_box\"), \n",
        "    Tool( # Bounding Box tool given the name \"box\"\n",
        "      tool=Tool.Type.BBOX, \n",
        "      name=\"bbox_with_radio_subclass\",\n",
        "      classifications=[\n",
        "            Classification(\n",
        "                class_type=Classification.Type.RADIO,\n",
        "                name=\"sub_radio_question\",\n",
        "                options=[\n",
        "                  Option(value=\"first_sub_radio_answer\")\n",
        "                ]\n",
        "              ),\n",
        "        ]\n",
        "      ), \n",
        "    Tool( # Polygon tool given the name \"polygon\"\n",
        "      tool=Tool.Type.POLYGON, \n",
        "      name=\"polygon\"),\n",
        "    Tool( # Segmentation mask tool given the name \"mask\"\n",
        "      tool=Tool.Type.SEGMENTATION, \n",
        "      name=\"mask\"),\n",
        " \t  Tool( # Point tool given the name \"point\"\n",
        "      tool=Tool.Type.POINT, \n",
        "      name=\"point\"), \n",
        "    Tool( # Polyline tool given the name \"line\"\n",
        "      tool=Tool.Type.LINE, \n",
        "      name=\"polyline\")]\n",
        ")\n",
        "\n",
        "ontology = client.create_ontology(\"Image Prediction Import Demo\", ontology_builder.asdict(), media_type=MediaType.Image)"
      ]
    },
    {
      "cell_type": "markdown",
      "metadata": {
        "id": "ZjN8jxHvIvHP"
      },
      "source": [
        "## Step 3: Create a Model and Model Run"
      ]
    },
    {
      "cell_type": "code",
      "execution_count": 51,
      "metadata": {
        "id": "8n-AvzdiOR6d"
      },
      "outputs": [],
      "source": [
        "# create Model\n",
        "model = client.create_model(name=\"image_model_run_\" + str(uuid.uuid4()),\n",
        "                            ontology_id=ontology.uid)\n",
        "# create Model Run\n",
        "model_run = model.create_model_run(\"iteration 1\")"
      ]
    },
    {
      "cell_type": "markdown",
      "metadata": {
        "id": "NX6L0axRJN5J"
      },
      "source": [
        "## Step 4: Send data rows to the Model Run"
      ]
    },
    {
      "cell_type": "code",
      "execution_count": 52,
      "metadata": {
        "colab": {
          "base_uri": "https://localhost:8080/"
        },
        "id": "6sngCgIwJSae",
        "outputId": "4eb2e619-1139-49c5-a9e7-d29838336c05"
      },
      "outputs": [
        {
          "data": {
            "text/plain": [
              "True"
            ]
          },
          "execution_count": 52,
          "metadata": {},
          "output_type": "execute_result"
        }
      ],
      "source": [
        "model_run.upsert_data_rows([data_row.uid])"
      ]
    },
    {
      "cell_type": "markdown",
      "metadata": {
        "id": "6FZyvnrqSGuc"
      },
      "source": [
        "## Step 5. Create the predictions payload\n",
        "\n",
        "Create the prediction payload using the snippets of code in ***Supported Predictions*** section. \n",
        "\n",
        "The resulting label_ndjson should have exactly the same content for predictions that are supported by both (with exception of the uuid strings that are generated)"
      ]
    },
    {
      "cell_type": "code",
      "execution_count": 53,
      "metadata": {
        "id": "zv2OLTXKSGWv"
      },
      "outputs": [],
      "source": [
        "# Create a Label for predictions\n",
        "label_prediction = Label(\n",
        "    data=ImageData(uid=data_row.uid),\n",
        "    annotations = [\n",
        "      radio_prediction,\n",
        "      checklist_prediction, \n",
        "      bbox_prediction, \n",
        "      bbox_with_radio_subclass_prediction, \n",
        "      polygon_prediction, \n",
        "      mask_prediction, \n",
        "      point_prediction,\n",
        "      text_annotation\n",
        "      ]\n",
        ")\n",
        "\n",
        "# Create a label list \n",
        "label_list_prediction = [label_prediction]\n",
        "\n",
        "# Convert the prediction label from a Labelbox class object to the underlying NDJSON format required for upload - uploads can be directly built in this syntax as well\n",
        "ndjson_prediction = list(NDJsonConverter.serialize(label_list_prediction))"
      ]
    },
    {
      "cell_type": "markdown",
      "metadata": {
        "id": "HaIjOzZggv56"
      },
      "source": [
        "If using NDJSON"
      ]
    },
    {
      "cell_type": "code",
      "execution_count": 60,
      "metadata": {
        "id": "F-Y7sSyAV3tn"
      },
      "outputs": [],
      "source": [
        "\n",
        "ndjson_prediction_method2 = []\n",
        "for annot in [\n",
        "    radio_prediction_ndjson,\n",
        "    checklist_prediction_ndjson, \n",
        "    bbox_prediction_ndjson, \n",
        "    bbox_with_radio_subclass_prediction_ndjson, \n",
        "    polygon_prediction_ndjson, \n",
        "    mask_prediction_ndjson, \n",
        "    point_prediction_ndjson,\n",
        "    polyline_prediction_ndjson,\n",
        "    text_annotation_ndjson, \n",
        "    nested_radio_prediction_ndjson,\n",
        "    nested_checklist_prediction_ndjson\n",
        "    \n",
        "    \n",
        "]:\n",
        "  annot.update({\n",
        "      'uuid': str(uuid.uuid4()),\n",
        "      'dataRow': {'id': data_row.uid},\n",
        "  })\n",
        "  ndjson_prediction_method2.append(annot)"
      ]
    },
    {
      "cell_type": "markdown",
      "metadata": {
        "id": "viFHCnBeTD1Y"
      },
      "source": [
        "## Step 6. Upload the predictions payload to the Model Run "
      ]
    },
    {
      "cell_type": "code",
      "execution_count": 61,
      "metadata": {
        "colab": {
          "base_uri": "https://localhost:8080/"
        },
        "id": "0VN3ZRzyb4cl",
        "outputId": "c6ab8349-c327-49df-e3f6-00e06370c7e3"
      },
      "outputs": [
        {
          "name": "stdout",
          "output_type": "stream",
          "text": [
            "Errors: []\n"
          ]
        }
      ],
      "source": [
        "# Upload the prediction label to the Model Run\n",
        "upload_job_prediction = model_run.add_predictions(\n",
        "    name=\"prediction_upload_job\"+str(uuid.uuid4()),\n",
        "    predictions=ndjson_prediction_method2)\n",
        "\n",
        "# Errors will appear for prediction uploads that failed.\n",
        "print(\"Errors:\",  upload_job_prediction.errors)"
      ]
    },
    {
      "cell_type": "markdown",
      "metadata": {
        "id": "T-ZHWWI3JgmX"
      },
      "source": [
        "## Step 7: Send annotations to a model run\n",
        "To visualize both annotations and predictions in the model run we will create a project with ground truth annotations. \n",
        "To send annotations to a Model Run, we must first import them into a project, create a label payload and then send them to the Model Run."
      ]
    },
    {
      "cell_type": "markdown",
      "metadata": {
        "id": "CYRiqHr2O_aL"
      },
      "source": [
        "##### 7.1. Create a labelbox project"
      ]
    },
    {
      "cell_type": "code",
      "execution_count": 62,
      "metadata": {
        "id": "jEtoDiDrPFvI"
      },
      "outputs": [],
      "source": [
        "# Create a Labelbox project\n",
        "project = client.create_project(name=\"image_prediction_demo\",                                    \n",
        "                                    queue_mode=QueueMode.Batch,\n",
        "                                    # Quality Settings setup \n",
        "                                    auto_audit_percentage=1,\n",
        "                                    auto_audit_number_of_labels=1,\n",
        "                                    media_type=MediaType.Image)\n",
        "project.setup_editor(ontology)"
      ]
    },
    {
      "cell_type": "markdown",
      "metadata": {
        "id": "7FEyC-nBPPuD"
      },
      "source": [
        "##### 7.2. Create a batch to send to the project "
      ]
    },
    {
      "cell_type": "code",
      "execution_count": 63,
      "metadata": {
        "colab": {
          "base_uri": "https://localhost:8080/"
        },
        "id": "WRr5tdVEPXXy",
        "outputId": "262e1be8-3e43-42dd-ac99-e47378f9a705"
      },
      "outputs": [
        {
          "data": {
            "text/plain": [
              "<Batch ID: 8080aab0-9d94-11ed-a266-2379fc70a46f>"
            ]
          },
          "execution_count": 63,
          "metadata": {},
          "output_type": "execute_result"
        }
      ],
      "source": [
        "project.create_batch(\n",
        "  \"batch_predictions_demo\", # Each batch in a project must have a unique name\n",
        "  dataset.export_data_rows(), # A list of data rows or data row ids\n",
        "  5 # priority between 1(Highest) - 5(lowest)\n",
        ")"
      ]
    },
    {
      "cell_type": "markdown",
      "metadata": {
        "id": "FTGAI730UlZ3"
      },
      "source": [
        "##### 7.3 Create the annotations payload"
      ]
    },
    {
      "cell_type": "code",
      "execution_count": 64,
      "metadata": {
        "id": "A8_HVvu9Uvfl"
      },
      "outputs": [],
      "source": [
        "########### Annotations ###########\n",
        "radio_annotation_ndjson = {\n",
        "  'name': 'radio_question',\n",
        "  'answer': {'name': 'second_radio_answer'}\n",
        "} \n",
        "\n",
        "nested_radio_annotation_ndjson = {\n",
        "  \"name\": \"nested_radio_question\",\n",
        "  \"answer\": {\"name\": \"first_radio_answer\"},\n",
        "  \"classifications\" : [\n",
        "   {'name': 'sub_radio_question', 'answer': {'name': 'first_sub_radio_answer'}}\n",
        "   ]\n",
        "}\n",
        "\n",
        "checklist_annotation_ndjson = {\n",
        "  'name': 'checklist_question',\n",
        "  'answer': [\n",
        "    {'name': 'first_checklist_answer'},\n",
        "    {'name': 'second_checklist_answer'}\n",
        "  ]\n",
        "}\n",
        "\n",
        "bbox_annotation_ndjson = {\n",
        "  'name': 'bounding_box',\n",
        "  'bbox': {\n",
        "          \"top\": 977,\n",
        "          \"left\": 1690,\n",
        "          \"height\": 330,\n",
        "          \"width\": 225\n",
        "      }\n",
        "}\n",
        "\n",
        "bbox_with_radio_subclass_ndjson = {\n",
        "    \"name\": \"bbox_with_radio_subclass\", \n",
        "    \"classifications\": [{\n",
        "        \"name\": \"sub_radio_question\",\n",
        "        \"answer\": \n",
        "            { \"name\":\"first_sub_radio_answer\" }\n",
        "         \n",
        "    }],\n",
        "    \"bbox\": {\n",
        "          \"top\": 933,\n",
        "          \"left\": 541,\n",
        "          \"height\": 191,\n",
        "          \"width\": 330\n",
        "        }\n",
        "}\n",
        "\n",
        "polygon_annotation_ndjson = {\n",
        "  'name': 'polygon',\n",
        "  'polygon': [\n",
        "    {'x': 1489.581, 'y': 183.934},\n",
        "    {'x': 2278.306, 'y': 256.885},\n",
        "    {'x': 2428.197, 'y': 200.437},\n",
        "    {'x': 2560.0, 'y': 335.419},\n",
        "    {'x': 2557.386, 'y': 503.165},\n",
        "    {'x': 2320.596, 'y': 503.103},\n",
        "    {'x': 2156.083, 'y': 628.943},\n",
        "    {'x': 2161.111, 'y': 785.519},\n",
        "    {'x': 2002.115, 'y': 894.647},\n",
        "    {'x': 1838.456, 'y': 877.874},\n",
        "    {'x': 1436.53, 'y': 874.636},\n",
        "    {'x': 1411.403, 'y': 758.579},\n",
        "    {'x': 1353.853, 'y': 751.74},\n",
        "    {'x': 1345.264, 'y': 453.461},\n",
        "    {'x': 1426.011, 'y': 421.129},\n",
        "    {'x': 1489.581, 'y': 183.934}\n",
        "  ]\n",
        "}\n",
        "\n",
        "mask_annotation_ndjson = {\n",
        "  'name': 'mask',\n",
        "  'classifications': [],\n",
        "  'mask': {'instanceURI': 'https://storage.labelbox.com/cjhfn5y6s0pk507024nz1ocys%2F1d60856c-59b7-3060-2754-83f7e93e0d01-1?Expires=1666901963361&KeyName=labelbox-assets-key-3&Signature=t-2s2DB4YjFuWEFak0wxYqfBfZA',\n",
        "  'colorRGB': (0, 0, 0)}\n",
        "}\n",
        "\n",
        "\n",
        "point_annotation_ndjson = {\n",
        "  'name': 'point',\n",
        "  'classifications': [],\n",
        "  'point': {'x': 1166.606, 'y': 1441.768}\n",
        "}\n",
        "\n",
        "point_annotation_ndjson = {\n",
        "  'name': 'point',\n",
        "  'classifications': [],\n",
        "  'point': {'x': 1166.606, 'y': 1441.768}\n",
        "}\n",
        "\n",
        "polyline_annotation_ndjson = {\n",
        "  'name': 'polyline',\n",
        "  'classifications': [],\n",
        "  'line': [\n",
        "    {'x': 2534.353, 'y': 249.471},\n",
        "    {'x': 2429.492, 'y': 182.092},\n",
        "    {'x': 2294.322, 'y': 221.962},\n",
        "    {'x': 2224.491, 'y': 180.463},\n",
        "    {'x': 2136.123, 'y': 204.716},\n",
        "    {'x': 1712.247, 'y': 173.949},\n",
        "    {'x': 1703.838, 'y': 84.438},\n",
        "    {'x': 1579.772, 'y': 82.61},\n",
        "    {'x': 1583.442, 'y': 167.552},\n",
        "    {'x': 1478.869, 'y': 164.903},\n",
        "    {'x': 1418.941, 'y': 318.149},\n",
        "    {'x': 1243.128, 'y': 400.815},\n",
        "    {'x': 1022.067, 'y': 319.007},\n",
        "    {'x': 892.367, 'y': 379.216},\n",
        "    {'x': 670.273, 'y': 364.408},\n",
        "    {'x': 613.114, 'y': 288.16},\n",
        "    {'x': 377.559, 'y': 238.251},\n",
        "    {'x': 368.087, 'y': 185.064},\n",
        "    {'x': 246.557, 'y': 167.286},\n",
        "    {'x': 236.648, 'y': 285.61},\n",
        "    {'x': 90.929, 'y': 326.412}\n",
        "  ]\n",
        "}\n",
        "\n",
        "nested_checklist_annotation_ndjson = {\n",
        "  \"name\": \"nested_checklist_question\",\n",
        "  \"answer\": [{\n",
        "      \"name\": \"first_checklist_answer\", \n",
        "      \"classifications\" : [\n",
        "        {\n",
        "          \"name\": \"sub_checklist_question\", \n",
        "          \"answer\": {\"name\": \"first_sub_checklist_answer\"}\n",
        "        }          \n",
        "      ]         \n",
        "  }]\n",
        "}\n",
        "\n",
        "text_annotation_ndjson = {\n",
        "  'name': 'free_text',\n",
        "  'answer': 'sample text',\n",
        "}\n"
      ]
    },
    {
      "cell_type": "markdown",
      "metadata": {
        "id": "8QwmguFvPltl"
      },
      "source": [
        "##### 7.4. Create the label object"
      ]
    },
    {
      "cell_type": "code",
      "execution_count": 65,
      "metadata": {
        "id": "9gD_alThQA3G"
      },
      "outputs": [],
      "source": [
        "# Create a Label object by identifying the applicable data row in Labelbox and providing a list of annotations\n",
        "ndjson_annotation = []\n",
        "for annot in [\n",
        "    radio_annotation_ndjson, \n",
        "    checklist_annotation_ndjson, \n",
        "    bbox_annotation_ndjson, \n",
        "    bbox_with_radio_subclass_ndjson, \n",
        "    polygon_annotation_ndjson, \n",
        "    mask_annotation_ndjson, \n",
        "    point_annotation_ndjson, \n",
        "    polyline_annotation_ndjson,\n",
        "    nested_radio_annotation_ndjson,\n",
        "    nested_checklist_annotation_ndjson,\n",
        "    text_annotation_ndjson\n",
        "]:\n",
        "  annot.update({\n",
        "      'uuid': str(uuid.uuid4()),\n",
        "      'dataRow': {'id': data_row.uid},\n",
        "  })\n",
        "  ndjson_annotation.append(annot) \n",
        "\n"
      ]
    },
    {
      "cell_type": "markdown",
      "metadata": {
        "id": "nGVNQlvPQ-kF"
      },
      "source": [
        "##### 7.5. Upload annotations to the project using Label Import"
      ]
    },
    {
      "cell_type": "code",
      "execution_count": 66,
      "metadata": {
        "colab": {
          "base_uri": "https://localhost:8080/"
        },
        "id": "HYh9AzrlRYX-",
        "outputId": "eba0209a-bcde-4816-b386-d69f97899678"
      },
      "outputs": [
        {
          "name": "stdout",
          "output_type": "stream",
          "text": [
            "Errors: []\n"
          ]
        }
      ],
      "source": [
        "upload_job_annotation = LabelImport.create_from_objects(\n",
        "    client = client,\n",
        "    project_id = project.uid,\n",
        "    name=\"annotation_import_\" + str(uuid.uuid4()),\n",
        "    labels=ndjson_annotation)\n",
        "\n",
        "upload_job_annotation.wait_until_done()\n",
        "# Errors will appear for annotation uploads that failed.\n",
        "print(\"Errors:\", upload_job_annotation.errors)\n"
      ]
    },
    {
      "cell_type": "markdown",
      "metadata": {
        "id": "Y3rgM-5cRrxM"
      },
      "source": [
        "##### 7.6 Send the annotations to the Model Run"
      ]
    },
    {
      "cell_type": "code",
      "execution_count": 67,
      "metadata": {
        "colab": {
          "base_uri": "https://localhost:8080/"
        },
        "id": "i2BrS8CcSBzo",
        "outputId": "b2d68ab6-6d1f-4ce2-d633-8048e8209af3"
      },
      "outputs": [
        {
          "data": {
            "text/plain": [
              "True"
            ]
          },
          "execution_count": 67,
          "metadata": {},
          "output_type": "execute_result"
        }
      ],
      "source": [
        "# get the labels id from the project\n",
        "label_ids = [x['ID'] for x in project.export_labels(download=True)]\n",
        "model_run.upsert_labels(label_ids)"
      ]
    },
    {
      "cell_type": "markdown",
      "metadata": {
        "id": "DMtOfWWDWFbJ"
      },
      "source": [
        "## Optional deletions for cleanup \n"
      ]
    },
    {
      "cell_type": "code",
      "execution_count": 68,
      "metadata": {
        "id": "aAhkyvJlWK1p"
      },
      "outputs": [],
      "source": [
        "# project.delete()\n",
        "# dataset.delete()"
      ]
    }
  ],
  "metadata": {
    "colab": {
      "provenance": []
    },
    "kernelspec": {
      "display_name": "Python 3",
      "language": "python",
      "name": "python3"
    },
    "language_info": {
      "name": "python",
      "version": "3.9.16 (main, Jan 23 2023, 23:42:27) \n[GCC 10.2.1 20210110]"
    },
    "vscode": {
      "interpreter": {
        "hash": "949777d72b0d2535278d3dc13498b2535136f6dfe0678499012e853ee9abcab1"
      }
    }
  },
  "nbformat": 4,
  "nbformat_minor": 0
}
