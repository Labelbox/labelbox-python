{
  "nbformat": 4,
  "nbformat_minor": 0,
  "metadata": {},
  "cells": [
    {
      "metadata": {},
      "source": [
        "<td>\n",
        "   <a target=\"_blank\" href=\"https://labelbox.com\" ><img src=\"https://labelbox.com/blog/content/images/2021/02/logo-v4.svg\" width=256/></a>\n",
        "</td>"
      ],
      "cell_type": "markdown"
    },
    {
      "metadata": {},
      "source": [
        "<td>\n",
        "<a href=\"https://colab.research.google.com/github/Labelbox/labelbox-python/blob/master/examples/prediction_upload/video_predictions.ipynb\" target=\"_blank\"><img\n",
        "src=\"https://colab.research.google.com/assets/colab-badge.svg\" alt=\"Open In Colab\"></a>\n",
        "</td>\n",
        "\n",
        "<td>\n",
        "<a href=\"https://github.com/Labelbox/labelbox-python/blob/master/examples/prediction_upload/video_predictions.ipynb\" target=\"_blank\"><img\n",
        "src=\"https://img.shields.io/badge/GitHub-100000?logo=github&logoColor=white\" alt=\"GitHub\"></a>\n",
        "</td>"
      ],
      "cell_type": "markdown"
    },
    {
      "metadata": {},
      "source": [
        "# Video Prediction Import \n",
        "* This notebook walks you through the process of uploading model predictions to a Model Run. This notebook provides an example for each supported prediction type for video assets.\n",
        "\n",
        "A Model Run is a container for the predictions, annotations and metrics of a specific experiment in your ML model development cycle.\n",
        "\n",
        "**Supported annotations that can be uploaded through the SDK**\n",
        "- Bounding box\n",
        "- Point\n",
        "- Polyline\n",
        "- Classification - radio\n",
        "- Classification - checklist\n",
        "\n",
        "**NOT** supported:\n",
        "- Polygons \n",
        "- Segmentation masks\n",
        "- Free form text classifications\n",
        "\n",
        "Please note that this list of unsupported annotations only refers to limitations for importing annotations. For example, when using the Labelbox editor, segmentation masks can be created and edited on video assets.\n"
      ],
      "cell_type": "markdown"
    },
    {
      "metadata": {},
      "source": [
        "## Setup"
      ],
      "cell_type": "markdown"
    },
    {
      "metadata": {},
      "source": [
        "!pip install -q 'labelbox[data]'"
      ],
      "cell_type": "code",
      "outputs": [
        {
          "name": "stdout",
          "output_type": "stream",
          "text": [
            "\u001b[33mWARNING: You are using pip version 21.2.4; however, version 23.0.1 is available.\n",
            "You should consider upgrading via the '/Users/kkim/labelbox/labelbox-python/sdk-venv/bin/python3 -m pip install --upgrade pip' command.\u001b[0m\n"
          ]
        }
      ],
      "execution_count": null
    },
    {
      "metadata": {},
      "source": [
        "import labelbox as lb\n",
        "import uuid"
      ],
      "cell_type": "code",
      "outputs": [],
      "execution_count": null
    },
    {
      "metadata": {},
      "source": [
        "## Replace with your API Key \n",
        "Guides on [Create an API key](https://docs.labelbox.com/docs/create-an-api-key)"
      ],
      "cell_type": "markdown"
    },
    {
      "metadata": {},
      "source": [
        "API_KEY=\"\"\n",
        "client = lb.Client(API_KEY)"
      ],
      "cell_type": "code",
      "outputs": [],
      "execution_count": null
    },
    {
      "metadata": {},
      "source": [
        "## Supported Predictions\n",
        "- Confidence scores are currently not supported for segment or frame annotations, which are required for bounding box, point, and line for video assets. For this tutorial, only the radio and checklist annotations will have confidence scores."
      ],
      "cell_type": "markdown"
    },
    {
      "metadata": {},
      "source": [
        "########### Radio Classification ###########\n",
        "\n",
        "# NDJSON\n",
        "radio_prediction_ndjson = {\n",
        "  'name': 'radio_question',\n",
        "  'confidence': 0.5,\n",
        "  'answer': {'name': 'second_radio_answer', 'confidence': 0.5}\n",
        "} "
      ],
      "cell_type": "code",
      "outputs": [],
      "execution_count": null
    },
    {
      "metadata": {},
      "source": [
        "########## Nested Classification ##########\n",
        "\n",
        "### Radio #### \n",
        "\n",
        "# NDJSON \n",
        "nested_radio_prediction_ndjson = {\n",
        "  \"name\": \"nested_radio_question\",\n",
        "  'confidence': 0.5 ,\n",
        "  \"answer\": {\"name\": \"first_radio_answer\", 'confidence': 0.5 },\n",
        "  \"classifications\" : [\n",
        "   {\n",
        "       'name': 'sub_radio_question', \n",
        "      'answer': {'name': 'first_sub_radio_answer', 'confidence': 0.5 }\n",
        "    }\n",
        "   ]\n",
        "}\n",
        "\n",
        "### Checklist #### \n",
        "\n",
        "nested_checklist_prediction_ndjson = {\n",
        "  \"name\": \"nested_checklist_question\",\n",
        "  \"answer\": [{\"name\": \"first_checklist_answer\",\n",
        "  'confidence': 0.5,\n",
        "  \"classifications\" : [\n",
        "   {\n",
        "      \"name\": \"sub_checklist_question\", \n",
        "      \"answer\": {\"name\": \"first_sub_checklist_answer\", 'confidence': 0.5 }\n",
        "    }\n",
        "  ]\n",
        "}]\n",
        "}\n",
        "\n",
        "\n"
      ],
      "cell_type": "code",
      "outputs": [],
      "execution_count": null
    },
    {
      "metadata": {},
      "source": [
        "############ Checklist question ############\n",
        "\n",
        "# NDJSON\n",
        "checklist_prediction_ndjson = {\n",
        "  'name': 'checklist_question',\n",
        "  'answer': [\n",
        "    {'name': 'first_checklist_answer', 'confidence': 0.5},\n",
        "    {'name': 'second_checklist_answer', 'confidence': 0.5}\n",
        "  ]\n",
        "}"
      ],
      "cell_type": "code",
      "outputs": [],
      "execution_count": null
    },
    {
      "metadata": {},
      "source": [
        "####### Bounding box #######\n",
        "\n",
        "#NDJSON \n",
        "bbox_prediction_ndjson = {\n",
        "    \"name\" : \"bbox_video\",\n",
        "    \"segments\" : [{\n",
        "        \"keyframes\" : [\n",
        "            {\n",
        "              \"frame\": 1,\n",
        "              \"bbox\" : {\n",
        "                \"top\": 146.0,\n",
        "                \"left\": 98.0,\n",
        "                \"height\": 382.0,\n",
        "                \"width\": 341.0\n",
        "              } \n",
        "           },\n",
        "           {\n",
        "              \"frame\": 2,\n",
        "              \"bbox\" : {\n",
        "                \"top\": 146.0,\n",
        "                \"left\": 98.0,\n",
        "                \"height\": 382.0,\n",
        "                \"width\": 341.0\n",
        "              }\n",
        "           },\n",
        "           {\n",
        "              \"frame\": 3,\n",
        "              \"bbox\" : {\n",
        "                \"top\": 146.0,\n",
        "                \"left\": 98.0,\n",
        "                \"height\": 382.0,\n",
        "                \"width\": 341.0\n",
        "              }\n",
        "           },\n",
        "           {\n",
        "              \"frame\": 4,\n",
        "              \"bbox\" : {\n",
        "                \"top\": 146.0,\n",
        "                \"left\": 98.0,\n",
        "                \"height\": 382.0,\n",
        "                \"width\": 341.0\n",
        "              }\n",
        "           },\n",
        "           {\n",
        "              \"frame\": 5,\n",
        "              \"bbox\" : {\n",
        "                \"top\": 146.0,\n",
        "                \"left\": 98.0,\n",
        "                \"height\": 382.0,\n",
        "                \"width\": 341.0\n",
        "              }\n",
        "           }\n",
        "        ]\n",
        "      }\n",
        "    ]\n",
        "}\n"
      ],
      "cell_type": "code",
      "outputs": [],
      "execution_count": null
    },
    {
      "metadata": {},
      "source": [
        "####### Bounding box with nested classification #######\n",
        "\n",
        "## NDJSON\n",
        "#Confidence scores are not supported for bounding box, point, or line annotations,\n",
        "#but they can be used for radio and checklist classifications, even when they're\n",
        "#nested under a bounding box, point, or line annotation as demonstrated here.\n",
        "\n",
        "bbox_with_radio_subclass_prediction_ndjson = {\n",
        "    \"name\": \"bbox_with_radio_subclass\", \n",
        "    \"segments\" : [{\n",
        "      \"keyframes\" : [\n",
        "          {\n",
        "            \"frame\": 13,\n",
        "            \"bbox\" : {\n",
        "              \"top\": 146.0,\n",
        "              \"left\": 98.0,\n",
        "              \"height\": 382.0,\n",
        "              \"width\": 341.0\n",
        "            },\n",
        "            \"classifications\": [{\n",
        "            \"name\": \"sub_radio_question\",\n",
        "            \"answer\": \n",
        "                {\"name\": \"first_sub_radio_answer\", \"confidence\": 0.5} \n",
        "            }]  \n",
        "          },\n",
        "          {\n",
        "            \"frame\": 14,\n",
        "            \"bbox\" : {\n",
        "              \"top\": 146.0,\n",
        "              \"left\": 98.0,\n",
        "              \"height\": 382.0,\n",
        "              \"width\": 341.0\n",
        "            },\n",
        "            \"classifications\": [{\n",
        "            \"name\": \"sub_radio_question\",\n",
        "            \"answer\": \n",
        "                {\"name\": \"first_sub_radio_answer\", \"confidence\": 0.5}\n",
        "            }]  \n",
        "          },\n",
        "          {\n",
        "            \"frame\": 15,\n",
        "            \"bbox\" : {\n",
        "              \"top\": 146.0,\n",
        "              \"left\": 98.0,\n",
        "              \"height\": 382.0,\n",
        "              \"width\": 341.0\n",
        "            },\n",
        "            \"classifications\": [{\n",
        "            \"name\": \"sub_radio_question\",\n",
        "            \"answer\": \n",
        "                {\"name\": \"first_sub_radio_answer\", \"confidence\": 0.5}\n",
        "            }]\n",
        "            }\n",
        "          ]\n",
        "      }\n",
        "    ]\n",
        "    \n",
        "\n",
        "}"
      ],
      "cell_type": "code",
      "outputs": [],
      "execution_count": null
    },
    {
      "metadata": {},
      "source": [
        "######## Point ########\n",
        "\n",
        "# NDJSON\n",
        "point_prediction_ndjson = {\n",
        "    \"name\": \"point_video\", \n",
        "    \"segments\": [{\n",
        "        \"keyframes\": [{\n",
        "            \"frame\": 17,\n",
        "            \"point\" : {\n",
        "                \"x\": 660.134 ,\n",
        "                \"y\": 407.926\n",
        "            },\n",
        "        }]\n",
        "    }] \n",
        "}"
      ],
      "cell_type": "code",
      "outputs": [],
      "execution_count": null
    },
    {
      "metadata": {},
      "source": [
        "###### Polyline ######\n",
        "\n",
        "# NDJSON\n",
        "polyline_prediction_ndjson = {\n",
        "  \"name\": \"line_video_frame\", \n",
        "  \"segments\": [\n",
        "      {\n",
        "        \"keyframes\": [\n",
        "          {\n",
        "            \"frame\": 5,\n",
        "            \"line\": [{\n",
        "              \"x\": 680,\n",
        "              \"y\": 100\n",
        "            },{\n",
        "              \"x\": 100,\n",
        "              \"y\": 190\n",
        "            },{\n",
        "              \"x\": 190,\n",
        "              \"y\": 220\n",
        "            }],\n",
        "          },\n",
        "          {\n",
        "            \"frame\": 12,\n",
        "            \"line\": [{\n",
        "              \"x\": 680,\n",
        "              \"y\": 280\n",
        "            },{\n",
        "              \"x\": 300,\n",
        "              \"y\": 380\n",
        "            },{\n",
        "              \"x\": 400,\n",
        "              \"y\": 460\n",
        "            }],\n",
        "          },\n",
        "          {\n",
        "            \"frame\": 20,\n",
        "            \"line\": [{\n",
        "              \"x\": 680,\n",
        "              \"y\": 180\n",
        "            },{\n",
        "              \"x\": 100,\n",
        "              \"y\": 200\n",
        "            },{\n",
        "              \"x\": 200,\n",
        "              \"y\": 260\n",
        "            }],\n",
        "          }\n",
        "        ]\n",
        "      },\n",
        "      {\n",
        "        \"keyframes\": [\n",
        "          {\n",
        "            \"frame\": 24,\n",
        "            \"line\": [{\n",
        "              \"x\": 300,\n",
        "              \"y\": 310\n",
        "            },{\n",
        "              \"x\": 330,\n",
        "              \"y\": 430\n",
        "            }],\n",
        "          },\n",
        "          {\n",
        "            \"frame\": 45,\n",
        "            \"line\": [{\n",
        "              \"x\": 600,\n",
        "              \"y\": 810\n",
        "            },{\n",
        "              \"x\": 900,\n",
        "              \"y\": 930\n",
        "            }],\n",
        "          }\n",
        "        ]\n",
        "      }\n",
        "    ]\n",
        "}\n"
      ],
      "cell_type": "code",
      "outputs": [],
      "execution_count": null
    },
    {
      "metadata": {},
      "source": [
        "## Step 1: Import data rows into Catalog"
      ],
      "cell_type": "markdown"
    },
    {
      "metadata": {},
      "source": [
        "# send a sample image as batch to the project\n",
        "global_key = \"sample-video-2.mp4\"\n",
        "test_img_url = {\n",
        "    \"row_data\": \"https://storage.googleapis.com/labelbox-datasets/video-sample-data/sample-video-2.mp4\",\n",
        "    \"global_key\": global_key\n",
        "}\n",
        "dataset = client.create_dataset(name=\"video_prediction_demo\")\n",
        "task = dataset.create_data_rows([test_img_url])\n",
        "task.wait_till_done()\n",
        "print(\"Errors: \",task.errors)\n",
        "print(\"Failed data rows: \",task.failed_data_rows)"
      ],
      "cell_type": "code",
      "outputs": [
        {
          "name": "stderr",
          "output_type": "stream",
          "text": [
            "There are errors present. Please look at `task.errors` for more details\n"
          ]
        },
        {
          "name": "stdout",
          "output_type": "stream",
          "text": [
            "Errors:  Duplicate global keys found: sample-video-2.mp4\n",
            "Failed data rows:  [{'message': 'Duplicate global keys found: sample-video-2.mp4', 'failedDataRows': [{'globalKey': 'sample-video-2.mp4', 'rowData': 'https://storage.googleapis.com/labelbox-datasets/video-sample-data/sample-video-2.mp4', 'attachmentInputs': []}]}]\n"
          ]
        }
      ],
      "execution_count": null
    },
    {
      "metadata": {},
      "source": [
        "## Step 2: Create/select an Ontology for your model predictions\n",
        "Your project should have the correct ontology setup with all the tools and classifications supported for your annotations, and the tool names and classification instructions should match the name/instructions fields in your annotations to ensure the correct feature schemas are matched.\n"
      ],
      "cell_type": "markdown"
    },
    {
      "metadata": {},
      "source": [
        "ontology_builder = lb.OntologyBuilder(\n",
        "  classifications=[ # List of Classification objects\n",
        "    lb.Classification( # Radio classification given the name \"text\" with two options: \"first_radio_answer\" and \"second_radio_answer\"\n",
        "      class_type=lb.Classification.Type.RADIO,\n",
        "      name=\"radio_question\", \n",
        "      options=[\n",
        "        lb.Option(value=\"first_radio_answer\"),\n",
        "        lb.Option(value=\"second_radio_answer\")\n",
        "      ]\n",
        "    ),\n",
        "    lb.Classification( # Checklist classification given the name \"text\" with two options: \"first_checklist_answer\" and \"second_checklist_answer\"\n",
        "      class_type=lb.Classification.Type.CHECKLIST,\n",
        "      name=\"checklist_question\", \n",
        "      options=[\n",
        "        lb.Option(value=\"first_checklist_answer\"),\n",
        "        lb.Option(value=\"second_checklist_answer\")\n",
        "      ]\n",
        "    ), \n",
        "    lb.Classification(\n",
        "        class_type=lb.Classification.Type.RADIO,\n",
        "        name=\"nested_radio_question\",\n",
        "        options=[\n",
        "            lb.Option(\"first_radio_answer\",\n",
        "                options=[\n",
        "                    lb.Classification(\n",
        "                        class_type=lb.Classification.Type.RADIO,\n",
        "                        name=\"sub_radio_question\",\n",
        "                        options=[lb.Option(\"first_sub_radio_answer\")]\n",
        "                    )\n",
        "                ]\n",
        "            )\n",
        "          ] \n",
        "        ),\n",
        "    lb.Classification(\n",
        "      class_type=lb.Classification.Type.CHECKLIST,\n",
        "      name=\"nested_checklist_question\",\n",
        "      options=[\n",
        "          lb.Option(value=\"first_checklist_answer\",\n",
        "            options=[\n",
        "              lb.Classification(\n",
        "                  class_type=lb.Classification.Type.CHECKLIST,\n",
        "                  name=\"sub_checklist_question\", \n",
        "                  options=[lb.Option(\"first_sub_checklist_answer\")]\n",
        "              )\n",
        "          ]\n",
        "        )\n",
        "      ]\n",
        "    )      \n",
        "  ],\n",
        "  tools=[ # List of Tool objects\n",
        "    lb.Tool( # Bounding Box tool given the name \"box\"\n",
        "      tool=lb.Tool.Type.BBOX,\n",
        "      name=\"bbox_video\"), \n",
        "    lb.Tool( # Bounding Box tool given the name \"box\"\n",
        "      tool=lb.Tool.Type.BBOX,\n",
        "      name=\"bbox_with_radio_subclass\",\n",
        "      classifications=[\n",
        "            lb.Classification(\n",
        "                class_type=lb.Classification.Type.RADIO,\n",
        "                name=\"sub_radio_question\",\n",
        "                options=[\n",
        "                  lb.Option(value=\"first_sub_radio_answer\")\n",
        "                ]\n",
        "              ),\n",
        "        ]\n",
        "      ),\n",
        " \t  lb.Tool( # Point tool given the name \"point\"\n",
        "      tool=lb.Tool.Type.POINT,\n",
        "      name=\"point_video\"), \n",
        "    lb.Tool( # Polyline tool given the name \"line\"\n",
        "      tool=lb.Tool.Type.LINE,\n",
        "      name=\"line_video_frame\")]\n",
        ")\n",
        "\n",
        "ontology = client.create_ontology(\"Video Prediction Import Demo\", ontology_builder.asdict(), \n",
        "                                  media_type=lb.MediaType.Video)\n",
        "\n",
        "## Required to run set_feature_schema_id helper method \n",
        "features_schema = ontology.normalized"
      ],
      "cell_type": "code",
      "outputs": [],
      "execution_count": null
    },
    {
      "metadata": {},
      "source": [
        "## Step 3: Create a Model and Model Run"
      ],
      "cell_type": "markdown"
    },
    {
      "metadata": {},
      "source": [
        "# create Model\n",
        "model = client.create_model(name=\"video_model_run_\" + str(uuid.uuid4()), \n",
        "                            ontology_id=ontology.uid)\n",
        "# create Model Run\n",
        "model_run = model.create_model_run(\"iteration 1\")"
      ],
      "cell_type": "code",
      "outputs": [],
      "execution_count": null
    },
    {
      "metadata": {},
      "source": [
        "## Step 4: Send data rows to the Model Run"
      ],
      "cell_type": "markdown"
    },
    {
      "metadata": {},
      "source": [
        "model_run.upsert_data_rows(global_keys=[global_key])"
      ],
      "cell_type": "code",
      "outputs": [
        {
          "data": {
            "text/plain": [
              "True"
            ]
          },
          "execution_count": 14,
          "metadata": {},
          "output_type": "execute_result"
        }
      ],
      "execution_count": null
    },
    {
      "metadata": {},
      "source": [
        "## Step 5. Create the predictions payload\n",
        "\n",
        "Create the annotations payload using the snippets of [code here](https://docs.labelbox.com/reference/import-video-annotations).\n",
        "\n",
        "Labelbox only supports NDJSON annotation payloads for importing video annotations.\n"
      ],
      "cell_type": "markdown"
    },
    {
      "metadata": {},
      "source": [
        "# Create a Label object by identifying the applicable data row in Labelbox and providing a list of annotations\n",
        "label_ndjson = []\n",
        "for prediction in [\n",
        "    radio_prediction_ndjson,\n",
        "    checklist_prediction_ndjson,\n",
        "    bbox_prediction_ndjson, \n",
        "    bbox_with_radio_subclass_prediction_ndjson,\n",
        "    point_prediction_ndjson,\n",
        "    polyline_prediction_ndjson, \n",
        "    nested_radio_prediction_ndjson,\n",
        "    nested_checklist_prediction_ndjson\n",
        "]:\n",
        "  prediction.update({\n",
        "      'dataRow': {'globalKey': global_key}\n",
        "  })\n",
        "  label_ndjson.append(prediction)"
      ],
      "cell_type": "code",
      "outputs": [],
      "execution_count": null
    },
    {
      "metadata": {},
      "source": [
        "## Step 6. Upload the predictions payload to the Model Run "
      ],
      "cell_type": "markdown"
    },
    {
      "metadata": {},
      "source": [
        "# Upload the prediction label to the Model Run\n",
        "upload_job_prediction = model_run.add_predictions(\n",
        "    name=\"prediction_upload_job\"+str(uuid.uuid4()),\n",
        "    predictions=label_ndjson)\n",
        "\n",
        "# Errors will appear for annotation uploads that failed.\n",
        "print(\"Errors:\", upload_job_prediction.errors)\n",
        "print(\"Status of uploads: \", upload_job_prediction.statuses)"
      ],
      "cell_type": "code",
      "outputs": [
        {
          "name": "stdout",
          "output_type": "stream",
          "text": [
            "Errors: []\n",
            "Status of uploads:  [{'uuid': 'c7c3c041-6291-4f7f-9187-3b9aa5e1304a', 'dataRow': {'id': 'clfk4y9xi027v073kh6lu03di', 'globalKey': 'sample-video-2.mp4'}, 'status': 'SUCCESS'}, {'uuid': '2ab1429d-da85-48f0-bf3d-84c00714f7a7', 'dataRow': {'id': 'clfk4y9xi027v073kh6lu03di', 'globalKey': 'sample-video-2.mp4'}, 'status': 'SUCCESS'}, {'uuid': 'ae86a81d-1e37-45f9-8732-898e207eb41e', 'dataRow': {'id': 'clfk4y9xi027v073kh6lu03di', 'globalKey': 'sample-video-2.mp4'}, 'status': 'SUCCESS'}, {'uuid': '263b98c9-6a1c-4f78-9076-348beeceaee4', 'dataRow': {'id': 'clfk4y9xi027v073kh6lu03di', 'globalKey': 'sample-video-2.mp4'}, 'status': 'SUCCESS'}, {'uuid': '0fed83c8-2462-468f-b797-6c823e06bb5a', 'dataRow': {'id': 'clfk4y9xi027v073kh6lu03di', 'globalKey': 'sample-video-2.mp4'}, 'status': 'SUCCESS'}, {'uuid': 'c1299795-b749-4e6f-9d5f-93e3ba9b9743', 'dataRow': {'id': 'clfk4y9xi027v073kh6lu03di', 'globalKey': 'sample-video-2.mp4'}, 'status': 'SUCCESS'}, {'uuid': '44b7e7d0-7aff-46cf-ba67-831b411e9e43', 'dataRow': {'id': 'clfk4y9xi027v073kh6lu03di', 'globalKey': 'sample-video-2.mp4'}, 'status': 'SUCCESS'}, {'uuid': 'c66f026b-f36b-4f64-8dee-4c475cc9c3ef', 'dataRow': {'id': 'clfk4y9xi027v073kh6lu03di', 'globalKey': 'sample-video-2.mp4'}, 'status': 'SUCCESS'}]\n"
          ]
        }
      ],
      "execution_count": null
    },
    {
      "metadata": {},
      "source": [
        "## Step 7: Send annotations to the Model Run \n",
        "To send annotations to a Model Run, we must first import them into a project, create a label payload and then send them to the Model Run."
      ],
      "cell_type": "markdown"
    },
    {
      "metadata": {},
      "source": [
        "##### 7.1. Create a labelbox project"
      ],
      "cell_type": "markdown"
    },
    {
      "metadata": {},
      "source": [
        "# Create a Labelbox project\n",
        "project = client.create_project(name=\"video_prediction_demo\",\n",
        "                                    auto_audit_percentage=1,\n",
        "                                    auto_audit_number_of_labels=1,\n",
        "                                    media_type=lb.MediaType.Video)\n",
        "project.setup_editor(ontology)"
      ],
      "cell_type": "code",
      "outputs": [
        {
          "name": "stderr",
          "output_type": "stream",
          "text": [
            "Default createProject behavior will soon be adjusted to prefer batch projects. Pass in `queue_mode` parameter explicitly to opt-out for the time being.\n"
          ]
        }
      ],
      "execution_count": null
    },
    {
      "metadata": {},
      "source": [
        "##### 7.2. Create a batch to send to the project "
      ],
      "cell_type": "markdown"
    },
    {
      "metadata": {},
      "source": [
        "project.create_batch(\n",
        "  \"batch_video_prediction_demo\", # Each batch in a project must have a unique name\n",
        "  global_keys=[global_key], # A list of data rows, data row ids or global keys\n",
        "  priority=5 # priority between 1(Highest) - 5(lowest)\n",
        ")"
      ],
      "cell_type": "code",
      "outputs": [
        {
          "data": {
            "text/plain": [
              "<Batch ID: 9bedae40-d40a-11ed-b3ba-a7f36de3a864>"
            ]
          },
          "execution_count": 18,
          "metadata": {},
          "output_type": "execute_result"
        }
      ],
      "execution_count": null
    },
    {
      "metadata": {},
      "source": [
        "##### 7.3 Create the annotations payload"
      ],
      "cell_type": "markdown"
    },
    {
      "metadata": {},
      "source": [
        "########### Radio Classification ###########\n",
        "\n",
        "radio_annotation_ndjson = {\n",
        "  'name': 'radio_question',\n",
        "  'answer': {'name': 'second_radio_answer'}\n",
        "} \n",
        "\n",
        "########## Nested Classification ##########\n",
        "\n",
        "### Radio #### \n",
        "\n",
        "nested_radio_annotation_ndjson = {\n",
        "  \"name\": \"nested_radio_question\",\n",
        "  \"answer\": {\"name\": \"first_radio_answer\"},\n",
        "  \"classifications\" : [\n",
        "   {\n",
        "       'name': 'sub_radio_question', \n",
        "      'answer': {'name': 'first_sub_radio_answer'}\n",
        "    }\n",
        "   ]\n",
        "}\n",
        "\n",
        "### Checklist #### \n",
        "\n",
        "nested_checklist_annotation_ndjson = {\n",
        "  \"name\": \"nested_checklist_question\",\n",
        "  \"answer\": [{\"name\": \"first_checklist_answer\",\n",
        "  \"classifications\" : [\n",
        "   {\n",
        "      \"name\": \"sub_checklist_question\", \n",
        "      \"answer\": {\"name\": \"first_sub_checklist_answer\"}\n",
        "    }\n",
        "  ]\n",
        "}]\n",
        "}\n",
        "\n",
        "############ Checklist question ############\n",
        "\n",
        "checklist_annotation_ndjson = {\n",
        "  'name': 'checklist_question',\n",
        "  'answer': [\n",
        "    {'name': 'first_checklist_answer'},\n",
        "    {'name': 'second_checklist_answer'}\n",
        "  ]\n",
        "}\n",
        "\n",
        "####### Bounding box #######\n",
        "\n",
        "bbox_annotation_ndjson = {\n",
        "    \"name\" : \"bbox_video\",\n",
        "    \"segments\" : [{\n",
        "        \"keyframes\" : [\n",
        "            {\n",
        "              \"frame\": 1,\n",
        "              \"bbox\" : {\n",
        "                \"top\": 146.0,\n",
        "                \"left\": 98.0,\n",
        "                \"height\": 382.0,\n",
        "                \"width\": 341.0\n",
        "              } \n",
        "           },\n",
        "           {\n",
        "              \"frame\": 2,\n",
        "              \"bbox\" : {\n",
        "                \"top\": 146.0,\n",
        "                \"left\": 98.0,\n",
        "                \"height\": 382.0,\n",
        "                \"width\": 341.0\n",
        "              }\n",
        "           },\n",
        "           {\n",
        "              \"frame\": 3,\n",
        "              \"bbox\" : {\n",
        "                \"top\": 146.0,\n",
        "                \"left\": 98.0,\n",
        "                \"height\": 382.0,\n",
        "                \"width\": 341.0\n",
        "              }\n",
        "           },\n",
        "           {\n",
        "              \"frame\": 4,\n",
        "              \"bbox\" : {\n",
        "                \"top\": 146.0,\n",
        "                \"left\": 98.0,\n",
        "                \"height\": 382.0,\n",
        "                \"width\": 341.0\n",
        "              }\n",
        "           },\n",
        "           {\n",
        "              \"frame\": 5,\n",
        "              \"bbox\" : {\n",
        "                \"top\": 146.0,\n",
        "                \"left\": 98.0,\n",
        "                \"height\": 382.0,\n",
        "                \"width\": 341.0\n",
        "              }\n",
        "           }\n",
        "        ]\n",
        "      }\n",
        "    ]\n",
        "}\n",
        "\n",
        "####### Bounding box with nested classification #######\n",
        "\n",
        "bbox_with_radio_subclass_annotation_ndjson = {\n",
        "    \"name\": \"bbox_with_radio_subclass\", \n",
        "    \"segments\" : [{\n",
        "      \"keyframes\" : [\n",
        "          {\n",
        "            \"frame\": 13,\n",
        "            \"bbox\" : {\n",
        "              \"top\": 146.0,\n",
        "              \"left\": 98.0,\n",
        "              \"height\": 382.0,\n",
        "              \"width\": 341.0\n",
        "            },\n",
        "            \"classifications\": [{\n",
        "            \"name\": \"sub_radio_question\",\n",
        "            \"answer\": \n",
        "                {\"name\":\"first_sub_radio_answer\"}\n",
        "            }]  \n",
        "          },\n",
        "          {\n",
        "            \"frame\": 14,\n",
        "            \"bbox\" : {\n",
        "              \"top\": 146.0,\n",
        "              \"left\": 98.0,\n",
        "              \"height\": 382.0,\n",
        "              \"width\": 341.0\n",
        "            },\n",
        "            \"classifications\": [{\n",
        "            \"name\": \"sub_radio_question\",\n",
        "            \"answer\": \n",
        "                {\"name\":\"first_sub_radio_answer\"}\n",
        "            }]  \n",
        "          },\n",
        "          {\n",
        "            \"frame\": 15,\n",
        "            \"bbox\" : {\n",
        "              \"top\": 146.0,\n",
        "              \"left\": 98.0,\n",
        "              \"height\": 382.0,\n",
        "              \"width\": 341.0\n",
        "            },\n",
        "            \"classifications\": [{\n",
        "            \"name\": \"sub_radio_question\",\n",
        "            \"answer\": \n",
        "                {\"name\":\"first_sub_radio_answer\"}\n",
        "            }]\n",
        "            }\n",
        "          ]\n",
        "      }\n",
        "    ]\n",
        "}\n",
        "\n",
        "\n",
        " ######## Point ########\n",
        "\n",
        "point_annotation_ndjson = {\n",
        "    \"name\": \"point_video\", \n",
        "    \"segments\": [{\n",
        "        \"keyframes\": [{\n",
        "            \"frame\": 17,\n",
        "            \"point\" : {\n",
        "                \"x\": 660.134 ,\n",
        "                \"y\": 407.926\n",
        "            },\n",
        "        }]\n",
        "    }] \n",
        "}\n",
        "\n",
        "###### Polyline ######\n",
        "\n",
        "polyline_annotation_ndjson = {\n",
        "  \"name\": \"line_video_frame\", \n",
        "  \"segments\": [\n",
        "      {\n",
        "        \"keyframes\": [\n",
        "          {\n",
        "            \"frame\": 5,\n",
        "            \"line\": [{\n",
        "              \"x\": 680,\n",
        "              \"y\": 100\n",
        "            },{\n",
        "              \"x\": 100,\n",
        "              \"y\": 190\n",
        "            },{\n",
        "              \"x\": 190,\n",
        "              \"y\": 220\n",
        "            }],\n",
        "          },\n",
        "          {\n",
        "            \"frame\": 12,\n",
        "            \"line\": [{\n",
        "              \"x\": 680,\n",
        "              \"y\": 280\n",
        "            },{\n",
        "              \"x\": 300,\n",
        "              \"y\": 380\n",
        "            },{\n",
        "              \"x\": 400,\n",
        "              \"y\": 460\n",
        "            }],\n",
        "          },\n",
        "          {\n",
        "            \"frame\": 20,\n",
        "            \"line\": [{\n",
        "              \"x\": 680,\n",
        "              \"y\": 180\n",
        "            },{\n",
        "              \"x\": 100,\n",
        "              \"y\": 200\n",
        "            },{\n",
        "              \"x\": 200,\n",
        "              \"y\": 260\n",
        "            }],\n",
        "          }\n",
        "        ]\n",
        "      },\n",
        "      {\n",
        "        \"keyframes\": [\n",
        "          {\n",
        "            \"frame\": 24,\n",
        "            \"line\": [{\n",
        "              \"x\": 300,\n",
        "              \"y\": 310\n",
        "            },{\n",
        "              \"x\": 330,\n",
        "              \"y\": 430\n",
        "            }],\n",
        "          },\n",
        "          {\n",
        "            \"frame\": 45,\n",
        "            \"line\": [{\n",
        "              \"x\": 600,\n",
        "              \"y\": 810\n",
        "            },{\n",
        "              \"x\": 900,\n",
        "              \"y\": 930\n",
        "            }],\n",
        "          }\n",
        "        ]\n",
        "      }\n",
        "    ]\n",
        "}"
      ],
      "cell_type": "code",
      "outputs": [],
      "execution_count": null
    },
    {
      "metadata": {},
      "source": [
        "##### 7.4. Create the label object"
      ],
      "cell_type": "markdown"
    },
    {
      "metadata": {},
      "source": [],
      "cell_type": "markdown"
    },
    {
      "metadata": {},
      "source": [
        "# Create a Label object by identifying the applicable data row in Labelbox and providing a list of annotations\n",
        "\n",
        "ndjson_annotation = []\n",
        "for annot in [\n",
        "    radio_annotation_ndjson, \n",
        "    checklist_annotation_ndjson, \n",
        "    bbox_annotation_ndjson, \n",
        "    point_annotation_ndjson, \n",
        "    polyline_annotation_ndjson,\n",
        "    nested_radio_annotation_ndjson,\n",
        "    nested_checklist_annotation_ndjson,\n",
        "    bbox_with_radio_subclass_annotation_ndjson\n",
        "]:\n",
        "  annot.update({\n",
        "      'dataRow': {'globalKey': global_key},\n",
        "  })\n",
        "  ndjson_annotation.append(annot) "
      ],
      "cell_type": "code",
      "outputs": [],
      "execution_count": null
    },
    {
      "metadata": {},
      "source": [
        "##### 7.5. Upload annotations to the project using Label Import"
      ],
      "cell_type": "markdown"
    },
    {
      "metadata": {},
      "source": [
        "upload_job_annotation = lb.LabelImport.create_from_objects(\n",
        "    client = client,\n",
        "    project_id = project.uid,\n",
        "    name=\"video_annotations_import_\" + str(uuid.uuid4()),\n",
        "    labels=ndjson_annotation)\n",
        "\n",
        "upload_job_annotation.wait_until_done()\n",
        "# Errors will appear for annotation uploads that failed.\n",
        "print(\"Errors:\", upload_job_annotation.errors)\n",
        "print(\"Status of uploads: \", upload_job_annotation.statuses)"
      ],
      "cell_type": "code",
      "outputs": [
        {
          "name": "stdout",
          "output_type": "stream",
          "text": [
            "Errors: []\n",
            "Status of uploads:  [{'uuid': '3fa7c4a8-3326-4a94-840d-f9b86569b581', 'dataRow': {'id': 'clfk4y9xi027v073kh6lu03di', 'globalKey': 'sample-video-2.mp4'}, 'status': 'SUCCESS'}, {'uuid': 'a80829c1-63c8-456d-827f-fe28442ee424', 'dataRow': {'id': 'clfk4y9xi027v073kh6lu03di', 'globalKey': 'sample-video-2.mp4'}, 'status': 'SUCCESS'}, {'uuid': '0ed74f0f-45de-4a6a-804b-5969d57168c0', 'dataRow': {'id': 'clfk4y9xi027v073kh6lu03di', 'globalKey': 'sample-video-2.mp4'}, 'status': 'SUCCESS'}, {'uuid': 'e1f2e3d3-69f7-41c9-880a-ce554e3616bb', 'dataRow': {'id': 'clfk4y9xi027v073kh6lu03di', 'globalKey': 'sample-video-2.mp4'}, 'status': 'SUCCESS'}, {'uuid': '11e6eca0-cdfc-4404-947f-3b06637b7c23', 'dataRow': {'id': 'clfk4y9xi027v073kh6lu03di', 'globalKey': 'sample-video-2.mp4'}, 'status': 'SUCCESS'}, {'uuid': 'ddfac703-364a-4619-9873-7c7abf2c60a1', 'dataRow': {'id': 'clfk4y9xi027v073kh6lu03di', 'globalKey': 'sample-video-2.mp4'}, 'status': 'SUCCESS'}, {'uuid': '458dd76b-53a1-436d-b04e-ee5999560b11', 'dataRow': {'id': 'clfk4y9xi027v073kh6lu03di', 'globalKey': 'sample-video-2.mp4'}, 'status': 'SUCCESS'}, {'uuid': '7d6dd842-6d21-45ee-a515-80f2e2f390aa', 'dataRow': {'id': 'clfk4y9xi027v073kh6lu03di', 'globalKey': 'sample-video-2.mp4'}, 'status': 'SUCCESS'}]\n"
          ]
        }
      ],
      "execution_count": null
    },
    {
      "metadata": {},
      "source": [
        "##### 7.6. Send the annotations to the Model Run"
      ],
      "cell_type": "markdown"
    },
    {
      "metadata": {},
      "source": [
        "# get the labels id from the project\n",
        "model_run.upsert_labels(project_id=project.uid)"
      ],
      "cell_type": "code",
      "outputs": [
        {
          "data": {
            "text/plain": [
              "True"
            ]
          },
          "execution_count": 22,
          "metadata": {},
          "output_type": "execute_result"
        }
      ],
      "execution_count": null
    },
    {
      "metadata": {},
      "source": [
        "## Optional deletions for cleanup \n"
      ],
      "cell_type": "markdown"
    },
    {
      "metadata": {},
      "source": [
        "# project.delete()\n",
        "# dataset.delete()"
      ],
      "cell_type": "code",
      "outputs": [],
      "execution_count": null
    }
  ]
}