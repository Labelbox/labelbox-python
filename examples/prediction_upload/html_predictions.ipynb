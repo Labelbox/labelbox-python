{
    "nbformat": 4,
    "nbformat_minor": 0,
    "metadata": {},
    "cells": [
        {
            "cell_type": "markdown",
            "id": "db768cda",
            "metadata": {},
            "source": [
                "<td>",
                "   <a target=\"_blank\" href=\"https://labelbox.com\" ><img src=\"https://labelbox.com/blog/content/images/2021/02/logo-v4.svg\" width=256/></a>",
                "</td>"
            ]
        },
        {
            "cell_type": "markdown",
            "id": "cb5611d0",
            "metadata": {},
            "source": [
                "<td>\n",
                "<a href=\"https://colab.research.google.com/github/Labelbox/labelbox-python/blob/develop/examples/prediction_upload/html_predictions.ipynb\" target=\"_blank\"><img",
                "src=\"https://colab.research.google.com/assets/colab-badge.svg\" alt=\"Open In Colab\"></a>",
                "</td>\n",
                "\n",
                "<td>\n",
                "<a href=\"https://github.com/Labelbox/labelbox-python/tree/develop/examples/prediction_upload/html_predictions.ipynb\" target=\"_blank\"><img",
                "src=\"https://img.shields.io/badge/GitHub-100000?logo=github&logoColor=white\" alt=\"GitHub\"></a>\n",
                "</td>"
            ]
        },
        {
            "metadata": {},
            "source": [
                "# HTML Prediction Import\n",
                "\n",
                "This notebook walks you through the process of uploading model predictions to a Model Run. This notebook provides an example for each supported prediction type for HTML assets.\n",
                "\n",
                "**Supported predictions**\n",
                "- Radio Classification \n",
                "- Checklist Classification\n",
                "- free-text Classification\n",
                "\n",
                "**Not supported:**\n",
                "- Bounding Box\n",
                "- Polygon\n",
                "- Point\n",
                "- Polyline\n",
                "- Masks\n",
                "- NER\n",
                "\n",
                "A Model Run is a container for the predictions, annotations and metrics of a specific experiment in your ML model development cycle."
            ],
            "cell_type": "markdown"
        },
        {
            "metadata": {},
            "source": [
                "## Setup"
            ],
            "cell_type": "markdown"
        },
        {
            "metadata": {},
            "source": "%pip install -q \"labelbox[data]\"",
            "cell_type": "code",
            "outputs": [],
            "execution_count": null
        },
        {
            "metadata": {},
            "source": "import labelbox as lb\nimport labelbox.types as lb_types\nimport uuid\nimport numpy as np",
            "cell_type": "code",
            "outputs": [],
            "execution_count": null
        },
        {
            "metadata": {},
            "source": [
                "## Replace with your API Key \n",
                "Guides on [Create an API key](https://docs.labelbox.com/docs/create-an-api-key)"
            ],
            "cell_type": "markdown"
        },
        {
            "metadata": {},
            "source": "API_KEY = \"\"\nclient = lb.Client(API_KEY)",
            "cell_type": "code",
            "outputs": [],
            "execution_count": null
        },
        {
            "metadata": {},
            "source": [
                "## Supported Predictions"
            ],
            "cell_type": "markdown"
        },
        {
            "metadata": {},
            "source": "########### Radio Classification ###########\nradio_prediction = lb_types.ClassificationAnnotation(\n    name=\"radio_question\",  # Should match the name in the ontology\n    value=lb_types.Radio(answer=lb_types.ClassificationAnswer(\n        name=\"first_radio_answer\", confidence=0.5)),\n)\n\nradio_prediction_ndjson = {\n    \"name\": \"radio_question\",\n    \"answer\": {\n        \"name\": \"first_radio_answer\"\n    },\n}",
            "cell_type": "code",
            "outputs": [],
            "execution_count": null
        },
        {
            "metadata": {},
            "source": "#### Nested Classifications ######\n\n# Python annotation\nnested_radio_prediction = lb_types.ClassificationAnnotation(\n    name=\"nested_radio_question\",\n    value=lb_types.Radio(answer=lb_types.ClassificationAnswer(\n        name=\"first_radio_answer\",\n        confidence=0.5,  # Confidence scores should be added to the answer\n        classifications=[\n            lb_types.ClassificationAnnotation(\n                name=\"sub_radio_question\",\n                value=lb_types.Radio(answer=lb_types.ClassificationAnswer(\n                    name=\"first_sub_radio_answer\", confidence=0.5)),\n            )\n        ],\n    )),\n)\n\nnested_radio_prediction_ndjson = {\n    \"name\": \"nested_radio_question\",\n    \"answer\": {\n        \"name\":\n            \"first_radio_answer\",\n        \"confidence\":\n            0.5,  # Confidence scores should be added to the answer\n        \"classifications\": [{\n            \"name\": \"sub_radio_question\",\n            \"answer\": {\n                \"name\": \"first_sub_radio_answer\",\n                \"confidence\": 0.5\n            },\n        }],\n    },\n}\n\nnested_checklist_prediction = lb_types.ClassificationAnnotation(\n    name=\"nested_checklist_question\",\n    value=lb_types.Checklist(answer=[\n        lb_types.ClassificationAnswer(\n            name=\"first_checklist_answer\",\n            confidence=0.5,  # Confidence scores should be added to the answer\n            classifications=[\n                lb_types.ClassificationAnnotation(\n                    name=\"sub_checklist_question\",\n                    value=lb_types.Checklist(answer=[\n                        lb_types.ClassificationAnswer(\n                            name=\"first_sub_checklist_answer\",\n                            confidence=0.5,\n                        )\n                    ]),\n                )\n            ],\n        )\n    ]),\n)\n\nnested_checklist_prediction_ndjson = {\n    \"name\":\n        \"nested_checklist_question\",\n    \"answer\": [{\n        \"name\":\n            \"first_checklist_answer\",\n        \"confidence\":\n            0.5,  # Confidence scores should be added to the answer\n        \"classifications\": [{\n            \"name\": \"sub_checklist_question\",\n            \"answer\": {\n                \"name\": \"first_sub_checklist_answer\",\n                \"confidence\": 0.5,\n            },\n        }],\n    }],\n}",
            "cell_type": "code",
            "outputs": [],
            "execution_count": null
        },
        {
            "metadata": {},
            "source": "########## Checklist ##########\n\n# Python annotation\nchecklist_prediction = lb_types.ClassificationAnnotation(\n    name=\"checklist_question\",\n    value=lb_types.Checklist(answer=[\n        lb_types.ClassificationAnswer(name=\"first_checklist_answer\",\n                                      confidence=0.5),\n        lb_types.ClassificationAnswer(name=\"second_checklist_answer\",\n                                      confidence=0.5),\n        lb_types.ClassificationAnswer(name=\"third_checklist_answer\",\n                                      confidence=0.5),\n    ]),\n)\n\n# NDJSON\nchecklist_prediction_ndjson = {\n    \"name\": \"checklist_question\",\n    \"answer\": [{\n        \"name\": \"first_checklist_answer\",\n        \"confidence\": 0.5\n    }],\n}",
            "cell_type": "code",
            "outputs": [],
            "execution_count": null
        },
        {
            "metadata": {},
            "source": "########## Classification Free-Form text  ##########\n## Text classifications do not support confidence values\n# Python annotation\ntext_prediction = lb_types.ClassificationAnnotation(name=\"free_text\",\n                                                    value=lb_types.Text(\n                                                        answer=\"sample text\",\n                                                        confidence=0.5))\n\n#  NDJSON\ntext_prediction_ndjson = {\n    \"name\": \"free_text\",\n    \"answer\": \"sample text\",\n    \"confidence\": 0.5,\n}",
            "cell_type": "code",
            "outputs": [],
            "execution_count": null
        },
        {
            "metadata": {},
            "source": [
                "## Step 1: Import data rows into Catalog"
            ],
            "cell_type": "markdown"
        },
        {
            "metadata": {},
            "source": "# send a sample image as batch to the project\nglobal_key = \"sample_html_2.html\"\n\ntest_img_url = {\n    \"row_data\":\n        \"https://storage.googleapis.com/labelbox-datasets/html_sample_data/sample_html_2.html\",\n    \"global_key\":\n        global_key,\n}\ndataset = client.create_dataset(\n    name=\"html prediction demo dataset\",\n    iam_integration=\n    None,  # Removing this argument will default to the organziation's default iam integration\n)\ntask = dataset.create_data_rows([test_img_url])\ntask.wait_till_done()\nprint(\"Errors:\", task.errors)\nprint(\"Failed data rows:\", task.failed_data_rows)",
            "cell_type": "code",
            "outputs": [],
            "execution_count": null
        },
        {
            "metadata": {},
            "source": [
                "## Step 2: Create/select an Ontology for your model predictions\n",
                "Your project should have the correct ontology setup with all the tools and classifications supported for your annotations, and the tool names should match the name field in your annotations to ensure the correct feature schemas are matched.\n"
            ],
            "cell_type": "markdown"
        },
        {
            "metadata": {},
            "source": "## Setup the ontology and link the tools created above.\n\nontology_builder = lb.OntologyBuilder(\n    classifications=[  # List of Classification objects\n        lb.Classification(\n            class_type=lb.Classification.Type.RADIO,\n            name=\n            \"radio_question\",  # name matching the tool used in the annotation\n            options=[lb.Option(value=\"first_radio_answer\")],\n        ),\n        lb.Classification(\n            class_type=lb.Classification.Type.RADIO,\n            name=\"nested_radio_question\",\n            options=[\n                lb.Option(\n                    value=\"first_radio_answer\",\n                    options=[\n                        lb.Classification(\n                            class_type=lb.Classification.Type.RADIO,\n                            name=\"sub_radio_question\",\n                            options=[lb.Option(value=\"first_sub_radio_answer\")],\n                        ),\n                    ],\n                )\n            ],\n        ),\n        lb.Classification(\n            class_type=lb.Classification.Type.CHECKLIST,\n            name=\"checklist_question\",\n            options=[\n                lb.Option(value=\"first_checklist_answer\"),\n                lb.Option(value=\"second_checklist_answer\"),\n                lb.Option(value=\"third_checklist_answer\"),\n            ],\n        ),\n        lb.Classification(class_type=lb.Classification.Type.TEXT,\n                          name=\"free_text\"),\n        lb.Classification(\n            class_type=lb.Classification.Type.CHECKLIST,\n            name=\"nested_checklist_question\",\n            options=[\n                lb.Option(\n                    \"first_checklist_answer\",\n                    options=[\n                        lb.Classification(\n                            class_type=lb.Classification.Type.CHECKLIST,\n                            name=\"sub_checklist_question\",\n                            options=[lb.Option(\"first_sub_checklist_answer\")],\n                        )\n                    ],\n                )\n            ],\n        ),\n    ])\n\nontology = client.create_ontology(\n    \"Ontology HTML Predictions\",\n    ontology_builder.asdict(),\n    media_type=lb.MediaType.Html,\n)",
            "cell_type": "code",
            "outputs": [],
            "execution_count": null
        },
        {
            "metadata": {},
            "source": [
                "## Step 3: Create a Model and Model Run"
            ],
            "cell_type": "markdown"
        },
        {
            "metadata": {},
            "source": "# create Model\nmodel = client.create_model(name=\"HTML_model_run_\" + str(uuid.uuid4()),\n                            ontology_id=ontology.uid)\n# create Model Run\nmodel_run = model.create_model_run(\"iteration 1\")",
            "cell_type": "code",
            "outputs": [],
            "execution_count": null
        },
        {
            "metadata": {},
            "source": [
                "## Step 4: Send data rows to the Model Run"
            ],
            "cell_type": "markdown"
        },
        {
            "metadata": {},
            "source": "model_run.upsert_data_rows(global_keys=[global_key])",
            "cell_type": "code",
            "outputs": [],
            "execution_count": null
        },
        {
            "metadata": {},
            "source": [
                "## Step 5. Create the predictions payload\n",
                "\n",
                "Create the annotations payload using the snippets of code in the **Supported Predictions** section.\n",
                "\n",
                "Labelbox support two formats for the annotations payload: NDJSON and Python Annotation types. Both are described below to compose your annotations into Labels attached to the data rows.\n",
                "\n",
                "The resulting label_ndjson should have exactly the same content for annotations that are supported by both"
            ],
            "cell_type": "markdown"
        },
        {
            "metadata": {},
            "source": "# Create a Label for predictions\nlabel_prediction = []\nlabel_prediction.append(\n    lb_types.Label(\n        data=lb_types.HTMLData(global_key=global_key),\n        annotations=[\n            radio_prediction,\n            checklist_prediction,\n            text_prediction,\n            nested_checklist_prediction,\n            nested_radio_prediction,\n        ],\n    ))",
            "cell_type": "code",
            "outputs": [],
            "execution_count": null
        },
        {
            "metadata": {},
            "source": [
                "If using NDJSON: "
            ],
            "cell_type": "markdown"
        },
        {
            "metadata": {},
            "source": "label_prediction_ndjson = []\nfor annot in [\n        radio_prediction_ndjson,\n        nested_radio_prediction_ndjson,\n        checklist_prediction_ndjson,\n        text_prediction_ndjson,\n        nested_checklist_prediction_ndjson,\n]:\n    annot.update({\n        \"dataRow\": {\n            \"globalKey\": global_key\n        },\n    })\n    label_prediction_ndjson.append(annot)",
            "cell_type": "code",
            "outputs": [],
            "execution_count": null
        },
        {
            "metadata": {},
            "source": [
                "## Step 6. Upload the predictions payload to the Model Run "
            ],
            "cell_type": "markdown"
        },
        {
            "metadata": {},
            "source": "# Upload the prediction label to the Model Run\nupload_job_prediction = model_run.add_predictions(\n    name=\"prediction_upload_job\" + str(uuid.uuid4()),\n    predictions=label_prediction,\n)\n\n# Errors will appear for annotation uploads that failed.\nprint(\"Errors:\", upload_job_prediction.errors)\nprint(\"Status of uploads: \", upload_job_prediction.statuses)",
            "cell_type": "code",
            "outputs": [],
            "execution_count": null
        },
        {
            "metadata": {},
            "source": [
                "## Step 7: Send annotations to the Model Run \n",
                "To send annotations to a Model Run, we must first import them into a project, create a label payload and then send them to the Model Run."
            ],
            "cell_type": "markdown"
        },
        {
            "metadata": {},
            "source": [
                "##### 7.1. Create a labelbox project"
            ],
            "cell_type": "markdown"
        },
        {
            "metadata": {},
            "source": "# Create a Labelbox project\nproject = client.create_project(name=\"HTML prediction import demo\",\n                                media_type=lb.MediaType.Html)\nproject.setup_editor(ontology)",
            "cell_type": "code",
            "outputs": [],
            "execution_count": null
        },
        {
            "metadata": {},
            "source": [
                "##### 7.2. Create a batch to send to the project "
            ],
            "cell_type": "markdown"
        },
        {
            "metadata": {},
            "source": "project.create_batch(\n    \"batch_prediction_html\",  # Each batch in a project must have a unique name\n    global_keys=[\n        global_key\n    ],  # Paginated collection of data row objects, list of data row ids or global keys\n    priority=5,  # priority between 1(Highest) - 5(lowest)\n)",
            "cell_type": "code",
            "outputs": [],
            "execution_count": null
        },
        {
            "metadata": {},
            "source": [
                "##### 7.3 Create the annotations payload"
            ],
            "cell_type": "markdown"
        },
        {
            "metadata": {},
            "source": "######  Annotations ######\n\nradio_annotation = lb_types.ClassificationAnnotation(\n    name=\"radio_question\",\n    value=lb_types.Radio(answer=lb_types.ClassificationAnswer(\n        name=\"first_radio_answer\")),\n)\n\nnested_radio_annotation = lb_types.ClassificationAnnotation(\n    name=\"nested_radio_question\",\n    value=lb_types.Radio(answer=lb_types.ClassificationAnswer(\n        name=\"first_radio_answer\",\n        classifications=[\n            lb_types.ClassificationAnnotation(\n                name=\"sub_radio_question\",\n                value=lb_types.Radio(answer=lb_types.ClassificationAnswer(\n                    name=\"first_sub_radio_answer\")),\n            )\n        ],\n    )),\n)\n\nnested_checklist_annotation = lb_types.ClassificationAnnotation(\n    name=\"nested_checklist_question\",\n    value=lb_types.Checklist(answer=[\n        lb_types.ClassificationAnswer(\n            name=\"first_checklist_answer\",\n            classifications=[\n                lb_types.ClassificationAnnotation(\n                    name=\"sub_checklist_question\",\n                    value=lb_types.Checklist(answer=[\n                        lb_types.ClassificationAnswer(\n                            name=\"first_sub_checklist_answer\",)\n                    ]),\n                )\n            ],\n        )\n    ]),\n)\n\nchecklist_annotation = lb_types.ClassificationAnnotation(\n    name=\"checklist_question\",\n    value=lb_types.Checklist(answer=[\n        lb_types.ClassificationAnswer(name=\"first_checklist_answer\",),\n        lb_types.ClassificationAnswer(name=\"second_checklist_answer\",),\n        lb_types.ClassificationAnswer(name=\"third_checklist_answer\",),\n    ]),\n)\n\ntext_annotation = lb_types.ClassificationAnnotation(\n    name=\"free_text\", value=lb_types.Text(answer=\"sample text\"))",
            "cell_type": "code",
            "outputs": [],
            "execution_count": null
        },
        {
            "metadata": {},
            "source": [
                "##### 7.4. Create the label object"
            ],
            "cell_type": "markdown"
        },
        {
            "metadata": {},
            "source": "label = []\nlabel.append(\n    lb_types.Label(\n        data={\"global_key\": global_key},\n        annotations=[\n            text_annotation,\n            checklist_annotation,\n            radio_annotation,\n            nested_checklist_annotation,\n            nested_radio_annotation,\n        ],\n    ))",
            "cell_type": "code",
            "outputs": [],
            "execution_count": null
        },
        {
            "metadata": {},
            "source": [
                "##### 7.5. Upload annotations to the project using Label Import"
            ],
            "cell_type": "markdown"
        },
        {
            "metadata": {},
            "source": "upload_job_annotation = lb.LabelImport.create_from_objects(\n    client=client,\n    project_id=project.uid,\n    name=\"html_annotation_import\" + str(uuid.uuid4()),\n    labels=label,\n)\n\nupload_job_annotation.wait_until_done()\n# Errors will appear for annotation uploads that failed.\nprint(\"Errors:\", upload_job_annotation.errors)\nprint(\"Status of uploads: \", upload_job_annotation.statuses)",
            "cell_type": "code",
            "outputs": [],
            "execution_count": null
        },
        {
            "metadata": {},
            "source": [
                "##### 7.6 Send the annotations to the Model Run"
            ],
            "cell_type": "markdown"
        },
        {
            "metadata": {},
            "source": "# get the labels id from the project\nmodel_run.upsert_labels(project_id=project.uid)",
            "cell_type": "code",
            "outputs": [],
            "execution_count": null
        },
        {
            "metadata": {},
            "source": [
                "## Optional deletions for cleanup \n"
            ],
            "cell_type": "markdown"
        },
        {
            "metadata": {},
            "source": "# project.delete()\n# dataset.delete()",
            "cell_type": "code",
            "outputs": [],
            "execution_count": null
        }
    ]
}