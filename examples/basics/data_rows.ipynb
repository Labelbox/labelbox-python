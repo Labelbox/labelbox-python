{
 "cells": [
  {
   "cell_type": "markdown",
   "source": [
    "<td>\n",
    "   <a target=\"_blank\" href=\"https://labelbox.com\" ><img src=\"https://labelbox.com/blog/content/images/2021/02/logo-v4.svg\" width=256/></a>\n",
    "</td>"
   ],
   "metadata": {}
  },
  {
   "cell_type": "markdown",
   "source": [
    "<td>\n",
    "<a href=\"https://colab.research.google.com/github/Labelbox/labelbox-python/blob/develop/examples/basics/data_rows.ipynb\" target=\"_blank\"><img\n",
    "src=\"https://colab.research.google.com/assets/colab-badge.svg\" alt=\"Open In Colab\"></a>\n",
    "</td>\n",
    "\n",
    "<td>\n",
    "<a href=\"https://github.com/Labelbox/labelbox-python/tree/develop/examples/basics/data_rows.ipynb\" target=\"_blank\"><img\n",
    "src=\"https://img.shields.io/badge/GitHub-100000?logo=github&logoColor=white\" alt=\"GitHub\"></a>\n",
    "</td>"
   ],
   "metadata": {}
  },
  {
   "cell_type": "markdown",
   "source": [
    "# Data rows"
   ],
   "metadata": {}
  },
  {
   "cell_type": "markdown",
   "source": [
    "* Data rows are the items that are actually being labeled. We currently support the following:\n",
    "    * Image\n",
    "    * Text\n",
    "    * Video\n",
    "    * Geospatial / Tiled Imagery\n",
    "    * Audio\n",
    "    * Documents (Beta)\n",
    "    * HTML (Beta)\n",
    "    * DICOM (Beta)\n",
    "* A data row is a member of a dataset \n",
    "* A data row cannot exist without belonging to a dataset.\n",
    "* DataRows are added to labeling tasks by first attaching them to datasets and then attaching datasets to projects."
   ],
   "metadata": {}
  },
  {
   "cell_type": "code",
   "execution_count": 1,
   "source": [
    "!pip install labelbox"
   ],
   "outputs": [],
   "metadata": {}
  },
  {
   "cell_type": "code",
   "execution_count": 2,
   "source": [
    "from labelbox import DataRow, Client\n",
    "import uuid\n",
    "import os"
   ],
   "outputs": [],
   "metadata": {}
  },
  {
   "cell_type": "markdown",
   "source": [
    "* Set the following cell with your data to run this notebook"
   ],
   "metadata": {}
  },
  {
   "cell_type": "code",
   "execution_count": 4,
   "source": [
    "# Pick a project that has a dataset attached, data has external ids, and there are some labels\n",
    "# This will modify the project so just pick a dummy one that you don't care about\n",
    "PROJECT_ID = \"ckpnfquwy0kyg0y8t9rwb99cz\""
   ],
   "outputs": [],
   "metadata": {}
  },
  {
   "cell_type": "markdown",
   "source": [
    "# API Key and Client\n",
    "Provide a valid api key below in order to properly connect to the Labelbox Client."
   ],
   "metadata": {}
  },
  {
   "cell_type": "code",
   "execution_count": 5,
   "source": [
    "# Add your api key\n",
    "API_KEY = None\n",
    "client = Client(api_key=API_KEY)"
   ],
   "outputs": [],
   "metadata": {}
  },
  {
   "cell_type": "code",
   "execution_count": 6,
   "source": [
    "project = client.get_project(PROJECT_ID)\n",
    "dataset = next(project.datasets())\n",
    "# This is the same as\n",
    "# -> dataset = client.get_dataset(dataset_id)"
   ],
   "outputs": [],
   "metadata": {}
  },
  {
   "cell_type": "markdown",
   "source": [
    "### Read"
   ],
   "metadata": {}
  },
  {
   "cell_type": "code",
   "execution_count": 7,
   "source": [
    "data_rows = dataset.data_rows()\n",
    "data_row = next(data_rows)"
   ],
   "outputs": [],
   "metadata": {}
  },
  {
   "cell_type": "code",
   "execution_count": 8,
   "source": [
    "# Url\n",
    "print(\"Associated dataset\", data_row.dataset())\n",
    "print(\"Associated label(s)\", next(data_row.labels()))\n",
    "print(\"External id\", data_row.external_id)"
   ],
   "outputs": [
    {
     "output_type": "stream",
     "name": "stdout",
     "text": [
      "Associated dataset <Dataset {'created_at': datetime.datetime(2021, 6, 8, 2, 40, 10, tzinfo=datetime.timezone.utc), 'description': '', 'name': 'image_mea_dataset', 'uid': 'ckpnfqv6g1rvb0ybt85hjephs', 'updated_at': datetime.datetime(2021, 6, 8, 2, 40, 10, tzinfo=datetime.timezone.utc)}>\n",
      "Associated label(s) <Label {'agreement': None, 'benchmark_agreement': None, 'created_at': datetime.datetime(2021, 6, 8, 2, 42, 11, tzinfo=datetime.timezone.utc), 'is_benchmark_reference': False, 'label': '{\"objects\":[{\"featureId\":\"ckpnftdgo00013h693jxji4wa\",\"schemaId\":\"ckpnfqw600kyt0y8tgwsb01xg\",\"title\":\"person\",\"value\":\"person\",\"color\":\"#ff0000\",\"bbox\":{\"top\":1044,\"left\":1460,\"height\":265,\"width\":118},\"instanceURI\":\"https://api.labelbox.com/masks/feature/ckpnftdgo00013h693jxji4wa\"},{\"featureId\":\"ckpo2bsq800013h69mi1w6xz1\",\"schemaId\":\"ckpnfqw610kyx0y8t4hotc6ld\",\"title\":\"car\",\"value\":\"car\",\"color\":\"#00ffff\",\"instanceURI\":\"https://api.labelbox.com/masks/feature/ckpo2bsq800013h69mi1w6xz1\"}],\"classifications\":[]}', 'seconds_to_label': 101.633, 'uid': 'ckpnftgpx00033h69z83erv92', 'updated_at': datetime.datetime(2021, 6, 9, 0, 51, 34, tzinfo=datetime.timezone.utc)}>\n",
      "External id 3b983504-bfbd-4c26-8719-8ef2d5a2c14f\n"
     ]
    }
   ],
   "metadata": {}
  },
  {
   "cell_type": "code",
   "execution_count": 9,
   "source": [
    "# External ids can be a reference to your internal datasets\n",
    "data_row = dataset.data_row_for_external_id(data_row.external_id)\n",
    "print(data_row)"
   ],
   "outputs": [
    {
     "output_type": "stream",
     "name": "stdout",
     "text": [
      "<DataRow {'created_at': datetime.datetime(2021, 6, 8, 2, 40, 10, tzinfo=datetime.timezone.utc), 'external_id': '3b983504-bfbd-4c26-8719-8ef2d5a2c14f', 'media_attributes': {'width': 2560, 'height': 1707, 'mimeType': 'image/jpeg'}, 'row_data': 'https://upload.wikimedia.org/wikipedia/commons/thumb/0/08/Kitano_Street_Kobe01s5s4110.jpg/2560px-Kitano_Street_Kobe01s5s4110.jpg', 'uid': 'ckpnfqvcb0t2o0yane73d3whi', 'updated_at': datetime.datetime(2021, 6, 9, 0, 51, tzinfo=datetime.timezone.utc)}>\n"
     ]
    }
   ],
   "metadata": {}
  },
  {
   "cell_type": "markdown",
   "source": [
    "### Create\n",
    "* Create a single data row at a time"
   ],
   "metadata": {}
  },
  {
   "cell_type": "code",
   "execution_count": 10,
   "source": [
    "dataset = client.create_dataset(name=\"testing-dataset\")\n",
    "dataset.create_data_row(row_data=\"https://picsum.photos/200/300\")\n",
    "\n",
    "# It is reccomended that you use external ids but optional.\n",
    "# These are useful for users to maintain references to a data_row.\n",
    "dataset.create_data_row(row_data=\"https://picsum.photos/200/300\",\n",
    "                        external_id=str(uuid.uuid4()))"
   ],
   "outputs": [
    {
     "output_type": "execute_result",
     "data": {
      "text/plain": [
       "<DataRow ID: ckporcoee1c7s0z7fha6l5x0d>"
      ]
     },
     "metadata": {},
     "execution_count": 9
    }
   ],
   "metadata": {}
  },
  {
   "cell_type": "markdown",
   "source": [
    "* Bulk create data rows (This is much faster than creating individual data rows)"
   ],
   "metadata": {}
  },
  {
   "cell_type": "code",
   "execution_count": 11,
   "source": [
    "task1 = dataset.create_data_rows([{\n",
    "    DataRow.row_data: \"https://picsum.photos/200/300\"\n",
    "}, {\n",
    "    DataRow.row_data: \"https://picsum.photos/200/300\"\n",
    "}])"
   ],
   "outputs": [],
   "metadata": {}
  },
  {
   "cell_type": "code",
   "execution_count": 12,
   "source": [
    "# Local paths\n",
    "local_data_path = '/tmp/test_data_row.txt'\n",
    "with open(local_data_path, 'w') as file:\n",
    "    file.write(\"sample data\")\n",
    "\n",
    "task2 = dataset.create_data_rows([local_data_path])"
   ],
   "outputs": [],
   "metadata": {}
  },
  {
   "cell_type": "code",
   "execution_count": 13,
   "source": [
    "# You can mix local files with urls\n",
    "task3 = dataset.create_data_rows([{\n",
    "    DataRow.row_data: \"https://picsum.photos/200/300\"\n",
    "}, local_data_path])"
   ],
   "outputs": [],
   "metadata": {}
  },
  {
   "cell_type": "code",
   "execution_count": 14,
   "source": [
    "# Note that you cannot set external_ids at this time when uploading from local files.\n",
    "# To do this you have to first\n",
    "item_url = client.upload_file(local_data_path)\n",
    "task4 = dataset.create_data_rows([{\n",
    "    DataRow.row_data: item_url,\n",
    "    DataRow.external_id: str(uuid.uuid4())\n",
    "}])"
   ],
   "outputs": [],
   "metadata": {}
  },
  {
   "cell_type": "code",
   "execution_count": 15,
   "source": [
    "# Blocking wait until complete\n",
    "task1.wait_till_done()\n",
    "task2.wait_till_done()\n",
    "task3.wait_till_done()\n",
    "task4.wait_till_done()\n",
    "\n",
    "print(task1.status, task2.status, task3.status, task4.status)"
   ],
   "outputs": [
    {
     "output_type": "stream",
     "name": "stdout",
     "text": [
      "COMPLETE COMPLETE COMPLETE COMPLETE\n"
     ]
    }
   ],
   "metadata": {}
  },
  {
   "cell_type": "markdown",
   "source": [
    "### Update"
   ],
   "metadata": {}
  },
  {
   "cell_type": "code",
   "execution_count": 16,
   "source": [
    "# Useful for resigning urls\n",
    "new_id = str(uuid.uuid4())\n",
    "data_row.update(external_id=new_id)\n",
    "print(data_row.external_id, new_id)"
   ],
   "outputs": [
    {
     "output_type": "stream",
     "name": "stdout",
     "text": [
      "337e90de-c13c-48be-a87d-94d331b5e9a7 337e90de-c13c-48be-a87d-94d331b5e9a7\n"
     ]
    }
   ],
   "metadata": {}
  },
  {
   "cell_type": "code",
   "execution_count": 17,
   "source": [
    "# We can also create attachments\n",
    "# Attachments are visible for all projects connected to the data_row\n",
    "data_row.create_attachment(attachment_type=\"TEXT\",\n",
    "                           attachment_value=\"LABELERS WILL SEE THIS \")\n",
    "# See more information here:\n",
    "# https://docs.labelbox.com/reference/type-image\n",
    "# Note that attachment_value must always be a string (url to a video/image or a text value to display)"
   ],
   "outputs": [
    {
     "output_type": "execute_result",
     "data": {
      "text/plain": [
       "<AssetAttachment ID: ckporcvj61dni0y632e6cb217>"
      ]
     },
     "metadata": {},
     "execution_count": 16
    }
   ],
   "metadata": {}
  },
  {
   "cell_type": "markdown",
   "source": [
    "### Delete"
   ],
   "metadata": {}
  },
  {
   "cell_type": "code",
   "execution_count": 18,
   "source": [
    "data_row.delete()\n",
    "# Will remove from the dataset too"
   ],
   "outputs": [],
   "metadata": {}
  },
  {
   "cell_type": "code",
   "execution_count": 19,
   "source": [
    "# Bulk delete a list of data_rows (in this case all of them we just uploaded)\n",
    "DataRow.bulk_delete(list(dataset.data_rows()))"
   ],
   "outputs": [],
   "metadata": {}
  }
 ],
 "metadata": {
  "kernelspec": {
   "display_name": "Python 3",
   "language": "python",
   "name": "python3"
  },
  "language_info": {
   "codemirror_mode": {
    "name": "ipython",
    "version": 3
   },
   "file_extension": ".py",
   "mimetype": "text/x-python",
   "name": "python",
   "nbconvert_exporter": "python",
   "pygments_lexer": "ipython3",
   "version": "3.8.5"
  }
 },
 "nbformat": 4,
 "nbformat_minor": 5
}