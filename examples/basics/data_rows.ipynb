{
  "nbformat": 4,
  "nbformat_minor": 5,
  "metadata": {},
  "cells": [
    {
      "metadata": {},
      "source": [
        "<td>\n",
        "   <a target=\"_blank\" href=\"https://labelbox.com\" ><img src=\"https://labelbox.com/blog/content/images/2021/02/logo-v4.svg\" width=256/></a>\n",
        "</td>"
      ],
      "cell_type": "markdown"
    },
    {
      "metadata": {},
      "source": [
        "<td>\n",
        "<a href=\"https://colab.research.google.com/github/Labelbox/labelbox-python/blob/master/examples/basics/data_rows.ipynb\" target=\"_blank\"><img\n",
        "src=\"https://colab.research.google.com/assets/colab-badge.svg\" alt=\"Open In Colab\"></a>\n",
        "</td>\n",
        "\n",
        "<td>\n",
        "<a href=\"https://github.com/Labelbox/labelbox-python/tree/master/examples/basics/data_rows.ipynb\" target=\"_blank\"><img\n",
        "src=\"https://img.shields.io/badge/GitHub-100000?logo=github&logoColor=white\" alt=\"GitHub\"></a>\n",
        "</td>"
      ],
      "cell_type": "markdown"
    },
    {
      "metadata": {},
      "source": [
        "# Data rows"
      ],
      "cell_type": "markdown"
    },
    {
      "metadata": {},
      "source": [
        "* Data rows are the items that are actually being labeled. We currently support the following:\n",
        "    * Image\n",
        "    * Text\n",
        "    * Video\n",
        "    * Geospatial / Tiled Imagery\n",
        "    * Audio\n",
        "    * Documents (Beta)\n",
        "    * HTML (Beta)\n",
        "    * DICOM (Beta)\n",
        "* A data row is a member of a dataset \n",
        "* A data row cannot exist without belonging to a dataset.\n",
        "* DataRows are added to labeling tasks by first attaching them to datasets and then attaching datasets to projects."
      ],
      "cell_type": "markdown"
    },
    {
      "metadata": {},
      "source": [
        "!pip install labelbox"
      ],
      "cell_type": "code",
      "outputs": [],
      "execution_count": null
    },
    {
      "metadata": {},
      "source": [
        "import labelbox as lb\n",
        "import uuid\n",
        "import os"
      ],
      "cell_type": "code",
      "outputs": [],
      "execution_count": null
    },
    {
      "metadata": {},
      "source": [
        "* Set the following cell with your data to run this notebook"
      ],
      "cell_type": "markdown"
    },
    {
      "metadata": {},
      "source": [
        "# Pick a project that has a dataset attached, data has external ids, and there are some labels\n",
        "# This will modify the project so just pick a dummy one that you don't care about\n",
        "PROJECT_ID = \"\""
      ],
      "cell_type": "code",
      "outputs": [],
      "execution_count": null
    },
    {
      "metadata": {},
      "source": [
        "# API Key and Client\n",
        "Provide a valid api key below in order to properly connect to the Labelbox Client."
      ],
      "cell_type": "markdown"
    },
    {
      "metadata": {},
      "source": [
        "# Add your api key\n",
        "API_KEY = None\n",
        "client = lb.Client(api_key=API_KEY)"
      ],
      "cell_type": "code",
      "outputs": [],
      "execution_count": null
    },
    {
      "metadata": {},
      "source": [
        "project = client.get_project(PROJECT_ID)\n",
        "dataset = next(project.datasets())\n",
        "# This is the same as\n",
        "# -> dataset = client.get_dataset(dataset_id)"
      ],
      "cell_type": "code",
      "outputs": [],
      "execution_count": null
    },
    {
      "metadata": {},
      "source": [
        "### Read"
      ],
      "cell_type": "markdown"
    },
    {
      "metadata": {},
      "source": [
        "data_rows = dataset.data_rows()\n",
        "data_row = next(data_rows)"
      ],
      "cell_type": "code",
      "outputs": [],
      "execution_count": null
    },
    {
      "metadata": {},
      "source": [
        "# Url\n",
        "print(\"Associated dataset\", data_row.dataset())\n",
        "print(\"Associated label(s)\", next(data_row.labels()))\n",
        "print(\"External id\", data_row.external_id)"
      ],
      "cell_type": "code",
      "outputs": [],
      "execution_count": null
    },
    {
      "metadata": {},
      "source": [],
      "cell_type": "code",
      "outputs": [],
      "execution_count": null
    },
    {
      "metadata": {},
      "source": [
        "# External ids can be a reference to your internal datasets\n",
        "data_row = dataset.data_row_for_external_id(data_row.external_id)\n",
        "print(data_row)"
      ],
      "cell_type": "code",
      "outputs": [],
      "execution_count": null
    },
    {
      "metadata": {},
      "source": [
        "### Create\n",
        "* Create a single data row at a time"
      ],
      "cell_type": "markdown"
    },
    {
      "metadata": {},
      "source": [
        "dataset = client.create_dataset(name=\"testing-dataset\")\n",
        "dataset.create_data_row(row_data=\"https://picsum.photos/200/300\")\n",
        "\n",
        "# It is reccomended that you use external ids but optional.\n",
        "# These are useful for users to maintain references to a data_row.\n",
        "dataset.create_data_row(row_data=\"https://picsum.photos/200/300\",\n",
        "                        external_id=str(uuid.uuid4()))\n",
        "\n",
        "# You can also upload metadata along with your data_row\n",
        "mdo = client.get_data_row_metadata_ontology()\n",
        "dataset.create_data_row(row_data=\"https://picsum.photos/200/300\",\n",
        "                        external_id=str(uuid.uuid4()),\n",
        "                        metadata_fields=[\n",
        "                            lb.DataRowMetadataField(\n",
        "                              schema_id=mdo.reserved_by_name[\"tag\"].uid,  # specify the schema id\n",
        "                              value=\"tag_string\", # typed inputs\n",
        "                            ),\n",
        "                        ], \n",
        ")"
      ],
      "cell_type": "code",
      "outputs": [],
      "execution_count": null
    },
    {
      "metadata": {},
      "source": [
        "* Bulk create data rows (This is much faster than creating individual data rows)"
      ],
      "cell_type": "markdown"
    },
    {
      "metadata": {},
      "source": [
        "task1 = dataset.create_data_rows([{\n",
        "    lb.DataRow.row_data: \"https://picsum.photos/200/300\"\n",
        "}, {\n",
        "    lb.DataRow.row_data: \"https://picsum.photos/200/300\"\n",
        "}])"
      ],
      "cell_type": "code",
      "outputs": [],
      "execution_count": null
    },
    {
      "metadata": {},
      "source": [
        "# Local paths\n",
        "local_data_path = '/tmp/test_data_row.txt'\n",
        "with open(local_data_path, 'w') as file:\n",
        "    file.write(\"sample data\")\n",
        "\n",
        "task2 = dataset.create_data_rows([local_data_path])"
      ],
      "cell_type": "code",
      "outputs": [],
      "execution_count": null
    },
    {
      "metadata": {},
      "source": [
        "# You can mix local files with urls\n",
        "task3 = dataset.create_data_rows([{\n",
        "    lb.DataRow.row_data: \"https://picsum.photos/200/300\"\n",
        "}, local_data_path])"
      ],
      "cell_type": "code",
      "outputs": [],
      "execution_count": null
    },
    {
      "metadata": {},
      "source": [
        "# Note that you cannot set external_ids at this time when uploading from local files.\n",
        "# To do this you have to first\n",
        "item_url = client.upload_file(local_data_path)\n",
        "task4 = dataset.create_data_rows([{\n",
        "    lb.DataRow.row_data: item_url,\n",
        "    lb.DataRow.external_id: str(uuid.uuid4())\n",
        "}])"
      ],
      "cell_type": "code",
      "outputs": [],
      "execution_count": null
    },
    {
      "metadata": {},
      "source": [
        "# You can bulk upload Data Rows with metadata\n",
        "task5 = dataset.create_data_rows([{\n",
        "    lb.DataRow.row_data: \"https://picsum.photos/200/300\",\n",
        "    lb.DataRow.external_id: str(uuid.uuid4()),\n",
        "    \"metadata_fields\": [\n",
        "      lb.DataRowMetadataField(\n",
        "        schema_id=mdo.reserved_by_name[\"tag\"].uid,  # specify the schema id\n",
        "        value=\"tag_string\", # typed inputs\n",
        "      ),\n",
        "    ], \n",
        "}])"
      ],
      "cell_type": "code",
      "outputs": [],
      "execution_count": null
    },
    {
      "metadata": {},
      "source": [
        "# Blocking wait until complete\n",
        "task1.wait_till_done()\n",
        "task2.wait_till_done()\n",
        "task3.wait_till_done()\n",
        "task4.wait_till_done()\n",
        "task5.wait_till_done()\n",
        "\n",
        "print(task1.status, task2.status, task3.status, task4.status, task5.status)"
      ],
      "cell_type": "code",
      "outputs": [],
      "execution_count": null
    },
    {
      "metadata": {},
      "source": [
        "### Update"
      ],
      "cell_type": "markdown"
    },
    {
      "metadata": {},
      "source": [
        "# Useful for resigning urls\n",
        "new_id = str(uuid.uuid4())\n",
        "data_row.update(external_id=new_id)\n",
        "print(data_row.external_id, new_id)"
      ],
      "cell_type": "code",
      "outputs": [],
      "execution_count": null
    },
    {
      "metadata": {},
      "source": [
        "# We can also create attachments\n",
        "# Attachments are visible for all projects connected to the data_row\n",
        "data_row.create_attachment(attachment_type=\"TEXT\",\n",
        "                           attachment_value=\"LABELERS WILL SEE THIS \")\n",
        "# See more information here:\n",
        "# https://docs.labelbox.com/reference/type-image\n",
        "# Note that attachment_value must always be a string (url to a video/image or a text value to display)"
      ],
      "cell_type": "code",
      "outputs": [
        {
          "data": {
            "text/plain": [
              "<AssetAttachment ID: ckporcvj61dni0y632e6cb217>"
            ]
          },
          "execution_count": 16,
          "metadata": {},
          "output_type": "execute_result"
        }
      ],
      "execution_count": null
    },
    {
      "metadata": {},
      "source": [
        "### Delete"
      ],
      "cell_type": "markdown"
    },
    {
      "metadata": {},
      "source": [
        "data_row.delete()\n",
        "# Will remove from the dataset too"
      ],
      "cell_type": "code",
      "outputs": [],
      "execution_count": null
    },
    {
      "metadata": {},
      "source": [
        "# Bulk delete a list of data_rows (in this case all of them we just uploaded)\n",
        "lb.DataRow.bulk_delete(list(dataset.data_rows()))"
      ],
      "cell_type": "code",
      "outputs": [],
      "execution_count": null
    }
  ]
}