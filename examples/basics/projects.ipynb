{
  "nbformat": 4,
  "nbformat_minor": 5,
  "metadata": {},
  "cells": [
    {
      "metadata": {},
      "source": [
        "<td>",
        "   <a target=\"_blank\" href=\"https://labelbox.com\" ><img src=\"https://labelbox.com/blog/content/images/2021/02/logo-v4.svg\" width=256/></a>",
        "</td>\n"
      ],
      "cell_type": "markdown"
    },
    {
      "metadata": {},
      "source": [
        "<td>\n",
        "<a href=\"https://colab.research.google.com/github/Labelbox/labelbox-python/blob/develop/examples/basics/projects.ipynb\" target=\"_blank\"><img\n",
        "src=\"https://colab.research.google.com/assets/colab-badge.svg\" alt=\"Open In Colab\"></a>\n",
        "</td>\n",
        "\n",
        "<td>\n",
        "<a href=\"https://github.com/Labelbox/labelbox-python/tree/develop/examples/basics/projects.ipynb\" target=\"_blank\"><img\n",
        "src=\"https://img.shields.io/badge/GitHub-100000?logo=github&logoColor=white\" alt=\"GitHub\"></a>\n",
        "</td>"
      ],
      "cell_type": "markdown"
    },
    {
      "metadata": {},
      "source": [
        "# Projects\n",
        "This notebook covers the basics of projects:"
      ],
      "cell_type": "markdown"
    },
    {
      "metadata": {},
      "source": [
        "* A project can be thought of as a specific labeling task on a set of labels\n",
        "* That set of labels is defined by the data rows attached to the project\n",
        "* Each project has an ontology which defines the types of annotations supported during the labeling process\n",
        "**Note that there is a lot of advanced usage that is not covered in this notebook. See examples/project_configuration/project_setup.ipynb for those functions**\n",
        "* Also note that deprecated functions are not explained here."
      ],
      "cell_type": "markdown"
    },
    {
      "metadata": {},
      "source": [
        "## Set up"
      ],
      "cell_type": "markdown"
    },
    {
      "metadata": {},
      "source": "%pip install -q --upgrade \"labelbox[data]\"",
      "cell_type": "code",
      "outputs": [],
      "execution_count": null
    },
    {
      "metadata": {},
      "source": "import labelbox as lb\nimport labelbox.types as lb_types\nfrom labelbox.schema.conflict_resolution_strategy import (\n    ConflictResolutionStrategy,)\nimport uuid",
      "cell_type": "code",
      "outputs": [],
      "execution_count": null
    },
    {
      "metadata": {},
      "source": [
        "## API key and client\n",
        "Provide a valid API key below to connect to the Labelbox client properly. For more information, please review the [Create API key](https://docs.labelbox.com/reference/create-api-key) guide."
      ],
      "cell_type": "markdown"
    },
    {
      "metadata": {},
      "source": "API_KEY = None\nclient = lb.Client(api_key=API_KEY)",
      "cell_type": "code",
      "outputs": [],
      "execution_count": null
    },
    {
      "metadata": {},
      "source": [
        "### Create a project\n"
      ],
      "cell_type": "markdown"
    },
    {
      "metadata": {},
      "source": "# Creates an empty project\nproject = client.create_project(\n    name=\"my-test-project\",\n    description=\"a description\",\n    media_type=lb.MediaType.Image,\n)",
      "cell_type": "code",
      "outputs": [],
      "execution_count": null
    },
    {
      "metadata": {},
      "source": [
        "### Create a dataset with data rows"
      ],
      "cell_type": "markdown"
    },
    {
      "metadata": {},
      "source": "dataset = client.create_dataset(name=\"project-demo-dataset\")\nglobal_keys = []\nuploads = []\n# Generate data rows\nfor i in range(1, 9):\n    gb_key = \"TEST-ID-%id\" % uuid.uuid1()\n    uploads.append({\n        \"row_data\":\n            f\"https://storage.googleapis.com/labelbox-datasets/People_Clothing_Segmentation/jpeg_images/IMAGES/img_000{i}.jpeg\",\n        \"global_key\":\n            gb_key,\n    })\n    global_keys.append(gb_key)\n\ntask = dataset.create_data_rows(uploads)\ntask.wait_till_done()\nprint(\"ERRORS: \", task.errors)\nprint(\"RESULT URL: \", task.result_url)",
      "cell_type": "code",
      "outputs": [],
      "execution_count": null
    },
    {
      "metadata": {},
      "source": [
        "### Add data rows to a project \n"
      ],
      "cell_type": "markdown"
    },
    {
      "metadata": {},
      "source": "project.create_batch(\n    \"project-demo\",  # each batch in a project must have a unique name\n    global_keys=\n    global_keys,  # paginated collection of data row objects, list of data row ids or global keys\n    priority=1,  # priority between 1(highest) - 5(lowest)\n)",
      "cell_type": "code",
      "outputs": [],
      "execution_count": null
    },
    {
      "metadata": {},
      "source": [
        "### Create tags and assign them to a project\n",
        "In this section, we are creating a tag in the ontology and associating it with a project. Then we are listing the tags attached to a project.\n"
      ],
      "cell_type": "markdown"
    },
    {
      "metadata": {},
      "source": [
        "#### Create a tag"
      ],
      "cell_type": "markdown"
    },
    {
      "metadata": {},
      "source": "# Get the organization\norganization = client.get_organization()\n\ntag = organization.create_resource_tag({\n    \"text\": \"new-tag-name\",\n    \"color\": \"4ed2f9\"\n})",
      "cell_type": "code",
      "outputs": [],
      "execution_count": null
    },
    {
      "metadata": {},
      "source": [
        "#### Assign the tag to a project"
      ],
      "cell_type": "markdown"
    },
    {
      "metadata": {},
      "source": "tags = project.update_project_resource_tags([tag.uid])",
      "cell_type": "code",
      "outputs": [],
      "execution_count": null
    },
    {
      "metadata": {},
      "source": [
        "#### Get project tags"
      ],
      "cell_type": "markdown"
    },
    {
      "metadata": {},
      "source": "tags = project.get_resource_tags()",
      "cell_type": "code",
      "outputs": [],
      "execution_count": null
    },
    {
      "metadata": {},
      "source": [
        "### Attach ontology and label data rows\n",
        "\n",
        "In this section, we are creating an ontology to attach to a project and creating labels to import as ground truths. We need this setup to demonstrate other methods later in the demo. For more information, please reference our [Ontology](https://docs.labelbox.com/reference/ontology) and [Import Image Annotation](https://docs.labelbox.com/reference/import-image-annotations) development guides."
      ],
      "cell_type": "markdown"
    },
    {
      "metadata": {},
      "source": [
        "#### Create your ontology"
      ],
      "cell_type": "markdown"
    },
    {
      "metadata": {},
      "source": "# Create normalized json with a radio classification\nontology_builder = lb.OntologyBuilder(\n    classifications=[  # List of Classification objects\n        lb.Classification(\n            class_type=lb.Classification.Type.RADIO,\n            name=\"radio_question\",\n            options=[\n                lb.Option(value=\"first_radio_answer\"),\n                lb.Option(value=\"second_radio_answer\"),\n            ],\n        ),\n    ])\n# Creating an ontology\nontology = client.create_ontology(\"test-ontology\", ontology_builder.asdict())",
      "cell_type": "code",
      "outputs": [],
      "execution_count": null
    },
    {
      "metadata": {},
      "source": [
        "#### Attach ontology to project"
      ],
      "cell_type": "markdown"
    },
    {
      "metadata": {},
      "source": "project.setup_editor(ontology)",
      "cell_type": "code",
      "outputs": [],
      "execution_count": null
    },
    {
      "metadata": {},
      "source": [
        "### Create labels and upload them to project as ground truths"
      ],
      "cell_type": "markdown"
    },
    {
      "metadata": {},
      "source": "# Create labels\nlabels = []\nfor global_key in global_keys:\n    labels.append(\n        lb_types.Label(\n            data={\"global_key\": global_key},\n            annotations=[\n                # Create radio classification annotation for labels\n                lb_types.ClassificationAnnotation(\n                    name=\"radio_question\",\n                    value=lb_types.Radio(answer=lb_types.ClassificationAnswer(\n                        name=\"second_radio_answer\")),\n                )\n            ],\n        ))\n\n# Upload labels for the data rows in project\nupload_job = lb.LabelImport.create_from_objects(\n    client=client,\n    project_id=project.uid,\n    name=\"label_import_job\" + str(uuid.uuid4()),\n    labels=labels,\n)\n\nupload_job.wait_until_done()\n\nprint(f\"Errors: {upload_job.errors}\")",
      "cell_type": "code",
      "outputs": [],
      "execution_count": null
    },
    {
      "metadata": {},
      "source": [
        "### Move data rows in project to different task queues"
      ],
      "cell_type": "markdown"
    },
    {
      "metadata": {},
      "source": "# Get list of task queues for project\ntask_queues = project.task_queues()\n\nfor task_queue in task_queues:\n    print(task_queue)",
      "cell_type": "code",
      "outputs": [],
      "execution_count": null
    },
    {
      "metadata": {},
      "source": "project.move_data_rows_to_task_queue(\n    data_row_ids=lb.GlobalKeys(global_keys),  # Provide a list of global keys\n    task_queue_id=task_queues[2].\n    uid,  # Passing None moves data rows to \"Done\" task queue\n)",
      "cell_type": "code",
      "outputs": [],
      "execution_count": null
    },
    {
      "metadata": {},
      "source": [
        "### Fetch project configuration"
      ],
      "cell_type": "markdown"
    },
    {
      "metadata": {},
      "source": "# Note the project is not fully setup many of the fields will be empty.\nprint(\"Project is not setup yet:\", project.setup_complete is None)\nprint(\"Project name:\", project.name)\nprint(\"Project description:\", project.description)\nprint(\"Media Type:\", project.media_type)\nbatches = [b for b in project.batches()]\nprint(\"Project Batches\", batches)\nprint(\"Ontology:\", project.ontology())",
      "cell_type": "code",
      "outputs": [],
      "execution_count": null
    },
    {
      "metadata": {},
      "source": [
        "### Return number of labeled data rows"
      ],
      "cell_type": "markdown"
    },
    {
      "metadata": {},
      "source": "print(\"Number of labels:\", project.get_label_count())",
      "cell_type": "code",
      "outputs": [],
      "execution_count": null
    },
    {
      "metadata": {},
      "source": [
        "### Get project overview"
      ],
      "cell_type": "markdown"
    },
    {
      "metadata": {},
      "source": "# Returns only the number of data rows and issues\noverview = project.get_overview()\n\n# Returns the number of data rows, issues and the details of the in_review queue\ndetailed_overview = project.get_overview(details=True)",
      "cell_type": "code",
      "outputs": [],
      "execution_count": null
    },
    {
      "metadata": {},
      "source": [
        "### Duplicate a project\n",
        "Please see the section [Duplicate a project](https://docs.labelbox.com/docs/create-a-project#duplicate-a-project) to have the scope of the method."
      ],
      "cell_type": "markdown"
    },
    {
      "metadata": {},
      "source": "destination_project = project.clone()",
      "cell_type": "code",
      "outputs": [],
      "execution_count": null
    },
    {
      "metadata": {},
      "source": [
        "### Copy labels and data rows from one project to a different project\n",
        "In the below steps we will be copying data rows with their corresponding labels from one project to a different project with a similar ontology. First, we must set up a new project with a ontology that matches the tooling of our source project ontology."
      ],
      "cell_type": "markdown"
    },
    {
      "metadata": {},
      "source": "# Create an empty destination project\ndestination_project = client.create_project(\n    name=\"destination-test-project\",\n    description=\"a description\",\n    media_type=lb.MediaType.Image,\n)\n\n# Create ontology and attach to destination project\ndestination_ontology_builder = lb.OntologyBuilder(\n    classifications=[  # List of Classification objects\n        lb.Classification(\n            class_type=lb.Classification.Type.RADIO,\n            name=\"destination_radio_question\",\n            options=[\n                lb.Option(value=\"destination_first_radio_answer\"),\n                lb.Option(value=\"destination_second_radio_answer\"),\n            ],\n        ),\n    ])\n\ndestination_ontology = client.create_ontology(\"dest-test-ontology\",\n                                              ontology_builder.asdict())\n\ndestination_project.setup_editor(destination_ontology)",
      "cell_type": "code",
      "outputs": [],
      "execution_count": null
    },
    {
      "metadata": {},
      "source": [
        "#### Copy data rows and labels\n",
        "To copy our data rows and labels to our project from a source project we will be using the `send_to_annotate_from_catalog` method with our Labelbox client.\n",
        "\n",
        "##### Parameters\n",
        "\n",
        "When you send data rows with labels to our destination project, you may choose to include or exclude certain parameters, at a minimum a `source_project_id` will need to be provided:\n",
        "\n",
        "* `source_project_id`\n",
        "    - The id of the project were our data rows with labels will originate.\n",
        "* `annotation_ontology_mapping`\n",
        "    - A dictionary containing the mapping of the source project's ontology feature schema ids to the destination project's ontology feature schema ids. If left empty only the data rows will be sent to our destination project with no labels.\n",
        "* `exclude_data_rows_in_project`\n",
        "    - Excludes data rows that are already in the project. \n",
        "* `override_existing_annotations_rule` \n",
        "    - The strategy defining how to handle conflicts in classifications between the data rows that already exist in the project and incoming labels from the source project. \n",
        "        * Defaults to ConflictResolutionStrategy.KeepExisting\n",
        "        * Options include:\n",
        "            * ConflictResolutionStrategy.KeepExisting\n",
        "            * ConflictResolutionStrategy.OverrideWithPredictions\n",
        "            * ConflictResolutionStrategy.OverrideWithAnnotations\n",
        "* `param batch_priority`\n",
        "    - The priority of the batch."
      ],
      "cell_type": "markdown"
    },
    {
      "metadata": {},
      "source": "# Get ontology dictionary to obtain featureSchemaIds\nsource_ontology_normalized = ontology.normalized\ndestination_ontology_normalized = destination_ontology.normalized\n\nANNOTATION_ONTOLOGY_MAPPING = {\n    source_ontology_normalized[\"classifications\"][0][\"featureSchemaId\"]:\n        destination_ontology_normalized[\"classifications\"][0]\n        [\"featureSchemaId\"],  # Classification featureSchemaID\n    source_ontology_normalized[\"classifications\"][0][\"options\"][0][\"featureSchemaId\"]:\n        destination_ontology_normalized[\"classifications\"][0][\"options\"][0]\n        [\"featureSchemaId\"],  # Different Classification Answer featureSchemaIDs\n    source_ontology_normalized[\"classifications\"][0][\"options\"][1][\"featureSchemaId\"]:\n        destination_ontology_normalized[\"classifications\"][0][\"options\"][1]\n        [\"featureSchemaId\"],\n}",
      "cell_type": "code",
      "outputs": [],
      "execution_count": null
    },
    {
      "metadata": {},
      "source": "send_to_annotate_params = {\n    \"source_project_id\":\n        project.uid,\n    \"annotations_ontology_mapping\":\n        ANNOTATION_ONTOLOGY_MAPPING,\n    \"exclude_data_rows_in_project\":\n        False,\n    \"override_existing_annotations_rule\":\n        ConflictResolutionStrategy.OverrideWithPredictions,\n    \"batch_priority\":\n        5,\n}\n\n# Get task id to workflow you want to send data rows. If sent to initial labeling queue, labels will be pre-labels.\nqueue_id = [\n    queue.uid\n    for queue in destination_project.task_queues()\n    if queue.queue_type == \"MANUAL_REVIEW_QUEUE\"\n][0]\n\ntask = client.send_to_annotate_from_catalog(\n    destination_project_id=destination_project.uid,\n    task_queue_id=\n    queue_id,  # ID of workflow task, set ID to None if you want to send data rows with labels to the Done queue.\n    batch_name=\"Prediction Import Demo Batch\",\n    data_rows=lb.GlobalKeys(\n        global_keys  # Provide a list of global keys from source project\n    ),\n    params=send_to_annotate_params,\n)\n\ntask.wait_till_done()\n\nprint(f\"Errors: {task.errors}\")",
      "cell_type": "code",
      "outputs": [],
      "execution_count": null
    },
    {
      "metadata": {},
      "source": [
        "## Clean up\n",
        "Uncomment and run the cell below to optionally delete Labelbox objects created."
      ],
      "cell_type": "markdown"
    },
    {
      "metadata": {},
      "source": "# project.delete()\n# destination_project.delete()\n# dataset.delete()\n# client.delete_unused_ontology(destination_ontology.uid)\n# client.delete_unused_ontology(ontology.uid)",
      "cell_type": "code",
      "outputs": [],
      "execution_count": null
    }
  ]
}