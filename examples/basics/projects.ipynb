{
  "nbformat": 4,
  "nbformat_minor": 5,
  "metadata": {},
  "cells": [
    {
      "metadata": {},
      "source": [
        "<td>\n",
        "   <a target=\"_blank\" href=\"https://labelbox.com\" ><img src=\"https://labelbox.com/blog/content/images/2021/02/logo-v4.svg\" width=256/></a>\n",
        "</td>"
      ],
      "cell_type": "markdown"
    },
    {
      "metadata": {},
      "source": [
        "<td>\n",
        "<a href=\"https://colab.research.google.com/github/Labelbox/labelbox-python/blob/master/examples/basics/projects.ipynb\" target=\"_blank\"><img\n",
        "src=\"https://colab.research.google.com/assets/colab-badge.svg\" alt=\"Open In Colab\"></a>\n",
        "</td>\n",
        "\n",
        "<td>\n",
        "<a href=\"https://github.com/Labelbox/labelbox-python/tree/master/examples/basics/projects.ipynb\" target=\"_blank\"><img\n",
        "src=\"https://img.shields.io/badge/GitHub-100000?logo=github&logoColor=white\" alt=\"GitHub\"></a>\n",
        "</td>"
      ],
      "cell_type": "markdown"
    },
    {
      "metadata": {},
      "source": [
        "# Projects"
      ],
      "cell_type": "markdown"
    },
    {
      "metadata": {},
      "source": [
        "* A project can be thought of as a specific labeling task on a set of labels\n",
        "* That set of labels is defined by the datasets attached to the project\n",
        "    - Those datasets have data rows which is what is being labeled\n",
        "* Each project has an ontology which defines the types of annotations supported during this labeling pass\n",
        "\n",
        "** Note that there is a lot of advanced usage that is not covered in this notebook. See project_setup for those functions.\n",
        "* Also note that deprecated functions are not explained here."
      ],
      "cell_type": "markdown"
    },
    {
      "metadata": {},
      "source": [
        "!pip install labelbox"
      ],
      "cell_type": "code",
      "outputs": [],
      "execution_count": null
    },
    {
      "metadata": {},
      "source": [
        "import labelbox as lb\n",
        "import os"
      ],
      "cell_type": "code",
      "outputs": [],
      "execution_count": null
    },
    {
      "metadata": {},
      "source": [
        "# API Key and Client\n",
        "Provide a valid api key below in order to properly connect to the Labelbox Client."
      ],
      "cell_type": "markdown"
    },
    {
      "metadata": {},
      "source": [
        "# Add your api key\n",
        "API_KEY = None\n",
        "client = lb.Client(api_key=API_KEY)"
      ],
      "cell_type": "code",
      "outputs": [],
      "execution_count": null
    },
    {
      "metadata": {},
      "source": [
        "### Create\n"
      ],
      "cell_type": "markdown"
    },
    {
      "metadata": {},
      "source": [
        "# Creates an empty project\n",
        "project = client.create_project(name=\"my-test-project\",\n",
        "                                description=\"a description\",\n",
        "                                media_type=lb.MediaType.Image)"
      ],
      "cell_type": "code",
      "outputs": [],
      "execution_count": null
    },
    {
      "metadata": {},
      "source": [
        "### Read"
      ],
      "cell_type": "markdown"
    },
    {
      "metadata": {},
      "source": [
        "# Note the project is not setup (so a lot of these fiels are empty). Follow the project setup workflow\n",
        "print(\"Project is not setup yet:\", project.setup_complete is None)\n",
        "print(\"Project name:\", project.name)\n",
        "print(\"Project description:\", project.description)\n",
        "print(\"Media Type:\", project.media_type)\n",
        "print(\"Dataset:\", list(project.datasets()))\n",
        "print(\"Ontology:\", project.ontology().normalized)\n",
        "print(\"Benchmarks:\", project.benchmarks())"
      ],
      "cell_type": "code",
      "outputs": [],
      "execution_count": null
    },
    {
      "metadata": {},
      "source": [
        "### Update\n",
        "\n"
      ],
      "cell_type": "markdown"
    },
    {
      "metadata": {},
      "source": [
        "# Attach dataset\n",
        "ds = client.create_dataset(name=\"test-ds\")\n",
        "project.datasets.connect(ds)\n",
        "print([ds.name for ds in project.datasets()])\n",
        "ds.delete()"
      ],
      "cell_type": "code",
      "outputs": [],
      "execution_count": null
    },
    {
      "metadata": {},
      "source": [
        "### Delete"
      ],
      "cell_type": "markdown"
    },
    {
      "metadata": {},
      "source": [
        "project.delete()"
      ],
      "cell_type": "code",
      "outputs": [],
      "execution_count": null
    }
  ]
}