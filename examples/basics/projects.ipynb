{
    "cells": [
        {
            "cell_type": "markdown",
            "source": [
                "<td>\n",
                "   <a target=\"_blank\" href=\"https://labelbox.com\" ><img src=\"https://labelbox.com/blog/content/images/2021/02/logo-v4.svg\" width=256/></a>\n",
                "</td>"
            ],
            "metadata": {}
        },
        {
            "cell_type": "markdown",
            "source": [
                "<td>\n",
                "<a href=\"https://colab.research.google.com/github/Labelbox/labelbox-python/blob/develop/examples/basics/projects.ipynb\" target=\"_blank\"><img\n",
                "src=\"https://colab.research.google.com/assets/colab-badge.svg\" alt=\"Open In Colab\"></a>\n",
                "</td>\n",
                "\n",
                "<td>\n",
                "<a href=\"https://github.com/Labelbox/labelbox-python/tree/develop/examples/basics/projects.ipynb\" target=\"_blank\"><img\n",
                "src=\"https://img.shields.io/badge/GitHub-100000?logo=github&logoColor=white\" alt=\"GitHub\"></a>\n",
                "</td>"
            ],
            "metadata": {}
        },
        {
            "cell_type": "markdown",
            "source": [
                "# Projects"
            ],
            "metadata": {}
        },
        {
            "cell_type": "markdown",
            "source": [
                "* A project can be thought of as a specific labeling task on a set of labels\n",
                "* That set of labels is defined by the datasets attached to the project\n",
                "    - Those datasets have data rows which is what is being labeled\n",
                "* Each project has an ontology which defines the types of annotations supported during this labeling pass\n",
                "\n",
                "** Note that there is a lot of advanced usage that is not covered in this notebook. See project_setup for those functions.\n",
                "* Also note that deprecated functions are not explained here."
            ],
            "metadata": {}
        },
        {
            "cell_type": "code",
            "execution_count": 1,
            "source": [
                "!pip install labelbox"
            ],
            "outputs": [],
            "metadata": {}
        },
        {
            "cell_type": "code",
            "execution_count": 2,
            "source": [
                "from labelbox import Client\n",
                "import os"
            ],
            "outputs": [],
            "metadata": {}
        },
        {
            "cell_type": "markdown",
            "source": [
                "# API Key and Client\n",
                "Provide a valid api key below in order to properly connect to the Labelbox Client."
            ],
            "metadata": {}
        },
        {
            "cell_type": "code",
            "execution_count": 5,
            "source": [
                "# Add your api key\n",
                "API_KEY = None\n",
                "client = Client(api_key=API_KEY)"
            ],
            "outputs": [],
            "metadata": {}
        },
        {
            "cell_type": "markdown",
            "source": [
                "### Create\n"
            ],
            "metadata": {}
        },
        {
            "cell_type": "code",
            "execution_count": 6,
            "source": [
                "# Creates an empty project\n",
                "project = client.create_project(name=\"my-test-project\",\n",
                "                                description=\"a description\")"
            ],
            "outputs": [],
            "metadata": {}
        },
        {
            "cell_type": "markdown",
            "source": [
                "### Read"
            ],
            "metadata": {}
        },
        {
            "cell_type": "code",
            "execution_count": null,
            "source": [
                "# Note the project is not setup (so a lot of these fiels are empty). Follow the project setup workflow\n",
                "print(\"Project is not setup yet:\", project.setup_complete is None)\n",
                "print(\"Project name:\", project.name)\n",
                "print(\"Project description:\", project.description)\n",
                "print(\"Dataset:\", list(project.datasets()))\n",
                "print(\"Ontology:\", project.ontology().normalized)\n",
                "print(\"Benchmarks:\", project.benchmarks())"
            ],
            "outputs": [],
            "metadata": {}
        },
        {
            "cell_type": "markdown",
            "source": [
                "### Update\n",
                "\n"
            ],
            "metadata": {}
        },
        {
            "cell_type": "code",
            "execution_count": null,
            "source": [
                "# Attach dataset\n",
                "ds = client.create_dataset(name=\"test-ds\")\n",
                "project.datasets.connect(ds)\n",
                "print([ds.name for ds in project.datasets()])\n",
                "ds.delete()"
            ],
            "outputs": [],
            "metadata": {}
        },
        {
            "cell_type": "markdown",
            "source": [
                "### Delete"
            ],
            "metadata": {}
        },
        {
            "cell_type": "code",
            "execution_count": 9,
            "source": [
                "project.delete()"
            ],
            "outputs": [],
            "metadata": {}
        }
    ],
    "metadata": {
        "kernelspec": {
            "display_name": "Python 3",
            "language": "python",
            "name": "python3"
        },
        "language_info": {
            "codemirror_mode": {
                "name": "ipython",
                "version": 3
            },
            "file_extension": ".py",
            "mimetype": "text/x-python",
            "name": "python",
            "nbconvert_exporter": "python",
            "pygments_lexer": "ipython3",
            "version": "3.8.2"
        }
    },
    "nbformat": 4,
    "nbformat_minor": 5
}