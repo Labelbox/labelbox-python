{
 "cells": [
  {
   "cell_type": "markdown",
   "id": "db768cda",
   "metadata": {},
   "source": [
    "<td>\n",
    "   <a target=\"_blank\" href=\"https://labelbox.com\" ><img src=\"https://labelbox.com/blog/content/images/2021/02/logo-v4.svg\" width=256/></a>\n",
    "</td>"
   ]
  },
  {
   "cell_type": "markdown",
   "id": "cb5611d0",
   "metadata": {},
   "source": [
    "<td>\n",
    "<a href=\"https://colab.research.google.com/github/Labelbox/labelbox-python/blob/develop/examples/basics/basics.ipynb\" target=\"_blank\"><img\n",
    "src=\"https://colab.research.google.com/assets/colab-badge.svg\" alt=\"Open In Colab\"></a>\n",
    "</td>\n",
    "\n",
    "<td>\n",
    "<a href=\"https://github.com/Labelbox/labelbox-python/tree/develop/examples/basics/basics.ipynb\" target=\"_blank\"><img\n",
    "src=\"https://img.shields.io/badge/GitHub-100000?logo=github&logoColor=white\" alt=\"GitHub\"></a>\n",
    "</td>"
   ]
  },
  {
   "cell_type": "markdown",
   "id": "complimentary-passing",
   "metadata": {},
   "source": [
    "# Basics\n"
   ]
  },
  {
   "cell_type": "markdown",
   "id": "smaller-syndication",
   "metadata": {},
   "source": [
    "### Quick install instructions\n",
    "The quick version is basically just\n",
    "1. `!pip install labelbox`\n",
    "2. `export LABELBOX_API_KEY=\"<your_api_key>\"`\n",
    "* Get this from the UI under (Account -> API -> Create API Key)\n",
    "* You can also set the api_key below in the notebook.\n",
    "\n",
    "This only works for cloud deployments.\n",
    "* For more details : https://docs.labelbox.com/python-sdk/en/index-en#labelbox-python-sdk\n"
   ]
  },
  {
   "cell_type": "markdown",
   "id": "cheap-damages",
   "metadata": {},
   "source": [
    "#### The remainder of this notebook is an interactive version of the fundamental concepts docs.\n",
    "* For more details you can read the docs here: \n",
    "    *    https://docs.labelbox.com/python-sdk/en/index-en#fundamental-concepts"
   ]
  },
  {
   "cell_type": "code",
   "execution_count": 1,
   "id": "indie-bracket",
   "metadata": {},
   "outputs": [],
   "source": [
    "!pip install labelbox"
   ]
  },
  {
   "cell_type": "code",
   "execution_count": 2,
   "id": "everyday-street",
   "metadata": {},
   "outputs": [],
   "source": [
    "from labelbox import Project, Dataset, Client\n",
    "import os"
   ]
  },
  {
   "cell_type": "markdown",
   "id": "committed-matthew",
   "metadata": {},
   "source": [
    "### Main takeaways:\n",
    "* All interactions with labelbox happen through the client\n",
    "* all attributes that are labelbox.orm.Fields can be accessed via object.field_name\n",
    "* all attributes that are labelbox.orm.Relationships can be accessed via object.relationship()\n",
    "----\n",
    "* To use on your own data you need to plug in the following:\n",
    "1. Project and Dataset ids (go to the web ui and you can find these in the url)\n",
    "    * (https://app.labelbox.com/projects/<project_id>\n",
    "    * https://app.labelbox.com/dataset/<dataset_id>\n",
    "2. A project name and a dataset name\n",
    "    * Select any project names from here: https://app.labelbox.com/projects\n",
    "    * Select any dataset names from here: https://app.labelbox.com/data"
   ]
  },
  {
   "cell_type": "code",
   "execution_count": 4,
   "id": "instructional-reply",
   "metadata": {},
   "outputs": [],
   "source": [
    "PROJECT_ID = \"ckk4q1viuc0w20704eh69u28h\"\n",
    "DATASET_ID = \"ckk4q1vjznyhu087203wlghfr\"\n",
    "PROJECT_NAME = \"Sample Project\"\n",
    "DATASET_NAME = \"Example Jellyfish Dataset\"\n",
    "# Only update this if you have an on-prem deployment\n",
    "ENDPOINT = \"https://api.labelbox.com/graphql\""
   ]
  },
  {
   "cell_type": "markdown",
   "id": "chinese-playing",
   "metadata": {},
   "source": [
    "### Client\n",
    "* Starting point for all db interactions"
   ]
  },
  {
   "cell_type": "markdown",
   "id": "485451ad",
   "metadata": {},
   "source": [
    "# API Key and Client\n",
    "Provide a valid api key below in order to properly connect to the Labelbox Client."
   ]
  },
  {
   "cell_type": "code",
   "execution_count": 5,
   "id": "thick-gasoline",
   "metadata": {},
   "outputs": [],
   "source": [
    "# Add your api key\n",
    "API_KEY = None\n",
    "client = Client(api_key=API_KEY)"
   ]
  },
  {
   "cell_type": "code",
   "execution_count": 6,
   "id": "victorian-consumer",
   "metadata": {},
   "outputs": [],
   "source": [
    "#Client can be used to fetch by id:\n",
    "project = client.get_project(PROJECT_ID)\n",
    "dataset = client.get_dataset(DATASET_ID)"
   ]
  },
  {
   "cell_type": "code",
   "execution_count": 7,
   "id": "industrial-onion",
   "metadata": {},
   "outputs": [
    {
     "data": {
      "text/plain": [
       "<Project ID: ckk4q1viuc0w20704eh69u28h>"
      ]
     },
     "execution_count": 9,
     "metadata": {},
     "output_type": "execute_result"
    }
   ],
   "source": [
    "project"
   ]
  },
  {
   "cell_type": "markdown",
   "id": "popular-nylon",
   "metadata": {},
   "source": [
    "### Fields\n",
    "* All db objects have fields (look at the source code to see them https://github.com/Labelbox/labelbox-python/blob/develop/labelbox/schema/project.py)\n",
    "* These fields are attributes of the object"
   ]
  },
  {
   "cell_type": "code",
   "execution_count": 8,
   "id": "guided-institute",
   "metadata": {},
   "outputs": [
    {
     "name": "stdout",
     "output_type": "stream",
     "text": [
      "Sample Project\n",
      "Demonstrating image segmentation and object detection\n",
      "Example Jellyfish Dataset\n"
     ]
    }
   ],
   "source": [
    "print(project.name)\n",
    "print(project.description)\n",
    "print(dataset.name)"
   ]
  },
  {
   "cell_type": "markdown",
   "id": "protective-multimedia",
   "metadata": {},
   "source": [
    "* Fields can be updated. This will be reflected server side (you will see it in labelbox) "
   ]
  },
  {
   "cell_type": "code",
   "execution_count": 9,
   "id": "according-subdivision",
   "metadata": {},
   "outputs": [],
   "source": [
    "project.update(description=\"new description field\")\n",
    "print(project.description)"
   ]
  },
  {
   "cell_type": "markdown",
   "id": "viral-power",
   "metadata": {},
   "source": [
    "### Pagination\n",
    "* Queries that return a list of database objects return them as a PaginatedCollection\n",
    "* The goal here is to limit the data being returned to only the necessary data."
   ]
  },
  {
   "cell_type": "code",
   "execution_count": 10,
   "id": "ideal-processing",
   "metadata": {},
   "outputs": [
    {
     "data": {
      "text/plain": [
       "<labelbox.pagination.PaginatedCollection at 0x1110afe80>"
      ]
     },
     "execution_count": 17,
     "metadata": {},
     "output_type": "execute_result"
    }
   ],
   "source": [
    "labels_paginated_collection = project.labels()\n",
    "labels_paginated_collection"
   ]
  },
  {
   "cell_type": "code",
   "execution_count": 11,
   "id": "convinced-force",
   "metadata": {},
   "outputs": [],
   "source": [
    "# Note that if you selected a `project_id` without any labels this will raise `StopIteration`\n",
    "# Iterate over them to get the items out.\n",
    "next(labels_paginated_collection)\n",
    "# list(paginated...) should be avoided for queries that could return more than a dozen results"
   ]
  },
  {
   "cell_type": "markdown",
   "id": "widespread-startup",
   "metadata": {},
   "source": [
    "### Query parameters\n",
    "* Query with the following conventions:\n",
    "    * `DbObject.Field`"
   ]
  },
  {
   "cell_type": "code",
   "execution_count": 12,
   "id": "cubic-joint",
   "metadata": {},
   "outputs": [
    {
     "name": "stdout",
     "output_type": "stream",
     "text": [
      "<labelbox.pagination.PaginatedCollection object at 0x114255640>\n",
      "<Project {'auto_audit_number_of_labels': 3, 'auto_audit_percentage': 0.1, 'created_at': datetime.datetime(2021, 1, 20, 1, 2, 31, tzinfo=datetime.timezone.utc), 'description': 'new description field', 'last_activity_time': datetime.datetime(2021, 3, 19, 13, 46, 50, 920000, tzinfo=datetime.timezone.utc), 'name': 'Sample Project', 'setup_complete': datetime.datetime(2021, 1, 20, 1, 2, 31, 152000, tzinfo=datetime.timezone.utc), 'uid': 'ckk4q1viuc0w20704eh69u28h', 'updated_at': datetime.datetime(2021, 3, 19, 13, 46, 50, 920000, tzinfo=datetime.timezone.utc)}>\n",
      "None\n",
      "None\n"
     ]
    }
   ],
   "source": [
    "datasets = client.get_datasets(where=Dataset.name == DATASET_NAME)\n",
    "\n",
    "projects = client.get_projects(\n",
    "    where=((Project.name == PROJECT_NAME) &\n",
    "           (Project.description == \"new description field\")))\n",
    "\n",
    "# The above two queries return PaginatedCollections because the filter parameters aren't guaranteed to be unique.\n",
    "# So even if there is one element returned it is in a paginatedCollection.\n",
    "print(projects)\n",
    "print(next(projects, None))\n",
    "print(next(projects, None))\n",
    "print(next(projects, None))\n",
    "# We can see there is only one."
   ]
  },
  {
   "cell_type": "markdown",
   "id": "french-toner",
   "metadata": {},
   "source": [
    "### Querying Limitations\n",
    "* The DbObject used for the query must be the same as the DbObject returned by the querying function.  \n",
    "* eg. is not valid since get_project returns a Project but we are filtering on a Dataset\n",
    ">  `>>> projects = client.get_projects(where = Dataset.name == \"dataset_name\")`\n"
   ]
  },
  {
   "cell_type": "markdown",
   "id": "defensive-bidder",
   "metadata": {},
   "source": [
    "### Relationship\n",
    "* Relationships can be used to query for related objects (solves the limitation outlined above)\n",
    "    * E.g. if a user wants all projects that have a specific dataset attached, then can run the code below.\n",
    "* You can find all realtionships of a DB object in the source code\n",
    "    * E.g. for a Project ( https://github.com/Labelbox/labelbox-python/blob/develop/labelbox/schema/project.py))"
   ]
  },
  {
   "cell_type": "code",
   "execution_count": 13,
   "id": "handmade-yugoslavia",
   "metadata": {},
   "outputs": [
    {
     "data": {
      "text/plain": [
       "[<Project ID: ckk4q1viuc0w107041siuht7p>]"
      ]
     },
     "execution_count": 31,
     "metadata": {},
     "output_type": "execute_result"
    }
   ],
   "source": [
    "# Dataset has a Relationship to a Project so we can use the following\n",
    "list(dataset.projects())\n",
    "# This will return all projects that are attached to this dataset"
   ]
  },
  {
   "cell_type": "code",
   "execution_count": 14,
   "id": "future-bargain",
   "metadata": {},
   "outputs": [
    {
     "data": {
      "text/plain": [
       "[<Dataset ID: cklv1qzlv1oqn0y9ne7b9gtpb>]"
      ]
     },
     "execution_count": 32,
     "metadata": {},
     "output_type": "execute_result"
    }
   ],
   "source": [
    "sample_project_datasets = project.datasets()\n",
    "list(sample_project_datasets)"
   ]
  },
  {
   "cell_type": "markdown",
   "id": "metric-speaker",
   "metadata": {},
   "source": [
    "### Delete\n",
    "* Most DBObjects support deletion"
   ]
  },
  {
   "cell_type": "code",
   "execution_count": 15,
   "id": "persistent-briefs",
   "metadata": {},
   "outputs": [],
   "source": [
    "#Eg.\n",
    "##### project.delete()\n",
    "##### dataset.delete()\n",
    "##### data_row.delete()"
   ]
  },
  {
   "cell_type": "markdown",
   "id": "confused-peace",
   "metadata": {},
   "source": [
    "* We reccomend using bulk operations where possible.\n",
    "* You can find specific deletion instructions in tutorials on each object."
   ]
  }
 ],
 "metadata": {
  "kernelspec": {
   "display_name": "Python 3",
   "language": "python",
   "name": "python3"
  },
  "language_info": {
   "codemirror_mode": {
    "name": "ipython",
    "version": 3
   },
   "file_extension": ".py",
   "mimetype": "text/x-python",
   "name": "python",
   "nbconvert_exporter": "python",
   "pygments_lexer": "ipython3",
   "version": "3.8.2"
  }
 },
 "nbformat": 4,
 "nbformat_minor": 5
}
