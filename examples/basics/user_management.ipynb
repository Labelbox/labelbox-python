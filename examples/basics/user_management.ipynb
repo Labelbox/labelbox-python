{
    "cells": [
        {
            "cell_type": "markdown",
            "source": [
                "<td>\n",
                "   <a target=\"_blank\" href=\"https://labelbox.com\" ><img src=\"https://labelbox.com/blog/content/images/2021/02/logo-v4.svg\" width=256/></a>\n",
                "</td>"
            ],
            "metadata": {}
        },
        {
            "cell_type": "markdown",
            "source": [
                "<td>\n",
                "<a href=\"https://colab.research.google.com/github/Labelbox/labelbox-python/blob/develop/examples/basics/user_management.ipynb\" target=\"_blank\"><img\n",
                "src=\"https://colab.research.google.com/assets/colab-badge.svg\" alt=\"Open In Colab\"></a>\n",
                "</td>\n",
                "\n",
                "<td>\n",
                "<a href=\"https://github.com/Labelbox/labelbox-python/tree/develop/examples/basics/user_management.ipynb\" target=\"_blank\"><img\n",
                "src=\"https://img.shields.io/badge/GitHub-100000?logo=github&logoColor=white\" alt=\"GitHub\"></a>\n",
                "</td>"
            ],
            "metadata": {}
        },
        {
            "cell_type": "markdown",
            "source": [
                "# User Management\n",
                "* This notebook covers the following:\n",
                "    * create invites\n",
                "    * query for remaining allowed invites to an organization\n",
                "    * set and update organization roles\n",
                "    * assign users to projects\n",
                "        * set / update / revoke project role\n",
                "    * delete users from org"
            ],
            "metadata": {}
        },
        {
            "cell_type": "code",
            "execution_count": 1,
            "source": [
                "!pip install labelbox"
            ],
            "outputs": [],
            "metadata": {}
        },
        {
            "cell_type": "code",
            "execution_count": 2,
            "source": [
                "from labelbox import Project, Dataset, Client, User\n",
                "from labelbox.schema.role import ProjectRole\n",
                "import os"
            ],
            "outputs": [],
            "metadata": {}
        },
        {
            "cell_type": "markdown",
            "source": [
                "* You have to specifically enable experimental features to use this functionality. Notice the \n",
                "`enable_experimental = True`\n",
                "    * enables users to send invites and checking the number of seats available via the sdk"
            ],
            "metadata": {}
        },
        {
            "cell_type": "markdown",
            "source": [
                "# API Key and Client\n",
                "Provide a valid api key below in order to properly connect to the Labelbox Client."
            ],
            "metadata": {}
        },
        {
            "cell_type": "code",
            "execution_count": 4,
            "source": [
                "# Add your api key\n",
                "API_KEY = None\n",
                "client = Client(api_key=API_KEY, enable_experimental=True)\n",
                "organization = client.get_organization()"
            ],
            "outputs": [],
            "metadata": {}
        },
        {
            "cell_type": "code",
            "execution_count": 5,
            "source": [
                "# Please provide a dummy email here:\n",
                "# Preferrably one you can access. If you have a google account you can do email+1@<domain>.com\n",
                "DUMMY_EMAIL = \"SET THIS\"\n",
                "# This should be set to an account that you wan't to change the permissions for.\n",
                "# You could invite a new user, accept the invite and use that account if you don't want to effect any active users\n",
                "DUMMY_USER_ACCOUNT_ID = \"ckneh4n8c9qvq0706uwwg5i16\""
            ],
            "outputs": [],
            "metadata": {}
        },
        {
            "cell_type": "markdown",
            "source": [
                "### Roles\n",
                "* When inviting a new user to an organization, there are various roles to select from.\n",
                "* All available roles to your org can be accessed via `client.get_roles()`"
            ],
            "metadata": {}
        },
        {
            "cell_type": "code",
            "execution_count": 6,
            "source": [
                "roles = client.get_roles()\n",
                "for name, role in roles.items():\n",
                "    print(role.name, \":\", role.uid)"
            ],
            "outputs": [
                {
                    "output_type": "stream",
                    "name": "stdout",
                    "text": [
                        "LABELER : cjlvi914y1aa20714372uvzjv\n",
                        "REVIEWER : cjlvi919b1aa50714k75euii5\n",
                        "TEAM_MANAGER : cjlvi919q1aa80714b7z3xuku\n",
                        "ADMIN : cjlvi91a41aab0714677xp87h\n",
                        "NONE : cjmb6xy80f5vz0780u3mw2rj4\n"
                    ]
                }
            ],
            "metadata": {}
        },
        {
            "cell_type": "markdown",
            "source": [
                "* Above we printed out all of the roles available to the current org.\n",
                "* Notice the `NONE`. That is for project level roles"
            ],
            "metadata": {}
        },
        {
            "cell_type": "markdown",
            "source": [
                "### Create\n",
                "* Users are created by sending an invite\n",
                "* An email will be sent to them and they will be asked to join your organization"
            ],
            "metadata": {}
        },
        {
            "cell_type": "markdown",
            "source": [
                "#### Organization Level Permissions\n",
                "* Invite a new labeler with labeling permissions on all projects"
            ],
            "metadata": {}
        },
        {
            "cell_type": "code",
            "execution_count": 7,
            "source": [
                "# First make sure that you have enough seats:\n",
                "organization.invite_limit()"
            ],
            "outputs": [
                {
                    "output_type": "execute_result",
                    "data": {
                        "text/plain": [
                            "InviteLimit(remaining=2, used=3, limit=5)"
                        ]
                    },
                    "metadata": {},
                    "execution_count": 6
                }
            ],
            "metadata": {}
        },
        {
            "cell_type": "code",
            "execution_count": 8,
            "source": [
                "invite = organization.invite_user(DUMMY_EMAIL, roles[\"LABELER\"])"
            ],
            "outputs": [],
            "metadata": {}
        },
        {
            "cell_type": "code",
            "execution_count": 9,
            "source": [
                "print(invite.created_at)\n",
                "print(invite.organization_role_name)\n",
                "print(invite.email)"
            ],
            "outputs": [
                {
                    "output_type": "stream",
                    "name": "stdout",
                    "text": [
                        "2021-04-20 22:11:55.897000+00:00\n",
                        "Labeler\n",
                        "< SET THIS >\n"
                    ]
                }
            ],
            "metadata": {}
        },
        {
            "cell_type": "markdown",
            "source": [
                "#### Project Level Permissions\n",
                "* Invite a new labeler with labeling permissions specific to a set of projects\n",
                "* Here we set organization level permissions to Roles.NONE to indicate that the user only has project level permissions"
            ],
            "metadata": {}
        },
        {
            "cell_type": "code",
            "execution_count": 10,
            "source": [
                "project = client.create_project(name=\"test_user_management\")\n",
                "project_role = ProjectRole(project=project, role=roles[\"REVIEWER\"])\n",
                "invite = organization.invite_user(DUMMY_EMAIL,\n",
                "                                  roles[\"NONE\"],\n",
                "                                  project_roles=[project_role])"
            ],
            "outputs": [],
            "metadata": {}
        },
        {
            "cell_type": "markdown",
            "source": [
                "### Read\n",
                "* Outstanding invites cannot be queried for at this time. This information can be found in the members tab of the web app.\n",
                "* You are able to query for members once they have joined."
            ],
            "metadata": {}
        },
        {
            "cell_type": "code",
            "execution_count": 11,
            "source": [
                "users = list(organization.users())\n",
                "print(users[0])"
            ],
            "outputs": [
                {
                    "output_type": "stream",
                    "name": "stdout",
                    "text": [
                        "<User {'created_at': datetime.datetime(2021, 1, 20, 1, 2, 31, tzinfo=datetime.timezone.utc), 'email': 'msokoloff@labelbox.com', 'intercom_hash': '050b8b292bd66abf88ea9a279c6ee80a530e0f9cf98a06e1d5372ef13697f46b', 'is_external_user': False, 'is_viewer': True, 'nickname': 'msokoloff', 'name': 'Matt Sokoloff', 'picture': 'https://lh6.googleusercontent.com/-gO94Mcw4PGs/AAAAAAAAAAI/AAAAAAAAAAA/AMZuuclv_5P5WICzV1aImhxGADj_OS5c7w/s96-c/photo.jpg', 'uid': 'ckk4q1vgwc0vp0704xhx7m4vk', 'updated_at': datetime.datetime(2021, 4, 1, 15, 48, 27, tzinfo=datetime.timezone.utc)}>\n"
                    ]
                }
            ],
            "metadata": {}
        },
        {
            "cell_type": "markdown",
            "source": [
                "### Update\n",
                "* There is no update on invites. Instead you must delete and resend them\n",
                "* You can update User roles"
            ],
            "metadata": {}
        },
        {
            "cell_type": "code",
            "execution_count": 12,
            "source": [
                "user = client._get_single(User, DUMMY_USER_ACCOUNT_ID)\n",
                "\n",
                "# Give the user organization level permissions\n",
                "user.update_org_role(roles[\"LABELER\"])\n",
                "print(user.org_role())\n",
                "# Restore project level permissions\n",
                "user.update_org_role(roles[\"NONE\"])\n",
                "print(user.org_role())\n",
                "# Make the user a labeler for the current project\n",
                "user.upsert_project_role(project, roles[\"LABELER\"])\n",
                "print(user.org_role())"
            ],
            "outputs": [
                {
                    "output_type": "stream",
                    "name": "stdout",
                    "text": [
                        "<OrgRole {'name': 'Labeler', 'uid': 'cjlvi914y1aa20714372uvzjv'}>\n",
                        "<OrgRole {'name': 'None', 'uid': 'cjmb6xy80f5vz0780u3mw2rj4'}>\n",
                        "<OrgRole {'name': 'None', 'uid': 'cjmb6xy80f5vz0780u3mw2rj4'}>\n"
                    ]
                }
            ],
            "metadata": {}
        },
        {
            "cell_type": "code",
            "execution_count": 13,
            "source": [
                "# Remove the user from a project (Same as setting the project role to `roles.NONE`)\n",
                "user.remove_from_project(project)"
            ],
            "outputs": [],
            "metadata": {}
        },
        {
            "cell_type": "markdown",
            "source": [
                "### Delete"
            ],
            "metadata": {}
        },
        {
            "cell_type": "markdown",
            "source": [
                "* Invites can only be deleted from the ui at this time. \n",
                "* Deleting invites can be done in the members tab of the web app."
            ],
            "metadata": {}
        },
        {
            "cell_type": "markdown",
            "source": [
                "* Delete the User\n",
                "* Make sure you want to remove the user from the org:\n",
                "* `>>> organization.remove_user(user)`"
            ],
            "metadata": {}
        },
        {
            "cell_type": "markdown",
            "source": [
                "### Cleanup\n",
                "* We created an extra project. Let's delete it"
            ],
            "metadata": {}
        },
        {
            "cell_type": "code",
            "execution_count": 14,
            "source": [
                "project.delete()"
            ],
            "outputs": [],
            "metadata": {}
        }
    ],
    "metadata": {
        "kernelspec": {
            "display_name": "Python 3",
            "language": "python",
            "name": "python3"
        },
        "language_info": {
            "codemirror_mode": {
                "name": "ipython",
                "version": 3
            },
            "file_extension": ".py",
            "mimetype": "text/x-python",
            "name": "python",
            "nbconvert_exporter": "python",
            "pygments_lexer": "ipython3",
            "version": "3.8.2"
        }
    },
    "nbformat": 4,
    "nbformat_minor": 5
}
