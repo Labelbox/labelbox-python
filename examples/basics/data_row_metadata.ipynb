{
  "nbformat": 4,
  "nbformat_minor": 5,
  "metadata": {},
  "cells": [
    {
      "metadata": {},
      "source": [
        "<td>\n",
        "   <a target=\"_blank\" href=\"https://labelbox.com\" ><img src=\"https://labelbox.com/blog/content/images/2021/02/logo-v4.svg\" width=256/></a>\n",
        "</td>"
      ],
      "cell_type": "markdown"
    },
    {
      "metadata": {},
      "source": [
        "<td>\n",
        "<a href=\"https://colab.research.google.com/github/Labelbox/labelbox-python/blob/master/examples/basics/data_row_metadata.ipynb\" target=\"_blank\"><img\n",
        "src=\"https://colab.research.google.com/assets/colab-badge.svg\" alt=\"Open In Colab\"></a>\n",
        "</td>\n",
        "\n",
        "<td>\n",
        "<a href=\"https://github.com/Labelbox/labelbox-python/tree/master/examples/basics/data_row_metadata.ipynb\" target=\"_blank\"><img\n",
        "src=\"https://img.shields.io/badge/GitHub-100000?logo=github&logoColor=white\" alt=\"GitHub\"></a>\n",
        "</td>"
      ],
      "cell_type": "markdown"
    },
    {
      "metadata": {},
      "source": [
        "# Data Row Metadata\n",
        "\n",
        "Metadata is useful to better understand data on the platform to help with labeling review, model diagnostics, and data selection. This **should not be confused with attachments**. Attachments provide additional context for labelers but is not searchable within Catalog."
      ],
      "cell_type": "markdown"
    },
    {
      "metadata": {},
      "source": [
        "### Installation"
      ],
      "cell_type": "markdown"
    },
    {
      "metadata": {},
      "source": [
        "!pip install \"labelbox[data]\""
      ],
      "cell_type": "code",
      "outputs": [],
      "execution_count": null
    },
    {
      "metadata": {},
      "source": [
        "## Setup"
      ],
      "cell_type": "markdown"
    },
    {
      "metadata": {},
      "source": [
        "import random\n",
        "\n",
        "import labelbox as lb\n",
        "from datetime import datetime\n",
        "from tqdm.notebook import tqdm\n",
        "import requests\n",
        "from pprint import pprint\n",
        "from uuid import uuid4"
      ],
      "cell_type": "code",
      "outputs": [],
      "execution_count": null
    },
    {
      "metadata": {},
      "source": [
        "# API Key and Client\n",
        "Provide a valid api key below in order to properly connect to the Labelbox Client."
      ],
      "cell_type": "markdown"
    },
    {
      "metadata": {},
      "source": [
        "# Add your api key\n",
        "API_KEY = None\n",
        "client = lb.Client(api_key=API_KEY)"
      ],
      "cell_type": "code",
      "outputs": [],
      "execution_count": null
    },
    {
      "metadata": {},
      "source": [
        "## Metadata ontology\n",
        "\n",
        "We use a similar system for managing metadata as we do feature schemas. Metadata schemas are strongly typed to ensure we can provide the best experience in the App. Each metadata field can be uniquely accessed by id. Names are unique within the kind of metadata, reserved or custom. A DataRow can have a maximum of 5 metadata fields at a time.\n",
        "\n",
        "### Metadata kinds\n",
        "\n",
        "* **Enum**: A classification with options, only one option can be selected at a time\n",
        "* **DateTime**: A utc ISO datetime \n",
        "* **String**: A string of less than 500 characters\n",
        "\n",
        "### Reserved fields\n",
        "\n",
        "* **tag**: a free text field\n",
        "* **split**: enum of train-valid-test\n",
        "* **captureDateTime**: ISO 8601 datetime field. All times must be in UTC\n",
        "\n",
        "### Custom fields\n",
        "\n",
        "You can create your own fields from within the app by navigating to the [metadata schema page](https://app.labelbox.com/schema/metadata)"
      ],
      "cell_type": "markdown"
    },
    {
      "metadata": {},
      "source": [
        "mdo = client.get_data_row_metadata_ontology()"
      ],
      "cell_type": "code",
      "outputs": [],
      "execution_count": null
    },
    {
      "metadata": {},
      "source": [
        "# list all your metadata ontology as a dictionary accessable by id \n",
        "metadata_ontologies = mdo.fields_by_id\n",
        "pprint(metadata_ontologies, indent=2)"
      ],
      "cell_type": "code",
      "outputs": [],
      "execution_count": null
    },
    {
      "metadata": {},
      "source": [
        "# access by name\n",
        "split_field = mdo.reserved_by_name[\"split\"]\n",
        "train_field = mdo.reserved_by_name[\"split\"][\"train\"]"
      ],
      "cell_type": "code",
      "outputs": [],
      "execution_count": null
    },
    {
      "metadata": {},
      "source": [
        "tag_field = mdo.reserved_by_name[\"tag\"]"
      ],
      "cell_type": "code",
      "outputs": [],
      "execution_count": null
    },
    {
      "metadata": {},
      "source": [
        "tag_field"
      ],
      "cell_type": "code",
      "outputs": [],
      "execution_count": null
    },
    {
      "metadata": {},
      "source": [
        "## Construct metadata fields\n",
        "\n",
        "To construct a metadata field you must provide the Schema Id for the field and the value that will be uploaded. You can either construct a DataRowMetadataField object or specify the Schema Id and value in a dictionary format.\n",
        "\n",
        "\n",
        "\n"
      ],
      "cell_type": "markdown"
    },
    {
      "metadata": {},
      "source": [
        "Option 1: Specify metadata with a list of DataRowMetadataField. This is the recommended option since it comes with validation for metadata fields."
      ],
      "cell_type": "markdown"
    },
    {
      "metadata": {},
      "source": [
        "# Construct a metadata field of string kind\n",
        "tag_metadata_field = lb.DataRowMetadataField(\n",
        "    name=\"tag\",  # specify the schema name\n",
        "    value=\"tag_string\", # typed inputs\n",
        ")\n",
        "\n",
        "# Construct an metadata field of datetime kind\n",
        "capture_datetime_field = lb.DataRowMetadataField(\n",
        "    name=\"captureDateTime\",  # specify the schema id\n",
        "    value=datetime.utcnow(), # typed inputs\n",
        ")\n",
        "\n",
        "# Construct a metadata field of Enums options\n",
        "split_metadta_field = lb.DataRowMetadataField(\n",
        "    name=\"split\",  # specify the schema id\n",
        "    value=\"train\", # typed inputs\n",
        ")"
      ],
      "cell_type": "code",
      "outputs": [],
      "execution_count": null
    },
    {
      "metadata": {},
      "source": [
        "Option 2: Alternatively, you can specify the metadata fields with dictionary format without declaring the DataRowMetadataField objects.\n"
      ],
      "cell_type": "markdown"
    },
    {
      "metadata": {},
      "source": [
        "# Construct a dictionary of string metadata\n",
        "tag_metadata_field_dict = {\n",
        "    \"name\": \"tag\",\n",
        "    \"value\": \"tag_string\",\n",
        "}\n",
        "\n",
        "# Construct a dictionary of datetime metadata\n",
        "capture_datetime_field_dict = {\n",
        "    \"name\": \"captureDateTime\",\n",
        "    \"value\": datetime.utcnow(),\n",
        "}\n",
        "\n",
        "# Construct a dictionary of Enums options metadata\n",
        "split_metadta_field_dict = {\n",
        "    \"name\": \"split\",\n",
        "    \"value\": \"train\",\n",
        "}"
      ],
      "cell_type": "code",
      "outputs": [],
      "execution_count": null
    },
    {
      "metadata": {},
      "source": [
        "# Upload Data Rows together with metadata\n",
        "\n",
        "Note: currently, there is a 30k limit on bulk uploading data rows containing metadata.\n",
        "\n"
      ],
      "cell_type": "markdown"
    },
    {
      "metadata": {},
      "source": [
        "# A simple example of uploading Data Rows with metadta\n",
        "dataset = client.create_dataset(name=\"Simple Data Rows import with metadata example\")\n",
        "\n",
        "data_row = {\"row_data\": \"https://storage.googleapis.com/labelbox-sample-datasets/Docs/basic.jpg\", \"external_id\": str(uuid4())}\n",
        "data_row['metadata_fields'] = [tag_metadata_field, capture_datetime_field,  split_metadta_field] \n",
        "# Also works with a list of dictionary as specified in Option 2. Uncomment the line below to try. \n",
        "# data_row['metadata_fields'] = [tag_metadata_field_dict, capture_datetime_field_dict, split_metadta_field_dict]\n",
        "\n",
        "task = dataset.create_data_rows([data_row])\n",
        "task.wait_till_done()"
      ],
      "cell_type": "code",
      "outputs": [],
      "execution_count": null
    },
    {
      "metadata": {},
      "source": [
        "## Accessing Metadata\n",
        "\n",
        "You can examine individual Data Row, including its metadata."
      ],
      "cell_type": "markdown"
    },
    {
      "metadata": {},
      "source": [
        "datarow = next(dataset.data_rows())\n",
        "for metadata_field in datarow.metadata_fields:\n",
        "  print(metadata_field['name'], \":\", metadata_field['value'])"
      ],
      "cell_type": "code",
      "outputs": [],
      "execution_count": null
    },
    {
      "metadata": {},
      "source": [
        "You can bulk export metadata given Data Row Ids"
      ],
      "cell_type": "markdown"
    },
    {
      "metadata": {},
      "source": [
        "datarows_metadata = mdo.bulk_export([datarow.uid])\n",
        "len(datarows_metadata)"
      ],
      "cell_type": "code",
      "outputs": [],
      "execution_count": null
    },
    {
      "metadata": {},
      "source": [
        "# Upload/update metadata to existing Data Rows\n",
        "\n",
        "Next, the following section will go over how to upload or update metadata to existing data rows. "
      ],
      "cell_type": "markdown"
    },
    {
      "metadata": {},
      "source": [
        "### Building up uploads"
      ],
      "cell_type": "markdown"
    },
    {
      "metadata": {},
      "source": [
        "# Select a dataset to use, or you can just use the 1-image dataset created above. \n",
        "dataset_id = dataset.uid\n",
        "dataset = client.get_dataset(dataset_id)"
      ],
      "cell_type": "code",
      "outputs": [],
      "execution_count": null
    },
    {
      "metadata": {},
      "source": [
        "dataset.row_count"
      ],
      "cell_type": "code",
      "outputs": [],
      "execution_count": null
    },
    {
      "metadata": {},
      "source": [
        "# train-valid-test break down\n",
        "test = 0.05\n",
        "valid = 0.05 + test\n",
        "train = 1 - valid"
      ],
      "cell_type": "code",
      "outputs": [],
      "execution_count": null
    },
    {
      "metadata": {},
      "source": [
        "uploads = []\n",
        "\n",
        "for datarow in tqdm(dataset.export_data_rows(), total=dataset.row_count):\n",
        "\n",
        "    response = requests.get(datarow.row_data, stream=True)\n",
        "\n",
        "    # assign datarows a split\n",
        "    rnd = random.random()\n",
        "    if rnd < test:\n",
        "        split = \"test\"\n",
        "    elif rnd < valid:\n",
        "        split = \"valid\"\n",
        "    else:\n",
        "        split = \"train\"\n",
        "\n",
        "    dt = datetime.utcnow()\n",
        "    message = \"my-new-message\"\n",
        "\n",
        "    uploads.append(\n",
        "        lb.DataRowMetadata(\n",
        "            data_row_id=datarow.uid,\n",
        "            fields=[\n",
        "                lb.DataRowMetadataField(\n",
        "                    name=\"captureDateTime\",\n",
        "                    value=dt,\n",
        "                ),\n",
        "                lb.DataRowMetadataField(name=\"split\", value=split),\n",
        "                lb.DataRowMetadataField(name=\"tag\", value=message),\n",
        "            ]))"
      ],
      "cell_type": "code",
      "outputs": [],
      "execution_count": null
    },
    {
      "metadata": {},
      "source": [
        "mdo.bulk_upsert(uploads)"
      ],
      "cell_type": "code",
      "outputs": [],
      "execution_count": null
    },
    {
      "metadata": {},
      "source": [
        "### Upload\n",
        "\n",
        "Uploads will overwrite the current value for the feature if it is already present."
      ],
      "cell_type": "markdown"
    },
    {
      "metadata": {},
      "source": [
        "# datarow page\n",
        "print(f'https://app.labelbox.com/datarows/{datarow.uid}')"
      ],
      "cell_type": "code",
      "outputs": [],
      "execution_count": null
    },
    {
      "metadata": {},
      "source": [
        "metadata = mdo.bulk_export([datarow.uid])[0]"
      ],
      "cell_type": "code",
      "outputs": [],
      "execution_count": null
    },
    {
      "metadata": {},
      "source": [
        "## Delete Metadata\n",
        "\n",
        "To delete fields from a datarow you provide the schema ids you want removed \n",
        "\n",
        "**Note** for enums you must currently pass the Enum and Option schema ids"
      ],
      "cell_type": "markdown"
    },
    {
      "metadata": {},
      "source": [
        "md = uploads[0]"
      ],
      "cell_type": "code",
      "outputs": [],
      "execution_count": null
    },
    {
      "metadata": {},
      "source": [
        "fields = []\n",
        "# iterate through the fields you want to delete\n",
        "for field in md.fields:\n",
        "    fields.append(field.schema_id)\n",
        "\n",
        "deletes = lb.DeleteDataRowMetadata(data_row_id=md.data_row_id, fields=fields)"
      ],
      "cell_type": "code",
      "outputs": [],
      "execution_count": null
    },
    {
      "metadata": {},
      "source": [
        "len(mdo.bulk_export(deletes.data_row_id)[0].fields)"
      ],
      "cell_type": "code",
      "outputs": [],
      "execution_count": null
    },
    {
      "metadata": {},
      "source": [
        "mdo.bulk_delete([deletes])"
      ],
      "cell_type": "code",
      "outputs": [],
      "execution_count": null
    },
    {
      "metadata": {},
      "source": [
        "len(mdo.bulk_export(deletes.data_row_id)[0].fields)"
      ],
      "cell_type": "code",
      "outputs": [],
      "execution_count": null
    }
  ]
}