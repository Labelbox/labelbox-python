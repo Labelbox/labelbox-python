{
    "cells": [
        {
            "cell_type": "markdown",
            "source": [
                "<td>\n",
                "   <a target=\"_blank\" href=\"https://labelbox.com\" ><img src=\"https://labelbox.com/blog/content/images/2021/02/logo-v4.svg\" width=256/></a>\n",
                "</td>"
            ],
            "metadata": {}
        },
        {
            "cell_type": "markdown",
            "source": [
                "<td>\n",
                "<a href=\"https://colab.research.google.com/github/Labelbox/labelbox-python/blob/develop/examples/basics/ontologies.ipynb\" target=\"_blank\"><img\n",
                "src=\"https://colab.research.google.com/assets/colab-badge.svg\" alt=\"Open In Colab\"></a>\n",
                "</td>\n",
                "\n",
                "<td>\n",
                "<a href=\"https://github.com/Labelbox/labelbox-python/tree/develop/examples/basics/ontologies.ipynb\" target=\"_blank\"><img\n",
                "src=\"https://img.shields.io/badge/GitHub-100000?logo=github&logoColor=white\" alt=\"GitHub\"></a>\n",
                "</td>"
            ],
            "metadata": {}
        },
        {
            "cell_type": "markdown",
            "source": [
                "# Ontologies\n",
                "* An ontology is a collection different tools and classifications that can be used within a project's editor. Each tool or classification is called a \"Feature Schema\". \n",
                "* Feature Schemas contain information about the tool such as the kind, the name, all subclasses, and other information related to a tool. Feature Schemas can be shared between ontologies. \n",
                "\n",
                "* Helpful Links:\n",
                "    * [Ontology documentation](https://docs.labelbox.com/docs/labelbox-ontology)\n",
                "    * [Project Setup Using Ontologies](https://github.com/Labelbox/labelbox-python/blob/develop/examples/project_configuration/project_setup.ipynb)"
            ],
            "metadata": {}
        },
        {
            "cell_type": "code",
            "execution_count": 1,
            "source": [
                "!pip install labelbox"
            ],
            "outputs": [],
            "metadata": {
                "scrolled": true
            }
        },
        {
            "cell_type": "code",
            "execution_count": 2,
            "source": [
                "from labelbox import Client, OntologyBuilder, Tool, Classification, Option\n",
                "import json"
            ],
            "outputs": [],
            "metadata": {
                "scrolled": true
            }
        },
        {
            "cell_type": "markdown",
            "source": [
                "# API Key and Client\n",
                "Provide a valid api key below in order to properly connect to the Labelbox Client."
            ],
            "metadata": {}
        },
        {
            "cell_type": "code",
            "execution_count": 3,
            "source": [
                "# Add your api key\n",
                "API_KEY = None\n",
                "client = Client(api_key=API_KEY)"
            ],
            "outputs": [],
            "metadata": {
                "scrolled": true
            }
        },
        {
            "cell_type": "markdown",
            "source": [
                "### Create Ontology From Normalized Data\n",
                "* Users can create ontologies from a json definition of the ontology\n",
                "* See below `OntologyBuilder` section for more details on constructing the normalized ontology"
            ],
            "metadata": {}
        },
        {
            "cell_type": "code",
            "execution_count": 4,
            "source": [
                "# This will automatically create new feature schema\n",
                "ontology_name = \"sdk-ontology\"\n",
                "feature_schema_cat_normalized = {\n",
                "    'tool': 'polygon',\n",
                "    'name': 'cat',\n",
                "    'color': 'black'\n",
                "}\n",
                "\n",
                "ontology_normalized_json = {\n",
                "    \"tools\": [feature_schema_cat_normalized],\n",
                "    \"classifications\": []\n",
                "}\n",
                "ontology = client.create_ontology(name=ontology_name,\n",
                "                                  normalized=ontology_normalized_json)\n",
                "print(ontology)"
            ],
            "outputs": [],
            "metadata": {
                "scrolled": true
            }
        },
        {
            "cell_type": "markdown",
            "source": [
                "### Create Ontology From Existing Feature Schemas\n",
                "* It is often useful to support the same features in multiple ontologies. \n",
                "* Labelbox supports this workflow by allowing users to create ontologies using existing feature schemas."
            ],
            "metadata": {}
        },
        {
            "cell_type": "code",
            "execution_count": 5,
            "source": [
                "# First create the feature schema\n",
                "feature_schema_cat = client.create_feature_schema(feature_schema_cat_normalized)\n",
                "# When we create the ontology it will not re-create the feature schema\n",
                "print(feature_schema_cat.uid)\n",
                "ontology = client.create_ontology_from_feature_schemas(ontology_name,\n",
                "                                                       [feature_schema_cat.uid])"
            ],
            "outputs": [],
            "metadata": {
                "scrolled": true
            }
        },
        {
            "cell_type": "markdown",
            "source": [
                "### Create Ontology From a Mix of New and Existing Feature Schemas\n",
                "* If we want to create a new ontology that expands upon a previous ontology it is helpful to be able to share a portion of the features.\n",
                "* To do this we will create the new schema ids that we want. Then we will create an ontology from the new list of ids.\n",
                "* Note that for additional customization you can also combine the normalized json and use the create_ontology() method (not covered here)."
            ],
            "metadata": {}
        },
        {
            "cell_type": "code",
            "execution_count": 6,
            "source": [
                "# Create new dog schema id\n",
                "feature_schema_dog_normalized = {\n",
                "    'tool': 'polygon',\n",
                "    'name': 'dog',\n",
                "    'color': 'black',\n",
                "    'classifications': [],\n",
                "}\n",
                "feature_schema_dog = client.create_feature_schema(feature_schema_dog_normalized)\n",
                "# The cat is shared between this new ontology and the one we created previously\n",
                "# (ie. the cat feature schema will not be re-created)\n",
                "ontology = client.create_ontology_from_feature_schemas(\n",
                "    ontology_name, [feature_schema_cat.uid, feature_schema_dog.uid])"
            ],
            "outputs": [],
            "metadata": {
                "scrolled": true
            }
        },
        {
            "cell_type": "markdown",
            "source": [
                "### Read\n",
                "* We can directly query by id for ontologies and feature schemas\n",
                "* We also can search for both by name"
            ],
            "metadata": {}
        },
        {
            "cell_type": "code",
            "execution_count": 7,
            "source": [
                "#### Fetch by ID\n",
                "feature_schema = client.get_feature_schema(feature_schema_cat.uid)\n",
                "ontology = client.get_ontology(ontology.uid)\n",
                "print(feature_schema)\n",
                "print(ontology)"
            ],
            "outputs": [],
            "metadata": {
                "scrolled": true
            }
        },
        {
            "cell_type": "code",
            "execution_count": 8,
            "source": [
                "#### Search by name\n",
                "feature_schema = next(client.get_feature_schemas(\"cat\"))\n",
                "ontology = next(client.get_ontologies(ontology_name))\n",
                "print(feature_schema)\n",
                "print(ontology)"
            ],
            "outputs": [],
            "metadata": {
                "scrolled": true
            }
        },
        {
            "cell_type": "markdown",
            "source": [
                "### Update and Delete\n",
                "- At this time, these options are not supported from the SDK.\n",
                "- Updating an ontology is dangerous and could cause labels to be hidden. \n",
                "    - Use caution when doing so"
            ],
            "metadata": {}
        },
        {
            "cell_type": "markdown",
            "source": [
                "### Ontology Builder\n",
                "* The ontology builder is a tool for creating and modifying normalized json"
            ],
            "metadata": {}
        },
        {
            "cell_type": "code",
            "execution_count": 9,
            "source": [
                "# Create normalized json with a bounding box and segmentation tool\n",
                "ontology_builder = OntologyBuilder(tools=[\n",
                "    Tool(tool=Tool.Type.BBOX, name=\"dog\"),\n",
                "    Tool(tool=Tool.Type.SEGMENTATION, name=\"cat\"),\n",
                "])\n",
                "# Creating an ontology from this is easy\n",
                "ontology = client.create_ontology(\"ontology-builder-ontology\",\n",
                "                                  ontology_builder.asdict())\n",
                "print(json.dumps(ontology.normalized, indent=2))"
            ],
            "outputs": [],
            "metadata": {
                "scrolled": true
            }
        },
        {
            "cell_type": "markdown",
            "source": [
                "* Alternative syntax for defining the ontology via the OntologyBuilder"
            ],
            "metadata": {}
        },
        {
            "cell_type": "code",
            "execution_count": 10,
            "source": [
                "# Create\n",
                "ontology_builder = OntologyBuilder()\n",
                "# Append tools\n",
                "tool_dog = Tool(tool=Tool.Type.BBOX, name=\"dog\")\n",
                "tool_cat = Tool(tool=Tool.Type.SEGMENTATION, name=\"cat\")\n",
                "ontology_builder.add_tool(tool_dog)\n",
                "ontology_builder.add_tool(tool_cat)\n",
                "ontology = client.create_ontology(\"ontology-builder-ontology\",\n",
                "                                  ontology_builder.asdict())\n",
                "print(json.dumps(ontology.normalized, indent=2))"
            ],
            "outputs": [],
            "metadata": {
                "scrolled": true
            }
        },
        {
            "cell_type": "markdown",
            "source": [
                "* Classifications are supported too (Both for top level and as subclassifications)"
            ],
            "metadata": {}
        },
        {
            "cell_type": "code",
            "execution_count": 11,
            "source": [
                "ontology_builder = OntologyBuilder(\n",
                "    tools=[\n",
                "        Tool(tool=Tool.Type.BBOX, name=\"dog\"),\n",
                "        Tool(tool=Tool.Type.SEGMENTATION,\n",
                "             name=\"cat\",\n",
                "             classifications=[\n",
                "                 Classification(class_type=Classification.Type.TEXT,\n",
                "                                instructions=\"name\")\n",
                "             ])\n",
                "    ],\n",
                "    classifications=[\n",
                "        Classification(class_type=Classification.Type.RADIO,\n",
                "                       instructions=\"image_quality\",\n",
                "                       options=[Option(value=\"clear\"),\n",
                "                                Option(value=\"blurry\")])\n",
                "    ])\n",
                "print(json.dumps(ontology_builder.asdict(), indent=2))"
            ],
            "outputs": [],
            "metadata": {
                "scrolled": true
            }
        },
        {
            "cell_type": "markdown",
            "source": [
                "* All Tool objects are constructed the same way:"
            ],
            "metadata": {}
        },
        {
            "cell_type": "code",
            "execution_count": 12,
            "source": [
                "bbox_tool = Tool(tool=Tool.Type.BBOX, name=\"dog_box\")\n",
                "poly_tool = Tool(tool=Tool.Type.POLYGON, name=\"dog_poly\")\n",
                "seg_tool = Tool(tool=Tool.Type.SEGMENTATION, name=\"dog_seg\")\n",
                "point_tool = Tool(tool=Tool.Type.POINT, name=\"dog_center\")\n",
                "line_tool = Tool(tool=Tool.Type.LINE, name=\"dog_orientation\")\n",
                "ner_tool = Tool(tool=Tool.Type.NER, name=\"dog_reference\")"
            ],
            "outputs": [],
            "metadata": {
                "scrolled": true
            }
        },
        {
            "cell_type": "markdown",
            "source": [
                "* Classifications are all constructed the same way (except text which doesn't require options)\n",
                "* Classifications can be global or subclasses to a tool (ie dog bounding box, with a breed classification)"
            ],
            "metadata": {}
        },
        {
            "cell_type": "code",
            "execution_count": 13,
            "source": [
                "text_classification = Classification(class_type=Classification.Type.TEXT,\n",
                "                                     instructions=\"dog_name\")\n",
                "radio_classification = Classification(class_type=Classification.Type.RADIO,\n",
                "                                      instructions=\"dog_breed\",\n",
                "                                      options=[Option(\"poodle\")])\n",
                "checklist_classification = Classification(\n",
                "    class_type=Classification.Type.CHECKLIST,\n",
                "    instructions=\"background\",\n",
                "    options=[Option(\"at_park\"), Option(\"has_leash\")])"
            ],
            "outputs": [],
            "metadata": {
                "scrolled": true
            }
        }
    ],
    "metadata": {
        "kernelspec": {
            "display_name": "Python 3 (ipykernel)",
            "language": "python",
            "name": "python3"
        },
        "language_info": {
            "codemirror_mode": {
                "name": "ipython",
                "version": 3
            },
            "file_extension": ".py",
            "mimetype": "text/x-python",
            "name": "python",
            "nbconvert_exporter": "python",
            "pygments_lexer": "ipython3",
            "version": "3.8.2"
        }
    },
    "nbformat": 4,
    "nbformat_minor": 5
}