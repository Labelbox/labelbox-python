{
 "cells": [
  {
   "cell_type": "markdown",
   "metadata": {},
   "source": [
    "# Quick Start\n",
    "\n",
    "This notebook is intended to be a quick overview on Labelbox-Python SDK by demonstrating a simple but common work flow\n",
    "\n",
    "In this guide, we will be:\n",
    "\n",
    "1. Creating a dataset:\n",
    " A dataset is a collection of data rows imported into Labelbox.\n",
    "2. Importing an image data row\n",
    "3. Creating an ontology\n",
    "4. Creating an project and attaching an ontology\n",
    "5. Sending our data row towards are project by creating a batch\n",
    "6. Exporting from our project\n",
    "\n",
    "This notebook is geared towards new users of our SDK."
   ]
  },
  {
   "cell_type": "markdown",
   "metadata": {},
   "source": [
    "## Setup\n",
    "\n",
    "To start, we first need to install the labelbox library and then import the SDK module. It is recommended to install \"labelbox[data]\" over labelbox to obtain all the correct dependencies. We will also be importing the python UUID library to generate unique IDs for the variety of objects that will be created with this notebook."
   ]
  },
  {
   "cell_type": "code",
   "execution_count": null,
   "metadata": {},
   "outputs": [],
   "source": [
    "%pip install -q \"labelbox[data]\""
   ]
  },
  {
   "cell_type": "code",
   "execution_count": null,
   "metadata": {},
   "outputs": [],
   "source": [
    "import labelbox as lb\n",
    "import uuid"
   ]
  },
  {
   "cell_type": "markdown",
   "metadata": {},
   "source": [
    "## API Key and Client\n",
    "Provide a valid API key below to connect to the Labelbox client properly. For more information, please review the [Create API Key](https://docs.labelbox.com/reference/create-api-key) guide."
   ]
  },
  {
   "cell_type": "code",
   "execution_count": null,
   "metadata": {},
   "outputs": [],
   "source": [
    "API_KEY = None\n",
    "client = lb.Client(api_key=API_KEY)"
   ]
  }
 ],
 "metadata": {
  "language_info": {
   "name": "python"
  }
 },
 "nbformat": 4,
 "nbformat_minor": 2
}
