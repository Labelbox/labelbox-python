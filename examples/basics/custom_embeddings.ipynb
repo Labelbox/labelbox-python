{
  "cells": [
    {
      "cell_type": "markdown",
      "metadata": {},
      "source": [
        "<td>\n",
        "   <a target=\"_blank\" href=\"https://labelbox.com\" ><img src=\"https://labelbox.com/blog/content/images/2021/02/logo-v4.svg\" width=256/></a>\n",
        "</td>\n"
      ]
    },
    {
      "cell_type": "markdown",
      "metadata": {},
      "source": [
        "<td>\n",
        "<a href=\"https://colab.research.google.com/github/Labelbox/labelbox-python/blob/develop/examples/basics/custom_embeddings.ipynb\" target=\"_blank\"><img\n",
        "src=\"https://colab.research.google.com/assets/colab-badge.svg\" alt=\"Open In Colab\"></a>\n",
        "</td>\n",
        "\n",
        "<td>\n",
        "<a href=\"https://github.com/Labelbox/labelbox-python/tree/develop/examples/basics/custom_embeddings.ipynb\" target=\"_blank\"><img\n",
        "src=\"https://img.shields.io/badge/GitHub-100000?logo=github&logoColor=white\" alt=\"GitHub\"></a>\n",
        "</td>"
      ]
    },
    {
      "cell_type": "markdown",
      "metadata": {},
      "source": [
        "# Custom Embeddings\n",
        "\n",
        "You can improve your data exploration and similarity search experience by adding your own custom embeddings. Labelbox allows you to upload up to 10 different custom embeddings per workspace on any kind of data. You can experiment with different embeddings to power your data selection."
      ]
    },
    {
      "cell_type": "markdown",
      "metadata": {},
      "source": [
        "# Set up "
      ]
    },
    {
      "cell_type": "code",
      "execution_count": null,
      "metadata": {},
      "outputs": [],
      "source": [
        "%pip install -q --upgrade \"labelbox[data]\""
      ]
    },
    {
      "cell_type": "code",
      "execution_count": null,
      "metadata": {},
      "outputs": [],
      "source": [
        "import labelbox as lb\n",
        "import numpy as np\n",
        "import json\n",
        "import uuid\n",
        "import random"
      ]
    },
    {
      "cell_type": "markdown",
      "metadata": {},
      "source": [
        "# Replace with your API key"
      ]
    },
    {
      "cell_type": "code",
      "execution_count": null,
      "metadata": {},
      "outputs": [],
      "source": [
        "API_KEY = \"\"\n",
        "client = lb.Client(API_KEY)"
      ]
    },
    {
      "cell_type": "markdown",
      "metadata": {},
      "source": [
        "# Select data rows"
      ]
    },
    {
      "cell_type": "markdown",
      "metadata": {},
      "source": [
        "- Get images from a Labelbox dataset\n",
        "- To improve similarity search, you need to upload custom embeddings to at least 1,000 data rows.\n"
      ]
    },
    {
      "cell_type": "code",
      "execution_count": null,
      "metadata": {},
      "outputs": [],
      "source": [
        "DATASET_ID = \"\""
      ]
    },
    {
      "cell_type": "code",
      "execution_count": null,
      "metadata": {},
      "outputs": [],
      "source": [
        "dataset = client.get_dataset(dataset_id=DATASET_ID)\n",
        "export_task = dataset.export()\n",
        "export_task.wait_till_done()"
      ]
    },
    {
      "cell_type": "code",
      "execution_count": null,
      "metadata": {},
      "outputs": [],
      "source": [
        "data_rows = []\n",
        "\n",
        "\n",
        "def json_stream_handler(output: lb.BufferedJsonConverterOutput):\n",
        "    data_row = output.json\n",
        "    data_rows.append(data_row)\n",
        "\n",
        "\n",
        "if export_task.has_errors():\n",
        "    export_task.get_buffered_stream(stream_type=lb.StreamType.ERRORS).start(\n",
        "        stream_handler=lambda error: print(error))\n",
        "\n",
        "if export_task.has_result():\n",
        "    export_json = export_task.get_buffered_stream(\n",
        "        stream_type=lb.StreamType.RESULT).start(\n",
        "            stream_handler=json_stream_handler)"
      ]
    },
    {
      "cell_type": "code",
      "execution_count": null,
      "metadata": {},
      "outputs": [],
      "source": [
        "data_row_dict = [{\"data_row_id\": dr[\"data_row\"][\"id\"]} for dr in data_rows]\n",
        "data_row_dict = data_row_dict[:\n",
        "                              1000]  # keep the first 1000 examples for the sake of this demo"
      ]
    },
    {
      "cell_type": "markdown",
      "metadata": {},
      "source": [
        "# Create custom embedding payload "
      ]
    },
    {
      "cell_type": "markdown",
      "metadata": {},
      "source": [
        "Generate random vectors for embeddings (max : 2048 dimensions)"
      ]
    },
    {
      "cell_type": "code",
      "execution_count": null,
      "metadata": {},
      "outputs": [],
      "source": [
        "nb_data_rows = len(data_row_dict)\n",
        "print(\"Number of data rows: \", nb_data_rows)\n",
        "# Labelbox supports custom embedding vectors of dimension up to 2048\n",
        "custom_embeddings = [list(np.random.random(2048)) for _ in range(nb_data_rows)]"
      ]
    },
    {
      "cell_type": "markdown",
      "metadata": {},
      "source": [
        "List all custom embeddings available in your Labelbox workspace"
      ]
    },
    {
      "cell_type": "code",
      "execution_count": null,
      "metadata": {},
      "outputs": [],
      "source": [
        "embeddings = client.get_embeddings()"
      ]
    },
    {
      "cell_type": "markdown",
      "metadata": {},
      "source": [
        "Choose an existing embedding type or create a new one"
      ]
    },
    {
      "cell_type": "code",
      "execution_count": null,
      "metadata": {},
      "outputs": [],
      "source": [
        "# Name of the custom embedding must be unique\n",
        "embedding = client.create_embedding(\"my_custom_embedding_2048_dimensions\", 2048)"
      ]
    },
    {
      "cell_type": "markdown",
      "metadata": {},
      "source": [
        "Create payload"
      ]
    },
    {
      "cell_type": "markdown",
      "metadata": {},
      "source": [
        "The payload should encompass the `key` (data row id  or global key) and the new embedding vector data. Note that the `dataset.upsert_data_rows()` operation will only update the values you pass in the payload; all other existing row data will not be modified."
      ]
    },
    {
      "cell_type": "code",
      "execution_count": null,
      "metadata": {},
      "outputs": [],
      "source": [
        "payload = []\n",
        "for data_row_dict, custom_embedding in zip(data_row_dict, custom_embeddings):\n",
        "    payload.append({\n",
        "        \"key\":\n",
        "            lb.UniqueId(data_row_dict[\"data_row_id\"]),\n",
        "        \"embeddings\": [{\n",
        "            \"embedding_id\": embedding.id,\n",
        "            \"vector\": custom_embedding\n",
        "        }],\n",
        "    })\n",
        "\n",
        "print(\"payload\", len(payload), payload[:1])"
      ]
    },
    {
      "cell_type": "markdown",
      "metadata": {},
      "source": [
        "# Upload payload"
      ]
    },
    {
      "cell_type": "markdown",
      "metadata": {},
      "source": [
        "Upsert data rows with custom embeddings"
      ]
    },
    {
      "cell_type": "code",
      "execution_count": null,
      "metadata": {},
      "outputs": [],
      "source": [
        "task = dataset.upsert_data_rows(payload)\n",
        "task.wait_till_done()\n",
        "print(task.errors)\n",
        "print(task.status)"
      ]
    },
    {
      "cell_type": "markdown",
      "metadata": {},
      "source": [
        "Get the count of imported vectors for a custom embedding"
      ]
    },
    {
      "cell_type": "code",
      "execution_count": null,
      "metadata": {},
      "outputs": [],
      "source": [
        "# Count how many data rows have a specific custom embedding (this can take a couple of minutes)\n",
        "count = embedding.get_imported_vector_count()\n",
        "print(count)"
      ]
    },
    {
      "cell_type": "markdown",
      "metadata": {},
      "source": [
        "Delete custom embedding type"
      ]
    },
    {
      "cell_type": "code",
      "execution_count": null,
      "metadata": {},
      "outputs": [],
      "source": [
        "# embedding.delete()"
      ]
    },
    {
      "cell_type": "markdown",
      "metadata": {},
      "source": [
        "# Upload custom embeddings during data row creation"
      ]
    },
    {
      "cell_type": "markdown",
      "metadata": {},
      "source": [
        "Create a dataset"
      ]
    },
    {
      "cell_type": "code",
      "execution_count": null,
      "metadata": {},
      "outputs": [],
      "source": [
        "# Create a dataset\n",
        "dataset_new = client.create_dataset(name=\"data_rows_with_embeddings\")"
      ]
    },
    {
      "cell_type": "markdown",
      "metadata": {},
      "source": [
        "Fetch an embedding (2048 dimension)"
      ]
    },
    {
      "cell_type": "code",
      "execution_count": null,
      "metadata": {},
      "outputs": [],
      "source": [
        "embedding = client.get_embedding_by_name(\"my_custom_embedding_2048_dimensions\")\n",
        "vector = [random.uniform(1.0, 2.0) for _ in range(embedding.dims)]"
      ]
    },
    {
      "cell_type": "markdown",
      "metadata": {},
      "source": [
        "Upload data rows with embeddings"
      ]
    },
    {
      "cell_type": "code",
      "execution_count": null,
      "metadata": {},
      "outputs": [],
      "source": [
        "uploads = []\n",
        "# Generate data rows\n",
        "for i in range(1, 9):\n",
        "    uploads.append({\n",
        "        \"row_data\":\n",
        "            f\"https://storage.googleapis.com/labelbox-datasets/People_Clothing_Segmentation/jpeg_images/IMAGES/img_000{i}.jpeg\",\n",
        "        \"global_key\":\n",
        "            \"TEST-ID-%id\" % uuid.uuid1(),\n",
        "        \"embeddings\": [{\n",
        "            \"embedding_id\": embedding.id,\n",
        "            \"vector\": vector\n",
        "        }],\n",
        "    })\n",
        "\n",
        "task1 = dataset_new.create_data_rows(uploads)\n",
        "task1.wait_till_done()\n",
        "print(\"ERRORS: \", task1.errors)\n",
        "print(\"RESULTS:\", task1.result)"
      ]
    }
  ],
  "metadata": {
    "language_info": {
      "name": "python"
    }
  },
  "nbformat": 4,
  "nbformat_minor": 0
}
