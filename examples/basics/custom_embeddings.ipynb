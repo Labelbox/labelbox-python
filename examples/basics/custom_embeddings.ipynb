{
  "cells": [
    {
      "metadata": {
        "id": "QO7ZPwqmHS4E"
      },
      "source": [
        "<td>\n",
        "   <a target=\"_blank\" href=\"https://labelbox.com\" ><img src=\"https://labelbox.com/blog/content/images/2021/02/logo-v4.svg\" width=256/></a>\n",
        "</td>"
      ],
      "cell_type": "markdown"
    },
    {
      "metadata": {
        "id": "1vZLw51VHS4F"
      },
      "source": [
        "<td>\n",
        "<a href=\"https://colab.research.google.com/github/Labelbox/labelbox-python/blob/master/examples/basics/custom_embeddings.ipynb\" target=\"_blank\"><img\n",
        "src=\"https://colab.research.google.com/assets/colab-badge.svg\" alt=\"Open In Colab\"></a>\n",
        "</td>\n",
        "\n",
        "<td>\n",
        "<a href=\"https://github.com/Labelbox/labelbox-python/tree/master/examples/basics/custom_embeddings.ipynb\" target=\"_blank\"><img\n",
        "src=\"https://img.shields.io/badge/GitHub-100000?logo=github&logoColor=white\" alt=\"GitHub\"></a>\n",
        "</td>"
      ],
      "cell_type": "markdown"
    },
    {
      "cell_type": "markdown",
      "metadata": {
        "id": "LLXAULV7YX4e"
      },
      "source": [
        "# Documentation\n",
        "Please read this document before getting started. \n",
        "https://docs.google.com/document/d/1C_zZFGNjXq10P1MvEX6MM0TC7HHrkFOp9BB0P_S_2MQ"
      ]
    },
    {
      "cell_type": "markdown",
      "metadata": {
        "id": "fE4tguJNY-N_"
      },
      "source": [
        "# Imports"
      ]
    },
    {
      "cell_type": "code",
      "execution_count": 1,
      "metadata": {
        "id": "wRIdzkYf7T18",
        "colab": {
          "base_uri": "https://localhost:8080/"
        },
        "outputId": "13ee42f0-4206-493f-f402-ac7c84916e5e"
      },
      "outputs": [
        {
          "output_type": "stream",
          "name": "stdout",
          "text": [
            "\u001b[2K     \u001b[90m━━━━━━━━━━━━━━━━━━━━━━━━━━━━━━━━━━━━━━━\u001b[0m \u001b[32m189.2/189.2 KB\u001b[0m \u001b[31m3.4 MB/s\u001b[0m eta \u001b[36m0:00:00\u001b[0m\n",
            "\u001b[2K     \u001b[90m━━━━━━━━━━━━━━━━━━━━━━━━━━━━━━━━━━━━━━━━\u001b[0m \u001b[32m7.8/7.8 MB\u001b[0m \u001b[31m52.8 MB/s\u001b[0m eta \u001b[36m0:00:00\u001b[0m\n",
            "\u001b[?25h  Preparing metadata (setup.py) ... \u001b[?25l\u001b[?25hdone\n",
            "  Building wheel for pygeotile (setup.py) ... \u001b[?25l\u001b[?25hdone\n"
          ]
        }
      ],
      "source": [
        "# labelbox\n",
        "!pip3 install -q labelbox[data]\n",
        "import labelbox as lb\n",
        "#ndjson\n",
        "!pip3 install -q ndjson\n",
        "import ndjson"
      ]
    },
    {
      "cell_type": "markdown",
      "metadata": {
        "id": "iYA58iij8CRY"
      },
      "source": [
        "# Install the wheel from Github"
      ]
    },
    {
      "cell_type": "code",
      "execution_count": 2,
      "metadata": {
        "colab": {
          "base_uri": "https://localhost:8080/"
        },
        "id": "9k82ueIu8Dy1",
        "outputId": "5323157e-872b-4bf2-a65c-0fa9662cdbe8"
      },
      "outputs": [
        {
          "output_type": "stream",
          "name": "stdout",
          "text": [
            "  Installing build dependencies ... \u001b[?25l\u001b[?25hdone\n",
            "  Getting requirements to build wheel ... \u001b[?25l\u001b[?25hdone\n",
            "  Preparing metadata (pyproject.toml) ... \u001b[?25l\u001b[?25hdone\n",
            "\u001b[2K     \u001b[90m━━━━━━━━━━━━━━━━━━━━━━━━━━━━━━━━━━━━━━━━\u001b[0m \u001b[32m62.8/62.8 KB\u001b[0m \u001b[31m2.6 MB/s\u001b[0m eta \u001b[36m0:00:00\u001b[0m\n",
            "\u001b[?25h  Building wheel for advlib (pyproject.toml) ... \u001b[?25l\u001b[?25hdone\n"
          ]
        }
      ],
      "source": [
        "# for custom embeddings\n",
        "!pip3 install -q 'git+https://github.com/Labelbox/advlib.git'"
      ]
    },
    {
      "cell_type": "markdown",
      "metadata": {
        "id": "h9b_d8Mc6_Ge"
      },
      "source": [
        "# Labelbox Credentials"
      ]
    },
    {
      "cell_type": "code",
      "execution_count": null,
      "metadata": {
        "id": "BQsGpzXK65tc"
      },
      "outputs": [],
      "source": [
        "API_KEY = \"<ADD YOUR LABELBOX CREDENTIALS>\"\n",
        "client = lb.Client(API_KEY)\n",
        "\n",
        "# set LABELBOX_API_KEY in bash\n",
        "%env LABELBOX_API_KEY=$API_KEY\n",
        "# sanity check it worked\n",
        "!echo $LABELBOX_API_KEY"
      ]
    },
    {
      "cell_type": "markdown",
      "metadata": {
        "id": "YFBI5rSM7P5I"
      },
      "source": [
        "# Select data rows in Labelbox for custom embeddings"
      ]
    },
    {
      "cell_type": "code",
      "execution_count": 32,
      "metadata": {
        "id": "tOIyo5pC7PTz"
      },
      "outputs": [],
      "source": [
        "# get images from a Labelbox dataset\n",
        "dataset = client.get_dataset(\"<DATASET-ID>\")\n",
        "drs = list(dataset.export_data_rows(timeout_seconds=9999))\n",
        "data_row_ids = [dr.uid for dr in drs]"
      ]
    },
    {
      "cell_type": "markdown",
      "metadata": {
        "id": "Gwufn4oh9e9i"
      },
      "source": [
        "# Create the payload for custom embeddings\n",
        "It should be a .ndjson file\n",
        "It does not have to be created through python."
      ]
    },
    {
      "cell_type": "code",
      "execution_count": 33,
      "metadata": {
        "id": "iJFGf0w7swnW"
      },
      "outputs": [],
      "source": [
        "import numpy as np\n",
        "\n",
        "nb_data_rows = len(data_row_ids)\n",
        "# generate 1000 custom embedding vectors, of dimension 2048 each\n",
        "# Labelbox supports custom embeddings of dimension up to 2048\n",
        "custom_embeddings = [list(np.random.random(2048)) for _ in range(nb_data_rows)]"
      ]
    },
    {
      "cell_type": "code",
      "execution_count": null,
      "metadata": {
        "id": "j8gNNDmG4E8O"
      },
      "outputs": [],
      "source": [
        "# create the ndjson payload for custom embeddings\n",
        "payload = []\n",
        "for data_row_id,custom_embedding in zip(data_row_ids,custom_embeddings):\n",
        "  payload.append({\"id\": data_row_id, \"vector\": custom_embedding})\n",
        "\n",
        "print('payload', len(payload),payload[:1])"
      ]
    },
    {
      "cell_type": "code",
      "execution_count": 35,
      "metadata": {
        "id": "u0ZgybLK67n0",
        "colab": {
          "base_uri": "https://localhost:8080/"
        },
        "outputId": "7e1991a0-8e0a-4e63-e8d8-dfdcf095a625"
      },
      "outputs": [
        {
          "output_type": "stream",
          "name": "stdout",
          "text": [
            "Nb of custom embedding vectors in sanity_check_payload:  1000\n"
          ]
        }
      ],
      "source": [
        "# convert payload to ndjson file\n",
        "with open('payload.ndjson', 'w') as f:\n",
        "    ndjson.dump(payload, f)\n",
        "\n",
        "# sanity check that you can read/load the file and the payload is correct\n",
        "with open('payload.ndjson') as f:\n",
        "    sanity_check_payload = ndjson.load(f)\n",
        "\n",
        "print(\"Nb of custom embedding vectors in sanity_check_payload: \", len(sanity_check_payload))\n",
        "# print(\"sanity_check_payload: \", sanity_check_payload)"
      ]
    },
    {
      "cell_type": "markdown",
      "metadata": {
        "id": "ygF0PYg19ibw"
      },
      "source": [
        "# Pick an existing custom embedding, or create a custom embedding"
      ]
    },
    {
      "cell_type": "code",
      "execution_count": 36,
      "metadata": {
        "colab": {
          "base_uri": "https://localhost:8080/"
        },
        "id": "YQeCS_U98BD2",
        "outputId": "f8a2cc70-46d9-4a0f-c48a-2817ef7eb132"
      },
      "outputs": [
        {
          "output_type": "stream",
          "name": "stdout",
          "text": [
            "00000000-0000-0000-0000-000000000000 - Image Embedding (CLIP ViT-B/32)          - dims: 512  \n",
            "00000000-0000-0000-0000-000000000001 - Text embedding (All-MPNet-base-v2)       - dims: 768  \n",
            "2e122b85-7def-44fb-922b-857defe4fb8a - my_custom_embedding_2048_dimensions_2    - dims: 2048 \n",
            "45cafc7a-5314-462a-8afc-7a5314062a3b - my_custom_embedding_2048_dimensions      - dims: 2048 \n",
            "7d3a6118-589d-4b6c-ba61-18589dbb6ccf - ResNet50_2048_dimensions                 - dims: 2048 \n"
          ]
        }
      ],
      "source": [
        "# See all custom embeddings available\n",
        "!advtool embeddings list"
      ]
    },
    {
      "cell_type": "code",
      "execution_count": 37,
      "metadata": {
        "colab": {
          "base_uri": "https://localhost:8080/"
        },
        "id": "spyHzkLP67dI",
        "outputId": "51ed8b7d-9cb8-4f1c-dd45-34d789b51bdf"
      },
      "outputs": [
        {
          "output_type": "stream",
          "name": "stdout",
          "text": [
            "Embedding type created id=7bcf4f71-4dcb-432b-8f4f-714dcbd32b59\n"
          ]
        }
      ],
      "source": [
        "# # Create a new custom embedding\n",
        "!advtool embeddings create my_custom_embedding_2048_dimensions_3 2048\n",
        "# will return the ID of the newly created embedding, e.g. 0ddc5d5c-0963-41ad-9c5d-5c0963a1ad98"
      ]
    },
    {
      "cell_type": "code",
      "source": [
        "# # Delete a custom embedding\n",
        "# !advtool embeddings delete 521eadfe-f8e9-4135-9ead-fef8e9713546"
      ],
      "metadata": {
        "id": "MafxKyncxyvR"
      },
      "execution_count": null,
      "outputs": []
    },
    {
      "cell_type": "markdown",
      "metadata": {
        "id": "CdVc42el9p74"
      },
      "source": [
        "# Upload the payload to Labelbox"
      ]
    },
    {
      "cell_type": "code",
      "execution_count": 38,
      "metadata": {
        "colab": {
          "base_uri": "https://localhost:8080/"
        },
        "id": "twDd5XNM67Zo",
        "outputId": "1a6c9447-1be8-44ea-9dee-ce665f236290"
      },
      "outputs": [
        {
          "output_type": "stream",
          "name": "stdout",
          "text": [
            "Uploading file: ./payload.ndjson \n",
            "Progress: 100.0%\n",
            "Check 'advtool embeddings count <embedding id>' for total searchable embeddings\n"
          ]
        }
      ],
      "source": [
        "# Upload the payload to Labelbox \n",
        "!advtool embeddings import 7bcf4f71-4dcb-432b-8f4f-714dcbd32b59 ./payload.ndjson"
      ]
    },
    {
      "cell_type": "code",
      "execution_count": 41,
      "metadata": {
        "colab": {
          "base_uri": "https://localhost:8080/"
        },
        "id": "wC0eeEPM9aAM",
        "outputId": "696a5bc3-7ff3-4b24-f158-8af789395517"
      },
      "outputs": [
        {
          "output_type": "stream",
          "name": "stdout",
          "text": [
            "1000\n"
          ]
        }
      ],
      "source": [
        "# count how many data rows have a specific custom embedding (This can take a couple of minutes)\n",
        "!advtool embeddings count 7bcf4f71-4dcb-432b-8f4f-714dcbd32b59"
      ]
    },
    {
      "cell_type": "code",
      "execution_count": 42,
      "metadata": {
        "colab": {
          "base_uri": "https://localhost:8080/"
        },
        "id": "5AKDMJfO9Z51",
        "outputId": "b77764b0-ce95-4596-d42b-26823490e619"
      },
      "outputs": [
        {
          "output_type": "stream",
          "name": "stdout",
          "text": [
            "1000\n"
          ]
        }
      ],
      "source": [
        "print(len(payload))"
      ]
    }
  ],
  "metadata": {
    "colab": {
      "provenance": []
    },
    "kernelspec": {
      "display_name": "Python 3",
      "name": "python3"
    },
    "language_info": {
      "name": "python"
    }
  },
  "nbformat": 4,
  "nbformat_minor": 0
}
