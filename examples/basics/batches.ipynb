{
  "cells": [
    {
      "cell_type": "markdown",
      "id": "db768cda",
      "metadata": {
        "id": "db768cda"
      },
      "source": [
        "<td>\n",
        "   <a target=\"_blank\" href=\"https://labelbox.com\" ><img src=\"https://labelbox.com/blog/content/images/2021/02/logo-v4.svg\" width=256/></a>\n",
        "</td>"
      ]
    },
    {
      "cell_type": "markdown",
      "id": "cb5611d0",
      "metadata": {
        "id": "cb5611d0"
      },
      "source": [
        "<td>\n",
        "<a href=\"https://colab.research.google.com/github/Labelbox/labelbox-python/blob/develop/examples/basics/batches.ipynb\" target=\"_blank\"><img\n",
        "src=\"https://colab.research.google.com/assets/colab-badge.svg\" alt=\"Open In Colab\"></a>\n",
        "</td>\n",
        "\n",
        "<td>\n",
        "<a href=\"https://github.com/Labelbox/labelbox-python/blob/develop/examples/basics/batches.ipynb\" target=\"_blank\"><img\n",
        "src=\"https://img.shields.io/badge/GitHub-100000?logo=github&logoColor=white\" alt=\"GitHub\"></a>\n",
        "</td>"
      ]
    },
    {
      "cell_type": "markdown",
      "id": "Lup2QNWjaxKg",
      "metadata": {
        "id": "Lup2QNWjaxKg"
      },
      "source": [
        "## Batches (*Currently in Public Beta*)"
      ]
    },
    {
      "cell_type": "markdown",
      "id": "KONWmRQkadPf",
      "metadata": {
        "id": "KONWmRQkadPf"
      },
      "source": [
        "* A Batch is collection of datarows picked out of a Data Set.\n",
        "* A Datarow cannot be part of more than one batch in a project.\n",
        "* Batches work for all data types, but there should only be one data type per batch.\n",
        "* Batches may not be shared between projects.\n",
        "* Batches may have Datarows from multiple Datasets.\n",
        "* Datarows can only be attached to a Project as part of a single Batch.\n",
        "* You can set priority for each Batch."
      ]
    },
    {
      "cell_type": "code",
      "execution_count": null,
      "id": "HoW5ypnyzpqb",
      "metadata": {
        "id": "HoW5ypnyzpqb"
      },
      "outputs": [],
      "source": [
        "!pip install labelbox[data]"
      ]
    },
    {
      "cell_type": "code",
      "execution_count": null,
      "id": "6-Us9Gj1zpqc",
      "metadata": {
        "id": "6-Us9Gj1zpqc"
      },
      "outputs": [],
      "source": [
        "from labelbox import DataRow, Client\n",
        "import random"
      ]
    },
    {
      "cell_type": "markdown",
      "id": "qQiozm-dzpqd",
      "metadata": {
        "id": "qQiozm-dzpqd"
      },
      "source": [
        "Set the following cell with your data to run this notebook:"
      ]
    },
    {
      "cell_type": "code",
      "execution_count": null,
      "id": "84Zna5c0zpqd",
      "metadata": {
        "id": "84Zna5c0zpqd"
      },
      "outputs": [],
      "source": [
        "PROJECT_NAME = \"Batch Queue Demo\"  #text project\n",
        "DATASET_NAME = \"Batch Queue Demo Data\""
      ]
    },
    {
      "cell_type": "markdown",
      "id": "b0b09aee",
      "metadata": {
        "id": "b0b09aee"
      },
      "source": [
        "# API Key and Client\n",
        "Provide a valid api key below in order to properly connect to the Labelbox Client."
      ]
    },
    {
      "cell_type": "code",
      "execution_count": null,
      "id": "Ge-dfNh-zpqe",
      "metadata": {
        "id": "Ge-dfNh-zpqe"
      },
      "outputs": [],
      "source": [
        "# Add your api key\n",
        "API_KEY = None\n",
        "client = Client(api_key=API_KEY)"
      ]
    },
    {
      "cell_type": "code",
      "execution_count": null,
      "id": "nMVtBYQmzpqe",
      "metadata": {
        "id": "nMVtBYQmzpqe"
      },
      "outputs": [],
      "source": [
        "dataset = client.create_dataset(name=DATASET_NAME)\n",
        "\n",
        "uploads = []\n",
        "for i in range(10):\n",
        "    uploads.append({\n",
        "        'external_id': i,\n",
        "        'row_data': 'https://picsum.photos/200/300'\n",
        "    })\n",
        "dataset.create_data_rows(uploads)"
      ]
    },
    {
      "cell_type": "markdown",
      "id": "61CvCD3C7qv6",
      "metadata": {
        "id": "61CvCD3C7qv6"
      },
      "source": [
        "# Ensure project is in batch mode:"
      ]
    },
    {
      "cell_type": "code",
      "execution_count": null,
      "id": "tqtT4q31787T",
      "metadata": {
        "id": "tqtT4q31787T"
      },
      "outputs": [],
      "source": [
        "project = client.create_project(name=PROJECT_NAME)\n",
        "project.update(queue_mode=project.QueueMode.Batch)"
      ]
    },
    {
      "cell_type": "markdown",
      "id": "Xti9AoZWELrq",
      "metadata": {
        "id": "Xti9AoZWELrq"
      },
      "source": [
        "# Collect Datarow id's:"
      ]
    },
    {
      "cell_type": "markdown",
      "id": "9JVLsXdevywS",
      "metadata": {
        "id": "9JVLsXdevywS"
      },
      "source": [
        "### Select All Data Rows from dataset."
      ]
    },
    {
      "cell_type": "code",
      "execution_count": null,
      "id": "U4C1ZyJ2EgTS",
      "metadata": {
        "id": "U4C1ZyJ2EgTS"
      },
      "outputs": [],
      "source": [
        "data_rows = [dr.uid for dr in list(dataset.export_data_rows())]"
      ]
    },
    {
      "cell_type": "markdown",
      "id": "B0UqO_O1V8ei",
      "metadata": {
        "id": "B0UqO_O1V8ei"
      },
      "source": [
        "### Randomly sample\n",
        "\n",
        "Rather than selecting all of the data we sample 5 data rows at random"
      ]
    },
    {
      "cell_type": "code",
      "execution_count": null,
      "id": "WJAXBf1bV-td",
      "metadata": {
        "id": "WJAXBf1bV-td"
      },
      "outputs": [],
      "source": [
        "sample = random.sample(data_rows, 5)"
      ]
    },
    {
      "cell_type": "markdown",
      "id": "UPdaTqkgYyvt",
      "metadata": {
        "id": "UPdaTqkgYyvt"
      },
      "source": [
        "# Batch Manipulation"
      ]
    },
    {
      "cell_type": "markdown",
      "id": "Al-K1lBBEjtb",
      "metadata": {
        "id": "Al-K1lBBEjtb"
      },
      "source": [
        "### Create a Batch:"
      ]
    },
    {
      "cell_type": "code",
      "execution_count": null,
      "id": "resH3xqeErVv",
      "metadata": {
        "id": "resH3xqeErVv"
      },
      "outputs": [],
      "source": [
        "batch = project.create_batch(\n",
        "  \"first batch\", # Each batch in a project must have a unique name\n",
        "  sample, # A list of data rows or data row ids\n",
        "  5 # priority between 1(Highest) - 5(lowest)\n",
        ")"
      ]
    },
    {
      "cell_type": "code",
      "execution_count": null,
      "id": "gFio7ONOWYdJ",
      "metadata": {
        "id": "gFio7ONOWYdJ"
      },
      "outputs": [],
      "source": [
        "# number of data rows in the batch\n",
        "batch.size"
      ]
    },
    {
      "cell_type": "markdown",
      "id": "8Cj64Isxzpqe",
      "metadata": {
        "id": "8Cj64Isxzpqe"
      },
      "source": [
        "### List DataRows in a Batch\n",
        "Note: You can view your batch through in the *Data rows* tab of the project"
      ]
    },
    {
      "cell_type": "code",
      "execution_count": null,
      "id": "da9dbe1b",
      "metadata": {},
      "outputs": [],
      "source": [
        "data_rows = [dr for dr in batch.export_data_rows()]"
      ]
    },
    {
      "cell_type": "markdown",
      "id": "rU7iddSQzpqg",
      "metadata": {
        "id": "rU7iddSQzpqg"
      },
      "source": [
        "### Remove queued data rows by batch (Not supported yet)\n",
        "Note: You can do this through the batch management pane on the data rows tab of the project"
      ]
    }
  ],
  "metadata": {
    "colab": {
      "collapsed_sections": [],
      "name": "Batches.ipynb",
      "provenance": []
    },
    "kernelspec": {
      "display_name": "Python 3",
      "language": "python",
      "name": "python3"
    },
    "language_info": {
      "codemirror_mode": {
        "name": "ipython",
        "version": 3
      },
      "file_extension": ".py",
      "mimetype": "text/x-python",
      "name": "python",
      "nbconvert_exporter": "python",
      "pygments_lexer": "ipython3",
      "version": "3.8.5"
    }
  },
  "nbformat": 4,
  "nbformat_minor": 5
}
