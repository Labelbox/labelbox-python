{
 "cells": [
  {
   "cell_type": "markdown",
   "id": "narrative-tutorial",
   "metadata": {},
   "source": [
    "# Labels"
   ]
  },
  {
   "cell_type": "markdown",
   "id": "rolled-search",
   "metadata": {},
   "source": [
    "#### *** This section explains how to use the Label object but It is reccomended that you use bulk export for exporting labels *** \n",
    "* Bulk export examples:  https://github.com/Labelbox/labelbox-python/tree/develop/examples/label_export\n",
    "* Label format documentation: https://docs.labelbox.com/data-model/en/index-en#label"
   ]
  },
  {
   "cell_type": "code",
   "execution_count": 1,
   "id": "matched-measurement",
   "metadata": {},
   "outputs": [],
   "source": [
    "!pip install labelbox"
   ]
  },
  {
   "cell_type": "code",
   "execution_count": 2,
   "id": "planned-crime",
   "metadata": {},
   "outputs": [],
   "source": [
    "from labelbox import Client, Label\n",
    "import json\n",
    "import os"
   ]
  },
  {
   "cell_type": "code",
   "execution_count": 3,
   "id": "shaped-particle",
   "metadata": {},
   "outputs": [],
   "source": [
    "# If you don't want to give google access to drive you can skip this cell\n",
    "# and manually set `API_KEY` below.\n",
    "\n",
    "COLAB = \"google.colab\" in str(get_ipython())\n",
    "if COLAB:\n",
    "    !pip install colab-env -qU\n",
    "    from colab_env import envvar_handler\n",
    "    envvar_handler.envload()\n",
    "\n",
    "API_KEY = os.environ.get(\"LABELBOX_API_KEY\")\n",
    "if not os.environ.get(\"LABELBOX_API_KEY\"):\n",
    "    API_KEY = getpass(\"Please enter your labelbox api key\")\n",
    "    if COLAB:\n",
    "        envvar_handler.add_env(\"LABELBOX_API_KEY\", API_KEY)"
   ]
  },
  {
   "cell_type": "markdown",
   "id": "technical-receiver",
   "metadata": {},
   "source": [
    "* Set the following cell with your data to run this notebook"
   ]
  },
  {
   "cell_type": "code",
   "execution_count": 4,
   "id": "featured-copying",
   "metadata": {},
   "outputs": [],
   "source": [
    "# Pick a project that has labels\n",
    "PROJECT_ID = \"ckmdx02yhzsrt0757owj3aprx\"\n",
    "# Only update this if you have an on-prem deployment\n",
    "ENDPOINT = \"https://api.labelbox.com/graphql\""
   ]
  },
  {
   "cell_type": "code",
   "execution_count": 5,
   "id": "presidential-lexington",
   "metadata": {},
   "outputs": [],
   "source": [
    "client = Client(api_key=API_KEY, endpoint=ENDPOINT)\n",
    "project = client.get_project(PROJECT_ID)"
   ]
  },
  {
   "cell_type": "markdown",
   "id": "subject-arrangement",
   "metadata": {},
   "source": [
    "### Read"
   ]
  },
  {
   "cell_type": "code",
   "execution_count": 6,
   "id": "informative-avatar",
   "metadata": {},
   "outputs": [],
   "source": [
    "# Use relationship to get labels\n",
    "labels = project.labels()"
   ]
  },
  {
   "cell_type": "code",
   "execution_count": 7,
   "id": "pretty-palace",
   "metadata": {},
   "outputs": [],
   "source": [
    "# Get the first label in the dataset\n",
    "label = next(labels)"
   ]
  },
  {
   "cell_type": "code",
   "execution_count": 8,
   "id": "reverse-specific",
   "metadata": {},
   "outputs": [
    {
     "data": {
      "text/plain": [
       "<Label ID: ckmg5x88300003g68852nkn25>"
      ]
     },
     "execution_count": 5,
     "metadata": {},
     "output_type": "execute_result"
    }
   ],
   "source": [
    "label"
   ]
  },
  {
   "cell_type": "code",
   "execution_count": 9,
   "id": "funky-universe",
   "metadata": {},
   "outputs": [
    {
     "name": "stdout",
     "output_type": "stream",
     "text": [
      "185.006\n"
     ]
    },
    {
     "data": {
      "text/plain": [
       "{'featureId': 'ckmdx6h0x0h180z9varaf3y0l',\n",
       " 'schemaId': 'ckmdx04do1q3p0y820v1jd5wt',\n",
       " 'title': 'handbag',\n",
       " 'value': 'handbag',\n",
       " 'color': '#7f00ff',\n",
       " 'point': {'x': 502, 'y': 1400},\n",
       " 'instanceURI': 'https://api.labelbox.com/masks/feature/ckmdx6h0x0h180z9varaf3y0l'}"
      ]
     },
     "execution_count": 15,
     "metadata": {},
     "output_type": "execute_result"
    }
   ],
   "source": [
    "# Json result\n",
    "print(label.seconds_to_label)\n",
    "# Print first annotation\n",
    "json.loads(label.label)['objects'][0]\n",
    "# ... any other field supported by a Label"
   ]
  },
  {
   "cell_type": "markdown",
   "id": "willing-addition",
   "metadata": {},
   "source": [
    "See all available fields [here](https://github.com/Labelbox/labelbox-python/blob/develop/labelbox/schema/label.py)"
   ]
  },
  {
   "cell_type": "markdown",
   "id": "individual-blair",
   "metadata": {},
   "source": [
    "### Create"
   ]
  },
  {
   "cell_type": "markdown",
   "id": "pacific-paper",
   "metadata": {},
   "source": [
    "* Create is not supported from the api.\n",
    "* See model assisted upload tutorials for attaching labels to a project"
   ]
  },
  {
   "cell_type": "markdown",
   "id": "still-institution",
   "metadata": {},
   "source": [
    "### Update\n",
    "* We can create reviews and benchmarks for a label"
   ]
  },
  {
   "cell_type": "code",
   "execution_count": 10,
   "id": "treated-polish",
   "metadata": {},
   "outputs": [
    {
     "data": {
      "text/plain": [
       "<Review ID: ckmgdwxs30f470y3gapih1cxs>"
      ]
     },
     "execution_count": 21,
     "metadata": {},
     "output_type": "execute_result"
    }
   ],
   "source": [
    "#### Review\n",
    "label.create_review(score=1)"
   ]
  },
  {
   "cell_type": "code",
   "execution_count": 11,
   "id": "favorite-circus",
   "metadata": {},
   "outputs": [
    {
     "data": {
      "text/plain": [
       "1"
      ]
     },
     "execution_count": 25,
     "metadata": {},
     "output_type": "execute_result"
    }
   ],
   "source": [
    "next(label.reviews()).score"
   ]
  },
  {
   "cell_type": "code",
   "execution_count": 12,
   "id": "editorial-borough",
   "metadata": {},
   "outputs": [
    {
     "data": {
      "text/plain": [
       "<Benchmark ID: ckmgdyyw5b26b07600nz25i1y>"
      ]
     },
     "execution_count": 27,
     "metadata": {},
     "output_type": "execute_result"
    }
   ],
   "source": [
    "# We also can set this label to be a benchmark\n",
    "# Labelers will be compared against this label to determine if they are properly trained\n",
    "label.create_benchmark()"
   ]
  },
  {
   "cell_type": "markdown",
   "id": "representative-flooring",
   "metadata": {},
   "source": [
    "### Delete"
   ]
  },
  {
   "cell_type": "markdown",
   "id": "spiritual-boost",
   "metadata": {},
   "source": [
    "* Grab a list of labels\n",
    "* Either a whole project worth\n",
    "```labels = list(project.labels())```\n",
    "* Or a custom set of labels and bulk delete\n",
    "* ```Label.bulk_delete([labels])```"
   ]
  },
  {
   "cell_type": "markdown",
   "id": "hired-tyler",
   "metadata": {},
   "source": [
    "* Delete a single label with the following\n",
    "* `label.delete()` \n",
    "* This is not reccomended unless you are only deleting a handful. Otherwise use bulk_delete"
   ]
  }
 ],
 "metadata": {
  "kernelspec": {
   "display_name": "Python 3",
   "language": "python",
   "name": "python3"
  },
  "language_info": {
   "codemirror_mode": {
    "name": "ipython",
    "version": 3
   },
   "file_extension": ".py",
   "mimetype": "text/x-python",
   "name": "python",
   "nbconvert_exporter": "python",
   "pygments_lexer": "ipython3",
   "version": "3.8.2"
  }
 },
 "nbformat": 4,
 "nbformat_minor": 5
}
