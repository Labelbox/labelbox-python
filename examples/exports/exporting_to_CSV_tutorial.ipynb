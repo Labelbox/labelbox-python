{
  "cells": [
    {
      "cell_type": "markdown",
      "metadata": {},
      "source": [
        "<td>\n",
        "   <a target=\"_blank\" href=\"https://labelbox.com\" ><img src=\"https://labelbox.com/blog/content/images/2021/02/logo-v4.svg\" width=256/></a>\n",
        "</td>\n"
      ]
    },
    {
      "cell_type": "markdown",
      "metadata": {},
      "source": [
        "<td>\n",
        "<a href=\"https://colab.research.google.com/github/Labelbox/labelbox-python/blob/develop/examples/exports/exporting_to_CSV_tutorial.ipynb\" target=\"_blank\"><img\n",
        "src=\"https://colab.research.google.com/assets/colab-badge.svg\" alt=\"Open In Colab\"></a>\n",
        "</td>\n",
        "\n",
        "<td>\n",
        "<a href=\"https://github.com/Labelbox/labelbox-python/tree/develop/examples/exports/exporting_to_CSV_tutorial.ipynb\" target=\"_blank\"><img\n",
        "src=\"https://img.shields.io/badge/GitHub-100000?logo=github&logoColor=white\" alt=\"GitHub\"></a>\n",
        "</td>"
      ]
    },
    {
      "cell_type": "markdown",
      "metadata": {},
      "source": [
        "# Export to CSV or Pandas Format\n",
        "\n",
        "This notebook serves as a simplified How-To guide and provides examples of converting Labelbox export JSON to a CSV and [Pandas](https://github.com/Labelbox/labelpandas) friendly format.  "
      ]
    },
    {
      "cell_type": "markdown",
      "metadata": {},
      "source": [
        "## Advance Approach\n",
        "\n",
        "For a more abstracted approach please visit our [LabelPandas](https://github.com/Labelbox/labelpandas) library. You can use this library to abstract the steps that are about to be shown. In addition, this library support importing CSV data. \n",
        "\n",
        "We strongly encourage collaboration - please free to fork this repo and tweak the code base to work for you own data, and make pull requests if you have suggestions on how to enhance the overall experience, add new features, or improve general performance."
      ]
    },
    {
      "cell_type": "markdown",
      "metadata": {},
      "source": [
        "## Set Up"
      ]
    },
    {
      "cell_type": "code",
      "execution_count": 17,
      "metadata": {},
      "outputs": [
        {
          "name": "stdout",
          "output_type": "stream",
          "text": [
            "\n",
            "\u001b[1m[\u001b[0m\u001b[34;49mnotice\u001b[0m\u001b[1;39;49m]\u001b[0m\u001b[39;49m A new release of pip is available: \u001b[0m\u001b[31;49m23.0.1\u001b[0m\u001b[39;49m -> \u001b[0m\u001b[32;49m24.0\u001b[0m\n",
            "\u001b[1m[\u001b[0m\u001b[34;49mnotice\u001b[0m\u001b[1;39;49m]\u001b[0m\u001b[39;49m To update, run: \u001b[0m\u001b[32;49mpip install --upgrade pip\u001b[0m\n",
            "Note: you may need to restart the kernel to use updated packages.\n",
            "\n",
            "\u001b[1m[\u001b[0m\u001b[34;49mnotice\u001b[0m\u001b[1;39;49m]\u001b[0m\u001b[39;49m A new release of pip is available: \u001b[0m\u001b[31;49m23.0.1\u001b[0m\u001b[39;49m -> \u001b[0m\u001b[32;49m24.0\u001b[0m\n",
            "\u001b[1m[\u001b[0m\u001b[34;49mnotice\u001b[0m\u001b[1;39;49m]\u001b[0m\u001b[39;49m To update, run: \u001b[0m\u001b[32;49mpip install --upgrade pip\u001b[0m\n",
            "Note: you may need to restart the kernel to use updated packages.\n"
          ]
        }
      ],
      "source": [
        "%pip install -q --upgrade \"Labelbox[data]\"\n",
        "%pip install -q pandas"
      ]
    },
    {
      "cell_type": "code",
      "execution_count": 18,
      "metadata": {},
      "outputs": [],
      "source": [
        "import labelbox as lb\n",
        "import labelbox.types as lb_types\n",
        "import uuid\n",
        "import csv\n",
        "import pandas"
      ]
    },
    {
      "cell_type": "markdown",
      "metadata": {},
      "source": [
        "## API Key and Client\n",
        "Provide a valid API key below to connect to the Labelbox client properly. For more information, please review the [Create API Key](https://docs.labelbox.com/reference/create-api-key) guide."
      ]
    },
    {
      "cell_type": "code",
      "execution_count": 19,
      "metadata": {},
      "outputs": [],
      "source": [
        "API_KEY = None\n",
        "client = lb.Client(api_key=API_KEY)"
      ]
    },
    {
      "cell_type": "markdown",
      "metadata": {},
      "source": [
        "## Create/Select Example Project\n",
        "\n",
        "The below steps will setup a project that can be used for this demo. Please feel free to comment out the below code block and uncomment the code block to receive your own project directly. For more information on this set up visit our quick start guide."
      ]
    },
    {
      "cell_type": "markdown",
      "metadata": {},
      "source": [
        "### Create Project"
      ]
    },
    {
      "cell_type": "code",
      "execution_count": 20,
      "metadata": {},
      "outputs": [
        {
          "name": "stdout",
          "output_type": "stream",
          "text": [
            "Errors: None\n",
            "Failed data rows: None\n",
            "Batch: <Batch {\n",
            "    \"consensus_settings_json\": \"{\\\"numberOfLabels\\\":1,\\\"coveragePercentage\\\":0}\",\n",
            "    \"created_at\": \"2024-06-03 12:11:18+00:00\",\n",
            "    \"name\": \"image-demo-batch\",\n",
            "    \"size\": 1,\n",
            "    \"uid\": \"621533f0-21a2-11ef-a157-aba0c2cf595f\",\n",
            "    \"updated_at\": \"2024-06-03 12:11:18+00:00\"\n",
            "}>\n",
            "Errors: []\n",
            "Status of uploads:  [{'uuid': '27ec3cab-543b-43fa-b9e2-edca4b57c3ed', 'dataRow': {'id': 'clwyxjdbw2hor0887c048u5tx', 'globalKey': 'bc378cff-33fa-4732-8cf8-089d7f0c9361'}, 'status': 'SUCCESS'}, {'uuid': '45306e29-cd9c-43de-8aaf-8a639f3e2a5d', 'dataRow': {'id': 'clwyxjdbw2hor0887c048u5tx', 'globalKey': 'bc378cff-33fa-4732-8cf8-089d7f0c9361'}, 'status': 'SUCCESS'}, {'uuid': 'ebb06054-274b-465d-a684-07ee32bf4b50', 'dataRow': {'id': 'clwyxjdbw2hor0887c048u5tx', 'globalKey': 'bc378cff-33fa-4732-8cf8-089d7f0c9361'}, 'status': 'SUCCESS'}, {'uuid': 'e9d0197b-7852-431e-8d60-46d379708091', 'dataRow': {'id': 'clwyxjdbw2hor0887c048u5tx', 'globalKey': 'bc378cff-33fa-4732-8cf8-089d7f0c9361'}, 'status': 'SUCCESS'}, {'uuid': 'd8f5aed6-e2af-4996-95ad-cf0aed7f99b2', 'dataRow': {'id': 'clwyxjdbw2hor0887c048u5tx', 'globalKey': 'bc378cff-33fa-4732-8cf8-089d7f0c9361'}, 'status': 'SUCCESS'}]\n"
          ]
        }
      ],
      "source": [
        "# Create dataset with image data row\n",
        "global_key = str(uuid.uuid4())\n",
        "\n",
        "test_img_url = {\n",
        "    \"row_data\":\n",
        "        \"https://storage.googleapis.com/labelbox-datasets/image_sample_data/2560px-Kitano_Street_Kobe01s5s4110.jpeg\",\n",
        "    \"global_key\":\n",
        "        global_key,\n",
        "}\n",
        "\n",
        "dataset = client.create_dataset(name=\"image-demo-dataset\")\n",
        "task = dataset.create_data_rows([test_img_url])\n",
        "task.wait_till_done()\n",
        "print(\"Errors:\", task.errors)\n",
        "print(\"Failed data rows:\", task.failed_data_rows)\n",
        "\n",
        "# Create ontology\n",
        "ontology_builder = lb.OntologyBuilder(\n",
        "    classifications=[  # List of Classification objects\n",
        "        lb.Classification(\n",
        "            class_type=lb.Classification.Type.RADIO,\n",
        "            name=\"radio_question\",\n",
        "            options=[\n",
        "                lb.Option(value=\"first_radio_answer\"),\n",
        "                lb.Option(value=\"second_radio_answer\"),\n",
        "            ],\n",
        "        ),\n",
        "        lb.Classification(\n",
        "            class_type=lb.Classification.Type.CHECKLIST,\n",
        "            name=\"checklist_question\",\n",
        "            options=[\n",
        "                lb.Option(value=\"first_checklist_answer\"),\n",
        "                lb.Option(value=\"second_checklist_answer\"),\n",
        "            ],\n",
        "        ),\n",
        "        lb.Classification(class_type=lb.Classification.Type.TEXT,\n",
        "                          name=\"free_text\"),\n",
        "        lb.Classification(\n",
        "            class_type=lb.Classification.Type.RADIO,\n",
        "            name=\"nested_radio_question\",\n",
        "            options=[\n",
        "                lb.Option(\n",
        "                    \"first_radio_answer\",\n",
        "                    options=[\n",
        "                        lb.Classification(\n",
        "                            class_type=lb.Classification.Type.RADIO,\n",
        "                            name=\"sub_radio_question\",\n",
        "                            options=[lb.Option(\"first_sub_radio_answer\")],\n",
        "                        )\n",
        "                    ],\n",
        "                )\n",
        "            ],\n",
        "        ),\n",
        "    ],\n",
        "    tools=[  # List of Tool objects\n",
        "        lb.Tool(tool=lb.Tool.Type.BBOX, name=\"bounding_box\"),\n",
        "        lb.Tool(\n",
        "            tool=lb.Tool.Type.BBOX,\n",
        "            name=\"bbox_with_radio_subclass\",\n",
        "            classifications=[\n",
        "                lb.Classification(\n",
        "                    class_type=lb.Classification.Type.RADIO,\n",
        "                    name=\"sub_radio_question\",\n",
        "                    options=[lb.Option(value=\"first_sub_radio_answer\")],\n",
        "                ),\n",
        "            ],\n",
        "        ),\n",
        "    ],\n",
        ")\n",
        "\n",
        "ontology = client.create_ontology(\n",
        "    \"Image CSV Demo Ontology\",\n",
        "    ontology_builder.asdict(),\n",
        "    media_type=lb.MediaType.Image,\n",
        ")\n",
        "\n",
        "# Set up project and connect ontology\n",
        "project = client.create_project(name=\"Image Annotation Import Demo\",\n",
        "                                media_type=lb.MediaType.Image)\n",
        "project.setup_editor(ontology)\n",
        "\n",
        "# Send data row towards our project\n",
        "batch = project.create_batch(\n",
        "    \"image-demo-batch\",\n",
        "    global_keys=[\n",
        "        global_key\n",
        "    ],  # paginated collection of data row objects, list of data row ids or global keys\n",
        "    priority=1,\n",
        ")\n",
        "\n",
        "print(f\"Batch: {batch}\")\n",
        "\n",
        "# Create a label and imported it towards our project\n",
        "radio_annotation = lb_types.ClassificationAnnotation(\n",
        "    name=\"radio_question\",\n",
        "    value=lb_types.Radio(answer=lb_types.ClassificationAnswer(\n",
        "        name=\"second_radio_answer\")),\n",
        ")\n",
        "checklist_annotation = lb_types.ClassificationAnnotation(\n",
        "    name=\"checklist_question\",\n",
        "    value=lb_types.Checklist(answer=[\n",
        "        lb_types.ClassificationAnswer(name=\"first_checklist_answer\"),\n",
        "        lb_types.ClassificationAnswer(name=\"second_checklist_answer\"),\n",
        "    ]),\n",
        ")\n",
        "text_annotation = lb_types.ClassificationAnnotation(\n",
        "    name=\"free_text\",\n",
        "    value=lb_types.Text(answer=\"sample text\"),\n",
        ")\n",
        "nested_radio_annotation = lb_types.ClassificationAnnotation(\n",
        "    name=\"nested_radio_question\",\n",
        "    value=lb_types.Radio(answer=lb_types.ClassificationAnswer(\n",
        "        name=\"first_radio_answer\",\n",
        "        classifications=[\n",
        "            lb_types.ClassificationAnnotation(\n",
        "                name=\"sub_radio_question\",\n",
        "                value=lb_types.Radio(answer=lb_types.ClassificationAnswer(\n",
        "                    name=\"first_sub_radio_answer\")),\n",
        "            )\n",
        "        ],\n",
        "    )),\n",
        ")\n",
        "bbox_annotation = lb_types.ObjectAnnotation(\n",
        "    name=\"bounding_box\",\n",
        "    value=lb_types.Rectangle(\n",
        "        start=lb_types.Point(x=1690, y=977),\n",
        "        end=lb_types.Point(x=1915, y=1307),\n",
        "    ),\n",
        ")\n",
        "\n",
        "label = []\n",
        "annotations = [\n",
        "    radio_annotation,\n",
        "    nested_radio_annotation,\n",
        "    checklist_annotation,\n",
        "    text_annotation,\n",
        "    bbox_annotation,\n",
        "]\n",
        "\n",
        "label.append(\n",
        "    lb_types.Label(data={\"global_key\": global_key}, annotations=annotations))\n",
        "\n",
        "upload_job = lb.LabelImport.create_from_objects(\n",
        "    client=client,\n",
        "    project_id=project.uid,\n",
        "    name=\"label_import_job\" + str(uuid.uuid4()),\n",
        "    labels=label,\n",
        ")\n",
        "\n",
        "upload_job.wait_until_done()\n",
        "print(\"Errors:\", upload_job.errors)\n",
        "print(\"Status of uploads: \", upload_job.statuses)"
      ]
    },
    {
      "cell_type": "markdown",
      "metadata": {},
      "source": [
        "### Select Project"
      ]
    },
    {
      "cell_type": "code",
      "execution_count": 21,
      "metadata": {},
      "outputs": [],
      "source": [
        "# PROJECT_ID = None\n",
        "# project = client.get_project(PROJECT_ID)"
      ]
    },
    {
      "cell_type": "markdown",
      "metadata": {},
      "source": [
        "## CSV Format Overview\n",
        "\n",
        "In order to convert our Labelbox JSON data to a format more CSV friendly, we must first define the needed structure of our JSON. A common format that is versatile for both the built-in Python CSV writer and Pandas is as follows: \n",
        "\n",
        "```python\n",
        "[\n",
        "    {\"<column_1>\":\"<answer_1\", \"<column_2>\":\"<answer_2\" ..},\n",
        "    \n",
        "    {\"<column_1>\":\"<answer_1\", \"<column_2>\":\"<answer_2\" ..},\n",
        "    ..\n",
        "]\n",
        "```\n",
        "\n",
        "Essentially, we need to get our JSON data towards a list of Python dictionaries with each Python dictionary representing one row, each key representing a column and each value being an individual cell of our CSV table. Once we have our data to this format it is trivial to create Pandas DataFrames or write our CSV file. The tricky part is getting Labelbox export JSON towards this format."
      ]
    },
    {
      "cell_type": "markdown",
      "metadata": {},
      "source": [
        "## Labelbox JSON Format\n",
        "\n",
        "Labelbox JSON format is centralized at the individual data row of your export. This format allows expandability when things evolve and provides a centralized view of fields such as metadata or data row details. The main labels are located inside the projects key and can be nested which can make it difficult to parse. For complete samples of our project export format visit our export quick reference page. \n",
        "\n",
        "To get Labelbox export JSON format to our CSV format we established, we must do the following:\n",
        "\n",
        "1. Establish our base data row columns (project_id, data_row_id, global_key etc)\n",
        "2. Create our columns for label fields (label detail and annotations we care about)\n",
        "3. Define our functions and strategy used to parse through our data\n",
        "4. Export our data\n",
        "5. Navigate to the label level of each data row\n",
        "6. Include any objects or tools in our format\n",
        "7. Deal with nested classifications "
      ]
    },
    {
      "cell_type": "markdown",
      "metadata": {},
      "source": [
        "## Step 1: Establish our Base Columns\n",
        "\n",
        "We first establish our base columns that typically represent individual data row details. Typically, this columns information can be received from within one or two levels of a Labelbox export per data row. \n",
        "\n",
        "Please feel free to modify the below columns if you want to include more. You will need to update the code later in this guide to pick up any additional columns."
      ]
    },
    {
      "cell_type": "code",
      "execution_count": 22,
      "metadata": {},
      "outputs": [],
      "source": [
        "data_row_base_columns = [\n",
        "    \"Data Row ID\",\n",
        "    \"Global Key\",\n",
        "    \"External ID\",\n",
        "    \"Project ID\",\n",
        "]"
      ]
    },
    {
      "cell_type": "markdown",
      "metadata": {},
      "source": [
        "## Step 2: Create our Columns for Label Fields\n",
        "\n",
        "In this step, we first start by defining our label details base columns we want to include in our CSV. In this case, we will use the following:"
      ]
    },
    {
      "cell_type": "code",
      "execution_count": 23,
      "metadata": {},
      "outputs": [],
      "source": [
        "label_base_columns = [\"Label ID\", \"Created By\", \"Skipped\"]"
      ]
    },
    {
      "cell_type": "markdown",
      "metadata": {},
      "source": [
        "We then need to obtain the annotation we want to include in our columns. The order of our list matters since that is the order of what our columns will be presented. You can approach getting the annotations in a list in a number of ways including hard defining the columns. For the sack of simplicity our column names for our annotations needs to match the name of the actual feature of our export data. If you wish to have the column names defined differently you will have to do some type of mapping. In the code below, I will be recursively going through the ontology we created to get our column names based on the name of the features. In the next step of this guide we will provide more information on recursion in context of parsing through JSON or Python dictionaries."
      ]
    },
    {
      "cell_type": "code",
      "execution_count": 24,
      "metadata": {},
      "outputs": [],
      "source": [
        "def get_classification_features(classifications: list, class_list=[]) -> None:\n",
        "    \"\"\"Finds classification features inside an ontology recursively and returns them in a list\"\"\"\n",
        "    for classification in classifications:\n",
        "        if \"name\" in classification:\n",
        "            class_list.append(classification[\"instructions\"])\n",
        "        if \"options\" in classification:\n",
        "            get_classification_features(classification[\"options\"], class_list)\n",
        "    return class_list\n",
        "\n",
        "\n",
        "def get_tool_features(tools: list) -> None:\n",
        "    \"\"\"Creates list of tool names from ontology\"\"\"\n",
        "    tool_list = []\n",
        "    for tool in tools:\n",
        "        tool_list.append(tool[\"name\"])\n",
        "    return tool_list"
      ]
    },
    {
      "cell_type": "code",
      "execution_count": 25,
      "metadata": {},
      "outputs": [],
      "source": [
        "# Get ontology from project and normalized towards python dictionary\n",
        "ontology = project.ontology().normalized\n",
        "\n",
        "class_annotation_columns = get_classification_features(\n",
        "    ontology[\"classifications\"])\n",
        "\n",
        "tool_annotation_columns = get_tool_features(ontology[\"tools\"])"
      ]
    },
    {
      "cell_type": "markdown",
      "metadata": {},
      "source": [
        "## Step 3: Define our Functions and Strategy used to Parse through our Data\n",
        "\n",
        "Now that we have our columns defined we need to come up with a strategy of navigating our export data. Review this [sample export](https://docs.labelbox.com/reference/export-image-annotations#sample-project-export) to follow along. While creating our columns it is always best to first check if a key exists in your data row before populating a column this is especially import for optional fields. In this demo, we will populate the value `None` for anything not present which will result in a blank cell our our CSV.\n"
      ]
    },
    {
      "cell_type": "markdown",
      "metadata": {},
      "source": [
        "### Data Row Detail Base Columns\n",
        "The data row details can be access within a depth of one or two keys. Below is a function we will use the access the columns we defined. The parameters are the data row itself, dictionary row that will be used to make our list and our base columns list."
      ]
    },
    {
      "cell_type": "code",
      "execution_count": null,
      "metadata": {},
      "outputs": [],
      "source": [
        "def get_base_data_row_columns(data_row: dict[str:str], csv_row: dict[str:str], base_columns: list[str]) -> dict[str:str]:\n",
        "    for base_column in base_columns:\n",
        "        if base_column == \"Data Row ID\":\n",
        "            csv_row[base_column] = data_row[\"data_row\"][\"id\"]\n",
        "            \n",
        "        elif base_column == \"Global Key\":\n",
        "            if \"global_key\" in data_row[\"data_row\"]: # Check if global key exists\n",
        "                csv_row[base_column] = data_row[\"data_row\"][\"global_key\"]\n",
        "            else: \n",
        "                csv_row[base_column] = None # If global key does not exist on data row set cell to None. This will create a blank cell on your csv\n",
        "                \n",
        "        elif base_column == \"External ID\":\n",
        "            if \"external_id\" in data_row[\"data_row\"]: # Check if external_id exists\n",
        "                csv_row[base_column] = data_row[\"data_row\"][\"external_id\"]\n",
        "            else:\n",
        "                csv_row[base_column] = None # If external id does not exist on data row set cell to None. This will create a blank cell on your csv\n",
        "                \n",
        "        elif base_column == \"Project ID\":\n",
        "            csv_row[\"projects\"] = project.uid\n",
        "    return csv_row"
      ]
    },
    {
      "cell_type": "markdown",
      "metadata": {},
      "source": [
        "### Label Detail Base Columns\n",
        "The label details are similar to data row details but they exist at a label level of our export. Later in the guide we will demonstrate how to get our exported data row at this level. The function below shows the process of obtaining the details we defined above. The parameters are the label, the dictionary row that we will be modifying and the label detail column list we created."
      ]
    },
    {
      "cell_type": "code",
      "execution_count": null,
      "metadata": {},
      "outputs": [],
      "source": [
        "def get_base_label_columns(label: dict[str:str], csv_row: dict[str:str], label_base_columns: list[str]) -> dict[str:str]:\n",
        "    for label_base_column in label_base_columns:\n",
        "        if label_base_column == \"Label ID\":\n",
        "            csv_row[\"label_base_columns\"] = label[\"id\"]\n",
        "            \n",
        "        elif label_base_columns == \"Created By\":\n",
        "            if \"label_details\" in label: # Check if label details is present. This field can be omitted in export\n",
        "                csv_row[\"created_by\"] = label_base_columns[\"label_details\"][\"created_by\"]\n",
        "            else:\n",
        "                csv_row[\"created_by\"] = None\n",
        "                \n",
        "        elif label_base_column == \"Skipped\":\n",
        "            if \"performance_details\" in label: # Check if performance details are present. This field can be omitted in export. \n",
        "                csv_row[\"Skipped\"] = label[\"performance_details\"][\"skipped\"]\n",
        "            else:\n",
        "                csv_row[\"Skipped\"] = None\n",
        "                \n",
        "    return csv_row"
      ]
    },
    {
      "cell_type": "markdown",
      "metadata": {},
      "source": [
        "### Label Annotation Columns\n",
        "The label annotations are the final columns we will need to obtain. The approach of obtaining these fields are more challenging then the approach we made for our detail columns. If we attempt to obtain the fields with conditional statements and hard defined paths we will quickly run into issues as each label can have annotations in different orders or annotations can be at different depths or not present at all. This will quickly create a mess especially when we want our methods to work for more then one ontology. The best and cleanest way of obtaining these annotations inside our export data is through recursive function.\n",
        "\n",
        "#### Recursion\n",
        "A recursive function can be defined as a routine that calls itself directly or indirectly. They solve a problems by solving smaller instances of the same problem. This technique is commonly used in programming to solve problems that can be broken down into simpler, similar subproblem. Our sub problem in this case is obtaining the each individual annotations. A recursive function is divided into two components:\n",
        "\n",
        "- *Base case:* This is a termination condition that prevents the function from calling itself indefinitely.\n",
        "\n",
        "- *Recursive case:* In the recursive case, the function calls itself with the modified arguments. The recursive case should move closer to the base case with each iteration.\n",
        "\n"
      ]
    },
    {
      "cell_type": "code",
      "execution_count": 27,
      "metadata": {},
      "outputs": [
        {
          "name": "stdout",
          "output_type": "stream",
          "text": [
            "{'data_row': {'global_key': 'bc378cff-33fa-4732-8cf8-089d7f0c9361',\n",
            "            'id': 'clwyxjdbw2hor0887c048u5tx',\n",
            "            'row_data': 'https://storage.googleapis.com/labelbox-datasets/image_sample_data/2560px-Kitano_Street_Kobe01s5s4110.jpeg'},\n",
            "'media_attributes': {'asset_type': 'image',\n",
            "                    'exif_rotation': '1',\n",
            "                    'height': 1707,\n",
            "                    'mime_type': 'image/jpeg',\n",
            "                    'width': 2560},\n",
            "'projects': {'clwyxjn8e00fy07y3du1zc098': {'labels': [{'annotations': {'classifications': [{'feature_id': 'clwyxjvs81o1p146z44vajhz3',\n",
            "                                                                                     'feature_schema_id': 'clwyxjmcl04q6070ogcg3hbw8',\n",
            "                                                                                     'name': 'radio_question',\n",
            "                                                                                     'radio_answer': {'classifications': [],\n",
            "                                                                                                     'feature_id': 'clwyxjvs81o1q146zm1t53z5s',\n",
            "                                                                                                     'feature_schema_id': 'clwyxjmcm04q9070o770ugbs9',\n",
            "                                                                                                     'name': 'second_radio_answer',\n",
            "                                                                                                     'value': 'second_radio_answer'},\n",
            "                                                                                     'value': 'radio_question'},\n",
            "                                                                                     {'feature_id': 'clwyxjvs81o1r146zhs52cqt4',\n",
            "                                                                                     'feature_schema_id': 'clwyxjmcm04qk070o274mcxb0',\n",
            "                                                                                     'name': 'nested_radio_question',\n",
            "                                                                                     'radio_answer': {'classifications': [{'feature_id': 'clwyxjvs91o1t146zr9elenjp',\n",
            "                                                                                                                        'feature_schema_id': 'clwyxjmcm04qm070oghza8ov8',\n",
            "                                                                                                                        'name': 'sub_radio_question',\n",
            "                                                                                                                        'radio_answer': {'classifications': [],\n",
            "                                                                                                                                        'feature_id': 'clwyxjvs91o1u146z9yu22lc0',\n",
            "                                                                                                                                        'feature_schema_id': 'clwyxjmcm04qn070o3jwsg124',\n",
            "                                                                                                                                        'name': 'first_sub_radio_answer',\n",
            "                                                                                                                                        'value': 'first_sub_radio_answer'},\n",
            "                                                                                                                        'value': 'sub_radio_question'}],\n",
            "                                                                                                     'feature_id': 'clwyxjvs81o1s146z9w2dclpt',\n",
            "                                                                                                     'feature_schema_id': 'clwyxjmcm04ql070ob2ryerhi',\n",
            "                                                                                                     'name': 'first_radio_answer',\n",
            "                                                                                                     'value': 'first_radio_answer'},\n",
            "                                                                                     'value': 'nested_radio_question'},\n",
            "                                                                                     {'checklist_answers': [{'classifications': [],\n",
            "                                                                                                          'feature_id': 'clwyxjvs91o1w146z2p2z9kjr',\n",
            "                                                                                                          'feature_schema_id': 'clwyxjmcm04qd070oe1kqe4ca',\n",
            "                                                                                                          'name': 'first_checklist_answer',\n",
            "                                                                                                          'value': 'first_checklist_answer'},\n",
            "                                                                                                          {'classifications': [],\n",
            "                                                                                                          'feature_id': 'clwyxjvs91o1x146zexiz71ye',\n",
            "                                                                                                          'feature_schema_id': 'clwyxjmcm04qf070ob0z7447i',\n",
            "                                                                                                          'name': 'second_checklist_answer',\n",
            "                                                                                                          'value': 'second_checklist_answer'}],\n",
            "                                                                                     'feature_id': 'clwyxjvs91o1v146ziaryt0ok',\n",
            "                                                                                     'feature_schema_id': 'clwyxjmcm04qc070o55hy1wn9',\n",
            "                                                                                     'name': 'checklist_question',\n",
            "                                                                                     'value': 'checklist_question'},\n",
            "                                                                                     {'feature_id': 'clwyxjvs91o1y146z6dn2ny88',\n",
            "                                                                                     'feature_schema_id': 'clwyxjmcm04qi070o98dffex7',\n",
            "                                                                                     'name': 'free_text',\n",
            "                                                                                     'text_answer': {'content': 'sample '\n",
            "                                                                                                               'text'},\n",
            "                                                                                     'value': 'free_text'}],\n",
            "                                                                  'objects': [{'annotation_kind': 'ImageBoundingBox',\n",
            "                                                                             'bounding_box': {'height': 330.0,\n",
            "                                                                                             'left': 1690.0,\n",
            "                                                                                             'top': 977.0,\n",
            "                                                                                             'width': 225.0},\n",
            "                                                                             'classifications': [],\n",
            "                                                                             'feature_id': 'clwyxjvs91o1z146zceiaq2wt',\n",
            "                                                                             'feature_schema_id': 'clwyxjmcl04py070o0miig1pk',\n",
            "                                                                             'name': 'bounding_box',\n",
            "                                                                             'value': 'bounding_box'}],\n",
            "                                                                  'relationships': []},\n",
            "                                                   'id': 'clwyxjvsm1o20146z3i5tff6s',\n",
            "                                                   'label_kind': 'Default',\n",
            "                                                   'version': '1.0.0'}],\n",
            "                                         'name': 'Image Annotation Import Demo',\n",
            "                                         'project_tags': []}}}\n"
          ]
        }
      ],
      "source": [
        "from pprint import pprint\n",
        "\n",
        "export_task = project.export()\n",
        "export_task.wait_till_done()\n",
        "\n",
        "stream = export_task.get_buffered_stream()\n",
        "\n",
        "if export_task.has_result():\n",
        "\n",
        "    for data_row in stream:\n",
        "        pprint(data_row.json, indent=0.5)"
      ]
    }
  ],
  "metadata": {
    "language_info": {
      "name": "python"
    }
  },
  "nbformat": 4,
  "nbformat_minor": 2
}
