{
  "nbformat": 4,
  "nbformat_minor": 0,
  "metadata": {},
  "cells": [
    {
      "metadata": {},
      "source": [
        "#We recommend using Databricks Secrets API to create a variable for your Labelbox API Key, but if you do not have access to the Secrets API you can use this notebook template to store your API key in a separate notebook. Be sure to include in gitignore to avoid committing your API key to Git. \n\napi_key = \"Paste your Labelbox API key here\"\n\ndbutils.notebook.exit(api_key) #returns api_key if you call this notebook via a notebook workflow\n\n###example code for notebook workflow w/ dbutils will get api_key from notebook \"api_key\"\n# try: API_KEY\n# except NameError: \n#   API_KEY = dbutils.notebook.run(\"api_key\", 60) \n\n\n"
      ],
      "cell_type": "code",
      "outputs": [],
      "execution_count": null
    }
  ]
}